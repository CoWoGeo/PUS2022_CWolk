{
  "nbformat": 4,
  "nbformat_minor": 0,
  "metadata": {
    "colab": {
      "provenance": [],
      "include_colab_link": true
    },
    "kernelspec": {
      "name": "python3",
      "display_name": "Python 3"
    }
  },
  "cells": [
    {
      "cell_type": "markdown",
      "metadata": {
        "id": "view-in-github",
        "colab_type": "text"
      },
      "source": [
        "<a href=\"https://colab.research.google.com/github/CoWoGeo/PUS2022_CWolk/blob/main/HW6/HW6_RandomForestsChicago.ipynb\" target=\"_parent\"><img src=\"https://colab.research.google.com/assets/colab-badge.svg\" alt=\"Open In Colab\"/></a>"
      ]
    },
    {
      "cell_type": "markdown",
      "metadata": {
        "id": "KW9Oy459fxHz"
      },
      "source": [
        "*Following the paper \"Examining the feasibility of using open data to benchmark building energy usage in cities: A data science and policy perspective\" [Roth et al 2019](https://www.researchgate.net/publication/337074109_Examining_the_feasibility_of_using_open_data_to_benchmark_building_energy_usage_in_cities_A_data_science_and_policy_perspective), choose 2 cities in the dataset available through the paper's github repository https://github.com/Urban-Informatics-Lab/Open-Data-Benchmarking\n",
        "\n",
        "This paper is an excellent example of reproducible research. \n",
        "\n",
        "I also created an example of using random forest classifier and regressors here https://github.com/fedhere/PUS2022_FBianco/blob/master/classdemo/COVID19LOS_featureExtractionRFexample.ipynb and there are links at the bottom of this notebook to useful functions and examples on the internet of applications of methods you will need to use.\n",
        "\n",
        "1. Read the introduction to the paper and describe here (briefly) the goals of their analysis (and the analysis that you are about to reproduce). Max 200 words.\n",
        "*2. Choose 2 cities (any 2 cities except Seattle cause I am running some of the Seattle analysis below for guidance)\n",
        "3. For each of the 2 cities reproduce their analysis by \n",
        "\n",
        "  3.1 gathering the original data from their repository (see below for Seattle example)\n",
        "\n",
        "  3.2 clean the data according to their data preparation scheme, including one-hot-encoding categorical variables, except to impute missing data using KNearestNeighors instead of Gibbs sampling (see below)\n",
        "\n",
        "  3.3 run a Random Forest (RF) Regressor to predict the total energy consumption.\n",
        "\n",
        "  3.4 evaluate the RF model performance by printing the R2 score (the default score in SKLearn RF) for training and test set (discuss)\n",
        "\n",
        "  3.5 plot the features sorted by their importance and identify the most important features. are they consistent between the 2 cities? are they consistent with the paper's result?\n",
        "4 compare the result for the 2 cities (discuss)"
      ]
    },
    {
      "cell_type": "code",
      "source": [
        "import pylab as plt"
      ],
      "metadata": {
        "id": "xPmPHFuyB8aX"
      },
      "execution_count": null,
      "outputs": []
    },
    {
      "cell_type": "code",
      "metadata": {
        "id": "EVupHHIYHuUK"
      },
      "source": [
        "import pandas as pd\n",
        "import numpy as np"
      ],
      "execution_count": null,
      "outputs": []
    },
    {
      "cell_type": "markdown",
      "metadata": {
        "id": "5Wia-RaAXtJC"
      },
      "source": [
        "# Reading in Chicago Data"
      ]
    },
    {
      "cell_type": "code",
      "metadata": {
        "id": "hmVzVH0dHwP1"
      },
      "source": [
        "chicago = pd.read_csv(\"https://raw.githubusercontent.com/Urban-Informatics-Lab/Open-Data-Benchmarking/master/Chicago/Chicago_Energy_Benchmarking_-_2016_Data_Reported_in_2017.csv\")"
      ],
      "execution_count": null,
      "outputs": []
    },
    {
      "cell_type": "markdown",
      "metadata": {
        "id": "2U-1HZY2Xodw"
      },
      "source": [
        "# Inspecting the dataframe"
      ]
    },
    {
      "cell_type": "code",
      "source": [
        "print(\"there are (rows, columns) = \", (chicago.shape), \"in the dataframe\")"
      ],
      "metadata": {
        "colab": {
          "base_uri": "https://localhost:8080/"
        },
        "id": "DRht35FE95Ar",
        "outputId": "abd6050e-aa9b-48b2-ddca-f0de1c148a08"
      },
      "execution_count": null,
      "outputs": [
        {
          "output_type": "stream",
          "name": "stdout",
          "text": [
            "there are (rows, columns) =  (2717, 25) in the dataframe\n"
          ]
        }
      ]
    },
    {
      "cell_type": "markdown",
      "source": [
        "Fewer columns than in the Seattle example!"
      ],
      "metadata": {
        "id": "53ll9lVgInEv"
      }
    },
    {
      "cell_type": "code",
      "metadata": {
        "id": "aqrv8eULHxte",
        "outputId": "ad58c286-1660-4bb5-c9b2-6f5e0c91c084",
        "colab": {
          "base_uri": "https://localhost:8080/",
          "height": 433
        }
      },
      "source": [
        "chicago.describe()"
      ],
      "execution_count": null,
      "outputs": [
        {
          "output_type": "execute_result",
          "data": {
            "text/plain": [
              "       Data Year             ID  Gross Floor Area - Buildings (sq ft)  \\\n",
              "count     2717.0    2717.000000                          2.717000e+03   \n",
              "mean      2016.0  184277.504233                          2.444146e+05   \n",
              "std          0.0   59795.814503                          3.956004e+05   \n",
              "min       2016.0  100001.000000                          5.000000e+04   \n",
              "25%       2016.0  120518.000000                          7.491000e+04   \n",
              "50%       2016.0  173702.000000                          1.229450e+05   \n",
              "75%       2016.0  251346.000000                          2.520760e+05   \n",
              "max       2016.0  260184.000000                          9.245333e+06   \n",
              "\n",
              "        Year Built  # of Buildings  ENERGY STAR Score  Electricity Use (kBtu)  \\\n",
              "count  2712.000000     2717.000000        2300.000000            2.691000e+03   \n",
              "mean   1962.731932        1.408907          60.012609            1.081069e+07   \n",
              "std      36.324819        5.181418          28.350327            2.502301e+07   \n",
              "min    1872.000000        1.000000           1.000000            5.028900e+03   \n",
              "25%    1927.750000        1.000000          38.000000            1.948236e+06   \n",
              "50%    1969.000000        1.000000          65.000000            4.035714e+06   \n",
              "75%    1997.000000        1.000000          84.000000            9.735142e+06   \n",
              "max    2016.000000      236.000000         100.000000            4.857050e+08   \n",
              "\n",
              "       Natural Gas Use (kBtu)  District Steam Use (kBtu)  \\\n",
              "count            2.478000e+03               6.700000e+01   \n",
              "mean             1.191014e+07               2.797624e+07   \n",
              "std              2.785050e+07               5.054843e+07   \n",
              "min              1.284000e+03              -1.714850e+07   \n",
              "25%              3.213429e+06               6.435511e+06   \n",
              "50%              5.585163e+06               1.343250e+07   \n",
              "75%              1.191968e+07               2.439484e+07   \n",
              "max              5.493302e+08               3.575457e+08   \n",
              "\n",
              "       District Chilled Water Use (kBtu)  All Other Fuel Use (kBtu)  \\\n",
              "count                       8.800000e+01               1.700000e+01   \n",
              "mean                        1.759946e+07               1.100594e+06   \n",
              "std                         1.955778e+07               2.637424e+06   \n",
              "min                        -1.383204e+06               1.587000e+04   \n",
              "25%                         4.815333e+06               4.416000e+04   \n",
              "50%                         9.720848e+06               7.009020e+04   \n",
              "75%                         2.255981e+07               1.047696e+05   \n",
              "max                         9.075356e+07               8.912998e+06   \n",
              "\n",
              "       Site EUI (kBtu/sq ft)  Source EUI (kBtu/sq ft)  \\\n",
              "count            2688.000000              2688.000000   \n",
              "mean               94.208408               180.017820   \n",
              "std               125.939184               166.056539   \n",
              "min                 0.200000                 0.200000   \n",
              "25%                61.800000               113.875000   \n",
              "50%                79.400000               148.100000   \n",
              "75%               101.050000               196.575000   \n",
              "max              5637.700000              6001.500000   \n",
              "\n",
              "       Weather Normalized Site EUI (kBtu/sq ft)  \\\n",
              "count                               2658.000000   \n",
              "mean                                  99.133296   \n",
              "std                                  127.267249   \n",
              "min                                    0.300000   \n",
              "25%                                   65.400000   \n",
              "50%                                   84.400000   \n",
              "75%                                  107.275000   \n",
              "max                                 5637.700000   \n",
              "\n",
              "       Weather Normalized Source EUI (kBtu/sq ft)  \\\n",
              "count                                 2658.000000   \n",
              "mean                                   184.965500   \n",
              "std                                    166.420203   \n",
              "min                                      0.300000   \n",
              "25%                                    118.625000   \n",
              "50%                                    154.050000   \n",
              "75%                                    201.575000   \n",
              "max                                   6001.500000   \n",
              "\n",
              "       Total GHG Emissions (Metric Tons CO2e)  GHG Intensity (kg CO2e/sq ft)  \\\n",
              "count                             2673.000000                    2673.000000   \n",
              "mean                              2630.786495                      10.103629   \n",
              "std                               5794.436792                       9.002384   \n",
              "min                                 32.500000                       0.400000   \n",
              "25%                                602.100000                       6.300000   \n",
              "50%                               1099.500000                       8.300000   \n",
              "75%                               2435.700000                      11.100000   \n",
              "max                             127610.000000                     304.600000   \n",
              "\n",
              "          Latitude    Longitude  \n",
              "count  2717.000000  2717.000000  \n",
              "mean     41.885083   -87.653376  \n",
              "std       0.068259     0.047320  \n",
              "min      41.651404   -87.905562  \n",
              "25%      41.860795   -87.666607  \n",
              "50%      41.890528   -87.640861  \n",
              "75%      41.925024   -87.626668  \n",
              "max      42.019367   -87.527913  "
            ],
            "text/html": [
              "\n",
              "  <div id=\"df-91a240f3-b9e5-4de0-8157-4edadab88df2\">\n",
              "    <div class=\"colab-df-container\">\n",
              "      <div>\n",
              "<style scoped>\n",
              "    .dataframe tbody tr th:only-of-type {\n",
              "        vertical-align: middle;\n",
              "    }\n",
              "\n",
              "    .dataframe tbody tr th {\n",
              "        vertical-align: top;\n",
              "    }\n",
              "\n",
              "    .dataframe thead th {\n",
              "        text-align: right;\n",
              "    }\n",
              "</style>\n",
              "<table border=\"1\" class=\"dataframe\">\n",
              "  <thead>\n",
              "    <tr style=\"text-align: right;\">\n",
              "      <th></th>\n",
              "      <th>Data Year</th>\n",
              "      <th>ID</th>\n",
              "      <th>Gross Floor Area - Buildings (sq ft)</th>\n",
              "      <th>Year Built</th>\n",
              "      <th># of Buildings</th>\n",
              "      <th>ENERGY STAR Score</th>\n",
              "      <th>Electricity Use (kBtu)</th>\n",
              "      <th>Natural Gas Use (kBtu)</th>\n",
              "      <th>District Steam Use (kBtu)</th>\n",
              "      <th>District Chilled Water Use (kBtu)</th>\n",
              "      <th>All Other Fuel Use (kBtu)</th>\n",
              "      <th>Site EUI (kBtu/sq ft)</th>\n",
              "      <th>Source EUI (kBtu/sq ft)</th>\n",
              "      <th>Weather Normalized Site EUI (kBtu/sq ft)</th>\n",
              "      <th>Weather Normalized Source EUI (kBtu/sq ft)</th>\n",
              "      <th>Total GHG Emissions (Metric Tons CO2e)</th>\n",
              "      <th>GHG Intensity (kg CO2e/sq ft)</th>\n",
              "      <th>Latitude</th>\n",
              "      <th>Longitude</th>\n",
              "    </tr>\n",
              "  </thead>\n",
              "  <tbody>\n",
              "    <tr>\n",
              "      <th>count</th>\n",
              "      <td>2717.0</td>\n",
              "      <td>2717.000000</td>\n",
              "      <td>2.717000e+03</td>\n",
              "      <td>2712.000000</td>\n",
              "      <td>2717.000000</td>\n",
              "      <td>2300.000000</td>\n",
              "      <td>2.691000e+03</td>\n",
              "      <td>2.478000e+03</td>\n",
              "      <td>6.700000e+01</td>\n",
              "      <td>8.800000e+01</td>\n",
              "      <td>1.700000e+01</td>\n",
              "      <td>2688.000000</td>\n",
              "      <td>2688.000000</td>\n",
              "      <td>2658.000000</td>\n",
              "      <td>2658.000000</td>\n",
              "      <td>2673.000000</td>\n",
              "      <td>2673.000000</td>\n",
              "      <td>2717.000000</td>\n",
              "      <td>2717.000000</td>\n",
              "    </tr>\n",
              "    <tr>\n",
              "      <th>mean</th>\n",
              "      <td>2016.0</td>\n",
              "      <td>184277.504233</td>\n",
              "      <td>2.444146e+05</td>\n",
              "      <td>1962.731932</td>\n",
              "      <td>1.408907</td>\n",
              "      <td>60.012609</td>\n",
              "      <td>1.081069e+07</td>\n",
              "      <td>1.191014e+07</td>\n",
              "      <td>2.797624e+07</td>\n",
              "      <td>1.759946e+07</td>\n",
              "      <td>1.100594e+06</td>\n",
              "      <td>94.208408</td>\n",
              "      <td>180.017820</td>\n",
              "      <td>99.133296</td>\n",
              "      <td>184.965500</td>\n",
              "      <td>2630.786495</td>\n",
              "      <td>10.103629</td>\n",
              "      <td>41.885083</td>\n",
              "      <td>-87.653376</td>\n",
              "    </tr>\n",
              "    <tr>\n",
              "      <th>std</th>\n",
              "      <td>0.0</td>\n",
              "      <td>59795.814503</td>\n",
              "      <td>3.956004e+05</td>\n",
              "      <td>36.324819</td>\n",
              "      <td>5.181418</td>\n",
              "      <td>28.350327</td>\n",
              "      <td>2.502301e+07</td>\n",
              "      <td>2.785050e+07</td>\n",
              "      <td>5.054843e+07</td>\n",
              "      <td>1.955778e+07</td>\n",
              "      <td>2.637424e+06</td>\n",
              "      <td>125.939184</td>\n",
              "      <td>166.056539</td>\n",
              "      <td>127.267249</td>\n",
              "      <td>166.420203</td>\n",
              "      <td>5794.436792</td>\n",
              "      <td>9.002384</td>\n",
              "      <td>0.068259</td>\n",
              "      <td>0.047320</td>\n",
              "    </tr>\n",
              "    <tr>\n",
              "      <th>min</th>\n",
              "      <td>2016.0</td>\n",
              "      <td>100001.000000</td>\n",
              "      <td>5.000000e+04</td>\n",
              "      <td>1872.000000</td>\n",
              "      <td>1.000000</td>\n",
              "      <td>1.000000</td>\n",
              "      <td>5.028900e+03</td>\n",
              "      <td>1.284000e+03</td>\n",
              "      <td>-1.714850e+07</td>\n",
              "      <td>-1.383204e+06</td>\n",
              "      <td>1.587000e+04</td>\n",
              "      <td>0.200000</td>\n",
              "      <td>0.200000</td>\n",
              "      <td>0.300000</td>\n",
              "      <td>0.300000</td>\n",
              "      <td>32.500000</td>\n",
              "      <td>0.400000</td>\n",
              "      <td>41.651404</td>\n",
              "      <td>-87.905562</td>\n",
              "    </tr>\n",
              "    <tr>\n",
              "      <th>25%</th>\n",
              "      <td>2016.0</td>\n",
              "      <td>120518.000000</td>\n",
              "      <td>7.491000e+04</td>\n",
              "      <td>1927.750000</td>\n",
              "      <td>1.000000</td>\n",
              "      <td>38.000000</td>\n",
              "      <td>1.948236e+06</td>\n",
              "      <td>3.213429e+06</td>\n",
              "      <td>6.435511e+06</td>\n",
              "      <td>4.815333e+06</td>\n",
              "      <td>4.416000e+04</td>\n",
              "      <td>61.800000</td>\n",
              "      <td>113.875000</td>\n",
              "      <td>65.400000</td>\n",
              "      <td>118.625000</td>\n",
              "      <td>602.100000</td>\n",
              "      <td>6.300000</td>\n",
              "      <td>41.860795</td>\n",
              "      <td>-87.666607</td>\n",
              "    </tr>\n",
              "    <tr>\n",
              "      <th>50%</th>\n",
              "      <td>2016.0</td>\n",
              "      <td>173702.000000</td>\n",
              "      <td>1.229450e+05</td>\n",
              "      <td>1969.000000</td>\n",
              "      <td>1.000000</td>\n",
              "      <td>65.000000</td>\n",
              "      <td>4.035714e+06</td>\n",
              "      <td>5.585163e+06</td>\n",
              "      <td>1.343250e+07</td>\n",
              "      <td>9.720848e+06</td>\n",
              "      <td>7.009020e+04</td>\n",
              "      <td>79.400000</td>\n",
              "      <td>148.100000</td>\n",
              "      <td>84.400000</td>\n",
              "      <td>154.050000</td>\n",
              "      <td>1099.500000</td>\n",
              "      <td>8.300000</td>\n",
              "      <td>41.890528</td>\n",
              "      <td>-87.640861</td>\n",
              "    </tr>\n",
              "    <tr>\n",
              "      <th>75%</th>\n",
              "      <td>2016.0</td>\n",
              "      <td>251346.000000</td>\n",
              "      <td>2.520760e+05</td>\n",
              "      <td>1997.000000</td>\n",
              "      <td>1.000000</td>\n",
              "      <td>84.000000</td>\n",
              "      <td>9.735142e+06</td>\n",
              "      <td>1.191968e+07</td>\n",
              "      <td>2.439484e+07</td>\n",
              "      <td>2.255981e+07</td>\n",
              "      <td>1.047696e+05</td>\n",
              "      <td>101.050000</td>\n",
              "      <td>196.575000</td>\n",
              "      <td>107.275000</td>\n",
              "      <td>201.575000</td>\n",
              "      <td>2435.700000</td>\n",
              "      <td>11.100000</td>\n",
              "      <td>41.925024</td>\n",
              "      <td>-87.626668</td>\n",
              "    </tr>\n",
              "    <tr>\n",
              "      <th>max</th>\n",
              "      <td>2016.0</td>\n",
              "      <td>260184.000000</td>\n",
              "      <td>9.245333e+06</td>\n",
              "      <td>2016.000000</td>\n",
              "      <td>236.000000</td>\n",
              "      <td>100.000000</td>\n",
              "      <td>4.857050e+08</td>\n",
              "      <td>5.493302e+08</td>\n",
              "      <td>3.575457e+08</td>\n",
              "      <td>9.075356e+07</td>\n",
              "      <td>8.912998e+06</td>\n",
              "      <td>5637.700000</td>\n",
              "      <td>6001.500000</td>\n",
              "      <td>5637.700000</td>\n",
              "      <td>6001.500000</td>\n",
              "      <td>127610.000000</td>\n",
              "      <td>304.600000</td>\n",
              "      <td>42.019367</td>\n",
              "      <td>-87.527913</td>\n",
              "    </tr>\n",
              "  </tbody>\n",
              "</table>\n",
              "</div>\n",
              "      <button class=\"colab-df-convert\" onclick=\"convertToInteractive('df-91a240f3-b9e5-4de0-8157-4edadab88df2')\"\n",
              "              title=\"Convert this dataframe to an interactive table.\"\n",
              "              style=\"display:none;\">\n",
              "        \n",
              "  <svg xmlns=\"http://www.w3.org/2000/svg\" height=\"24px\"viewBox=\"0 0 24 24\"\n",
              "       width=\"24px\">\n",
              "    <path d=\"M0 0h24v24H0V0z\" fill=\"none\"/>\n",
              "    <path d=\"M18.56 5.44l.94 2.06.94-2.06 2.06-.94-2.06-.94-.94-2.06-.94 2.06-2.06.94zm-11 1L8.5 8.5l.94-2.06 2.06-.94-2.06-.94L8.5 2.5l-.94 2.06-2.06.94zm10 10l.94 2.06.94-2.06 2.06-.94-2.06-.94-.94-2.06-.94 2.06-2.06.94z\"/><path d=\"M17.41 7.96l-1.37-1.37c-.4-.4-.92-.59-1.43-.59-.52 0-1.04.2-1.43.59L10.3 9.45l-7.72 7.72c-.78.78-.78 2.05 0 2.83L4 21.41c.39.39.9.59 1.41.59.51 0 1.02-.2 1.41-.59l7.78-7.78 2.81-2.81c.8-.78.8-2.07 0-2.86zM5.41 20L4 18.59l7.72-7.72 1.47 1.35L5.41 20z\"/>\n",
              "  </svg>\n",
              "      </button>\n",
              "      \n",
              "  <style>\n",
              "    .colab-df-container {\n",
              "      display:flex;\n",
              "      flex-wrap:wrap;\n",
              "      gap: 12px;\n",
              "    }\n",
              "\n",
              "    .colab-df-convert {\n",
              "      background-color: #E8F0FE;\n",
              "      border: none;\n",
              "      border-radius: 50%;\n",
              "      cursor: pointer;\n",
              "      display: none;\n",
              "      fill: #1967D2;\n",
              "      height: 32px;\n",
              "      padding: 0 0 0 0;\n",
              "      width: 32px;\n",
              "    }\n",
              "\n",
              "    .colab-df-convert:hover {\n",
              "      background-color: #E2EBFA;\n",
              "      box-shadow: 0px 1px 2px rgba(60, 64, 67, 0.3), 0px 1px 3px 1px rgba(60, 64, 67, 0.15);\n",
              "      fill: #174EA6;\n",
              "    }\n",
              "\n",
              "    [theme=dark] .colab-df-convert {\n",
              "      background-color: #3B4455;\n",
              "      fill: #D2E3FC;\n",
              "    }\n",
              "\n",
              "    [theme=dark] .colab-df-convert:hover {\n",
              "      background-color: #434B5C;\n",
              "      box-shadow: 0px 1px 3px 1px rgba(0, 0, 0, 0.15);\n",
              "      filter: drop-shadow(0px 1px 2px rgba(0, 0, 0, 0.3));\n",
              "      fill: #FFFFFF;\n",
              "    }\n",
              "  </style>\n",
              "\n",
              "      <script>\n",
              "        const buttonEl =\n",
              "          document.querySelector('#df-91a240f3-b9e5-4de0-8157-4edadab88df2 button.colab-df-convert');\n",
              "        buttonEl.style.display =\n",
              "          google.colab.kernel.accessAllowed ? 'block' : 'none';\n",
              "\n",
              "        async function convertToInteractive(key) {\n",
              "          const element = document.querySelector('#df-91a240f3-b9e5-4de0-8157-4edadab88df2');\n",
              "          const dataTable =\n",
              "            await google.colab.kernel.invokeFunction('convertToInteractive',\n",
              "                                                     [key], {});\n",
              "          if (!dataTable) return;\n",
              "\n",
              "          const docLinkHtml = 'Like what you see? Visit the ' +\n",
              "            '<a target=\"_blank\" href=https://colab.research.google.com/notebooks/data_table.ipynb>data table notebook</a>'\n",
              "            + ' to learn more about interactive tables.';\n",
              "          element.innerHTML = '';\n",
              "          dataTable['output_type'] = 'display_data';\n",
              "          await google.colab.output.renderOutput(dataTable, element);\n",
              "          const docLink = document.createElement('div');\n",
              "          docLink.innerHTML = docLinkHtml;\n",
              "          element.appendChild(docLink);\n",
              "        }\n",
              "      </script>\n",
              "    </div>\n",
              "  </div>\n",
              "  "
            ]
          },
          "metadata": {},
          "execution_count": 242
        }
      ]
    },
    {
      "cell_type": "markdown",
      "metadata": {
        "id": "t2N6DSrXXx5z"
      },
      "source": [
        "# TASK 1 Clean the data \n",
        "*Follow closely the second paragraph of Section 4 DATA. Name each step you do accordingly to the description in the paragraf\n",
        "https://www.researchgate.net/publication/337074109_Examining_the_feasibility_of_using_open_data_to_benchmark_building_energy_usage_in_cities_A_data_science_and_policy_perspective*\n",
        "\n",
        "Summary of that paragraph:\n",
        "\n",
        "\n",
        "*   Removed irrelevant building-identifying features such as address\n",
        "*   Removed features w/ missing values for >40% of buildings in dataset because otherwise those will be imputed and bias the results.\n",
        "*   Eliminated buildings w/ missing site EUI to avoid imputing values for dependent variable\n",
        "*   Imputed data for remaining missing variables by generating multiple imputations by Gibbs sampling using classification and regression trees (I think this is a later step in the homework.)\n",
        "*   Authors note that the data is extremely heterogeneous within and between datasets in terms of building counts and building sizes. This is partly due to local mandates, inclusion of government buildings, and smaller buildings opting in in some places. They note that \"some models are better able to handle less data than others.\""
      ]
    },
    {
      "cell_type": "code",
      "metadata": {
        "id": "k15rP8aaNXO7",
        "outputId": "0d887365-f12a-40de-87fa-768aed07e7b5",
        "colab": {
          "base_uri": "https://localhost:8080/"
        }
      },
      "source": [
        "# summarize the number of rows with missing values for each column\n",
        "for c in chicago.columns:\n",
        "  \n",
        "  # count number of rows with missing values\n",
        "  n_miss = chicago[c].isnull().sum()\n",
        "  perc = n_miss / chicago.shape[0] * 100\n",
        "  print('%s (%s):  Missing: %d (%.1f%%)' % (c, chicago[c].dtype, \n",
        "                                                  n_miss, perc))\n"
      ],
      "execution_count": null,
      "outputs": [
        {
          "output_type": "stream",
          "name": "stdout",
          "text": [
            "Data Year (int64):  Missing: 0 (0.0%)\n",
            "ID (int64):  Missing: 0 (0.0%)\n",
            "Property Name (object):  Missing: 0 (0.0%)\n",
            "Address (object):  Missing: 0 (0.0%)\n",
            "ZIP Code (object):  Missing: 0 (0.0%)\n",
            "Community Area (object):  Missing: 0 (0.0%)\n",
            "Primary Property Type (object):  Missing: 0 (0.0%)\n",
            "Gross Floor Area - Buildings (sq ft) (float64):  Missing: 0 (0.0%)\n",
            "Year Built (float64):  Missing: 5 (0.2%)\n",
            "# of Buildings (int64):  Missing: 0 (0.0%)\n",
            "ENERGY STAR Score (float64):  Missing: 417 (15.3%)\n",
            "Electricity Use (kBtu) (float64):  Missing: 26 (1.0%)\n",
            "Natural Gas Use (kBtu) (float64):  Missing: 239 (8.8%)\n",
            "District Steam Use (kBtu) (float64):  Missing: 2650 (97.5%)\n",
            "District Chilled Water Use (kBtu) (float64):  Missing: 2629 (96.8%)\n",
            "All Other Fuel Use (kBtu) (float64):  Missing: 2700 (99.4%)\n",
            "Site EUI (kBtu/sq ft) (float64):  Missing: 29 (1.1%)\n",
            "Source EUI (kBtu/sq ft) (float64):  Missing: 29 (1.1%)\n",
            "Weather Normalized Site EUI (kBtu/sq ft) (float64):  Missing: 59 (2.2%)\n",
            "Weather Normalized Source EUI (kBtu/sq ft) (float64):  Missing: 59 (2.2%)\n",
            "Total GHG Emissions (Metric Tons CO2e) (float64):  Missing: 44 (1.6%)\n",
            "GHG Intensity (kg CO2e/sq ft) (float64):  Missing: 44 (1.6%)\n",
            "Latitude (float64):  Missing: 0 (0.0%)\n",
            "Longitude (float64):  Missing: 0 (0.0%)\n",
            "Location (object):  Missing: 0 (0.0%)\n"
          ]
        }
      ]
    },
    {
      "cell_type": "markdown",
      "source": [
        "## Features missing greater than 40% of the data:\n",
        "\n",
        "\n",
        "*  District Steam Use (kBtu) (float64):  Missing: 2650 (97.5%)\n",
        "*  District Chilled Water Use (kBtu) (float64):  Missing: 2629 (96.8%)\n",
        "*  All Other Fuel Use (kBtu) (float64):  Missing: 2700 (99.4%)\n",
        "\n",
        "Everything else is pretty low (<10% missing) except \"ENERGY STAR Score (float64):  Missing: 417 (15.3%)\"\n",
        "\n"
      ],
      "metadata": {
        "id": "Z5id3qwVKDGq"
      }
    },
    {
      "cell_type": "code",
      "source": [
        "# dropping columns w/ over 40% missing\n",
        "for c in chicago.columns:\n",
        "  \n",
        "  # count number of rows with missing values\n",
        "  n_miss = chicago[c].isnull().sum()\n",
        "  perc = n_miss / chicago.shape[0] * 100\n",
        "  if perc > 40:\n",
        "    chicago.drop(c, axis=1, inplace=True)\n",
        "\n",
        "print(\"there are (rows, columns) = \", (chicago.shape), \"in the dataframe\")\n"
      ],
      "metadata": {
        "colab": {
          "base_uri": "https://localhost:8080/"
        },
        "id": "i2zPHoniCAkW",
        "outputId": "294300e4-ca96-4b0a-a5bb-92ca83e1d092"
      },
      "execution_count": null,
      "outputs": [
        {
          "output_type": "stream",
          "name": "stdout",
          "text": [
            "there are (rows, columns) =  (2717, 22) in the dataframe\n"
          ]
        }
      ]
    },
    {
      "cell_type": "code",
      "source": [
        "chicago.info()"
      ],
      "metadata": {
        "colab": {
          "base_uri": "https://localhost:8080/"
        },
        "id": "DfQuP7jXK454",
        "outputId": "f994c61d-6ab7-4269-9024-19ae6b8402df"
      },
      "execution_count": null,
      "outputs": [
        {
          "output_type": "stream",
          "name": "stdout",
          "text": [
            "<class 'pandas.core.frame.DataFrame'>\n",
            "RangeIndex: 2717 entries, 0 to 2716\n",
            "Data columns (total 22 columns):\n",
            " #   Column                                      Non-Null Count  Dtype  \n",
            "---  ------                                      --------------  -----  \n",
            " 0   Data Year                                   2717 non-null   int64  \n",
            " 1   ID                                          2717 non-null   int64  \n",
            " 2   Property Name                               2717 non-null   object \n",
            " 3   Address                                     2717 non-null   object \n",
            " 4   ZIP Code                                    2717 non-null   object \n",
            " 5   Community Area                              2717 non-null   object \n",
            " 6   Primary Property Type                       2717 non-null   object \n",
            " 7   Gross Floor Area - Buildings (sq ft)        2717 non-null   float64\n",
            " 8   Year Built                                  2712 non-null   float64\n",
            " 9   # of Buildings                              2717 non-null   int64  \n",
            " 10  ENERGY STAR Score                           2300 non-null   float64\n",
            " 11  Electricity Use (kBtu)                      2691 non-null   float64\n",
            " 12  Natural Gas Use (kBtu)                      2478 non-null   float64\n",
            " 13  Site EUI (kBtu/sq ft)                       2688 non-null   float64\n",
            " 14  Source EUI (kBtu/sq ft)                     2688 non-null   float64\n",
            " 15  Weather Normalized Site EUI (kBtu/sq ft)    2658 non-null   float64\n",
            " 16  Weather Normalized Source EUI (kBtu/sq ft)  2658 non-null   float64\n",
            " 17  Total GHG Emissions (Metric Tons CO2e)      2673 non-null   float64\n",
            " 18  GHG Intensity (kg CO2e/sq ft)               2673 non-null   float64\n",
            " 19  Latitude                                    2717 non-null   float64\n",
            " 20  Longitude                                   2717 non-null   float64\n",
            " 21  Location                                    2717 non-null   object \n",
            "dtypes: float64(13), int64(3), object(6)\n",
            "memory usage: 467.1+ KB\n"
          ]
        }
      ]
    },
    {
      "cell_type": "code",
      "source": [
        "for c in chicago.columns:\n",
        "  \n",
        "  # count number of rows with missing values\n",
        "  n_miss = chicago[c].isnull().sum()\n",
        "  perc = n_miss / chicago.shape[0] * 100\n",
        "  print('%s (%s):  Missing: %d (%.1f%%)' % (c, chicago[c].dtype, \n",
        "                                                  n_miss, perc))"
      ],
      "metadata": {
        "colab": {
          "base_uri": "https://localhost:8080/"
        },
        "id": "SPWnfbcJC9v0",
        "outputId": "a075a005-fa6e-4728-cec4-4391c13fed6c"
      },
      "execution_count": null,
      "outputs": [
        {
          "output_type": "stream",
          "name": "stdout",
          "text": [
            "Data Year (int64):  Missing: 0 (0.0%)\n",
            "ID (int64):  Missing: 0 (0.0%)\n",
            "Property Name (object):  Missing: 0 (0.0%)\n",
            "Address (object):  Missing: 0 (0.0%)\n",
            "ZIP Code (object):  Missing: 0 (0.0%)\n",
            "Community Area (object):  Missing: 0 (0.0%)\n",
            "Primary Property Type (object):  Missing: 0 (0.0%)\n",
            "Gross Floor Area - Buildings (sq ft) (float64):  Missing: 0 (0.0%)\n",
            "Year Built (float64):  Missing: 5 (0.2%)\n",
            "# of Buildings (int64):  Missing: 0 (0.0%)\n",
            "ENERGY STAR Score (float64):  Missing: 417 (15.3%)\n",
            "Electricity Use (kBtu) (float64):  Missing: 26 (1.0%)\n",
            "Natural Gas Use (kBtu) (float64):  Missing: 239 (8.8%)\n",
            "Site EUI (kBtu/sq ft) (float64):  Missing: 29 (1.1%)\n",
            "Source EUI (kBtu/sq ft) (float64):  Missing: 29 (1.1%)\n",
            "Weather Normalized Site EUI (kBtu/sq ft) (float64):  Missing: 59 (2.2%)\n",
            "Weather Normalized Source EUI (kBtu/sq ft) (float64):  Missing: 59 (2.2%)\n",
            "Total GHG Emissions (Metric Tons CO2e) (float64):  Missing: 44 (1.6%)\n",
            "GHG Intensity (kg CO2e/sq ft) (float64):  Missing: 44 (1.6%)\n",
            "Latitude (float64):  Missing: 0 (0.0%)\n",
            "Longitude (float64):  Missing: 0 (0.0%)\n",
            "Location (object):  Missing: 0 (0.0%)\n"
          ]
        }
      ]
    },
    {
      "cell_type": "markdown",
      "source": [
        "## More data cleaning"
      ],
      "metadata": {
        "id": "tvYb07hCL3q2"
      }
    },
    {
      "cell_type": "code",
      "source": [
        "# Dropping columns w/ building identifying data\n",
        "chicagoclean = chicago.drop([\"Property Name\", \"Address\", \"ID\"], axis=1)"
      ],
      "metadata": {
        "id": "UCr6sE5xLdD_"
      },
      "execution_count": null,
      "outputs": []
    },
    {
      "cell_type": "code",
      "source": [
        "# Dropping Site EUI NaNs\n",
        "chicagoclean = chicagoclean.dropna(subset=[\"Site EUI (kBtu/sq ft)\"])"
      ],
      "metadata": {
        "id": "HyDxPEkVMkT_"
      },
      "execution_count": null,
      "outputs": []
    },
    {
      "cell_type": "code",
      "source": [
        "chicagoclean.info()"
      ],
      "metadata": {
        "colab": {
          "base_uri": "https://localhost:8080/"
        },
        "id": "m2BFxf7TNddl",
        "outputId": "765c27ba-cb90-43df-e9e9-7a492beedfb8"
      },
      "execution_count": null,
      "outputs": [
        {
          "output_type": "stream",
          "name": "stdout",
          "text": [
            "<class 'pandas.core.frame.DataFrame'>\n",
            "Int64Index: 2688 entries, 0 to 2716\n",
            "Data columns (total 19 columns):\n",
            " #   Column                                      Non-Null Count  Dtype  \n",
            "---  ------                                      --------------  -----  \n",
            " 0   Data Year                                   2688 non-null   int64  \n",
            " 1   ZIP Code                                    2688 non-null   object \n",
            " 2   Community Area                              2688 non-null   object \n",
            " 3   Primary Property Type                       2688 non-null   object \n",
            " 4   Gross Floor Area - Buildings (sq ft)        2688 non-null   float64\n",
            " 5   Year Built                                  2683 non-null   float64\n",
            " 6   # of Buildings                              2688 non-null   int64  \n",
            " 7   ENERGY STAR Score                           2300 non-null   float64\n",
            " 8   Electricity Use (kBtu)                      2682 non-null   float64\n",
            " 9   Natural Gas Use (kBtu)                      2474 non-null   float64\n",
            " 10  Site EUI (kBtu/sq ft)                       2688 non-null   float64\n",
            " 11  Source EUI (kBtu/sq ft)                     2688 non-null   float64\n",
            " 12  Weather Normalized Site EUI (kBtu/sq ft)    2658 non-null   float64\n",
            " 13  Weather Normalized Source EUI (kBtu/sq ft)  2658 non-null   float64\n",
            " 14  Total GHG Emissions (Metric Tons CO2e)      2673 non-null   float64\n",
            " 15  GHG Intensity (kg CO2e/sq ft)               2673 non-null   float64\n",
            " 16  Latitude                                    2688 non-null   float64\n",
            " 17  Longitude                                   2688 non-null   float64\n",
            " 18  Location                                    2688 non-null   object \n",
            "dtypes: float64(13), int64(2), object(4)\n",
            "memory usage: 420.0+ KB\n"
          ]
        }
      ]
    },
    {
      "cell_type": "markdown",
      "metadata": {
        "id": "XVD2IKLsZI2x"
      },
      "source": [
        "# TASK 2: transform input feature as needed"
      ]
    },
    {
      "cell_type": "code",
      "metadata": {
        "id": "SWyHLyhCLYIm",
        "colab": {
          "base_uri": "https://localhost:8080/",
          "height": 433
        },
        "outputId": "675bf396-128a-49be-8bcd-7d876dd89a25"
      },
      "source": [
        "chicagoclean.describe()"
      ],
      "execution_count": null,
      "outputs": [
        {
          "output_type": "execute_result",
          "data": {
            "text/plain": [
              "       Data Year  Gross Floor Area - Buildings (sq ft)   Year Built  \\\n",
              "count     2688.0                          2.688000e+03  2683.000000   \n",
              "mean      2016.0                          2.448678e+05  1962.894521   \n",
              "std          0.0                          3.964045e+05    36.286206   \n",
              "min       2016.0                          5.000000e+04  1872.000000   \n",
              "25%       2016.0                          7.500000e+04  1928.000000   \n",
              "50%       2016.0                          1.237265e+05  1969.000000   \n",
              "75%       2016.0                          2.521352e+05  1997.000000   \n",
              "max       2016.0                          9.245333e+06  2016.000000   \n",
              "\n",
              "       # of Buildings  ENERGY STAR Score  Electricity Use (kBtu)  \\\n",
              "count     2688.000000        2300.000000            2.682000e+03   \n",
              "mean         1.405878          60.012609            1.078202e+07   \n",
              "std          5.201993          28.350327            2.498350e+07   \n",
              "min          1.000000           1.000000            5.028900e+03   \n",
              "25%          1.000000          38.000000            1.947823e+06   \n",
              "50%          1.000000          65.000000            4.031640e+06   \n",
              "75%          1.000000          84.000000            9.722706e+06   \n",
              "max        236.000000         100.000000            4.857050e+08   \n",
              "\n",
              "       Natural Gas Use (kBtu)  Site EUI (kBtu/sq ft)  Source EUI (kBtu/sq ft)  \\\n",
              "count            2.474000e+03            2688.000000              2688.000000   \n",
              "mean             1.189740e+07              94.208408               180.017820   \n",
              "std              2.786680e+07             125.939184               166.056539   \n",
              "min              1.284000e+03               0.200000                 0.200000   \n",
              "25%              3.213429e+06              61.800000               113.875000   \n",
              "50%              5.581524e+06              79.400000               148.100000   \n",
              "75%              1.190188e+07             101.050000               196.575000   \n",
              "max              5.493302e+08            5637.700000              6001.500000   \n",
              "\n",
              "       Weather Normalized Site EUI (kBtu/sq ft)  \\\n",
              "count                               2658.000000   \n",
              "mean                                  99.133296   \n",
              "std                                  127.267249   \n",
              "min                                    0.300000   \n",
              "25%                                   65.400000   \n",
              "50%                                   84.400000   \n",
              "75%                                  107.275000   \n",
              "max                                 5637.700000   \n",
              "\n",
              "       Weather Normalized Source EUI (kBtu/sq ft)  \\\n",
              "count                                 2658.000000   \n",
              "mean                                   184.965500   \n",
              "std                                    166.420203   \n",
              "min                                      0.300000   \n",
              "25%                                    118.625000   \n",
              "50%                                    154.050000   \n",
              "75%                                    201.575000   \n",
              "max                                   6001.500000   \n",
              "\n",
              "       Total GHG Emissions (Metric Tons CO2e)  GHG Intensity (kg CO2e/sq ft)  \\\n",
              "count                             2673.000000                    2673.000000   \n",
              "mean                              2630.786495                      10.103629   \n",
              "std                               5794.436792                       9.002384   \n",
              "min                                 32.500000                       0.400000   \n",
              "25%                                602.100000                       6.300000   \n",
              "50%                               1099.500000                       8.300000   \n",
              "75%                               2435.700000                      11.100000   \n",
              "max                             127610.000000                     304.600000   \n",
              "\n",
              "          Latitude    Longitude  \n",
              "count  2688.000000  2688.000000  \n",
              "mean     41.885177   -87.653300  \n",
              "std       0.068316     0.047197  \n",
              "min      41.651404   -87.905562  \n",
              "25%      41.860920   -87.666607  \n",
              "50%      41.890566   -87.640766  \n",
              "75%      41.925276   -87.626682  \n",
              "max      42.019367   -87.527913  "
            ],
            "text/html": [
              "\n",
              "  <div id=\"df-f2ea1f3e-e5fc-4f1d-bb2a-a3dbc2a12e6e\">\n",
              "    <div class=\"colab-df-container\">\n",
              "      <div>\n",
              "<style scoped>\n",
              "    .dataframe tbody tr th:only-of-type {\n",
              "        vertical-align: middle;\n",
              "    }\n",
              "\n",
              "    .dataframe tbody tr th {\n",
              "        vertical-align: top;\n",
              "    }\n",
              "\n",
              "    .dataframe thead th {\n",
              "        text-align: right;\n",
              "    }\n",
              "</style>\n",
              "<table border=\"1\" class=\"dataframe\">\n",
              "  <thead>\n",
              "    <tr style=\"text-align: right;\">\n",
              "      <th></th>\n",
              "      <th>Data Year</th>\n",
              "      <th>Gross Floor Area - Buildings (sq ft)</th>\n",
              "      <th>Year Built</th>\n",
              "      <th># of Buildings</th>\n",
              "      <th>ENERGY STAR Score</th>\n",
              "      <th>Electricity Use (kBtu)</th>\n",
              "      <th>Natural Gas Use (kBtu)</th>\n",
              "      <th>Site EUI (kBtu/sq ft)</th>\n",
              "      <th>Source EUI (kBtu/sq ft)</th>\n",
              "      <th>Weather Normalized Site EUI (kBtu/sq ft)</th>\n",
              "      <th>Weather Normalized Source EUI (kBtu/sq ft)</th>\n",
              "      <th>Total GHG Emissions (Metric Tons CO2e)</th>\n",
              "      <th>GHG Intensity (kg CO2e/sq ft)</th>\n",
              "      <th>Latitude</th>\n",
              "      <th>Longitude</th>\n",
              "    </tr>\n",
              "  </thead>\n",
              "  <tbody>\n",
              "    <tr>\n",
              "      <th>count</th>\n",
              "      <td>2688.0</td>\n",
              "      <td>2.688000e+03</td>\n",
              "      <td>2683.000000</td>\n",
              "      <td>2688.000000</td>\n",
              "      <td>2300.000000</td>\n",
              "      <td>2.682000e+03</td>\n",
              "      <td>2.474000e+03</td>\n",
              "      <td>2688.000000</td>\n",
              "      <td>2688.000000</td>\n",
              "      <td>2658.000000</td>\n",
              "      <td>2658.000000</td>\n",
              "      <td>2673.000000</td>\n",
              "      <td>2673.000000</td>\n",
              "      <td>2688.000000</td>\n",
              "      <td>2688.000000</td>\n",
              "    </tr>\n",
              "    <tr>\n",
              "      <th>mean</th>\n",
              "      <td>2016.0</td>\n",
              "      <td>2.448678e+05</td>\n",
              "      <td>1962.894521</td>\n",
              "      <td>1.405878</td>\n",
              "      <td>60.012609</td>\n",
              "      <td>1.078202e+07</td>\n",
              "      <td>1.189740e+07</td>\n",
              "      <td>94.208408</td>\n",
              "      <td>180.017820</td>\n",
              "      <td>99.133296</td>\n",
              "      <td>184.965500</td>\n",
              "      <td>2630.786495</td>\n",
              "      <td>10.103629</td>\n",
              "      <td>41.885177</td>\n",
              "      <td>-87.653300</td>\n",
              "    </tr>\n",
              "    <tr>\n",
              "      <th>std</th>\n",
              "      <td>0.0</td>\n",
              "      <td>3.964045e+05</td>\n",
              "      <td>36.286206</td>\n",
              "      <td>5.201993</td>\n",
              "      <td>28.350327</td>\n",
              "      <td>2.498350e+07</td>\n",
              "      <td>2.786680e+07</td>\n",
              "      <td>125.939184</td>\n",
              "      <td>166.056539</td>\n",
              "      <td>127.267249</td>\n",
              "      <td>166.420203</td>\n",
              "      <td>5794.436792</td>\n",
              "      <td>9.002384</td>\n",
              "      <td>0.068316</td>\n",
              "      <td>0.047197</td>\n",
              "    </tr>\n",
              "    <tr>\n",
              "      <th>min</th>\n",
              "      <td>2016.0</td>\n",
              "      <td>5.000000e+04</td>\n",
              "      <td>1872.000000</td>\n",
              "      <td>1.000000</td>\n",
              "      <td>1.000000</td>\n",
              "      <td>5.028900e+03</td>\n",
              "      <td>1.284000e+03</td>\n",
              "      <td>0.200000</td>\n",
              "      <td>0.200000</td>\n",
              "      <td>0.300000</td>\n",
              "      <td>0.300000</td>\n",
              "      <td>32.500000</td>\n",
              "      <td>0.400000</td>\n",
              "      <td>41.651404</td>\n",
              "      <td>-87.905562</td>\n",
              "    </tr>\n",
              "    <tr>\n",
              "      <th>25%</th>\n",
              "      <td>2016.0</td>\n",
              "      <td>7.500000e+04</td>\n",
              "      <td>1928.000000</td>\n",
              "      <td>1.000000</td>\n",
              "      <td>38.000000</td>\n",
              "      <td>1.947823e+06</td>\n",
              "      <td>3.213429e+06</td>\n",
              "      <td>61.800000</td>\n",
              "      <td>113.875000</td>\n",
              "      <td>65.400000</td>\n",
              "      <td>118.625000</td>\n",
              "      <td>602.100000</td>\n",
              "      <td>6.300000</td>\n",
              "      <td>41.860920</td>\n",
              "      <td>-87.666607</td>\n",
              "    </tr>\n",
              "    <tr>\n",
              "      <th>50%</th>\n",
              "      <td>2016.0</td>\n",
              "      <td>1.237265e+05</td>\n",
              "      <td>1969.000000</td>\n",
              "      <td>1.000000</td>\n",
              "      <td>65.000000</td>\n",
              "      <td>4.031640e+06</td>\n",
              "      <td>5.581524e+06</td>\n",
              "      <td>79.400000</td>\n",
              "      <td>148.100000</td>\n",
              "      <td>84.400000</td>\n",
              "      <td>154.050000</td>\n",
              "      <td>1099.500000</td>\n",
              "      <td>8.300000</td>\n",
              "      <td>41.890566</td>\n",
              "      <td>-87.640766</td>\n",
              "    </tr>\n",
              "    <tr>\n",
              "      <th>75%</th>\n",
              "      <td>2016.0</td>\n",
              "      <td>2.521352e+05</td>\n",
              "      <td>1997.000000</td>\n",
              "      <td>1.000000</td>\n",
              "      <td>84.000000</td>\n",
              "      <td>9.722706e+06</td>\n",
              "      <td>1.190188e+07</td>\n",
              "      <td>101.050000</td>\n",
              "      <td>196.575000</td>\n",
              "      <td>107.275000</td>\n",
              "      <td>201.575000</td>\n",
              "      <td>2435.700000</td>\n",
              "      <td>11.100000</td>\n",
              "      <td>41.925276</td>\n",
              "      <td>-87.626682</td>\n",
              "    </tr>\n",
              "    <tr>\n",
              "      <th>max</th>\n",
              "      <td>2016.0</td>\n",
              "      <td>9.245333e+06</td>\n",
              "      <td>2016.000000</td>\n",
              "      <td>236.000000</td>\n",
              "      <td>100.000000</td>\n",
              "      <td>4.857050e+08</td>\n",
              "      <td>5.493302e+08</td>\n",
              "      <td>5637.700000</td>\n",
              "      <td>6001.500000</td>\n",
              "      <td>5637.700000</td>\n",
              "      <td>6001.500000</td>\n",
              "      <td>127610.000000</td>\n",
              "      <td>304.600000</td>\n",
              "      <td>42.019367</td>\n",
              "      <td>-87.527913</td>\n",
              "    </tr>\n",
              "  </tbody>\n",
              "</table>\n",
              "</div>\n",
              "      <button class=\"colab-df-convert\" onclick=\"convertToInteractive('df-f2ea1f3e-e5fc-4f1d-bb2a-a3dbc2a12e6e')\"\n",
              "              title=\"Convert this dataframe to an interactive table.\"\n",
              "              style=\"display:none;\">\n",
              "        \n",
              "  <svg xmlns=\"http://www.w3.org/2000/svg\" height=\"24px\"viewBox=\"0 0 24 24\"\n",
              "       width=\"24px\">\n",
              "    <path d=\"M0 0h24v24H0V0z\" fill=\"none\"/>\n",
              "    <path d=\"M18.56 5.44l.94 2.06.94-2.06 2.06-.94-2.06-.94-.94-2.06-.94 2.06-2.06.94zm-11 1L8.5 8.5l.94-2.06 2.06-.94-2.06-.94L8.5 2.5l-.94 2.06-2.06.94zm10 10l.94 2.06.94-2.06 2.06-.94-2.06-.94-.94-2.06-.94 2.06-2.06.94z\"/><path d=\"M17.41 7.96l-1.37-1.37c-.4-.4-.92-.59-1.43-.59-.52 0-1.04.2-1.43.59L10.3 9.45l-7.72 7.72c-.78.78-.78 2.05 0 2.83L4 21.41c.39.39.9.59 1.41.59.51 0 1.02-.2 1.41-.59l7.78-7.78 2.81-2.81c.8-.78.8-2.07 0-2.86zM5.41 20L4 18.59l7.72-7.72 1.47 1.35L5.41 20z\"/>\n",
              "  </svg>\n",
              "      </button>\n",
              "      \n",
              "  <style>\n",
              "    .colab-df-container {\n",
              "      display:flex;\n",
              "      flex-wrap:wrap;\n",
              "      gap: 12px;\n",
              "    }\n",
              "\n",
              "    .colab-df-convert {\n",
              "      background-color: #E8F0FE;\n",
              "      border: none;\n",
              "      border-radius: 50%;\n",
              "      cursor: pointer;\n",
              "      display: none;\n",
              "      fill: #1967D2;\n",
              "      height: 32px;\n",
              "      padding: 0 0 0 0;\n",
              "      width: 32px;\n",
              "    }\n",
              "\n",
              "    .colab-df-convert:hover {\n",
              "      background-color: #E2EBFA;\n",
              "      box-shadow: 0px 1px 2px rgba(60, 64, 67, 0.3), 0px 1px 3px 1px rgba(60, 64, 67, 0.15);\n",
              "      fill: #174EA6;\n",
              "    }\n",
              "\n",
              "    [theme=dark] .colab-df-convert {\n",
              "      background-color: #3B4455;\n",
              "      fill: #D2E3FC;\n",
              "    }\n",
              "\n",
              "    [theme=dark] .colab-df-convert:hover {\n",
              "      background-color: #434B5C;\n",
              "      box-shadow: 0px 1px 3px 1px rgba(0, 0, 0, 0.15);\n",
              "      filter: drop-shadow(0px 1px 2px rgba(0, 0, 0, 0.3));\n",
              "      fill: #FFFFFF;\n",
              "    }\n",
              "  </style>\n",
              "\n",
              "      <script>\n",
              "        const buttonEl =\n",
              "          document.querySelector('#df-f2ea1f3e-e5fc-4f1d-bb2a-a3dbc2a12e6e button.colab-df-convert');\n",
              "        buttonEl.style.display =\n",
              "          google.colab.kernel.accessAllowed ? 'block' : 'none';\n",
              "\n",
              "        async function convertToInteractive(key) {\n",
              "          const element = document.querySelector('#df-f2ea1f3e-e5fc-4f1d-bb2a-a3dbc2a12e6e');\n",
              "          const dataTable =\n",
              "            await google.colab.kernel.invokeFunction('convertToInteractive',\n",
              "                                                     [key], {});\n",
              "          if (!dataTable) return;\n",
              "\n",
              "          const docLinkHtml = 'Like what you see? Visit the ' +\n",
              "            '<a target=\"_blank\" href=https://colab.research.google.com/notebooks/data_table.ipynb>data table notebook</a>'\n",
              "            + ' to learn more about interactive tables.';\n",
              "          element.innerHTML = '';\n",
              "          dataTable['output_type'] = 'display_data';\n",
              "          await google.colab.output.renderOutput(dataTable, element);\n",
              "          const docLink = document.createElement('div');\n",
              "          docLink.innerHTML = docLinkHtml;\n",
              "          element.appendChild(docLink);\n",
              "        }\n",
              "      </script>\n",
              "    </div>\n",
              "  </div>\n",
              "  "
            ]
          },
          "metadata": {},
          "execution_count": 250
        }
      ]
    },
    {
      "cell_type": "markdown",
      "source": [
        "## What should you look at in the data describe?\n",
        "I guess I should mostly look at the standard deviation, min, and max for continuous measures and the range for year built. I notice that the building year built varies from 1872 to 2016. It's a little hard for me to compare some of the energy use metrics just by looking at them because the use numbers are so high. There are building(s) with an Energy Star score of 1!"
      ],
      "metadata": {
        "id": "jjVMP-ZaU4tw"
      }
    },
    {
      "cell_type": "markdown",
      "source": [
        "## Replace features with log features\n",
        "This is what their code says for Chicago. It looks like they did log features for Total Site Energy kBtu and Gross Floor Area - Buildings (sq ft) Looking at the describe table above, there isn't actually a Total Site Energy Use kBtu column; it's separated into Electricity and Gas. However, those two and the square footage both have standard deviations that are much larger than any other feature, so I guess that's why the authors took a log.\n",
        "\n",
        "\n",
        "```\n",
        "# define features\n",
        "chicago_features=c(\"Primary.Property.Type\",\"Gross.Floor.Area...Buildings..sq.ft.\",\"Year.Built\",\"X..of.Buildings\")\n",
        "x_chicago=chicago[,chicago_features]\n",
        "colnames(x_chicago)\n",
        "x_chicago$log_floor_area=log(x_chicago$Gross.Floor.Area...Buildings..sq.ft.)\n",
        "y_chicago=chicago['log_total_site_energy_KBTU']\n",
        "\n",
        "```\n",
        "\n"
      ],
      "metadata": {
        "id": "SOV7zcGMOQ1M"
      }
    },
    {
      "cell_type": "markdown",
      "source": [
        "Originally, I did the log features at this step. But then I got to later steps in our homework and saw that they were added there with some relevant code that might be harder to make work if I add them here. So I'm not running the code here."
      ],
      "metadata": {
        "id": "b8RvjdkiIp-l"
      }
    },
    {
      "cell_type": "code",
      "source": [
        "#adding column of log values for Gross Floor Area\n",
        "#derp I guess this is a later step\n",
        "#chicagoclean[\"GFA Bldgs Log\"] = np.log10(chicagoclean[\"Gross Floor Area - Buildings (sq ft)\"])"
      ],
      "metadata": {
        "id": "0EtlIxxEjc3P"
      },
      "execution_count": null,
      "outputs": []
    },
    {
      "cell_type": "markdown",
      "source": [
        "## Calculating Total Building Energy Use Feature and Logifying\n",
        "\n",
        "The authors write: \"Total building energy use (kBtu) for each building in each city is determined by multiplying the site energy use intensity (EUI) by the square footage area of the building. Before modeling, this variable was log-transformed to account for the wide range and positive skew of energy consumption values, resulting in a log-normal distribution.\"\n",
        "\n",
        "The authors used Total Building Energy Use partly because unlike Chicago, some cities don't have a breakdown of different types of energy use (electricity vs gas, for example).\\\\"
      ],
      "metadata": {
        "id": "6JdL-ARDJBkE"
      }
    },
    {
      "cell_type": "code",
      "source": [
        "#adding column for building energy use\n",
        "chicagoclean[\"BuildingEnergyUse(kBtu)\"] = chicagoclean[\"Gross Floor Area - Buildings (sq ft)\"]*chicagoclean[\"Site EUI (kBtu/sq ft)\"]"
      ],
      "metadata": {
        "id": "sprpTpsHmeXx"
      },
      "execution_count": null,
      "outputs": []
    },
    {
      "cell_type": "code",
      "source": [
        "#making building energy use log\n",
        "chicagoclean[\"BuildingEnergyUse(kBtu)\"] = np.log10(chicagoclean[\"BuildingEnergyUse(kBtu)\"])"
      ],
      "metadata": {
        "id": "x9nBuPCznZuu"
      },
      "execution_count": null,
      "outputs": []
    },
    {
      "cell_type": "code",
      "source": [
        "chicagoclean.info() #why is this helpful to print?\n",
        "# helpful for list of columns, datatype, missing values"
      ],
      "metadata": {
        "id": "qFWWCuN755gc",
        "colab": {
          "base_uri": "https://localhost:8080/"
        },
        "outputId": "a199ff99-96c6-411a-cc84-13825d3883f4"
      },
      "execution_count": null,
      "outputs": [
        {
          "output_type": "stream",
          "name": "stdout",
          "text": [
            "<class 'pandas.core.frame.DataFrame'>\n",
            "Int64Index: 2688 entries, 0 to 2716\n",
            "Data columns (total 20 columns):\n",
            " #   Column                                      Non-Null Count  Dtype  \n",
            "---  ------                                      --------------  -----  \n",
            " 0   Data Year                                   2688 non-null   int64  \n",
            " 1   ZIP Code                                    2688 non-null   object \n",
            " 2   Community Area                              2688 non-null   object \n",
            " 3   Primary Property Type                       2688 non-null   object \n",
            " 4   Gross Floor Area - Buildings (sq ft)        2688 non-null   float64\n",
            " 5   Year Built                                  2683 non-null   float64\n",
            " 6   # of Buildings                              2688 non-null   int64  \n",
            " 7   ENERGY STAR Score                           2300 non-null   float64\n",
            " 8   Electricity Use (kBtu)                      2682 non-null   float64\n",
            " 9   Natural Gas Use (kBtu)                      2474 non-null   float64\n",
            " 10  Site EUI (kBtu/sq ft)                       2688 non-null   float64\n",
            " 11  Source EUI (kBtu/sq ft)                     2688 non-null   float64\n",
            " 12  Weather Normalized Site EUI (kBtu/sq ft)    2658 non-null   float64\n",
            " 13  Weather Normalized Source EUI (kBtu/sq ft)  2658 non-null   float64\n",
            " 14  Total GHG Emissions (Metric Tons CO2e)      2673 non-null   float64\n",
            " 15  GHG Intensity (kg CO2e/sq ft)               2673 non-null   float64\n",
            " 16  Latitude                                    2688 non-null   float64\n",
            " 17  Longitude                                   2688 non-null   float64\n",
            " 18  Location                                    2688 non-null   object \n",
            " 19  BuildingEnergyUse(kBtu)                     2688 non-null   float64\n",
            "dtypes: float64(14), int64(2), object(4)\n",
            "memory usage: 441.0+ KB\n"
          ]
        }
      ]
    },
    {
      "cell_type": "code",
      "source": [
        "chicagoclean.describe()"
      ],
      "metadata": {
        "colab": {
          "base_uri": "https://localhost:8080/",
          "height": 433
        },
        "id": "xELgIXdZkGrm",
        "outputId": "f8602f25-cfe2-4fed-859b-02b8f1487b37"
      },
      "execution_count": null,
      "outputs": [
        {
          "output_type": "execute_result",
          "data": {
            "text/plain": [
              "       Data Year  Gross Floor Area - Buildings (sq ft)   Year Built  \\\n",
              "count     2688.0                          2.688000e+03  2683.000000   \n",
              "mean      2016.0                          2.448678e+05  1962.894521   \n",
              "std          0.0                          3.964045e+05    36.286206   \n",
              "min       2016.0                          5.000000e+04  1872.000000   \n",
              "25%       2016.0                          7.500000e+04  1928.000000   \n",
              "50%       2016.0                          1.237265e+05  1969.000000   \n",
              "75%       2016.0                          2.521352e+05  1997.000000   \n",
              "max       2016.0                          9.245333e+06  2016.000000   \n",
              "\n",
              "       # of Buildings  ENERGY STAR Score  Electricity Use (kBtu)  \\\n",
              "count     2688.000000        2300.000000            2.682000e+03   \n",
              "mean         1.405878          60.012609            1.078202e+07   \n",
              "std          5.201993          28.350327            2.498350e+07   \n",
              "min          1.000000           1.000000            5.028900e+03   \n",
              "25%          1.000000          38.000000            1.947823e+06   \n",
              "50%          1.000000          65.000000            4.031640e+06   \n",
              "75%          1.000000          84.000000            9.722706e+06   \n",
              "max        236.000000         100.000000            4.857050e+08   \n",
              "\n",
              "       Natural Gas Use (kBtu)  Site EUI (kBtu/sq ft)  Source EUI (kBtu/sq ft)  \\\n",
              "count            2.474000e+03            2688.000000              2688.000000   \n",
              "mean             1.189740e+07              94.208408               180.017820   \n",
              "std              2.786680e+07             125.939184               166.056539   \n",
              "min              1.284000e+03               0.200000                 0.200000   \n",
              "25%              3.213429e+06              61.800000               113.875000   \n",
              "50%              5.581524e+06              79.400000               148.100000   \n",
              "75%              1.190188e+07             101.050000               196.575000   \n",
              "max              5.493302e+08            5637.700000              6001.500000   \n",
              "\n",
              "       Weather Normalized Site EUI (kBtu/sq ft)  \\\n",
              "count                               2658.000000   \n",
              "mean                                  99.133296   \n",
              "std                                  127.267249   \n",
              "min                                    0.300000   \n",
              "25%                                   65.400000   \n",
              "50%                                   84.400000   \n",
              "75%                                  107.275000   \n",
              "max                                 5637.700000   \n",
              "\n",
              "       Weather Normalized Source EUI (kBtu/sq ft)  \\\n",
              "count                                 2658.000000   \n",
              "mean                                   184.965500   \n",
              "std                                    166.420203   \n",
              "min                                      0.300000   \n",
              "25%                                    118.625000   \n",
              "50%                                    154.050000   \n",
              "75%                                    201.575000   \n",
              "max                                   6001.500000   \n",
              "\n",
              "       Total GHG Emissions (Metric Tons CO2e)  GHG Intensity (kg CO2e/sq ft)  \\\n",
              "count                             2673.000000                    2673.000000   \n",
              "mean                              2630.786495                      10.103629   \n",
              "std                               5794.436792                       9.002384   \n",
              "min                                 32.500000                       0.400000   \n",
              "25%                                602.100000                       6.300000   \n",
              "50%                               1099.500000                       8.300000   \n",
              "75%                               2435.700000                      11.100000   \n",
              "max                             127610.000000                     304.600000   \n",
              "\n",
              "          Latitude    Longitude  BuildingEnergyUse(kBtu)  \n",
              "count  2688.000000  2688.000000              2688.000000  \n",
              "mean     41.885177   -87.653300                 7.080747  \n",
              "std       0.068316     0.047197                 0.440954  \n",
              "min      41.651404   -87.905562                 4.198657  \n",
              "25%      41.860920   -87.666607                 6.766312  \n",
              "50%      41.890566   -87.640766                 7.021055  \n",
              "75%      41.925276   -87.626682                 7.342854  \n",
              "max      42.019367   -87.527913                 9.062723  "
            ],
            "text/html": [
              "\n",
              "  <div id=\"df-98f0cd0c-5f74-4d05-891e-1f6065224a14\">\n",
              "    <div class=\"colab-df-container\">\n",
              "      <div>\n",
              "<style scoped>\n",
              "    .dataframe tbody tr th:only-of-type {\n",
              "        vertical-align: middle;\n",
              "    }\n",
              "\n",
              "    .dataframe tbody tr th {\n",
              "        vertical-align: top;\n",
              "    }\n",
              "\n",
              "    .dataframe thead th {\n",
              "        text-align: right;\n",
              "    }\n",
              "</style>\n",
              "<table border=\"1\" class=\"dataframe\">\n",
              "  <thead>\n",
              "    <tr style=\"text-align: right;\">\n",
              "      <th></th>\n",
              "      <th>Data Year</th>\n",
              "      <th>Gross Floor Area - Buildings (sq ft)</th>\n",
              "      <th>Year Built</th>\n",
              "      <th># of Buildings</th>\n",
              "      <th>ENERGY STAR Score</th>\n",
              "      <th>Electricity Use (kBtu)</th>\n",
              "      <th>Natural Gas Use (kBtu)</th>\n",
              "      <th>Site EUI (kBtu/sq ft)</th>\n",
              "      <th>Source EUI (kBtu/sq ft)</th>\n",
              "      <th>Weather Normalized Site EUI (kBtu/sq ft)</th>\n",
              "      <th>Weather Normalized Source EUI (kBtu/sq ft)</th>\n",
              "      <th>Total GHG Emissions (Metric Tons CO2e)</th>\n",
              "      <th>GHG Intensity (kg CO2e/sq ft)</th>\n",
              "      <th>Latitude</th>\n",
              "      <th>Longitude</th>\n",
              "      <th>BuildingEnergyUse(kBtu)</th>\n",
              "    </tr>\n",
              "  </thead>\n",
              "  <tbody>\n",
              "    <tr>\n",
              "      <th>count</th>\n",
              "      <td>2688.0</td>\n",
              "      <td>2.688000e+03</td>\n",
              "      <td>2683.000000</td>\n",
              "      <td>2688.000000</td>\n",
              "      <td>2300.000000</td>\n",
              "      <td>2.682000e+03</td>\n",
              "      <td>2.474000e+03</td>\n",
              "      <td>2688.000000</td>\n",
              "      <td>2688.000000</td>\n",
              "      <td>2658.000000</td>\n",
              "      <td>2658.000000</td>\n",
              "      <td>2673.000000</td>\n",
              "      <td>2673.000000</td>\n",
              "      <td>2688.000000</td>\n",
              "      <td>2688.000000</td>\n",
              "      <td>2688.000000</td>\n",
              "    </tr>\n",
              "    <tr>\n",
              "      <th>mean</th>\n",
              "      <td>2016.0</td>\n",
              "      <td>2.448678e+05</td>\n",
              "      <td>1962.894521</td>\n",
              "      <td>1.405878</td>\n",
              "      <td>60.012609</td>\n",
              "      <td>1.078202e+07</td>\n",
              "      <td>1.189740e+07</td>\n",
              "      <td>94.208408</td>\n",
              "      <td>180.017820</td>\n",
              "      <td>99.133296</td>\n",
              "      <td>184.965500</td>\n",
              "      <td>2630.786495</td>\n",
              "      <td>10.103629</td>\n",
              "      <td>41.885177</td>\n",
              "      <td>-87.653300</td>\n",
              "      <td>7.080747</td>\n",
              "    </tr>\n",
              "    <tr>\n",
              "      <th>std</th>\n",
              "      <td>0.0</td>\n",
              "      <td>3.964045e+05</td>\n",
              "      <td>36.286206</td>\n",
              "      <td>5.201993</td>\n",
              "      <td>28.350327</td>\n",
              "      <td>2.498350e+07</td>\n",
              "      <td>2.786680e+07</td>\n",
              "      <td>125.939184</td>\n",
              "      <td>166.056539</td>\n",
              "      <td>127.267249</td>\n",
              "      <td>166.420203</td>\n",
              "      <td>5794.436792</td>\n",
              "      <td>9.002384</td>\n",
              "      <td>0.068316</td>\n",
              "      <td>0.047197</td>\n",
              "      <td>0.440954</td>\n",
              "    </tr>\n",
              "    <tr>\n",
              "      <th>min</th>\n",
              "      <td>2016.0</td>\n",
              "      <td>5.000000e+04</td>\n",
              "      <td>1872.000000</td>\n",
              "      <td>1.000000</td>\n",
              "      <td>1.000000</td>\n",
              "      <td>5.028900e+03</td>\n",
              "      <td>1.284000e+03</td>\n",
              "      <td>0.200000</td>\n",
              "      <td>0.200000</td>\n",
              "      <td>0.300000</td>\n",
              "      <td>0.300000</td>\n",
              "      <td>32.500000</td>\n",
              "      <td>0.400000</td>\n",
              "      <td>41.651404</td>\n",
              "      <td>-87.905562</td>\n",
              "      <td>4.198657</td>\n",
              "    </tr>\n",
              "    <tr>\n",
              "      <th>25%</th>\n",
              "      <td>2016.0</td>\n",
              "      <td>7.500000e+04</td>\n",
              "      <td>1928.000000</td>\n",
              "      <td>1.000000</td>\n",
              "      <td>38.000000</td>\n",
              "      <td>1.947823e+06</td>\n",
              "      <td>3.213429e+06</td>\n",
              "      <td>61.800000</td>\n",
              "      <td>113.875000</td>\n",
              "      <td>65.400000</td>\n",
              "      <td>118.625000</td>\n",
              "      <td>602.100000</td>\n",
              "      <td>6.300000</td>\n",
              "      <td>41.860920</td>\n",
              "      <td>-87.666607</td>\n",
              "      <td>6.766312</td>\n",
              "    </tr>\n",
              "    <tr>\n",
              "      <th>50%</th>\n",
              "      <td>2016.0</td>\n",
              "      <td>1.237265e+05</td>\n",
              "      <td>1969.000000</td>\n",
              "      <td>1.000000</td>\n",
              "      <td>65.000000</td>\n",
              "      <td>4.031640e+06</td>\n",
              "      <td>5.581524e+06</td>\n",
              "      <td>79.400000</td>\n",
              "      <td>148.100000</td>\n",
              "      <td>84.400000</td>\n",
              "      <td>154.050000</td>\n",
              "      <td>1099.500000</td>\n",
              "      <td>8.300000</td>\n",
              "      <td>41.890566</td>\n",
              "      <td>-87.640766</td>\n",
              "      <td>7.021055</td>\n",
              "    </tr>\n",
              "    <tr>\n",
              "      <th>75%</th>\n",
              "      <td>2016.0</td>\n",
              "      <td>2.521352e+05</td>\n",
              "      <td>1997.000000</td>\n",
              "      <td>1.000000</td>\n",
              "      <td>84.000000</td>\n",
              "      <td>9.722706e+06</td>\n",
              "      <td>1.190188e+07</td>\n",
              "      <td>101.050000</td>\n",
              "      <td>196.575000</td>\n",
              "      <td>107.275000</td>\n",
              "      <td>201.575000</td>\n",
              "      <td>2435.700000</td>\n",
              "      <td>11.100000</td>\n",
              "      <td>41.925276</td>\n",
              "      <td>-87.626682</td>\n",
              "      <td>7.342854</td>\n",
              "    </tr>\n",
              "    <tr>\n",
              "      <th>max</th>\n",
              "      <td>2016.0</td>\n",
              "      <td>9.245333e+06</td>\n",
              "      <td>2016.000000</td>\n",
              "      <td>236.000000</td>\n",
              "      <td>100.000000</td>\n",
              "      <td>4.857050e+08</td>\n",
              "      <td>5.493302e+08</td>\n",
              "      <td>5637.700000</td>\n",
              "      <td>6001.500000</td>\n",
              "      <td>5637.700000</td>\n",
              "      <td>6001.500000</td>\n",
              "      <td>127610.000000</td>\n",
              "      <td>304.600000</td>\n",
              "      <td>42.019367</td>\n",
              "      <td>-87.527913</td>\n",
              "      <td>9.062723</td>\n",
              "    </tr>\n",
              "  </tbody>\n",
              "</table>\n",
              "</div>\n",
              "      <button class=\"colab-df-convert\" onclick=\"convertToInteractive('df-98f0cd0c-5f74-4d05-891e-1f6065224a14')\"\n",
              "              title=\"Convert this dataframe to an interactive table.\"\n",
              "              style=\"display:none;\">\n",
              "        \n",
              "  <svg xmlns=\"http://www.w3.org/2000/svg\" height=\"24px\"viewBox=\"0 0 24 24\"\n",
              "       width=\"24px\">\n",
              "    <path d=\"M0 0h24v24H0V0z\" fill=\"none\"/>\n",
              "    <path d=\"M18.56 5.44l.94 2.06.94-2.06 2.06-.94-2.06-.94-.94-2.06-.94 2.06-2.06.94zm-11 1L8.5 8.5l.94-2.06 2.06-.94-2.06-.94L8.5 2.5l-.94 2.06-2.06.94zm10 10l.94 2.06.94-2.06 2.06-.94-2.06-.94-.94-2.06-.94 2.06-2.06.94z\"/><path d=\"M17.41 7.96l-1.37-1.37c-.4-.4-.92-.59-1.43-.59-.52 0-1.04.2-1.43.59L10.3 9.45l-7.72 7.72c-.78.78-.78 2.05 0 2.83L4 21.41c.39.39.9.59 1.41.59.51 0 1.02-.2 1.41-.59l7.78-7.78 2.81-2.81c.8-.78.8-2.07 0-2.86zM5.41 20L4 18.59l7.72-7.72 1.47 1.35L5.41 20z\"/>\n",
              "  </svg>\n",
              "      </button>\n",
              "      \n",
              "  <style>\n",
              "    .colab-df-container {\n",
              "      display:flex;\n",
              "      flex-wrap:wrap;\n",
              "      gap: 12px;\n",
              "    }\n",
              "\n",
              "    .colab-df-convert {\n",
              "      background-color: #E8F0FE;\n",
              "      border: none;\n",
              "      border-radius: 50%;\n",
              "      cursor: pointer;\n",
              "      display: none;\n",
              "      fill: #1967D2;\n",
              "      height: 32px;\n",
              "      padding: 0 0 0 0;\n",
              "      width: 32px;\n",
              "    }\n",
              "\n",
              "    .colab-df-convert:hover {\n",
              "      background-color: #E2EBFA;\n",
              "      box-shadow: 0px 1px 2px rgba(60, 64, 67, 0.3), 0px 1px 3px 1px rgba(60, 64, 67, 0.15);\n",
              "      fill: #174EA6;\n",
              "    }\n",
              "\n",
              "    [theme=dark] .colab-df-convert {\n",
              "      background-color: #3B4455;\n",
              "      fill: #D2E3FC;\n",
              "    }\n",
              "\n",
              "    [theme=dark] .colab-df-convert:hover {\n",
              "      background-color: #434B5C;\n",
              "      box-shadow: 0px 1px 3px 1px rgba(0, 0, 0, 0.15);\n",
              "      filter: drop-shadow(0px 1px 2px rgba(0, 0, 0, 0.3));\n",
              "      fill: #FFFFFF;\n",
              "    }\n",
              "  </style>\n",
              "\n",
              "      <script>\n",
              "        const buttonEl =\n",
              "          document.querySelector('#df-98f0cd0c-5f74-4d05-891e-1f6065224a14 button.colab-df-convert');\n",
              "        buttonEl.style.display =\n",
              "          google.colab.kernel.accessAllowed ? 'block' : 'none';\n",
              "\n",
              "        async function convertToInteractive(key) {\n",
              "          const element = document.querySelector('#df-98f0cd0c-5f74-4d05-891e-1f6065224a14');\n",
              "          const dataTable =\n",
              "            await google.colab.kernel.invokeFunction('convertToInteractive',\n",
              "                                                     [key], {});\n",
              "          if (!dataTable) return;\n",
              "\n",
              "          const docLinkHtml = 'Like what you see? Visit the ' +\n",
              "            '<a target=\"_blank\" href=https://colab.research.google.com/notebooks/data_table.ipynb>data table notebook</a>'\n",
              "            + ' to learn more about interactive tables.';\n",
              "          element.innerHTML = '';\n",
              "          dataTable['output_type'] = 'display_data';\n",
              "          await google.colab.output.renderOutput(dataTable, element);\n",
              "          const docLink = document.createElement('div');\n",
              "          docLink.innerHTML = docLinkHtml;\n",
              "          element.appendChild(docLink);\n",
              "        }\n",
              "      </script>\n",
              "    </div>\n",
              "  </div>\n",
              "  "
            ]
          },
          "metadata": {},
          "execution_count": 255
        }
      ]
    },
    {
      "cell_type": "markdown",
      "source": [
        "## Throw away data where the **target** variable is missing\n",
        "\n",
        "*I will remove each row where I do not have the target variable. To do that I use `df.dropna()` and the subset argument of `df.dropna()` set to the name of the variable. The `how` should be set to \"any\" cause you want to drop the row where any values in the subset is NaN (this is a subset of one column, so it is obvious, but imagine if you were passing more than one column to the call `dropna()`*"
      ],
      "metadata": {
        "id": "LjzW2m2I-dvq"
      }
    },
    {
      "cell_type": "code",
      "source": [
        " # I actually don't have missing target variables. I think I dropped them above.\n",
        "chicagoclean[\"BuildingEnergyUse(kBtu)\"].isna().sum()"
      ],
      "metadata": {
        "id": "aDMtT0kq_rUx",
        "colab": {
          "base_uri": "https://localhost:8080/"
        },
        "outputId": "f94bcc05-6225-46ac-aafb-edb327fe5820"
      },
      "execution_count": null,
      "outputs": [
        {
          "output_type": "execute_result",
          "data": {
            "text/plain": [
              "0"
            ]
          },
          "metadata": {},
          "execution_count": 256
        }
      ]
    },
    {
      "cell_type": "code",
      "source": [
        "# leaving this code for now in case I need to drop rows with NaNs in other\n",
        "#columns\n",
        "original_len = chicagoclean.shape[0]\n",
        "chicagoclean.dropna(subset=['BuildingEnergyUse(kBtu)'])\n",
        "\n",
        "print(\"I lost {:.2f}% of the data\".format((1 - (chicagoclean.shape[0] / original_len)) * 100))"
      ],
      "metadata": {
        "colab": {
          "base_uri": "https://localhost:8080/"
        },
        "id": "MQC0OsUq-i0Q",
        "outputId": "63f0d0d8-999e-48a9-a68e-d78c35170862"
      },
      "execution_count": null,
      "outputs": [
        {
          "output_type": "stream",
          "name": "stdout",
          "text": [
            "I lost 0.00% of the data\n"
          ]
        }
      ]
    },
    {
      "cell_type": "code",
      "metadata": {
        "id": "7uQG7QcFPJUA"
      },
      "source": [
        "# isolate the target variable first (endogenous)\n",
        "y = chicagoclean[\"BuildingEnergyUse(kBtu)\"].values"
      ],
      "execution_count": null,
      "outputs": []
    },
    {
      "cell_type": "code",
      "source": [
        "# and the input variables (exogenous)\n",
        "X = chicagoclean.drop(\"BuildingEnergyUse(kBtu)\", axis=1)"
      ],
      "metadata": {
        "id": "1_ZO1NtR-19k"
      },
      "execution_count": null,
      "outputs": []
    },
    {
      "cell_type": "markdown",
      "metadata": {
        "id": "iNbDz-98ZvkM"
      },
      "source": [
        "### Separate categorical and numerical values\n",
        "you will proceed to missing data imputation differently in the 2 cases"
      ]
    },
    {
      "cell_type": "code",
      "source": [
        "# I am giving you the solution but please take note of how one does this!\n",
        "X_numeric_data = X.select_dtypes(include=[np.number])\n",
        "X_categorical_data = X.select_dtypes(exclude=[np.number])"
      ],
      "metadata": {
        "id": "-XpDBDTI-gE_"
      },
      "execution_count": null,
      "outputs": []
    },
    {
      "cell_type": "code",
      "source": [
        "X_numeric_data.shape"
      ],
      "metadata": {
        "id": "fTjcQ4Id_IWB",
        "colab": {
          "base_uri": "https://localhost:8080/"
        },
        "outputId": "1d9dd697-aa80-4922-fa33-8e8752e030a4"
      },
      "execution_count": null,
      "outputs": [
        {
          "output_type": "execute_result",
          "data": {
            "text/plain": [
              "(2688, 15)"
            ]
          },
          "metadata": {},
          "execution_count": 261
        }
      ]
    },
    {
      "cell_type": "markdown",
      "source": [
        "### is there anything suspicious? anything thas is in fact **not** a numerical variable? that will depend on how you did in TASK 1\n",
        "\n",
        "Data Year might be a variable...if it were anything but 2016. Latitude and Longitude are kind of borderline. I assume for an area as small as this, lat/long is more associated with what kind of buildings are in a spot (such as zoning) than the performance of a building (such as climate). Location is included in categorical, too."
      ],
      "metadata": {
        "id": "DjuS4Q7_KlDF"
      }
    },
    {
      "cell_type": "code",
      "source": [
        "X_numeric_data.head()"
      ],
      "metadata": {
        "id": "_3qPUKno_aXS",
        "colab": {
          "base_uri": "https://localhost:8080/",
          "height": 339
        },
        "outputId": "1aed4182-1c8a-47d6-96f9-a6b547ef3294"
      },
      "execution_count": null,
      "outputs": [
        {
          "output_type": "execute_result",
          "data": {
            "text/plain": [
              "   Data Year  Gross Floor Area - Buildings (sq ft)  Year Built  \\\n",
              "0       2016                               99000.0      2000.0   \n",
              "1       2016                               92072.0      2014.0   \n",
              "2       2016                              136000.0      1924.0   \n",
              "3       2016                              182246.0      1964.0   \n",
              "4       2016                              193497.0      1930.0   \n",
              "\n",
              "   # of Buildings  ENERGY STAR Score  Electricity Use (kBtu)  \\\n",
              "0               1               96.0               1935003.2   \n",
              "1               1               55.0               2477744.2   \n",
              "2               1               24.0               5724360.2   \n",
              "3               1               41.0               3158535.8   \n",
              "4               1               94.0               3620381.1   \n",
              "\n",
              "   Natural Gas Use (kBtu)  Site EUI (kBtu/sq ft)  Source EUI (kBtu/sq ft)  \\\n",
              "0               2783435.5                   47.7                     90.9   \n",
              "1               3147551.1                   61.1                    120.4   \n",
              "2               1951759.8                   56.4                    147.2   \n",
              "3              17010259.2                  110.7                    152.4   \n",
              "4               5465540.1                   47.0                     88.4   \n",
              "\n",
              "   Weather Normalized Site EUI (kBtu/sq ft)  \\\n",
              "0                                      46.7   \n",
              "1                                      63.6   \n",
              "2                                      59.8   \n",
              "3                                     121.1   \n",
              "4                                      48.8   \n",
              "\n",
              "   Weather Normalized Source EUI (kBtu/sq ft)  \\\n",
              "0                                        87.8   \n",
              "1                                       123.0   \n",
              "2                                       157.4   \n",
              "3                                       163.3   \n",
              "4                                        89.0   \n",
              "\n",
              "   Total GHG Emissions (Metric Tons CO2e)  GHG Intensity (kg CO2e/sq ft)  \\\n",
              "0                                   504.5                            5.1   \n",
              "1                                   623.9                            6.8   \n",
              "2                                  1158.8                            8.5   \n",
              "3                                  1485.7                            8.2   \n",
              "4                                   957.6                            4.9   \n",
              "\n",
              "    Latitude  Longitude  \n",
              "0  41.884253  -87.63245  \n",
              "1  41.947402  -87.64964  \n",
              "2  41.899208  -87.62729  \n",
              "3  41.845860  -87.62921  \n",
              "4  41.874295  -87.65018  "
            ],
            "text/html": [
              "\n",
              "  <div id=\"df-00c9ee6a-3d9f-4fed-9903-30ca9f4149d0\">\n",
              "    <div class=\"colab-df-container\">\n",
              "      <div>\n",
              "<style scoped>\n",
              "    .dataframe tbody tr th:only-of-type {\n",
              "        vertical-align: middle;\n",
              "    }\n",
              "\n",
              "    .dataframe tbody tr th {\n",
              "        vertical-align: top;\n",
              "    }\n",
              "\n",
              "    .dataframe thead th {\n",
              "        text-align: right;\n",
              "    }\n",
              "</style>\n",
              "<table border=\"1\" class=\"dataframe\">\n",
              "  <thead>\n",
              "    <tr style=\"text-align: right;\">\n",
              "      <th></th>\n",
              "      <th>Data Year</th>\n",
              "      <th>Gross Floor Area - Buildings (sq ft)</th>\n",
              "      <th>Year Built</th>\n",
              "      <th># of Buildings</th>\n",
              "      <th>ENERGY STAR Score</th>\n",
              "      <th>Electricity Use (kBtu)</th>\n",
              "      <th>Natural Gas Use (kBtu)</th>\n",
              "      <th>Site EUI (kBtu/sq ft)</th>\n",
              "      <th>Source EUI (kBtu/sq ft)</th>\n",
              "      <th>Weather Normalized Site EUI (kBtu/sq ft)</th>\n",
              "      <th>Weather Normalized Source EUI (kBtu/sq ft)</th>\n",
              "      <th>Total GHG Emissions (Metric Tons CO2e)</th>\n",
              "      <th>GHG Intensity (kg CO2e/sq ft)</th>\n",
              "      <th>Latitude</th>\n",
              "      <th>Longitude</th>\n",
              "    </tr>\n",
              "  </thead>\n",
              "  <tbody>\n",
              "    <tr>\n",
              "      <th>0</th>\n",
              "      <td>2016</td>\n",
              "      <td>99000.0</td>\n",
              "      <td>2000.0</td>\n",
              "      <td>1</td>\n",
              "      <td>96.0</td>\n",
              "      <td>1935003.2</td>\n",
              "      <td>2783435.5</td>\n",
              "      <td>47.7</td>\n",
              "      <td>90.9</td>\n",
              "      <td>46.7</td>\n",
              "      <td>87.8</td>\n",
              "      <td>504.5</td>\n",
              "      <td>5.1</td>\n",
              "      <td>41.884253</td>\n",
              "      <td>-87.63245</td>\n",
              "    </tr>\n",
              "    <tr>\n",
              "      <th>1</th>\n",
              "      <td>2016</td>\n",
              "      <td>92072.0</td>\n",
              "      <td>2014.0</td>\n",
              "      <td>1</td>\n",
              "      <td>55.0</td>\n",
              "      <td>2477744.2</td>\n",
              "      <td>3147551.1</td>\n",
              "      <td>61.1</td>\n",
              "      <td>120.4</td>\n",
              "      <td>63.6</td>\n",
              "      <td>123.0</td>\n",
              "      <td>623.9</td>\n",
              "      <td>6.8</td>\n",
              "      <td>41.947402</td>\n",
              "      <td>-87.64964</td>\n",
              "    </tr>\n",
              "    <tr>\n",
              "      <th>2</th>\n",
              "      <td>2016</td>\n",
              "      <td>136000.0</td>\n",
              "      <td>1924.0</td>\n",
              "      <td>1</td>\n",
              "      <td>24.0</td>\n",
              "      <td>5724360.2</td>\n",
              "      <td>1951759.8</td>\n",
              "      <td>56.4</td>\n",
              "      <td>147.2</td>\n",
              "      <td>59.8</td>\n",
              "      <td>157.4</td>\n",
              "      <td>1158.8</td>\n",
              "      <td>8.5</td>\n",
              "      <td>41.899208</td>\n",
              "      <td>-87.62729</td>\n",
              "    </tr>\n",
              "    <tr>\n",
              "      <th>3</th>\n",
              "      <td>2016</td>\n",
              "      <td>182246.0</td>\n",
              "      <td>1964.0</td>\n",
              "      <td>1</td>\n",
              "      <td>41.0</td>\n",
              "      <td>3158535.8</td>\n",
              "      <td>17010259.2</td>\n",
              "      <td>110.7</td>\n",
              "      <td>152.4</td>\n",
              "      <td>121.1</td>\n",
              "      <td>163.3</td>\n",
              "      <td>1485.7</td>\n",
              "      <td>8.2</td>\n",
              "      <td>41.845860</td>\n",
              "      <td>-87.62921</td>\n",
              "    </tr>\n",
              "    <tr>\n",
              "      <th>4</th>\n",
              "      <td>2016</td>\n",
              "      <td>193497.0</td>\n",
              "      <td>1930.0</td>\n",
              "      <td>1</td>\n",
              "      <td>94.0</td>\n",
              "      <td>3620381.1</td>\n",
              "      <td>5465540.1</td>\n",
              "      <td>47.0</td>\n",
              "      <td>88.4</td>\n",
              "      <td>48.8</td>\n",
              "      <td>89.0</td>\n",
              "      <td>957.6</td>\n",
              "      <td>4.9</td>\n",
              "      <td>41.874295</td>\n",
              "      <td>-87.65018</td>\n",
              "    </tr>\n",
              "  </tbody>\n",
              "</table>\n",
              "</div>\n",
              "      <button class=\"colab-df-convert\" onclick=\"convertToInteractive('df-00c9ee6a-3d9f-4fed-9903-30ca9f4149d0')\"\n",
              "              title=\"Convert this dataframe to an interactive table.\"\n",
              "              style=\"display:none;\">\n",
              "        \n",
              "  <svg xmlns=\"http://www.w3.org/2000/svg\" height=\"24px\"viewBox=\"0 0 24 24\"\n",
              "       width=\"24px\">\n",
              "    <path d=\"M0 0h24v24H0V0z\" fill=\"none\"/>\n",
              "    <path d=\"M18.56 5.44l.94 2.06.94-2.06 2.06-.94-2.06-.94-.94-2.06-.94 2.06-2.06.94zm-11 1L8.5 8.5l.94-2.06 2.06-.94-2.06-.94L8.5 2.5l-.94 2.06-2.06.94zm10 10l.94 2.06.94-2.06 2.06-.94-2.06-.94-.94-2.06-.94 2.06-2.06.94z\"/><path d=\"M17.41 7.96l-1.37-1.37c-.4-.4-.92-.59-1.43-.59-.52 0-1.04.2-1.43.59L10.3 9.45l-7.72 7.72c-.78.78-.78 2.05 0 2.83L4 21.41c.39.39.9.59 1.41.59.51 0 1.02-.2 1.41-.59l7.78-7.78 2.81-2.81c.8-.78.8-2.07 0-2.86zM5.41 20L4 18.59l7.72-7.72 1.47 1.35L5.41 20z\"/>\n",
              "  </svg>\n",
              "      </button>\n",
              "      \n",
              "  <style>\n",
              "    .colab-df-container {\n",
              "      display:flex;\n",
              "      flex-wrap:wrap;\n",
              "      gap: 12px;\n",
              "    }\n",
              "\n",
              "    .colab-df-convert {\n",
              "      background-color: #E8F0FE;\n",
              "      border: none;\n",
              "      border-radius: 50%;\n",
              "      cursor: pointer;\n",
              "      display: none;\n",
              "      fill: #1967D2;\n",
              "      height: 32px;\n",
              "      padding: 0 0 0 0;\n",
              "      width: 32px;\n",
              "    }\n",
              "\n",
              "    .colab-df-convert:hover {\n",
              "      background-color: #E2EBFA;\n",
              "      box-shadow: 0px 1px 2px rgba(60, 64, 67, 0.3), 0px 1px 3px 1px rgba(60, 64, 67, 0.15);\n",
              "      fill: #174EA6;\n",
              "    }\n",
              "\n",
              "    [theme=dark] .colab-df-convert {\n",
              "      background-color: #3B4455;\n",
              "      fill: #D2E3FC;\n",
              "    }\n",
              "\n",
              "    [theme=dark] .colab-df-convert:hover {\n",
              "      background-color: #434B5C;\n",
              "      box-shadow: 0px 1px 3px 1px rgba(0, 0, 0, 0.15);\n",
              "      filter: drop-shadow(0px 1px 2px rgba(0, 0, 0, 0.3));\n",
              "      fill: #FFFFFF;\n",
              "    }\n",
              "  </style>\n",
              "\n",
              "      <script>\n",
              "        const buttonEl =\n",
              "          document.querySelector('#df-00c9ee6a-3d9f-4fed-9903-30ca9f4149d0 button.colab-df-convert');\n",
              "        buttonEl.style.display =\n",
              "          google.colab.kernel.accessAllowed ? 'block' : 'none';\n",
              "\n",
              "        async function convertToInteractive(key) {\n",
              "          const element = document.querySelector('#df-00c9ee6a-3d9f-4fed-9903-30ca9f4149d0');\n",
              "          const dataTable =\n",
              "            await google.colab.kernel.invokeFunction('convertToInteractive',\n",
              "                                                     [key], {});\n",
              "          if (!dataTable) return;\n",
              "\n",
              "          const docLinkHtml = 'Like what you see? Visit the ' +\n",
              "            '<a target=\"_blank\" href=https://colab.research.google.com/notebooks/data_table.ipynb>data table notebook</a>'\n",
              "            + ' to learn more about interactive tables.';\n",
              "          element.innerHTML = '';\n",
              "          dataTable['output_type'] = 'display_data';\n",
              "          await google.colab.output.renderOutput(dataTable, element);\n",
              "          const docLink = document.createElement('div');\n",
              "          docLink.innerHTML = docLinkHtml;\n",
              "          element.appendChild(docLink);\n",
              "        }\n",
              "      </script>\n",
              "    </div>\n",
              "  </div>\n",
              "  "
            ]
          },
          "metadata": {},
          "execution_count": 262
        }
      ]
    },
    {
      "cell_type": "code",
      "source": [
        "X_categorical_data.head()"
      ],
      "metadata": {
        "colab": {
          "base_uri": "https://localhost:8080/",
          "height": 206
        },
        "id": "qCXj6YfFqGzn",
        "outputId": "209961a6-7d78-440a-8563-cb19352ab92c"
      },
      "execution_count": null,
      "outputs": [
        {
          "output_type": "execute_result",
          "data": {
            "text/plain": [
              "  ZIP Code   Community Area Primary Property Type                 Location\n",
              "0    60616    Armour Square   Multifamily Housing  (41.8842525, -87.63245)\n",
              "1    60613        Lake View   Multifamily Housing  (41.9474017, -87.64964)\n",
              "2    60611  Near North Side   Multifamily Housing  (41.8992081, -87.62729)\n",
              "3    60616          Douglas   Multifamily Housing  (41.8458598, -87.62921)\n",
              "4    60607   Near West Side   Multifamily Housing  (41.8742951, -87.65018)"
            ],
            "text/html": [
              "\n",
              "  <div id=\"df-623cb7c5-f2d3-4ef5-adcb-4f661da54629\">\n",
              "    <div class=\"colab-df-container\">\n",
              "      <div>\n",
              "<style scoped>\n",
              "    .dataframe tbody tr th:only-of-type {\n",
              "        vertical-align: middle;\n",
              "    }\n",
              "\n",
              "    .dataframe tbody tr th {\n",
              "        vertical-align: top;\n",
              "    }\n",
              "\n",
              "    .dataframe thead th {\n",
              "        text-align: right;\n",
              "    }\n",
              "</style>\n",
              "<table border=\"1\" class=\"dataframe\">\n",
              "  <thead>\n",
              "    <tr style=\"text-align: right;\">\n",
              "      <th></th>\n",
              "      <th>ZIP Code</th>\n",
              "      <th>Community Area</th>\n",
              "      <th>Primary Property Type</th>\n",
              "      <th>Location</th>\n",
              "    </tr>\n",
              "  </thead>\n",
              "  <tbody>\n",
              "    <tr>\n",
              "      <th>0</th>\n",
              "      <td>60616</td>\n",
              "      <td>Armour Square</td>\n",
              "      <td>Multifamily Housing</td>\n",
              "      <td>(41.8842525, -87.63245)</td>\n",
              "    </tr>\n",
              "    <tr>\n",
              "      <th>1</th>\n",
              "      <td>60613</td>\n",
              "      <td>Lake View</td>\n",
              "      <td>Multifamily Housing</td>\n",
              "      <td>(41.9474017, -87.64964)</td>\n",
              "    </tr>\n",
              "    <tr>\n",
              "      <th>2</th>\n",
              "      <td>60611</td>\n",
              "      <td>Near North Side</td>\n",
              "      <td>Multifamily Housing</td>\n",
              "      <td>(41.8992081, -87.62729)</td>\n",
              "    </tr>\n",
              "    <tr>\n",
              "      <th>3</th>\n",
              "      <td>60616</td>\n",
              "      <td>Douglas</td>\n",
              "      <td>Multifamily Housing</td>\n",
              "      <td>(41.8458598, -87.62921)</td>\n",
              "    </tr>\n",
              "    <tr>\n",
              "      <th>4</th>\n",
              "      <td>60607</td>\n",
              "      <td>Near West Side</td>\n",
              "      <td>Multifamily Housing</td>\n",
              "      <td>(41.8742951, -87.65018)</td>\n",
              "    </tr>\n",
              "  </tbody>\n",
              "</table>\n",
              "</div>\n",
              "      <button class=\"colab-df-convert\" onclick=\"convertToInteractive('df-623cb7c5-f2d3-4ef5-adcb-4f661da54629')\"\n",
              "              title=\"Convert this dataframe to an interactive table.\"\n",
              "              style=\"display:none;\">\n",
              "        \n",
              "  <svg xmlns=\"http://www.w3.org/2000/svg\" height=\"24px\"viewBox=\"0 0 24 24\"\n",
              "       width=\"24px\">\n",
              "    <path d=\"M0 0h24v24H0V0z\" fill=\"none\"/>\n",
              "    <path d=\"M18.56 5.44l.94 2.06.94-2.06 2.06-.94-2.06-.94-.94-2.06-.94 2.06-2.06.94zm-11 1L8.5 8.5l.94-2.06 2.06-.94-2.06-.94L8.5 2.5l-.94 2.06-2.06.94zm10 10l.94 2.06.94-2.06 2.06-.94-2.06-.94-.94-2.06-.94 2.06-2.06.94z\"/><path d=\"M17.41 7.96l-1.37-1.37c-.4-.4-.92-.59-1.43-.59-.52 0-1.04.2-1.43.59L10.3 9.45l-7.72 7.72c-.78.78-.78 2.05 0 2.83L4 21.41c.39.39.9.59 1.41.59.51 0 1.02-.2 1.41-.59l7.78-7.78 2.81-2.81c.8-.78.8-2.07 0-2.86zM5.41 20L4 18.59l7.72-7.72 1.47 1.35L5.41 20z\"/>\n",
              "  </svg>\n",
              "      </button>\n",
              "      \n",
              "  <style>\n",
              "    .colab-df-container {\n",
              "      display:flex;\n",
              "      flex-wrap:wrap;\n",
              "      gap: 12px;\n",
              "    }\n",
              "\n",
              "    .colab-df-convert {\n",
              "      background-color: #E8F0FE;\n",
              "      border: none;\n",
              "      border-radius: 50%;\n",
              "      cursor: pointer;\n",
              "      display: none;\n",
              "      fill: #1967D2;\n",
              "      height: 32px;\n",
              "      padding: 0 0 0 0;\n",
              "      width: 32px;\n",
              "    }\n",
              "\n",
              "    .colab-df-convert:hover {\n",
              "      background-color: #E2EBFA;\n",
              "      box-shadow: 0px 1px 2px rgba(60, 64, 67, 0.3), 0px 1px 3px 1px rgba(60, 64, 67, 0.15);\n",
              "      fill: #174EA6;\n",
              "    }\n",
              "\n",
              "    [theme=dark] .colab-df-convert {\n",
              "      background-color: #3B4455;\n",
              "      fill: #D2E3FC;\n",
              "    }\n",
              "\n",
              "    [theme=dark] .colab-df-convert:hover {\n",
              "      background-color: #434B5C;\n",
              "      box-shadow: 0px 1px 3px 1px rgba(0, 0, 0, 0.15);\n",
              "      filter: drop-shadow(0px 1px 2px rgba(0, 0, 0, 0.3));\n",
              "      fill: #FFFFFF;\n",
              "    }\n",
              "  </style>\n",
              "\n",
              "      <script>\n",
              "        const buttonEl =\n",
              "          document.querySelector('#df-623cb7c5-f2d3-4ef5-adcb-4f661da54629 button.colab-df-convert');\n",
              "        buttonEl.style.display =\n",
              "          google.colab.kernel.accessAllowed ? 'block' : 'none';\n",
              "\n",
              "        async function convertToInteractive(key) {\n",
              "          const element = document.querySelector('#df-623cb7c5-f2d3-4ef5-adcb-4f661da54629');\n",
              "          const dataTable =\n",
              "            await google.colab.kernel.invokeFunction('convertToInteractive',\n",
              "                                                     [key], {});\n",
              "          if (!dataTable) return;\n",
              "\n",
              "          const docLinkHtml = 'Like what you see? Visit the ' +\n",
              "            '<a target=\"_blank\" href=https://colab.research.google.com/notebooks/data_table.ipynb>data table notebook</a>'\n",
              "            + ' to learn more about interactive tables.';\n",
              "          element.innerHTML = '';\n",
              "          dataTable['output_type'] = 'display_data';\n",
              "          await google.colab.output.renderOutput(dataTable, element);\n",
              "          const docLink = document.createElement('div');\n",
              "          docLink.innerHTML = docLinkHtml;\n",
              "          element.appendChild(docLink);\n",
              "        }\n",
              "      </script>\n",
              "    </div>\n",
              "  </div>\n",
              "  "
            ]
          },
          "metadata": {},
          "execution_count": 263
        }
      ]
    },
    {
      "cell_type": "code",
      "source": [
        "X_categorical_data.shape"
      ],
      "metadata": {
        "id": "4T_3UDYv_Nft",
        "colab": {
          "base_uri": "https://localhost:8080/"
        },
        "outputId": "ef2d8c3b-d4d4-441a-bf25-d5848f2d95e8"
      },
      "execution_count": null,
      "outputs": [
        {
          "output_type": "execute_result",
          "data": {
            "text/plain": [
              "(2688, 4)"
            ]
          },
          "metadata": {},
          "execution_count": 264
        }
      ]
    },
    {
      "cell_type": "markdown",
      "source": [
        "## TASK 2.1: make a scatter plot to assess covariance of numerical variables"
      ],
      "metadata": {
        "id": "l5MLHK6N8Ywm"
      }
    },
    {
      "cell_type": "markdown",
      "source": [
        "### IMPORTANT!! \n",
        "\n",
        "there are going to be some **very** collinear variable - zoom in and chek them out - what are they? You will need to remove variables that are _identical_, because you obviously do not want to imput the data twice in the model - it will not improve the model and it will impact the feature importance analysis.\n",
        "\n",
        "What else looks like it should be removed? \n",
        "\n",
        "**Reason about it and explain your choices in the caption of the figure**\n",
        "\n"
      ],
      "metadata": {
        "id": "ZtXoL_JgF04s"
      }
    },
    {
      "cell_type": "code",
      "source": [
        "# THIS TAKES A LOOOONG TIME! ~10 MINUTES ON COLAB FOR ME\n",
        "#import seaborn as sns\n",
        "#sns.pairplot(X_numeric_data)\n",
        "# DELETE OUTPUT! (as in make the code not run?)"
      ],
      "metadata": {
        "id": "zsWGebVX80OQ",
        "colab": {
          "base_uri": "https://localhost:8080/",
          "height": 965
        },
        "outputId": "18ab697b-bfba-4d87-dfe9-cfdf0e9969f9"
      },
      "execution_count": null,
      "outputs": [
        {
          "output_type": "execute_result",
          "data": {
            "text/plain": [
              "<seaborn.axisgrid.PairGrid at 0x7fdf4574e4d0>"
            ]
          },
          "metadata": {},
          "execution_count": 265
        },
        {
          "output_type": "display_data",
          "data": {
            "text/plain": [
              "<Figure size 2700x2700 with 240 Axes>"
            ],
            "image/png": "[encoded data removed]"
          },
          "metadata": {
            "needs_background": "light"
          }
        }
      ]
    },
    {
      "cell_type": "markdown",
      "source": [
        "Dr. Bianco and I talked about what to drop!\n",
        "I deleted ALL the EUI ones (including \"weather-normalized\") electricity use, gas use, and GHG measures because they are basically all redundant or intra-dependent measures of energy use. I deleted Data Year because it is always 1960. I deleted Latitude and Longitude because it is also in categorical data and probably adds more complexity than it's worth for such a small spatial area. (Also, zip code and neighborhoods capture some spatial aspects with fewer categories.)"
      ],
      "metadata": {
        "id": "AALRJodgNl3d"
      }
    },
    {
      "cell_type": "code",
      "source": [
        "# dropping some columns\n",
        "X_numeric_data.drop([\"Data Year\", \"ENERGY STAR Score\", \"Electricity Use (kBtu)\",\n",
        "                     \"Natural Gas Use (kBtu)\", \"Source EUI (kBtu/sq ft)\",\n",
        "                     \"Site EUI (kBtu/sq ft)\", \n",
        "                     \"Weather Normalized Site EUI (kBtu/sq ft)\", \n",
        "                     \"Weather Normalized Source EUI (kBtu/sq ft)\", \"Latitude\", \n",
        "                     \"Longitude\", \"Total GHG Emissions (Metric Tons CO2e)\",\n",
        "                     \"GHG Intensity (kg CO2e/sq ft)\"], axis=1, inplace=True)\n"
      ],
      "metadata": {
        "colab": {
          "base_uri": "https://localhost:8080/"
        },
        "id": "zH6H4PV1GeqB",
        "outputId": "f0d5fdfa-451b-44e8-d711-233e21591c46"
      },
      "execution_count": null,
      "outputs": [
        {
          "output_type": "stream",
          "name": "stderr",
          "text": [
            "/usr/local/lib/python3.7/dist-packages/pandas/core/frame.py:4913: SettingWithCopyWarning: \n",
            "A value is trying to be set on a copy of a slice from a DataFrame\n",
            "\n",
            "See the caveats in the documentation: https://pandas.pydata.org/pandas-docs/stable/user_guide/indexing.html#returning-a-view-versus-a-copy\n",
            "  errors=errors,\n"
          ]
        }
      ]
    },
    {
      "cell_type": "code",
      "source": [
        "X_numeric_data.describe()"
      ],
      "metadata": {
        "id": "oCLGV84IICwN",
        "colab": {
          "base_uri": "https://localhost:8080/",
          "height": 300
        },
        "outputId": "d07372f0-a310-4571-fbc5-b961c9e9abc2"
      },
      "execution_count": null,
      "outputs": [
        {
          "output_type": "execute_result",
          "data": {
            "text/plain": [
              "       Gross Floor Area - Buildings (sq ft)   Year Built  # of Buildings\n",
              "count                          2.688000e+03  2683.000000     2688.000000\n",
              "mean                           2.448678e+05  1962.894521        1.405878\n",
              "std                            3.964045e+05    36.286206        5.201993\n",
              "min                            5.000000e+04  1872.000000        1.000000\n",
              "25%                            7.500000e+04  1928.000000        1.000000\n",
              "50%                            1.237265e+05  1969.000000        1.000000\n",
              "75%                            2.521352e+05  1997.000000        1.000000\n",
              "max                            9.245333e+06  2016.000000      236.000000"
            ],
            "text/html": [
              "\n",
              "  <div id=\"df-1d0be23d-5e13-43a5-9583-d072f1cfb34e\">\n",
              "    <div class=\"colab-df-container\">\n",
              "      <div>\n",
              "<style scoped>\n",
              "    .dataframe tbody tr th:only-of-type {\n",
              "        vertical-align: middle;\n",
              "    }\n",
              "\n",
              "    .dataframe tbody tr th {\n",
              "        vertical-align: top;\n",
              "    }\n",
              "\n",
              "    .dataframe thead th {\n",
              "        text-align: right;\n",
              "    }\n",
              "</style>\n",
              "<table border=\"1\" class=\"dataframe\">\n",
              "  <thead>\n",
              "    <tr style=\"text-align: right;\">\n",
              "      <th></th>\n",
              "      <th>Gross Floor Area - Buildings (sq ft)</th>\n",
              "      <th>Year Built</th>\n",
              "      <th># of Buildings</th>\n",
              "    </tr>\n",
              "  </thead>\n",
              "  <tbody>\n",
              "    <tr>\n",
              "      <th>count</th>\n",
              "      <td>2.688000e+03</td>\n",
              "      <td>2683.000000</td>\n",
              "      <td>2688.000000</td>\n",
              "    </tr>\n",
              "    <tr>\n",
              "      <th>mean</th>\n",
              "      <td>2.448678e+05</td>\n",
              "      <td>1962.894521</td>\n",
              "      <td>1.405878</td>\n",
              "    </tr>\n",
              "    <tr>\n",
              "      <th>std</th>\n",
              "      <td>3.964045e+05</td>\n",
              "      <td>36.286206</td>\n",
              "      <td>5.201993</td>\n",
              "    </tr>\n",
              "    <tr>\n",
              "      <th>min</th>\n",
              "      <td>5.000000e+04</td>\n",
              "      <td>1872.000000</td>\n",
              "      <td>1.000000</td>\n",
              "    </tr>\n",
              "    <tr>\n",
              "      <th>25%</th>\n",
              "      <td>7.500000e+04</td>\n",
              "      <td>1928.000000</td>\n",
              "      <td>1.000000</td>\n",
              "    </tr>\n",
              "    <tr>\n",
              "      <th>50%</th>\n",
              "      <td>1.237265e+05</td>\n",
              "      <td>1969.000000</td>\n",
              "      <td>1.000000</td>\n",
              "    </tr>\n",
              "    <tr>\n",
              "      <th>75%</th>\n",
              "      <td>2.521352e+05</td>\n",
              "      <td>1997.000000</td>\n",
              "      <td>1.000000</td>\n",
              "    </tr>\n",
              "    <tr>\n",
              "      <th>max</th>\n",
              "      <td>9.245333e+06</td>\n",
              "      <td>2016.000000</td>\n",
              "      <td>236.000000</td>\n",
              "    </tr>\n",
              "  </tbody>\n",
              "</table>\n",
              "</div>\n",
              "      <button class=\"colab-df-convert\" onclick=\"convertToInteractive('df-1d0be23d-5e13-43a5-9583-d072f1cfb34e')\"\n",
              "              title=\"Convert this dataframe to an interactive table.\"\n",
              "              style=\"display:none;\">\n",
              "        \n",
              "  <svg xmlns=\"http://www.w3.org/2000/svg\" height=\"24px\"viewBox=\"0 0 24 24\"\n",
              "       width=\"24px\">\n",
              "    <path d=\"M0 0h24v24H0V0z\" fill=\"none\"/>\n",
              "    <path d=\"M18.56 5.44l.94 2.06.94-2.06 2.06-.94-2.06-.94-.94-2.06-.94 2.06-2.06.94zm-11 1L8.5 8.5l.94-2.06 2.06-.94-2.06-.94L8.5 2.5l-.94 2.06-2.06.94zm10 10l.94 2.06.94-2.06 2.06-.94-2.06-.94-.94-2.06-.94 2.06-2.06.94z\"/><path d=\"M17.41 7.96l-1.37-1.37c-.4-.4-.92-.59-1.43-.59-.52 0-1.04.2-1.43.59L10.3 9.45l-7.72 7.72c-.78.78-.78 2.05 0 2.83L4 21.41c.39.39.9.59 1.41.59.51 0 1.02-.2 1.41-.59l7.78-7.78 2.81-2.81c.8-.78.8-2.07 0-2.86zM5.41 20L4 18.59l7.72-7.72 1.47 1.35L5.41 20z\"/>\n",
              "  </svg>\n",
              "      </button>\n",
              "      \n",
              "  <style>\n",
              "    .colab-df-container {\n",
              "      display:flex;\n",
              "      flex-wrap:wrap;\n",
              "      gap: 12px;\n",
              "    }\n",
              "\n",
              "    .colab-df-convert {\n",
              "      background-color: #E8F0FE;\n",
              "      border: none;\n",
              "      border-radius: 50%;\n",
              "      cursor: pointer;\n",
              "      display: none;\n",
              "      fill: #1967D2;\n",
              "      height: 32px;\n",
              "      padding: 0 0 0 0;\n",
              "      width: 32px;\n",
              "    }\n",
              "\n",
              "    .colab-df-convert:hover {\n",
              "      background-color: #E2EBFA;\n",
              "      box-shadow: 0px 1px 2px rgba(60, 64, 67, 0.3), 0px 1px 3px 1px rgba(60, 64, 67, 0.15);\n",
              "      fill: #174EA6;\n",
              "    }\n",
              "\n",
              "    [theme=dark] .colab-df-convert {\n",
              "      background-color: #3B4455;\n",
              "      fill: #D2E3FC;\n",
              "    }\n",
              "\n",
              "    [theme=dark] .colab-df-convert:hover {\n",
              "      background-color: #434B5C;\n",
              "      box-shadow: 0px 1px 3px 1px rgba(0, 0, 0, 0.15);\n",
              "      filter: drop-shadow(0px 1px 2px rgba(0, 0, 0, 0.3));\n",
              "      fill: #FFFFFF;\n",
              "    }\n",
              "  </style>\n",
              "\n",
              "      <script>\n",
              "        const buttonEl =\n",
              "          document.querySelector('#df-1d0be23d-5e13-43a5-9583-d072f1cfb34e button.colab-df-convert');\n",
              "        buttonEl.style.display =\n",
              "          google.colab.kernel.accessAllowed ? 'block' : 'none';\n",
              "\n",
              "        async function convertToInteractive(key) {\n",
              "          const element = document.querySelector('#df-1d0be23d-5e13-43a5-9583-d072f1cfb34e');\n",
              "          const dataTable =\n",
              "            await google.colab.kernel.invokeFunction('convertToInteractive',\n",
              "                                                     [key], {});\n",
              "          if (!dataTable) return;\n",
              "\n",
              "          const docLinkHtml = 'Like what you see? Visit the ' +\n",
              "            '<a target=\"_blank\" href=https://colab.research.google.com/notebooks/data_table.ipynb>data table notebook</a>'\n",
              "            + ' to learn more about interactive tables.';\n",
              "          element.innerHTML = '';\n",
              "          dataTable['output_type'] = 'display_data';\n",
              "          await google.colab.output.renderOutput(dataTable, element);\n",
              "          const docLink = document.createElement('div');\n",
              "          docLink.innerHTML = docLinkHtml;\n",
              "          element.appendChild(docLink);\n",
              "        }\n",
              "      </script>\n",
              "    </div>\n",
              "  </div>\n",
              "  "
            ]
          },
          "metadata": {},
          "execution_count": 267
        }
      ]
    },
    {
      "cell_type": "code",
      "source": [
        "# this does not have to be identical to my output as you may have dropped different variables\n",
        "print(\"there are (rows, columns) = \", X_numeric_data.shape, \"in the numerical variables\")"
      ],
      "metadata": {
        "colab": {
          "base_uri": "https://localhost:8080/"
        },
        "id": "cbChlcXUG2rI",
        "outputId": "4555cae6-bb33-4a47-fbef-3175fe9496cd"
      },
      "execution_count": null,
      "outputs": [
        {
          "output_type": "stream",
          "name": "stdout",
          "text": [
            "there are (rows, columns) =  (2688, 3) in the numerical variables\n"
          ]
        }
      ]
    },
    {
      "cell_type": "markdown",
      "source": [
        "*As they do in the original research https://github.com/Urban-Informatics-Lab/Open-Data-Benchmarking/blob/master/Lasso_RandomForest.Rmd we should transform some variables into their log values \n",
        "\n",
        "their original code (which is in R not in python!) is*\n",
        "```\n",
        "x_seattle$log_total_area=log(x_seattle$gross_floor_area_total_SF)\n",
        "x_seattle$log_parking_area=log(x_seattle$gross_floor_area_parking_SF)\n",
        "x_seattle$log_bldg_area=log(x_seattle$gross_floor_area_building_SF)\n",
        "x_seattle$log_area_1=log(x_seattle$gross_floor_area_property_type_first_SF)\n",
        "\n",
        "```\n",
        "*the names are a bit different*\n"
      ],
      "metadata": {
        "id": "hVYsiqOK8SJp"
      }
    },
    {
      "cell_type": "code",
      "source": [
        "# note: recheck missing values \n",
        "# this is important: after I apply the log function to some variables cause log(0) = -infinity\n",
        "print(\"there are {} missing or infinity values in the numerical data\".format(X_numeric_data.isnull().sum().sum()))"
      ],
      "metadata": {
        "colab": {
          "base_uri": "https://localhost:8080/"
        },
        "id": "_1Zul4fDAiip",
        "outputId": "93853abe-0bba-4469-a30f-b48c23fc6ae3"
      },
      "execution_count": null,
      "outputs": [
        {
          "output_type": "stream",
          "name": "stdout",
          "text": [
            "there are 5 missing or infinity values in the numerical data\n"
          ]
        }
      ]
    },
    {
      "cell_type": "code",
      "source": [
        "# translated to python\n",
        "X_numeric_data[\"Gross Floor Area - Buildings (sq ft)\"] = np.log10(X_numeric_data[\"Gross Floor Area - Buildings (sq ft)\"])"
      ],
      "metadata": {
        "id": "ctHl1vEQAG8Z",
        "colab": {
          "base_uri": "https://localhost:8080/"
        },
        "outputId": "e5184bcd-96cb-4a2e-cfad-32c9eaaf3c32"
      },
      "execution_count": null,
      "outputs": [
        {
          "output_type": "stream",
          "name": "stderr",
          "text": [
            "/usr/local/lib/python3.7/dist-packages/ipykernel_launcher.py:2: SettingWithCopyWarning: \n",
            "A value is trying to be set on a copy of a slice from a DataFrame.\n",
            "Try using .loc[row_indexer,col_indexer] = value instead\n",
            "\n",
            "See the caveats in the documentation: https://pandas.pydata.org/pandas-docs/stable/user_guide/indexing.html#returning-a-view-versus-a-copy\n",
            "  \n"
          ]
        }
      ]
    },
    {
      "cell_type": "code",
      "source": [
        "print(\"number of infinite values:\", (np.isinf(X_numeric_data)).sum().sum())"
      ],
      "metadata": {
        "id": "RkNEiGU5vzxz",
        "colab": {
          "base_uri": "https://localhost:8080/"
        },
        "outputId": "0d038f8e-879f-4aa2-ffbd-942d0f012511"
      },
      "execution_count": null,
      "outputs": [
        {
          "output_type": "stream",
          "name": "stdout",
          "text": [
            "number of infinite values: 0\n"
          ]
        }
      ]
    },
    {
      "cell_type": "markdown",
      "metadata": {
        "id": "Da-93SxbMFCX"
      },
      "source": [
        "*check what happened to missing values: they may have grown! because  log(0) = -infinity - fix infinities replacing them with NaN \n",
        "\n",
        "(in in https://github.com/Urban-Informatics-Lab/Open-Data-Benchmarking/blob/master/Lasso_RandomForest.Rmd they had replaced them with 0 but I object to that)*"
      ]
    },
    {
      "cell_type": "code",
      "source": [
        "# this has to return 0 now\n",
        "X_numeric_data.replace(-np.inf, np.nan, inplace=True)\n",
        "print(\"number of infinite values:\", (np.isinf(X_numeric_data)).sum().sum())"
      ],
      "metadata": {
        "colab": {
          "base_uri": "https://localhost:8080/"
        },
        "id": "qRz_WdUVutWc",
        "outputId": "27274972-f9af-4e9f-d312-849a1d2cc77d"
      },
      "execution_count": null,
      "outputs": [
        {
          "output_type": "stream",
          "name": "stdout",
          "text": [
            "number of infinite values: 0\n"
          ]
        },
        {
          "output_type": "stream",
          "name": "stderr",
          "text": [
            "/usr/local/lib/python3.7/dist-packages/pandas/core/frame.py:5244: SettingWithCopyWarning: \n",
            "A value is trying to be set on a copy of a slice from a DataFrame\n",
            "\n",
            "See the caveats in the documentation: https://pandas.pydata.org/pandas-docs/stable/user_guide/indexing.html#returning-a-view-versus-a-copy\n",
            "  method=method,\n"
          ]
        }
      ]
    },
    {
      "cell_type": "code",
      "source": [
        "print(\"the numerical data contains (rows, columns) = \", X_numeric_data.shape)\n",
        "print(\"there are {} missing values in the numerical data\".format(X_numeric_data.isnull().sum().sum()))"
      ],
      "metadata": {
        "colab": {
          "base_uri": "https://localhost:8080/"
        },
        "id": "hBYQpTJrBZK4",
        "outputId": "4887395b-ff8a-45ad-d614-6938e46cf50a"
      },
      "execution_count": null,
      "outputs": [
        {
          "output_type": "stream",
          "name": "stdout",
          "text": [
            "the numerical data contains (rows, columns) =  (2688, 3)\n",
            "there are 5 missing values in the numerical data\n"
          ]
        }
      ]
    },
    {
      "cell_type": "code",
      "source": [
        "#all the missing values are in Year Built\n",
        "X_numeric_data.info()"
      ],
      "metadata": {
        "colab": {
          "base_uri": "https://localhost:8080/"
        },
        "id": "QQ4FUprMQ4hU",
        "outputId": "4ddaa13e-c461-40f9-ffad-cfca1c2d1de7"
      },
      "execution_count": null,
      "outputs": [
        {
          "output_type": "stream",
          "name": "stdout",
          "text": [
            "<class 'pandas.core.frame.DataFrame'>\n",
            "Int64Index: 2688 entries, 0 to 2716\n",
            "Data columns (total 3 columns):\n",
            " #   Column                                Non-Null Count  Dtype  \n",
            "---  ------                                --------------  -----  \n",
            " 0   Gross Floor Area - Buildings (sq ft)  2688 non-null   float64\n",
            " 1   Year Built                            2683 non-null   float64\n",
            " 2   # of Buildings                        2688 non-null   int64  \n",
            "dtypes: float64(2), int64(1)\n",
            "memory usage: 148.5 KB\n"
          ]
        }
      ]
    },
    {
      "cell_type": "markdown",
      "source": [
        "*you can use `KNNImputer` on the numerical variables, but KNNImputer would fail on categorical variables so you are left with NaNs on categorical variables, which you then need to drop before you run the Random Forest*\n",
        "\n",
        "\n",
        "*You can impute separately the numerical and categorical variables, the numerical ones with KNNImputer and the categorical ones with SimpleImputer*"
      ],
      "metadata": {
        "id": "QbpwzPij5A8z"
      }
    },
    {
      "cell_type": "markdown",
      "metadata": {
        "id": "dfQnS9eVZ7A4"
      },
      "source": [
        "## TASK 2.2 use Nearest Neighbor Imputer to impute missing values in numerical features\n",
        "\n",
        "*here we are deviating from the paper. NN imputation is simpler and more common, I think it may be more useful to you in general*\n",
        "\n",
        "Okay, trying to understand what I'm doing from this: https://scikit-learn.org/stable/auto_examples/impute/plot_missing_values.html#sphx-glr-auto-examples-impute-plot-missing-values-py\n",
        "\n",
        "\n"
      ]
    },
    {
      "cell_type": "code",
      "metadata": {
        "id": "gNLiSt1fOCz4",
        "colab": {
          "base_uri": "https://localhost:8080/"
        },
        "outputId": "1675a936-d374-4982-d5b0-7437a6d056c4"
      },
      "source": [
        "#leaving defaults because missing data is years and seems to be in random order.\n",
        "from sklearn.impute import KNNImputer\n",
        "\n",
        "imputer = KNNImputer()\n",
        "Xn = imputer.fit_transform(X_numeric_data)\n",
        "Xn"
      ],
      "execution_count": 373,
      "outputs": [
        {
          "output_type": "execute_result",
          "data": {
            "text/plain": [
              "array([[4.99563519e+00, 2.00000000e+03, 1.00000000e+00],\n",
              "       [4.96412758e+00, 2.01400000e+03, 1.00000000e+00],\n",
              "       [5.13353891e+00, 1.92400000e+03, 1.00000000e+00],\n",
              "       ...,\n",
              "       [4.97865520e+00, 2.00800000e+03, 1.00000000e+00],\n",
              "       [4.77815125e+00, 1.90800000e+03, 1.00000000e+00],\n",
              "       [5.49003718e+00, 1.92800000e+03, 1.00000000e+00]])"
            ]
          },
          "metadata": {},
          "execution_count": 373
        }
      ]
    },
    {
      "cell_type": "markdown",
      "metadata": {
        "id": "mW5GNpU0aFIO"
      },
      "source": [
        "## TASK 2.3 Impute missing categorial variables \n",
        "*you will have to remove Nan values and replace them.*\n",
        "\n",
        "*You can use `sklearn.impute.SimpleImputer using strategy=\"most_frequent\"` on all variables, but you will have a naif solution for numerical imputations*\n",
        "\n",
        "*I prefer to replace them with \"None\" or a similar string, for which you can use the fillna method: ```df.fillna(\"None\")``` and leave it at that or with a little more effort you can input values based on nearest neighbors or some other inputation scheme. any choice goes so long as it is well described and justified with words.*\n",
        "\n",
        "I didn't have to do any of this because I had no NaNs for my categorical variables."
      ]
    },
    {
      "cell_type": "code",
      "source": [
        "print(\"there are {} missing  values in the categorical data\".format(X_categorical_data.isna().sum().sum()))"
      ],
      "metadata": {
        "colab": {
          "base_uri": "https://localhost:8080/"
        },
        "outputId": "37be98a7-42a7-4bae-a819-d22a9fc17920",
        "id": "XEfe_N9TOmtQ"
      },
      "execution_count": null,
      "outputs": [
        {
          "output_type": "stream",
          "name": "stdout",
          "text": [
            "there are 0 missing  values in the categorical data\n"
          ]
        }
      ]
    },
    {
      "cell_type": "markdown",
      "source": [
        "It looks like I am not missing any categorical data values!"
      ],
      "metadata": {
        "id": "8E89shwrPF-s"
      }
    },
    {
      "cell_type": "code",
      "source": [
        "X_categorical_data.info()"
      ],
      "metadata": {
        "colab": {
          "base_uri": "https://localhost:8080/"
        },
        "id": "mx1liXOMPI1n",
        "outputId": "6bd1a054-f5b1-4305-d6ea-e8f45e886a7a"
      },
      "execution_count": null,
      "outputs": [
        {
          "output_type": "stream",
          "name": "stdout",
          "text": [
            "<class 'pandas.core.frame.DataFrame'>\n",
            "Int64Index: 2688 entries, 0 to 2716\n",
            "Data columns (total 4 columns):\n",
            " #   Column                 Non-Null Count  Dtype \n",
            "---  ------                 --------------  ----- \n",
            " 0   ZIP Code               2688 non-null   object\n",
            " 1   Community Area         2688 non-null   object\n",
            " 2   Primary Property Type  2688 non-null   object\n",
            " 3   Location               2688 non-null   object\n",
            "dtypes: object(4)\n",
            "memory usage: 169.5+ KB\n"
          ]
        }
      ]
    },
    {
      "cell_type": "code",
      "source": [
        "#fed says I can remove location and community area heehee\n",
        "X_categorical_data.drop([\"Community Area\", \"Location\"], axis=1, inplace=True)"
      ],
      "metadata": {
        "colab": {
          "base_uri": "https://localhost:8080/"
        },
        "id": "24Y2XY9qlCIu",
        "outputId": "837e68a0-d2c7-46dc-8cc5-947d77d1b536"
      },
      "execution_count": null,
      "outputs": [
        {
          "output_type": "stream",
          "name": "stderr",
          "text": [
            "/usr/local/lib/python3.7/dist-packages/pandas/core/frame.py:4913: SettingWithCopyWarning: \n",
            "A value is trying to be set on a copy of a slice from a DataFrame\n",
            "\n",
            "See the caveats in the documentation: https://pandas.pydata.org/pandas-docs/stable/user_guide/indexing.html#returning-a-view-versus-a-copy\n",
            "  errors=errors,\n"
          ]
        }
      ]
    },
    {
      "cell_type": "markdown",
      "source": [
        "# TASK 3 One Hot Encode the Categorical Variables\n",
        "\n",
        "*Hint: Once you have done the fit and the transformation, which gives you the transformed data according to the new encoding, what you get is normally a sparse matrix. In principle there is an argument `sparse` to `OneHotEncoder` which should prevent this and give you a dense matrix, which is much easier to handle (consider asking me or looking up what is a sparse matrix!). That attribute did not work for me so once I applied the new encoding I converted the result to a dense matrix as \n",
        "`Xc = Xc.todense()`*\n",
        "\n",
        "*Finally, you will need to use a specific method to get the new names of the variables. Its a method of your model (which I called ohe below) and you can find it in this page here https://scikit-learn.org/stable/modules/generated/sklearn.preprocessing.OneHotEncoder.html *"
      ],
      "metadata": {
        "id": "7ryRb65ux_rX"
      }
    },
    {
      "cell_type": "code",
      "source": [
        "X_categorical_data.describe()"
      ],
      "metadata": {
        "colab": {
          "base_uri": "https://localhost:8080/",
          "height": 174
        },
        "id": "TdW9a2K7zzey",
        "outputId": "dbe6b844-5c45-40aa-a09d-104215706d5f"
      },
      "execution_count": null,
      "outputs": [
        {
          "output_type": "execute_result",
          "data": {
            "text/plain": [
              "       ZIP Code Primary Property Type\n",
              "count      2688                  2688\n",
              "unique       89                    47\n",
              "top       60611   Multifamily Housing\n",
              "freq        191                  1334"
            ],
            "text/html": [
              "\n",
              "  <div id=\"df-8c751150-63bd-471d-bd85-8a68aa72aacf\">\n",
              "    <div class=\"colab-df-container\">\n",
              "      <div>\n",
              "<style scoped>\n",
              "    .dataframe tbody tr th:only-of-type {\n",
              "        vertical-align: middle;\n",
              "    }\n",
              "\n",
              "    .dataframe tbody tr th {\n",
              "        vertical-align: top;\n",
              "    }\n",
              "\n",
              "    .dataframe thead th {\n",
              "        text-align: right;\n",
              "    }\n",
              "</style>\n",
              "<table border=\"1\" class=\"dataframe\">\n",
              "  <thead>\n",
              "    <tr style=\"text-align: right;\">\n",
              "      <th></th>\n",
              "      <th>ZIP Code</th>\n",
              "      <th>Primary Property Type</th>\n",
              "    </tr>\n",
              "  </thead>\n",
              "  <tbody>\n",
              "    <tr>\n",
              "      <th>count</th>\n",
              "      <td>2688</td>\n",
              "      <td>2688</td>\n",
              "    </tr>\n",
              "    <tr>\n",
              "      <th>unique</th>\n",
              "      <td>89</td>\n",
              "      <td>47</td>\n",
              "    </tr>\n",
              "    <tr>\n",
              "      <th>top</th>\n",
              "      <td>60611</td>\n",
              "      <td>Multifamily Housing</td>\n",
              "    </tr>\n",
              "    <tr>\n",
              "      <th>freq</th>\n",
              "      <td>191</td>\n",
              "      <td>1334</td>\n",
              "    </tr>\n",
              "  </tbody>\n",
              "</table>\n",
              "</div>\n",
              "      <button class=\"colab-df-convert\" onclick=\"convertToInteractive('df-8c751150-63bd-471d-bd85-8a68aa72aacf')\"\n",
              "              title=\"Convert this dataframe to an interactive table.\"\n",
              "              style=\"display:none;\">\n",
              "        \n",
              "  <svg xmlns=\"http://www.w3.org/2000/svg\" height=\"24px\"viewBox=\"0 0 24 24\"\n",
              "       width=\"24px\">\n",
              "    <path d=\"M0 0h24v24H0V0z\" fill=\"none\"/>\n",
              "    <path d=\"M18.56 5.44l.94 2.06.94-2.06 2.06-.94-2.06-.94-.94-2.06-.94 2.06-2.06.94zm-11 1L8.5 8.5l.94-2.06 2.06-.94-2.06-.94L8.5 2.5l-.94 2.06-2.06.94zm10 10l.94 2.06.94-2.06 2.06-.94-2.06-.94-.94-2.06-.94 2.06-2.06.94z\"/><path d=\"M17.41 7.96l-1.37-1.37c-.4-.4-.92-.59-1.43-.59-.52 0-1.04.2-1.43.59L10.3 9.45l-7.72 7.72c-.78.78-.78 2.05 0 2.83L4 21.41c.39.39.9.59 1.41.59.51 0 1.02-.2 1.41-.59l7.78-7.78 2.81-2.81c.8-.78.8-2.07 0-2.86zM5.41 20L4 18.59l7.72-7.72 1.47 1.35L5.41 20z\"/>\n",
              "  </svg>\n",
              "      </button>\n",
              "      \n",
              "  <style>\n",
              "    .colab-df-container {\n",
              "      display:flex;\n",
              "      flex-wrap:wrap;\n",
              "      gap: 12px;\n",
              "    }\n",
              "\n",
              "    .colab-df-convert {\n",
              "      background-color: #E8F0FE;\n",
              "      border: none;\n",
              "      border-radius: 50%;\n",
              "      cursor: pointer;\n",
              "      display: none;\n",
              "      fill: #1967D2;\n",
              "      height: 32px;\n",
              "      padding: 0 0 0 0;\n",
              "      width: 32px;\n",
              "    }\n",
              "\n",
              "    .colab-df-convert:hover {\n",
              "      background-color: #E2EBFA;\n",
              "      box-shadow: 0px 1px 2px rgba(60, 64, 67, 0.3), 0px 1px 3px 1px rgba(60, 64, 67, 0.15);\n",
              "      fill: #174EA6;\n",
              "    }\n",
              "\n",
              "    [theme=dark] .colab-df-convert {\n",
              "      background-color: #3B4455;\n",
              "      fill: #D2E3FC;\n",
              "    }\n",
              "\n",
              "    [theme=dark] .colab-df-convert:hover {\n",
              "      background-color: #434B5C;\n",
              "      box-shadow: 0px 1px 3px 1px rgba(0, 0, 0, 0.15);\n",
              "      filter: drop-shadow(0px 1px 2px rgba(0, 0, 0, 0.3));\n",
              "      fill: #FFFFFF;\n",
              "    }\n",
              "  </style>\n",
              "\n",
              "      <script>\n",
              "        const buttonEl =\n",
              "          document.querySelector('#df-8c751150-63bd-471d-bd85-8a68aa72aacf button.colab-df-convert');\n",
              "        buttonEl.style.display =\n",
              "          google.colab.kernel.accessAllowed ? 'block' : 'none';\n",
              "\n",
              "        async function convertToInteractive(key) {\n",
              "          const element = document.querySelector('#df-8c751150-63bd-471d-bd85-8a68aa72aacf');\n",
              "          const dataTable =\n",
              "            await google.colab.kernel.invokeFunction('convertToInteractive',\n",
              "                                                     [key], {});\n",
              "          if (!dataTable) return;\n",
              "\n",
              "          const docLinkHtml = 'Like what you see? Visit the ' +\n",
              "            '<a target=\"_blank\" href=https://colab.research.google.com/notebooks/data_table.ipynb>data table notebook</a>'\n",
              "            + ' to learn more about interactive tables.';\n",
              "          element.innerHTML = '';\n",
              "          dataTable['output_type'] = 'display_data';\n",
              "          await google.colab.output.renderOutput(dataTable, element);\n",
              "          const docLink = document.createElement('div');\n",
              "          docLink.innerHTML = docLinkHtml;\n",
              "          element.appendChild(docLink);\n",
              "        }\n",
              "      </script>\n",
              "    </div>\n",
              "  </div>\n",
              "  "
            ]
          },
          "metadata": {},
          "execution_count": 279
        }
      ]
    },
    {
      "cell_type": "code",
      "metadata": {
        "id": "BJoES_oBQBIl",
        "colab": {
          "base_uri": "https://localhost:8080/"
        },
        "outputId": "94ce7715-5b5c-440a-d667-cc15ef36caab"
      },
      "source": [
        "from sklearn.preprocessing import OneHotEncoder\n",
        "ohe = OneHotEncoder(sparse=False).fit(X_categorical_data)\n",
        "Xc = ohe.transform(X_categorical_data)\n",
        "Xc"
      ],
      "execution_count": null,
      "outputs": [
        {
          "output_type": "execute_result",
          "data": {
            "text/plain": [
              "array([[0., 0., 0., ..., 0., 0., 0.],\n",
              "       [0., 0., 0., ..., 0., 0., 0.],\n",
              "       [0., 0., 0., ..., 0., 0., 0.],\n",
              "       ...,\n",
              "       [0., 0., 0., ..., 0., 0., 0.],\n",
              "       [0., 0., 0., ..., 0., 0., 0.],\n",
              "       [0., 0., 0., ..., 0., 0., 0.]])"
            ]
          },
          "metadata": {},
          "execution_count": 280
        }
      ]
    },
    {
      "cell_type": "code",
      "source": [
        "Xc.shape"
      ],
      "metadata": {
        "colab": {
          "base_uri": "https://localhost:8080/"
        },
        "id": "u7j3cCxunqBu",
        "outputId": "6b07dbb9-2743-4254-e865-4012d5194143"
      },
      "execution_count": null,
      "outputs": [
        {
          "output_type": "execute_result",
          "data": {
            "text/plain": [
              "(2688, 136)"
            ]
          },
          "metadata": {},
          "execution_count": 281
        }
      ]
    },
    {
      "cell_type": "code",
      "source": [
        "# I imported these bc I thought my array was sparse but then densifying didn't work!\n",
        "from numpy import array\n",
        "from numpy import count_nonzero\n",
        "from scipy.sparse import csr_matrix"
      ],
      "metadata": {
        "id": "7P8Uo-42sFKr"
      },
      "execution_count": 374,
      "outputs": []
    },
    {
      "cell_type": "code",
      "source": [
        "#getting feature names after encoding\n",
        "feature_name_cat = ohe.get_feature_names_out()\n",
        "feature_name_cat"
      ],
      "metadata": {
        "id": "IuLhVV3SBlPb",
        "colab": {
          "base_uri": "https://localhost:8080/"
        },
        "outputId": "6bd228cb-563e-4a9d-cf35-fa5cbc50622a"
      },
      "execution_count": null,
      "outputs": [
        {
          "output_type": "execute_result",
          "data": {
            "text/plain": [
              "array(['ZIP Code_60070', 'ZIP Code_60091', 'ZIP Code_60135',\n",
              "       'ZIP Code_60202', 'ZIP Code_60302', 'ZIP Code_60415',\n",
              "       'ZIP Code_60462', 'ZIP Code_60463', 'ZIP Code_60601',\n",
              "       'ZIP Code_60601-2404', 'ZIP Code_60602', 'ZIP Code_60602-3902',\n",
              "       'ZIP Code_60603', 'ZIP Code_60603-3233', 'ZIP Code_60604',\n",
              "       'ZIP Code_606043589', 'ZIP Code_60605', 'ZIP Code_606051996',\n",
              "       'ZIP Code_60606', 'ZIP Code_60607', 'ZIP Code_60607-2703',\n",
              "       'ZIP Code_60607-3101', 'ZIP Code_60608', 'ZIP Code_60609',\n",
              "       'ZIP Code_60610', 'ZIP Code_60611', 'ZIP Code_606114594',\n",
              "       'ZIP Code_60612', 'ZIP Code_60613', 'ZIP Code_60614',\n",
              "       'ZIP Code_60615', 'ZIP Code_60615-4214', 'ZIP Code_60615-4557',\n",
              "       'ZIP Code_60616', 'ZIP Code_60616-0000', 'ZIP Code_60616-5183',\n",
              "       'ZIP Code_60617', 'ZIP Code_60618', 'ZIP Code_60619',\n",
              "       'ZIP Code_60620', 'ZIP Code_60621', 'ZIP Code_60622',\n",
              "       'ZIP Code_60623', 'ZIP Code_60624', 'ZIP Code_60625',\n",
              "       'ZIP Code_60626', 'ZIP Code_60627', 'ZIP Code_60628',\n",
              "       'ZIP Code_60628-1598', 'ZIP Code_60629', 'ZIP Code_60630',\n",
              "       'ZIP Code_60631', 'ZIP Code_60631-3485', 'ZIP Code_60632',\n",
              "       'ZIP Code_60633', 'ZIP Code_60634', 'ZIP Code_60636',\n",
              "       'ZIP Code_60637', 'ZIP Code_60637-2890', 'ZIP Code_60637-3896',\n",
              "       'ZIP Code_60638', 'ZIP Code_60639', 'ZIP Code_60639-449',\n",
              "       'ZIP Code_60640', 'ZIP Code_60640-4044', 'ZIP Code_60640-7528',\n",
              "       'ZIP Code_60641', 'ZIP Code_60642', 'ZIP Code_60643',\n",
              "       'ZIP Code_60644', 'ZIP Code_60645', 'ZIP Code_60646',\n",
              "       'ZIP Code_60647', 'ZIP Code_60649', 'ZIP Code_60651',\n",
              "       'ZIP Code_60652', 'ZIP Code_60653', 'ZIP Code_60654',\n",
              "       'ZIP Code_60655', 'ZIP Code_60656', 'ZIP Code_60657',\n",
              "       'ZIP Code_60659', 'ZIP Code_60660', 'ZIP Code_60661',\n",
              "       'ZIP Code_60661-3061', 'ZIP Code_60666', 'ZIP Code_60680',\n",
              "       'ZIP Code_60691', 'ZIP Code_60707',\n",
              "       'Primary Property Type_Adult Education',\n",
              "       'Primary Property Type_Ambulatory Surgical Center',\n",
              "       'Primary Property Type_Automobile Dealership',\n",
              "       'Primary Property Type_Bank Branch',\n",
              "       'Primary Property Type_College/University',\n",
              "       'Primary Property Type_Convention Center',\n",
              "       'Primary Property Type_Courthouse',\n",
              "       'Primary Property Type_Enclosed Mall',\n",
              "       'Primary Property Type_Financial Office',\n",
              "       'Primary Property Type_Fitness Center/Health Club/Gym',\n",
              "       'Primary Property Type_Hospital (General Medical & Surgical)',\n",
              "       'Primary Property Type_Hotel',\n",
              "       'Primary Property Type_Indoor Arena',\n",
              "       'Primary Property Type_K-12 School',\n",
              "       'Primary Property Type_Laboratory',\n",
              "       'Primary Property Type_Library',\n",
              "       'Primary Property Type_Lifestyle Center',\n",
              "       'Primary Property Type_Medical Office',\n",
              "       'Primary Property Type_Mixed Use Property',\n",
              "       'Primary Property Type_Movie Theater',\n",
              "       'Primary Property Type_Multifamily Housing',\n",
              "       'Primary Property Type_Museum', 'Primary Property Type_Office',\n",
              "       'Primary Property Type_Other',\n",
              "       'Primary Property Type_Other - Education',\n",
              "       'Primary Property Type_Other - Entertainment/Public Assembly',\n",
              "       'Primary Property Type_Other - Lodging/Residential',\n",
              "       'Primary Property Type_Other - Mall',\n",
              "       'Primary Property Type_Other - Public Services',\n",
              "       'Primary Property Type_Other - Recreation',\n",
              "       'Primary Property Type_Other - Services',\n",
              "       'Primary Property Type_Other - Specialty Hospital',\n",
              "       'Primary Property Type_Outpatient Rehabilitation/Physical Therapy',\n",
              "       'Primary Property Type_Performing Arts',\n",
              "       'Primary Property Type_Pre-school/Daycare',\n",
              "       'Primary Property Type_Prison/Incarceration',\n",
              "       'Primary Property Type_Repair Services (Vehicle, Shoe, Locksmith, etc.)',\n",
              "       'Primary Property Type_Residence Hall/Dormitory',\n",
              "       'Primary Property Type_Residential Care Facility',\n",
              "       'Primary Property Type_Retail Store',\n",
              "       'Primary Property Type_Senior Care Community',\n",
              "       'Primary Property Type_Social/Meeting Hall',\n",
              "       'Primary Property Type_Strip Mall',\n",
              "       'Primary Property Type_Supermarket/Grocery Store',\n",
              "       'Primary Property Type_Urgent Care/Clinic/Other Outpatient',\n",
              "       'Primary Property Type_Wholesale Club/Supercenter',\n",
              "       'Primary Property Type_Worship Facility'], dtype=object)"
            ]
          },
          "metadata": {},
          "execution_count": 285
        }
      ]
    },
    {
      "cell_type": "markdown",
      "metadata": {
        "id": "3Wd7WBC6fSSI"
      },
      "source": [
        "# Task 4 recombine your numerical and categorical imput features and split your data into training and testing"
      ]
    },
    {
      "cell_type": "code",
      "metadata": {
        "id": "eq9FKlTgOsvX",
        "outputId": "af2aa155-bae2-42b3-ac0a-b0c0609405c6",
        "colab": {
          "base_uri": "https://localhost:8080/"
        }
      },
      "source": [
        "# this dont need to be the same for you\n",
        "Xn.shape"
      ],
      "execution_count": null,
      "outputs": [
        {
          "output_type": "execute_result",
          "data": {
            "text/plain": [
              "(2688, 3)"
            ]
          },
          "metadata": {},
          "execution_count": 286
        }
      ]
    },
    {
      "cell_type": "code",
      "metadata": {
        "id": "ob2Nd1_pTeAx",
        "outputId": "899723a3-7f68-4789-9a79-e7389eb9727d",
        "colab": {
          "base_uri": "https://localhost:8080/"
        }
      },
      "source": [
        "# this dont need to be the same for you\n",
        "Xc.shape"
      ],
      "execution_count": null,
      "outputs": [
        {
          "output_type": "execute_result",
          "data": {
            "text/plain": [
              "(2688, 136)"
            ]
          },
          "metadata": {},
          "execution_count": 287
        }
      ]
    },
    {
      "cell_type": "code",
      "metadata": {
        "id": "0taJGPcRTfLN",
        "outputId": "7a589fc8-e63c-4203-b7d4-c846f678e128",
        "colab": {
          "base_uri": "https://localhost:8080/"
        }
      },
      "source": [
        "X = np.hstack([Xn, Xc])\n",
        "X.shape"
      ],
      "execution_count": null,
      "outputs": [
        {
          "output_type": "execute_result",
          "data": {
            "text/plain": [
              "(2688, 139)"
            ]
          },
          "metadata": {},
          "execution_count": 288
        }
      ]
    },
    {
      "cell_type": "code",
      "source": [
        "print(\"The dataset has {} features (!!!)\".format(X.shape[1]))"
      ],
      "metadata": {
        "colab": {
          "base_uri": "https://localhost:8080/"
        },
        "id": "Q-1tDyqg2HCC",
        "outputId": "e583efe6-5b9d-4ccd-a53a-a0080d229cb2"
      },
      "execution_count": null,
      "outputs": [
        {
          "output_type": "stream",
          "name": "stdout",
          "text": [
            "The dataset has 139 features (!!!)\n"
          ]
        }
      ]
    },
    {
      "cell_type": "code",
      "metadata": {
        "id": "WCUUattUUfqR"
      },
      "source": [
        "# make a train and test dataset\n",
        "from sklearn.model_selection import train_test_split"
      ],
      "execution_count": null,
      "outputs": []
    },
    {
      "cell_type": "code",
      "source": [
        "X_train, X_test, y_train, y_test = train_test_split(X, y, train_size=0.70, random_state=37)\n",
        "X_train.shape, X_test.shape, y_train.shape, y_test.shape"
      ],
      "metadata": {
        "colab": {
          "base_uri": "https://localhost:8080/"
        },
        "id": "5kE3h5l3t5Ak",
        "outputId": "1905dcf8-15dc-43ea-b959-e5877353a5ad"
      },
      "execution_count": null,
      "outputs": [
        {
          "output_type": "execute_result",
          "data": {
            "text/plain": [
              "((1881, 139), (807, 139), (1881,), (807,))"
            ]
          },
          "metadata": {},
          "execution_count": 315
        }
      ]
    },
    {
      "cell_type": "markdown",
      "source": [
        "I didn't include it here, but I tried out the training data (and only the training data! no cheating!) with a few training sizes and random states. The random_state only moved the results between 0.77 and 0.79 for everything I tested, so I chose 37.\n",
        "See below for some chatter when I was reading about random_state"
      ],
      "metadata": {
        "id": "2ySrw-ok54YI"
      }
    },
    {
      "cell_type": "markdown",
      "source": [
        "![Random state.png](data:image/png;base64,iVBORw0KGgoAAAANSUhEUgAAA/AAAADzCAYAAAAhI/09AAAgAElEQVR4XuydCZhUxdm2y4ggwoALiCCLCsquGCAsIiqguBE3VFw/FUVjoqKi8XNBBc2XxI2YxCiK+OOGiqgBFxQxKrIoCBEEQVxABFFkGxBZTP5+iryd6po659TpPj0zPf2c6/JKmK5Ty13Lqafqrbd2+nfqUXxIgARIgARIgARIgARIgARIgARIgAQqNYGdKOArdf0wcyRAAiRAAiRAAiRAAiRAAiRAAiSgCVDAsyGQAAmQAAmQAAmQAAmQAAmQAAmQQAEQoIAvgEpiFkmABEiABEiABEiABEiABEiABEiAAp5tgARIgARIgARIgARIgARIgARIgAQKgAAFfAFUErNIAiRAAiRAAiRAAiRAAiRAAiRAAhTwbAMkQAIkQAIkQAIkQAIkQAIkQAIkUAAEKOALoJKYRRIgARIgARIgARIgARIgARIgARKggGcbIAESIAESIAESIAESIAESIAESIIECIEABXwCVxCySAAmQAAmQAAmQAAmQAAmQAAmQQGICfvnKVaRJAiRAAiRAAiRQAARq1KihtmzZUgA5ZRZJgARIgARIgAQaN2yQhpCYgCdWEiABEiABEiABEiABEiABEiABEiCB/BGggM8fW8ZMAiRAAiRAAiRAAiRAAiRAAiRAAokRoIBPDCUjIgESIAESIAESIAESIAESIAESIIH8EaCAzx9bxkwCJEACJEACJEACJEACJEACJEACiRGggE8MJSMiARIgARIgARIgARIgARIgARIggfwRoIDPH1vGTAIkQAIkQAIkQAIkQAIkQAIkQAKJEaCATwwlIyIBEiABEiABEiABEiABEiABEiCB/BGggM8fW8ZMAiRAAiRAAiRAAiRAAiRAAiRAAokRoIBPDCUjIgESIAESIAESIAESIAESIAESIIH8EaCAzx9bxkwCJEACJEACJEACVYbAv1MlWb1xm9q49V9q20/4Fx8SIAFfArvsvJOqXf1nql7tXdROvi8xHAk4CFDAs1mQAAmQAAmQAAmQAAlEEli6dovasp3CPRIUA5BACIEa1XZSzfaoQUYkkDUBCvis0fFFEiABEiABEiABEigOAmt+2K5Wb9peHIVlKUkgzwTq1aqm9tytWp5TYfRVlQAFfFWtWZaLBEiABEiABEiABBIisCy1+/4jd98Tosloip3Arqld+KbchS/2ZpB1+Sngs0bHF0mABEiABEiABEigOAgsWf2j+het54ujslnKvBP4WeoQfIt6u+Y9HSZQNQkkLuCXvvOsmv/M/6nSlUs0sQbtj1AHn3Or2uugzlWTIEtFAiRAAiRAAiRAAlWcwOLvfqziJWTxSKB8CRxUnwK+fIlXndQSFfAQ79NHDFQlDVuog078ldq6ca1a+MJ9mtZRt02giK867YYlIQESIAESIAESKCICFPBFVNksarkQoIAvF8xVMpFEBfyLA1toSMf/6X1Vvfae+v9/v/gD9cYNvVTjriepHtc/USUh5lqoU/qfoebNm6+WLFqQa1QF//47705VF108SF180YXqht9eV/DlKZQCtGjZRrVv3069MO7ZCsvy7/9wl3rk0dHq0UdGqp6H94jMB/tNJCIGcBAotnYTp1898eTT6rZhw9WIe+9WJ55wfJVsP/zGZF+tSQn437/1jRr9wffq4f5NVc8DSnSGrnzxKzX1i41q/AXN1X57VM8+k4433/m8VF0ybpm6sPNe6oaj9kk07qDIWv7xY9Vun5rq+fMPKJf0mEj5EkiqTVHAl2+9VaXUEhXwY08tUXs2P1Qdc9c7GYxev66n/rf996oEMpeyFNuEMowVJ1e5tKTs363KAr4Q+1cc0ZV9rRfnm4XYHnKpqThtiQI+F9K5v/ubKwer1ya9XmYRc9269ermobeqt995V23evFnVrFlTHdHzcHXdtVerZs2a5Z6wZww+Ah7CNegRwU4B7wf8y7Vb1b1vr1Jzvt6svt20Lf1St2a11GNn7ucXSSUPJW1h0fVtK3lOM7NXXgL+sy+XqZdf/4c64ZgjVfP9mpY7o69XrlIzZs1V+F88NWvuqlrs30x17XiI/v/m89bUmWrJF0tTY9SOozb7NmygOrRvnXW+48T38Sefqllz56v1G0rTaR/Vo6vac4+6gcymfTBHzZozT1056PwyYZD2vAWLnO+6wpd7xaQSTFTAYwd+l11L1Al/nZMuy9aNa9TfB7VRex3YSR11+8SKKGOlTzMfE0oI4WF33KmG3nyT125mZYFUyAI+CeYPPPiQGvP4k2rGe5mLYPmuHwr4ZAnn2hbiiK5kc171Y8vHeFsZqAWNHWxL1sS7klp5fTRvnjq1/5k6s7YVUvsOHVWtWrXUyb/spxo3bqwWLFygJkx8RYd99x9T1O67B09Sk2ybvgJ+71q7qBPa1CmT9IAOe+rddZeATzKfdlxJiS1XHmE5sGHLT2UEda478BMWrFdDJi5XYNmzeW1VUuNnOvkV63cI+ftPbpJPZOUWNwV8+Bn4ihTwEO3PT5ik6u+1p9qnQX1Vt6S2FvJfLFuu/3bWaSem2wnCrfrue9V8/6aq/p57qPWlG9NiPpvFhzjxffjPj9XUmbP1gsH+TRur79asVZ99sUzn7cKzTi2z0ACm78/+SH33/RodJkzAt2/TskxfOKpHl3LrH2EJJSrg5Qx8y36/UW1P32H+/P4DV6pv5k7mGfiQWsjHhLJQJ22FLOCTYJ6PtuAz0lDA+1DyD5NrW8j1ff+cFl/Iiupj+SYdVC62pUzylfUbg/pbufIbtXr16jICHjvzdwy7PUOoV0Q5fAV8lOl4VRLwQUI9VwF/+F8X64Y74aLmaveaO+d7+Kiw+CngK6+Ah9CFKO/e+dCM9iG706Ywn/TWVNW5Q/uMHW/sxI9+erzao26dDLHv09h845M0GtTfS53Wr286aln4gAA3Bff/G/uC3qUX6wG8HybgK8tuu4tZogIeCcwZ/b9q0YS/ZKTVbfAo1aznGT51VpRh8jGhLNRJW0VMSpJqdEkwz0db8CkfBbwPJf8wubaFXN/3z2nxhayoPpZv0hTwfoQr4zcG1hN/e3Ck+r87h6vB1wzx9gNS3uM2BXzZNpYvAY94y/PMvl/vST4UBXzlFfBBtR0kjl3hn35+ot7pTkoI2/HJ7jvEO3bgzQdifeu2beqS8/6rPx9+/FnV8eC26ueHtFVheYMFwJrU0SXz3eRbf24xJirgP311pJr98LXaYV2Trr9UWzetU19MeUJt+HqxOuS8YerA4wblltsc3oZ52t33jFBz5s7VZ8jq1aunzdFMR2lyzmzW7A/1KjgeOPYaeOEFoQ59li5dqnofc5w64/TT1O/uGJ6RS5i+NWiwt5o86dWMv+PDK+Fl4jVr5nT1x7vv1qZxksebb7yhTNr42I9/4UX15ZdLdZz77dcsw1QecdtPlIMymQigrHf87vcZuwBgN/LhURnn7/qdeLy6fsiQ9I6AOSnq3r2bNt9H/uSsnr17gPyJySdYS7hj+x6jJzC2EzvfujHz0a5d23RZUN/CcuLLr6T/jnTPOWuAl8M8vDdq9GPa4aBwH3zlFbp+ophHMZR82/VmckA7u+ue+9L1gDKdf9456vLLLo3sGWF5x8tS/yPuuUvdcuswNW369HT7v/3WW9TB7dtnpGH3J3A8tEMHNeTawRlhRYi6HDTak88g0Ypym3lCewd3qYso549xBFsUJ0BAXT0yanSaURL9z67AuALezpOrXdtlQ/vp1PHnZXb2zPEI525xJhcP+ib6MR7z7xhb7DYidYu/33r7cN1nzDyh/cjfzbhtU+Bs8myOodJWTIdsZnsQs2WU7S/3jyjTj86/YKD+ZsybOzuwjyXRZiTybPp41NhhtqX5H3+sj+jImGuPfa52Z4+90tfHPDYqkEmc74GEdTmvtPtuEuO7Gcfxxx+r5wUy3nXv1q3MGIZC+tSL5HX8uGfSbdvHGSva4DnnXaB+ddkg1a5tW+3E1deRJ/pZUNuN/ChkESCfAv60MZ+r+d9sVnIWWv7tymatXX6Wdnb3zxU/qFHvf68d4G3a9i+F345rXVddd0SD9M61aUJ/XMs66r53v1XTl27SUeM8+dWH760OabRbRlJy/lzihSn7WYfuoS7vXl+HE+Fp50/O+Yuwv6dfY3Xb6yvS6cE6YWiffcqkZ8fz8/sWqlrVd47cgZeymQ4BJS6bKf4O0/zHZn2vWePZP3Wk4deH7a36tdlxDGPd5p/UXalz9+98tjF97h6MbjumUYZzwaDyBfEMam5BAh75GDppRcb5f7C7oNNe6bxKnFFlQjhwejTlOFHqHeW+sfc+aSeKCGPyQr5eXrBBM5AjIaYDRLNNdU/x+d2b36gvUj4L8PQ9qI4a1reRl+VElBO7IBN6nPn+5NPPM86mt211YMZuublTjp10vIMdZznHnq0puOSpR5eOWgiHPRDJG3/4ITEhbMc34bUp2qTftUCAXfxFKUYQ4fZ5feQ5TMDjNzzmMYHQglbAj4kJ+JUfvq7evuM01f6sm1Pm87/NKMpbt56ovv90lvrlyAVp7/TlWVZ8fE886VQtpC84f4ezghkzZ6qvV6xIe92Wjyh+gzjFh3zZV1+lhfJtQ29R555zVmC2+/Q9Tv9mCnVM7CBG8UCcy+RU/i4fafnwI008EPZIGyvyEPJvvv5q2lGNTLDw0e7apYvaULpBh8Mz8aXxOhwmKM8+N05PvK+5+io9KUDatggzC4OJACb0tWvXUqNGPpjhGEd+w4IHRPGzzz2vJzzmgoVMijCZX7LkMz0ZadqkiTMs0hVnPSjzMUf30Vl5/oUX0iaE5sQnTt2Y+SgtLdX1bTJCvsAL/1unpI56bMwYvdAQVb9SZ8iv1M8bk99UXTp31uI/inkUQ0ySUU5Z+EDbwNOsaRNdF8IA5yAh2sEW9Yv/oiaJUXlHOsgfxM7GjZtUr6OOSE0K+6binqTrD+3CPJMvjq5kEQwLNtOmTVdPPj1W5/nJxx9Lt7VcBbxZ9xAbSAv5wiIXWECIJCXgfThJ2dHOTzvllHS7hUCV/hzVFgIHEeOHOAJe8oT6O/WUk3XbmD//Y7X866/TolT6G/J9dJ/eOgz6MOoX7417Zmx6fJLxCGFbt2qpx0Kzz7//wSzVqGEj3Q8kDruNmO0J7dXsaxiT0AdlnJW4bSGSbZ5LapdkjKHm2Ij/b4tCjN2rVn1bRqSHLcxKVSXVZhBftn08auyQtoR6XLFyRfob6Br7XO1O+MiYjjpH/wtb1IjzPchGwKNtZju+S3rgsfjTT9PjXdAY5lsv0q7sBb2w/o6663/mAN2fsCASxsKOR9pe1LfLZ7zxDVOeAh7CfP2PP2VkbdLiUjXuo7UpAdxQnfPzHTcdQUiKwGrbIOX1fd5aLdL6H7yHuvPYRjqMiC2Iy89Wb9VnyvseVKKmpcI9O3etDjP6zGZpUY20L3xmqRbQEO1Ndq+u3li8QU1K/Se74hD4y9Zu0d7tRQwinoMb7qaFG/KFv2/a+u90epJ/5PfdXx8Uiv2Bad+pP039Nh23eOu3X4oj4OVcPTic1n4P9dW6rerNJaWqc5Pd0t75IWK/+H6LXgTp2rSWmrFsk2aOsrx2yYHp5KV8327crsOCp5TPDhtWUJeAF/54T/KBvP7949SmYIq7Wf8+ZXrywzVq2OSV+laAU9vtrrMzfv46vYhhLnyIgIcA/3rDtnTYNz7doNsU/i6+B8w29dGKzeriLvV0O5H2Z4YNK382Al4ENM6hN2u6r9q1enU1b+FibRreu2c3BSGPRwQ8wmEnun3rHW3OFdZ3DEA4Ecbnnn5SqJM4LBZgxxvn0vsd2ytOEs6wrvjChLbL1N+MOErAyxl5vFO3Tolq2riR03lfzgXLMoLEBLyYzg8Yv8MDoPmIuO94yT0VsgsvkxKsjJsiFh9PEdX4+EJ4muJDyiAfZlNI22WUNMwwmIBikQCTe/NanhtvviVjAiTx2xNY+UCbAg271j0O655RDgmHibHsxsYRACiL7CC7yohy2LtT9qRXJh7YnZGFBGGEsBDJIrTCTBix44UJolnmOHVj5sN07mPuUpm7G2gDnbp00yIlbEdJ8mBPWs02FMbchyF4Be0Wy/nI116ekHEOUkSOuUBkt02fvEv925NBtFUILGGG8h5+ZC+9GGaKPqQpv0FYi+DPVcBL3m1HTabDp6QEfBQnKR8sDey20vWwnnrxSxbw4va/oPEkaidORGZY+5W279qpc/0mbdBeGDKFvXndoLQRc3yV9mT3NbQdLEracQeNJ3HzbFtBucZQu48FeV7HWHvvfX/KWECN27fitJlc+njY2CFt0V6okbHPtM6y2620D/PbIn09zHFaNt+DODvw+M5kO76b3wJ7TiDjitmffOtF2lUcQY3xGxZ/Mq77CnjU3bEn9MsYc7KcA8Z6zVfAuyI1z8W7zsC7dovNeCCYT33sM9Vj/9oZDtzgRM526Hbsw58qCMsPr26toxCxhf//7Ln7Z+x+Qyye8cQXeidePLsjL9+Wbi+z+420IOJnXtEqvbsaZkKP9EyxiX/f9NoKLYhdO+Y2NwjPe1K74bAsAL+retTP2DE2y+azAy/iXLhIetjtlnP2yJ9pvWDm2WQntw3cfWJKnP1n9z5u+RDeJeAln+aiiuRV2smk1GICHCJGlQll6/XgYnVwo5plHA3Cz0Ct6julFyYkbpeX/wue+VKLeGEgbQoWH3Y+0f6w0ODjWT9bAb9+fWnG7reIW5iRy1lwEbAQn/8zYMeGAx4Jazui8xkMxLFdywMPUH2PCr/uVxzRDTjlhFCh75Muwrjiy5eAh2k+HPHJ882q7/RRAJulb97zES5xAX/qmKVldtnDdufzUSg7TpmgBe1URu20+Kx0y4ff/HhjUv+by3+ld3lbtWyZFsGYrJr/Dlsg8DnjJhMxs3xxBYTsmNmm/kH1I5N2W5S7Jtz2AkqY6LTFfdy6kfddxxmCygj+eMLuQA+63sfkE5e5zRBxuQS8MLAn0frj/R+PymFCzyfvYiFge7+36yPqmikpkywE5SLgo+re1zTeN1wUJym7PenXk5D/3GEv/SFuW7D7me/7Pgs4UWEwHsHyQureNKE3RZrkyb4j3NUGw/oaFjTtBSebX7Z5di1AIi+2IEMepK5EZONaLnOhEuN3w4b75DQu+LaZXPt40Nhhtk2XsLT7ht3uzAWi+0fc6+3tPGzRyP4eZLMDn8v4HpY38DKPTcSpl6B+E/QNdW0s+IznmGsMuuzXWrzbi6j5nk/5CniXF/omdaund82zEfAQRdjN9nHqJiJZBJSIraBdUYgz7KJC2GKhoG8qrat67J02lxeurt3uMAHv2mmP6xEfAvTBGd9pSwEIedOyQM8B/nPHvY+AlwUIn8UDsy3JLrf5nlg+2JYEkh8XP1f7tAW88LfLKe9KXmRhJKpMsvtuL9zosTFlJj86ZVZvH9uQxQEzv7LQI+UKa1NxnDRmI+CD+jnOfFffJXXU4z/e4UXAu0zdIXzXrt+gLr/obO9hA6J2xux/qiaN9gndUccCwYuvTNbxn3Rc7zJn070T/E/AsPjyJeBdeRTLA5+jA3HLmE34xAS8nH+HB/pDL/y/jLzAhH7VvLfV0b+fovY6qHM2+cz5Hfm4itnvWQPOSJuJ+3w0MQmMMlXGhA9nSjEJFEEv59qnvPW2niDLhMCcTIUJDJeAR35h7jfzgw80FzmTnauADzonjwnuU2PHqgULFmqLAvGUi7R9dtXtSSHKC/NH12KBLRjj1k3Y7n7QYoiPgEe9nXn2edpkGztZMM3HuVqXwHGJaR+GQZNwc8coqCOECXifvAexsXmGCXI9mbAWFHIR8BKXLRiFga8w9w0XxUnKEjYYlbeAD+tLJif8/6AFKruOgngFLSoECXjXeBIVt/CL6pO+eUa57bbtygMWDHDHtuzquhZkXfWeVJvJtY8HjR16kvqfxSWfHW5XWPmb+CkZdMnA0ONY5jjg+mYG7fL75C+J8T0sDpMX2mKcevEdZ5CGLOzYiypR3zuxCsGCVJwFFWm7PmMYwgbNdXwFfDZe6MN24EUQuUQYBO5Tc9aoT779UZs9Y+dc7ky3BXyQUzhTyJm79UFjvS1kXeUNEvZxBbzkQc6mY/fe3CGOI+Ahjs976kvNB2bu53XcS52QMn+3vdxD9C5I8QTTTakr8uRst0+545bPFtFh5REWpoO/qDIF+Sow69YW8EE752a6YeUsDwG/Zu169c+PP1Fr1q5TW7du02J5+/btGde7hZmQx3EuBwE9+e1p+qy57dXd7iMw7580ZaqqtVtN1eeI7jmL96j4ylPAo6z3jxyjy2R6vA+bE+bzt8QEPDL5+nU91ZrP5qg9mx+q6rc5TOd7xazXVOnKJeqA3uerX/z6r/ksS2Tc+DjK2XBMRn573RB9rj3qoymTwCgBL5NAmFljJxJnRSFSJX7sDr07dZq6bdjwjB2oOAJedqYgIvv02nGmBOfSbcdvvjt4Ai1IwJlnkLFD1XjffVWd1JUQEPM4f52tgEe6LkFRWQW8cMLEC2f1sWiCxaCRD/61zHlveyLqyxBpuNqCacYKfwauB0dDou4CDst7ZRbwQYsTvhNm33BRdWz2qaDBpufhO0zK4vY/Oz7f96OErrSpoP5m5tUUz+YOteStKgt4W7CbY3nkhyUVIKhv+baZJPp41OKIj0AOqmMsVDz08CNpB6uuHXCTU5hIruwC3rSMilMvccYZl9NTVzsz60zapMxbfNqlHQb1uHTZV5Gviu8VO2BFCPiwHV3zrDRM6xvV3UXVqbGzFp4wdfcV8OaOvZleu33cHsLlnDv4xPVCH1fg2nUgO862KbfPDrzEBYEuZ8BhJfCXUxrrYwVYJBjwROoMfEroY5Gg1d47yg+mOI9fGQV8VJlMMR343T6gRP8UtogENl3+/EnaB0JFCnjxvA7HbDiXjV133NGOs+2uHXjXPey+Ah7i/dmXXtVn6I/vc0SoIJd8+ZjXRw5CqQA+8YVZEsiOeZAHfF8GZl4h4LM5euBT3rhhEhXwSBxn4UW0498lDVuog078VYWcfQ+CgY/YwEGXpR0XyeQtaFLiY0KPtCQcTGyvGXK9diglZ9LhjR5OgGQX2xSvvgLenEyYnseTMqEP2jHDjrt99jrIhN5nx0XOubvOLttnVuPWTRI7ND6dCOn8+oqrtOd1OQ8dNPkNOkPpa0IvDFwm9D55tcO48u4r4GUHKGhXPMiEPsi0Oez8rZQ7aOHM9q0QxCLOxNqMw+YkZXeZ0Ntp+wrwoDz7vi99KcwHQlSYIBN6u3+Wp4BPKs/g67MDj3DgIM7EMF7DyZ59q0hUf8u2zSTRx/Mp4KXc4pEei7dh/SAbAe9j4p/E+C5xBH3vzf4Qp17ijDPoS64HjifBFkfRsFguloLiN8floyeqTSb5e3kLeDm/vP9eNdTz5x9QpihBZ9WDTOiDzLLFPB/m4LapdBS/8hbw9g61/Ns+a498R/kVwLuDX1qePh8eZOkQZELvsjyIu0AhCxKy2CL8fU3oy8xvrDKJM0CX9Yb9rvAyfRxIGNt0v7wEvIhYU4QH7QIHmdDnIuARJ54zTjrO6cld+MDD/ZvvTFdJmZf7xjftgzlq1px5ekfcdY0c8mee/zfrPK6AT9opX9TYEvV74gI+KsGK+N10NCbpu0www5zY4TfbkZarLHKtCz7CpmjBhBQPvN7aV3/FFfC2eJKymEJHhHCQ0LLzHmZebpu7y5lROKPKZgdezAddjpHgkRcO7+I4sTPrJokJnqteXW3I3v0MYu4yc3YxRLoigG1BhuMZeOyFFJ/+5JN3XwHv48SuRYvmaeuKoLoWMRwm4FG2oHJLvAiTlBO7KE4+DuOkPuL2P7sefQW8cAi7Skr6RJhDOLu/VfQOfFJ5BldfAS9tEkISVlJhTkulvpJsM7n08bCxIxcTelf5fCzW4gj4oH7lclSZxPgucdiO8MDQ5S/Ht17iCPigcdvF1nXszmfcz0eY8hbw4qBsymUHOa/kwu8w8Ta9o4vox3lxewceDsfsuOSMtGleD+dmeHzO20P862+z4aEd/87VhB5i+rKu9cuUW5ypyTltOTNuO14TIYy8CAfTWZ20DzDEgwUSEfC2gBVhm/QOfJCDuSgndvCSL/UYVaYgPq7+IeW0j1qIZQIcI0q65SXgXTvMEPD2Lrfpmd4+A5+tgJfFgyhv82AJb/P71K+XiLf5OPHhKMETz71Uxqzd56q7uAJerqxz8czHeBsVZ1EIeExgcF4c1yfBBFmuizGFRtBVZbgqzPYiHwYVQh0i3fRILRODvzzwN32G2p4Y+gp4+ZDL/d9yldiG1NURtud2mfzIPci4li7svvAgAScm+5j84z/Eg3uEDzrwQJ1mNgIePGT31I4XTqPA2+caOVfdJDHBc9Uv6mjfRqkrJFJX98FUXa7PsvN5av8z9Rl53FMuzH0ZIl3zjCN2iPDgrL2Uy7y6DXc6L1++XKH+XXdYSzl88u4r4KUtQ+DY18i9+PcJatOmTRm3EIjgx3vY0ZTr6XC8BAs1UQJehLDd5nFeGZ7wzdsNgvql78Tah5OIIbmOTcYT7Jy1adM63ceC+p8IhChx6CvgUeag69bMdhEUBteBgaPpjyLuTq5LdIQtCIYtDpiLMUnkGXx8BbxYMqGtRTmvi9O3fNtMLn08bOzIRcAjT9ffcKPCFaK4whFjzvgXXtTWa2EL2nEEPPIubc7+HuA386rIJMZ3iUOuzZRrOYOuVfStF99xJmz+4OpL5iIdduVdj+zUi5m9fRNM1ETQ93dfAe9yYoc0cF82rkPzcWInO6emKbeZT9zJLbu3cE53dOo/XDX29Jy1qnm96tpjuC3g5Vo3uRrOvCJt7LkHlLk3XsqBfM//ZscZ+9LU1Xam13sR1BB9cNQHs3uYo+cq4PE+FhzkaADK/o/UlW8wb7d3p83rz0wOeAfn3c0z3vvW2fBEnksAACAASURBVEV1SV0PV2fXndNXxIlgDbpuraTGzzTPJAQ8hO+4j9bp4w64Z33T1p/KeHEPukYOV97h6jfT8z3KHlYmMJD2BouB3i1KdB3hCsEV67fpYwKXd6+vm5ZwRDuBczlh6bq+Lp8CHsJynwb1lXg+t3e1IZa3bduumu/fVLVI/bfki2U6LJ4kTehFsOLce9CDu+RFRMO0HPl2PU0bN1TN92uaNosPWxSIEx/SElN57MDvucfu2tz/sxSTPVLHfcPucQ8S8BD/U2fM1scT5JG6SOpKPN8xNyxcUQh4fBTlfm3AEOFx2aWDMs4NQyDfdc992pkRdpexQg8T6SHXDo502iOQ5WNrm+eZ4tv29O0r4JEGBM2I+/+shQvyB1F0/ZAh+io029QYYlDukg/boUO8QRNuMZkUJnLHLRZBHnl0dNYC3o5XBBoE0UUXDypTFt+6SWKC5+owYImFC0wm8YgjO/hQMB8Xc1+GEo8IF/zbNCtF2R4ZNVovHuCR9om2BpEf9PjkPY6ARzp2XlB/cOB4x7Dby5zFh5i99fbhaWeLcMA0/Pahqvcxx0UKeLvN49/y/uBrr9NxJrUD78MJ6aOPyx3aMp6g7LZzL1dbgIWFOLQMG5jjCHhXnuROeHPRzs63+NG44bfXZWSlsgj4oHLB94dvnl1jW9h4K33P9yqwpNtMtn08bOzIRcBj3L3l1mEZYw58oVx37dVpJ7CudhxXwJum+TK+Dr35JnXfn+7P6ONJjO9mHI0bN1aysC5O+lxjmE+95EvA+ziek7PylUXAB41tIhSjBLzsmoaNkRCl2BkdOmmFmvrFRu2hXe5jhzgzvYubYgsi+8Hpq7WwFYE8rG+jMjvdeOfRlIdyCFc8CIuryHB/unltGvJ67YTlWliaV4rlKuAlfXjHR9nwyD3m5/x8zww0wgHn/vEIhz9N/U7nSwQ8FkWwwCFO/sSRnRkf6gbCGmGwgIHFDghe3HefhIAXcS719YcT9s241k8KBq73pq7Qk7oV/lcfvndGeJ8yIU4sTjw++/u0Qz6U7dB9a6qBv9grHZ9pQo92ZfL89WF7Z9R7PgU8BDrMtXHGvePBbTOui0NZcJXbjFlz9f/igXA9qkfXlPO4d/W/k9qBF4Eb1g9xvlx2u8PCifM7iO1ly1eoS87bcfuT64kTn7wPh31LvliquVWrVk21Pqh55J3tQQIeCwhvTZ2R5os0sDjRssX+ZeoirMz5/q0oBHy+ITJ+EiABEvAhAMuTX3TuFPtstU/cDJM7gbjO63JPkTGQQOEQ8NmBL5zSMKckkEkgymdAPnhFXSOXjzQrMk6cqccufdQd8hWZx0JJmwK+UGqK+SQBEih4ArB08HGCV/AFLcACiAl9lIf1Aiwas0wCiRCggE8EIyOppAQo4PNfMTi/73I4l/+Uq14KFPBVr05ZIhIggUpIQDyU45pJPpWPgJgqR/knqHw5Z45IoHwIUMCXD2emUjEEKODzy13udL/8orPzm1CRxE4BXyQVzWKSAAmQAAmUJQCz+Tp1StSzzz2vuPvOFkICwQQo4Nk6qjIBCviqXLtVr2wU8FWvTlkiEiABEiABTwI41iAOQePe++6ZBIORQJUgsGztFvXj9n9XibKwECRgEyhvAb9rtZ1U0z1qsCJIICsCFPBZYeNLJEACJEACJEACJFA8BNb8sF2t3rS9eArMkpJAHgnUq1VN7blbtTymwKirMgEK+KpcuywbCZAACZAACZAACSREYGlqF34Ld+ETosloipVAjdTuezPuvhdr9SdSbgr4RDAyEhIgARIgARIgARKo2gRgQL964za1ceu/1LafaE5ftWubpUuawC4776RqV/+Zqld7F7VT0pEzvqIiQAFfVNXNwpIACZAACZAACZAACZAACZAACRQqAQr4Qq055psESIAESIAESIAESIAESIAESKCoCFDAF1V1s7AkQAIkQAIkQAIkQAIkQAIkQAKFSoACvlBrjvkmARIgARIgARIgARIgARIgARIoKgIU8EVV3SwsCZAACZAACZAACZAACZAACZBAoRKggC/UmmO+SYAESIAESIAESIAESIAESIAEiooABXxRVTcLSwIkQAIkQAIkQAIkQAIkQAIkUKgEKOATrrk1a9erJ557SdXfa0911mknhsb+9PMT1XffrykTxvXux598qmbNna/WbyjV4fdt2EB17dRB/y8fEiABEiABEiABEiABEiABEiCBqk+AAt6q48++XKamzpitenTtqJrv1zR2C3h+wiT19cpV3gJ+4w8/qBb7N8tIp25JbfXzQ9qm/wbx/uY701XdOiWqfeuD1I9bt6q58xbq3086rjdFfOxa4gskQAIkQAIkQAIkQAIkQAIkUHgEKOCtOntr6kw1b8EidcIxR8YW8BD/L7/+D1Wz5q6q9m67ee3AI/monfqHH39W5/Lc/r/UcePBIgEWC/Zv2lj1O7ZX4bU85pgESIAESIAESIAESIAESIAESCAWAQr4hAT85s0/qifG/V3vpn+z6jsda5Qwf+DRp1STRvtECvD7R45x7ujDBN8nnVgtgoFJgARIgARIgARIgARIgARIgAQqJYGiEfAQ2O/MmKWWLV+h8P/x4Pz4UT26qj33qKv/DaFsPz5n2fHOhNemqG++W613yV98ZXIZYY3fv1rxjRpwygkZ6bVv0zKVhy6hjQM78NV32UX9z4BT0uFQhtFPj1cN6u+lTuvXt1I2LmaKBEiABEiABEiABEiABEiABEggOQJFI+CxW712/QbVfP+mqnFKuC9PmaAv+vRzfa5chDFM4Bd8skR9sWy56nRoey2Od61RI/KM+Yf//FhNnTlbC2ksCrh2xoMEvFmVWCxo2WL/jPPv+F3OwEPsd+14iH5l8tvT9IIAz8An1xkYEwmQAAmQAAmQAAmQAAmQAAlUZgJFI+AnvTVV9ezaKX2GHJWCv0HEi/DG3+KegcdZ9JdefVN1aN9ade98qK5rX9N2pGU+S75Yqq0DWh54gOp7VI+M3yRf5h979+ym2rY6sDK3L+aNBEiABEiABEiABEiABEiABEggIQJFI+BdvGRn23RYF0fAB5mx+wp4O0+ID+b3uFru3NNPSpvayw4/HNYdsF8TtWXLVrVoyRfaogA78qbH+oTaBaMhARIgARIgARIgARIgARIgARKoZASKSsBDCH+3Zq1as2ad2rptW/pO9WwEPMT2sy+9qqvzjJOOy9jZz1bAIy7xZA8Tfuzo2/822w+80K/67nt14VmnZqRfydoYs0MCJEACJEACJEACJEACJEACJJAAgaIQ8CK2128o1WfU99xjd42uRo3qataceRlXxvnuwLtM2l314esET94VwS7O7SSdKwedXyZ6CdujS0fuwifQGRgFCZAACZAACZAACZAACZAACVRmAkUh4EUEm2fdUSm5mNBDPC9bvtJZtzjLjgdXytUtqR1LXEueRJRL3i8574wyu+xhu/OVudExbyRAAiRAAiRAAiRAAiRAAiRAAvEJFJWAt0UwTN1x3tw0oRcBnYuDuGxN6MVSYNMPm9Nm8XL+3XXdHEzo4UTPXpiI3wz4BgmQAAmQAAmQAAmQAAmQAAmQQGUnUBQCXkSwXNOGSoETuOrVd9EC2BTw+DeEMa6X69ShnVpfujHtXd63Mn2ukcPO+pq169Lm/IhbvNDbJvGy0ID879Ogvs4G7rPHkQCXx3rffDIcCZAACZAACZAACZAACZAACZBA4RAoCgGP6oBgFoFcs+au+vo13PP+8uv/yBDwCDvtgzlq7ryFavv27Qqe3/sd2ytWjfoIeJi/T50xO+1Ir1q1ajo/uI6u+X5Ny6SH/Itox49YYGjf+qBY5vmxCsHAJEACJEACJEACJEACJEACJEAClYpA0Qj4SkWdmSEBEiABEiABEiABEiABEiABEiCBmAQo4GMCY3ASIAESIAESIAESIAESIAESIAESqAgCFPAVQZ1pkgAJkAAJkAAJkAAJkAAJkAAJkEBMAhTwMYExOAmQAAmQAAmQAAmQAAmQAAmQAAlUBAEK+IqgzjRJgARIgARIgARIgARIgARIgARIICYBCviYwBicBEiABEiABEiABEiABEiABEiABCqCAAV8RVBnmiRAAiRAAiRAAiRAAiRAAiRAAiQQkwAFfExgDE4CJEACJEACJEACJEACJEACJEACFUGAAr4iqDNNEiABEiABEiABEiABEiABEiABEohJgAI+JjAGJwESIAESIAESIAESIAESIAESIIGKIEABXxHUmSYJkAAJkAAJkAAJkAAJkAAJkAAJxCRAAR8TGIOTAAmQAAmQAAmQAAmQAAmQAAmQQEUQoICvCOpMkwRIgARIgARIgARIgARIgARIgARiEqCAjwmMwUmABEiABEiABEiABEiABEiABEigIghQwFcEdaZJAiRAAiRAAiRAAiRAAiRAAiRAAjEJUMDHBMbgJEACJEACJEACJEACJEACJEACJFARBBIT8BtKN1ZE/pkmCZAACZAACZBAORKoVm1ntX37T+WYIpMiARIgARIggeImUKekdhpAYgK+uJGy9CRAAiRAAiRAAiRAAiRAAiRAAiSQXwIU8Pnly9hJgARIgARIgARIgARIgARIgARIIBECFPCJYGQkJEACJEACJEACJEACJEACJEACJJBfAhTw+eXL2EmABEiABEiABEiABEiABEiABEggEQIU8IlgZCQkQAIkQAIkQAIkQAIkQAIkQAIkkF8CFPD55cvYSYAESIAESIAESIAESIAESIAESCARAhTwiWBkJCRAAiRAAiRAAiRAAiRAAiRAAiSQXwIU8Pnly9hJgARIgARIgARIgARIgARIgARIIBECFPCJYGQkJEACJEACJEACJEACJEACJEACJJBfAhTw+eXL2EmABEiABEiABEiABEiABEiABEggEQIU8IlgZCQkQAIkQAIkQAIkQAIkQAIkQAIkkF8CFPD55cvYSYAESIAESIAESIAESIAESIAESCARAhTwiWBkJCRAAiRAAiRAAiRAAiRAAiRAAiSQXwIU8Pnly9hJgARIgARIgARIgARIgARIgARIIBECiQr4t96drmbOnqu+Wr5CZ65OSW21X7Mm6tzTT1a1au2WSIYLJZLf/+Eu9cijo9Wjj4xUPQ/vobP9mysHq7ffeVdNfGm8atasWaJFeefdqeqiiwepiy+6UN3w2+sSjTsoshYt26j27dupF8Y9Wy7pMZFkCCRdb088+bS6bdhwNeLeu9WJJxyfTCaNWE7pf4aaN2++WrJoQeJxM0IS8CGQdJ/xSTNuGPaTuMTKJ/xH8+apc867QPU78Xj1uzuGZySKsfMvD/xNrV69Wl1z9VXq8ssuLZ9MMZVyI5DvscP1/Y0zFrjaZ3nPX8utMphQIAFXnVdGXPmeb1bGMgflKVEB/9BjT6nddt1VNd63oU5v8WdfqI/mL1T16+2lbrthcKXisnTpUvXQw4+o9z+Ypb78cmk6bxCkR/fprc4eMEDtvntdZ54xIAc9ItjLewAsBAGPPD4yarSaM3eu2rx5cxphIU5chLe5QFOpGnhIZpKeUOR7QI0zGaksdSD9n4sOlaVGcstH0n0GuUk6zkLsJ7nVSvm+PfHlV9SI+/+cni9079ZNDb99aORifJCAl28I4jnm6D56vhG0AJp0WylfcsWdWr7rjgI+XvuS+XvYZldFzKfjlSL50BTwyTPNd4yJCnhXZh8fO17NmDVH/Wrguapd65b5Lo9X/DfefIt69rnn1bF9j9H/NW3aRDVt0lThQ7ts2Vfq+RdeUEuWfKZ+e90Qde45Z5WJEwNAvXr11Mm/7Ffmt7MGnKE/6OXdGfI54MByYMOGUjXmsVEZ5Y3zYRLm++3XTPXp1Ssdz4KFn6iuXX9RcDsPFPDhXQ0LZLfcOky1ad0qZ4uQQhQmLgGPNjPsjjvV0JtvSlvleA1Y5RDogQcfUmMef1LNeO+djNSSrMdyKEbekogz1vlmIuk4C7Gf+LKq6HAikkRsL1i4QE2Y+IrO1rv/mBK42B+W7/MvGKimTZ/uZVmUdFspL55Bc4fySr8ypFMRdZfrWOA7f63M37Sgujc34MaPe0Yd3L59maD5nE9XdJsM+tb71nlF55/p/5dA3gX8/IWL1N9GPVFpBLyYsT/5+GPOjito5IN929Bbyoh4nwG5vDtDPgecoPL6cABPiIDexxynMPmxFwEKtTNSwIfXXJLtMdfJSEW0MZeAL+8xIU65gxgnWY9x8lPZwvqOdXHynXSchdhP4vCqqLDr1q1Xhx/ZSx3aoUPG9yvXvoH6wuNzBC3ptlJeLAs130nyqQgGuY4Fvt8q33BJ8sw1LtQHNpJWrfpWNWiwt5o86dWiEvBBbaMQ6zLXtlDo7+ddwI976RWFs/FDr79KNdi7XoXyQgN98umxKkq8SyaxUnXvfX9Sb77+aoaZnM+AXN6dIdfJRFjF5CrgC1nsBnEp5DL5tN9cO2qS7THXyUiuZcnmfQr4bKhV3nfy0WeSjrMQ+0nlrfH/5kwW8127dX36Hqc2btxUxnLFp1wU8D6UCj9M0v3ch0iuY4Hv/NU3nE+eyyuM1AeOymJ+7zKlT3L+Ul7l8k2HAt6XVOUPlzcBv+rb1WrWnI/Um2+/p/od10cddXi3CqUhq+i/umxQ2lwbf7t56K3qtUmv67ydcfppauEni1SXzp3TZr/4QLdq2VL95f4R6fz7DMiugc3uOPJvF5iaNWumnd3BtH/kw6O0AzycHcdvcIhz/ZAhadM9c8A5/vhj1d33jNDmeXiw8z3k2sFlLA6wM37XPfel48WxgPPPOyfNR8pg50/OfQuHEffcpc2lJT34Ebj91lvS6SH/p/Y/02sHPmhSEzSgIo+Tp0xJn0tE2siPOAn0YWfW1fyPP9amxHAqJMckXE4BwwS8nSc5NmDHg7yhnsQngCu9qDpC3Zj537BhQ/qcJtrJET0PV3cMuz3DxNO33nw7rN3Wg9p11HlwMdeWdgRug6+8Qo0a/ZjTiR3OpMpvyCv4der48zLlxW/if8GM2zZll/Fg1uwPdf2Dn7nrlk07EYam2Z78LcoBpNQT+tKttw/XDJCnc84aoMcntB/5O+LEcSC7rqPav7Rju64xqZn5wQc6Tfsx69GHq7QHCCDJb9j5Qwk/a+b0jPFZyof8mOO2Pd7gd7BzpRE04bT7mYybYjGUdJ+RPEa1AWGPxeTxL7yYHufQN+z2a35fxOoJ3zTbcVr7Dh2dO08oo4RHX/jj3XerKW+9rfuC8JAz3zKmo07Mb6PkF+bhGNfmzZ2tovpV0DgTpw6TGktdeYHVHuYIrvFLjoahrQb5zLG/XVHfVVcefOYckk87L7IRYTsZlXxIeIynOFooY6Q9H7C/NWHfymzKKO8gn+CN/8z+kfS30KwXlA2bO5hfmfUc9xuDI1LiU0nmXZj7mOUI848SVM9YRHpszJh03Kibm2+8QftMiJpr4vcX/z4hcE7jmltFxSnjl91WUc6S2iW6DdkbXwgr40aU3yN7zMC7iHvghRdk+InwqUM7jyZjGTPtvIYJeJ/5nfl+9+7d9NE5tIugOZnvHCVorJS+ac6F7Xln2Lce84mg+Y055zDTRx09+NDIdNuK0iVmH8N3A/07m7EKadoOwn2+MT75DeNbGX9LXMD/esgt6XLWqF5d9T7iMHVC3/+eea4oCBgA/3DX3XpCgQeV2f/MAfr/YyKE59nnxulGZX7oZPAzz4b6fEx9BkAMZsiH+bw2aZL+iJqm+0hPxF27dm3TH1lzcmY6xFn86aeq11FHpCb0fdW0adP1h0l3HuPYgDjWqVWrlhbtTZs0SX80ZeKLD+bSlE8AeLeXCSPiwZkhTFbEFAk7EJKe5B/5NZnJeb8oxz9xBLxMnsBByooP1R9//7v0GWMfdlJX+ECUlpaqC84/X/OSD6bLu7pLwEubwkCNAaprly46ntffmKw/aOZkF2xPPOlUPZGW9GbMnKm+XrEibVLpU0cycGNAQ/wQn1KfSBNtCXU37pmx6QlmnHrz6a92W0e+p743Ta9uI09nnN5fRyO3MbjilLLiNwhUfPTQlnDOFG0UIsKcWMlkVZxOov0GlVd20BD2tFNO0cnDzwXEqemEEIt1MKvDIp/Eh/RlzMimnUhZ0V5kfMHkpV3btro+XOfv5B2znlCndUrqpNsk4vjbgyP1Qh76lEy8bUEV1f7RZsFeJhjggadZyi/I+tRiUFg9+nKVSZJLdLragoRHfbVu1TKjfOjrcDzaqGEjLTalzu3xJq74g5dws+1h3MQChpg3J91nkJbPd8Tu3xhTNpRu0HWPx7zRxF4gRnvGY5qIQpAMvmaI/rs5eZK/S39AXPADI+3L7FsSn/QX6R9Sl/biQVS/ChpjfOswybE0qD3i7y5Td58dSFsMyHcVfQ6PzD/ku+rKg09bkTq0v1fgj2+SvZiDv5eUlOhySR5lPDXHGns+hG9N1Lcyau7gKqOwdC0c5ONbKGUOWvjN5huDMe7UU05Oz6dkMTgXAS/5EP8LYAcfDI0bN9abLWFzTXwPMKeQ755rLpKtgA/6psGPFMYYl0gPWmQy24M5F5DxZ9lXX6UXMM25cVQdRvUlGTtatGie0b9dTOLM78z+hHFU5hTynbb7ou+31FUe33yFfetNv11oZytWrigzDza5S5qYL6GOMP+W+ZrJMqh+chmrXO096hvjm9+gb1Fl/XviAh5n3jf9sFlfJff1ylVq8ZLP1cHtWqtLLzi7QhlAQJZuLE13UhHmr708IS1sUMmdunTLmNRLQzPFg2s3DYVzDdKmQIgya5LBBLum5q4GBj17l8OePJmra7apn2sHHHlZufIbZZYfZXANsGEm9HjH9hMgwtr20C5/xzv4sFx37dVlPPjGEfDIl+tcPepRdkN82MmAgI+vOdmV9uDaJXMJeInH5TfB/k3+bdeVmXffOjInPnZ9yu6L+TGV9utbb1Ed1zWgxjVBE8FgO4SStos8SB+UuF27f/ZvQedXEV/Xw3qq2rVr6TqX9+xJh1kf2bQTk53PZN8ML/Vk9iMpD3aK7B1ml6Dyaf9IM+4ZeF+uZtyufuFqW5IXu3ymsDfFlIwrZl/yFX/SDvC/dt9x1UVSfQZx+4gyhEMf7nFY94zFHvkume3VrkNpb+buEtoDJvRYvDKFGRiai1X4t2nhhXzYnINunzCPnskCcFi/ChpffOswybE0qD3i70kJeEkjHyb0YGYvFMP/jAhu+b7Jt03qBeMfhJfptFfCmN/YuGOgbxsHE4nbNa7n41toigvbeWc23xhbBErfxUJ2tgJe+ljYjnWYgHfNj2QzRcbLbAW8WWf2XM/8tpp9CtY/9vzW7nMyF3AddbV3zMPqMGxcMevDNUcKY+Izv5P3TUtayY8sqMl8Js631FWmOPPOsG+92bfNDR/XPDhozLW/CWH1k+1YZbf3OHM3e76d7xuUgtpgUn9PXMDbGcP5d5yDhwl9/5OSvyPaFwQ6vm0a/4vOncqYF6JRmYNRkIB3eaHHiqh8AH124O28y3m6sImkvCOTKR9Rg3dMk0bZIXF9FFzCNEzA2ztfSCtMvIkZHCwdMLjZnv7jCHh8JPA889TjkVf5mKxtdmEDoHxM7F0mF6egjxbSlkFQJicycASZEsepo7D8I218NE1TcNmVDZq0hJk3h31AzH4TR8CHmfu6PjhRq/jmudSw86vCDX3IdLR4/4h7neaw2bQTk1c2At5eVDJ52OZnZnnCxkW7/Yd91IPq0ZdrWH6D8mia0JtmyVI+e4cxaMzyMaH3/YAn3WdQ9jjixmYl44lZRlvAy+KXOeHEGPWby3+lLTnMo2Guo2J2mvYuvUw87Qk50mjYcB8teH36VVA78BXwSY6lrryECW2fPh3Uh/Ih4PGdhwWejO1yzzzMrbErKos5UpcuM2eTgblLj7/HHQPjtPGg/p2vb6HUi+uYSTbfGJelnqufh43TNq+wOYXUU9hc08eMPR8C3rV4KP007OrdqLmAtFsZ08LqMGxcsTdlZPFbLJpcTOLM78IWgGzxG+db6ipTnHyFfeuj+jYWfUVvIM2DDjzQ6ZTaHLfD6ifbscpu7z7fGN/8hs2bKuNveRfwKPT/3v4HVbduHXXD4F9VGANbwLsmB9LYzN12NBacKzF3Zn0+SnEFfNCKloi/p8aOVQsWLNS7J9g5l3OJtoAPEl/mR8PcrQ+qEHOQDRPwYbvTYUIQnW7wtdfpnSB7Fwl5snc7XAMqBvP/vekWfW4NK834ENv36GKSGcUubBIWtTNpc4o622uWTeKWxSC5ghBh4tRR1CTSnigG1Wcc0R0lTOPEJWGDJkB2HURNfM22Lv8/bOCRPiRh5ZzaoEsGZux6ZtNOojiF5SuonoLapGti6NP+wz7qQfUYh2uU5ZHNIKp89gQwFwEv5Qg7wxwmtuO0c7ucPt8ReQfpiFk//ia+CcIEPMJh4gK/ELDgEkGPssr5dgg9mQDZO0uYWMJUF35hcLRIzvaa/OVWF7GccS0aRPWrsIm2zyKM2X5zHUtdeSkkAS9iQIQbJsmNGzfS1hSwLpQ6Rr3BvNtcxEU7eHrss6k6/0RbK8L0F9/WKMtCYebqt3HaeND4mq9vYVjfzeYbEzSG2AziCHi861pgiPquRI25LpFl9jXf+WtQncmYYsZpCzZXX3ON5a5xU+LNZvx1tUnbStUVb9CCotn+ZX4Xli+bWZxvqYtZnHyFfevjzG/EOjBo7Papn2zHKlc+o74xvvkNm49Vxt+KSsDv26hR2hQdExuc2zYd/LhWXREO972bDsh8Pkq+A6Ap1lw74uZ5IOx0NN53X1UntRgCMW861okayMxdN9PkBGdxXY95Hi8fAl7SBN9NmzalzxnH2YFHHCJQxPEcJhujH3lY76D6soszcJkTavgGyEXAS93L2WjTIiFOHUUJeHsXpbIK+KCV+SQEvJztdrV1gCAAvgAAIABJREFU82w+Jh4PPfyINifG5NWcPGXTTqImWmEfhVwFvG/7D/uoRwl4H65Rk0mbQUUI+CgHi0n3GZTZ5zuCcPJdEqdE+Bt8oWBHNUrAi8CGBRG+AfAfYB4ZgdB7d+o0dduw4ekz8eaZSiyMtmndSlcRvjswBzb7qS3YzfTMeg3rV0F9wHcH3hyTcx1LXXkJssJCWJc1ix1Hee7Am7vVZw8YoEW7LIyiHDIHsuc/MpnGAgjmRTgDD4tCWGrIOXmUK+4Y6NvGw+LO17cwaQEfNIbkKuCjLOLizDVlzoR2ESayfOMMaw+mYA+zojD7S0UJeLP9ob/UqVNH+34y2ccRytkIeJ9vqWt8ipOvsG99nL6NNE3/Rna+4EMH5+rDOGQ7VoUtGgXN3XzzGzYfq4y/5V3AVxYTenxo4VFXVpzRCODc7f/uHK47K3Y3ln/9tRbF6LRwooXJwCeLFmU4APOdePkOgGKG6Do/JZ3NdVY9yIQ+aLXWNCv29QQqDTafAt5ejZazbtmYd9tnmYLOzQWZ0LsEZJCYcJmDBXl3Nj+aQV6bMZgNHHSZdqKGyXacOhKGrh1s23Q/rP1GLQIFDWCuth4nLilr0ETFPjMmZ/iCdjzMti5twnUFVNiALF5NMR7Iu3E+cK64oxZa7HdyFfC+7T/sox5Uj3G4VpSAd/U1uw6CPHT71kWcdu4bp2tC6zpDbk7Cg+pQTE7Rhq8Zcr12sAXHV3gwXsG5klh2idWTMLL7jG1CL/lEf4NTQXjsR5xwamR7vpewrn4V1A9l0mX7f4nqR7mMpa68hLV1l6NAO47yFPBIW+oDcwFYqMnxL5QDzg9hJoxz8fbis+u8dJAJve+3MgkBn69vYVjfzeYb42ISdn7YZd5u8wqbU0g7C5trur6RQWboSe7AI2/m2CPOUKMsnaSug+axPnmPElphbVJM6aEL7AXSOPO7OAI+zrfUVbY4+Qr71seZ39jHMoOYR30fsxmrosZ/1zfGN79Rbaey/Z6YgIfzujffnqb2bdggXcbv165TH81fqOrX20tdd8WglDfp3Sqs/DIwmIOs7VQNVzDB3BofOey+ua5lChNAZuF8Bbys7tvOuyQu/A7zRdu52uFH9sq48kQ6CnZx7bhcZwTl/LjPefugSYrvrhTYf/TR/AwHOSgfOtqxJ/TTRRXBLrtN9uRRPqjmR8Z0MCa8zNVIX3ZxBi6zXmBiaJ6Nl3jCnJxI+3Pl3V7M8K0jec91nEF4+hyJiBpsgzqvi59MXKLM/yTOoLJK20U4H38PdhnM81FyJZirHK76sHcDsmknZlpBnlfDBIyrTqN2qIWTb/tH+kHXYQXVoy/XsAlDULmjyudjQu9qTzLe4PiRxCHlsG9qsPPmO9bF+cD5iBtpg0FXgEXtwMv3Sq7tMUUDxlQ8ODPtuj7UnmxLvdj8ZQKKcQ87+WYaPv0qiJlvHSY5lrryEtTWpW6inDOWt4CXcQp1jkcWQExxZDoslDZij9WS71xM6H0WOIR52Piaj29h2PdOfgtzlGre1oMFEdcCiOnJXhbIghzTST8yecv7YW0sbK5pL4qLdQ02CmSe6OLgO3+N+qbJgh4sf+zrmMPGf8ytgpzY4bewvEeNwWHjrvQRfA9wZMi1qOEzv4sj4ON8S11lizPvDPvWx5nfBM3T7fxFzSmzGavsfPp8Y3zzG9V2KtvviQl43Ps+dvyE1LVjy9WWrVt1OSHcOx96cKW4Rk4mkhDDpofFbCoEA4DLiR3iws49THJ9BkAZsE0zRTM/MNuXhocPCf7DdRowF4cDCVztY4saDDy41i3qKjHpWFIO5Bv3ui5fvlxt2FCa4fXeFM8wqzv44Hb6bLDvpNZMS8zzcBWS3DFsTk7NsFIGXL2Bay3sAVU+DuCHTixXpMgE05ed78AlfhTkfmx7IDdNT81r5HA9HHZybXNsxHN0n976SjG57i/oCg4c4wiqI8k/6h7mjmFXxshkzcd3QdDZWLvPBPFD/eCBo0K0K/MYih2HTATkCiG51vDtd97VV+2h7n2ukcPEFOHNBS9zgcPkDYubNm1a6x1JtLvrb7hRH5cRzrh325zo+LaToDHFnBzgfnv0ZdkNdb2T6w68b/tH2uZYhHaKR/xJBNWjD1cZd00HOFFjbhIC3syb9AeYA+NBWzJFqGk+LPWP/mj6PvEd6xC/ee48rKw+Al76oN0vMEZj/PcR8GLKKjcuSJ7EwRkWNEzRHXSlkdzvbAt4WeRBHsV5naTh06+CGPnWIcIlNZYG5UUWuORbje8XxpogyzkznvIW8DLOmHeFS35ECItfBPPvOMpmXgkF0YUnFxP6oLmDi3PY+Oo7X4nzLYwSF0HXyLm+MdI+7KtKUU6Mfeb3Vqwu8ZvNG2OTHRbXHdtX02JOId+usLkm5gQQzjJ3xDcNcbmuYstmBz7qmyaWr+aiadT4H3SN3BuT3yxze0ZUHcb5rkpY4Yl/2xtGQXVhz+/iCHik4/stdZUnzrwT7wd96+PMb+w2LHNwzPPM72ZU/WQzVtn59PnG+ObX16ltVBsur98TE/DlleFc0pGGjjhGjXwwludyM90whwjS4aMEvEzMwsoDwSLmIBAysAqQu5QxwcR9rC4ndhDZf3ngb9rRnTjkgnWB6dEZ6aLhPzJqtJ4I4kFYeCu3ncGZDucQRlZG40xq0THk7m0zrYsHXljmfnCIuTt+9/t0/uUuUNukSc5bggseDCJmfL7sfAcuTH7AFBMjeHI2r9yRekSaDz40UuE+enE0iA/ywAsvyHCwB/Zy9zbelYWUyy4dlFFPPnVk5l8WAsBE4rSFs2+9+XoqDuInA6sws49F2G0f6Y24/89pZ1moz+G3D007O7TPGKJNQZSJcy05I+xaKLDDyt2/4qgObfyWW4dl9AX4nDCvOvRtJ2F9WsxYxcLHNg+2x5lcduB927+kKRNW/Nue4GFxw1WPUVwRV0WY0CNd1BeOSUlfwILghvUb9Ljp2sU3x0JpH1I/vn1GxGzUrizy5yPgEc7sFxh/MR6KUzIfAS+TEnuH1VwcsPsm2MkYJosHWGi0/X7Ybccut0+/CusvPnWY5FgalRdhgno456wByh6vXe+Xt4BHHuRbZVtRBO3oYiJ99z0j0uOfOfYiPvt4ha8JfdDcwcUpbHxF+KS/hVHiAmnG+caYfcbup/Y4Dt633j487YxSeMuVf6YT36A5xdVXXRm5WYT6v3LwNel6xTcSi8ems99cduDBKOybFjbGhPU1vHfXPfcpmffK3HTItYMzHMv61KGdTtS4a1pquSwYfOd39hl6yUdQO/f5lgYx8513hn3r485v7DpC3Gjn2CSRjQmf+ok7Vtn59P3G+OSXAj6sV1aC39DQL7z4Eu1hFRN0rEziDLw82IXGSp8MjpUgy8wCCYQSiJr4ZIvPdHqVbRx8jwSKiYAsekWd9axqTIKc11W1crI8lZtAvr6FlbvUlTd3vs7rKm8JmDMSqLwEimoH3qwGTLRgmo3zf7JTKitIrVu11Dsc9o515a1G5qyYCeRr0oKdU3M1tZgZs+wk4EMAfRHXcIX5W/CJp5DCxPV3UUhlY14Li0C+voWFRaHy5DbIt0rlySFzQgKFS6BoBXzhVhlzTgKZBPI1aYGpWVzv7awbEihmAsW46CXjj8urdjG3BZa9/Ank61tY/iUp/BTl3DEsXcOOihV+SVkCEqgYAhTwFcOdqZJAYgQ4aUkMJSMiARLwJACz+Tp1SrQlm+9tE55RMxgJZEWA38KssCX6Es4RizMzOIHFtYW4E5wPCZBAsgQo4JPlydhIoNwJcNJS7siZIAkUPQFY6IizrqB734seEgGUKwF+C8sVtzMx8yaAe+/+Y4bTuYrPHXNAAlWHAAV81alLloQESIAESIAESIAESIAESIAESKAKE6CAr8KVy6KRAAmQAAmQAAmQAAmQAAmQAAlUHQIU8FWnLlkSEiABEiABEiABEiABEiABEiCBKkyAAr4KVy6LRgIkQAIkQAIkQAIkQAIkQAIkUHUIUMBXnbpkSUiABEiABEiABEiABEiABEiABKowAQr4Kly5LBoJkAAJkAAJkAAJkAAJkAAJkEDVIUABX3XqkiUhARIgARIgARIgARIgARIgARKowgQo4CtZ5Z7S/ww1b958tWTRgkqWM3d2nnjyaXXbsOFqxL13qxNPOF4H8i1D18N6qtq1a6nJk14tiLImlUkXH5sF77PNnfarn6xXx49aoq7p2UDd069x7hEyBhIgARIgARIgARIgARKoYAJFI+BFNLVv3069MO7ZSOy/uXKwem3S6+riiy5UN/z2usjwSQXwFb9JpZdrPBTw8QlWZgEv9elq91hUePHvE9Tq1at1obt366YuHnih6nl4j/gQyuGNqiTg7x85RrVv01Id1aNLOZDLTGLz5h/V5Lenqa9WfKO2b9+uqlWrppo02kcd1qWj2nOPuunAa9auV+/NnK2++W61wjt46u+1pzq4bUvVttWBWeX7408+VbPmzlfrN5Tq9+vWKVHtWx+kfn5I2zLxfb1ylZoxa67C/0rYHl07qub7NQ1M+7Mvl6lJU6aqvr16lAmH315+/R/Od0845sjQeLMqbBYvgfmESVNU08aNItvGtA/mqFlz5qkrB50fmVKcstvto2bNXVWL/ZtF5icyEyEBtmzZomrUqJFLFHyXBEiABEiABAqWQNEJeNTUo4+MDBUdS5cuVb2POU5XKgV8/LadyyLEAw8+pMY8/qSa8d478RMukDd8+FTEDvy6devVsSf00wLdbvfnXzBQzZk7V/U78XjVpnUbtXz58rSYj+pPFVUtFPDJkH/g0afULrtU06Ksbklt9d2ateqzL5bpyC8861QFwYYHom/uvIUpUb97SlA2VMuWr1RLvliqxXzvnt1ii3gRnPs3baz22msPncbSZV+r775fU2YxA6L9pVffVLV2q6kObL6fDgvxj7RdYlsWG75YtlyHdYUREYv0YSlkPoe0bZWxeJELaZQTeb3kvDO8o0G5Zsz+p1q4+DO9qBK2uINyvD/7I80NTxwB71P2/zf2Bb3A0vLAA1Tjhg3UJ59+rhdR8G6/Y3t5l8k34IKFC9Ubb7ypWrdupY45uo/vawxHAiRAAiRAAlWGQNEJ+Jo1a6ojeh6u/nL/iMBKvPHmW9SEia+kJn+bKeCzaOo+AjUo2lzezSKrFfKKTxkrQsCbO+y2gEefuPSSi1WzZs3SzCD4Dz+yl2rRormXVUt5w6aAT4b4hNemqD5HdE8LdcQq4jbKKgBC8+HHn9U78WeddmKsDEHYNqi/V5md7qefn6jFqClE8beNP/ygzu3/y3Q+kfbop8erPerWyUh70ltT1aKUyIQlAQQ/xGeYgM/3brurPGGgPvznx1q8Q7iDq2tBQ94XcS2LLGASR8BHlR15mZqyuuh0aHvVvfOh6Ww/P2GSFvHnnn5SYgsdut19/rmamPo2y0MRH6tLMTAJkAAJkEAVIVB0Av6M009Tzz73vHrz9VczxIjUp4gSiHya0GfXyn0EKgV8uJ+D8hbwH82bp07tf6a2Trno4kHeC1e51HV2rcv/LQp4f1bZhIRZv48wh0DFE1fAB+Xprakz1bwFi9KiG7vpTzz3UhkRifdFrJtCEuISVgJdOx6ihbAZl5mmWAAkLULtcsUV8Cj/xo2b9BGGtevXazP/oIUULJ50PLitPnIQJx3fstt1IWWTBZ6oBYC47Q6m8+PGv6BWp45p4Kleo7r61aWD4kbD8CRAAiRAAiRQ0ASKTsBDuMM8Psg0Hibc9973Jy3wXeEmvvyKXgCYNn26rvh69eqp8887R11+2aX63zA1xm+uBQIRSddcfVU6vN16TEFk7oginZN/2c95Hh/nlh8bM0Z9+eVSHR3OJg+/fahzgcJMD4sVNw+9Vc2a/aE2m4Z1wqEdOqgxj43KyJYdP/Jy8403aKd1LqHpEnXvvDtVC8P99mumxj0zVu2+e13VomUbJT4J5HebR9QRBinD2++8qy0mhBPieeTR0RnHJZBe0NluCYt8Qcge2/cYp5WGmJLPmztbZxXlnzxlSpo9yjPinrtC2bv4mCwkXjv/sriE3598/DF1cPv2Og848nHXPfcpk4HZJqNGKMTb/8wBqlHDRrrugzi54kFZVq78ptyPPKz54Sd155sr1dNz1qiVpdtU7eo/U2d22FP98YTGas/ddtZZtQV8n4cWqzeXlKrFv22nDqyXeX525rJNquufP1HD+zZSN/dpqBD/9S8vV68sXK/jx9O7RYn622nNMt59KpX+fe+sUrOW/6DDHJSK99ZjGqmzD90zjQv5uOftVTptCTPipCbquFb/PT8eVUeuM/AwuxZzZbyPXVacNTd3Qk2Bteq779Nm5UmcU0aeosykZRccZ+aTMqeWMomwll1gl1gEozffmR5owh8kQMFTfvPZsXbVH3agkTfTd0Dz/Zuqnl076boKOmceZdVgpuVrCYF3ggS88DOPOfiW3fWuye60fn3Vvimz+lwfmM0vX/61NpkXEb9hwwbV/9RTVP369XONnu+TAAmQAAmQQEERKDoBD+/ucFAHsfPuP6ZoIWk+8AZ+0IEHOoWMiEyItKP79FZ1SuqkhbN4YYfAH3zNEOUS6eIYb9bM6WXSlTyIuIOA/HrFCnXaKafon15/Y7JeGLCFpcSJv+O/ZV99pc+Qb9q0yVk+s6x9+h6nVq36Vv3qskGqaZMmOn4cHRBxirASPxYF5LzhgoULVOPGjfUihI+Ax8LFOeddoBo02Dst3hG3KVohIhFu2B13ajGMnWA8zZo2CRTDIjwRHpYVyKOUH+9iUcI8n+0j4OGQTbiYHBCf+EZAWr+7Y7iCWTkWc/DvY/v2VdOmTdfnwv/4+9+F+ljIRsBLWVFfpngXtrVq1dILSahHWI7EsR5BHWMR57WXJ6QXVqIWTsADeerUpVvgYke+RkKI625/XqhWbNimRftp7XdXz89bp56Zu0a12ntX9cFVrXXStoCH2D7nqS/SIt3MX/8xn+k4vr+9g14A6PynheqTb3/U8fdKCfcpKfE96v3VWqAvSi0A4JH4IOwv+kU99fn3W9RLH69TPQ8oSXu9/+t736nfvLhMdWq8m7qgUz393mOzVmvB/8rAFt4i3hbwItywA96s6b5q1+rV1byFi7U5uEuIIdzWbdu0Azg8rrBx6kuEcY/ULrDLoRzikrPXSPeMk47LMMGPk5YdFmbhiFPOjIeJzSiB6yPgJX2I7n3q1yvjvC+oLKgzWSjZu96e6cUWnBXve1QPfT5/Rao/T50xO23Gj7j2qFvX2+w8qnxm3rIR8D5lR33gEYeB4hgwqUUbOfOONMRkHiIeAp7iPZeexHdJgARIgAQKlUBRCngR4rcNvUWde85Z6boTD9wi+mzBh/eWLfsq4x0RMRCPsnMddD1a+w4dI8/fi7gz45MMyu7++HHP6N1XKYe9WGALTVfjDHoX5ZFFDeERZjEQJeCDxDvyZO86429xTLIlbfMKO8RhOmPLRsC7POsjXtM6A2fBkX9XPZkMXezjCnjUNXbIbfEuvLADLuJb0vNZLEJYKau0KakXHwEv1ggTXxofae2R5AB57YTl6t7UrveMK1qpLk3/61xMxPKTZ++vd8BdJvSNhn2kSmr8LC3CJV8lN81RfVvWUePOb67/dPFzSzN28+VvEPGSroj80jv/e/YX4bDAgEUA/G+zOz/SeZx86Q7hLE9QPoI4uQT8+vWlGeJZzptjxxM7n3hEoMJ7+/8M2LEYiCeXs+l494lxf1fVd9klI04zPUkHCwd9ex3uLUij2omYdvvuFkcJ3DABj3fhiE8emK3D6R3Ozg845YTIMsF3gG11ALG76YfN6vKLzk7HG8e03eYTVT4zfJx04pQdRxienzgpffMA0rTbW1S9Bv1uincJ06HDIfo7yocESIAESIAEipVAUQp4VLbL9Bd/Ky0tTd9L7mtKjB3bkpKStCMvEZamGb29OBDU4ETc+ZjgiyWBvVMs5cP/Bl2ZJyIfAvT+Efc6LQJ87mkPE/CwNICTM3vnXcqeq4APy58rX7478KYfBNPZIdJr2HCfNFP8G88zTz0eS8DGFfD3/el+tWTJZxk770hX6tC1wCILNGEe4oMWcaLaPfhcePElzjyVx0AK8dumwa5lRDHS3um62el7310CXsS/aUYvwj9qR1x23CWc7NoHvSfx2gsNyKfk4993dfRC5nuNHAQihLWcNxeB6toph6Bbu35DhpiMygzMwl+Z/LZOw7WrDjGHc9kw1y9NCd5ly1eobdu2q5OO652zKbWcZ7fLkq8deBcLsTyIOjoQxFHKYDvgs53yRdWD/J4vAe9bdizmPPvSq9oiAsc34HRwSeqGAtxSAOeBJx/fJ2vLC5d4x5l3ms37tg6GIwESIAESqKoEilbA24LatSvvEjIQTU+PfVYtWPhJaoJaqkUMzl6b98uLsDJ3MbFbufjTTyPPCkftQJt5krBBjTPqznsRueKZf9AlA9PnqhEn0hJz8aA0wgQ8zrtj19h1VEHit/MYVX4zH2H5y0XAIw37mIX4LzCtNnBc4n9vukXXPxZCwAp+AaKeOAIeDOVIgX3fepDfADP9IAEvlhGuGxnCBDzS/PUVV+lFmXvv/mNGe4kqt/yO+H0eHHdxPRDpYc81PRtoE3aXgP909RZ10B/mp0U+4sHZ+AWrUubMQw/OiBYCfM6KH9Q/U/9t+PEntTj1Lh4R7IjriAcW6TPyMK2/skcDdVZq51/O4ItID8trLgIeYvmfH3+i1qxdp7Zu3abFuHgmtwW863x4nB1ZlEF2v7HDf3yfI7yEmQg87DqbV8751L+EkbvOEccR3TuXuY6uPAU88uS78IGyz5m/UH3//Vq1cdMP2ks+/oanEAW8q+wu7/8Ih4UeOAuMc57fbBMU73F6CMOSAAmQAAkUG4GiFfCoaHNH1SWwbSEjoh+O0noddYQ+A4+z4HAgZ+7AI24zvrCdUrvBhQlYMdeXhQGxGBh6803OdgtTeHF0FtSwkbeHHn4kfW2eKdijdmIRZ5iAx5l8nMW2jypIXnLdgQ/LX64C3hbsQdYOqJOnxo7Vfgdw5h4LEqMfeTjQxwHKHkfAC0OXUz1zB71d27bOKkb9234ezDxEDXjmIpS0/6hFnag4kW+fx16wkHcg4HHufWDq3LnraVFvV+1oLsgLvSnYRdCL8zrEJ2fsIdhxvv2QRrvpZPaoubO6ZdKKMmfXIfTlXHvDkl3UCxc012bzIuAh+IMeX0d29g68OA/DGeumjRvpHXHc0Y6z7a4d+FwFPMzB4YwNntuDzrwHlTHMyVxUO5D73cN2c0XAuxymyY55kDf0MBP6oLz5LHxIvhEHzoLjHvkaqd1jiHmY4ReygDetBcIsQ0Tcx7nfHrxc4h1/P/ro3qpN6x3+LfiQAAmQAAmQQDETKGoBL2eag67OsgVi0Jln24QeDUqc2eFs8dT3pmnP9mHO66QRirhzhZU4RRDbHtFzacjizR2CW85D48w+dlonT3o1MOqoM/Bggx1kl4hPQsAHWRmIgzn7DLxLCAdd2Ya8i2d2sOh34vHaeV3QI+0pzGcA3o0j4JH/1yZN0s7y7Lz73GoQlFeI8eXLlzt/hvd7cO3SubPq3r2bdshnt71c2lqu7+K8uutcuR1vkIAXU3iYtr+xeIMW5eK8DnEEnbG3Tehd6Z3x+OfpvN0xeaWO22VCH4eBXJNm7mZCOJln3SW+IBP6XAQ8zL5hEp2tGXy2Ah7lHvvCy1oAh3mwl91e+y5yMBGTdYhIuQvdZJ+NgLed6LnqMmhnupBN6FFOu+xoh+KUz+bga6lgvkfxHmdkYFgSIAESIIFiJVDUAt68lgsNwDb1dgl4e/fR9ExvnzcX0ff+B7NUq5YtndeS2Q1PxJ3tRMz0Qi759HEyF9SwXY7W7HPT4ggtaAcdcUcJeNNTvB2PS8CL8PZZ7LCd+klZxTwcpu2mgJcz66bDtyCHd4hLBDnyfduw4WWuBnQx9LFaiCvgIaDN2wbsc/nIq+3ELpcBzVUGsOvU8edebTiXtH3elbPnUcI47B54LALAw/y7n5eq9g1rpp3XIX0R8Kaox9/htM70Hi/O6sw8IwweeMKX3X3s4ttO7HzKKWFcO8wu4WR6pk/KhF4WD8K8zYeVJRcTeuz6f5O679tnBxf3neM5t/8v00Ld5wq7uAJeFiOiTMMhXnEu3HYcOPrp8fqYg7kDH7XIEMa3PM/Au8oO7vBxYB+PkEUV1yJTUHko3uOMCgxLAiRAAiRQzASKWsCj4kUwunZmbSEDEYPr2bATi2vDsDMKcY7HNqGXuKe89XaZ68zCGpyIO5x9huiXq+HGv/CicyfbvHaua5cu2lx6/vyP9Rn9iwdeGHidGcT69TfcqO+Wxy7r/I8/VkjDPLNuim/kA/HjmTFzpmrTprX3NXJBV6C5BLyIZjlTjvSCzpXD/P/Ek07VeTLrBFfhtWjRXM2bNz9DwMtiA3aX5Xo+HH/A4zpnLkcWcGTCdF4n9ScLNMgrwspVf2GO4/BuNgIe77kWVGTRBXk06xK76xtSV4qZYt93oLPbvRwBkV15VzyyUx/kwd83bZ9w4t0dYeWat7Upj++fr9miJi5Yl/YwHybg4WVe7ni3ndAFXf1Wd9ed9V3uEh5ivdke1dVRzeuoPVJe5+WqOTmDj/zJYgCukTup7e6qY+p/J39aqpau3aI6pEzzcee864F4hdm1eD63naaJcMK94i1S/8Fx2DervtNRJWlCL6IN6SM/rueQtq20R3bkGU7GkL48S75Yqs99mwsAvosCIspb7N/MmS6ODIg5v5jKw/s5jhTgQdoucWlGFibgkb4cT8A7UhdII+paPLCAqTy4HbBfE7W+dKNCHvdMjc8Qt6aAN30LtEpdMYcHDuF8niQEvOsud9+yS/rwzI+2iLoHJxy3wOPjrR/hKN5yog7oAAAgAElEQVR9apthSIAESIAESGAHgaIX8CJOXF7fbSGDnd277xmh70vHA+E2/PahavC11+l/2zvwEjfE1Yz33vFqc6YJ/ZWDr0mnBUE/+MoryohZCMcHHxqp7x/HGWw8CPuLzp3U9UOGBJ7FRt5uuXVYOn5xZHfdtVdneFR3xQ8hd/VVV+rFgagdeCm0KbblHnOXgEd4Ear4/2G7//jdrhOUHT4BcCc7TMFtMY38Pvn0WO14DvWCu9M3pJx/ucKaeXHlQ87FIy5pD2GLJsIiWwGP911HEiDiHxk1OqMuD+3Qwdupnt0wXdcnXnTxoND2KxYj5SHgkRHsbv/vK8vVpEUb1Mat/9J5E5EsojhMwMvuOM6s287rEBeE99Ope+PhoA5hLu9eX4vv40ctSQt4mMg/MO07HQaPOLL79WH1M1hhQeD+qavSTvAQX/f9aqnrjtwn4xo88yURgCKMcG+4+UAEzpg1V4tBPNjpPKpHVzVpyrv630ntwIvADat8Mc+HEP30sy/1neZ4kHeYv0NkI3/yiNg+9/STQq9ig5VB2IMr6qScCId4Z82dn04f4vmw1D31WFwIesIEvJz7x445HlkcgB8Alzm+mQYWLSa/PU0LWbyPd3FPOq6lm7dgUYaAx3tS3/j/cawd8iXg45Rd2iJuHkBZpd6j2Auvzz7/XE1MLbraD8+8hzZ//kgCJEACJFDEBIpGwFdEHcdxXlcR+avKabqu8sumvGFX9WUTH9+pHARczusqR86qfi5gMg5rAdO8vOqXmiUMIjBj5vtqZuo/86F4Z3shARIgARIggWACFPB5bB1xznPnMRtFGTV2qnEcYN7c8CvHwuCICX2uXteLsgIqeaFhQj/q/dUZzusqeZarTPZwPrxZ031V986HVpkysSDZE7AFPMV79iz5JgmQAAmQQHEQoIDPUz2LgzzXPdt5SpLR/oeAmHG7/BrEgZTULn6cNBk2/wTkDH3flnUynNflP2WmAAIwjXdd+UY6xUlg+fKv1fKvv9aFr1+/nmp+wA4/AHxIgARIgARIgATcBCjgE24Zcj3X5ClT9A7wxJfGZ5wpTzi5oo4OAhvO+tq0bpXmgIkgrsLDWfhxz4wNvY89CB7M5uukzqzi6jbuvledJoaz6OLobsWGberDq9vo++L5kAAJkAAJkAAJkAAJkEChEKCAT7imZNcWAvLeu/+oDm7fPuEUGJ0QEOdtc+bO1U7p8IB7n1691GWXDspKvCMOOHGDU7+oe99ZE4VFQDzCw9ncmLP2D3QgV1ilYm5JgARIgARIgARIgASKiQAFfDHVNstKAiRAAiRAAiRAAiRAAiRAAiRQsAQo4Au26phxEiABEiABEiABEiABEiABEiCBYiJAAV9Mtc2ykgAJkAAJkAAJkAAJkAAJkAAJFCwBCviCrTpmnARIgARIgARIgARIgARIgARIoJgIUMAXU22zrCRAAiRAAiRAAiRAAiRAAiRAAgVLgAK+YKuOGScBEiABEiABEiABEiABEiABEigmAhTwxVTbLCsJkAAJkAAJkAAJkAAJkAAJkEDBEqCAL9iqY8ZJgARIgARIgARIgARIgARIgASKiQAFfDHVNstKAiRAAiRAAiRAAiRAAiRAAiRQsAQo4Au26phxEiABEiABEiABEiABEiABEiCBYiJAAV9Mtc2ykgAJkAAJkAAJkAAJkAAJkAAJFCyBxAT8htKNBQuBGScBEiABEiABEvAjUK3azmr79p/8AjMUCZAACZAACZBAzgTqlNROx5GYgM85V4yABEiABEiABEiABEiABEiABEiABEggkAAFPBsHCZAACZAACZAACZAACZAACZAACRQAAQr4AqgkZpEESIAESIAESIAESIAESIAESIAEKODZBkiABEiABEiABEiABEiABEiABEigAAhQwBdAJTGLJEACJEACJEACJEACJEACJEACJEABzzZAAiRAAiRAAiRAAiRAAiRAAiRAAgVAgAK+ACqJWSQBEiABEiABEiABEiABEiABEiABCni2ARIgARIgARIgARIgARIgARIgARIoAAIU8AVQScwiCZAACZAACZAACZAACZAACZAACVDAsw2QAAmQAAmQAAmQAAmQAAmQAAmQQAEQoIAvgEpiFkmABEiABEiABEiABEiABEiABEiAAp5tgARIgARIgARIgARIgARIgARIgAQKgAAFfAFUErNIAiRAAiRAAiRAAiRAAiRAAiRAAhTwbAMkQAIkQAIkQAIkQAIkQAIkQAIkUAAEKOCtSjql/xlq3rz5asmiBZHV95srB6u333lXTXxpvGrWrFlk+MoWIE5ZffP+zrtT1UUXD1IXX3ShuuG310W+lo88RCaahwC5lKPrYT1V7dq11ORJr+YhZ/GjbNGyjWrfvp16Ydyz8V+uIm/kUp+FiOD3f7hLPfLoaPXoIyNVz8N7JFaEQh8jEwNhRFTobeuJJ59Wf3ngb2r16tXqmquvUpdfdmk+MFXpOP/63nfqNy8uU0+evb86+9A9dVk7/2mhmrX8B/XvuzqGlr3RsI9USY2fqUW/bVdhjK6dsFzd+84q9crAFuq4VnV1PipDvioMSEjC/cd8piYt2qA+vLqNOrBeDfXqJ+vV8aOWqGt6NlD39Gsc+KarjVTG8jFPJEACFUMgMQG/ZeJNavuc50JLUe3Q01WNE+9Mh8E7Py16U/37hzVK7VJTVTvwSFX9mBvVTiUNEqUBQRL1iOCMM7kq9MlpnLJG8ZPfKeCjF35slhTwvq2r/MLlo28klXu0F4gne5Hxo3nz1N33jFDTpk/XSdWrV0+d/Mt+6rJLB6ndd98xyQ56KOCTqp3oeCpz24rKvYzv3bt1U8cc3Ue3qxNPOD7qNf5uEaCAL4wm0fIP81WdXXdWH1zVOusMU8BnjY4vkgAJhBBITMBvnz9R/fTljomj/WiRvm2z2u3Xr6fF+Y9PDVQ/ffauqtbmOPWzvVuqn76arf+N/1/z0gmJVhomp+aDnSbsMHbp3Dn95+7du+mdp0KeXMWFlo+yUsDHF/Bx6y2J8EuXLlW33DpMtWndqoylBHfgVaUdBx548CF1731/0k3AFPAQ76f2PzM9rjVu3FjNmDlTvTbpdS9rinwJ+CTaalWLIx/jbnkxOv+CgXqByF48Qrsc8/iTasZ775RXVqpcOr478JWh4K4d+MqQryTzMHPZJtX1z59kWEkkEb/vDnwSaTEOEiCBqksgMQEfhOhf3yxQmx8+WZm77xD7W164Ru3S9SJV/egb0q/KLn6NU+5V1dqdmDfqEChBJt6FPLmKCywfZaWALwwBH1ZPFPCVU8CvW7deHX5kL1WrVq0yO/Coz/kff1zGnNlXmPuGizvGMHxZAvkYd8uLM/KOxz5eU8hlKi92UelQwEcRKt/fsXM+7ctNasXQgxNNmAI+UZyMjASKlkDeBTx22v+18mNVc9BLmbvvy2apWjf8MwP8v0tXqR9GHK52bn642vXsUXmrFAr4HWjzMemigKeAz1vHLceI89E3cs0+dj9LN5ZqyyFYEfn46fDtjxTwudaO//uVsW355p4C3pdU/HAU8PGZ5euNNT/8pPa6dW7kOfVs0qeAz4Ya3yEBErAJ5FXAy+579SMHq10Ovzyd9g/3dFU71a7vNJX/4c+9dbjdrngzb7XlI+BnzZyu/nj33WrCxFfU5s2b9XnSm2+8IeO8n2siJudQ58ydm34P51DDHLqZk+cNGzaoEff/WX355VJVs2ZNdUTPw9Udw27POMMqO6QDL7xA3fG73+vdONP51MSXX1GjRj+mnfHhQd47dfx5mXjM/CMPL/59go5Lzs7aeUbZRj48SjvuAxPkr9+Jx6vrhwxJ588UDMcff2zGmVycmxxy7WB1cPv26bo18yBmwMf2PUb95f4RZeofAgZc582dHdo24GTpsTFjNEM8SHf47UO1o0HZxWzRonmZXSTzLHou5ZDMIS20oSlvva252nmRcPaOt5k2jnYMu+PO0PZg1/d++zVTg6+8IvBsqjC3IYoglPyMuOcubWYvZ6px7OT2W2/JqD/Egfw+Mmp0OhzSH3rzTZHO0Mx2j91jmOAGtT8J6xKtNj8z3mnTpqsnnx6r26uZf4SRv0f1bZ++AQ5h7c6u66C+G9SwEfdtw4ar8eOeUa+88lpsAX/b0FvUueecFdhv4o5BvvXuGiOD2pdrfEA6aN8yJkofwjgiRwbCnC1KX3I553Plzacv+bZ3OaYi/Uf6pYzNUQswPt8SjDE3D71VzZr9YXqMQTtH+/I9m26ng3H90A4dMsZqaR92A7p68JXqvhH3l2lXpoUbONx1z33p7wb62/nnnZNhLRJnLIjjewZi6Z63V6k3l5TqPB6UciI24qQmacdr+JsI5+9v76Cuf3m5embuGrVx67902FuPaZR2MmcXEju0z89bp/DenrvtnP75jskr1S2TVpQxvRazc4S/882VZZzAuQS8iD3kZfoVrXU6O103W3VqvFv6XLYpCM84ZA9106tfp8vbu0WJuvO4fVWXprUysv/p6i3qf19Zrp2roawNS3ZRl3evr27u0zAjHISsyQThzvqP0z3biZ2dL0T01Jw16tH3V6fzE5SOa2DCu/elHOXBsR8evNt9v1pqZP/9MngLtxlXtFK/eWGZDm86iEM8t7++Qi1OlRmPMIF5vMnRzIPUIerq+x+2q4NSZ+EH/qKeeuT0TGfFJTfNUY3q7FLGoSBYSHi7XoMEvIT7y8lN1a8Pq6+K4ZhC4AeJP5AACUQSyKuA1+fcUzvt5tl35GjT8IMyTOrNXG5+qJ/617eLVK1bFkdmPtsAPgIek0k8Z5x+mlr21Vfqbw+O1CLgzddfTXuctyeAmKiceNKpqkGDvdUF55+v38c51K9XrAj16C2TFwhXTMQwuWnapIkWRM8+97zCxG/cM2PTIhn5xyQInstHjXwwwwM+Jjdy7vXoPr1D45H8I13k8bRTTtF5fv2NyTptW0hLuliQaNeurc4bwoHR7+4Yrt81nRwt/vRT1euoI1Lx9FUipBDmyccfS4tAm2GfvsepVau+LSPSwbb3McdlpOWqfyk/8o7/UHcQhps2bVLv/mOKZijniE1RI3UAgYQFhlzLgbyhbEuWfKYXOdCezPo0Pc4HCXhMxPH+ry4bpOvRxRuCY/A1Q3T80lbfmPym3qUNWjTChH3qe9P0WWowOuP0/hqleB9HftDmNm7clK6/1yZN0umj3ZnnXEVYIq/Sfp5/4QW9eBTl0VyY493S0tJ0n5HFlxH33p0WIdkIeMRbUrtEczHZ/6JzJ/X+B7N0ehtKN4T2bd++4dPuwDis7waNZ6ivc867QLcDePwOY2HHcePNt+h6M8ctVzpxxyDfeg8S8Ghf6OfoGxgfpH3h72bfkHTw91NPOVn3A4xvIlijbkuII+B9+pJvuaXOwPqcswYoLMShjFgQdh2BsOvE51tipiFjDMa78S+8qBf8ohZtkKaURxZtkU/XWI38LF32lV5MxIMFOjzNmjZL/X1pepERfX7H35vo75LkEWWW7xrqD/+ZIj/OWOAr4MVRHETaBZ3q6Xw9Nmu1Fnim93QRTghXN+Ww7KKUUPv8+y3qD299o98R7+F2HUEYnvPUF2WEOhyfQSzags90iOYSZ7bQwxnsPg8t1gJRxDvyECTgIUwXrPpRHd+6rjqt/e5q8qelauSM73S2J196UFrES7wlNXbWov2AvWqo8fPW6sUIU/hCvHf788J0WXql4geXB6btiHNl6bYMjkH5AteT2u6u9qhZTd0/dZWOz/S+7xqPZHFE3kUep6QWYUalFgPMxQy8K9xcizPSBvDbeR33SpcVpvHIf5CAh0d9LBaMO7+5zh7qDo/p+V/qH383F3Hk79LGfAS8lFfEO+KkgHe1DP6NBEhACORNwLvOvkuihSDgbfEqkztz0mFPTm0RKOXFLkmYF2h5D5Oo116ekBFWxKZ5XY941bcn5TJZde1gu36T/EP8jXks88iCOCsSQYuyYOJk74zbglvSQXjzXfxbdtjN9GyGMqE0xRveFQ5hQkTStq82col/pLty5Tea9/r16/TCCybaInpzLQfyDPFkWifI3yCoTDZBAh47YfYVheCNybns3skigW2VENXmos7AI6+2ABAxKMJcrBmwW2e3Hx/P+tLubdGGeDt16ZbhfC1bAW/uzkoc4CqLOSin9G2z3cTpG3HaXVDfDfokgUX/MweoRg0bpRn7Cnjpb+YCW1A6ccagOPUeJOCRD7uPB7UvLIjaVyzKeJCkgI/qS3HLjcU3s52ZYyD+f9gOvM+3RPJrLohK/Qr3sPFSygO+5gIx4jD9LZgLdnFN6M1x1vwGyoIXLN3w9zhjgc/0DeKz2Z0fadEK8Wo+9nVnIrBswS1CLOy6L4hWiGURetjZxm4thOGGH39KCz4xyR7et5He5Y4S8EHiHeUIEsr4DbvQ5m67OGKDuBcOKO/X67ep+UPaZuxk2xYFQQISZWl398deAv7z77fq3WR5hIOZH7s+ZYfa5CphXL/ZO9dmWmgDrh1y2WF3CXipd5OlsFicuroPV8HhAa+la7fqBSFzQeLi55ZqK47SOw/V4aIEvEu84z0KeJ+ezjAkULwE8ibgxSHdboPfLXMtXCEIeNfExxZaQeLT9w50aXYyeQnaMWnfoaM2aRSRJDuk9qTWnhTZzRriD7uqMiELm+TJ5D/qnl+ZdMtkNGwRAfmxzeBthjJxxNEBc7EAgrBhw31CLRlkZ8ZlYm9PPGWHC6J9wcJP1IqVKzJEQq7lCBpSRCyau9NBAt61EGNP7KXOo3a77fxECXh7px3v2++YZt3msQiE9RGZYe3eFlPZCHhbIEr+XYLWtsqJ0zfitLugvhvUXlwCyIct6uYPd92tj+C4jqPY6cUZg+LUe5CAD2tfMuYELeZJ3n2cLcbZgY/qS77ljrIWcjGx60PSCvqWRKUh40zYLnwUX5f1RhwBL3l0fUPseokzFvhM12Tn1Ra0pjCS+9ZFYJniTNKAWA4Tm9ghx663ODpDujCPvzt1vzd25yVOEYXy7zABj91cEZ7mzruZJ5cJvUvw4h3kEUIeglIWGGQhwWQp4lh2jsPudXfl32VC76qrqKvZgo4mSFx4v3TLv9LMzSMQ5lGGqHvUg/ILXl+t25qx2y4LIeYOOfjc1Luhtipo37Bmxm69+e8wAY8y4SiCGa+UkwLep6czDAkUL4G8CXicc/9Zw7ZOZ3SFIOB9ztq6JmLyNzFJPGvAGRkm7q6mZp7/EzNmM5w9aQqauAZNruyFAnP3FqbOQTtBtqiBuP7/7Z0JmFXFlccryqLYzdKKCyKr7IILJBCjIurEPY4RNRo1RqJmjBoTNSbDjPk0cb5sxsQkuIxLNpdBjTomGjNuCOMSJS6sKosgoIgCDcjSgM79X+c869WrulX1+r7u5r3//b58ke6691b9aun7r3PqnDvvvlvNnp3s4Ccu97Bgy9luU8C7PjxN8WFjKIJIrFeymeBzCZVnuaazaa3Tz0Gb3gK+4F8h7UA98JE8e85sNWfua6mbuJzLDxHwNobmWMFH8qmnn5n2AyzZcAvH2Vdf3m+fgLdZNs17XOdidf4hVsaQ88nlCHjzub42Z3nXmGNKnxsx4y5EdMq7ZB6YFtYsFnIm2nRR9v2Ji1mDYvrdJeBjxpdYaW19kKcF3jeXQtst48zcQJL6hwh4lM36W5K1MaFvcGRtJvs2gmzviBHwuheTa/zJHM0af6G89HeI+Mka96aAl3/r9/hEqYhEEeYQf30aOqqfHNszDYImwsyMaJ4l4OHuvWzNZrVo4ogiC7lPwLs8BeRdaJ+I9CwuIuD1c9xm+VABjw2DG59doV5Ztl41Jh4Jc9/dmJ65d7mu4z0QvLhcudf19kh5WMHN/tNjDujC3sURP5cNDpug1t3qRdBL3ISH5zSmGwq2+10CHv2M4wS+ftOPe/jWcf6eBEigdghURMBvfuGPqumvV6sOR12p2n/6jBKaEPDb7XWA2vHsu0t+hyB2n+rQKfdc8PqLQs7Alyvg8R58uEy+5970nB/cda+4/LLgAFI2AQ/LeX19fcH63BICXtyY5QNQP28Jq17PPfdUnbt0TsU82hkq4E2Lve3jzBTsWRZOvV/xLIhkOZ9pDi6IWt1SLBYom6u6T8D72iGuzxDsODKAfOu4wAxnz/MS8NJGtEXOnmPz6OYbf1MSbE7n4ROzMQJLzr3alk3beJZyMR/tbUnAm3MjZtyFCvgQ8SMcZe7JmIOXja//zb7yCXh9DdLLuv5USr/nIeCzNhjzFPC+uRTabp+4jhGkrr8lvnegLVl/5/D7lhLwsMDvM2yYdahgPdZd6EM280I+z3SB6Sp/9OAu6a+yor/7BLxu0b7gwF1T0S7u1Hhu724dUsssxB/OpksQtCwBD0s6zqPbRCTqmxXE7trE8m9ecOnG2XFdwMMCPzJx87ddo3vVFYLlxYhLs16yuYHgc2g74gv0SzY3YLHunPy3S6DnLeBtGzM2jviZ6f6u88EmDIL+wZMB5aYuWJta6WVTBJs4f0t+f+EDi4vOxLsEPDw7sBFgxjiQd9ICHzLTWYYEapdARQS8BK8z08QJ5g2//ZL68J05zjRy7YYerTqe9MuK9UqlBbxUHBadCed93RqUTW+cfEjZLDYiFnR3apcIkHPrLouVy4XeVt50wXSdZXS50LvO3brqYH6ko5yc+8URAgRpkkB5roERGqUe9+su9Ii+b7rnZ7lb435fO1xnWGNc6EMs8CYL1PsbF32z6MiFjVceAl7OIZveC6ETtxwBH3K0xfVcX5ttFviQuREz7kIFPMbnXXdPtqJ8/oUX0iCBqC8uiduAMYnLPM8c0h8xa1BMv+ch4G2izhYnIWuc27x3fELanEuh7ZYNSJf124xjEdI/5t8SX3yDEBd6aY/LU6C5LvShx7DQ/pi1IISXnHG2udCb9zdHwONZcOneq2uHNPjd+fcuKpx9Rh0QCA9B8HAuXrek+s7ASyA8m4h3CXhblHSpn7ici+XY5kJvckGE9cG77mAV2rIpoLfJrJfr+IHPhR5eDMgaYEb3l/q5XOhdFnibBVvO4pueAGjzqfs1lESbx7v1s/Fn3bUwDYonUftx3xXjdlcvJ54GOBevb05kudBjEwVHLczAfHgfBXzITGcZEqhdAhUR8B/8aF+13e5DrBZ2oN48dZJqeuoXqv2Yc1SHf/pugb6cm9/x3AeS+4dWrFcqJeBtgcN8Vg7948VmTbKdy3SJgKxz2zbxIh+w5oemWPIQJVrc2MXKqJ+7l/PqiM5vWuDNQGFop+1cp+sjWo8Uj/RZvija+vN95/ZRVt+QwIfmOV87T+n3Ca9y2yH9bgpAaW9eFnjbmPMdpUD7RQC5zoOHWODljKstCGLI5I35aJexY/atLZhZngI+ZG646mZjECrgs/jZ1hSpQ8g8sT1bnhmyBsX0e3MEvC3opdRdz7aRlUbOVVd5Np6nezCYR0/0uRTTbsTswGUGJZV+0t9r64+QvyWoGwLluYLY2YLo6e8KCWJnptt0rS0i9s31zsXBbHPMWhCytohlPOv8ujynuQJehBYs57gkoJ2IZQhrPagZyvgEvB4B3hTxLgFf12G7Erd7sYLrlnR4A+Ayg9iZXOUsui0wHkQ2XOF9At7cVBBrdZYLfUgQO709rv6zBfCTNupR7kVsm8chbONMghbCQ0KPmQAeuBAPwUzH5wtip0fK12MeUMCHzHSWIYHaJZC7gN+6YJraeMc5JeLcRAxX+Y9Wv6VgbVcd69RHa95RW+dPdaaXy7OLKiXg8REC6xjSt8FlUNLx2HKO6+2RjxecYYarfEg6N5frqCuNHNIXmdGc5eMa7x08aFAh7ZotDZErTdbAAQPSFF2mgJc0ZL6UeC4BLwIT7uC+4HU6S3kePBbGjB6dumfOnDkrDVT3tQlfTVOliejTRbRYUSXquwj4ctvhSjeFtGbglZeAR3v37NGj0FZJlxYSSBGeDbhwxGPJkiUFS65vg8iV/kkf90uWLlVDhw4pyvXcnI92ERt4hp56DOngcExBnw95CviQuYE6hYw7lKuUgJf5KVZ523rpSiuIsrFrkC74s/q9OQIe9RJhaKYpxO/gheBzoTf7Rk8tid8hdoQeE8Q3l0LbLRZwyXku6e+mPD01XYf1TBK2vgr5W+JKI4c0kmDjsqzr73OlkYNXElJvmlkwXAJe1lRJZ4l3IBaHrKN6mrqZs2al682aNWsLARZjBHxoGjkRQJKKDNZOpFZbtGqT2q9Hp4L1NEbA2wK7iVCEqziC153+/3nSwUDEsp6SDD/3CXiUERGP8/B6GjiXgIcVF5Z2SQ3nSrsmAllyuh8xoF5NT86Qv5lYjldv2FIUUf+A62anwwVWaXHtx2YELPNmOj6zXmj72k1bi+6F2zku3YVeXNP1dH2uNHJ4txlVPqv/xFPATCWIOqD++kaCeFKYWQv0+SJBC+s7blcU5E6CFyI1nRkM0Sfg8XwR8XogQgp428rIn5EACQiB3AW8WNc7nvhz1W6f45ykP1q7XG166F/TPPFq8wb1qU4Nqv1nzlLtD76g4r1TKQGPjxXkyZVAZfLR8vXzzwtKIwdRJ6IfVm253/zw9okAfJRJLm3AhAg54rDDSvKCy8c1rCYXX/LtVFhK+UsuvqiQgxs/k+BY+ABF3fBMnDVHfW+57XbrGfiePXuqX0+6If1IhiUbZ+d/ePVVRSyy3FhFlPiC1+kDBvW88aabFT5AJcAe6orc30jptvitxeqL409Nz6Xrqc/EpV42W3SPBeS8/+F//Ci6HfgolXrIhzw2dmDtz0vA48MZee71tiKQ3RlfPs07j9DG73z3X9N79ajgMQIeLzHHG541auQB6rxzJ2Sew4/5aMd7IFi+f9UPUnGCC334g6uuVId//uiKCfiQuSHzI2vciWXXN3e9nZYUsFngZR5l3eJbTbUAAB4RSURBVB8aUFDylWetQaH93lwBj/fo8wjrCDZwMJfNVIOutuuB/WR9w9p13S+vT8eScAmdS6HjHSL+F9f/qvD3QMbrJZdeXvReW71D/5Zg3frptdcpWZfBBxlLLrv0ksy5p78T77rl1tsL67/MX3Otxj1Z3j2yXqOcvmabz5c6wvsHIl/6GH9HQs7Ahwp4PBfCSHKP498QrRDTlx+6eyHdWnMFPJ4LsQrxZrp9x6QIs9UDngQiokXEZ52BxybFZQ8tSesCi/yRgzqrm8f3KQmGBxF/7ZTlqas6LpRF+jkcA9A3ILA5MfGRpYVykmsdGyGInp5lgTfvhTfEDSf1VqffsSB9p1i+bQLe1nd493FDuyrznH9W/+E5EMJ3vbSywASbERJkUAS8bML4AsaJ0DY9C8TjA+NLMhLIHAsR8Cgrmw0i4ings/6a8XckQAK5C3gijSfgCyAV/8TquCM0eF0lWusLYleJd/KZJEAC4QSwGWJLtRj+BJYkgW2fgFjUs/LVb/utzL8F4g6PIw9mloD838YnkgAJkEC+BCjg8+VZ1tMo4EuxZZ3RLgty5E0U8JHAWJwEWpCAuKiHxLtowWrxVSTQ4gQo4OORS0A6BPOT7AEhgf3i38Q7SIAESKAyBCjgK8M16qkU8KW4hEm5QbmiOsBSmAK+uQR5PwlUhoCeorG11ofKtIxPzYPAmyub1O+mv5/Ho9r8Mw7tX6/WN21Vx9w6L80n/oVhXdVT8z92i6/lC1zG9quzItADBJrn1acsWNcm+X0liXjfp6FDLXcp204CJGAQoIBvA0OCAv6TToDbfOfO9WryPfcpVyq6lugyCviWoMx3kEA2AUQxP2zcWNW5vnOhoMSViImNQc61QwAC/rcvvlcTDYZQ3bD5w4KAP35olzYpQFu6M8AF/0NsAslBL3WQ8/C2FH3Y/GiLGyBnj9qFAr6lBxHfRwJtnAAFfBvoIAr4TzoB51olUJUv73slu44CvpJ0+WwSCCOAKPSSaQB3SAA0ySgR9hSWIoHqJUAXenffIjAcIt+/ngQDxCXB+i4du5s6enCX6h0UbBkJkEDVE6CAr/ouZgNJgARIgARIgARIgARIgARIgASqgQAFfDX0IttAAiRAAiRAAiRAAiRAAiRAAiRQ9QQo4Ku+i9lAEiABEiABEiABEiABEiABEiCBaiBAAV8Nvcg2kAAJkAAJkAAJkAAJkAAJkAAJVD0BCviq72I2kARIgARIgARIgARIgARIgARIoBoIUMBXQy+yDSRAAiRAAiRAAiRAAiRAAiRAAlVPgAK+6ruYDSQBEiABEiABEiABEiABEiABEqgGAhTw1dCLbAMJkAAJkAAJkAAJkAAJkAAJkEDVE6CAj+jiR+Y2qmNunae+fchu6trje0bc2TpFe1z9qqrvuJ167Yp9cqnAp385R724ZL366Kcjvc+LKfub/12hLnxgsbrj9L7q9P0b0md/6vLpalTPTuqFbw7xvosFWp6Arc+yahEzHlq+Nc1747a2LoS0tpr7y9b+auzDkH5mGRIgARIgARIggW2PQM0K+DtfWqm+fOdCdeI+XdX9M1d7ew6itbU+8i59aIn6+dPL1cMT9lZHD+5irauU0cU1Bby3W9MCYHdXMh7eXrtZ7VHfXv0s2ZyRjQR5wvOLP1BjfjXX2gf43cRHlqrH561Ni+MZpyUbERMP30M1dNo+/ZmMnawaVWrDAmL7/pmrFOq5runDtAoDd+moDu5Xr64Yt7sakPx37EUB/wmx1loX9D7Lu48p4GNnxLZdfv6bi9Vf/vaUOvbzh6r+fXq1SmOkDraXl1OvDRs2qsemPKPeWvaO2rJli2rXrp3aq8fu6nOjR6qGbqV/R5+c9ryat3CRwn0o279vL3XImFFqxx13sPKQ56/7YL067aTjSsrcdd+f1Yr3V5b8vPvODdbyrQH9mRdeUi++NENdfN5Z3tf/45VZatrz09XwoYPUuINGe8uH8pw19w314sszVeOaj/9+7rnHbmrMqP3S/+dFAiRAAiRgJ1CzAv6Im15Xb61uUr84YS/12Bsf/+HA9fSCtamVGVZ2/YLFvbU+1MsV8LYu/+Fjb6tJz6xQy64cET0nYj7qY8raKtJSFngIn+8+vETdNL63OmpQl4TNu+rfH11WItTRnn17dFK3nNy7qLoi7CG+D0kEcb+GjurJ+WvUfTNWF3kQvPHeJnXjsyuszGXMZW3QRHdWcsPK9VvVZ381R72evBuC/bihXdPHNG7cqqYm4xw/bylvkuaOh6z2Y15e8uBb6Vx2bXCVw8+8B334L/ctSseB7oHTWusC6lepPq5kf+XRF3k/ozX7MO+2lPO8tiTg+/bqqerqdipqxr7DBltFd1ZbJ912p2rfvp3au29v1aW+Tq1YuUrNX7g4veWrp32xSJg/9Ncn1MLFS9SgAf1U94Zuaunby9N/u8Q2xOz0V2elYt9VBgJ+3fr16fv1C3U5YN9h5XRTyT0rVzWqJ6c9l7DpGiSq5QHo779Pf7WwweAT8GjnH+/977S9IQI+lCfE++NPP6u6dK5Xw4cMVBubmtTLM+ak1Tzh6MMp4nMZJXwICZBANRKoSQGPD/GBP56pfv3PvdQ3Pte9qF9tlmwp0FofeXkK+OZ8mMfcG1PWNrFaSsAPSsYBLNG6MMfPIHZFpGHT48dPvqMWTRxRsKjrY2J6suHzb0fsYR1HIaIcnhJ7dmmf63EBEXbL1mxWk8/sZxW2GM+2uldioWvueMiqU8j8yKNNrvnfWutCJfu4kv2VR1/k/YzW6sO821Hu89qSgC/H2m5rN0TkEWMPLBLq0k5dhMrPRu0/XB346f0Lj4IFecbs14q8EiDsH35sSkG4w8KeJeDxMJt1vtx+Mu+ztcf37N/dfX9q7RbPAohyn4DXrek+AR/D8z//MDmt7hnjv1CoDxjf99CjChs5xx91mK85/D0JkAAJ1CSBmhTwX7tnkfqvl1daBRkFvHsexHzUx5RtTQGPjQLTCo26w5oOAY/NngOum51a6E23+qwVI1QQiCv6cxcNVqN7FVudmrMijf/9/NQLIO/nllun5o4HCvhSApXs40r2V7ljqJL3hc7XStahNZ/dFgS8uHOfcfIJ0db2GHbX3/z7ItENoQ83+wvOOb3oMRC2EJi6kBTL9WdGjkiPGpjP0h8ADwC47FdShJYj4NGmkSOGpV4A4uafJeBFUGNjBccsfAI+hqeLH+pV6c2PmDHDsiRAAiTQ1gjUpICvn/iSOnW/hhJ3aHROqIA/YkB96rYLN2RcJw3vqm4e36fEQguBdv205YVyh+9dr244qXfUueMQC6Ot3roV23UGWxevsOhd8/jbhfPgaBdcr/88YUBaX/mof/+q/dR3/rIk3QTBmWrbufGYsrb22SzwUg6s7z2rf2EuhTCW530rORpxWXLmHefdYR2fMHmROmZIF6cFHkctcD12/sCouSu8bV4e+oNgfT+wz05F7cHvEaPhuiTuAY5zSD98//M9gjYRxMNkwmd2sY5xV0Oyxr7ZH64xKW7mEg8A4wf1lraYARBD+i4LPOplXmYsAdT1z7NXF+agHCeICUQp49l8lxkbo6XWhXL7WMbWbX9/ryhmwwUHdi/yIrEJeKwPmPcPz2lM5w8ucz3DfXPf3ViyOYrNhkdfW6NuP7WPOvkPC9L1Up/DwhXzDcdS1l7ziSU0auIFFJZjRGhDXYft1JGDOqsvDu+WxkQxN/PA+XvJERvUXdY6k5U+F+DRgiNKEk8DsTDMcWaOR4zXO7/cr+hvgjn/scZinTD/xrjWWZl3oZuONgEvFmibuDOFl26tXr7ifQXXaAhgWHnhQh56ZhoWb581OKCLM4ug7rooh6Ct69TJaimHtRrXV750ovWZWQIev/OJ3ayKguHcNxak7vy4wHLY4AEFLwHXGfsYfj4Bjz6c/OAjqm6nTuqk449MNyzMNoFfh/btC4xieJr3op145+13/Unt1n3n9J28SIAESIAESgnUnIAXi+frSWR2W/CuEAGPj1Z8ZCIAWL+dOyr5GDY/SsVChp/jA3HB+5vSj7u1m7Zarf8+YRUbxE4XXfj4fn7xusKmA56Fa+9ddkg56GdpIfwOS9qI+r68bL3Cv3G2WD4W0X5c5yQ/Rxm4l+PjVmcaUzZEwEu/lcsYLPARjKj8siGBNuDdNz+3ougMPNrzj28NVS+89YE6/95F6X/HBnqDl8etiUhyjTO8W9pk9qsEWARnYfzgrNUFrwDfQgaBYjvH77uvuQIec0I2PM4b011BzMILABs99R23T0WNLuDzmB/YKAFnvOcHR/ZQIxMx1NCpXerNoI9pjJtx/TunCBDQDxsMLhFp44S2/c/ra1KuuA9zAhfmhWzWtOS6UG4fS10hGk8Y1lV127FdYYNRzwJhE/AizrH5ifXhiYQh2EMsSqYLiQmhs5V3on9w1ARHVHC0wxTpzdmU8I1t+b2MOfTVift0S3/82xffU0sbN6fjUxfwMp4xdiHasdb/acaqdKzp5WTegOmaJL7ExQd9HD9FNm51rrIuYPyAEeKvIIDmraf0LhxzkTpKH+G9OutnLxpS2CiWfkLZLjtsX7Qmow6ha1deAh7u5E2bN6fnmXHNmPN66q59+CGfTcVn1iWbAFIGgnX37rs4g86F9rleTs5cH5QEspNz6FlC2ydwfQJefzfYDNq7b9D5d+kP3NO7155qhw4dSlhC2C9asiwNQocNiaGDP/6bHhOE0Nc+WNPfWfFewcU9RMDH8JT+wKbAmJH7pvWXwIM8A1/OCOc9JEACtUKg5gQ8Ph736trBaVENEfCw2sAiq7s847mwxotAMT9aZUCV85EqdQoZlLpAslmxXa6xIe64cq8pfERw6h+1MWV9At4l3mMYi6XWJqhFxGMTAmLk96f1TQT7Dqr3Na+mmzTm+XZfP4iI8VnAXWffRSiZAgeCVKLaZ9UhawyXe1+IBd5lfRUeeHcl54e5ESIcsmJd+DwkdF6+M/AtuS6U28dow4L3m4pif2Bc7fz9l1Nrunia2NYJiM+fHNuzaAyKINWPakjd5GdYGzsn4lJSQroyGMimRNaml2/uZf0+y00eG0/Y1DHXMAj7mZcNK2qzrJXwRMJ8lPbqGxmoh3DVPUIwj3TOUl+Z21JH2+aS7XfST+ZaY1uTs9jkJeARjEy3VosbekjkddRh8ZK3C9Vct+6DNJAcIsJ/6cRjm+1WL4HYdGsxXhYjOE2GWQIeGxL6JRHuESjvyHEHZQ5lsGhsXFsk9oUlorOLZbocF3r9xVkCXqLO410SET7EqyCWp7lxg/qFbPg0Zy3gvSRAAiSwrROoKQEvQkK3iJgdGCLgbR9XpggVl1GbKyg+unCF5jjXXcd7d7On/JJI5uUI+NBNBflYtH1gmwIvpmyWgL86sdodc+s8q7U0hjHqZ35gZ01eCJNXEu8D9BHGzVl3LUw3aCDSYF12uV9LVHu45dpchOWd8jFuG4siEEIC4Nna4LOk6/fo4sJ3n62s1NE3hkxBGNN3vkXW5c6flUZRxFWMFd4n4FtyXfD1lauPXSxNkR16Bl6EojlW5Xmw8otHi3ixgD02x8w5Uolgjnp7TeGt/87sWxnP4jVgKyttztooMjfj0EZcUy4YZPXqyaoj7gPXtZs+LGQR8a2zts0C2xjIS8Drlm15D0TiqsY1JWfMffMavxcLbXMDmknwOYj3U044uiiwXazg1OudJeDN9kGAP/DwY2nk93LP+cOlH22QwHiVEvCuQHR5C3jZJED/9uuzl9q0qUm9Nm9hOl5gkc8rWn/IWGMZEiABEtiWCNSUgMfH0TNvfpCZQi1EwNtSb5kiwnVmVgZHTM5vl0DRB5qt3qEW+Cwxqb8j66PeJeDNM894Xog1V1zecdxg8K47WDc7YhjHRLUXHrAgwh0bQewg2r/+2e4Ft3pTxEOUnHfvmyXuta7FIGssQjyMnfRa6tKLTQe45OIsbYj1He8zLaDmOCl8WCeuu3r0e58ozBLwvjFkjp2YvvMtqK75YQtQaI5n/Dt0I80n4FtyXSi3j9FeSWmIDSqkFMSZdXif6P3rmuvYoHopuQ/3wl1cYoCYAl5YYcPL5sUiGziS2UE2V7M8Ik4cf4qaMWOmbzio2265WR1ycKmFE21CncXdX3+Q2beumCH6PaaAt224mRyx4YFjOeAtR2T0c+q+zV1zjsasyVng8hLwtgjyPjdtX4c2ZwMAz5bgeLAiH3PE2JK87i0l4FEXlzC2MUCKuFdmzVUrV61WTU2bU1GLfPa6N0MlBDw2Ox585HFrAL48BXwWC0ShRywFM92fb6zw9yRAAiRQKwRqRsCLxc1mUfEJYfl9lgumTcDjYxG5qW2XnNMNGWgtJeB9Ft+Yj8WYsi4LPMQrLpyXNY8s4OfyQR7COEbAw0omwadQNwRA0z/6des86iFnrWEZu//s/t5o8jIWfS72EEs4n4tAdji/H/Js1Md1tMAca6ZYyEPAu8aQTcBXen60VQGfR7vL7WNxX8d4QvBGnJvu19AxPa+tu7mb/aXHE4Dw3LdHp3Q4ddtxe2u8BTk/DqFq8zIxBXuWR4aM21dnzFCrVzd6l8wRw4errl27lJTLEscuAS9xFWwvHd2rrsiFPkTAy3ox6Zl3C8HusHHy6LkD02dRwJeSbs4GgEREz7LmQpTqbul6DUyLt1m7GAs87g0V3GKZRhyAXj17pFZ35I9HTIFKW+BdwfHMtrsC9IXyzAqSKJxsHh3eBYAFSIAESKAGCNSMgJfzlXJu0dW3eVng84ymXGkBH3pmO0aUx5TNcqFHdGZYwHGZIj6GcaiAR10QVGrZlSPSd5piHT9DGRxZEMst3Fpx6cGlstaO2NRxEBenJJG7EXMhNBo+NiF8wRJdAj7kiITZZzKGbFZosDBjRMT0nW8dds0PZJvo0bm91eJaCRf6EAt8nu0up49dZ7B9LvQui7/Phb53tw5pBHextOt9qccjycoM4uv/0N/LOXebV5B5ZlzGs2/DV9aDnycZI0IFvF5f+bsk75E6uv5OuVzoQzydsjiJYNQt6CKwbO7eWVHozSBqzRHgqDNENALjnXvmKaFdnZZ79Mlpav7CxcoXDE2sva40clln1mMFvC2Inq1RLhHcEi70GAuNa9dZWSNLADwAdt+te7KxsIc1YF4oTxlf6FfJSS8vjfFUiBoULEwCJEACVUKgZgS8K12X2Y95CXgRaSEfgL6xlKeAl6BT5geiiAGbpVvqFyPKY8pmCXg5g66nc5PggTGMQwS8fLTrH+I+C7wvq4Gtb30izhaszmeZM98jFkU9DaBZxnymi6eIjCwXejxbzveaQb/kuSgjQiOm73zzQ8SXaenNOpscMqfM97o8J2I8c/Jsdzl9jHlgen7okellU8qcv8LLXDeknDlnIGhxBEWCQdo2n2RcwW3+wgcWZ2Zs8I2BkN+72OveBfomjGs8u/5mhAh429zWPUVCgtjZgoU2V8Db3NRF1I/af3ghdRnaLi7puiu3nkYuTwEvdYhNxwb38z/e86AKseC62pm1gSFjIEbAS0q2D9Zv8LqG47nmxoEemV7OwEtgu5DAeLY5Eru5EuJCH8ozq2+xCQBXfj2AXsgcZxkSIAESqBUCNSHg5QNfj5Ts6uC8BDyeLx+3ksKqW+IiiTzBOD966djdCmmDfIMtRGyEnoGXj2Y5f4l34wymngJM0kQhRdxT89cW6hojymPK+gQ86ij1g0XVlkbJxzhEwKPOcA2+5eTehS7Rg1ldcOCu6q+vNaZnWG8a3zvlJkGn8FHtusyAd7A2ZlnTUQ9YLpH2DGNGUki5rNuu90pAPTlvK27POPc8NfEgwPllXZRLcDE8D2MATJEyy1bW1mcyz+CerafdggUW/aZnachzfsjGi+S+xrhF5gBXGrkn569J2+U7wmDjir7D9aNjeqoFKzelwQxjBHye7cazYvtYNurM/sWzslzoRfxivJw96uMUejjeARd8RG8X8WrzxJA1x9xgkQ0RjBc9FoNvPWzO78UTxEztiffjqIo+x6RfUT8cqUFaRKzfb65qUqs3bCkEqcxan811UDwNkIZvVRI3Q1Ia6uLflUYO6RhNj5KYddbkBvEGS+o7y1ekgdVMsSv5uHFf/769knzuvdS8xKKN8kgNl7eAR05wcRfHOyUKPSLb64HnJLVZlkVeD45WV7eTdcjsOyyJcdLt46MWsGyjTRDCcFGXd/s2DlwCHuIfZ9cbunUtvFui0IdsKoDF5s1bSrjjYboLPf496bY703fgmAAs5+MOGh08RfIQ8LZc7qE85f1i1UfFFyep8aQvfNH6gxvKgiRAAiRQZQRqQsDD4gnREhKsKk8Bjw/Uax5/O3XJRkAyXBAZB/erL0nHlDWu8hTweI98IOK/9aBREKvfe3hJ6vIK0YcAVBCaN5zUO42YHPOxGFM2RMCjriIQwVBEfChjn4CHyEC0bJurL957WeI2jz7Ex/zEw/copOHyBWNDvXXrmGwIZIlx1GXSMyuKxgwC2X3jc92jlx+8D+0SEY4HSL8iD7YZHA8C7ML7F6diBhc2etD/A5NjAj4LvPTRVX9bVghuJveffseC9Jk6i9C+C2m09B/GrR4N3vYOtONbyYaLHjws5B0oA1E3YfKiwljAUYtYAZ9nu1GnmD5G/058ZGkquvX+Rf/gclng8Ts5XiLzAJs0IxOWyBIBAYoz4fv8bFb6HNMLQ3K/m/NL1qKYdH6hfWUrJ8EmZY2TzSZphzkv0bfXTlle4CVz55wkj7uMnxgBL2f9MU6Fv20zFxsmkkce5bDmHTe0a0n2i5h11uQB4QWRDvflkSOGWSN+wwr69DMvpAIfF86KjztoTGrdzlvAy3l1BGrDBeEOQQ9hqrtYQxw2JDEOjj/qMOdQsKUmMwvrxwXAQfKP4/1ZTPTnuAQ8rOXTnpueClFcSIW3W/ed1X7DhwTlaQf35158ObVC69wffWJq+m+xwOO/8a4npj5X6MuYowaVEvAxPNFXItql34cPGcgI9M1Z6HgvCZBA1ROoegEvgqmlPhCrfsSwgSRAAiSQE4GQ4HU5vYqPqQIC4jLOPOFV0JlsAgmQAAmQQNkEql7A48w3XA+Rj33KgnWpS3hbuA7tX5+6Q857b6OzOhKpvi3Vuy2wq9U61MqYQTvH9qtLLcu++bFxy0fNmtNtiWlMu+EZs62uC9JOPabAmSN3LvTjV5L/7tPQoVanOdudQQDW5kefmFZWTnmCJQESIAESIIFqIVD1Al7vKIj3tiTgH5rdqBDsyXWJy3Jbqne1DPxtsR0QPrUwZtBO/E9ck7Pmx0+P69msOd2WmMa0G67u2+q6YLYTWQ+WNjYV+hFn7Cngt8UVqvJ1lrPlCG7GiwRIgARIgARqlUBNCfha7WS2mwRIgATaCgG4zXfdsZ269e/vlRVIsK20g/UgARIgARIgARIggdYgQAHfGtT5ThIgARKoUQIIKIlgcIiEr2d8qFEcbDYJkAAJkAAJkAAJRBGggI/CxcIkQAIkQAIkQAIkQAIkQAIkQAIk0DoEKOBbhzvfSgIkQAIkQAIkQAIkQAIkQAIkQAJRBCjgo3CxMAmQAAmQAAmQAAmQAAmQAAmQAAm0DgEK+NbhzreSAAmQAAmQAAmQAAmQAAmQAAmQQBQBCvgoXCxMAiRAAiRAAiRAAiRAAiRAAiRAAq1DgAK+dbjzrSRAAiRAAiRAAiRAAiRAAiRAAiQQRYACPgoXC5MACZAACZAACZAACZAACZAACZBA6xCggG8d7nwrCZAACZAACZAACZAACZAACZAACUQRoICPwsXCJEACJEACJEACJEACJEACJEACJNA6BCjgW4c730oCJEACJEACJEACJEACJEACJEACUQQo4KNwsTAJkAAJkAAJkAAJkAAJkAAJkAAJtA6B3AT8mrXrWqcFfCsJkAAJkAAJkECLEWjXbnu1ZcvWFnsfX0QCJEACJEACtU6gc31dAUFuAr7WobL9JEACJEACJEACJEACJEACJEACJFBJAhTwlaTLZ5MACZAACZAACZAACZAACZAACZBATgQo4HMCyceQAAmQAAmQAAmQAAmQAAmQAAmQQCUJUMBXki6fTQIkQAIkQAIkQAIkQAIkQAIkQAI5EaCAzwkkH0MCJEACJEACJEACJEACJEACJEAClSRAAV9Junw2CZAACZAACZAACZAACZAACZAACeREgAI+J5B8DAmQAAmQAAmQAAmQAAmQAAmQAAlUkgAFfCXp8tkkQAIkQAIkQAIkQAIkQAIkQAIkkBOB/wNypTO2ByyWiwAAAABJRU5ErkJggg==)"
      ],
      "metadata": {
        "id": "Ub6csXhZ9c0G"
      }
    },
    {
      "cell_type": "markdown",
      "metadata": {
        "id": "ao-6jRG0fdNT"
      },
      "source": [
        "# TASK 5 run a random forest REGRESSION model\n",
        "\n",
        "*report the score on the tranining and test data and identify the most important features*\n",
        "\n",
        "*(hint: if you see \"ValueError: Input contains NaN, infinity or a value too large for dtype('float64').\" check \n",
        "1. np.isnan(Xn).sum().sum() and np.isnan(Xc).sum().sum() both return 0\n",
        "2. np.isinf(Xn).sum().sum() returns 0\n",
        "3. all the feature that had very large numbers (> 1e5) have been converted to the log of their values*"
      ]
    },
    {
      "cell_type": "code",
      "metadata": {
        "id": "kEiFt_htTjNF",
        "outputId": "1f84d8ff-7f49-4bc8-9762-e64c5a1b4d33",
        "colab": {
          "base_uri": "https://localhost:8080/"
        }
      },
      "source": [
        "from sklearn.ensemble import RandomForestRegressor\n",
        "rf = RandomForestRegressor(max_depth=4)\n",
        "rf.fit(X_train, y_train)\n",
        "print(\"accuracy on training data {:.2}\".format(rf.score(X_train, y_train)))"
      ],
      "execution_count": null,
      "outputs": [
        {
          "output_type": "stream",
          "name": "stdout",
          "text": [
            "accuracy on training data 0.77\n"
          ]
        }
      ]
    },
    {
      "cell_type": "markdown",
      "source": [
        "\n",
        "\n",
        "```\n",
        "# from sklearn.ensemble import RandomForestClassifier\n",
        "clf = RandomForestClassifier(max_depth=3)\n",
        "clf.fit(X_train, y_train)\n",
        "print(\"accuracy on training data {:.2}\".format(clf.score(X_train, y_train)))\n",
        "```\n",
        "\n"
      ],
      "metadata": {
        "id": "1ZTocB04y8_x"
      }
    },
    {
      "cell_type": "code",
      "metadata": {
        "id": "ymTuhJURT8hC",
        "colab": {
          "base_uri": "https://localhost:8080/"
        },
        "outputId": "02816c52-593d-4985-9bf4-f54d115ed503"
      },
      "source": [
        "print (\"the model test accuracy is {:.2}\".format(rf.score(X_test, y_test)))"
      ],
      "execution_count": null,
      "outputs": [
        {
          "output_type": "stream",
          "name": "stdout",
          "text": [
            "the model test accuracy is 0.78\n"
          ]
        }
      ]
    },
    {
      "cell_type": "code",
      "metadata": {
        "id": "jX2RquwBUT0a",
        "colab": {
          "base_uri": "https://localhost:8080/"
        },
        "outputId": "22bb8296-8ce5-446d-be36-2567fce02e92"
      },
      "source": [
        "#this is how you see the importance of the features\n",
        "rf.feature_importances_[:10]"
      ],
      "execution_count": null,
      "outputs": [
        {
          "output_type": "execute_result",
          "data": {
            "text/plain": [
              "array([9.36368620e-01, 6.51811161e-04, 3.09270664e-03, 0.00000000e+00,\n",
              "       0.00000000e+00, 0.00000000e+00, 0.00000000e+00, 0.00000000e+00,\n",
              "       0.00000000e+00, 0.00000000e+00])"
            ]
          },
          "metadata": {},
          "execution_count": 338
        }
      ]
    },
    {
      "cell_type": "code",
      "source": [
        "def plot_feature_importance(importance,names,model_type):\n",
        "  feature_importance = np.array(importance)\n",
        "  feature_names = np.array(names)"
      ],
      "metadata": {
        "id": "ivsVeVZVJVNJ"
      },
      "execution_count": 378,
      "outputs": []
    },
    {
      "cell_type": "code",
      "source": [
        "len(feature_names)"
      ],
      "metadata": {
        "colab": {
          "base_uri": "https://localhost:8080/"
        },
        "id": "qP41qtiLck7Z",
        "outputId": "4def6715-5cb1-4430-84cf-ce0c3c873383"
      },
      "execution_count": 379,
      "outputs": [
        {
          "output_type": "execute_result",
          "data": {
            "text/plain": [
              "139"
            ]
          },
          "metadata": {},
          "execution_count": 379
        }
      ]
    },
    {
      "cell_type": "code",
      "source": [
        "X.columns"
      ],
      "metadata": {
        "colab": {
          "base_uri": "https://localhost:8080/",
          "height": 168
        },
        "id": "AyKnO87MSSvw",
        "outputId": "a710183b-07d9-499f-cf4b-9f66a917c384"
      },
      "execution_count": 372,
      "outputs": [
        {
          "output_type": "error",
          "ename": "AttributeError",
          "evalue": "ignored",
          "traceback": [
            "\u001b[0;31m---------------------------------------------------------------------------\u001b[0m",
            "\u001b[0;31mAttributeError\u001b[0m                            Traceback (most recent call last)",
            "\u001b[0;32m<ipython-input-372-901c1061bf7c>\u001b[0m in \u001b[0;36m<module>\u001b[0;34m\u001b[0m\n\u001b[0;32m----> 1\u001b[0;31m \u001b[0mX\u001b[0m\u001b[0;34m.\u001b[0m\u001b[0mcolumns\u001b[0m\u001b[0;34m\u001b[0m\u001b[0;34m\u001b[0m\u001b[0m\n\u001b[0m",
            "\u001b[0;31mAttributeError\u001b[0m: 'numpy.ndarray' object has no attribute 'columns'"
          ]
        }
      ]
    },
    {
      "cell_type": "code",
      "metadata": {
        "id": "jO9F9bMRUYgU",
        "outputId": "ff8ee534-3866-4cc5-960f-1057a70f394d",
        "colab": {
          "base_uri": "https://localhost:8080/",
          "height": 1000
        }
      },
      "source": [
        "# plot the top ~50 features\n",
        "sorted_idx = rf.feature_importances_.argsort()\n",
        "\n",
        "y_ticks = np.arange(0, len(feature_names))\n",
        "fig, ax = plt.subplots(figsize=(10,20))\n",
        "ax.barh(y_ticks, tree_feature_importances[sorted_idx])\n",
        "ax.set_yticklabels(feature_names[sorted_idx])\n",
        "ax.set_yticks(y_ticks)\n",
        "ax.set_title(\"Random Forest Feature Importances (MDI)\")\n",
        "fig.tight_layout()\n",
        "ax.set_ylim(550, len(feature_names))\n",
        "plt.show()\n",
        "\n",
        "#your plot may be different from mine"
      ],
      "execution_count": null,
      "outputs": [
        {
          "output_type": "error",
          "ename": "TypeError",
          "evalue": "ignored",
          "traceback": [
            "\u001b[0;31m---------------------------------------------------------------------------\u001b[0m",
            "\u001b[0;31mTypeError\u001b[0m                                 Traceback (most recent call last)",
            "\u001b[0;32m<ipython-input-337-7b6321dd12bd>\u001b[0m in \u001b[0;36m<module>\u001b[0;34m\u001b[0m\n\u001b[1;32m      4\u001b[0m \u001b[0my_ticks\u001b[0m \u001b[0;34m=\u001b[0m \u001b[0mnp\u001b[0m\u001b[0;34m.\u001b[0m\u001b[0marange\u001b[0m\u001b[0;34m(\u001b[0m\u001b[0;36m0\u001b[0m\u001b[0;34m,\u001b[0m \u001b[0mlen\u001b[0m\u001b[0;34m(\u001b[0m\u001b[0mfeature_names\u001b[0m\u001b[0;34m)\u001b[0m\u001b[0;34m)\u001b[0m\u001b[0;34m\u001b[0m\u001b[0;34m\u001b[0m\u001b[0m\n\u001b[1;32m      5\u001b[0m \u001b[0mfig\u001b[0m\u001b[0;34m,\u001b[0m \u001b[0max\u001b[0m \u001b[0;34m=\u001b[0m \u001b[0mplt\u001b[0m\u001b[0;34m.\u001b[0m\u001b[0msubplots\u001b[0m\u001b[0;34m(\u001b[0m\u001b[0mfigsize\u001b[0m\u001b[0;34m=\u001b[0m\u001b[0;34m(\u001b[0m\u001b[0;36m10\u001b[0m\u001b[0;34m,\u001b[0m\u001b[0;36m20\u001b[0m\u001b[0;34m)\u001b[0m\u001b[0;34m)\u001b[0m\u001b[0;34m\u001b[0m\u001b[0;34m\u001b[0m\u001b[0m\n\u001b[0;32m----> 6\u001b[0;31m \u001b[0max\u001b[0m\u001b[0;34m.\u001b[0m\u001b[0mbarh\u001b[0m\u001b[0;34m(\u001b[0m\u001b[0my_ticks\u001b[0m\u001b[0;34m,\u001b[0m \u001b[0mtree_feature_importances\u001b[0m\u001b[0;34m[\u001b[0m\u001b[0msorted_idx\u001b[0m\u001b[0;34m]\u001b[0m\u001b[0;34m)\u001b[0m\u001b[0;34m\u001b[0m\u001b[0;34m\u001b[0m\u001b[0m\n\u001b[0m\u001b[1;32m      7\u001b[0m \u001b[0max\u001b[0m\u001b[0;34m.\u001b[0m\u001b[0mset_yticklabels\u001b[0m\u001b[0;34m(\u001b[0m\u001b[0mfeature_names\u001b[0m\u001b[0;34m[\u001b[0m\u001b[0msorted_idx\u001b[0m\u001b[0;34m]\u001b[0m\u001b[0;34m)\u001b[0m\u001b[0;34m\u001b[0m\u001b[0;34m\u001b[0m\u001b[0m\n\u001b[1;32m      8\u001b[0m \u001b[0max\u001b[0m\u001b[0;34m.\u001b[0m\u001b[0mset_yticks\u001b[0m\u001b[0;34m(\u001b[0m\u001b[0my_ticks\u001b[0m\u001b[0;34m)\u001b[0m\u001b[0;34m\u001b[0m\u001b[0;34m\u001b[0m\u001b[0m\n",
            "\u001b[0;31mTypeError\u001b[0m: only integer scalar arrays can be converted to a scalar index"
          ]
        },
        {
          "output_type": "display_data",
          "data": {
            "text/plain": [
              "<Figure size 720x1440 with 1 Axes>"
            ],
            "image/png": "[encoded data removed]"
          },
          "metadata": {
            "needs_background": "light"
          }
        }
      ]
    },
    {
      "cell_type": "code",
      "source": [
        "# CAPTION HERE! How is your model, How is your feature importance results? what can you notice? is it interesting? is it insightful??"
      ],
      "metadata": {
        "id": "Fv7SfQcRDZSP"
      },
      "execution_count": null,
      "outputs": []
    },
    {
      "cell_type": "markdown",
      "source": [
        "# TASK 6 do it for another city! note: the variable names wont be the same\n"
      ],
      "metadata": {
        "id": "FCZTCrn5OtCl"
      }
    },
    {
      "cell_type": "markdown",
      "metadata": {
        "id": "XZxr_mNXV5QB"
      },
      "source": [
        "# useful links and methods and functions I used: \n",
        "\n",
        "```df.dropna()``` to remove observation with missing variables\n",
        "\n",
        "```df.drop(columns, axis=1)``` to remove features (columns)\n",
        "\n",
        "\n",
        "```np.log10()``` and ```np.isinf()``` to convert to log space and find infinite values  \n",
        "\n",
        "`np.hstack([X1, X2])` to concatenate two arrays\n"
      ]
    },
    {
      "cell_type": "markdown",
      "metadata": {
        "id": "glzZInBSoLjW"
      },
      "source": [
        "one hot encoder https://scikit-learn.org/stable/modules/generated/sklearn.preprocessing.OneHotEncoder.html and https://stackabuse.com/one-hot-encoding-in-python-with-pandas-and-scikit-learn/\n"
      ]
    },
    {
      "cell_type": "markdown",
      "metadata": {
        "id": "c9_0ZFaGqRj1"
      },
      "source": [
        "KNN imputer https://scikit-learn.org/stable/modules/generated/sklearn.impute.KNNImputer.html , https://www.analyticsvidhya.com/blog/2020/07/knnimputer-a-robust-way-to-impute-missing-values-using-scikit-learn/, and \n",
        "https://machinelearningmastery.com/knn-imputation-for-missing-values-in-machine-learning/  "
      ]
    },
    {
      "cell_type": "code",
      "metadata": {
        "id": "bKLcYpBcqggC"
      },
      "source": [],
      "execution_count": null,
      "outputs": []
    }
  ]
}