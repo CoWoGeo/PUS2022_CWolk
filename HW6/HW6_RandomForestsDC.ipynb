{
  "nbformat": 4,
  "nbformat_minor": 0,
  "metadata": {
    "colab": {
      "provenance": [],
      "toc_visible": true,
      "include_colab_link": true
    },
    "kernelspec": {
      "name": "python3",
      "display_name": "Python 3"
    }
  },
  "cells": [
    {
      "cell_type": "markdown",
      "metadata": {
        "id": "view-in-github",
        "colab_type": "text"
      },
      "source": [
        "<a href=\"https://colab.research.google.com/github/CoWoGeo/PUS2022_CWolk/blob/main/HW6/HW6_RandomForestsDC.ipynb\" target=\"_parent\"><img src=\"https://colab.research.google.com/assets/colab-badge.svg\" alt=\"Open In Colab\"/></a>"
      ]
    },
    {
      "cell_type": "markdown",
      "source": [
        "# Analyzing Washington, DC Building Data"
      ],
      "metadata": {
        "id": "Zhuk1CxlfELX"
      }
    },
    {
      "cell_type": "markdown",
      "metadata": {
        "id": "KW9Oy459fxHz"
      },
      "source": [
        "Following the paper \"Examining the feasibility of using open data to benchmark building energy usage in cities: A data science and policy perspective\" [Roth et al 2019](https://www.researchgate.net/publication/337074109_Examining_the_feasibility_of_using_open_data_to_benchmark_building_energy_usage_in_cities_A_data_science_and_policy_perspective), choose 2 cities in the dataset available through the paper's github repository https://github.com/Urban-Informatics-Lab/Open-Data-Benchmarking\n",
        "\n",
        "This paper is an excellent example of reproducible research. \n",
        "\n",
        "I also created an example of using random forest classifier and regressors here https://github.com/fedhere/PUS2022_FBianco/blob/master/classdemo/COVID19LOS_featureExtractionRFexample.ipynb and there are links at the bottom of this notebook to useful functions and examples on the internet of applications of methods you will need to use.\n",
        "\n",
        "1. Read the introduction to the paper and describe here (briefly) the goals of their analysis (and the analysis that you are about to reproduce). Max 200 words.\n",
        "2. Choose 2 cities (any 2 cities except Seattle cause I am running some of the Seattle analysis below for guidance)\n",
        "3. For each of the 2 cities reproduce their analysis by \n",
        "\n",
        "  3.1 gathering the original data from their repository (see below for Seattle example)\n",
        "\n",
        "  3.2 clean the data according to their data preparation scheme, including one-hot-encoding categorical variables, except to impute missing data using KNearestNeighors instead of Gibbs sampling (see below)\n",
        "\n",
        "  3.3 run a Random Forest (RF) Regressor to predict the total energy consumption.\n",
        "\n",
        "  3.4 evaluate the RF model performance by printing the R2 score (the default score in SKLearn RF) for training and test set (discuss)\n",
        "\n",
        "  3.5 plot the features sorted by their importance and identify the most important features. are they consistent between the 2 cities? are they consistent with the paper's result?\n",
        "4 compare the result for the 2 cities (discuss)\n",
        "\n",
        "5. Extra credit: \n",
        "\n",
        "  5.1 modify the target variable to a binary variable choosing the median of the variable values as the the energy threshold and predict whether the value is higher or lower than the threshold\n",
        "  5.2 Run a Random Forest Classifier to predict if an observation is in the upper 50% percentile or lower 50% percentile (above or below the median threshold)\n",
        "  5.3 Measure the performance of the model on training and test data\n",
        "  5.4 Measure the feature importance and assess if the important feature have changed (discuss)"
      ]
    },
    {
      "cell_type": "code",
      "metadata": {
        "id": "EVupHHIYHuUK"
      },
      "source": [
        "import pandas as pd\n",
        "import numpy as np"
      ],
      "execution_count": null,
      "outputs": []
    },
    {
      "cell_type": "code",
      "source": [
        "import pylab as plt"
      ],
      "metadata": {
        "id": "EKnXov4ud40f"
      },
      "execution_count": null,
      "outputs": []
    },
    {
      "cell_type": "code",
      "source": [
        "import seaborn as sns"
      ],
      "metadata": {
        "id": "up1qUfMmd_s4"
      },
      "execution_count": null,
      "outputs": []
    },
    {
      "cell_type": "code",
      "source": [
        "# for imputing data\n",
        "from sklearn.impute import KNNImputer"
      ],
      "metadata": {
        "id": "WJUy2G5ne3it"
      },
      "execution_count": null,
      "outputs": []
    },
    {
      "cell_type": "code",
      "source": [
        "# for one-hot encoding\n",
        "from sklearn.preprocessing import OneHotEncoder\n",
        "# for train-test split\n",
        "from sklearn.model_selection import train_test_split\n",
        "# for random forests\n",
        "from sklearn.ensemble import RandomForestRegressor"
      ],
      "metadata": {
        "id": "BqoYZg-deidN"
      },
      "execution_count": null,
      "outputs": []
    },
    {
      "cell_type": "markdown",
      "metadata": {
        "id": "5Wia-RaAXtJC"
      },
      "source": [
        "# Reading in DC Data"
      ]
    },
    {
      "cell_type": "code",
      "metadata": {
        "id": "hmVzVH0dHwP1"
      },
      "source": [
        "dc = pd.read_csv(\"https://raw.githubusercontent.com/Urban-Informatics-Lab/Open-Data-Benchmarking/master/DC/DC_final.csv\")"
      ],
      "execution_count": null,
      "outputs": []
    },
    {
      "cell_type": "markdown",
      "metadata": {
        "id": "2U-1HZY2Xodw"
      },
      "source": [
        "# inspect the dataframe"
      ]
    },
    {
      "cell_type": "code",
      "source": [
        "print(\"there are (rows, columns) = \", (dc.shape), \"in the dataframe\")"
      ],
      "metadata": {
        "colab": {
          "base_uri": "https://localhost:8080/"
        },
        "id": "DRht35FE95Ar",
        "outputId": "6c96c2e3-649c-4440-e744-8ac6005bfdd5"
      },
      "execution_count": null,
      "outputs": [
        {
          "output_type": "stream",
          "name": "stdout",
          "text": [
            "there are (rows, columns) =  (1455, 23) in the dataframe\n"
          ]
        }
      ]
    },
    {
      "cell_type": "code",
      "metadata": {
        "id": "aqrv8eULHxte",
        "outputId": "8e90bbce-eb32-4287-9c25-5ceee56baca2",
        "colab": {
          "base_uri": "https://localhost:8080/",
          "height": 364
        }
      },
      "source": [
        "dc.describe()"
      ],
      "execution_count": null,
      "outputs": [
        {
          "output_type": "execute_result",
          "data": {
            "text/plain": [
              "        Unnamed: 0         ward   year_built  tax_record_floor_area  \\\n",
              "count  1455.000000  1455.000000  1455.000000           1.455000e+03   \n",
              "mean    793.997938     3.472852  1940.804811           2.046748e+05   \n",
              "std     469.582655     2.047691   167.230361           2.451302e+05   \n",
              "min       1.000000     1.000000  1000.000000           9.171000e+03   \n",
              "25%     380.500000     2.000000  1947.000000           7.164000e+04   \n",
              "50%     794.000000     2.000000  1971.000000           1.287720e+05   \n",
              "75%    1176.500000     5.000000  1994.000000           2.585310e+05   \n",
              "max    2181.000000     8.000000  2017.000000           3.997572e+06   \n",
              "\n",
              "       reported_gross_floor_area     water_use  electricity_use  \\\n",
              "count               1.455000e+03  1.455000e+03     1.441000e+03   \n",
              "mean                1.897612e+05  5.109905e+04     2.760114e+06   \n",
              "std                 2.436786e+05  6.163321e+05     4.599984e+06   \n",
              "min                 9.171000e+03  0.000000e+00     1.785000e+02   \n",
              "25%                 7.111750e+04  1.958050e+03     7.435930e+05   \n",
              "50%                 1.215530e+05  4.063800e+03     1.612028e+06   \n",
              "75%                 2.372130e+05  7.008700e+03     3.386553e+06   \n",
              "max                 5.634890e+06  1.929391e+07     1.207430e+08   \n",
              "\n",
              "       natural_gas_use  energy_star_score     site_eui  weather_norm_site_eui  \\\n",
              "count     1.054000e+03        1184.000000  1455.000000            1393.000000   \n",
              "mean      5.853217e+04          62.090372    69.960206              70.745154   \n",
              "std       2.617060e+05          26.792483    30.676317              31.476591   \n",
              "min       0.000000e+00           1.000000     1.100000               1.100000   \n",
              "25%       1.121760e+04          43.750000    51.600000              51.900000   \n",
              "50%       2.770698e+04          70.000000    65.900000              66.600000   \n",
              "75%       5.154631e+04          84.000000    82.850000              84.500000   \n",
              "max       7.269109e+06         100.000000   213.600000             215.500000   \n",
              "\n",
              "        source_eui  weather_norm_source_eui  total_ghg_emissions  \\\n",
              "count  1455.000000              1393.000000          1454.000000   \n",
              "mean    171.274433               171.302872          1318.734388   \n",
              "std      76.707287                76.884877          2458.471157   \n",
              "min       1.200000                 1.200000             3.100000   \n",
              "25%     121.850000               121.600000           400.450000   \n",
              "50%     163.300000               163.400000           757.100000   \n",
              "75%     206.450000               207.400000          1534.450000   \n",
              "max     618.600000               620.600000         64992.500000   \n",
              "\n",
              "       total_ghg_emissions_intensity  total_site_energy_KBTU  \\\n",
              "count                    1454.000000            1.455000e+03   \n",
              "mean                        6.674278            1.344870e+07   \n",
              "std                         3.143349            2.843799e+07   \n",
              "min                         0.100000            5.729350e+04   \n",
              "25%                         4.800000            4.513227e+06   \n",
              "50%                         6.300000            8.156027e+06   \n",
              "75%                         7.800000            1.565570e+07   \n",
              "max                        30.600000            7.832497e+08   \n",
              "\n",
              "       log_total_site_energy_KBTU  \n",
              "count                 1455.000000  \n",
              "mean                    15.905810  \n",
              "std                      0.991320  \n",
              "min                     10.955942  \n",
              "25%                     15.322523  \n",
              "50%                     15.914268  \n",
              "75%                     16.566343  \n",
              "max                     20.478962  "
            ],
            "text/html": [
              "\n",
              "  <div id=\"df-c4380e06-98e5-4eac-ab70-4b24901a8e15\">\n",
              "    <div class=\"colab-df-container\">\n",
              "      <div>\n",
              "<style scoped>\n",
              "    .dataframe tbody tr th:only-of-type {\n",
              "        vertical-align: middle;\n",
              "    }\n",
              "\n",
              "    .dataframe tbody tr th {\n",
              "        vertical-align: top;\n",
              "    }\n",
              "\n",
              "    .dataframe thead th {\n",
              "        text-align: right;\n",
              "    }\n",
              "</style>\n",
              "<table border=\"1\" class=\"dataframe\">\n",
              "  <thead>\n",
              "    <tr style=\"text-align: right;\">\n",
              "      <th></th>\n",
              "      <th>Unnamed: 0</th>\n",
              "      <th>ward</th>\n",
              "      <th>year_built</th>\n",
              "      <th>tax_record_floor_area</th>\n",
              "      <th>reported_gross_floor_area</th>\n",
              "      <th>water_use</th>\n",
              "      <th>electricity_use</th>\n",
              "      <th>natural_gas_use</th>\n",
              "      <th>energy_star_score</th>\n",
              "      <th>site_eui</th>\n",
              "      <th>weather_norm_site_eui</th>\n",
              "      <th>source_eui</th>\n",
              "      <th>weather_norm_source_eui</th>\n",
              "      <th>total_ghg_emissions</th>\n",
              "      <th>total_ghg_emissions_intensity</th>\n",
              "      <th>total_site_energy_KBTU</th>\n",
              "      <th>log_total_site_energy_KBTU</th>\n",
              "    </tr>\n",
              "  </thead>\n",
              "  <tbody>\n",
              "    <tr>\n",
              "      <th>count</th>\n",
              "      <td>1455.000000</td>\n",
              "      <td>1455.000000</td>\n",
              "      <td>1455.000000</td>\n",
              "      <td>1.455000e+03</td>\n",
              "      <td>1.455000e+03</td>\n",
              "      <td>1.455000e+03</td>\n",
              "      <td>1.441000e+03</td>\n",
              "      <td>1.054000e+03</td>\n",
              "      <td>1184.000000</td>\n",
              "      <td>1455.000000</td>\n",
              "      <td>1393.000000</td>\n",
              "      <td>1455.000000</td>\n",
              "      <td>1393.000000</td>\n",
              "      <td>1454.000000</td>\n",
              "      <td>1454.000000</td>\n",
              "      <td>1.455000e+03</td>\n",
              "      <td>1455.000000</td>\n",
              "    </tr>\n",
              "    <tr>\n",
              "      <th>mean</th>\n",
              "      <td>793.997938</td>\n",
              "      <td>3.472852</td>\n",
              "      <td>1940.804811</td>\n",
              "      <td>2.046748e+05</td>\n",
              "      <td>1.897612e+05</td>\n",
              "      <td>5.109905e+04</td>\n",
              "      <td>2.760114e+06</td>\n",
              "      <td>5.853217e+04</td>\n",
              "      <td>62.090372</td>\n",
              "      <td>69.960206</td>\n",
              "      <td>70.745154</td>\n",
              "      <td>171.274433</td>\n",
              "      <td>171.302872</td>\n",
              "      <td>1318.734388</td>\n",
              "      <td>6.674278</td>\n",
              "      <td>1.344870e+07</td>\n",
              "      <td>15.905810</td>\n",
              "    </tr>\n",
              "    <tr>\n",
              "      <th>std</th>\n",
              "      <td>469.582655</td>\n",
              "      <td>2.047691</td>\n",
              "      <td>167.230361</td>\n",
              "      <td>2.451302e+05</td>\n",
              "      <td>2.436786e+05</td>\n",
              "      <td>6.163321e+05</td>\n",
              "      <td>4.599984e+06</td>\n",
              "      <td>2.617060e+05</td>\n",
              "      <td>26.792483</td>\n",
              "      <td>30.676317</td>\n",
              "      <td>31.476591</td>\n",
              "      <td>76.707287</td>\n",
              "      <td>76.884877</td>\n",
              "      <td>2458.471157</td>\n",
              "      <td>3.143349</td>\n",
              "      <td>2.843799e+07</td>\n",
              "      <td>0.991320</td>\n",
              "    </tr>\n",
              "    <tr>\n",
              "      <th>min</th>\n",
              "      <td>1.000000</td>\n",
              "      <td>1.000000</td>\n",
              "      <td>1000.000000</td>\n",
              "      <td>9.171000e+03</td>\n",
              "      <td>9.171000e+03</td>\n",
              "      <td>0.000000e+00</td>\n",
              "      <td>1.785000e+02</td>\n",
              "      <td>0.000000e+00</td>\n",
              "      <td>1.000000</td>\n",
              "      <td>1.100000</td>\n",
              "      <td>1.100000</td>\n",
              "      <td>1.200000</td>\n",
              "      <td>1.200000</td>\n",
              "      <td>3.100000</td>\n",
              "      <td>0.100000</td>\n",
              "      <td>5.729350e+04</td>\n",
              "      <td>10.955942</td>\n",
              "    </tr>\n",
              "    <tr>\n",
              "      <th>25%</th>\n",
              "      <td>380.500000</td>\n",
              "      <td>2.000000</td>\n",
              "      <td>1947.000000</td>\n",
              "      <td>7.164000e+04</td>\n",
              "      <td>7.111750e+04</td>\n",
              "      <td>1.958050e+03</td>\n",
              "      <td>7.435930e+05</td>\n",
              "      <td>1.121760e+04</td>\n",
              "      <td>43.750000</td>\n",
              "      <td>51.600000</td>\n",
              "      <td>51.900000</td>\n",
              "      <td>121.850000</td>\n",
              "      <td>121.600000</td>\n",
              "      <td>400.450000</td>\n",
              "      <td>4.800000</td>\n",
              "      <td>4.513227e+06</td>\n",
              "      <td>15.322523</td>\n",
              "    </tr>\n",
              "    <tr>\n",
              "      <th>50%</th>\n",
              "      <td>794.000000</td>\n",
              "      <td>2.000000</td>\n",
              "      <td>1971.000000</td>\n",
              "      <td>1.287720e+05</td>\n",
              "      <td>1.215530e+05</td>\n",
              "      <td>4.063800e+03</td>\n",
              "      <td>1.612028e+06</td>\n",
              "      <td>2.770698e+04</td>\n",
              "      <td>70.000000</td>\n",
              "      <td>65.900000</td>\n",
              "      <td>66.600000</td>\n",
              "      <td>163.300000</td>\n",
              "      <td>163.400000</td>\n",
              "      <td>757.100000</td>\n",
              "      <td>6.300000</td>\n",
              "      <td>8.156027e+06</td>\n",
              "      <td>15.914268</td>\n",
              "    </tr>\n",
              "    <tr>\n",
              "      <th>75%</th>\n",
              "      <td>1176.500000</td>\n",
              "      <td>5.000000</td>\n",
              "      <td>1994.000000</td>\n",
              "      <td>2.585310e+05</td>\n",
              "      <td>2.372130e+05</td>\n",
              "      <td>7.008700e+03</td>\n",
              "      <td>3.386553e+06</td>\n",
              "      <td>5.154631e+04</td>\n",
              "      <td>84.000000</td>\n",
              "      <td>82.850000</td>\n",
              "      <td>84.500000</td>\n",
              "      <td>206.450000</td>\n",
              "      <td>207.400000</td>\n",
              "      <td>1534.450000</td>\n",
              "      <td>7.800000</td>\n",
              "      <td>1.565570e+07</td>\n",
              "      <td>16.566343</td>\n",
              "    </tr>\n",
              "    <tr>\n",
              "      <th>max</th>\n",
              "      <td>2181.000000</td>\n",
              "      <td>8.000000</td>\n",
              "      <td>2017.000000</td>\n",
              "      <td>3.997572e+06</td>\n",
              "      <td>5.634890e+06</td>\n",
              "      <td>1.929391e+07</td>\n",
              "      <td>1.207430e+08</td>\n",
              "      <td>7.269109e+06</td>\n",
              "      <td>100.000000</td>\n",
              "      <td>213.600000</td>\n",
              "      <td>215.500000</td>\n",
              "      <td>618.600000</td>\n",
              "      <td>620.600000</td>\n",
              "      <td>64992.500000</td>\n",
              "      <td>30.600000</td>\n",
              "      <td>7.832497e+08</td>\n",
              "      <td>20.478962</td>\n",
              "    </tr>\n",
              "  </tbody>\n",
              "</table>\n",
              "</div>\n",
              "      <button class=\"colab-df-convert\" onclick=\"convertToInteractive('df-c4380e06-98e5-4eac-ab70-4b24901a8e15')\"\n",
              "              title=\"Convert this dataframe to an interactive table.\"\n",
              "              style=\"display:none;\">\n",
              "        \n",
              "  <svg xmlns=\"http://www.w3.org/2000/svg\" height=\"24px\"viewBox=\"0 0 24 24\"\n",
              "       width=\"24px\">\n",
              "    <path d=\"M0 0h24v24H0V0z\" fill=\"none\"/>\n",
              "    <path d=\"M18.56 5.44l.94 2.06.94-2.06 2.06-.94-2.06-.94-.94-2.06-.94 2.06-2.06.94zm-11 1L8.5 8.5l.94-2.06 2.06-.94-2.06-.94L8.5 2.5l-.94 2.06-2.06.94zm10 10l.94 2.06.94-2.06 2.06-.94-2.06-.94-.94-2.06-.94 2.06-2.06.94z\"/><path d=\"M17.41 7.96l-1.37-1.37c-.4-.4-.92-.59-1.43-.59-.52 0-1.04.2-1.43.59L10.3 9.45l-7.72 7.72c-.78.78-.78 2.05 0 2.83L4 21.41c.39.39.9.59 1.41.59.51 0 1.02-.2 1.41-.59l7.78-7.78 2.81-2.81c.8-.78.8-2.07 0-2.86zM5.41 20L4 18.59l7.72-7.72 1.47 1.35L5.41 20z\"/>\n",
              "  </svg>\n",
              "      </button>\n",
              "      \n",
              "  <style>\n",
              "    .colab-df-container {\n",
              "      display:flex;\n",
              "      flex-wrap:wrap;\n",
              "      gap: 12px;\n",
              "    }\n",
              "\n",
              "    .colab-df-convert {\n",
              "      background-color: #E8F0FE;\n",
              "      border: none;\n",
              "      border-radius: 50%;\n",
              "      cursor: pointer;\n",
              "      display: none;\n",
              "      fill: #1967D2;\n",
              "      height: 32px;\n",
              "      padding: 0 0 0 0;\n",
              "      width: 32px;\n",
              "    }\n",
              "\n",
              "    .colab-df-convert:hover {\n",
              "      background-color: #E2EBFA;\n",
              "      box-shadow: 0px 1px 2px rgba(60, 64, 67, 0.3), 0px 1px 3px 1px rgba(60, 64, 67, 0.15);\n",
              "      fill: #174EA6;\n",
              "    }\n",
              "\n",
              "    [theme=dark] .colab-df-convert {\n",
              "      background-color: #3B4455;\n",
              "      fill: #D2E3FC;\n",
              "    }\n",
              "\n",
              "    [theme=dark] .colab-df-convert:hover {\n",
              "      background-color: #434B5C;\n",
              "      box-shadow: 0px 1px 3px 1px rgba(0, 0, 0, 0.15);\n",
              "      filter: drop-shadow(0px 1px 2px rgba(0, 0, 0, 0.3));\n",
              "      fill: #FFFFFF;\n",
              "    }\n",
              "  </style>\n",
              "\n",
              "      <script>\n",
              "        const buttonEl =\n",
              "          document.querySelector('#df-c4380e06-98e5-4eac-ab70-4b24901a8e15 button.colab-df-convert');\n",
              "        buttonEl.style.display =\n",
              "          google.colab.kernel.accessAllowed ? 'block' : 'none';\n",
              "\n",
              "        async function convertToInteractive(key) {\n",
              "          const element = document.querySelector('#df-c4380e06-98e5-4eac-ab70-4b24901a8e15');\n",
              "          const dataTable =\n",
              "            await google.colab.kernel.invokeFunction('convertToInteractive',\n",
              "                                                     [key], {});\n",
              "          if (!dataTable) return;\n",
              "\n",
              "          const docLinkHtml = 'Like what you see? Visit the ' +\n",
              "            '<a target=\"_blank\" href=https://colab.research.google.com/notebooks/data_table.ipynb>data table notebook</a>'\n",
              "            + ' to learn more about interactive tables.';\n",
              "          element.innerHTML = '';\n",
              "          dataTable['output_type'] = 'display_data';\n",
              "          await google.colab.output.renderOutput(dataTable, element);\n",
              "          const docLink = document.createElement('div');\n",
              "          docLink.innerHTML = docLinkHtml;\n",
              "          element.appendChild(docLink);\n",
              "        }\n",
              "      </script>\n",
              "    </div>\n",
              "  </div>\n",
              "  "
            ]
          },
          "metadata": {},
          "execution_count": 8
        }
      ]
    },
    {
      "cell_type": "markdown",
      "metadata": {
        "id": "t2N6DSrXXx5z"
      },
      "source": [
        "# TASK 1 Clean the data \n",
        "*follow closely the second paragraph of Section 4 DATA. Name each step you do accordingly to the description in the paragraf*\n",
        "\n",
        "Summary of that paragraph:\n",
        "\n",
        "* Removed irrelevant building-identifying features such as address\n",
        "*    Removed features w/ missing values for >40% of buildings in dataset because otherwise those will be imputed and bias the results.\n",
        "*    Eliminated buildings w/ missing site EUI to avoid imputing values for dependent variable\n",
        "*    Imputed data for remaining missing variables by generating multiple imputations by Gibbs sampling using classification and regression trees (I think this is a later step in the homework.)\n",
        "*    Authors note that the data is extremely heterogeneous within and between datasets in terms of building counts and building sizes. This is partly due to local mandates, inclusion of government buildings, and smaller buildings opting in in some places. They note that \"some models are better able to handle less data than others.\""
      ]
    },
    {
      "cell_type": "code",
      "metadata": {
        "id": "k15rP8aaNXO7",
        "outputId": "84f83ac9-9e15-445c-d7da-72a440cb27a3",
        "colab": {
          "base_uri": "https://localhost:8080/"
        }
      },
      "source": [
        "# summarize the number of rows with missing values for each column\n",
        "for c in dc.columns:\n",
        "  \n",
        "  # count number of rows with missing values\n",
        "  n_miss = dc[c].isnull().sum()\n",
        "  perc = n_miss / dc.shape[0] * 100\n",
        "  print('%s (%s):  Missing: %d (%.1f%%)' % (c, dc[c].dtype, \n",
        "                                                  n_miss, perc))\n"
      ],
      "execution_count": null,
      "outputs": [
        {
          "output_type": "stream",
          "name": "stdout",
          "text": [
            "Unnamed: 0 (int64):  Missing: 0 (0.0%)\n",
            "report_status (object):  Missing: 0 (0.0%)\n",
            "ward (int64):  Missing: 0 (0.0%)\n",
            "postal_code (object):  Missing: 0 (0.0%)\n",
            "year_built (int64):  Missing: 0 (0.0%)\n",
            "primary_ptype_self (object):  Missing: 0 (0.0%)\n",
            "primary_ptype_epa (object):  Missing: 0 (0.0%)\n",
            "tax_record_floor_area (float64):  Missing: 0 (0.0%)\n",
            "reported_gross_floor_area (float64):  Missing: 0 (0.0%)\n",
            "water_use (float64):  Missing: 0 (0.0%)\n",
            "metered_areas_energy (object):  Missing: 0 (0.0%)\n",
            "metered_areas_water (object):  Missing: 0 (0.0%)\n",
            "electricity_use (float64):  Missing: 14 (1.0%)\n",
            "natural_gas_use (float64):  Missing: 401 (27.6%)\n",
            "energy_star_score (float64):  Missing: 271 (18.6%)\n",
            "site_eui (float64):  Missing: 0 (0.0%)\n",
            "weather_norm_site_eui (float64):  Missing: 62 (4.3%)\n",
            "source_eui (float64):  Missing: 0 (0.0%)\n",
            "weather_norm_source_eui (float64):  Missing: 62 (4.3%)\n",
            "total_ghg_emissions (float64):  Missing: 1 (0.1%)\n",
            "total_ghg_emissions_intensity (float64):  Missing: 1 (0.1%)\n",
            "total_site_energy_KBTU (float64):  Missing: 0 (0.0%)\n",
            "log_total_site_energy_KBTU (float64):  Missing: 0 (0.0%)\n"
          ]
        }
      ]
    },
    {
      "cell_type": "markdown",
      "source": [
        "Yay, none are missing over 40%! So I'll delete the step of removing columns w/ over 40% missing."
      ],
      "metadata": {
        "id": "g6fMibTfRyWq"
      }
    },
    {
      "cell_type": "code",
      "source": [
        "washdc = dc.drop([\"Unnamed: 0\"], axis=1)"
      ],
      "metadata": {
        "id": "lYZMOcebUFcd"
      },
      "execution_count": null,
      "outputs": []
    },
    {
      "cell_type": "code",
      "source": [
        "washdc.info()"
      ],
      "metadata": {
        "colab": {
          "base_uri": "https://localhost:8080/"
        },
        "id": "caufMZGfS4bs",
        "outputId": "973c806a-1587-44fd-d8fe-411b8c47a512"
      },
      "execution_count": null,
      "outputs": [
        {
          "output_type": "stream",
          "name": "stdout",
          "text": [
            "<class 'pandas.core.frame.DataFrame'>\n",
            "RangeIndex: 1455 entries, 0 to 1454\n",
            "Data columns (total 22 columns):\n",
            " #   Column                         Non-Null Count  Dtype  \n",
            "---  ------                         --------------  -----  \n",
            " 0   report_status                  1455 non-null   object \n",
            " 1   ward                           1455 non-null   int64  \n",
            " 2   postal_code                    1455 non-null   object \n",
            " 3   year_built                     1455 non-null   int64  \n",
            " 4   primary_ptype_self             1455 non-null   object \n",
            " 5   primary_ptype_epa              1455 non-null   object \n",
            " 6   tax_record_floor_area          1455 non-null   float64\n",
            " 7   reported_gross_floor_area      1455 non-null   float64\n",
            " 8   water_use                      1455 non-null   float64\n",
            " 9   metered_areas_energy           1455 non-null   object \n",
            " 10  metered_areas_water            1455 non-null   object \n",
            " 11  electricity_use                1441 non-null   float64\n",
            " 12  natural_gas_use                1054 non-null   float64\n",
            " 13  energy_star_score              1184 non-null   float64\n",
            " 14  site_eui                       1455 non-null   float64\n",
            " 15  weather_norm_site_eui          1393 non-null   float64\n",
            " 16  source_eui                     1455 non-null   float64\n",
            " 17  weather_norm_source_eui        1393 non-null   float64\n",
            " 18  total_ghg_emissions            1454 non-null   float64\n",
            " 19  total_ghg_emissions_intensity  1454 non-null   float64\n",
            " 20  total_site_energy_KBTU         1455 non-null   float64\n",
            " 21  log_total_site_energy_KBTU     1455 non-null   float64\n",
            "dtypes: float64(14), int64(2), object(6)\n",
            "memory usage: 250.2+ KB\n"
          ]
        }
      ]
    },
    {
      "cell_type": "markdown",
      "metadata": {
        "id": "XVD2IKLsZI2x"
      },
      "source": [
        "# TASK 2: transform input feature as needed\n",
        "for example replace features with log features. Guide yourself with the text, the final dataset names, and also the code here https://github.com/Urban-Informatics-Lab/Open-Data-Benchmarking/blob/master/Lasso_RandomForest.Rmd"
      ]
    },
    {
      "cell_type": "markdown",
      "source": [
        "In the describe function below, I'm mostly looking at min, max, and standard deviation to get a sense of how big the ranges are and if there are columns that should have a log function or have very little variance."
      ],
      "metadata": {
        "id": "DqMOAZyuT18T"
      }
    },
    {
      "cell_type": "code",
      "metadata": {
        "id": "SWyHLyhCLYIm",
        "colab": {
          "base_uri": "https://localhost:8080/",
          "height": 364
        },
        "outputId": "77583a0a-f90c-4fc1-a0e2-a67823edd701"
      },
      "source": [
        "washdc.describe() #what should you look at in the result below?"
      ],
      "execution_count": null,
      "outputs": [
        {
          "output_type": "execute_result",
          "data": {
            "text/plain": [
              "              ward   year_built  tax_record_floor_area  \\\n",
              "count  1455.000000  1455.000000           1.455000e+03   \n",
              "mean      3.472852  1940.804811           2.046748e+05   \n",
              "std       2.047691   167.230361           2.451302e+05   \n",
              "min       1.000000  1000.000000           9.171000e+03   \n",
              "25%       2.000000  1947.000000           7.164000e+04   \n",
              "50%       2.000000  1971.000000           1.287720e+05   \n",
              "75%       5.000000  1994.000000           2.585310e+05   \n",
              "max       8.000000  2017.000000           3.997572e+06   \n",
              "\n",
              "       reported_gross_floor_area     water_use  electricity_use  \\\n",
              "count               1.455000e+03  1.455000e+03     1.441000e+03   \n",
              "mean                1.897612e+05  5.109905e+04     2.760114e+06   \n",
              "std                 2.436786e+05  6.163321e+05     4.599984e+06   \n",
              "min                 9.171000e+03  0.000000e+00     1.785000e+02   \n",
              "25%                 7.111750e+04  1.958050e+03     7.435930e+05   \n",
              "50%                 1.215530e+05  4.063800e+03     1.612028e+06   \n",
              "75%                 2.372130e+05  7.008700e+03     3.386553e+06   \n",
              "max                 5.634890e+06  1.929391e+07     1.207430e+08   \n",
              "\n",
              "       natural_gas_use  energy_star_score     site_eui  weather_norm_site_eui  \\\n",
              "count     1.054000e+03        1184.000000  1455.000000            1393.000000   \n",
              "mean      5.853217e+04          62.090372    69.960206              70.745154   \n",
              "std       2.617060e+05          26.792483    30.676317              31.476591   \n",
              "min       0.000000e+00           1.000000     1.100000               1.100000   \n",
              "25%       1.121760e+04          43.750000    51.600000              51.900000   \n",
              "50%       2.770698e+04          70.000000    65.900000              66.600000   \n",
              "75%       5.154631e+04          84.000000    82.850000              84.500000   \n",
              "max       7.269109e+06         100.000000   213.600000             215.500000   \n",
              "\n",
              "        source_eui  weather_norm_source_eui  total_ghg_emissions  \\\n",
              "count  1455.000000              1393.000000          1454.000000   \n",
              "mean    171.274433               171.302872          1318.734388   \n",
              "std      76.707287                76.884877          2458.471157   \n",
              "min       1.200000                 1.200000             3.100000   \n",
              "25%     121.850000               121.600000           400.450000   \n",
              "50%     163.300000               163.400000           757.100000   \n",
              "75%     206.450000               207.400000          1534.450000   \n",
              "max     618.600000               620.600000         64992.500000   \n",
              "\n",
              "       total_ghg_emissions_intensity  total_site_energy_KBTU  \\\n",
              "count                    1454.000000            1.455000e+03   \n",
              "mean                        6.674278            1.344870e+07   \n",
              "std                         3.143349            2.843799e+07   \n",
              "min                         0.100000            5.729350e+04   \n",
              "25%                         4.800000            4.513227e+06   \n",
              "50%                         6.300000            8.156027e+06   \n",
              "75%                         7.800000            1.565570e+07   \n",
              "max                        30.600000            7.832497e+08   \n",
              "\n",
              "       log_total_site_energy_KBTU  \n",
              "count                 1455.000000  \n",
              "mean                    15.905810  \n",
              "std                      0.991320  \n",
              "min                     10.955942  \n",
              "25%                     15.322523  \n",
              "50%                     15.914268  \n",
              "75%                     16.566343  \n",
              "max                     20.478962  "
            ],
            "text/html": [
              "\n",
              "  <div id=\"df-c706200e-42a3-4f09-9a34-0b8e67cacf7a\">\n",
              "    <div class=\"colab-df-container\">\n",
              "      <div>\n",
              "<style scoped>\n",
              "    .dataframe tbody tr th:only-of-type {\n",
              "        vertical-align: middle;\n",
              "    }\n",
              "\n",
              "    .dataframe tbody tr th {\n",
              "        vertical-align: top;\n",
              "    }\n",
              "\n",
              "    .dataframe thead th {\n",
              "        text-align: right;\n",
              "    }\n",
              "</style>\n",
              "<table border=\"1\" class=\"dataframe\">\n",
              "  <thead>\n",
              "    <tr style=\"text-align: right;\">\n",
              "      <th></th>\n",
              "      <th>ward</th>\n",
              "      <th>year_built</th>\n",
              "      <th>tax_record_floor_area</th>\n",
              "      <th>reported_gross_floor_area</th>\n",
              "      <th>water_use</th>\n",
              "      <th>electricity_use</th>\n",
              "      <th>natural_gas_use</th>\n",
              "      <th>energy_star_score</th>\n",
              "      <th>site_eui</th>\n",
              "      <th>weather_norm_site_eui</th>\n",
              "      <th>source_eui</th>\n",
              "      <th>weather_norm_source_eui</th>\n",
              "      <th>total_ghg_emissions</th>\n",
              "      <th>total_ghg_emissions_intensity</th>\n",
              "      <th>total_site_energy_KBTU</th>\n",
              "      <th>log_total_site_energy_KBTU</th>\n",
              "    </tr>\n",
              "  </thead>\n",
              "  <tbody>\n",
              "    <tr>\n",
              "      <th>count</th>\n",
              "      <td>1455.000000</td>\n",
              "      <td>1455.000000</td>\n",
              "      <td>1.455000e+03</td>\n",
              "      <td>1.455000e+03</td>\n",
              "      <td>1.455000e+03</td>\n",
              "      <td>1.441000e+03</td>\n",
              "      <td>1.054000e+03</td>\n",
              "      <td>1184.000000</td>\n",
              "      <td>1455.000000</td>\n",
              "      <td>1393.000000</td>\n",
              "      <td>1455.000000</td>\n",
              "      <td>1393.000000</td>\n",
              "      <td>1454.000000</td>\n",
              "      <td>1454.000000</td>\n",
              "      <td>1.455000e+03</td>\n",
              "      <td>1455.000000</td>\n",
              "    </tr>\n",
              "    <tr>\n",
              "      <th>mean</th>\n",
              "      <td>3.472852</td>\n",
              "      <td>1940.804811</td>\n",
              "      <td>2.046748e+05</td>\n",
              "      <td>1.897612e+05</td>\n",
              "      <td>5.109905e+04</td>\n",
              "      <td>2.760114e+06</td>\n",
              "      <td>5.853217e+04</td>\n",
              "      <td>62.090372</td>\n",
              "      <td>69.960206</td>\n",
              "      <td>70.745154</td>\n",
              "      <td>171.274433</td>\n",
              "      <td>171.302872</td>\n",
              "      <td>1318.734388</td>\n",
              "      <td>6.674278</td>\n",
              "      <td>1.344870e+07</td>\n",
              "      <td>15.905810</td>\n",
              "    </tr>\n",
              "    <tr>\n",
              "      <th>std</th>\n",
              "      <td>2.047691</td>\n",
              "      <td>167.230361</td>\n",
              "      <td>2.451302e+05</td>\n",
              "      <td>2.436786e+05</td>\n",
              "      <td>6.163321e+05</td>\n",
              "      <td>4.599984e+06</td>\n",
              "      <td>2.617060e+05</td>\n",
              "      <td>26.792483</td>\n",
              "      <td>30.676317</td>\n",
              "      <td>31.476591</td>\n",
              "      <td>76.707287</td>\n",
              "      <td>76.884877</td>\n",
              "      <td>2458.471157</td>\n",
              "      <td>3.143349</td>\n",
              "      <td>2.843799e+07</td>\n",
              "      <td>0.991320</td>\n",
              "    </tr>\n",
              "    <tr>\n",
              "      <th>min</th>\n",
              "      <td>1.000000</td>\n",
              "      <td>1000.000000</td>\n",
              "      <td>9.171000e+03</td>\n",
              "      <td>9.171000e+03</td>\n",
              "      <td>0.000000e+00</td>\n",
              "      <td>1.785000e+02</td>\n",
              "      <td>0.000000e+00</td>\n",
              "      <td>1.000000</td>\n",
              "      <td>1.100000</td>\n",
              "      <td>1.100000</td>\n",
              "      <td>1.200000</td>\n",
              "      <td>1.200000</td>\n",
              "      <td>3.100000</td>\n",
              "      <td>0.100000</td>\n",
              "      <td>5.729350e+04</td>\n",
              "      <td>10.955942</td>\n",
              "    </tr>\n",
              "    <tr>\n",
              "      <th>25%</th>\n",
              "      <td>2.000000</td>\n",
              "      <td>1947.000000</td>\n",
              "      <td>7.164000e+04</td>\n",
              "      <td>7.111750e+04</td>\n",
              "      <td>1.958050e+03</td>\n",
              "      <td>7.435930e+05</td>\n",
              "      <td>1.121760e+04</td>\n",
              "      <td>43.750000</td>\n",
              "      <td>51.600000</td>\n",
              "      <td>51.900000</td>\n",
              "      <td>121.850000</td>\n",
              "      <td>121.600000</td>\n",
              "      <td>400.450000</td>\n",
              "      <td>4.800000</td>\n",
              "      <td>4.513227e+06</td>\n",
              "      <td>15.322523</td>\n",
              "    </tr>\n",
              "    <tr>\n",
              "      <th>50%</th>\n",
              "      <td>2.000000</td>\n",
              "      <td>1971.000000</td>\n",
              "      <td>1.287720e+05</td>\n",
              "      <td>1.215530e+05</td>\n",
              "      <td>4.063800e+03</td>\n",
              "      <td>1.612028e+06</td>\n",
              "      <td>2.770698e+04</td>\n",
              "      <td>70.000000</td>\n",
              "      <td>65.900000</td>\n",
              "      <td>66.600000</td>\n",
              "      <td>163.300000</td>\n",
              "      <td>163.400000</td>\n",
              "      <td>757.100000</td>\n",
              "      <td>6.300000</td>\n",
              "      <td>8.156027e+06</td>\n",
              "      <td>15.914268</td>\n",
              "    </tr>\n",
              "    <tr>\n",
              "      <th>75%</th>\n",
              "      <td>5.000000</td>\n",
              "      <td>1994.000000</td>\n",
              "      <td>2.585310e+05</td>\n",
              "      <td>2.372130e+05</td>\n",
              "      <td>7.008700e+03</td>\n",
              "      <td>3.386553e+06</td>\n",
              "      <td>5.154631e+04</td>\n",
              "      <td>84.000000</td>\n",
              "      <td>82.850000</td>\n",
              "      <td>84.500000</td>\n",
              "      <td>206.450000</td>\n",
              "      <td>207.400000</td>\n",
              "      <td>1534.450000</td>\n",
              "      <td>7.800000</td>\n",
              "      <td>1.565570e+07</td>\n",
              "      <td>16.566343</td>\n",
              "    </tr>\n",
              "    <tr>\n",
              "      <th>max</th>\n",
              "      <td>8.000000</td>\n",
              "      <td>2017.000000</td>\n",
              "      <td>3.997572e+06</td>\n",
              "      <td>5.634890e+06</td>\n",
              "      <td>1.929391e+07</td>\n",
              "      <td>1.207430e+08</td>\n",
              "      <td>7.269109e+06</td>\n",
              "      <td>100.000000</td>\n",
              "      <td>213.600000</td>\n",
              "      <td>215.500000</td>\n",
              "      <td>618.600000</td>\n",
              "      <td>620.600000</td>\n",
              "      <td>64992.500000</td>\n",
              "      <td>30.600000</td>\n",
              "      <td>7.832497e+08</td>\n",
              "      <td>20.478962</td>\n",
              "    </tr>\n",
              "  </tbody>\n",
              "</table>\n",
              "</div>\n",
              "      <button class=\"colab-df-convert\" onclick=\"convertToInteractive('df-c706200e-42a3-4f09-9a34-0b8e67cacf7a')\"\n",
              "              title=\"Convert this dataframe to an interactive table.\"\n",
              "              style=\"display:none;\">\n",
              "        \n",
              "  <svg xmlns=\"http://www.w3.org/2000/svg\" height=\"24px\"viewBox=\"0 0 24 24\"\n",
              "       width=\"24px\">\n",
              "    <path d=\"M0 0h24v24H0V0z\" fill=\"none\"/>\n",
              "    <path d=\"M18.56 5.44l.94 2.06.94-2.06 2.06-.94-2.06-.94-.94-2.06-.94 2.06-2.06.94zm-11 1L8.5 8.5l.94-2.06 2.06-.94-2.06-.94L8.5 2.5l-.94 2.06-2.06.94zm10 10l.94 2.06.94-2.06 2.06-.94-2.06-.94-.94-2.06-.94 2.06-2.06.94z\"/><path d=\"M17.41 7.96l-1.37-1.37c-.4-.4-.92-.59-1.43-.59-.52 0-1.04.2-1.43.59L10.3 9.45l-7.72 7.72c-.78.78-.78 2.05 0 2.83L4 21.41c.39.39.9.59 1.41.59.51 0 1.02-.2 1.41-.59l7.78-7.78 2.81-2.81c.8-.78.8-2.07 0-2.86zM5.41 20L4 18.59l7.72-7.72 1.47 1.35L5.41 20z\"/>\n",
              "  </svg>\n",
              "      </button>\n",
              "      \n",
              "  <style>\n",
              "    .colab-df-container {\n",
              "      display:flex;\n",
              "      flex-wrap:wrap;\n",
              "      gap: 12px;\n",
              "    }\n",
              "\n",
              "    .colab-df-convert {\n",
              "      background-color: #E8F0FE;\n",
              "      border: none;\n",
              "      border-radius: 50%;\n",
              "      cursor: pointer;\n",
              "      display: none;\n",
              "      fill: #1967D2;\n",
              "      height: 32px;\n",
              "      padding: 0 0 0 0;\n",
              "      width: 32px;\n",
              "    }\n",
              "\n",
              "    .colab-df-convert:hover {\n",
              "      background-color: #E2EBFA;\n",
              "      box-shadow: 0px 1px 2px rgba(60, 64, 67, 0.3), 0px 1px 3px 1px rgba(60, 64, 67, 0.15);\n",
              "      fill: #174EA6;\n",
              "    }\n",
              "\n",
              "    [theme=dark] .colab-df-convert {\n",
              "      background-color: #3B4455;\n",
              "      fill: #D2E3FC;\n",
              "    }\n",
              "\n",
              "    [theme=dark] .colab-df-convert:hover {\n",
              "      background-color: #434B5C;\n",
              "      box-shadow: 0px 1px 3px 1px rgba(0, 0, 0, 0.15);\n",
              "      filter: drop-shadow(0px 1px 2px rgba(0, 0, 0, 0.3));\n",
              "      fill: #FFFFFF;\n",
              "    }\n",
              "  </style>\n",
              "\n",
              "      <script>\n",
              "        const buttonEl =\n",
              "          document.querySelector('#df-c706200e-42a3-4f09-9a34-0b8e67cacf7a button.colab-df-convert');\n",
              "        buttonEl.style.display =\n",
              "          google.colab.kernel.accessAllowed ? 'block' : 'none';\n",
              "\n",
              "        async function convertToInteractive(key) {\n",
              "          const element = document.querySelector('#df-c706200e-42a3-4f09-9a34-0b8e67cacf7a');\n",
              "          const dataTable =\n",
              "            await google.colab.kernel.invokeFunction('convertToInteractive',\n",
              "                                                     [key], {});\n",
              "          if (!dataTable) return;\n",
              "\n",
              "          const docLinkHtml = 'Like what you see? Visit the ' +\n",
              "            '<a target=\"_blank\" href=https://colab.research.google.com/notebooks/data_table.ipynb>data table notebook</a>'\n",
              "            + ' to learn more about interactive tables.';\n",
              "          element.innerHTML = '';\n",
              "          dataTable['output_type'] = 'display_data';\n",
              "          await google.colab.output.renderOutput(dataTable, element);\n",
              "          const docLink = document.createElement('div');\n",
              "          docLink.innerHTML = docLinkHtml;\n",
              "          element.appendChild(docLink);\n",
              "        }\n",
              "      </script>\n",
              "    </div>\n",
              "  </div>\n",
              "  "
            ]
          },
          "metadata": {},
          "execution_count": 20
        }
      ]
    },
    {
      "cell_type": "code",
      "source": [
        "washdc.info() #why is this helpful to print?"
      ],
      "metadata": {
        "id": "qFWWCuN755gc",
        "colab": {
          "base_uri": "https://localhost:8080/"
        },
        "outputId": "39b48d92-15ec-40b5-9b7e-34aac4b13132"
      },
      "execution_count": null,
      "outputs": [
        {
          "output_type": "stream",
          "name": "stdout",
          "text": [
            "<class 'pandas.core.frame.DataFrame'>\n",
            "RangeIndex: 1455 entries, 0 to 1454\n",
            "Data columns (total 22 columns):\n",
            " #   Column                         Non-Null Count  Dtype  \n",
            "---  ------                         --------------  -----  \n",
            " 0   report_status                  1455 non-null   object \n",
            " 1   ward                           1455 non-null   int64  \n",
            " 2   postal_code                    1455 non-null   object \n",
            " 3   year_built                     1455 non-null   int64  \n",
            " 4   primary_ptype_self             1455 non-null   object \n",
            " 5   primary_ptype_epa              1455 non-null   object \n",
            " 6   tax_record_floor_area          1455 non-null   float64\n",
            " 7   reported_gross_floor_area      1455 non-null   float64\n",
            " 8   water_use                      1455 non-null   float64\n",
            " 9   metered_areas_energy           1455 non-null   object \n",
            " 10  metered_areas_water            1455 non-null   object \n",
            " 11  electricity_use                1441 non-null   float64\n",
            " 12  natural_gas_use                1054 non-null   float64\n",
            " 13  energy_star_score              1184 non-null   float64\n",
            " 14  site_eui                       1455 non-null   float64\n",
            " 15  weather_norm_site_eui          1393 non-null   float64\n",
            " 16  source_eui                     1455 non-null   float64\n",
            " 17  weather_norm_source_eui        1393 non-null   float64\n",
            " 18  total_ghg_emissions            1454 non-null   float64\n",
            " 19  total_ghg_emissions_intensity  1454 non-null   float64\n",
            " 20  total_site_energy_KBTU         1455 non-null   float64\n",
            " 21  log_total_site_energy_KBTU     1455 non-null   float64\n",
            "dtypes: float64(14), int64(2), object(6)\n",
            "memory usage: 250.2+ KB\n"
          ]
        }
      ]
    },
    {
      "cell_type": "markdown",
      "source": [
        "## Throw away data where the **target** variable is missing\n",
        "\n",
        "I will remove each row where I do not have the target variable. To do that I use `df.dropna()` and the subset argument of `df.dropna()` set to the name of the variable. The `how` should be set to \"any\" cause you want to drop the row where any values in the subset is NaN (this is a subset of one column, so it is obvious, but imagine if you were passing more than one column to the call `dropna()`"
      ],
      "metadata": {
        "id": "LjzW2m2I-dvq"
      }
    },
    {
      "cell_type": "code",
      "source": [
        "#there are no Nas anyway\n",
        "washdc[\"log_total_site_energy_KBTU\"].isna().sum()"
      ],
      "metadata": {
        "id": "aDMtT0kq_rUx",
        "colab": {
          "base_uri": "https://localhost:8080/"
        },
        "outputId": "eefcd72d-87b9-40db-cb0f-b12116538884"
      },
      "execution_count": null,
      "outputs": [
        {
          "output_type": "execute_result",
          "data": {
            "text/plain": [
              "0"
            ]
          },
          "metadata": {},
          "execution_count": 22
        }
      ]
    },
    {
      "cell_type": "code",
      "source": [
        "#I lost no data\n",
        "original_len = washdc.shape[0]\n",
        "washdc.dropna(subset=['log_total_site_energy_KBTU'],)\n",
        "\n",
        "print(\"I lost {:.2f}% of the data\".format((1 - (washdc.shape[0] / original_len)) * 100))"
      ],
      "metadata": {
        "colab": {
          "base_uri": "https://localhost:8080/"
        },
        "id": "MQC0OsUq-i0Q",
        "outputId": "5a9be0fb-2180-44cb-9254-b3b670d8f515"
      },
      "execution_count": null,
      "outputs": [
        {
          "output_type": "stream",
          "name": "stdout",
          "text": [
            "I lost 0.00% of the data\n"
          ]
        }
      ]
    },
    {
      "cell_type": "code",
      "metadata": {
        "id": "7uQG7QcFPJUA"
      },
      "source": [
        "# isolate the target variable first (endogenous)\n",
        "y = washdc[\"log_total_site_energy_KBTU\"].values"
      ],
      "execution_count": null,
      "outputs": []
    },
    {
      "cell_type": "code",
      "source": [
        "# and the input variables (exogenous)\n",
        "X = washdc.drop('log_total_site_energy_KBTU', axis=1)"
      ],
      "metadata": {
        "id": "1_ZO1NtR-19k"
      },
      "execution_count": null,
      "outputs": []
    },
    {
      "cell_type": "markdown",
      "metadata": {
        "id": "iNbDz-98ZvkM"
      },
      "source": [
        "### separate categorical and numerical values\n",
        "you will proceed to missing data imputation differently in the 2 cases"
      ]
    },
    {
      "cell_type": "code",
      "source": [
        "X[[\"ward\"]] = X[[\"ward\"]].astype(object)"
      ],
      "metadata": {
        "id": "SctC84PtWApu"
      },
      "execution_count": null,
      "outputs": []
    },
    {
      "cell_type": "code",
      "source": [
        "# I am giving you the solution but please take note of how one does this!\n",
        "X_numeric_data = X.select_dtypes(include=[np.number])\n",
        "X_categorical_data = X.select_dtypes(exclude=[np.number])"
      ],
      "metadata": {
        "id": "-XpDBDTI-gE_"
      },
      "execution_count": null,
      "outputs": []
    },
    {
      "cell_type": "code",
      "source": [
        "X_numeric_data.shape"
      ],
      "metadata": {
        "id": "fTjcQ4Id_IWB",
        "colab": {
          "base_uri": "https://localhost:8080/"
        },
        "outputId": "4bbee448-5d49-4a83-bf0c-2a8f0dffc0e8"
      },
      "execution_count": null,
      "outputs": [
        {
          "output_type": "execute_result",
          "data": {
            "text/plain": [
              "(1455, 14)"
            ]
          },
          "metadata": {},
          "execution_count": 30
        }
      ]
    },
    {
      "cell_type": "code",
      "source": [
        "X_numeric_data.head() ## is there anything suspicious? anything thas is in fact **not** a numerical variable? that will depend on how you did in TASK 1"
      ],
      "metadata": {
        "id": "_3qPUKno_aXS",
        "colab": {
          "base_uri": "https://localhost:8080/",
          "height": 270
        },
        "outputId": "75db3f6c-858c-43f9-d34c-a783115286f6"
      },
      "execution_count": null,
      "outputs": [
        {
          "output_type": "execute_result",
          "data": {
            "text/plain": [
              "   year_built  tax_record_floor_area  reported_gross_floor_area  water_use  \\\n",
              "0        1959                63227.0                    65000.0     6963.5   \n",
              "1        1997               251557.0                   257943.0     8490.0   \n",
              "2        1964               330550.0                   223218.0     8749.1   \n",
              "3        1969               256839.0                   213067.0     5393.8   \n",
              "4        1975               370000.0                   381518.0    10422.6   \n",
              "\n",
              "   electricity_use  natural_gas_use  energy_star_score  site_eui  \\\n",
              "0         633043.8      44274.18307                9.0     101.3   \n",
              "1        5531486.0              NaN               69.0      73.2   \n",
              "2        3863003.0      64143.38666               76.0      87.8   \n",
              "3        2936445.0              NaN               87.0      47.0   \n",
              "4        7345290.0              NaN               85.0      65.7   \n",
              "\n",
              "   weather_norm_site_eui  source_eui  weather_norm_source_eui  \\\n",
              "0                  102.7       175.9                    174.9   \n",
              "1                   73.2       229.8                    229.8   \n",
              "2                   89.0       215.6                    215.0   \n",
              "3                   46.4       147.7                    145.8   \n",
              "4                   65.7       206.3                    206.3   \n",
              "\n",
              "   total_ghg_emissions  total_ghg_emissions_intensity  total_site_energy_KBTU  \n",
              "0                482.9                            7.4               6584500.0  \n",
              "1               2164.4                            8.4              18881427.6  \n",
              "2               1852.2                            8.3              19598540.4  \n",
              "3               1249.2                            5.9              10014149.0  \n",
              "4               2874.1                            7.5              25065732.6  "
            ],
            "text/html": [
              "\n",
              "  <div id=\"df-f45ebfe7-e3d9-48d0-b2cb-c3e6ddcf8ce9\">\n",
              "    <div class=\"colab-df-container\">\n",
              "      <div>\n",
              "<style scoped>\n",
              "    .dataframe tbody tr th:only-of-type {\n",
              "        vertical-align: middle;\n",
              "    }\n",
              "\n",
              "    .dataframe tbody tr th {\n",
              "        vertical-align: top;\n",
              "    }\n",
              "\n",
              "    .dataframe thead th {\n",
              "        text-align: right;\n",
              "    }\n",
              "</style>\n",
              "<table border=\"1\" class=\"dataframe\">\n",
              "  <thead>\n",
              "    <tr style=\"text-align: right;\">\n",
              "      <th></th>\n",
              "      <th>year_built</th>\n",
              "      <th>tax_record_floor_area</th>\n",
              "      <th>reported_gross_floor_area</th>\n",
              "      <th>water_use</th>\n",
              "      <th>electricity_use</th>\n",
              "      <th>natural_gas_use</th>\n",
              "      <th>energy_star_score</th>\n",
              "      <th>site_eui</th>\n",
              "      <th>weather_norm_site_eui</th>\n",
              "      <th>source_eui</th>\n",
              "      <th>weather_norm_source_eui</th>\n",
              "      <th>total_ghg_emissions</th>\n",
              "      <th>total_ghg_emissions_intensity</th>\n",
              "      <th>total_site_energy_KBTU</th>\n",
              "    </tr>\n",
              "  </thead>\n",
              "  <tbody>\n",
              "    <tr>\n",
              "      <th>0</th>\n",
              "      <td>1959</td>\n",
              "      <td>63227.0</td>\n",
              "      <td>65000.0</td>\n",
              "      <td>6963.5</td>\n",
              "      <td>633043.8</td>\n",
              "      <td>44274.18307</td>\n",
              "      <td>9.0</td>\n",
              "      <td>101.3</td>\n",
              "      <td>102.7</td>\n",
              "      <td>175.9</td>\n",
              "      <td>174.9</td>\n",
              "      <td>482.9</td>\n",
              "      <td>7.4</td>\n",
              "      <td>6584500.0</td>\n",
              "    </tr>\n",
              "    <tr>\n",
              "      <th>1</th>\n",
              "      <td>1997</td>\n",
              "      <td>251557.0</td>\n",
              "      <td>257943.0</td>\n",
              "      <td>8490.0</td>\n",
              "      <td>5531486.0</td>\n",
              "      <td>NaN</td>\n",
              "      <td>69.0</td>\n",
              "      <td>73.2</td>\n",
              "      <td>73.2</td>\n",
              "      <td>229.8</td>\n",
              "      <td>229.8</td>\n",
              "      <td>2164.4</td>\n",
              "      <td>8.4</td>\n",
              "      <td>18881427.6</td>\n",
              "    </tr>\n",
              "    <tr>\n",
              "      <th>2</th>\n",
              "      <td>1964</td>\n",
              "      <td>330550.0</td>\n",
              "      <td>223218.0</td>\n",
              "      <td>8749.1</td>\n",
              "      <td>3863003.0</td>\n",
              "      <td>64143.38666</td>\n",
              "      <td>76.0</td>\n",
              "      <td>87.8</td>\n",
              "      <td>89.0</td>\n",
              "      <td>215.6</td>\n",
              "      <td>215.0</td>\n",
              "      <td>1852.2</td>\n",
              "      <td>8.3</td>\n",
              "      <td>19598540.4</td>\n",
              "    </tr>\n",
              "    <tr>\n",
              "      <th>3</th>\n",
              "      <td>1969</td>\n",
              "      <td>256839.0</td>\n",
              "      <td>213067.0</td>\n",
              "      <td>5393.8</td>\n",
              "      <td>2936445.0</td>\n",
              "      <td>NaN</td>\n",
              "      <td>87.0</td>\n",
              "      <td>47.0</td>\n",
              "      <td>46.4</td>\n",
              "      <td>147.7</td>\n",
              "      <td>145.8</td>\n",
              "      <td>1249.2</td>\n",
              "      <td>5.9</td>\n",
              "      <td>10014149.0</td>\n",
              "    </tr>\n",
              "    <tr>\n",
              "      <th>4</th>\n",
              "      <td>1975</td>\n",
              "      <td>370000.0</td>\n",
              "      <td>381518.0</td>\n",
              "      <td>10422.6</td>\n",
              "      <td>7345290.0</td>\n",
              "      <td>NaN</td>\n",
              "      <td>85.0</td>\n",
              "      <td>65.7</td>\n",
              "      <td>65.7</td>\n",
              "      <td>206.3</td>\n",
              "      <td>206.3</td>\n",
              "      <td>2874.1</td>\n",
              "      <td>7.5</td>\n",
              "      <td>25065732.6</td>\n",
              "    </tr>\n",
              "  </tbody>\n",
              "</table>\n",
              "</div>\n",
              "      <button class=\"colab-df-convert\" onclick=\"convertToInteractive('df-f45ebfe7-e3d9-48d0-b2cb-c3e6ddcf8ce9')\"\n",
              "              title=\"Convert this dataframe to an interactive table.\"\n",
              "              style=\"display:none;\">\n",
              "        \n",
              "  <svg xmlns=\"http://www.w3.org/2000/svg\" height=\"24px\"viewBox=\"0 0 24 24\"\n",
              "       width=\"24px\">\n",
              "    <path d=\"M0 0h24v24H0V0z\" fill=\"none\"/>\n",
              "    <path d=\"M18.56 5.44l.94 2.06.94-2.06 2.06-.94-2.06-.94-.94-2.06-.94 2.06-2.06.94zm-11 1L8.5 8.5l.94-2.06 2.06-.94-2.06-.94L8.5 2.5l-.94 2.06-2.06.94zm10 10l.94 2.06.94-2.06 2.06-.94-2.06-.94-.94-2.06-.94 2.06-2.06.94z\"/><path d=\"M17.41 7.96l-1.37-1.37c-.4-.4-.92-.59-1.43-.59-.52 0-1.04.2-1.43.59L10.3 9.45l-7.72 7.72c-.78.78-.78 2.05 0 2.83L4 21.41c.39.39.9.59 1.41.59.51 0 1.02-.2 1.41-.59l7.78-7.78 2.81-2.81c.8-.78.8-2.07 0-2.86zM5.41 20L4 18.59l7.72-7.72 1.47 1.35L5.41 20z\"/>\n",
              "  </svg>\n",
              "      </button>\n",
              "      \n",
              "  <style>\n",
              "    .colab-df-container {\n",
              "      display:flex;\n",
              "      flex-wrap:wrap;\n",
              "      gap: 12px;\n",
              "    }\n",
              "\n",
              "    .colab-df-convert {\n",
              "      background-color: #E8F0FE;\n",
              "      border: none;\n",
              "      border-radius: 50%;\n",
              "      cursor: pointer;\n",
              "      display: none;\n",
              "      fill: #1967D2;\n",
              "      height: 32px;\n",
              "      padding: 0 0 0 0;\n",
              "      width: 32px;\n",
              "    }\n",
              "\n",
              "    .colab-df-convert:hover {\n",
              "      background-color: #E2EBFA;\n",
              "      box-shadow: 0px 1px 2px rgba(60, 64, 67, 0.3), 0px 1px 3px 1px rgba(60, 64, 67, 0.15);\n",
              "      fill: #174EA6;\n",
              "    }\n",
              "\n",
              "    [theme=dark] .colab-df-convert {\n",
              "      background-color: #3B4455;\n",
              "      fill: #D2E3FC;\n",
              "    }\n",
              "\n",
              "    [theme=dark] .colab-df-convert:hover {\n",
              "      background-color: #434B5C;\n",
              "      box-shadow: 0px 1px 3px 1px rgba(0, 0, 0, 0.15);\n",
              "      filter: drop-shadow(0px 1px 2px rgba(0, 0, 0, 0.3));\n",
              "      fill: #FFFFFF;\n",
              "    }\n",
              "  </style>\n",
              "\n",
              "      <script>\n",
              "        const buttonEl =\n",
              "          document.querySelector('#df-f45ebfe7-e3d9-48d0-b2cb-c3e6ddcf8ce9 button.colab-df-convert');\n",
              "        buttonEl.style.display =\n",
              "          google.colab.kernel.accessAllowed ? 'block' : 'none';\n",
              "\n",
              "        async function convertToInteractive(key) {\n",
              "          const element = document.querySelector('#df-f45ebfe7-e3d9-48d0-b2cb-c3e6ddcf8ce9');\n",
              "          const dataTable =\n",
              "            await google.colab.kernel.invokeFunction('convertToInteractive',\n",
              "                                                     [key], {});\n",
              "          if (!dataTable) return;\n",
              "\n",
              "          const docLinkHtml = 'Like what you see? Visit the ' +\n",
              "            '<a target=\"_blank\" href=https://colab.research.google.com/notebooks/data_table.ipynb>data table notebook</a>'\n",
              "            + ' to learn more about interactive tables.';\n",
              "          element.innerHTML = '';\n",
              "          dataTable['output_type'] = 'display_data';\n",
              "          await google.colab.output.renderOutput(dataTable, element);\n",
              "          const docLink = document.createElement('div');\n",
              "          docLink.innerHTML = docLinkHtml;\n",
              "          element.appendChild(docLink);\n",
              "        }\n",
              "      </script>\n",
              "    </div>\n",
              "  </div>\n",
              "  "
            ]
          },
          "metadata": {},
          "execution_count": 31
        }
      ]
    },
    {
      "cell_type": "markdown",
      "source": [
        "Ward is a categorical value. Fixed above."
      ],
      "metadata": {
        "id": "EtP9YOJWVoDE"
      }
    },
    {
      "cell_type": "code",
      "source": [
        "X_categorical_data.shape"
      ],
      "metadata": {
        "id": "4T_3UDYv_Nft",
        "colab": {
          "base_uri": "https://localhost:8080/"
        },
        "outputId": "2ea7055e-783c-425a-bbec-06dfb7f8f74e"
      },
      "execution_count": null,
      "outputs": [
        {
          "output_type": "execute_result",
          "data": {
            "text/plain": [
              "(1455, 7)"
            ]
          },
          "metadata": {},
          "execution_count": 32
        }
      ]
    },
    {
      "cell_type": "markdown",
      "source": [
        "## TASK 2.1: make a scatter plot to assess covariance of numerical variables"
      ],
      "metadata": {
        "id": "l5MLHK6N8Ywm"
      }
    },
    {
      "cell_type": "markdown",
      "source": [
        "### IMPORTANT!! \n",
        "\n",
        "there are going to be some **very** collinear variable - zoom in and chek them out - what are they? You will need to remove variables that are _identical_, because you obviously do not want to imput the data twice in the model - it will not improve the model and it will impact the feature importance analysis.\n",
        "\n",
        "What else looks like it should be removed? \n",
        "\n",
        "**Reason about it and explain your choices in the caption of the figure**\n",
        "\n"
      ],
      "metadata": {
        "id": "ZtXoL_JgF04s"
      }
    },
    {
      "cell_type": "code",
      "source": [
        "# THIS TAKES A LOOOONG TIME! ~10 MINUTES ON COLAB FOR ME\n",
        "# I deleted output by putting it in #, is that what you meant?\n",
        "#sns.pairplot(X_numeric_data)"
      ],
      "metadata": {
        "id": "zsWGebVX80OQ"
      },
      "execution_count": null,
      "outputs": []
    },
    {
      "cell_type": "markdown",
      "source": [
        "I didn't look at the plots as much this time around because a lot of the columns were the same as the ones I'd decided to delete for Chicago. The remaining ones looked useful!"
      ],
      "metadata": {
        "id": "elt8FIJTeRv6"
      }
    },
    {
      "cell_type": "code",
      "source": [
        "# which rows should you drop?\n",
        "X_numeric_data.drop([\"electricity_use\", \"natural_gas_use\", \"energy_star_score\",\n",
        "                     \"site_eui\", \"weather_norm_site_eui\", \"source_eui\",\n",
        "                     \"weather_norm_source_eui\", \"total_ghg_emissions\",\n",
        "                     \"total_ghg_emissions_intensity\", \"total_site_energy_KBTU\"],\n",
        "                    axis=1, inplace=True)"
      ],
      "metadata": {
        "colab": {
          "base_uri": "https://localhost:8080/"
        },
        "id": "zH6H4PV1GeqB",
        "outputId": "e928fb34-b92d-40c5-faf6-2688f622f993"
      },
      "execution_count": null,
      "outputs": [
        {
          "output_type": "stream",
          "name": "stderr",
          "text": [
            "/usr/local/lib/python3.7/dist-packages/pandas/core/frame.py:4913: SettingWithCopyWarning: \n",
            "A value is trying to be set on a copy of a slice from a DataFrame\n",
            "\n",
            "See the caveats in the documentation: https://pandas.pydata.org/pandas-docs/stable/user_guide/indexing.html#returning-a-view-versus-a-copy\n",
            "  errors=errors,\n"
          ]
        }
      ]
    },
    {
      "cell_type": "code",
      "source": [
        "X_numeric_data.describe()"
      ],
      "metadata": {
        "id": "oCLGV84IICwN",
        "colab": {
          "base_uri": "https://localhost:8080/",
          "height": 300
        },
        "outputId": "dc7b0a7e-cbeb-4cc9-eb6f-e5f447e78d3e"
      },
      "execution_count": null,
      "outputs": [
        {
          "output_type": "execute_result",
          "data": {
            "text/plain": [
              "        year_built  tax_record_floor_area  reported_gross_floor_area  \\\n",
              "count  1455.000000           1.455000e+03               1.455000e+03   \n",
              "mean   1940.804811           2.046748e+05               1.897612e+05   \n",
              "std     167.230361           2.451302e+05               2.436786e+05   \n",
              "min    1000.000000           9.171000e+03               9.171000e+03   \n",
              "25%    1947.000000           7.164000e+04               7.111750e+04   \n",
              "50%    1971.000000           1.287720e+05               1.215530e+05   \n",
              "75%    1994.000000           2.585310e+05               2.372130e+05   \n",
              "max    2017.000000           3.997572e+06               5.634890e+06   \n",
              "\n",
              "          water_use  \n",
              "count  1.455000e+03  \n",
              "mean   5.109905e+04  \n",
              "std    6.163321e+05  \n",
              "min    0.000000e+00  \n",
              "25%    1.958050e+03  \n",
              "50%    4.063800e+03  \n",
              "75%    7.008700e+03  \n",
              "max    1.929391e+07  "
            ],
            "text/html": [
              "\n",
              "  <div id=\"df-d3dfb4b0-89a3-4999-b915-a9bf678a66d5\">\n",
              "    <div class=\"colab-df-container\">\n",
              "      <div>\n",
              "<style scoped>\n",
              "    .dataframe tbody tr th:only-of-type {\n",
              "        vertical-align: middle;\n",
              "    }\n",
              "\n",
              "    .dataframe tbody tr th {\n",
              "        vertical-align: top;\n",
              "    }\n",
              "\n",
              "    .dataframe thead th {\n",
              "        text-align: right;\n",
              "    }\n",
              "</style>\n",
              "<table border=\"1\" class=\"dataframe\">\n",
              "  <thead>\n",
              "    <tr style=\"text-align: right;\">\n",
              "      <th></th>\n",
              "      <th>year_built</th>\n",
              "      <th>tax_record_floor_area</th>\n",
              "      <th>reported_gross_floor_area</th>\n",
              "      <th>water_use</th>\n",
              "    </tr>\n",
              "  </thead>\n",
              "  <tbody>\n",
              "    <tr>\n",
              "      <th>count</th>\n",
              "      <td>1455.000000</td>\n",
              "      <td>1.455000e+03</td>\n",
              "      <td>1.455000e+03</td>\n",
              "      <td>1.455000e+03</td>\n",
              "    </tr>\n",
              "    <tr>\n",
              "      <th>mean</th>\n",
              "      <td>1940.804811</td>\n",
              "      <td>2.046748e+05</td>\n",
              "      <td>1.897612e+05</td>\n",
              "      <td>5.109905e+04</td>\n",
              "    </tr>\n",
              "    <tr>\n",
              "      <th>std</th>\n",
              "      <td>167.230361</td>\n",
              "      <td>2.451302e+05</td>\n",
              "      <td>2.436786e+05</td>\n",
              "      <td>6.163321e+05</td>\n",
              "    </tr>\n",
              "    <tr>\n",
              "      <th>min</th>\n",
              "      <td>1000.000000</td>\n",
              "      <td>9.171000e+03</td>\n",
              "      <td>9.171000e+03</td>\n",
              "      <td>0.000000e+00</td>\n",
              "    </tr>\n",
              "    <tr>\n",
              "      <th>25%</th>\n",
              "      <td>1947.000000</td>\n",
              "      <td>7.164000e+04</td>\n",
              "      <td>7.111750e+04</td>\n",
              "      <td>1.958050e+03</td>\n",
              "    </tr>\n",
              "    <tr>\n",
              "      <th>50%</th>\n",
              "      <td>1971.000000</td>\n",
              "      <td>1.287720e+05</td>\n",
              "      <td>1.215530e+05</td>\n",
              "      <td>4.063800e+03</td>\n",
              "    </tr>\n",
              "    <tr>\n",
              "      <th>75%</th>\n",
              "      <td>1994.000000</td>\n",
              "      <td>2.585310e+05</td>\n",
              "      <td>2.372130e+05</td>\n",
              "      <td>7.008700e+03</td>\n",
              "    </tr>\n",
              "    <tr>\n",
              "      <th>max</th>\n",
              "      <td>2017.000000</td>\n",
              "      <td>3.997572e+06</td>\n",
              "      <td>5.634890e+06</td>\n",
              "      <td>1.929391e+07</td>\n",
              "    </tr>\n",
              "  </tbody>\n",
              "</table>\n",
              "</div>\n",
              "      <button class=\"colab-df-convert\" onclick=\"convertToInteractive('df-d3dfb4b0-89a3-4999-b915-a9bf678a66d5')\"\n",
              "              title=\"Convert this dataframe to an interactive table.\"\n",
              "              style=\"display:none;\">\n",
              "        \n",
              "  <svg xmlns=\"http://www.w3.org/2000/svg\" height=\"24px\"viewBox=\"0 0 24 24\"\n",
              "       width=\"24px\">\n",
              "    <path d=\"M0 0h24v24H0V0z\" fill=\"none\"/>\n",
              "    <path d=\"M18.56 5.44l.94 2.06.94-2.06 2.06-.94-2.06-.94-.94-2.06-.94 2.06-2.06.94zm-11 1L8.5 8.5l.94-2.06 2.06-.94-2.06-.94L8.5 2.5l-.94 2.06-2.06.94zm10 10l.94 2.06.94-2.06 2.06-.94-2.06-.94-.94-2.06-.94 2.06-2.06.94z\"/><path d=\"M17.41 7.96l-1.37-1.37c-.4-.4-.92-.59-1.43-.59-.52 0-1.04.2-1.43.59L10.3 9.45l-7.72 7.72c-.78.78-.78 2.05 0 2.83L4 21.41c.39.39.9.59 1.41.59.51 0 1.02-.2 1.41-.59l7.78-7.78 2.81-2.81c.8-.78.8-2.07 0-2.86zM5.41 20L4 18.59l7.72-7.72 1.47 1.35L5.41 20z\"/>\n",
              "  </svg>\n",
              "      </button>\n",
              "      \n",
              "  <style>\n",
              "    .colab-df-container {\n",
              "      display:flex;\n",
              "      flex-wrap:wrap;\n",
              "      gap: 12px;\n",
              "    }\n",
              "\n",
              "    .colab-df-convert {\n",
              "      background-color: #E8F0FE;\n",
              "      border: none;\n",
              "      border-radius: 50%;\n",
              "      cursor: pointer;\n",
              "      display: none;\n",
              "      fill: #1967D2;\n",
              "      height: 32px;\n",
              "      padding: 0 0 0 0;\n",
              "      width: 32px;\n",
              "    }\n",
              "\n",
              "    .colab-df-convert:hover {\n",
              "      background-color: #E2EBFA;\n",
              "      box-shadow: 0px 1px 2px rgba(60, 64, 67, 0.3), 0px 1px 3px 1px rgba(60, 64, 67, 0.15);\n",
              "      fill: #174EA6;\n",
              "    }\n",
              "\n",
              "    [theme=dark] .colab-df-convert {\n",
              "      background-color: #3B4455;\n",
              "      fill: #D2E3FC;\n",
              "    }\n",
              "\n",
              "    [theme=dark] .colab-df-convert:hover {\n",
              "      background-color: #434B5C;\n",
              "      box-shadow: 0px 1px 3px 1px rgba(0, 0, 0, 0.15);\n",
              "      filter: drop-shadow(0px 1px 2px rgba(0, 0, 0, 0.3));\n",
              "      fill: #FFFFFF;\n",
              "    }\n",
              "  </style>\n",
              "\n",
              "      <script>\n",
              "        const buttonEl =\n",
              "          document.querySelector('#df-d3dfb4b0-89a3-4999-b915-a9bf678a66d5 button.colab-df-convert');\n",
              "        buttonEl.style.display =\n",
              "          google.colab.kernel.accessAllowed ? 'block' : 'none';\n",
              "\n",
              "        async function convertToInteractive(key) {\n",
              "          const element = document.querySelector('#df-d3dfb4b0-89a3-4999-b915-a9bf678a66d5');\n",
              "          const dataTable =\n",
              "            await google.colab.kernel.invokeFunction('convertToInteractive',\n",
              "                                                     [key], {});\n",
              "          if (!dataTable) return;\n",
              "\n",
              "          const docLinkHtml = 'Like what you see? Visit the ' +\n",
              "            '<a target=\"_blank\" href=https://colab.research.google.com/notebooks/data_table.ipynb>data table notebook</a>'\n",
              "            + ' to learn more about interactive tables.';\n",
              "          element.innerHTML = '';\n",
              "          dataTable['output_type'] = 'display_data';\n",
              "          await google.colab.output.renderOutput(dataTable, element);\n",
              "          const docLink = document.createElement('div');\n",
              "          docLink.innerHTML = docLinkHtml;\n",
              "          element.appendChild(docLink);\n",
              "        }\n",
              "      </script>\n",
              "    </div>\n",
              "  </div>\n",
              "  "
            ]
          },
          "metadata": {},
          "execution_count": 35
        }
      ]
    },
    {
      "cell_type": "code",
      "source": [
        "# this does not have to be identical to my output as you may have dropped different variables\n",
        "print(\"there are (rows, columns) = \", X_numeric_data.shape, \"in the numerical variables\")"
      ],
      "metadata": {
        "colab": {
          "base_uri": "https://localhost:8080/"
        },
        "id": "cbChlcXUG2rI",
        "outputId": "74fbc679-65b3-441f-8f5f-cb514e29e919"
      },
      "execution_count": null,
      "outputs": [
        {
          "output_type": "stream",
          "name": "stdout",
          "text": [
            "there are (rows, columns) =  (1455, 4) in the numerical variables\n"
          ]
        }
      ]
    },
    {
      "cell_type": "markdown",
      "source": [
        "As they do in the original research https://github.com/Urban-Informatics-Lab/Open-Data-Benchmarking/blob/master/Lasso_RandomForest.Rmd we should transform some variables into their log values \n",
        "\n",
        "their original code (which is in R not in python!) is\n",
        "```\n",
        "x_seattle$log_total_area=log(x_seattle$gross_floor_area_total_SF)\n",
        "x_seattle$log_parking_area=log(x_seattle$gross_floor_area_parking_SF)\n",
        "x_seattle$log_bldg_area=log(x_seattle$gross_floor_area_building_SF)\n",
        "x_seattle$log_area_1=log(x_seattle$gross_floor_area_property_type_first_SF)\n",
        "\n",
        "```\n",
        "the names are a bit different\n"
      ],
      "metadata": {
        "id": "hVYsiqOK8SJp"
      }
    },
    {
      "cell_type": "code",
      "source": [
        "# note: recheck missing values \n",
        "# this is important: after I apply the log function to some variables cause log(0) = -infinity\n",
        "print(\"there are {} missing or infinity values in the numerical data\".format(X_numeric_data.isnull().sum().sum()))"
      ],
      "metadata": {
        "colab": {
          "base_uri": "https://localhost:8080/"
        },
        "id": "_1Zul4fDAiip",
        "outputId": "30415959-f71c-4f61-b0a3-f6991a793a98"
      },
      "execution_count": null,
      "outputs": [
        {
          "output_type": "stream",
          "name": "stdout",
          "text": [
            "there are 0 missing or infinity values in the numerical data\n"
          ]
        }
      ]
    },
    {
      "cell_type": "code",
      "source": [
        "# translated to python\n",
        "X_numeric_data[\"tax_record_floor_area\"] = np.log10(X_numeric_data[\"tax_record_floor_area\"])"
      ],
      "metadata": {
        "id": "ctHl1vEQAG8Z",
        "colab": {
          "base_uri": "https://localhost:8080/"
        },
        "outputId": "fac4bf0c-9d53-42c9-fbf7-9223974153dd"
      },
      "execution_count": null,
      "outputs": [
        {
          "output_type": "stream",
          "name": "stderr",
          "text": [
            "/usr/local/lib/python3.7/dist-packages/ipykernel_launcher.py:2: SettingWithCopyWarning: \n",
            "A value is trying to be set on a copy of a slice from a DataFrame.\n",
            "Try using .loc[row_indexer,col_indexer] = value instead\n",
            "\n",
            "See the caveats in the documentation: https://pandas.pydata.org/pandas-docs/stable/user_guide/indexing.html#returning-a-view-versus-a-copy\n",
            "  \n"
          ]
        }
      ]
    },
    {
      "cell_type": "code",
      "source": [
        "X_numeric_data[\"reported_gross_floor_area\"] = np.log10(X_numeric_data[\"reported_gross_floor_area\"])\n",
        "X_numeric_data[\"water_use\"] = np.log10(X_numeric_data[\"water_use\"])"
      ],
      "metadata": {
        "colab": {
          "base_uri": "https://localhost:8080/"
        },
        "id": "BOEAriU3YV7Z",
        "outputId": "4bc044a5-9fa6-47aa-fc1f-144e4360a625"
      },
      "execution_count": null,
      "outputs": [
        {
          "output_type": "stream",
          "name": "stderr",
          "text": [
            "/usr/local/lib/python3.7/dist-packages/ipykernel_launcher.py:1: SettingWithCopyWarning: \n",
            "A value is trying to be set on a copy of a slice from a DataFrame.\n",
            "Try using .loc[row_indexer,col_indexer] = value instead\n",
            "\n",
            "See the caveats in the documentation: https://pandas.pydata.org/pandas-docs/stable/user_guide/indexing.html#returning-a-view-versus-a-copy\n",
            "  \"\"\"Entry point for launching an IPython kernel.\n",
            "/usr/local/lib/python3.7/dist-packages/pandas/core/arraylike.py:364: RuntimeWarning: divide by zero encountered in log10\n",
            "  result = getattr(ufunc, method)(*inputs, **kwargs)\n",
            "/usr/local/lib/python3.7/dist-packages/ipykernel_launcher.py:2: SettingWithCopyWarning: \n",
            "A value is trying to be set on a copy of a slice from a DataFrame.\n",
            "Try using .loc[row_indexer,col_indexer] = value instead\n",
            "\n",
            "See the caveats in the documentation: https://pandas.pydata.org/pandas-docs/stable/user_guide/indexing.html#returning-a-view-versus-a-copy\n",
            "  \n"
          ]
        }
      ]
    },
    {
      "cell_type": "code",
      "source": [
        "print(\"number of infinite values:\", (np.isinf(X_numeric_data)).sum().sum())"
      ],
      "metadata": {
        "id": "RkNEiGU5vzxz",
        "colab": {
          "base_uri": "https://localhost:8080/"
        },
        "outputId": "9793622d-5bbc-4b58-ba8f-92d63eaffc8a"
      },
      "execution_count": null,
      "outputs": [
        {
          "output_type": "stream",
          "name": "stdout",
          "text": [
            "number of infinite values: 2\n"
          ]
        }
      ]
    },
    {
      "cell_type": "markdown",
      "metadata": {
        "id": "Da-93SxbMFCX"
      },
      "source": [
        "check what happened to missing values: they may have grown! because  log(0) = -infinity - fix infinities replacing them with NaN \n",
        "\n",
        "(in in https://github.com/Urban-Informatics-Lab/Open-Data-Benchmarking/blob/master/Lasso_RandomForest.Rmd they had replaced them with 0 but I object to that)"
      ]
    },
    {
      "cell_type": "code",
      "source": [
        "# this has to return 0 now\n",
        "X_numeric_data.replace(-np.inf, np.nan, inplace=True)\n",
        "print(\"number of infinite values:\", (np.isinf(X_numeric_data)).sum().sum())"
      ],
      "metadata": {
        "colab": {
          "base_uri": "https://localhost:8080/"
        },
        "id": "qRz_WdUVutWc",
        "outputId": "6dad07fe-d05c-46d1-9f8a-e85cc11d8b93"
      },
      "execution_count": null,
      "outputs": [
        {
          "output_type": "stream",
          "name": "stdout",
          "text": [
            "number of infinite values: 0\n"
          ]
        },
        {
          "output_type": "stream",
          "name": "stderr",
          "text": [
            "/usr/local/lib/python3.7/dist-packages/pandas/core/frame.py:5244: SettingWithCopyWarning: \n",
            "A value is trying to be set on a copy of a slice from a DataFrame\n",
            "\n",
            "See the caveats in the documentation: https://pandas.pydata.org/pandas-docs/stable/user_guide/indexing.html#returning-a-view-versus-a-copy\n",
            "  method=method,\n"
          ]
        }
      ]
    },
    {
      "cell_type": "code",
      "source": [
        "print(\"the numerical data contains (rows, columns) = \", X_numeric_data.shape)\n",
        "print(\"there are {} missing values in the numerical data\".format(X_numeric_data.isnull().sum().sum()))"
      ],
      "metadata": {
        "colab": {
          "base_uri": "https://localhost:8080/"
        },
        "id": "hBYQpTJrBZK4",
        "outputId": "32a5f790-56ec-4c15-c743-2258da2711cc"
      },
      "execution_count": null,
      "outputs": [
        {
          "output_type": "stream",
          "name": "stdout",
          "text": [
            "the numerical data contains (rows, columns) =  (1455, 4)\n",
            "there are 2 missing values in the numerical data\n"
          ]
        }
      ]
    },
    {
      "cell_type": "code",
      "source": [
        "#the missing data is in water use\n",
        "X_numeric_data.info()"
      ],
      "metadata": {
        "colab": {
          "base_uri": "https://localhost:8080/"
        },
        "id": "F7DHLRgsZVax",
        "outputId": "f11c76ad-aa8f-4541-85c3-d9c6d0b560d1"
      },
      "execution_count": null,
      "outputs": [
        {
          "output_type": "stream",
          "name": "stdout",
          "text": [
            "<class 'pandas.core.frame.DataFrame'>\n",
            "RangeIndex: 1455 entries, 0 to 1454\n",
            "Data columns (total 4 columns):\n",
            " #   Column                     Non-Null Count  Dtype  \n",
            "---  ------                     --------------  -----  \n",
            " 0   year_built                 1455 non-null   int64  \n",
            " 1   tax_record_floor_area      1455 non-null   float64\n",
            " 2   reported_gross_floor_area  1455 non-null   float64\n",
            " 3   water_use                  1453 non-null   float64\n",
            "dtypes: float64(3), int64(1)\n",
            "memory usage: 45.6 KB\n"
          ]
        }
      ]
    },
    {
      "cell_type": "markdown",
      "source": [
        "\n",
        "you can use `KNNImputer` on the numerical variables, but KNNImputer would fail on categorical variables so you are left with NaNs on categorical variables, which you then need to drop before you run the Random Forest\n",
        "\n",
        "\n",
        "You can impute separately the numerical and categorical variables, the numerical ones with KNNImputer and the categorical ones with SimpleImputer"
      ],
      "metadata": {
        "id": "QbpwzPij5A8z"
      }
    },
    {
      "cell_type": "markdown",
      "metadata": {
        "id": "dfQnS9eVZ7A4"
      },
      "source": [
        "## TASK 2.2 use Nearest Neighbor Imputer to impute missing values in numerical features\n",
        "\n",
        "here we are deviating from the paper. NN imputation is simpler and more common, I think it may be more useful to you in general"
      ]
    },
    {
      "cell_type": "code",
      "metadata": {
        "id": "gNLiSt1fOCz4",
        "colab": {
          "base_uri": "https://localhost:8080/"
        },
        "outputId": "c4c5d6d8-fe9d-473d-bcd1-b3fe7190c230"
      },
      "source": [
        "imputer = KNNImputer()\n",
        "Xn = imputer.fit_transform(X_numeric_data)\n",
        "Xn"
      ],
      "execution_count": null,
      "outputs": [
        {
          "output_type": "execute_result",
          "data": {
            "text/plain": [
              "array([[1959.        ,    4.80090258,    4.81291336,    3.84282758],\n",
              "       [1997.        ,    5.40063641,    5.41152375,    3.92890769],\n",
              "       [1964.        ,    5.51923716,    5.34872921,    3.94196338],\n",
              "       ...,\n",
              "       [2014.        ,    5.29392578,    5.29392578,    4.04451624],\n",
              "       [1979.        ,    6.03952317,    5.161368  ,    4.15285378],\n",
              "       [1994.        ,    5.2799269 ,    5.35218252,    4.11694628]])"
            ]
          },
          "metadata": {},
          "execution_count": 44
        }
      ]
    },
    {
      "cell_type": "markdown",
      "metadata": {
        "id": "mW5GNpU0aFIO"
      },
      "source": [
        "## TASK 2.3 Impute missing categorial variables\n",
        "\n",
        "I didn't have to because none were missing!"
      ]
    },
    {
      "cell_type": "code",
      "source": [
        "print(\"there are {} missing  values in the categorical data\".format(X_categorical_data.isna().sum().sum()))"
      ],
      "metadata": {
        "colab": {
          "base_uri": "https://localhost:8080/"
        },
        "id": "7uwJfqrVZxhs",
        "outputId": "ac8a2d9c-2ef0-4185-d355-b81510344122"
      },
      "execution_count": null,
      "outputs": [
        {
          "output_type": "stream",
          "name": "stdout",
          "text": [
            "there are 0 missing  values in the categorical data\n"
          ]
        }
      ]
    },
    {
      "cell_type": "code",
      "source": [
        "X_categorical_data.info()"
      ],
      "metadata": {
        "colab": {
          "base_uri": "https://localhost:8080/"
        },
        "id": "WsILihWAZzCc",
        "outputId": "98602011-0434-456d-a491-132c0a3a4af2"
      },
      "execution_count": null,
      "outputs": [
        {
          "output_type": "stream",
          "name": "stdout",
          "text": [
            "<class 'pandas.core.frame.DataFrame'>\n",
            "RangeIndex: 1455 entries, 0 to 1454\n",
            "Data columns (total 7 columns):\n",
            " #   Column                Non-Null Count  Dtype \n",
            "---  ------                --------------  ----- \n",
            " 0   report_status         1455 non-null   object\n",
            " 1   ward                  1455 non-null   object\n",
            " 2   postal_code           1455 non-null   object\n",
            " 3   primary_ptype_self    1455 non-null   object\n",
            " 4   primary_ptype_epa     1455 non-null   object\n",
            " 5   metered_areas_energy  1455 non-null   object\n",
            " 6   metered_areas_water   1455 non-null   object\n",
            "dtypes: object(7)\n",
            "memory usage: 79.7+ KB\n"
          ]
        }
      ]
    },
    {
      "cell_type": "markdown",
      "source": [
        "# TASK 3 One Hot Encode the Categorical Variables\n",
        "\n",
        "Hint: Once you have done the fit and the transformation, which gives you the transformed data according to the new encoding, what you get is normally a sparse matrix. In principle there is an argument `sparse` to `OneHotEncoder` which should prevent this and give you a dense matrix, which is much easier to handle (consider asking me or looking up what is a sparse matrix!). That attribute did not work for me so once I applied the new encoding I converted the result to a dense matrix as \n",
        "`Xc = Xc.todense()`\n",
        "\n",
        "Finally, you will need to use a specific method to get the new names of the variables. Its a method of your model (which I called ohe below) and you can find it in this page here https://scikit-learn.org/stable/modules/generated/sklearn.preprocessing.OneHotEncoder.html"
      ],
      "metadata": {
        "id": "7ryRb65ux_rX"
      }
    },
    {
      "cell_type": "code",
      "source": [
        "X_categorical_data.describe()"
      ],
      "metadata": {
        "colab": {
          "base_uri": "https://localhost:8080/",
          "height": 175
        },
        "id": "TdW9a2K7zzey",
        "outputId": "93e44491-e670-48ea-ab78-7d902f1a4cf6"
      },
      "execution_count": null,
      "outputs": [
        {
          "output_type": "execute_result",
          "data": {
            "text/plain": [
              "        report_status  ward postal_code primary_ptype_self  \\\n",
              "count            1455  1455        1455               1455   \n",
              "unique              2     8          52                 45   \n",
              "top     In Compliance     2       20005             Office   \n",
              "freq             1411   638         139                490   \n",
              "\n",
              "          primary_ptype_epa metered_areas_energy metered_areas_water  \n",
              "count                  1455                 1455                1455  \n",
              "unique                   45                    3                   3  \n",
              "top     Multifamily Housing       Whole Building      Whole Building  \n",
              "freq                    485                 1434                1434  "
            ],
            "text/html": [
              "\n",
              "  <div id=\"df-6f2199cc-6347-44be-8398-b303a7643695\">\n",
              "    <div class=\"colab-df-container\">\n",
              "      <div>\n",
              "<style scoped>\n",
              "    .dataframe tbody tr th:only-of-type {\n",
              "        vertical-align: middle;\n",
              "    }\n",
              "\n",
              "    .dataframe tbody tr th {\n",
              "        vertical-align: top;\n",
              "    }\n",
              "\n",
              "    .dataframe thead th {\n",
              "        text-align: right;\n",
              "    }\n",
              "</style>\n",
              "<table border=\"1\" class=\"dataframe\">\n",
              "  <thead>\n",
              "    <tr style=\"text-align: right;\">\n",
              "      <th></th>\n",
              "      <th>report_status</th>\n",
              "      <th>ward</th>\n",
              "      <th>postal_code</th>\n",
              "      <th>primary_ptype_self</th>\n",
              "      <th>primary_ptype_epa</th>\n",
              "      <th>metered_areas_energy</th>\n",
              "      <th>metered_areas_water</th>\n",
              "    </tr>\n",
              "  </thead>\n",
              "  <tbody>\n",
              "    <tr>\n",
              "      <th>count</th>\n",
              "      <td>1455</td>\n",
              "      <td>1455</td>\n",
              "      <td>1455</td>\n",
              "      <td>1455</td>\n",
              "      <td>1455</td>\n",
              "      <td>1455</td>\n",
              "      <td>1455</td>\n",
              "    </tr>\n",
              "    <tr>\n",
              "      <th>unique</th>\n",
              "      <td>2</td>\n",
              "      <td>8</td>\n",
              "      <td>52</td>\n",
              "      <td>45</td>\n",
              "      <td>45</td>\n",
              "      <td>3</td>\n",
              "      <td>3</td>\n",
              "    </tr>\n",
              "    <tr>\n",
              "      <th>top</th>\n",
              "      <td>In Compliance</td>\n",
              "      <td>2</td>\n",
              "      <td>20005</td>\n",
              "      <td>Office</td>\n",
              "      <td>Multifamily Housing</td>\n",
              "      <td>Whole Building</td>\n",
              "      <td>Whole Building</td>\n",
              "    </tr>\n",
              "    <tr>\n",
              "      <th>freq</th>\n",
              "      <td>1411</td>\n",
              "      <td>638</td>\n",
              "      <td>139</td>\n",
              "      <td>490</td>\n",
              "      <td>485</td>\n",
              "      <td>1434</td>\n",
              "      <td>1434</td>\n",
              "    </tr>\n",
              "  </tbody>\n",
              "</table>\n",
              "</div>\n",
              "      <button class=\"colab-df-convert\" onclick=\"convertToInteractive('df-6f2199cc-6347-44be-8398-b303a7643695')\"\n",
              "              title=\"Convert this dataframe to an interactive table.\"\n",
              "              style=\"display:none;\">\n",
              "        \n",
              "  <svg xmlns=\"http://www.w3.org/2000/svg\" height=\"24px\"viewBox=\"0 0 24 24\"\n",
              "       width=\"24px\">\n",
              "    <path d=\"M0 0h24v24H0V0z\" fill=\"none\"/>\n",
              "    <path d=\"M18.56 5.44l.94 2.06.94-2.06 2.06-.94-2.06-.94-.94-2.06-.94 2.06-2.06.94zm-11 1L8.5 8.5l.94-2.06 2.06-.94-2.06-.94L8.5 2.5l-.94 2.06-2.06.94zm10 10l.94 2.06.94-2.06 2.06-.94-2.06-.94-.94-2.06-.94 2.06-2.06.94z\"/><path d=\"M17.41 7.96l-1.37-1.37c-.4-.4-.92-.59-1.43-.59-.52 0-1.04.2-1.43.59L10.3 9.45l-7.72 7.72c-.78.78-.78 2.05 0 2.83L4 21.41c.39.39.9.59 1.41.59.51 0 1.02-.2 1.41-.59l7.78-7.78 2.81-2.81c.8-.78.8-2.07 0-2.86zM5.41 20L4 18.59l7.72-7.72 1.47 1.35L5.41 20z\"/>\n",
              "  </svg>\n",
              "      </button>\n",
              "      \n",
              "  <style>\n",
              "    .colab-df-container {\n",
              "      display:flex;\n",
              "      flex-wrap:wrap;\n",
              "      gap: 12px;\n",
              "    }\n",
              "\n",
              "    .colab-df-convert {\n",
              "      background-color: #E8F0FE;\n",
              "      border: none;\n",
              "      border-radius: 50%;\n",
              "      cursor: pointer;\n",
              "      display: none;\n",
              "      fill: #1967D2;\n",
              "      height: 32px;\n",
              "      padding: 0 0 0 0;\n",
              "      width: 32px;\n",
              "    }\n",
              "\n",
              "    .colab-df-convert:hover {\n",
              "      background-color: #E2EBFA;\n",
              "      box-shadow: 0px 1px 2px rgba(60, 64, 67, 0.3), 0px 1px 3px 1px rgba(60, 64, 67, 0.15);\n",
              "      fill: #174EA6;\n",
              "    }\n",
              "\n",
              "    [theme=dark] .colab-df-convert {\n",
              "      background-color: #3B4455;\n",
              "      fill: #D2E3FC;\n",
              "    }\n",
              "\n",
              "    [theme=dark] .colab-df-convert:hover {\n",
              "      background-color: #434B5C;\n",
              "      box-shadow: 0px 1px 3px 1px rgba(0, 0, 0, 0.15);\n",
              "      filter: drop-shadow(0px 1px 2px rgba(0, 0, 0, 0.3));\n",
              "      fill: #FFFFFF;\n",
              "    }\n",
              "  </style>\n",
              "\n",
              "      <script>\n",
              "        const buttonEl =\n",
              "          document.querySelector('#df-6f2199cc-6347-44be-8398-b303a7643695 button.colab-df-convert');\n",
              "        buttonEl.style.display =\n",
              "          google.colab.kernel.accessAllowed ? 'block' : 'none';\n",
              "\n",
              "        async function convertToInteractive(key) {\n",
              "          const element = document.querySelector('#df-6f2199cc-6347-44be-8398-b303a7643695');\n",
              "          const dataTable =\n",
              "            await google.colab.kernel.invokeFunction('convertToInteractive',\n",
              "                                                     [key], {});\n",
              "          if (!dataTable) return;\n",
              "\n",
              "          const docLinkHtml = 'Like what you see? Visit the ' +\n",
              "            '<a target=\"_blank\" href=https://colab.research.google.com/notebooks/data_table.ipynb>data table notebook</a>'\n",
              "            + ' to learn more about interactive tables.';\n",
              "          element.innerHTML = '';\n",
              "          dataTable['output_type'] = 'display_data';\n",
              "          await google.colab.output.renderOutput(dataTable, element);\n",
              "          const docLink = document.createElement('div');\n",
              "          docLink.innerHTML = docLinkHtml;\n",
              "          element.appendChild(docLink);\n",
              "        }\n",
              "      </script>\n",
              "    </div>\n",
              "  </div>\n",
              "  "
            ]
          },
          "metadata": {},
          "execution_count": 47
        }
      ]
    },
    {
      "cell_type": "code",
      "metadata": {
        "id": "BJoES_oBQBIl",
        "colab": {
          "base_uri": "https://localhost:8080/"
        },
        "outputId": "2537571a-8ada-40c7-8c9f-6c4eed58c0af"
      },
      "source": [
        "# One Hot Encoding\n",
        "ohe = OneHotEncoder(sparse=False).fit(X_categorical_data)\n",
        "Xc = ohe.transform(X_categorical_data)\n",
        "Xc"
      ],
      "execution_count": null,
      "outputs": [
        {
          "output_type": "execute_result",
          "data": {
            "text/plain": [
              "array([[0., 1., 0., ..., 0., 0., 1.],\n",
              "       [0., 1., 0., ..., 0., 0., 1.],\n",
              "       [0., 1., 0., ..., 0., 0., 1.],\n",
              "       ...,\n",
              "       [0., 1., 0., ..., 0., 0., 1.],\n",
              "       [1., 0., 1., ..., 0., 0., 1.],\n",
              "       [1., 0., 1., ..., 0., 0., 1.]])"
            ]
          },
          "metadata": {},
          "execution_count": 48
        }
      ]
    },
    {
      "cell_type": "code",
      "source": [
        "#get the names of the features after the encoding is done\n",
        "feature_name_cat = ohe.get_feature_names_out()\n",
        "feature_name_cat"
      ],
      "metadata": {
        "id": "IuLhVV3SBlPb",
        "colab": {
          "base_uri": "https://localhost:8080/"
        },
        "outputId": "425226df-ca30-4b5b-ba47-e9febb421172"
      },
      "execution_count": null,
      "outputs": [
        {
          "output_type": "execute_result",
          "data": {
            "text/plain": [
              "array(['report_status_Data under review by DOEE',\n",
              "       'report_status_In Compliance', 'ward_1', 'ward_2', 'ward_3',\n",
              "       'ward_4', 'ward_5', 'ward_6', 'ward_7', 'ward_8',\n",
              "       'postal_code_20001', 'postal_code_20001-2620',\n",
              "       'postal_code_20001-3710', 'postal_code_20002',\n",
              "       'postal_code_20002-3408', 'postal_code_20002-7000',\n",
              "       'postal_code_20003', 'postal_code_20004', 'postal_code_20005',\n",
              "       'postal_code_20005-2806', 'postal_code_20005-3301',\n",
              "       'postal_code_20005-5504', 'postal_code_20006',\n",
              "       'postal_code_200062407', 'postal_code_200063912',\n",
              "       'postal_code_20007', 'postal_code_20008', 'postal_code_20008-1811',\n",
              "       'postal_code_20009', 'postal_code_20010', 'postal_code_20011',\n",
              "       'postal_code_20011-4959', 'postal_code_20012', 'postal_code_20015',\n",
              "       'postal_code_20016', 'postal_code_200163300', 'postal_code_20017',\n",
              "       'postal_code_200171566', 'postal_code_20018',\n",
              "       'postal_code_20018-2505', 'postal_code_20019', 'postal_code_20020',\n",
              "       'postal_code_20024', 'postal_code_200242459', 'postal_code_20032',\n",
              "       'postal_code_20036', 'postal_code_200362103', 'postal_code_20037',\n",
              "       'postal_code_20037-1445', 'postal_code_20049', 'postal_code_20052',\n",
              "       'postal_code_20057', 'postal_code_20059', 'postal_code_20064',\n",
              "       'postal_code_20577', 'postal_code_20590', 'postal_code_20910',\n",
              "       'postal_code_22036', 'postal_code_22048', 'postal_code_22202',\n",
              "       'postal_code_22204', 'postal_code_22209',\n",
              "       'primary_ptype_self_Adult Education',\n",
              "       'primary_ptype_self_College/University',\n",
              "       'primary_ptype_self_Distribution Center',\n",
              "       'primary_ptype_self_Enclosed Mall',\n",
              "       'primary_ptype_self_Financial Office',\n",
              "       'primary_ptype_self_Fire Station',\n",
              "       'primary_ptype_self_Fitness Center/Health Club/Gym',\n",
              "       'primary_ptype_self_Food Service',\n",
              "       'primary_ptype_self_Hospital (General Medical & Surgical)',\n",
              "       'primary_ptype_self_Hotel', 'primary_ptype_self_K-12 School',\n",
              "       'primary_ptype_self_Laboratory', 'primary_ptype_self_Library',\n",
              "       'primary_ptype_self_Manufacturing/Industrial Plant',\n",
              "       'primary_ptype_self_Medical Office',\n",
              "       'primary_ptype_self_Mixed Use Property',\n",
              "       'primary_ptype_self_Movie Theater',\n",
              "       'primary_ptype_self_Multifamily Housing',\n",
              "       'primary_ptype_self_Museum',\n",
              "       'primary_ptype_self_Non-Refrigerated Warehouse',\n",
              "       'primary_ptype_self_Office', 'primary_ptype_self_Other',\n",
              "       'primary_ptype_self_Other - Education',\n",
              "       'primary_ptype_self_Other - Entertainment/Public Assembly',\n",
              "       'primary_ptype_self_Other - Lodging/Residential',\n",
              "       'primary_ptype_self_Other - Mall',\n",
              "       'primary_ptype_self_Other - Public Services',\n",
              "       'primary_ptype_self_Other - Recreation',\n",
              "       'primary_ptype_self_Other - Specialty Hospital',\n",
              "       'primary_ptype_self_Outpatient Rehabilitation/Physical Therapy',\n",
              "       'primary_ptype_self_Performing Arts',\n",
              "       'primary_ptype_self_Police Station',\n",
              "       'primary_ptype_self_Pre-school/Daycare',\n",
              "       'primary_ptype_self_Prison/Incarceration',\n",
              "       'primary_ptype_self_Repair Services (Vehicle Shoe Locksmith etc.)',\n",
              "       'primary_ptype_self_Residence Hall/Dormitory',\n",
              "       'primary_ptype_self_Retail Store',\n",
              "       'primary_ptype_self_Self-Storage Facility',\n",
              "       'primary_ptype_self_Senior Care Community',\n",
              "       'primary_ptype_self_Social/Meeting Hall',\n",
              "       'primary_ptype_self_Strip Mall',\n",
              "       'primary_ptype_self_Supermarket/Grocery Store',\n",
              "       'primary_ptype_self_Urgent Care/Clinic/Other Outpatient',\n",
              "       'primary_ptype_self_Wholesale Club/Supercenter',\n",
              "       'primary_ptype_self_Worship Facility',\n",
              "       'primary_ptype_epa_Adult Education',\n",
              "       'primary_ptype_epa_College/University',\n",
              "       'primary_ptype_epa_Distribution Center',\n",
              "       'primary_ptype_epa_Enclosed Mall',\n",
              "       'primary_ptype_epa_Financial Office',\n",
              "       'primary_ptype_epa_Fire Station',\n",
              "       'primary_ptype_epa_Fitness Center/Health Club/Gym',\n",
              "       'primary_ptype_epa_Food Service',\n",
              "       'primary_ptype_epa_Hospital (General Medical & Surgical)',\n",
              "       'primary_ptype_epa_Hotel', 'primary_ptype_epa_K-12 School',\n",
              "       'primary_ptype_epa_Laboratory', 'primary_ptype_epa_Library',\n",
              "       'primary_ptype_epa_Manufacturing/Industrial Plant',\n",
              "       'primary_ptype_epa_Medical Office',\n",
              "       'primary_ptype_epa_Mixed Use Property',\n",
              "       'primary_ptype_epa_Movie Theater',\n",
              "       'primary_ptype_epa_Multifamily Housing',\n",
              "       'primary_ptype_epa_Museum',\n",
              "       'primary_ptype_epa_Non-Refrigerated Warehouse',\n",
              "       'primary_ptype_epa_Office', 'primary_ptype_epa_Other',\n",
              "       'primary_ptype_epa_Other - Education',\n",
              "       'primary_ptype_epa_Other - Entertainment/Public Assembly',\n",
              "       'primary_ptype_epa_Other - Lodging/Residential',\n",
              "       'primary_ptype_epa_Other - Mall',\n",
              "       'primary_ptype_epa_Other - Public Services',\n",
              "       'primary_ptype_epa_Other - Recreation',\n",
              "       'primary_ptype_epa_Other - Services',\n",
              "       'primary_ptype_epa_Other - Specialty Hospital',\n",
              "       'primary_ptype_epa_Outpatient Rehabilitation/Physical Therapy',\n",
              "       'primary_ptype_epa_Parking', 'primary_ptype_epa_Performing Arts',\n",
              "       'primary_ptype_epa_Police Station',\n",
              "       'primary_ptype_epa_Repair Services (Vehicle Shoe Locksmith etc.)',\n",
              "       'primary_ptype_epa_Residence Hall/Dormitory',\n",
              "       'primary_ptype_epa_Retail Store',\n",
              "       'primary_ptype_epa_Self-Storage Facility',\n",
              "       'primary_ptype_epa_Senior Care Community',\n",
              "       'primary_ptype_epa_Social/Meeting Hall',\n",
              "       'primary_ptype_epa_Strip Mall',\n",
              "       'primary_ptype_epa_Supermarket/Grocery Store',\n",
              "       'primary_ptype_epa_Urgent Care/Clinic/Other Outpatient',\n",
              "       'primary_ptype_epa_Wholesale Club/Supercenter',\n",
              "       'primary_ptype_epa_Worship Facility',\n",
              "       'metered_areas_energy_Another configuration',\n",
              "       'metered_areas_energy_Common areas only',\n",
              "       'metered_areas_energy_Whole Building',\n",
              "       'metered_areas_water_Another configuration',\n",
              "       'metered_areas_water_Combination of common and tenant areas',\n",
              "       'metered_areas_water_Whole Building'], dtype=object)"
            ]
          },
          "metadata": {},
          "execution_count": 49
        }
      ]
    },
    {
      "cell_type": "code",
      "source": [
        "Xc.shape"
      ],
      "metadata": {
        "colab": {
          "base_uri": "https://localhost:8080/"
        },
        "id": "AnepOM3taW3l",
        "outputId": "be7ce384-989a-4ed6-94d6-05e977772e7e"
      },
      "execution_count": null,
      "outputs": [
        {
          "output_type": "execute_result",
          "data": {
            "text/plain": [
              "(1455, 158)"
            ]
          },
          "metadata": {},
          "execution_count": 50
        }
      ]
    },
    {
      "cell_type": "markdown",
      "metadata": {
        "id": "3Wd7WBC6fSSI"
      },
      "source": [
        "# Task 4 recombine your numerical and categorical imput features and split your data into training and testing"
      ]
    },
    {
      "cell_type": "code",
      "metadata": {
        "id": "eq9FKlTgOsvX",
        "outputId": "e26ea36b-2805-4ea6-b206-fa0a4c5532be",
        "colab": {
          "base_uri": "https://localhost:8080/"
        }
      },
      "source": [
        "Xn.shape"
      ],
      "execution_count": null,
      "outputs": [
        {
          "output_type": "execute_result",
          "data": {
            "text/plain": [
              "(1455, 4)"
            ]
          },
          "metadata": {},
          "execution_count": 51
        }
      ]
    },
    {
      "cell_type": "code",
      "metadata": {
        "id": "ob2Nd1_pTeAx",
        "outputId": "74007a89-c6d3-438d-920d-80c3f43e0be6",
        "colab": {
          "base_uri": "https://localhost:8080/"
        }
      },
      "source": [
        "Xc.shape"
      ],
      "execution_count": null,
      "outputs": [
        {
          "output_type": "execute_result",
          "data": {
            "text/plain": [
              "(1455, 158)"
            ]
          },
          "metadata": {},
          "execution_count": 52
        }
      ]
    },
    {
      "cell_type": "code",
      "metadata": {
        "id": "0taJGPcRTfLN",
        "outputId": "51b3d4fc-3bd5-4cd5-c08f-f44543c382b2",
        "colab": {
          "base_uri": "https://localhost:8080/"
        }
      },
      "source": [
        "X = np.hstack([Xn, Xc])\n",
        "X.shape"
      ],
      "execution_count": null,
      "outputs": [
        {
          "output_type": "execute_result",
          "data": {
            "text/plain": [
              "(1455, 162)"
            ]
          },
          "metadata": {},
          "execution_count": 53
        }
      ]
    },
    {
      "cell_type": "code",
      "source": [
        "print(\"The dataset has {} features (!!!)\".format(X.shape[1]))"
      ],
      "metadata": {
        "colab": {
          "base_uri": "https://localhost:8080/"
        },
        "id": "Q-1tDyqg2HCC",
        "outputId": "43f945f8-13e7-4bce-f207-b8470be1e380"
      },
      "execution_count": null,
      "outputs": [
        {
          "output_type": "stream",
          "name": "stdout",
          "text": [
            "The dataset has 162 features (!!!)\n"
          ]
        }
      ]
    },
    {
      "cell_type": "code",
      "metadata": {
        "id": "WCUUattUUfqR",
        "colab": {
          "base_uri": "https://localhost:8080/"
        },
        "outputId": "ba1e762d-bd46-43d9-ed82-93e122793e4c"
      },
      "source": [
        "# make a train and test dataset\n",
        "X_train, X_test, y_train, y_test = train_test_split(X, y, train_size=0.75, random_state=150)\n",
        "X_train.shape, X_test.shape, y_train.shape, y_test.shape"
      ],
      "execution_count": null,
      "outputs": [
        {
          "output_type": "execute_result",
          "data": {
            "text/plain": [
              "((1091, 162), (364, 162), (1091,), (364,))"
            ]
          },
          "metadata": {},
          "execution_count": 55
        }
      ]
    },
    {
      "cell_type": "markdown",
      "source": [
        "I tried a few different random states to see what the variation was. It was about 0.78 to 0.8."
      ],
      "metadata": {
        "id": "mDY-bfoncC30"
      }
    },
    {
      "cell_type": "markdown",
      "metadata": {
        "id": "ao-6jRG0fdNT"
      },
      "source": [
        "# TASK 5 run a random forest REGRESSION model\n",
        "\n",
        "report the score on the training and test data and identify the most important features"
      ]
    },
    {
      "cell_type": "code",
      "metadata": {
        "id": "kEiFt_htTjNF",
        "outputId": "1ced0c37-30d3-4997-d372-677f1533d102",
        "colab": {
          "base_uri": "https://localhost:8080/"
        }
      },
      "source": [
        "#I tried a few different max depths here.\n",
        "rf = RandomForestRegressor(max_depth=4)\n",
        "rf.fit(X_train, y_train)\n",
        "print(\"accuracy on training data {:.2}\".format(rf.score(X_train, y_train)))"
      ],
      "execution_count": null,
      "outputs": [
        {
          "output_type": "stream",
          "name": "stdout",
          "text": [
            "accuracy on training data 0.79\n"
          ]
        }
      ]
    },
    {
      "cell_type": "markdown",
      "source": [
        "# Model Results and Analysis"
      ],
      "metadata": {
        "id": "q1eoOhpcgldX"
      }
    },
    {
      "cell_type": "code",
      "metadata": {
        "id": "ymTuhJURT8hC",
        "colab": {
          "base_uri": "https://localhost:8080/"
        },
        "outputId": "70cb63f6-ace9-4f42-8551-d386ad804f4c"
      },
      "source": [
        "print (\"the model test accuracy is {:.2}\".format(rf.score(X_test, y_test)))"
      ],
      "execution_count": null,
      "outputs": [
        {
          "output_type": "stream",
          "name": "stdout",
          "text": [
            "the model test accuracy is 0.71\n"
          ]
        }
      ]
    },
    {
      "cell_type": "markdown",
      "source": [
        "Oooh this one has a much worse test vs training performance than my Chicago one!"
      ],
      "metadata": {
        "id": "wAhnxbcLcTq4"
      }
    },
    {
      "cell_type": "code",
      "metadata": {
        "id": "jX2RquwBUT0a",
        "colab": {
          "base_uri": "https://localhost:8080/"
        },
        "outputId": "7c853615-a2ab-46bc-b463-c68943ab63f1"
      },
      "source": [
        "#this is how you see the importance of the features\n",
        "rf.feature_importances_[:10]"
      ],
      "execution_count": null,
      "outputs": [
        {
          "output_type": "execute_result",
          "data": {
            "text/plain": [
              "array([3.83228907e-03, 3.55294400e-02, 8.70496314e-01, 1.22592178e-02,\n",
              "       2.55860737e-03, 1.90352500e-03, 7.64522800e-04, 7.15264096e-04,\n",
              "       0.00000000e+00, 0.00000000e+00])"
            ]
          },
          "metadata": {},
          "execution_count": 58
        }
      ]
    },
    {
      "cell_type": "code",
      "source": [
        "# One thing I tried\n",
        "#feature_names = list(X_train.columns.values)"
      ],
      "metadata": {
        "id": "svSq08IAhRUq"
      },
      "execution_count": null,
      "outputs": []
    },
    {
      "cell_type": "code",
      "source": [
        "# making updated array of feature/column names (numeric then categorical)\n",
        "columns = np.concatenate([X_numeric_data.columns, feature_name_cat])\n",
        "#columns"
      ],
      "metadata": {
        "id": "L2jT9ZgYfQwQ"
      },
      "execution_count": null,
      "outputs": []
    },
    {
      "cell_type": "code",
      "source": [
        "#creating an index of rankings of feature importances\n",
        "sorted_idx = np.argsort(rf.feature_importances_)"
      ],
      "metadata": {
        "id": "GI7G-Oc3fTa-"
      },
      "execution_count": null,
      "outputs": []
    },
    {
      "cell_type": "code",
      "source": [
        "sorted_column_names = columns[sorted_idx]"
      ],
      "metadata": {
        "id": "i6T2yhfUfX4h"
      },
      "execution_count": null,
      "outputs": []
    },
    {
      "cell_type": "code",
      "source": [
        "len(columns)"
      ],
      "metadata": {
        "colab": {
          "base_uri": "https://localhost:8080/"
        },
        "id": "E1Qh9sR_gZfr",
        "outputId": "33cfd54c-caf7-4477-e086-d0116897df68"
      },
      "execution_count": null,
      "outputs": [
        {
          "output_type": "execute_result",
          "data": {
            "text/plain": [
              "162"
            ]
          },
          "metadata": {},
          "execution_count": 65
        }
      ]
    },
    {
      "cell_type": "code",
      "metadata": {
        "id": "jO9F9bMRUYgU",
        "outputId": "3768b1a6-9500-44d0-9ae2-255c01924588",
        "colab": {
          "base_uri": "https://localhost:8080/",
          "height": 1000
        }
      },
      "source": [
        "# plot the top ~50 features\n",
        "y_ticks = np.arange(0, len(columns))\n",
        "fig, ax = plt.subplots(figsize=(10,20))\n",
        "ax.barh(y_ticks, rf.feature_importances_[sorted_idx])\n",
        "ax.set_yticklabels(sorted_column_names)\n",
        "ax.set_yticks(y_ticks)\n",
        "ax.set_title(\"Random Forest Feature Importances (MDI)\")\n",
        "fig.tight_layout()\n",
        "ax.set_ylim(112, len(columns))\n",
        "plt.show()"
      ],
      "execution_count": null,
      "outputs": [
        {
          "output_type": "display_data",
          "data": {
            "text/plain": [
              "<Figure size 720x1440 with 1 Axes>"
            ],
            "image/png": "[encoded data removed]"
          },
          "metadata": {
            "needs_background": "light"
          }
        }
      ]
    },
    {
      "cell_type": "markdown",
      "source": [
        "## Conclusion\n",
        "\n",
        "Like in Chicago and the authors' findings, building area is important! It looks like my findings are pretty similar to the authors'. I'm not actually sure what tax recorded area is...is it a variation on the same data or taxable area? Unlike Chicago, this one has water use, and I think the metered water variable is the one the authors said can serve as a proxy for conditioned/frequently used by people areas. Unlike Chicago, churches and grocery stores don't show up as important here--were they outweighed by other variables? Museums do--DC does have a lot of big museums, so maybe they appear enough in the data to stand out.\n",
        "\n",
        "I looked up zip codes 20059 and 20024. 20059 is pretty small but has some of Howard University and a stadium. 20024 has a lot of greenspace, but it's next to Capitol Hill and the Mall and incorporates the Smithsonian. Based on the museums variable, I wonder if the large amount of museums make it stand out? Are museums really that much bigger energy hogs than huge office buildings?"
      ],
      "metadata": {
        "id": "yix2Hukmgqku"
      }
    },
    {
      "cell_type": "markdown",
      "metadata": {
        "id": "XZxr_mNXV5QB"
      },
      "source": [
        "# useful links and methods and functions I used: \n",
        "\n",
        "```df.dropna()``` to remove observation with missing variables\n",
        "\n",
        "```df.drop(columns, axis=1)``` to remove features (columns)\n",
        "\n",
        "\n",
        "```np.log10()``` and ```np.isinf()``` to convert to log space and find infinite values  \n",
        "\n",
        "`np.hstack([X1, X2])` to concatenate two arrays\n"
      ]
    },
    {
      "cell_type": "markdown",
      "metadata": {
        "id": "glzZInBSoLjW"
      },
      "source": [
        "one hot encoder https://scikit-learn.org/stable/modules/generated/sklearn.preprocessing.OneHotEncoder.html and https://stackabuse.com/one-hot-encoding-in-python-with-pandas-and-scikit-learn/\n"
      ]
    },
    {
      "cell_type": "markdown",
      "metadata": {
        "id": "c9_0ZFaGqRj1"
      },
      "source": [
        "KNN imputer https://scikit-learn.org/stable/modules/generated/sklearn.impute.KNNImputer.html , https://www.analyticsvidhya.com/blog/2020/07/knnimputer-a-robust-way-to-impute-missing-values-using-scikit-learn/, and \n",
        "https://machinelearningmastery.com/knn-imputation-for-missing-values-in-machine-learning/  "
      ]
    },
    {
      "cell_type": "code",
      "metadata": {
        "id": "bKLcYpBcqggC"
      },
      "source": [],
      "execution_count": null,
      "outputs": []
    }
  ]
}