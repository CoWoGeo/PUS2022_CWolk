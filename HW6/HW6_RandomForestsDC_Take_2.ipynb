{
  "nbformat": 4,
  "nbformat_minor": 0,
  "metadata": {
    "colab": {
      "provenance": [],
      "collapsed_sections": [
        "q1eoOhpcgldX",
        "yix2Hukmgqku",
        "XZxr_mNXV5QB"
      ],
      "include_colab_link": true
    },
    "kernelspec": {
      "name": "python3",
      "display_name": "Python 3"
    }
  },
  "cells": [
    {
      "cell_type": "markdown",
      "metadata": {
        "id": "view-in-github",
        "colab_type": "text"
      },
      "source": [
        "<a href=\"https://colab.research.google.com/github/CoWoGeo/PUS2022_CWolk/blob/main/HW6/HW6_RandomForestsDC_Take_2.ipynb\" target=\"_parent\"><img src=\"https://colab.research.google.com/assets/colab-badge.svg\" alt=\"Open In Colab\"/></a>"
      ]
    },
    {
      "cell_type": "markdown",
      "source": [
        "# Analyzing Washington, DC Building Data"
      ],
      "metadata": {
        "id": "Zhuk1CxlfELX"
      }
    },
    {
      "cell_type": "markdown",
      "metadata": {
        "id": "KW9Oy459fxHz"
      },
      "source": [
        "Following the paper \"Examining the feasibility of using open data to benchmark building energy usage in cities: A data science and policy perspective\" [Roth et al 2019](https://www.researchgate.net/publication/337074109_Examining_the_feasibility_of_using_open_data_to_benchmark_building_energy_usage_in_cities_A_data_science_and_policy_perspective), choose 2 cities in the dataset available through the paper's github repository https://github.com/Urban-Informatics-Lab/Open-Data-Benchmarking\n",
        "\n",
        "This paper is an excellent example of reproducible research. \n",
        "\n",
        "I also created an example of using random forest classifier and regressors here https://github.com/fedhere/PUS2022_FBianco/blob/master/classdemo/COVID19LOS_featureExtractionRFexample.ipynb and there are links at the bottom of this notebook to useful functions and examples on the internet of applications of methods you will need to use.\n",
        "\n",
        "1. Read the introduction to the paper and describe here (briefly) the goals of their analysis (and the analysis that you are about to reproduce). Max 200 words.\n",
        "2. Choose 2 cities (any 2 cities except Seattle cause I am running some of the Seattle analysis below for guidance)\n",
        "3. For each of the 2 cities reproduce their analysis by \n",
        "\n",
        "  3.1 gathering the original data from their repository (see below for Seattle example)\n",
        "\n",
        "  3.2 clean the data according to their data preparation scheme, including one-hot-encoding categorical variables, except to impute missing data using KNearestNeighors instead of Gibbs sampling (see below)\n",
        "\n",
        "  3.3 run a Random Forest (RF) Regressor to predict the total energy consumption.\n",
        "\n",
        "  3.4 evaluate the RF model performance by printing the R2 score (the default score in SKLearn RF) for training and test set (discuss)\n",
        "\n",
        "  3.5 plot the features sorted by their importance and identify the most important features. are they consistent between the 2 cities? are they consistent with the paper's result?\n",
        "4 compare the result for the 2 cities (discuss)\n",
        "\n",
        "5. Extra credit: \n",
        "\n",
        "  5.1 modify the target variable to a binary variable choosing the median of the variable values as the the energy threshold and predict whether the value is higher or lower than the threshold\n",
        "  5.2 Run a Random Forest Classifier to predict if an observation is in the upper 50% percentile or lower 50% percentile (above or below the median threshold)\n",
        "  5.3 Measure the performance of the model on training and test data\n",
        "  5.4 Measure the feature importance and assess if the important feature have changed (discuss)"
      ]
    },
    {
      "cell_type": "code",
      "metadata": {
        "id": "EVupHHIYHuUK"
      },
      "source": [
        "import pandas as pd\n",
        "import numpy as np"
      ],
      "execution_count": 1,
      "outputs": []
    },
    {
      "cell_type": "code",
      "source": [
        "import pylab as plt"
      ],
      "metadata": {
        "id": "EKnXov4ud40f"
      },
      "execution_count": 2,
      "outputs": []
    },
    {
      "cell_type": "code",
      "source": [
        "import seaborn as sns"
      ],
      "metadata": {
        "id": "up1qUfMmd_s4"
      },
      "execution_count": 3,
      "outputs": []
    },
    {
      "cell_type": "code",
      "source": [
        "# for imputing data\n",
        "from sklearn.impute import KNNImputer"
      ],
      "metadata": {
        "id": "WJUy2G5ne3it"
      },
      "execution_count": 4,
      "outputs": []
    },
    {
      "cell_type": "code",
      "source": [
        "# for one-hot encoding\n",
        "from sklearn.preprocessing import OneHotEncoder\n",
        "# for train-test split\n",
        "from sklearn.model_selection import train_test_split\n",
        "# for random forests\n",
        "from sklearn.ensemble import RandomForestRegressor"
      ],
      "metadata": {
        "id": "BqoYZg-deidN"
      },
      "execution_count": 5,
      "outputs": []
    },
    {
      "cell_type": "markdown",
      "metadata": {
        "id": "5Wia-RaAXtJC"
      },
      "source": [
        "# Reading in DC Data"
      ]
    },
    {
      "cell_type": "code",
      "metadata": {
        "id": "hmVzVH0dHwP1"
      },
      "source": [
        "dc = pd.read_csv(\"https://github.com/Urban-Informatics-Lab/Open-Data-Benchmarking/raw/master/DC/2016%20Energy%20and%20Water%20Performance%20Benchmarking%20Results%20as%20of%2009-07-2017.csv\")"
      ],
      "execution_count": 6,
      "outputs": []
    },
    {
      "cell_type": "markdown",
      "metadata": {
        "id": "2U-1HZY2Xodw"
      },
      "source": [
        "# inspect the dataframe"
      ]
    },
    {
      "cell_type": "code",
      "source": [
        "print(\"there are (rows, columns) = \", (dc.shape), \"in the dataframe\")"
      ],
      "metadata": {
        "colab": {
          "base_uri": "https://localhost:8080/"
        },
        "id": "DRht35FE95Ar",
        "outputId": "e1d92d2a-292b-4809-d32a-9a220e3edd07"
      },
      "execution_count": 7,
      "outputs": [
        {
          "output_type": "stream",
          "name": "stdout",
          "text": [
            "there are (rows, columns) =  (2181, 36) in the dataframe\n"
          ]
        }
      ]
    },
    {
      "cell_type": "code",
      "metadata": {
        "id": "aqrv8eULHxte",
        "outputId": "1e5fcc10-bb75-4737-9d0b-8df99d014972",
        "colab": {
          "base_uri": "https://localhost:8080/",
          "height": 364
        }
      },
      "source": [
        "dc.describe()"
      ],
      "execution_count": 8,
      "outputs": [
        {
          "output_type": "execute_result",
          "data": {
            "text/plain": [
              "             pm_pid         ward   year_built  tax_record_floor_area  \\\n",
              "count  1.574000e+03  1844.000000  2153.000000           2.181000e+03   \n",
              "mean   3.477316e+06     3.387202  1933.421273           2.009089e+05   \n",
              "std    1.151670e+06     1.996951   223.684123           2.447139e+05   \n",
              "min    2.214000e+03     1.000000     0.000000           9.171000e+03   \n",
              "25%    3.300369e+06     2.000000  1942.000000           7.044300e+04   \n",
              "50%    3.617946e+06     2.000000  1969.000000           1.213110e+05   \n",
              "75%    4.066820e+06     5.000000  1997.000000           2.488440e+05   \n",
              "max    5.939893e+06     8.000000  2017.000000           3.997572e+06   \n",
              "\n",
              "       reported_gross_floor_area  energy_star_score  total_ghg_emissions  \\\n",
              "count               1.521000e+03        1209.000000          1519.000000   \n",
              "mean                1.876181e+05          61.207610          1397.998947   \n",
              "std                 2.431177e+05          27.486072          2790.536339   \n",
              "min                 5.982000e+03           1.000000             0.000000   \n",
              "25%                 6.960000e+04          42.000000           390.300000   \n",
              "50%                 1.194700e+05          69.000000           755.400000   \n",
              "75%                 2.332170e+05          84.000000          1565.150000   \n",
              "max                 5.634890e+06         100.000000         64992.500000   \n",
              "\n",
              "       total_ghg_emissions_intensity     water_use  electricity_use  \\\n",
              "count                    1519.000000  1.311000e+03     1.482000e+03   \n",
              "mean                        7.221922  5.582172e+04     3.041003e+06   \n",
              "std                         6.886701  6.498499e+05     6.584801e+06   \n",
              "min                         0.000000  0.000000e+00     0.000000e+00   \n",
              "25%                         4.800000  2.114100e+03     7.495754e+05   \n",
              "50%                         6.300000  4.160100e+03     1.656484e+06   \n",
              "75%                         7.900000  7.286700e+03     3.491451e+06   \n",
              "max                       134.400000  1.929391e+07     1.661020e+08   \n",
              "\n",
              "       natural_gas_use      fuel_use  district_water_use     latitude  \\\n",
              "count     1.087000e+03  6.600000e+01        1.700000e+01  1954.000000   \n",
              "mean      6.745484e+04  1.133411e+06       -1.261140e+07    38.908558   \n",
              "std       2.975285e+05  2.171472e+06        9.224563e+07     0.025003   \n",
              "min       0.000000e+00  2.097600e+03       -3.685268e+08    38.813539   \n",
              "25%       1.115681e+04  2.461230e+04        7.908049e+05    38.898739   \n",
              "50%       2.791756e+04  1.952242e+05        5.512830e+06    38.905369   \n",
              "75%       5.286096e+04  1.371327e+06        1.457592e+07    38.922848   \n",
              "max       7.269109e+06  1.275372e+07        3.101497e+07    38.984554   \n",
              "\n",
              "         longitude  \n",
              "count  1954.000000  \n",
              "mean    -77.025736  \n",
              "std       0.031201  \n",
              "min     -77.107478  \n",
              "25%     -77.044005  \n",
              "50%     -77.031106  \n",
              "75%     -77.009371  \n",
              "max     -76.914972  "
            ],
            "text/html": [
              "\n",
              "  <div id=\"df-ca603579-5bf9-4d9f-92ee-dfe4010f9ad0\">\n",
              "    <div class=\"colab-df-container\">\n",
              "      <div>\n",
              "<style scoped>\n",
              "    .dataframe tbody tr th:only-of-type {\n",
              "        vertical-align: middle;\n",
              "    }\n",
              "\n",
              "    .dataframe tbody tr th {\n",
              "        vertical-align: top;\n",
              "    }\n",
              "\n",
              "    .dataframe thead th {\n",
              "        text-align: right;\n",
              "    }\n",
              "</style>\n",
              "<table border=\"1\" class=\"dataframe\">\n",
              "  <thead>\n",
              "    <tr style=\"text-align: right;\">\n",
              "      <th></th>\n",
              "      <th>pm_pid</th>\n",
              "      <th>ward</th>\n",
              "      <th>year_built</th>\n",
              "      <th>tax_record_floor_area</th>\n",
              "      <th>reported_gross_floor_area</th>\n",
              "      <th>energy_star_score</th>\n",
              "      <th>total_ghg_emissions</th>\n",
              "      <th>total_ghg_emissions_intensity</th>\n",
              "      <th>water_use</th>\n",
              "      <th>electricity_use</th>\n",
              "      <th>natural_gas_use</th>\n",
              "      <th>fuel_use</th>\n",
              "      <th>district_water_use</th>\n",
              "      <th>latitude</th>\n",
              "      <th>longitude</th>\n",
              "    </tr>\n",
              "  </thead>\n",
              "  <tbody>\n",
              "    <tr>\n",
              "      <th>count</th>\n",
              "      <td>1.574000e+03</td>\n",
              "      <td>1844.000000</td>\n",
              "      <td>2153.000000</td>\n",
              "      <td>2.181000e+03</td>\n",
              "      <td>1.521000e+03</td>\n",
              "      <td>1209.000000</td>\n",
              "      <td>1519.000000</td>\n",
              "      <td>1519.000000</td>\n",
              "      <td>1.311000e+03</td>\n",
              "      <td>1.482000e+03</td>\n",
              "      <td>1.087000e+03</td>\n",
              "      <td>6.600000e+01</td>\n",
              "      <td>1.700000e+01</td>\n",
              "      <td>1954.000000</td>\n",
              "      <td>1954.000000</td>\n",
              "    </tr>\n",
              "    <tr>\n",
              "      <th>mean</th>\n",
              "      <td>3.477316e+06</td>\n",
              "      <td>3.387202</td>\n",
              "      <td>1933.421273</td>\n",
              "      <td>2.009089e+05</td>\n",
              "      <td>1.876181e+05</td>\n",
              "      <td>61.207610</td>\n",
              "      <td>1397.998947</td>\n",
              "      <td>7.221922</td>\n",
              "      <td>5.582172e+04</td>\n",
              "      <td>3.041003e+06</td>\n",
              "      <td>6.745484e+04</td>\n",
              "      <td>1.133411e+06</td>\n",
              "      <td>-1.261140e+07</td>\n",
              "      <td>38.908558</td>\n",
              "      <td>-77.025736</td>\n",
              "    </tr>\n",
              "    <tr>\n",
              "      <th>std</th>\n",
              "      <td>1.151670e+06</td>\n",
              "      <td>1.996951</td>\n",
              "      <td>223.684123</td>\n",
              "      <td>2.447139e+05</td>\n",
              "      <td>2.431177e+05</td>\n",
              "      <td>27.486072</td>\n",
              "      <td>2790.536339</td>\n",
              "      <td>6.886701</td>\n",
              "      <td>6.498499e+05</td>\n",
              "      <td>6.584801e+06</td>\n",
              "      <td>2.975285e+05</td>\n",
              "      <td>2.171472e+06</td>\n",
              "      <td>9.224563e+07</td>\n",
              "      <td>0.025003</td>\n",
              "      <td>0.031201</td>\n",
              "    </tr>\n",
              "    <tr>\n",
              "      <th>min</th>\n",
              "      <td>2.214000e+03</td>\n",
              "      <td>1.000000</td>\n",
              "      <td>0.000000</td>\n",
              "      <td>9.171000e+03</td>\n",
              "      <td>5.982000e+03</td>\n",
              "      <td>1.000000</td>\n",
              "      <td>0.000000</td>\n",
              "      <td>0.000000</td>\n",
              "      <td>0.000000e+00</td>\n",
              "      <td>0.000000e+00</td>\n",
              "      <td>0.000000e+00</td>\n",
              "      <td>2.097600e+03</td>\n",
              "      <td>-3.685268e+08</td>\n",
              "      <td>38.813539</td>\n",
              "      <td>-77.107478</td>\n",
              "    </tr>\n",
              "    <tr>\n",
              "      <th>25%</th>\n",
              "      <td>3.300369e+06</td>\n",
              "      <td>2.000000</td>\n",
              "      <td>1942.000000</td>\n",
              "      <td>7.044300e+04</td>\n",
              "      <td>6.960000e+04</td>\n",
              "      <td>42.000000</td>\n",
              "      <td>390.300000</td>\n",
              "      <td>4.800000</td>\n",
              "      <td>2.114100e+03</td>\n",
              "      <td>7.495754e+05</td>\n",
              "      <td>1.115681e+04</td>\n",
              "      <td>2.461230e+04</td>\n",
              "      <td>7.908049e+05</td>\n",
              "      <td>38.898739</td>\n",
              "      <td>-77.044005</td>\n",
              "    </tr>\n",
              "    <tr>\n",
              "      <th>50%</th>\n",
              "      <td>3.617946e+06</td>\n",
              "      <td>2.000000</td>\n",
              "      <td>1969.000000</td>\n",
              "      <td>1.213110e+05</td>\n",
              "      <td>1.194700e+05</td>\n",
              "      <td>69.000000</td>\n",
              "      <td>755.400000</td>\n",
              "      <td>6.300000</td>\n",
              "      <td>4.160100e+03</td>\n",
              "      <td>1.656484e+06</td>\n",
              "      <td>2.791756e+04</td>\n",
              "      <td>1.952242e+05</td>\n",
              "      <td>5.512830e+06</td>\n",
              "      <td>38.905369</td>\n",
              "      <td>-77.031106</td>\n",
              "    </tr>\n",
              "    <tr>\n",
              "      <th>75%</th>\n",
              "      <td>4.066820e+06</td>\n",
              "      <td>5.000000</td>\n",
              "      <td>1997.000000</td>\n",
              "      <td>2.488440e+05</td>\n",
              "      <td>2.332170e+05</td>\n",
              "      <td>84.000000</td>\n",
              "      <td>1565.150000</td>\n",
              "      <td>7.900000</td>\n",
              "      <td>7.286700e+03</td>\n",
              "      <td>3.491451e+06</td>\n",
              "      <td>5.286096e+04</td>\n",
              "      <td>1.371327e+06</td>\n",
              "      <td>1.457592e+07</td>\n",
              "      <td>38.922848</td>\n",
              "      <td>-77.009371</td>\n",
              "    </tr>\n",
              "    <tr>\n",
              "      <th>max</th>\n",
              "      <td>5.939893e+06</td>\n",
              "      <td>8.000000</td>\n",
              "      <td>2017.000000</td>\n",
              "      <td>3.997572e+06</td>\n",
              "      <td>5.634890e+06</td>\n",
              "      <td>100.000000</td>\n",
              "      <td>64992.500000</td>\n",
              "      <td>134.400000</td>\n",
              "      <td>1.929391e+07</td>\n",
              "      <td>1.661020e+08</td>\n",
              "      <td>7.269109e+06</td>\n",
              "      <td>1.275372e+07</td>\n",
              "      <td>3.101497e+07</td>\n",
              "      <td>38.984554</td>\n",
              "      <td>-76.914972</td>\n",
              "    </tr>\n",
              "  </tbody>\n",
              "</table>\n",
              "</div>\n",
              "      <button class=\"colab-df-convert\" onclick=\"convertToInteractive('df-ca603579-5bf9-4d9f-92ee-dfe4010f9ad0')\"\n",
              "              title=\"Convert this dataframe to an interactive table.\"\n",
              "              style=\"display:none;\">\n",
              "        \n",
              "  <svg xmlns=\"http://www.w3.org/2000/svg\" height=\"24px\"viewBox=\"0 0 24 24\"\n",
              "       width=\"24px\">\n",
              "    <path d=\"M0 0h24v24H0V0z\" fill=\"none\"/>\n",
              "    <path d=\"M18.56 5.44l.94 2.06.94-2.06 2.06-.94-2.06-.94-.94-2.06-.94 2.06-2.06.94zm-11 1L8.5 8.5l.94-2.06 2.06-.94-2.06-.94L8.5 2.5l-.94 2.06-2.06.94zm10 10l.94 2.06.94-2.06 2.06-.94-2.06-.94-.94-2.06-.94 2.06-2.06.94z\"/><path d=\"M17.41 7.96l-1.37-1.37c-.4-.4-.92-.59-1.43-.59-.52 0-1.04.2-1.43.59L10.3 9.45l-7.72 7.72c-.78.78-.78 2.05 0 2.83L4 21.41c.39.39.9.59 1.41.59.51 0 1.02-.2 1.41-.59l7.78-7.78 2.81-2.81c.8-.78.8-2.07 0-2.86zM5.41 20L4 18.59l7.72-7.72 1.47 1.35L5.41 20z\"/>\n",
              "  </svg>\n",
              "      </button>\n",
              "      \n",
              "  <style>\n",
              "    .colab-df-container {\n",
              "      display:flex;\n",
              "      flex-wrap:wrap;\n",
              "      gap: 12px;\n",
              "    }\n",
              "\n",
              "    .colab-df-convert {\n",
              "      background-color: #E8F0FE;\n",
              "      border: none;\n",
              "      border-radius: 50%;\n",
              "      cursor: pointer;\n",
              "      display: none;\n",
              "      fill: #1967D2;\n",
              "      height: 32px;\n",
              "      padding: 0 0 0 0;\n",
              "      width: 32px;\n",
              "    }\n",
              "\n",
              "    .colab-df-convert:hover {\n",
              "      background-color: #E2EBFA;\n",
              "      box-shadow: 0px 1px 2px rgba(60, 64, 67, 0.3), 0px 1px 3px 1px rgba(60, 64, 67, 0.15);\n",
              "      fill: #174EA6;\n",
              "    }\n",
              "\n",
              "    [theme=dark] .colab-df-convert {\n",
              "      background-color: #3B4455;\n",
              "      fill: #D2E3FC;\n",
              "    }\n",
              "\n",
              "    [theme=dark] .colab-df-convert:hover {\n",
              "      background-color: #434B5C;\n",
              "      box-shadow: 0px 1px 3px 1px rgba(0, 0, 0, 0.15);\n",
              "      filter: drop-shadow(0px 1px 2px rgba(0, 0, 0, 0.3));\n",
              "      fill: #FFFFFF;\n",
              "    }\n",
              "  </style>\n",
              "\n",
              "      <script>\n",
              "        const buttonEl =\n",
              "          document.querySelector('#df-ca603579-5bf9-4d9f-92ee-dfe4010f9ad0 button.colab-df-convert');\n",
              "        buttonEl.style.display =\n",
              "          google.colab.kernel.accessAllowed ? 'block' : 'none';\n",
              "\n",
              "        async function convertToInteractive(key) {\n",
              "          const element = document.querySelector('#df-ca603579-5bf9-4d9f-92ee-dfe4010f9ad0');\n",
              "          const dataTable =\n",
              "            await google.colab.kernel.invokeFunction('convertToInteractive',\n",
              "                                                     [key], {});\n",
              "          if (!dataTable) return;\n",
              "\n",
              "          const docLinkHtml = 'Like what you see? Visit the ' +\n",
              "            '<a target=\"_blank\" href=https://colab.research.google.com/notebooks/data_table.ipynb>data table notebook</a>'\n",
              "            + ' to learn more about interactive tables.';\n",
              "          element.innerHTML = '';\n",
              "          dataTable['output_type'] = 'display_data';\n",
              "          await google.colab.output.renderOutput(dataTable, element);\n",
              "          const docLink = document.createElement('div');\n",
              "          docLink.innerHTML = docLinkHtml;\n",
              "          element.appendChild(docLink);\n",
              "        }\n",
              "      </script>\n",
              "    </div>\n",
              "  </div>\n",
              "  "
            ]
          },
          "metadata": {},
          "execution_count": 8
        }
      ]
    },
    {
      "cell_type": "markdown",
      "metadata": {
        "id": "t2N6DSrXXx5z"
      },
      "source": [
        "# TASK 1 Clean the data \n",
        "*follow closely the second paragraph of Section 4 DATA. Name each step you do accordingly to the description in the paragraf*\n",
        "\n",
        "Summary of that paragraph:\n",
        "\n",
        "* Removed irrelevant building-identifying features such as address\n",
        "*    Removed features w/ missing values for >40% of buildings in dataset because otherwise those will be imputed and bias the results.\n",
        "*    Eliminated buildings w/ missing site EUI to avoid imputing values for dependent variable\n",
        "*    Imputed data for remaining missing variables by generating multiple imputations by Gibbs sampling using classification and regression trees (I think this is a later step in the homework.)\n",
        "*    Authors note that the data is extremely heterogeneous within and between datasets in terms of building counts and building sizes. This is partly due to local mandates, inclusion of government buildings, and smaller buildings opting in in some places. They note that \"some models are better able to handle less data than others.\""
      ]
    },
    {
      "cell_type": "code",
      "metadata": {
        "id": "k15rP8aaNXO7",
        "outputId": "5e3b40b7-36ed-4344-cee7-ed01996c0b19",
        "colab": {
          "base_uri": "https://localhost:8080/"
        }
      },
      "source": [
        "# summarize the number of rows with missing values for each column\n",
        "for c in dc.columns:\n",
        "  \n",
        "  # count number of rows with missing values\n",
        "  n_miss = dc[c].isnull().sum()\n",
        "  perc = n_miss / dc.shape[0] * 100\n",
        "  print('%s (%s):  Missing: %d (%.1f%%)' % (c, dc[c].dtype, \n",
        "                                                  n_miss, perc))\n"
      ],
      "execution_count": 9,
      "outputs": [
        {
          "output_type": "stream",
          "name": "stdout",
          "text": [
            "pid (object):  Missing: 0 (0.0%)\n",
            "dc_real_pid (object):  Missing: 0 (0.0%)\n",
            "pm_pid (float64):  Missing: 607 (27.8%)\n",
            "property_name (object):  Missing: 660 (30.3%)\n",
            "pm_parent_pid (object):  Missing: 660 (30.3%)\n",
            "parent_property_name (object):  Missing: 660 (30.3%)\n",
            "year_ending (object):  Missing: 0 (0.0%)\n",
            "report_status (object):  Missing: 0 (0.0%)\n",
            "address_of_record (object):  Missing: 0 (0.0%)\n",
            "owner_of_record (object):  Missing: 0 (0.0%)\n",
            "ward (float64):  Missing: 337 (15.5%)\n",
            "reported_address (object):  Missing: 660 (30.3%)\n",
            "city (object):  Missing: 0 (0.0%)\n",
            "state (object):  Missing: 0 (0.0%)\n",
            "postal_code (object):  Missing: 607 (27.8%)\n",
            "year_built (float64):  Missing: 28 (1.3%)\n",
            "primary_ptype_self (object):  Missing: 660 (30.3%)\n",
            "primary_ptype_epa (object):  Missing: 660 (30.3%)\n",
            "tax_record_floor_area (float64):  Missing: 0 (0.0%)\n",
            "reported_gross_floor_area (float64):  Missing: 660 (30.3%)\n",
            "energy_star_score (float64):  Missing: 972 (44.6%)\n",
            "site_eui (object):  Missing: 674 (30.9%)\n",
            "weather_norm_site_eui (object):  Missing: 736 (33.7%)\n",
            "source_eui (object):  Missing: 674 (30.9%)\n",
            "weather_norm_source_eui (object):  Missing: 736 (33.7%)\n",
            "total_ghg_emissions (float64):  Missing: 662 (30.4%)\n",
            "total_ghg_emissions_intensity (float64):  Missing: 662 (30.4%)\n",
            "water_use (float64):  Missing: 870 (39.9%)\n",
            "electricity_use (float64):  Missing: 699 (32.0%)\n",
            "natural_gas_use (float64):  Missing: 1094 (50.2%)\n",
            "fuel_use (float64):  Missing: 2115 (97.0%)\n",
            "district_water_use (float64):  Missing: 2164 (99.2%)\n",
            "metered_areas_energy (object):  Missing: 724 (33.2%)\n",
            "metered_areas_water (object):  Missing: 1014 (46.5%)\n",
            "latitude (float64):  Missing: 227 (10.4%)\n",
            "longitude (float64):  Missing: 227 (10.4%)\n"
          ]
        }
      ]
    },
    {
      "cell_type": "markdown",
      "source": [
        "this data is so much worse than the final one fml"
      ],
      "metadata": {
        "id": "g6fMibTfRyWq"
      }
    },
    {
      "cell_type": "code",
      "source": [
        "# dropping columns w/ over 40% missing\n",
        "for c in dc.columns:\n",
        "  \n",
        "  # count number of rows with missing values\n",
        "  n_miss = dc[c].isnull().sum()\n",
        "  perc = n_miss / dc.shape[0] * 100\n",
        "  if perc > 40:\n",
        "    dc.drop(c, axis=1, inplace=True)\n",
        "\n",
        "print(\"there are (rows, columns) = \", (dc.shape), \"in the dataframe\")"
      ],
      "metadata": {
        "colab": {
          "base_uri": "https://localhost:8080/"
        },
        "id": "D3_9mgnAVoQc",
        "outputId": "9ff27cb5-3e1a-4e4c-b232-bf70dbe01c25"
      },
      "execution_count": 10,
      "outputs": [
        {
          "output_type": "stream",
          "name": "stdout",
          "text": [
            "there are (rows, columns) =  (2181, 31) in the dataframe\n"
          ]
        }
      ]
    },
    {
      "cell_type": "code",
      "source": [
        "dc.info()"
      ],
      "metadata": {
        "colab": {
          "base_uri": "https://localhost:8080/"
        },
        "id": "caufMZGfS4bs",
        "outputId": "1d81b486-3eb8-413c-9556-807a893ac5a3"
      },
      "execution_count": 11,
      "outputs": [
        {
          "output_type": "stream",
          "name": "stdout",
          "text": [
            "<class 'pandas.core.frame.DataFrame'>\n",
            "RangeIndex: 2181 entries, 0 to 2180\n",
            "Data columns (total 31 columns):\n",
            " #   Column                         Non-Null Count  Dtype  \n",
            "---  ------                         --------------  -----  \n",
            " 0   pid                            2181 non-null   object \n",
            " 1   dc_real_pid                    2181 non-null   object \n",
            " 2   pm_pid                         1574 non-null   float64\n",
            " 3   property_name                  1521 non-null   object \n",
            " 4   pm_parent_pid                  1521 non-null   object \n",
            " 5   parent_property_name           1521 non-null   object \n",
            " 6   year_ending                    2181 non-null   object \n",
            " 7   report_status                  2181 non-null   object \n",
            " 8   address_of_record              2181 non-null   object \n",
            " 9   owner_of_record                2181 non-null   object \n",
            " 10  ward                           1844 non-null   float64\n",
            " 11  reported_address               1521 non-null   object \n",
            " 12  city                           2181 non-null   object \n",
            " 13  state                          2181 non-null   object \n",
            " 14  postal_code                    1574 non-null   object \n",
            " 15  year_built                     2153 non-null   float64\n",
            " 16  primary_ptype_self             1521 non-null   object \n",
            " 17  primary_ptype_epa              1521 non-null   object \n",
            " 18  tax_record_floor_area          2181 non-null   float64\n",
            " 19  reported_gross_floor_area      1521 non-null   float64\n",
            " 20  site_eui                       1507 non-null   object \n",
            " 21  weather_norm_site_eui          1445 non-null   object \n",
            " 22  source_eui                     1507 non-null   object \n",
            " 23  weather_norm_source_eui        1445 non-null   object \n",
            " 24  total_ghg_emissions            1519 non-null   float64\n",
            " 25  total_ghg_emissions_intensity  1519 non-null   float64\n",
            " 26  water_use                      1311 non-null   float64\n",
            " 27  electricity_use                1482 non-null   float64\n",
            " 28  metered_areas_energy           1457 non-null   object \n",
            " 29  latitude                       1954 non-null   float64\n",
            " 30  longitude                      1954 non-null   float64\n",
            "dtypes: float64(11), object(20)\n",
            "memory usage: 528.3+ KB\n"
          ]
        }
      ]
    },
    {
      "cell_type": "code",
      "source": [
        "# Dropping columns w/ building identifying data\n",
        "dc = dc.drop([\"pid\", \"dc_real_pid\", \"pm_pid\", \"property_name\",\n",
        "              \"pm_parent_pid\", \"parent_property_name\", \"address_of_record\",\n",
        "              \"reported_address\"], axis=1)"
      ],
      "metadata": {
        "id": "YlUq3rSZWFUN"
      },
      "execution_count": 12,
      "outputs": []
    },
    {
      "cell_type": "code",
      "source": [
        "dc.info()"
      ],
      "metadata": {
        "colab": {
          "base_uri": "https://localhost:8080/"
        },
        "id": "zkXTRm8aWljj",
        "outputId": "354a68e6-402d-4652-bbe6-26d817c3de12"
      },
      "execution_count": 13,
      "outputs": [
        {
          "output_type": "stream",
          "name": "stdout",
          "text": [
            "<class 'pandas.core.frame.DataFrame'>\n",
            "RangeIndex: 2181 entries, 0 to 2180\n",
            "Data columns (total 23 columns):\n",
            " #   Column                         Non-Null Count  Dtype  \n",
            "---  ------                         --------------  -----  \n",
            " 0   year_ending                    2181 non-null   object \n",
            " 1   report_status                  2181 non-null   object \n",
            " 2   owner_of_record                2181 non-null   object \n",
            " 3   ward                           1844 non-null   float64\n",
            " 4   city                           2181 non-null   object \n",
            " 5   state                          2181 non-null   object \n",
            " 6   postal_code                    1574 non-null   object \n",
            " 7   year_built                     2153 non-null   float64\n",
            " 8   primary_ptype_self             1521 non-null   object \n",
            " 9   primary_ptype_epa              1521 non-null   object \n",
            " 10  tax_record_floor_area          2181 non-null   float64\n",
            " 11  reported_gross_floor_area      1521 non-null   float64\n",
            " 12  site_eui                       1507 non-null   object \n",
            " 13  weather_norm_site_eui          1445 non-null   object \n",
            " 14  source_eui                     1507 non-null   object \n",
            " 15  weather_norm_source_eui        1445 non-null   object \n",
            " 16  total_ghg_emissions            1519 non-null   float64\n",
            " 17  total_ghg_emissions_intensity  1519 non-null   float64\n",
            " 18  water_use                      1311 non-null   float64\n",
            " 19  electricity_use                1482 non-null   float64\n",
            " 20  metered_areas_energy           1457 non-null   object \n",
            " 21  latitude                       1954 non-null   float64\n",
            " 22  longitude                      1954 non-null   float64\n",
            "dtypes: float64(10), object(13)\n",
            "memory usage: 392.0+ KB\n"
          ]
        }
      ]
    },
    {
      "cell_type": "code",
      "source": [
        "# dropping city, state bc we know those are DC\n",
        "dc = dc.drop([\"city\", \"state\"], axis=1)"
      ],
      "metadata": {
        "id": "Pi8rDF-rWqV6"
      },
      "execution_count": 14,
      "outputs": []
    },
    {
      "cell_type": "code",
      "source": [
        "dc[\"year_ending\"].nunique()"
      ],
      "metadata": {
        "colab": {
          "base_uri": "https://localhost:8080/"
        },
        "id": "LhtjExYhW81J",
        "outputId": "dbba5e0d-51fe-4bcb-e086-02db0345bd43"
      },
      "execution_count": 15,
      "outputs": [
        {
          "output_type": "execute_result",
          "data": {
            "text/plain": [
              "1"
            ]
          },
          "metadata": {},
          "execution_count": 15
        }
      ]
    },
    {
      "cell_type": "code",
      "source": [
        "# dropping year ending because it's all the same\n",
        "dc = dc.drop([\"year_ending\"], axis=1)"
      ],
      "metadata": {
        "id": "jvQT5proXERT"
      },
      "execution_count": 16,
      "outputs": []
    },
    {
      "cell_type": "code",
      "source": [
        "# what is report status?\n",
        "dc[\"report_status\"]"
      ],
      "metadata": {
        "colab": {
          "base_uri": "https://localhost:8080/"
        },
        "id": "YG36Lj85XLfR",
        "outputId": "b0e8237f-25a7-4d94-a462-df1022fb884a"
      },
      "execution_count": 17,
      "outputs": [
        {
          "output_type": "execute_result",
          "data": {
            "text/plain": [
              "0                   In Compliance\n",
              "1                   In Compliance\n",
              "2                   In Compliance\n",
              "3                   In Compliance\n",
              "4                   In Compliance\n",
              "                  ...            \n",
              "2176    Data under review by DOEE\n",
              "2177    Data under review by DOEE\n",
              "2178    Data under review by DOEE\n",
              "2179    Data under review by DOEE\n",
              "2180    Data under review by DOEE\n",
              "Name: report_status, Length: 2181, dtype: object"
            ]
          },
          "metadata": {},
          "execution_count": 17
        }
      ]
    },
    {
      "cell_type": "code",
      "source": [
        "# dropping site EUI Nas because that's what the authors did\n",
        "dc.dropna(subset=['site_eui'], inplace=True)"
      ],
      "metadata": {
        "id": "BM3TUxXfXbLL"
      },
      "execution_count": 132,
      "outputs": []
    },
    {
      "cell_type": "markdown",
      "metadata": {
        "id": "XVD2IKLsZI2x"
      },
      "source": [
        "# TASK 2: transform input feature as needed\n",
        "for example replace features with log features. Guide yourself with the text, the final dataset names, and also the code here https://github.com/Urban-Informatics-Lab/Open-Data-Benchmarking/blob/master/Lasso_RandomForest.Rmd"
      ]
    },
    {
      "cell_type": "markdown",
      "source": [
        "In the describe function below, I'm mostly looking at min, max, and standard deviation to get a sense of how big the ranges are and if there are columns that should have a log function or have very little variance."
      ],
      "metadata": {
        "id": "DqMOAZyuT18T"
      }
    },
    {
      "cell_type": "code",
      "metadata": {
        "id": "SWyHLyhCLYIm",
        "colab": {
          "base_uri": "https://localhost:8080/",
          "height": 364
        },
        "outputId": "25cf9e9c-6ed0-452e-a9b1-2e542ca11920"
      },
      "source": [
        "dc.describe() #what should you look at in the result below?"
      ],
      "execution_count": 133,
      "outputs": [
        {
          "output_type": "execute_result",
          "data": {
            "text/plain": [
              "              ward   year_built  tax_record_floor_area  \\\n",
              "count  1171.000000  1503.000000           1.506000e+03   \n",
              "mean      3.100769  1940.258816           2.059340e+05   \n",
              "std       1.821549   168.258449           2.483237e+05   \n",
              "min       1.000000  1000.000000           9.171000e+03   \n",
              "25%       2.000000  1945.000000           7.139625e+04   \n",
              "50%       2.000000  1970.000000           1.287695e+05   \n",
              "75%       5.000000  1994.000000           2.581805e+05   \n",
              "max       8.000000  2017.000000           3.997572e+06   \n",
              "\n",
              "       reported_gross_floor_area     site_eui  total_ghg_emissions  \\\n",
              "count               1.506000e+03  1506.000000          1504.000000   \n",
              "mean                1.886712e+05    79.634595          1411.941755   \n",
              "std                 2.440733e+05   144.859256          2800.912178   \n",
              "min                 5.982000e+03     0.000000             0.000000   \n",
              "25%                 7.000350e+04    51.425000           396.875000   \n",
              "50%                 1.199814e+05    66.300000           775.200000   \n",
              "75%                 2.349805e+05    84.000000          1584.650000   \n",
              "max                 5.634890e+06  5059.200000         64992.500000   \n",
              "\n",
              "       total_ghg_emissions_intensity     water_use  electricity_use  \\\n",
              "count                    1504.000000  1.296000e+03     1.482000e+03   \n",
              "mean                        7.293949  5.642857e+04     3.041003e+06   \n",
              "std                         6.882896  6.535778e+05     6.584801e+06   \n",
              "min                         0.000000  0.000000e+00     0.000000e+00   \n",
              "25%                         4.800000  2.168150e+03     7.495754e+05   \n",
              "50%                         6.300000  4.182900e+03     1.656484e+06   \n",
              "75%                         8.000000  7.320475e+03     3.491451e+06   \n",
              "max                       134.400000  1.929391e+07     1.661020e+08   \n",
              "\n",
              "          latitude    longitude  BuildingEnergyUse  \n",
              "count  1444.000000  1444.000000        1506.000000  \n",
              "mean     38.908326   -77.026829               -inf  \n",
              "std       0.024269     0.029901                NaN  \n",
              "min      38.813539   -77.100527               -inf  \n",
              "25%      38.898738   -77.044200           6.653792  \n",
              "50%      38.904623   -77.031576           6.920291  \n",
              "75%      38.921214   -77.011514           7.202882  \n",
              "max      38.983573   -76.919927           8.893900  "
            ],
            "text/html": [
              "\n",
              "  <div id=\"df-1a777cf8-0550-4973-9216-f43ca085e320\">\n",
              "    <div class=\"colab-df-container\">\n",
              "      <div>\n",
              "<style scoped>\n",
              "    .dataframe tbody tr th:only-of-type {\n",
              "        vertical-align: middle;\n",
              "    }\n",
              "\n",
              "    .dataframe tbody tr th {\n",
              "        vertical-align: top;\n",
              "    }\n",
              "\n",
              "    .dataframe thead th {\n",
              "        text-align: right;\n",
              "    }\n",
              "</style>\n",
              "<table border=\"1\" class=\"dataframe\">\n",
              "  <thead>\n",
              "    <tr style=\"text-align: right;\">\n",
              "      <th></th>\n",
              "      <th>ward</th>\n",
              "      <th>year_built</th>\n",
              "      <th>tax_record_floor_area</th>\n",
              "      <th>reported_gross_floor_area</th>\n",
              "      <th>site_eui</th>\n",
              "      <th>total_ghg_emissions</th>\n",
              "      <th>total_ghg_emissions_intensity</th>\n",
              "      <th>water_use</th>\n",
              "      <th>electricity_use</th>\n",
              "      <th>latitude</th>\n",
              "      <th>longitude</th>\n",
              "      <th>BuildingEnergyUse</th>\n",
              "    </tr>\n",
              "  </thead>\n",
              "  <tbody>\n",
              "    <tr>\n",
              "      <th>count</th>\n",
              "      <td>1171.000000</td>\n",
              "      <td>1503.000000</td>\n",
              "      <td>1.506000e+03</td>\n",
              "      <td>1.506000e+03</td>\n",
              "      <td>1506.000000</td>\n",
              "      <td>1504.000000</td>\n",
              "      <td>1504.000000</td>\n",
              "      <td>1.296000e+03</td>\n",
              "      <td>1.482000e+03</td>\n",
              "      <td>1444.000000</td>\n",
              "      <td>1444.000000</td>\n",
              "      <td>1506.000000</td>\n",
              "    </tr>\n",
              "    <tr>\n",
              "      <th>mean</th>\n",
              "      <td>3.100769</td>\n",
              "      <td>1940.258816</td>\n",
              "      <td>2.059340e+05</td>\n",
              "      <td>1.886712e+05</td>\n",
              "      <td>79.634595</td>\n",
              "      <td>1411.941755</td>\n",
              "      <td>7.293949</td>\n",
              "      <td>5.642857e+04</td>\n",
              "      <td>3.041003e+06</td>\n",
              "      <td>38.908326</td>\n",
              "      <td>-77.026829</td>\n",
              "      <td>-inf</td>\n",
              "    </tr>\n",
              "    <tr>\n",
              "      <th>std</th>\n",
              "      <td>1.821549</td>\n",
              "      <td>168.258449</td>\n",
              "      <td>2.483237e+05</td>\n",
              "      <td>2.440733e+05</td>\n",
              "      <td>144.859256</td>\n",
              "      <td>2800.912178</td>\n",
              "      <td>6.882896</td>\n",
              "      <td>6.535778e+05</td>\n",
              "      <td>6.584801e+06</td>\n",
              "      <td>0.024269</td>\n",
              "      <td>0.029901</td>\n",
              "      <td>NaN</td>\n",
              "    </tr>\n",
              "    <tr>\n",
              "      <th>min</th>\n",
              "      <td>1.000000</td>\n",
              "      <td>1000.000000</td>\n",
              "      <td>9.171000e+03</td>\n",
              "      <td>5.982000e+03</td>\n",
              "      <td>0.000000</td>\n",
              "      <td>0.000000</td>\n",
              "      <td>0.000000</td>\n",
              "      <td>0.000000e+00</td>\n",
              "      <td>0.000000e+00</td>\n",
              "      <td>38.813539</td>\n",
              "      <td>-77.100527</td>\n",
              "      <td>-inf</td>\n",
              "    </tr>\n",
              "    <tr>\n",
              "      <th>25%</th>\n",
              "      <td>2.000000</td>\n",
              "      <td>1945.000000</td>\n",
              "      <td>7.139625e+04</td>\n",
              "      <td>7.000350e+04</td>\n",
              "      <td>51.425000</td>\n",
              "      <td>396.875000</td>\n",
              "      <td>4.800000</td>\n",
              "      <td>2.168150e+03</td>\n",
              "      <td>7.495754e+05</td>\n",
              "      <td>38.898738</td>\n",
              "      <td>-77.044200</td>\n",
              "      <td>6.653792</td>\n",
              "    </tr>\n",
              "    <tr>\n",
              "      <th>50%</th>\n",
              "      <td>2.000000</td>\n",
              "      <td>1970.000000</td>\n",
              "      <td>1.287695e+05</td>\n",
              "      <td>1.199814e+05</td>\n",
              "      <td>66.300000</td>\n",
              "      <td>775.200000</td>\n",
              "      <td>6.300000</td>\n",
              "      <td>4.182900e+03</td>\n",
              "      <td>1.656484e+06</td>\n",
              "      <td>38.904623</td>\n",
              "      <td>-77.031576</td>\n",
              "      <td>6.920291</td>\n",
              "    </tr>\n",
              "    <tr>\n",
              "      <th>75%</th>\n",
              "      <td>5.000000</td>\n",
              "      <td>1994.000000</td>\n",
              "      <td>2.581805e+05</td>\n",
              "      <td>2.349805e+05</td>\n",
              "      <td>84.000000</td>\n",
              "      <td>1584.650000</td>\n",
              "      <td>8.000000</td>\n",
              "      <td>7.320475e+03</td>\n",
              "      <td>3.491451e+06</td>\n",
              "      <td>38.921214</td>\n",
              "      <td>-77.011514</td>\n",
              "      <td>7.202882</td>\n",
              "    </tr>\n",
              "    <tr>\n",
              "      <th>max</th>\n",
              "      <td>8.000000</td>\n",
              "      <td>2017.000000</td>\n",
              "      <td>3.997572e+06</td>\n",
              "      <td>5.634890e+06</td>\n",
              "      <td>5059.200000</td>\n",
              "      <td>64992.500000</td>\n",
              "      <td>134.400000</td>\n",
              "      <td>1.929391e+07</td>\n",
              "      <td>1.661020e+08</td>\n",
              "      <td>38.983573</td>\n",
              "      <td>-76.919927</td>\n",
              "      <td>8.893900</td>\n",
              "    </tr>\n",
              "  </tbody>\n",
              "</table>\n",
              "</div>\n",
              "      <button class=\"colab-df-convert\" onclick=\"convertToInteractive('df-1a777cf8-0550-4973-9216-f43ca085e320')\"\n",
              "              title=\"Convert this dataframe to an interactive table.\"\n",
              "              style=\"display:none;\">\n",
              "        \n",
              "  <svg xmlns=\"http://www.w3.org/2000/svg\" height=\"24px\"viewBox=\"0 0 24 24\"\n",
              "       width=\"24px\">\n",
              "    <path d=\"M0 0h24v24H0V0z\" fill=\"none\"/>\n",
              "    <path d=\"M18.56 5.44l.94 2.06.94-2.06 2.06-.94-2.06-.94-.94-2.06-.94 2.06-2.06.94zm-11 1L8.5 8.5l.94-2.06 2.06-.94-2.06-.94L8.5 2.5l-.94 2.06-2.06.94zm10 10l.94 2.06.94-2.06 2.06-.94-2.06-.94-.94-2.06-.94 2.06-2.06.94z\"/><path d=\"M17.41 7.96l-1.37-1.37c-.4-.4-.92-.59-1.43-.59-.52 0-1.04.2-1.43.59L10.3 9.45l-7.72 7.72c-.78.78-.78 2.05 0 2.83L4 21.41c.39.39.9.59 1.41.59.51 0 1.02-.2 1.41-.59l7.78-7.78 2.81-2.81c.8-.78.8-2.07 0-2.86zM5.41 20L4 18.59l7.72-7.72 1.47 1.35L5.41 20z\"/>\n",
              "  </svg>\n",
              "      </button>\n",
              "      \n",
              "  <style>\n",
              "    .colab-df-container {\n",
              "      display:flex;\n",
              "      flex-wrap:wrap;\n",
              "      gap: 12px;\n",
              "    }\n",
              "\n",
              "    .colab-df-convert {\n",
              "      background-color: #E8F0FE;\n",
              "      border: none;\n",
              "      border-radius: 50%;\n",
              "      cursor: pointer;\n",
              "      display: none;\n",
              "      fill: #1967D2;\n",
              "      height: 32px;\n",
              "      padding: 0 0 0 0;\n",
              "      width: 32px;\n",
              "    }\n",
              "\n",
              "    .colab-df-convert:hover {\n",
              "      background-color: #E2EBFA;\n",
              "      box-shadow: 0px 1px 2px rgba(60, 64, 67, 0.3), 0px 1px 3px 1px rgba(60, 64, 67, 0.15);\n",
              "      fill: #174EA6;\n",
              "    }\n",
              "\n",
              "    [theme=dark] .colab-df-convert {\n",
              "      background-color: #3B4455;\n",
              "      fill: #D2E3FC;\n",
              "    }\n",
              "\n",
              "    [theme=dark] .colab-df-convert:hover {\n",
              "      background-color: #434B5C;\n",
              "      box-shadow: 0px 1px 3px 1px rgba(0, 0, 0, 0.15);\n",
              "      filter: drop-shadow(0px 1px 2px rgba(0, 0, 0, 0.3));\n",
              "      fill: #FFFFFF;\n",
              "    }\n",
              "  </style>\n",
              "\n",
              "      <script>\n",
              "        const buttonEl =\n",
              "          document.querySelector('#df-1a777cf8-0550-4973-9216-f43ca085e320 button.colab-df-convert');\n",
              "        buttonEl.style.display =\n",
              "          google.colab.kernel.accessAllowed ? 'block' : 'none';\n",
              "\n",
              "        async function convertToInteractive(key) {\n",
              "          const element = document.querySelector('#df-1a777cf8-0550-4973-9216-f43ca085e320');\n",
              "          const dataTable =\n",
              "            await google.colab.kernel.invokeFunction('convertToInteractive',\n",
              "                                                     [key], {});\n",
              "          if (!dataTable) return;\n",
              "\n",
              "          const docLinkHtml = 'Like what you see? Visit the ' +\n",
              "            '<a target=\"_blank\" href=https://colab.research.google.com/notebooks/data_table.ipynb>data table notebook</a>'\n",
              "            + ' to learn more about interactive tables.';\n",
              "          element.innerHTML = '';\n",
              "          dataTable['output_type'] = 'display_data';\n",
              "          await google.colab.output.renderOutput(dataTable, element);\n",
              "          const docLink = document.createElement('div');\n",
              "          docLink.innerHTML = docLinkHtml;\n",
              "          element.appendChild(docLink);\n",
              "        }\n",
              "      </script>\n",
              "    </div>\n",
              "  </div>\n",
              "  "
            ]
          },
          "metadata": {},
          "execution_count": 133
        }
      ]
    },
    {
      "cell_type": "code",
      "source": [
        "dc.info() #why is this helpful to print?"
      ],
      "metadata": {
        "id": "qFWWCuN755gc",
        "colab": {
          "base_uri": "https://localhost:8080/"
        },
        "outputId": "621ea9b6-c4a0-49b8-8914-0213134d59d5"
      },
      "execution_count": 134,
      "outputs": [
        {
          "output_type": "stream",
          "name": "stdout",
          "text": [
            "<class 'pandas.core.frame.DataFrame'>\n",
            "Int64Index: 1506 entries, 0 to 2180\n",
            "Data columns (total 21 columns):\n",
            " #   Column                         Non-Null Count  Dtype  \n",
            "---  ------                         --------------  -----  \n",
            " 0   report_status                  1506 non-null   object \n",
            " 1   owner_of_record                1506 non-null   object \n",
            " 2   ward                           1171 non-null   float64\n",
            " 3   postal_code                    1506 non-null   object \n",
            " 4   year_built                     1503 non-null   float64\n",
            " 5   primary_ptype_self             1506 non-null   object \n",
            " 6   primary_ptype_epa              1506 non-null   object \n",
            " 7   tax_record_floor_area          1506 non-null   float64\n",
            " 8   reported_gross_floor_area      1506 non-null   float64\n",
            " 9   site_eui                       1506 non-null   float64\n",
            " 10  weather_norm_site_eui          1444 non-null   object \n",
            " 11  source_eui                     1506 non-null   object \n",
            " 12  weather_norm_source_eui        1444 non-null   object \n",
            " 13  total_ghg_emissions            1504 non-null   float64\n",
            " 14  total_ghg_emissions_intensity  1504 non-null   float64\n",
            " 15  water_use                      1296 non-null   float64\n",
            " 16  electricity_use                1482 non-null   float64\n",
            " 17  metered_areas_energy           1397 non-null   object \n",
            " 18  latitude                       1444 non-null   float64\n",
            " 19  longitude                      1444 non-null   float64\n",
            " 20  BuildingEnergyUse              1506 non-null   float64\n",
            "dtypes: float64(12), object(9)\n",
            "memory usage: 258.8+ KB\n"
          ]
        }
      ]
    },
    {
      "cell_type": "code",
      "source": [
        "dc[\"reported_gross_floor_area\"].describe()"
      ],
      "metadata": {
        "colab": {
          "base_uri": "https://localhost:8080/"
        },
        "id": "RcI8KcrQOPJT",
        "outputId": "a02317e5-ab02-4c60-8869-8aa8236ab05e"
      },
      "execution_count": 214,
      "outputs": [
        {
          "output_type": "execute_result",
          "data": {
            "text/plain": [
              "count    1.506000e+03\n",
              "mean     1.886712e+05\n",
              "std      2.440733e+05\n",
              "min      5.982000e+03\n",
              "25%      7.000350e+04\n",
              "50%      1.199814e+05\n",
              "75%      2.349805e+05\n",
              "max      5.634890e+06\n",
              "Name: reported_gross_floor_area, dtype: float64"
            ]
          },
          "metadata": {},
          "execution_count": 214
        }
      ]
    },
    {
      "cell_type": "code",
      "source": [
        "dc[\"site_eui\"].describe()"
      ],
      "metadata": {
        "colab": {
          "base_uri": "https://localhost:8080/"
        },
        "id": "WyiPei5CYges",
        "outputId": "dd981035-a900-445c-fb71-a2a5f89c1da3"
      },
      "execution_count": 213,
      "outputs": [
        {
          "output_type": "execute_result",
          "data": {
            "text/plain": [
              "count    1506.000000\n",
              "mean       79.634595\n",
              "std       144.859256\n",
              "min         0.000000\n",
              "25%        51.425000\n",
              "50%        66.300000\n",
              "75%        84.000000\n",
              "max      5059.200000\n",
              "Name: site_eui, dtype: float64"
            ]
          },
          "metadata": {},
          "execution_count": 213
        }
      ]
    },
    {
      "cell_type": "code",
      "source": [
        "dc[\"source_eui\"]"
      ],
      "metadata": {
        "colab": {
          "base_uri": "https://localhost:8080/"
        },
        "id": "AZ40EjEVYjv8",
        "outputId": "e4888eb0-036d-4ff7-c728-d8b0da71a21a"
      },
      "execution_count": 136,
      "outputs": [
        {
          "output_type": "execute_result",
          "data": {
            "text/plain": [
              "0       175.9\n",
              "1       229.8\n",
              "2       215.6\n",
              "3       147.7\n",
              "4       206.3\n",
              "        ...  \n",
              "2164    175.2\n",
              "2167     13.8\n",
              "2171        0\n",
              "2179      0.1\n",
              "2180     16.4\n",
              "Name: source_eui, Length: 1506, dtype: object"
            ]
          },
          "metadata": {},
          "execution_count": 136
        }
      ]
    },
    {
      "cell_type": "markdown",
      "source": [
        "Idk what source EUI is, but their paper seems to use site EUI vs source EUI and based on Chicago, I think I should multiply by gross area, not tax reported floor area. (I assume this is like how my house is not taxed on the finished basement as rooms?)"
      ],
      "metadata": {
        "id": "PwMeIAwBZL8w"
      }
    },
    {
      "cell_type": "code",
      "source": [
        "#realized I need to make site eui a float.\n",
        "dc[\"site_eui\"] = pd.to_numeric(dc[\"site_eui\"], errors='coerce')"
      ],
      "metadata": {
        "id": "mOPQOhP2Z4sW"
      },
      "execution_count": 219,
      "outputs": []
    },
    {
      "cell_type": "code",
      "source": [
        "#adding column for building energy use\n",
        "dc[\"BuildingEnergyUse\"] = dc[\"reported_gross_floor_area\"]*dc[\"site_eui\"]"
      ],
      "metadata": {
        "id": "5J0QaAowX_i5"
      },
      "execution_count": 220,
      "outputs": []
    },
    {
      "cell_type": "code",
      "source": [
        "dc[\"BuildingEnergyUse\"].describe()"
      ],
      "metadata": {
        "colab": {
          "base_uri": "https://localhost:8080/"
        },
        "id": "H-QvjvmYOX8d",
        "outputId": "133c38db-7aa5-44fb-b0fe-f8a7640ed443"
      },
      "execution_count": 221,
      "outputs": [
        {
          "output_type": "execute_result",
          "data": {
            "text/plain": [
              "count    1.506000e+03\n",
              "mean     1.511370e+07\n",
              "std      3.874259e+07\n",
              "min      0.000000e+00\n",
              "25%      4.506007e+06\n",
              "50%      8.323210e+06\n",
              "75%      1.595444e+07\n",
              "max      7.832497e+08\n",
              "Name: BuildingEnergyUse, dtype: float64"
            ]
          },
          "metadata": {},
          "execution_count": 221
        }
      ]
    },
    {
      "cell_type": "code",
      "source": [
        "#making building energy use log\n",
        "dc[\"BuildingEnergyUse\"] = np.log10(dc[\"BuildingEnergyUse\"])"
      ],
      "metadata": {
        "colab": {
          "base_uri": "https://localhost:8080/"
        },
        "id": "5r6QPv-PaoZI",
        "outputId": "59d35009-674c-48a6-890d-a555970fca2f"
      },
      "execution_count": 218,
      "outputs": [
        {
          "output_type": "stream",
          "name": "stderr",
          "text": [
            "/usr/local/lib/python3.7/dist-packages/pandas/core/arraylike.py:364: RuntimeWarning: divide by zero encountered in log10\n",
            "  result = getattr(ufunc, method)(*inputs, **kwargs)\n"
          ]
        }
      ]
    },
    {
      "cell_type": "code",
      "source": [
        "X_numeric_data[\"tax_record_floor_area\"] = np.log10(X_numeric_data[\"tax_record_floor_area\"])"
      ],
      "metadata": {
        "id": "qsJgjM5EHKhS"
      },
      "execution_count": 140,
      "outputs": []
    },
    {
      "cell_type": "code",
      "source": [
        "dc[\"BuildingEnergyUse\"].describe()"
      ],
      "metadata": {
        "colab": {
          "base_uri": "https://localhost:8080/"
        },
        "id": "mpfJor39G7Z1",
        "outputId": "090211bb-e015-4517-e86f-4a7cd3e439d1"
      },
      "execution_count": 141,
      "outputs": [
        {
          "output_type": "execute_result",
          "data": {
            "text/plain": [
              "count    1506.000000\n",
              "mean            -inf\n",
              "std              NaN\n",
              "min             -inf\n",
              "25%         6.653792\n",
              "50%         6.920291\n",
              "75%         7.202882\n",
              "max         8.893900\n",
              "Name: BuildingEnergyUse, dtype: float64"
            ]
          },
          "metadata": {},
          "execution_count": 141
        }
      ]
    },
    {
      "cell_type": "code",
      "source": [
        "np.isinf(dc[\"BuildingEnergyUse\"])"
      ],
      "metadata": {
        "colab": {
          "base_uri": "https://localhost:8080/"
        },
        "id": "D4tdFqMXJAu9",
        "outputId": "90789f20-7324-47ff-e3cb-8f3c5f051e31"
      },
      "execution_count": 142,
      "outputs": [
        {
          "output_type": "execute_result",
          "data": {
            "text/plain": [
              "0       False\n",
              "1       False\n",
              "2       False\n",
              "3       False\n",
              "4       False\n",
              "        ...  \n",
              "2164    False\n",
              "2167    False\n",
              "2171     True\n",
              "2179    False\n",
              "2180    False\n",
              "Name: BuildingEnergyUse, Length: 1506, dtype: bool"
            ]
          },
          "metadata": {},
          "execution_count": 142
        }
      ]
    },
    {
      "cell_type": "markdown",
      "source": [
        "## Throw away data where the **target** variable is missing\n",
        "\n",
        "I will remove each row where I do not have the target variable. To do that I use `df.dropna()` and the subset argument of `df.dropna()` set to the name of the variable. The `how` should be set to \"any\" cause you want to drop the row where any values in the subset is NaN (this is a subset of one column, so it is obvious, but imagine if you were passing more than one column to the call `dropna()`"
      ],
      "metadata": {
        "id": "LjzW2m2I-dvq"
      }
    },
    {
      "cell_type": "code",
      "source": [
        "# one is the loneliest number\n",
        "dc[\"BuildingEnergyUse\"].isna().sum()"
      ],
      "metadata": {
        "id": "aDMtT0kq_rUx",
        "colab": {
          "base_uri": "https://localhost:8080/"
        },
        "outputId": "cb075569-e7b3-4f03-86bf-eb8920a482e7"
      },
      "execution_count": 145,
      "outputs": [
        {
          "output_type": "execute_result",
          "data": {
            "text/plain": [
              "0"
            ]
          },
          "metadata": {},
          "execution_count": 145
        }
      ]
    },
    {
      "cell_type": "code",
      "source": [
        "# oops had forgotten to drop na earlier\n",
        "dc.dropna(subset=[\"BuildingEnergyUse\"], how=\"any\", inplace=True)"
      ],
      "metadata": {
        "id": "00oUZPRB6Za7"
      },
      "execution_count": 146,
      "outputs": []
    },
    {
      "cell_type": "code",
      "source": [
        "dc.info()"
      ],
      "metadata": {
        "colab": {
          "base_uri": "https://localhost:8080/"
        },
        "id": "hFLKC2gO7A1U",
        "outputId": "375ed8e2-94c4-458d-a30d-bd0c9156778d"
      },
      "execution_count": 147,
      "outputs": [
        {
          "output_type": "stream",
          "name": "stdout",
          "text": [
            "<class 'pandas.core.frame.DataFrame'>\n",
            "Int64Index: 1506 entries, 0 to 2180\n",
            "Data columns (total 21 columns):\n",
            " #   Column                         Non-Null Count  Dtype  \n",
            "---  ------                         --------------  -----  \n",
            " 0   report_status                  1506 non-null   object \n",
            " 1   owner_of_record                1506 non-null   object \n",
            " 2   ward                           1171 non-null   float64\n",
            " 3   postal_code                    1506 non-null   object \n",
            " 4   year_built                     1503 non-null   float64\n",
            " 5   primary_ptype_self             1506 non-null   object \n",
            " 6   primary_ptype_epa              1506 non-null   object \n",
            " 7   tax_record_floor_area          1506 non-null   float64\n",
            " 8   reported_gross_floor_area      1506 non-null   float64\n",
            " 9   site_eui                       1506 non-null   float64\n",
            " 10  weather_norm_site_eui          1444 non-null   object \n",
            " 11  source_eui                     1506 non-null   object \n",
            " 12  weather_norm_source_eui        1444 non-null   object \n",
            " 13  total_ghg_emissions            1504 non-null   float64\n",
            " 14  total_ghg_emissions_intensity  1504 non-null   float64\n",
            " 15  water_use                      1296 non-null   float64\n",
            " 16  electricity_use                1482 non-null   float64\n",
            " 17  metered_areas_energy           1397 non-null   object \n",
            " 18  latitude                       1444 non-null   float64\n",
            " 19  longitude                      1444 non-null   float64\n",
            " 20  BuildingEnergyUse              1506 non-null   float64\n",
            "dtypes: float64(12), object(9)\n",
            "memory usage: 258.8+ KB\n"
          ]
        }
      ]
    },
    {
      "cell_type": "code",
      "source": [
        "original_len = dc.shape[0]\n",
        "dc.dropna(subset=[\"BuildingEnergyUse\"], how=\"any\", inplace=True)\n",
        "\n",
        "print(\"I lost {:.2f}% of the data\".format((1 - (dc.shape[0] / original_len)) * 100))"
      ],
      "metadata": {
        "colab": {
          "base_uri": "https://localhost:8080/"
        },
        "id": "MQC0OsUq-i0Q",
        "outputId": "8ef25409-10ee-42bb-a9a9-98fd20bebfa5"
      },
      "execution_count": 148,
      "outputs": [
        {
          "output_type": "stream",
          "name": "stdout",
          "text": [
            "I lost 0.00% of the data\n"
          ]
        }
      ]
    },
    {
      "cell_type": "code",
      "metadata": {
        "id": "7uQG7QcFPJUA"
      },
      "source": [
        "# isolate the target variable first (endogenous)\n",
        "y = dc[\"BuildingEnergyUse\"].values"
      ],
      "execution_count": 149,
      "outputs": []
    },
    {
      "cell_type": "code",
      "source": [
        "# and the input variables (exogenous)\n",
        "X = dc.drop(\"BuildingEnergyUse\", axis=1)"
      ],
      "metadata": {
        "id": "1_ZO1NtR-19k"
      },
      "execution_count": 150,
      "outputs": []
    },
    {
      "cell_type": "code",
      "source": [
        "dc.info()"
      ],
      "metadata": {
        "colab": {
          "base_uri": "https://localhost:8080/"
        },
        "id": "WzQNrLiBbUUM",
        "outputId": "d2957ef2-3432-4af6-a915-cf7382040385"
      },
      "execution_count": 151,
      "outputs": [
        {
          "output_type": "stream",
          "name": "stdout",
          "text": [
            "<class 'pandas.core.frame.DataFrame'>\n",
            "Int64Index: 1506 entries, 0 to 2180\n",
            "Data columns (total 21 columns):\n",
            " #   Column                         Non-Null Count  Dtype  \n",
            "---  ------                         --------------  -----  \n",
            " 0   report_status                  1506 non-null   object \n",
            " 1   owner_of_record                1506 non-null   object \n",
            " 2   ward                           1171 non-null   float64\n",
            " 3   postal_code                    1506 non-null   object \n",
            " 4   year_built                     1503 non-null   float64\n",
            " 5   primary_ptype_self             1506 non-null   object \n",
            " 6   primary_ptype_epa              1506 non-null   object \n",
            " 7   tax_record_floor_area          1506 non-null   float64\n",
            " 8   reported_gross_floor_area      1506 non-null   float64\n",
            " 9   site_eui                       1506 non-null   float64\n",
            " 10  weather_norm_site_eui          1444 non-null   object \n",
            " 11  source_eui                     1506 non-null   object \n",
            " 12  weather_norm_source_eui        1444 non-null   object \n",
            " 13  total_ghg_emissions            1504 non-null   float64\n",
            " 14  total_ghg_emissions_intensity  1504 non-null   float64\n",
            " 15  water_use                      1296 non-null   float64\n",
            " 16  electricity_use                1482 non-null   float64\n",
            " 17  metered_areas_energy           1397 non-null   object \n",
            " 18  latitude                       1444 non-null   float64\n",
            " 19  longitude                      1444 non-null   float64\n",
            " 20  BuildingEnergyUse              1506 non-null   float64\n",
            "dtypes: float64(12), object(9)\n",
            "memory usage: 258.8+ KB\n"
          ]
        }
      ]
    },
    {
      "cell_type": "markdown",
      "metadata": {
        "id": "iNbDz-98ZvkM"
      },
      "source": [
        "### separate categorical and numerical values"
      ]
    },
    {
      "cell_type": "markdown",
      "source": [
        "When I ran the separator, ward showed up in numeric because it is a number, so I converted it to object. All the EUIs were objects and ended up in categorical, so I converted them to numeric."
      ],
      "metadata": {
        "id": "AyfZZ57-b0QA"
      }
    },
    {
      "cell_type": "code",
      "source": [
        "X[\"weather_norm_site_eui\"] = pd.to_numeric(X[\"weather_norm_site_eui\"], errors='coerce')"
      ],
      "metadata": {
        "id": "9kwgnvqYb8qb"
      },
      "execution_count": 152,
      "outputs": []
    },
    {
      "cell_type": "code",
      "source": [
        "X[\"source_eui\"] = pd.to_numeric(X[\"source_eui\"], errors = \"coerce\")\n",
        "X[\"weather_norm_source_eui\"] = pd.to_numeric(X[\"weather_norm_source_eui\"], errors = \"coerce\")"
      ],
      "metadata": {
        "id": "RO0LQuzFbznC"
      },
      "execution_count": 153,
      "outputs": []
    },
    {
      "cell_type": "code",
      "source": [
        "X[[\"ward\"]] = X[[\"ward\"]].astype(object)"
      ],
      "metadata": {
        "id": "SctC84PtWApu"
      },
      "execution_count": 154,
      "outputs": []
    },
    {
      "cell_type": "code",
      "source": [
        "# I am giving you the solution but please take note of how one does this!\n",
        "X_numeric_data = X.select_dtypes(include=[np.number])\n",
        "X_categorical_data = X.select_dtypes(exclude=[np.number])"
      ],
      "metadata": {
        "id": "-XpDBDTI-gE_"
      },
      "execution_count": 155,
      "outputs": []
    },
    {
      "cell_type": "code",
      "source": [
        "X_numeric_data.shape"
      ],
      "metadata": {
        "id": "fTjcQ4Id_IWB",
        "colab": {
          "base_uri": "https://localhost:8080/"
        },
        "outputId": "7a4c7558-7870-43f7-837c-4e854d0a909c"
      },
      "execution_count": 156,
      "outputs": [
        {
          "output_type": "execute_result",
          "data": {
            "text/plain": [
              "(1506, 13)"
            ]
          },
          "metadata": {},
          "execution_count": 156
        }
      ]
    },
    {
      "cell_type": "code",
      "source": [
        "X_numeric_data.head() ## is there anything suspicious? anything thas is in fact **not** a numerical variable? that will depend on how you did in TASK 1"
      ],
      "metadata": {
        "id": "_3qPUKno_aXS",
        "colab": {
          "base_uri": "https://localhost:8080/",
          "height": 270
        },
        "outputId": "effb4ced-4e85-41a5-9ccb-c68228060ef8"
      },
      "execution_count": 157,
      "outputs": [
        {
          "output_type": "execute_result",
          "data": {
            "text/plain": [
              "   year_built  tax_record_floor_area  reported_gross_floor_area  site_eui  \\\n",
              "0      1959.0                63227.0                    65000.0     101.3   \n",
              "1      1997.0               251557.0                   257943.0      73.2   \n",
              "2      1964.0               330550.0                   223218.0      87.8   \n",
              "3      1969.0               256839.0                   213067.0      47.0   \n",
              "4      1975.0               370000.0                   381518.0      65.7   \n",
              "\n",
              "   weather_norm_site_eui  source_eui  weather_norm_source_eui  \\\n",
              "0                  102.7       175.9                    174.9   \n",
              "1                   73.2       229.8                    229.8   \n",
              "2                   89.0       215.6                    215.0   \n",
              "3                   46.4       147.7                    145.8   \n",
              "4                   65.7       206.3                    206.3   \n",
              "\n",
              "   total_ghg_emissions  total_ghg_emissions_intensity  water_use  \\\n",
              "0                482.9                            7.4     6963.5   \n",
              "1               2164.4                            8.4     8490.0   \n",
              "2               1852.2                            8.3     8749.1   \n",
              "3               1249.2                            5.9     5393.8   \n",
              "4               2874.1                            7.5    10422.6   \n",
              "\n",
              "   electricity_use   latitude  longitude  \n",
              "0         633043.8  38.963597 -77.033848  \n",
              "1        5531486.0  38.897849 -77.029872  \n",
              "2        3863003.0  38.904056 -77.037973  \n",
              "3        2936445.0  38.902189 -77.041238  \n",
              "4        7345290.0  38.904376 -77.046882  "
            ],
            "text/html": [
              "\n",
              "  <div id=\"df-5d32347d-beb9-4de8-8fa0-8c17a0e7f172\">\n",
              "    <div class=\"colab-df-container\">\n",
              "      <div>\n",
              "<style scoped>\n",
              "    .dataframe tbody tr th:only-of-type {\n",
              "        vertical-align: middle;\n",
              "    }\n",
              "\n",
              "    .dataframe tbody tr th {\n",
              "        vertical-align: top;\n",
              "    }\n",
              "\n",
              "    .dataframe thead th {\n",
              "        text-align: right;\n",
              "    }\n",
              "</style>\n",
              "<table border=\"1\" class=\"dataframe\">\n",
              "  <thead>\n",
              "    <tr style=\"text-align: right;\">\n",
              "      <th></th>\n",
              "      <th>year_built</th>\n",
              "      <th>tax_record_floor_area</th>\n",
              "      <th>reported_gross_floor_area</th>\n",
              "      <th>site_eui</th>\n",
              "      <th>weather_norm_site_eui</th>\n",
              "      <th>source_eui</th>\n",
              "      <th>weather_norm_source_eui</th>\n",
              "      <th>total_ghg_emissions</th>\n",
              "      <th>total_ghg_emissions_intensity</th>\n",
              "      <th>water_use</th>\n",
              "      <th>electricity_use</th>\n",
              "      <th>latitude</th>\n",
              "      <th>longitude</th>\n",
              "    </tr>\n",
              "  </thead>\n",
              "  <tbody>\n",
              "    <tr>\n",
              "      <th>0</th>\n",
              "      <td>1959.0</td>\n",
              "      <td>63227.0</td>\n",
              "      <td>65000.0</td>\n",
              "      <td>101.3</td>\n",
              "      <td>102.7</td>\n",
              "      <td>175.9</td>\n",
              "      <td>174.9</td>\n",
              "      <td>482.9</td>\n",
              "      <td>7.4</td>\n",
              "      <td>6963.5</td>\n",
              "      <td>633043.8</td>\n",
              "      <td>38.963597</td>\n",
              "      <td>-77.033848</td>\n",
              "    </tr>\n",
              "    <tr>\n",
              "      <th>1</th>\n",
              "      <td>1997.0</td>\n",
              "      <td>251557.0</td>\n",
              "      <td>257943.0</td>\n",
              "      <td>73.2</td>\n",
              "      <td>73.2</td>\n",
              "      <td>229.8</td>\n",
              "      <td>229.8</td>\n",
              "      <td>2164.4</td>\n",
              "      <td>8.4</td>\n",
              "      <td>8490.0</td>\n",
              "      <td>5531486.0</td>\n",
              "      <td>38.897849</td>\n",
              "      <td>-77.029872</td>\n",
              "    </tr>\n",
              "    <tr>\n",
              "      <th>2</th>\n",
              "      <td>1964.0</td>\n",
              "      <td>330550.0</td>\n",
              "      <td>223218.0</td>\n",
              "      <td>87.8</td>\n",
              "      <td>89.0</td>\n",
              "      <td>215.6</td>\n",
              "      <td>215.0</td>\n",
              "      <td>1852.2</td>\n",
              "      <td>8.3</td>\n",
              "      <td>8749.1</td>\n",
              "      <td>3863003.0</td>\n",
              "      <td>38.904056</td>\n",
              "      <td>-77.037973</td>\n",
              "    </tr>\n",
              "    <tr>\n",
              "      <th>3</th>\n",
              "      <td>1969.0</td>\n",
              "      <td>256839.0</td>\n",
              "      <td>213067.0</td>\n",
              "      <td>47.0</td>\n",
              "      <td>46.4</td>\n",
              "      <td>147.7</td>\n",
              "      <td>145.8</td>\n",
              "      <td>1249.2</td>\n",
              "      <td>5.9</td>\n",
              "      <td>5393.8</td>\n",
              "      <td>2936445.0</td>\n",
              "      <td>38.902189</td>\n",
              "      <td>-77.041238</td>\n",
              "    </tr>\n",
              "    <tr>\n",
              "      <th>4</th>\n",
              "      <td>1975.0</td>\n",
              "      <td>370000.0</td>\n",
              "      <td>381518.0</td>\n",
              "      <td>65.7</td>\n",
              "      <td>65.7</td>\n",
              "      <td>206.3</td>\n",
              "      <td>206.3</td>\n",
              "      <td>2874.1</td>\n",
              "      <td>7.5</td>\n",
              "      <td>10422.6</td>\n",
              "      <td>7345290.0</td>\n",
              "      <td>38.904376</td>\n",
              "      <td>-77.046882</td>\n",
              "    </tr>\n",
              "  </tbody>\n",
              "</table>\n",
              "</div>\n",
              "      <button class=\"colab-df-convert\" onclick=\"convertToInteractive('df-5d32347d-beb9-4de8-8fa0-8c17a0e7f172')\"\n",
              "              title=\"Convert this dataframe to an interactive table.\"\n",
              "              style=\"display:none;\">\n",
              "        \n",
              "  <svg xmlns=\"http://www.w3.org/2000/svg\" height=\"24px\"viewBox=\"0 0 24 24\"\n",
              "       width=\"24px\">\n",
              "    <path d=\"M0 0h24v24H0V0z\" fill=\"none\"/>\n",
              "    <path d=\"M18.56 5.44l.94 2.06.94-2.06 2.06-.94-2.06-.94-.94-2.06-.94 2.06-2.06.94zm-11 1L8.5 8.5l.94-2.06 2.06-.94-2.06-.94L8.5 2.5l-.94 2.06-2.06.94zm10 10l.94 2.06.94-2.06 2.06-.94-2.06-.94-.94-2.06-.94 2.06-2.06.94z\"/><path d=\"M17.41 7.96l-1.37-1.37c-.4-.4-.92-.59-1.43-.59-.52 0-1.04.2-1.43.59L10.3 9.45l-7.72 7.72c-.78.78-.78 2.05 0 2.83L4 21.41c.39.39.9.59 1.41.59.51 0 1.02-.2 1.41-.59l7.78-7.78 2.81-2.81c.8-.78.8-2.07 0-2.86zM5.41 20L4 18.59l7.72-7.72 1.47 1.35L5.41 20z\"/>\n",
              "  </svg>\n",
              "      </button>\n",
              "      \n",
              "  <style>\n",
              "    .colab-df-container {\n",
              "      display:flex;\n",
              "      flex-wrap:wrap;\n",
              "      gap: 12px;\n",
              "    }\n",
              "\n",
              "    .colab-df-convert {\n",
              "      background-color: #E8F0FE;\n",
              "      border: none;\n",
              "      border-radius: 50%;\n",
              "      cursor: pointer;\n",
              "      display: none;\n",
              "      fill: #1967D2;\n",
              "      height: 32px;\n",
              "      padding: 0 0 0 0;\n",
              "      width: 32px;\n",
              "    }\n",
              "\n",
              "    .colab-df-convert:hover {\n",
              "      background-color: #E2EBFA;\n",
              "      box-shadow: 0px 1px 2px rgba(60, 64, 67, 0.3), 0px 1px 3px 1px rgba(60, 64, 67, 0.15);\n",
              "      fill: #174EA6;\n",
              "    }\n",
              "\n",
              "    [theme=dark] .colab-df-convert {\n",
              "      background-color: #3B4455;\n",
              "      fill: #D2E3FC;\n",
              "    }\n",
              "\n",
              "    [theme=dark] .colab-df-convert:hover {\n",
              "      background-color: #434B5C;\n",
              "      box-shadow: 0px 1px 3px 1px rgba(0, 0, 0, 0.15);\n",
              "      filter: drop-shadow(0px 1px 2px rgba(0, 0, 0, 0.3));\n",
              "      fill: #FFFFFF;\n",
              "    }\n",
              "  </style>\n",
              "\n",
              "      <script>\n",
              "        const buttonEl =\n",
              "          document.querySelector('#df-5d32347d-beb9-4de8-8fa0-8c17a0e7f172 button.colab-df-convert');\n",
              "        buttonEl.style.display =\n",
              "          google.colab.kernel.accessAllowed ? 'block' : 'none';\n",
              "\n",
              "        async function convertToInteractive(key) {\n",
              "          const element = document.querySelector('#df-5d32347d-beb9-4de8-8fa0-8c17a0e7f172');\n",
              "          const dataTable =\n",
              "            await google.colab.kernel.invokeFunction('convertToInteractive',\n",
              "                                                     [key], {});\n",
              "          if (!dataTable) return;\n",
              "\n",
              "          const docLinkHtml = 'Like what you see? Visit the ' +\n",
              "            '<a target=\"_blank\" href=https://colab.research.google.com/notebooks/data_table.ipynb>data table notebook</a>'\n",
              "            + ' to learn more about interactive tables.';\n",
              "          element.innerHTML = '';\n",
              "          dataTable['output_type'] = 'display_data';\n",
              "          await google.colab.output.renderOutput(dataTable, element);\n",
              "          const docLink = document.createElement('div');\n",
              "          docLink.innerHTML = docLinkHtml;\n",
              "          element.appendChild(docLink);\n",
              "        }\n",
              "      </script>\n",
              "    </div>\n",
              "  </div>\n",
              "  "
            ]
          },
          "metadata": {},
          "execution_count": 157
        }
      ]
    },
    {
      "cell_type": "code",
      "source": [
        "X_categorical_data.head(3)"
      ],
      "metadata": {
        "colab": {
          "base_uri": "https://localhost:8080/",
          "height": 256
        },
        "id": "kbaEQDnObm_J",
        "outputId": "007fbb9f-9931-441e-cf5e-d1906d29a057"
      },
      "execution_count": 158,
      "outputs": [
        {
          "output_type": "execute_result",
          "data": {
            "text/plain": [
              "   report_status                                    owner_of_record ward  \\\n",
              "0  In Compliance  AUBINOE ROCKVIEW LIMITED PARTNERSHP; VICTORY I...  4.0   \n",
              "1  In Compliance                  UNION INVESTMENT REAL ESTATE GMBH  2.0   \n",
              "2  In Compliance          CESC 1101 17TH STREET LIMITED PARTNERSHIP  2.0   \n",
              "\n",
              "  postal_code   primary_ptype_self    primary_ptype_epa metered_areas_energy  \n",
              "0       20011  Multifamily Housing  Multifamily Housing       Whole Building  \n",
              "1       20005               Office               Office       Whole Building  \n",
              "2       20036               Office               Office       Whole Building  "
            ],
            "text/html": [
              "\n",
              "  <div id=\"df-3dd373dd-9d11-4eb9-9d1a-999d85d6d746\">\n",
              "    <div class=\"colab-df-container\">\n",
              "      <div>\n",
              "<style scoped>\n",
              "    .dataframe tbody tr th:only-of-type {\n",
              "        vertical-align: middle;\n",
              "    }\n",
              "\n",
              "    .dataframe tbody tr th {\n",
              "        vertical-align: top;\n",
              "    }\n",
              "\n",
              "    .dataframe thead th {\n",
              "        text-align: right;\n",
              "    }\n",
              "</style>\n",
              "<table border=\"1\" class=\"dataframe\">\n",
              "  <thead>\n",
              "    <tr style=\"text-align: right;\">\n",
              "      <th></th>\n",
              "      <th>report_status</th>\n",
              "      <th>owner_of_record</th>\n",
              "      <th>ward</th>\n",
              "      <th>postal_code</th>\n",
              "      <th>primary_ptype_self</th>\n",
              "      <th>primary_ptype_epa</th>\n",
              "      <th>metered_areas_energy</th>\n",
              "    </tr>\n",
              "  </thead>\n",
              "  <tbody>\n",
              "    <tr>\n",
              "      <th>0</th>\n",
              "      <td>In Compliance</td>\n",
              "      <td>AUBINOE ROCKVIEW LIMITED PARTNERSHP; VICTORY I...</td>\n",
              "      <td>4.0</td>\n",
              "      <td>20011</td>\n",
              "      <td>Multifamily Housing</td>\n",
              "      <td>Multifamily Housing</td>\n",
              "      <td>Whole Building</td>\n",
              "    </tr>\n",
              "    <tr>\n",
              "      <th>1</th>\n",
              "      <td>In Compliance</td>\n",
              "      <td>UNION INVESTMENT REAL ESTATE GMBH</td>\n",
              "      <td>2.0</td>\n",
              "      <td>20005</td>\n",
              "      <td>Office</td>\n",
              "      <td>Office</td>\n",
              "      <td>Whole Building</td>\n",
              "    </tr>\n",
              "    <tr>\n",
              "      <th>2</th>\n",
              "      <td>In Compliance</td>\n",
              "      <td>CESC 1101 17TH STREET LIMITED PARTNERSHIP</td>\n",
              "      <td>2.0</td>\n",
              "      <td>20036</td>\n",
              "      <td>Office</td>\n",
              "      <td>Office</td>\n",
              "      <td>Whole Building</td>\n",
              "    </tr>\n",
              "  </tbody>\n",
              "</table>\n",
              "</div>\n",
              "      <button class=\"colab-df-convert\" onclick=\"convertToInteractive('df-3dd373dd-9d11-4eb9-9d1a-999d85d6d746')\"\n",
              "              title=\"Convert this dataframe to an interactive table.\"\n",
              "              style=\"display:none;\">\n",
              "        \n",
              "  <svg xmlns=\"http://www.w3.org/2000/svg\" height=\"24px\"viewBox=\"0 0 24 24\"\n",
              "       width=\"24px\">\n",
              "    <path d=\"M0 0h24v24H0V0z\" fill=\"none\"/>\n",
              "    <path d=\"M18.56 5.44l.94 2.06.94-2.06 2.06-.94-2.06-.94-.94-2.06-.94 2.06-2.06.94zm-11 1L8.5 8.5l.94-2.06 2.06-.94-2.06-.94L8.5 2.5l-.94 2.06-2.06.94zm10 10l.94 2.06.94-2.06 2.06-.94-2.06-.94-.94-2.06-.94 2.06-2.06.94z\"/><path d=\"M17.41 7.96l-1.37-1.37c-.4-.4-.92-.59-1.43-.59-.52 0-1.04.2-1.43.59L10.3 9.45l-7.72 7.72c-.78.78-.78 2.05 0 2.83L4 21.41c.39.39.9.59 1.41.59.51 0 1.02-.2 1.41-.59l7.78-7.78 2.81-2.81c.8-.78.8-2.07 0-2.86zM5.41 20L4 18.59l7.72-7.72 1.47 1.35L5.41 20z\"/>\n",
              "  </svg>\n",
              "      </button>\n",
              "      \n",
              "  <style>\n",
              "    .colab-df-container {\n",
              "      display:flex;\n",
              "      flex-wrap:wrap;\n",
              "      gap: 12px;\n",
              "    }\n",
              "\n",
              "    .colab-df-convert {\n",
              "      background-color: #E8F0FE;\n",
              "      border: none;\n",
              "      border-radius: 50%;\n",
              "      cursor: pointer;\n",
              "      display: none;\n",
              "      fill: #1967D2;\n",
              "      height: 32px;\n",
              "      padding: 0 0 0 0;\n",
              "      width: 32px;\n",
              "    }\n",
              "\n",
              "    .colab-df-convert:hover {\n",
              "      background-color: #E2EBFA;\n",
              "      box-shadow: 0px 1px 2px rgba(60, 64, 67, 0.3), 0px 1px 3px 1px rgba(60, 64, 67, 0.15);\n",
              "      fill: #174EA6;\n",
              "    }\n",
              "\n",
              "    [theme=dark] .colab-df-convert {\n",
              "      background-color: #3B4455;\n",
              "      fill: #D2E3FC;\n",
              "    }\n",
              "\n",
              "    [theme=dark] .colab-df-convert:hover {\n",
              "      background-color: #434B5C;\n",
              "      box-shadow: 0px 1px 3px 1px rgba(0, 0, 0, 0.15);\n",
              "      filter: drop-shadow(0px 1px 2px rgba(0, 0, 0, 0.3));\n",
              "      fill: #FFFFFF;\n",
              "    }\n",
              "  </style>\n",
              "\n",
              "      <script>\n",
              "        const buttonEl =\n",
              "          document.querySelector('#df-3dd373dd-9d11-4eb9-9d1a-999d85d6d746 button.colab-df-convert');\n",
              "        buttonEl.style.display =\n",
              "          google.colab.kernel.accessAllowed ? 'block' : 'none';\n",
              "\n",
              "        async function convertToInteractive(key) {\n",
              "          const element = document.querySelector('#df-3dd373dd-9d11-4eb9-9d1a-999d85d6d746');\n",
              "          const dataTable =\n",
              "            await google.colab.kernel.invokeFunction('convertToInteractive',\n",
              "                                                     [key], {});\n",
              "          if (!dataTable) return;\n",
              "\n",
              "          const docLinkHtml = 'Like what you see? Visit the ' +\n",
              "            '<a target=\"_blank\" href=https://colab.research.google.com/notebooks/data_table.ipynb>data table notebook</a>'\n",
              "            + ' to learn more about interactive tables.';\n",
              "          element.innerHTML = '';\n",
              "          dataTable['output_type'] = 'display_data';\n",
              "          await google.colab.output.renderOutput(dataTable, element);\n",
              "          const docLink = document.createElement('div');\n",
              "          docLink.innerHTML = docLinkHtml;\n",
              "          element.appendChild(docLink);\n",
              "        }\n",
              "      </script>\n",
              "    </div>\n",
              "  </div>\n",
              "  "
            ]
          },
          "metadata": {},
          "execution_count": 158
        }
      ]
    },
    {
      "cell_type": "code",
      "source": [
        "X_categorical_data.shape"
      ],
      "metadata": {
        "id": "4T_3UDYv_Nft",
        "colab": {
          "base_uri": "https://localhost:8080/"
        },
        "outputId": "d62b43ba-8e50-45f3-8208-53384c07a7a3"
      },
      "execution_count": 159,
      "outputs": [
        {
          "output_type": "execute_result",
          "data": {
            "text/plain": [
              "(1506, 7)"
            ]
          },
          "metadata": {},
          "execution_count": 159
        }
      ]
    },
    {
      "cell_type": "markdown",
      "source": [
        "## TASK 2.1: make a scatter plot to assess covariance of numerical variables"
      ],
      "metadata": {
        "id": "l5MLHK6N8Ywm"
      }
    },
    {
      "cell_type": "markdown",
      "source": [
        "### IMPORTANT!! \n",
        "\n",
        "there are going to be some **very** collinear variable - zoom in and chek them out - what are they? You will need to remove variables that are _identical_, because you obviously do not want to imput the data twice in the model - it will not improve the model and it will impact the feature importance analysis.\n",
        "\n",
        "What else looks like it should be removed? \n",
        "\n",
        "**Reason about it and explain your choices in the caption of the figure**\n",
        "\n"
      ],
      "metadata": {
        "id": "ZtXoL_JgF04s"
      }
    },
    {
      "cell_type": "code",
      "source": [
        "# THIS TAKES A LOOOONG TIME! ~10 MINUTES ON COLAB FOR ME\n",
        "# I deleted output by putting it in #, is that what you meant?\n",
        "#sns.pairplot(X_numeric_data)"
      ],
      "metadata": {
        "id": "zsWGebVX80OQ"
      },
      "execution_count": 160,
      "outputs": []
    },
    {
      "cell_type": "markdown",
      "source": [
        "I didn't look at the plots as much this time around because a lot of the columns were the same as the ones I'd decided to delete for Chicago/first pass at DC. I did keep lat/long just to make it spicy this time.\n",
        "\n",
        "It's interesting: this version of the DC data must have had the natural gas values added or fixed because I dropped it for having 50% missing above, but the other version of this data set still had it here. This set also doesn't have energy star score or total site energy kbtu."
      ],
      "metadata": {
        "id": "elt8FIJTeRv6"
      }
    },
    {
      "cell_type": "code",
      "source": [
        "# checking if maybe I should have used this data? but it wouldn't import so too bad\n",
        "#moredcdata = pd.read_csv(\"https://github.com/Urban-Informatics-Lab/Open-Data-Benchmarking/blob/master/DC/dc_energy_geocoded.csv\")"
      ],
      "metadata": {
        "id": "NEar1iWDhJfg"
      },
      "execution_count": 161,
      "outputs": []
    },
    {
      "cell_type": "markdown",
      "source": [
        "Dr. Bianco and I talked about what to drop! I deleted ALL the EUI ones (including \"weather-normalized\") electricity use, gas use, and GHG measures because they are basically all redundant or intra-dependent measures of energy use. "
      ],
      "metadata": {
        "id": "YcrYKxCQjvzK"
      }
    },
    {
      "cell_type": "code",
      "source": [
        "# which rows should you drop?\n",
        "X_numeric_data.drop([\"electricity_use\", \"site_eui\", \"weather_norm_site_eui\", \n",
        "                     \"source_eui\", \"weather_norm_source_eui\", \n",
        "                     \"total_ghg_emissions_intensity\", \"total_ghg_emissions\"], \n",
        "                    axis=1, inplace=True)"
      ],
      "metadata": {
        "colab": {
          "base_uri": "https://localhost:8080/"
        },
        "id": "zH6H4PV1GeqB",
        "outputId": "0191a88b-800b-4517-ca5a-c3276577b9a4"
      },
      "execution_count": 162,
      "outputs": [
        {
          "output_type": "stream",
          "name": "stderr",
          "text": [
            "/usr/local/lib/python3.7/dist-packages/pandas/core/frame.py:4913: SettingWithCopyWarning: \n",
            "A value is trying to be set on a copy of a slice from a DataFrame\n",
            "\n",
            "See the caveats in the documentation: https://pandas.pydata.org/pandas-docs/stable/user_guide/indexing.html#returning-a-view-versus-a-copy\n",
            "  errors=errors,\n"
          ]
        }
      ]
    },
    {
      "cell_type": "code",
      "source": [
        "X_numeric_data.describe()"
      ],
      "metadata": {
        "id": "oCLGV84IICwN",
        "colab": {
          "base_uri": "https://localhost:8080/",
          "height": 300
        },
        "outputId": "07f4323e-2663-410a-ddbb-e35ee91b0089"
      },
      "execution_count": 163,
      "outputs": [
        {
          "output_type": "execute_result",
          "data": {
            "text/plain": [
              "        year_built  tax_record_floor_area  reported_gross_floor_area  \\\n",
              "count  1503.000000           1.506000e+03               1.506000e+03   \n",
              "mean   1940.258816           2.059340e+05               1.886712e+05   \n",
              "std     168.258449           2.483237e+05               2.440733e+05   \n",
              "min    1000.000000           9.171000e+03               5.982000e+03   \n",
              "25%    1945.000000           7.139625e+04               7.000350e+04   \n",
              "50%    1970.000000           1.287695e+05               1.199814e+05   \n",
              "75%    1994.000000           2.581805e+05               2.349805e+05   \n",
              "max    2017.000000           3.997572e+06               5.634890e+06   \n",
              "\n",
              "          water_use     latitude    longitude  \n",
              "count  1.296000e+03  1444.000000  1444.000000  \n",
              "mean   5.642857e+04    38.908326   -77.026829  \n",
              "std    6.535778e+05     0.024269     0.029901  \n",
              "min    0.000000e+00    38.813539   -77.100527  \n",
              "25%    2.168150e+03    38.898738   -77.044200  \n",
              "50%    4.182900e+03    38.904623   -77.031576  \n",
              "75%    7.320475e+03    38.921214   -77.011514  \n",
              "max    1.929391e+07    38.983573   -76.919927  "
            ],
            "text/html": [
              "\n",
              "  <div id=\"df-1511ee53-ee64-4f6e-b878-711abe9e8b0d\">\n",
              "    <div class=\"colab-df-container\">\n",
              "      <div>\n",
              "<style scoped>\n",
              "    .dataframe tbody tr th:only-of-type {\n",
              "        vertical-align: middle;\n",
              "    }\n",
              "\n",
              "    .dataframe tbody tr th {\n",
              "        vertical-align: top;\n",
              "    }\n",
              "\n",
              "    .dataframe thead th {\n",
              "        text-align: right;\n",
              "    }\n",
              "</style>\n",
              "<table border=\"1\" class=\"dataframe\">\n",
              "  <thead>\n",
              "    <tr style=\"text-align: right;\">\n",
              "      <th></th>\n",
              "      <th>year_built</th>\n",
              "      <th>tax_record_floor_area</th>\n",
              "      <th>reported_gross_floor_area</th>\n",
              "      <th>water_use</th>\n",
              "      <th>latitude</th>\n",
              "      <th>longitude</th>\n",
              "    </tr>\n",
              "  </thead>\n",
              "  <tbody>\n",
              "    <tr>\n",
              "      <th>count</th>\n",
              "      <td>1503.000000</td>\n",
              "      <td>1.506000e+03</td>\n",
              "      <td>1.506000e+03</td>\n",
              "      <td>1.296000e+03</td>\n",
              "      <td>1444.000000</td>\n",
              "      <td>1444.000000</td>\n",
              "    </tr>\n",
              "    <tr>\n",
              "      <th>mean</th>\n",
              "      <td>1940.258816</td>\n",
              "      <td>2.059340e+05</td>\n",
              "      <td>1.886712e+05</td>\n",
              "      <td>5.642857e+04</td>\n",
              "      <td>38.908326</td>\n",
              "      <td>-77.026829</td>\n",
              "    </tr>\n",
              "    <tr>\n",
              "      <th>std</th>\n",
              "      <td>168.258449</td>\n",
              "      <td>2.483237e+05</td>\n",
              "      <td>2.440733e+05</td>\n",
              "      <td>6.535778e+05</td>\n",
              "      <td>0.024269</td>\n",
              "      <td>0.029901</td>\n",
              "    </tr>\n",
              "    <tr>\n",
              "      <th>min</th>\n",
              "      <td>1000.000000</td>\n",
              "      <td>9.171000e+03</td>\n",
              "      <td>5.982000e+03</td>\n",
              "      <td>0.000000e+00</td>\n",
              "      <td>38.813539</td>\n",
              "      <td>-77.100527</td>\n",
              "    </tr>\n",
              "    <tr>\n",
              "      <th>25%</th>\n",
              "      <td>1945.000000</td>\n",
              "      <td>7.139625e+04</td>\n",
              "      <td>7.000350e+04</td>\n",
              "      <td>2.168150e+03</td>\n",
              "      <td>38.898738</td>\n",
              "      <td>-77.044200</td>\n",
              "    </tr>\n",
              "    <tr>\n",
              "      <th>50%</th>\n",
              "      <td>1970.000000</td>\n",
              "      <td>1.287695e+05</td>\n",
              "      <td>1.199814e+05</td>\n",
              "      <td>4.182900e+03</td>\n",
              "      <td>38.904623</td>\n",
              "      <td>-77.031576</td>\n",
              "    </tr>\n",
              "    <tr>\n",
              "      <th>75%</th>\n",
              "      <td>1994.000000</td>\n",
              "      <td>2.581805e+05</td>\n",
              "      <td>2.349805e+05</td>\n",
              "      <td>7.320475e+03</td>\n",
              "      <td>38.921214</td>\n",
              "      <td>-77.011514</td>\n",
              "    </tr>\n",
              "    <tr>\n",
              "      <th>max</th>\n",
              "      <td>2017.000000</td>\n",
              "      <td>3.997572e+06</td>\n",
              "      <td>5.634890e+06</td>\n",
              "      <td>1.929391e+07</td>\n",
              "      <td>38.983573</td>\n",
              "      <td>-76.919927</td>\n",
              "    </tr>\n",
              "  </tbody>\n",
              "</table>\n",
              "</div>\n",
              "      <button class=\"colab-df-convert\" onclick=\"convertToInteractive('df-1511ee53-ee64-4f6e-b878-711abe9e8b0d')\"\n",
              "              title=\"Convert this dataframe to an interactive table.\"\n",
              "              style=\"display:none;\">\n",
              "        \n",
              "  <svg xmlns=\"http://www.w3.org/2000/svg\" height=\"24px\"viewBox=\"0 0 24 24\"\n",
              "       width=\"24px\">\n",
              "    <path d=\"M0 0h24v24H0V0z\" fill=\"none\"/>\n",
              "    <path d=\"M18.56 5.44l.94 2.06.94-2.06 2.06-.94-2.06-.94-.94-2.06-.94 2.06-2.06.94zm-11 1L8.5 8.5l.94-2.06 2.06-.94-2.06-.94L8.5 2.5l-.94 2.06-2.06.94zm10 10l.94 2.06.94-2.06 2.06-.94-2.06-.94-.94-2.06-.94 2.06-2.06.94z\"/><path d=\"M17.41 7.96l-1.37-1.37c-.4-.4-.92-.59-1.43-.59-.52 0-1.04.2-1.43.59L10.3 9.45l-7.72 7.72c-.78.78-.78 2.05 0 2.83L4 21.41c.39.39.9.59 1.41.59.51 0 1.02-.2 1.41-.59l7.78-7.78 2.81-2.81c.8-.78.8-2.07 0-2.86zM5.41 20L4 18.59l7.72-7.72 1.47 1.35L5.41 20z\"/>\n",
              "  </svg>\n",
              "      </button>\n",
              "      \n",
              "  <style>\n",
              "    .colab-df-container {\n",
              "      display:flex;\n",
              "      flex-wrap:wrap;\n",
              "      gap: 12px;\n",
              "    }\n",
              "\n",
              "    .colab-df-convert {\n",
              "      background-color: #E8F0FE;\n",
              "      border: none;\n",
              "      border-radius: 50%;\n",
              "      cursor: pointer;\n",
              "      display: none;\n",
              "      fill: #1967D2;\n",
              "      height: 32px;\n",
              "      padding: 0 0 0 0;\n",
              "      width: 32px;\n",
              "    }\n",
              "\n",
              "    .colab-df-convert:hover {\n",
              "      background-color: #E2EBFA;\n",
              "      box-shadow: 0px 1px 2px rgba(60, 64, 67, 0.3), 0px 1px 3px 1px rgba(60, 64, 67, 0.15);\n",
              "      fill: #174EA6;\n",
              "    }\n",
              "\n",
              "    [theme=dark] .colab-df-convert {\n",
              "      background-color: #3B4455;\n",
              "      fill: #D2E3FC;\n",
              "    }\n",
              "\n",
              "    [theme=dark] .colab-df-convert:hover {\n",
              "      background-color: #434B5C;\n",
              "      box-shadow: 0px 1px 3px 1px rgba(0, 0, 0, 0.15);\n",
              "      filter: drop-shadow(0px 1px 2px rgba(0, 0, 0, 0.3));\n",
              "      fill: #FFFFFF;\n",
              "    }\n",
              "  </style>\n",
              "\n",
              "      <script>\n",
              "        const buttonEl =\n",
              "          document.querySelector('#df-1511ee53-ee64-4f6e-b878-711abe9e8b0d button.colab-df-convert');\n",
              "        buttonEl.style.display =\n",
              "          google.colab.kernel.accessAllowed ? 'block' : 'none';\n",
              "\n",
              "        async function convertToInteractive(key) {\n",
              "          const element = document.querySelector('#df-1511ee53-ee64-4f6e-b878-711abe9e8b0d');\n",
              "          const dataTable =\n",
              "            await google.colab.kernel.invokeFunction('convertToInteractive',\n",
              "                                                     [key], {});\n",
              "          if (!dataTable) return;\n",
              "\n",
              "          const docLinkHtml = 'Like what you see? Visit the ' +\n",
              "            '<a target=\"_blank\" href=https://colab.research.google.com/notebooks/data_table.ipynb>data table notebook</a>'\n",
              "            + ' to learn more about interactive tables.';\n",
              "          element.innerHTML = '';\n",
              "          dataTable['output_type'] = 'display_data';\n",
              "          await google.colab.output.renderOutput(dataTable, element);\n",
              "          const docLink = document.createElement('div');\n",
              "          docLink.innerHTML = docLinkHtml;\n",
              "          element.appendChild(docLink);\n",
              "        }\n",
              "      </script>\n",
              "    </div>\n",
              "  </div>\n",
              "  "
            ]
          },
          "metadata": {},
          "execution_count": 163
        }
      ]
    },
    {
      "cell_type": "code",
      "source": [
        "# this does not have to be identical to my output as you may have dropped different variables\n",
        "print(\"there are (rows, columns) = \", X_numeric_data.shape, \"in the numerical variables\")"
      ],
      "metadata": {
        "colab": {
          "base_uri": "https://localhost:8080/"
        },
        "id": "cbChlcXUG2rI",
        "outputId": "0968f1f5-a663-4cb5-95ad-a6e9631747b4"
      },
      "execution_count": 164,
      "outputs": [
        {
          "output_type": "stream",
          "name": "stdout",
          "text": [
            "there are (rows, columns) =  (1506, 6) in the numerical variables\n"
          ]
        }
      ]
    },
    {
      "cell_type": "markdown",
      "source": [
        "As they do in the original research https://github.com/Urban-Informatics-Lab/Open-Data-Benchmarking/blob/master/Lasso_RandomForest.Rmd we should transform some variables into their log values \n",
        "\n",
        "their original code (which is in R not in python!) is\n",
        "```\n",
        "x_seattle$log_total_area=log(x_seattle$gross_floor_area_total_SF)\n",
        "x_seattle$log_parking_area=log(x_seattle$gross_floor_area_parking_SF)\n",
        "x_seattle$log_bldg_area=log(x_seattle$gross_floor_area_building_SF)\n",
        "x_seattle$log_area_1=log(x_seattle$gross_floor_area_property_type_first_SF)\n",
        "\n",
        "```\n",
        "the names are a bit different\n"
      ],
      "metadata": {
        "id": "hVYsiqOK8SJp"
      }
    },
    {
      "cell_type": "code",
      "source": [
        "# note: recheck missing values \n",
        "# this is important: after I apply the log function to some variables cause log(0) = -infinity\n",
        "print(\"there are {} missing or infinity values in the numerical data\".format(X_numeric_data.isnull().sum().sum()))"
      ],
      "metadata": {
        "colab": {
          "base_uri": "https://localhost:8080/"
        },
        "id": "_1Zul4fDAiip",
        "outputId": "328240a1-a5f0-4658-c089-06194f8ba722"
      },
      "execution_count": 165,
      "outputs": [
        {
          "output_type": "stream",
          "name": "stdout",
          "text": [
            "there are 337 missing or infinity values in the numerical data\n"
          ]
        }
      ]
    },
    {
      "cell_type": "code",
      "source": [
        "# translated to python\n",
        "X_numeric_data[\"tax_record_floor_area\"] = np.log10(X_numeric_data[\"tax_record_floor_area\"])"
      ],
      "metadata": {
        "id": "ctHl1vEQAG8Z",
        "colab": {
          "base_uri": "https://localhost:8080/"
        },
        "outputId": "6cacb338-e98b-4cc6-eeca-dcc2378a3c51"
      },
      "execution_count": 166,
      "outputs": [
        {
          "output_type": "stream",
          "name": "stderr",
          "text": [
            "/usr/local/lib/python3.7/dist-packages/ipykernel_launcher.py:2: SettingWithCopyWarning: \n",
            "A value is trying to be set on a copy of a slice from a DataFrame.\n",
            "Try using .loc[row_indexer,col_indexer] = value instead\n",
            "\n",
            "See the caveats in the documentation: https://pandas.pydata.org/pandas-docs/stable/user_guide/indexing.html#returning-a-view-versus-a-copy\n",
            "  \n"
          ]
        }
      ]
    },
    {
      "cell_type": "code",
      "source": [
        "X_numeric_data[\"reported_gross_floor_area\"] = np.log10(X_numeric_data[\"reported_gross_floor_area\"])\n",
        "X_numeric_data[\"water_use\"] = np.log10(X_numeric_data[\"water_use\"])"
      ],
      "metadata": {
        "colab": {
          "base_uri": "https://localhost:8080/"
        },
        "id": "BOEAriU3YV7Z",
        "outputId": "d7e281ec-d92d-4c19-de19-59060835b3a1"
      },
      "execution_count": 167,
      "outputs": [
        {
          "output_type": "stream",
          "name": "stderr",
          "text": [
            "/usr/local/lib/python3.7/dist-packages/ipykernel_launcher.py:1: SettingWithCopyWarning: \n",
            "A value is trying to be set on a copy of a slice from a DataFrame.\n",
            "Try using .loc[row_indexer,col_indexer] = value instead\n",
            "\n",
            "See the caveats in the documentation: https://pandas.pydata.org/pandas-docs/stable/user_guide/indexing.html#returning-a-view-versus-a-copy\n",
            "  \"\"\"Entry point for launching an IPython kernel.\n",
            "/usr/local/lib/python3.7/dist-packages/pandas/core/arraylike.py:364: RuntimeWarning: divide by zero encountered in log10\n",
            "  result = getattr(ufunc, method)(*inputs, **kwargs)\n",
            "/usr/local/lib/python3.7/dist-packages/ipykernel_launcher.py:2: SettingWithCopyWarning: \n",
            "A value is trying to be set on a copy of a slice from a DataFrame.\n",
            "Try using .loc[row_indexer,col_indexer] = value instead\n",
            "\n",
            "See the caveats in the documentation: https://pandas.pydata.org/pandas-docs/stable/user_guide/indexing.html#returning-a-view-versus-a-copy\n",
            "  \n"
          ]
        }
      ]
    },
    {
      "cell_type": "code",
      "source": [
        "print(\"number of infinite values:\", (np.isinf(X_numeric_data)).sum().sum())"
      ],
      "metadata": {
        "id": "RkNEiGU5vzxz",
        "colab": {
          "base_uri": "https://localhost:8080/"
        },
        "outputId": "ddace2da-f273-45a7-bbf0-24a02959496d"
      },
      "execution_count": 168,
      "outputs": [
        {
          "output_type": "stream",
          "name": "stdout",
          "text": [
            "number of infinite values: 4\n"
          ]
        }
      ]
    },
    {
      "cell_type": "markdown",
      "metadata": {
        "id": "Da-93SxbMFCX"
      },
      "source": [
        "check what happened to missing values: they may have grown! because  log(0) = -infinity - fix infinities replacing them with NaN \n",
        "\n",
        "(in in https://github.com/Urban-Informatics-Lab/Open-Data-Benchmarking/blob/master/Lasso_RandomForest.Rmd they had replaced them with 0 but I object to that)"
      ]
    },
    {
      "cell_type": "code",
      "source": [
        "# this has to return 0 now\n",
        "X_numeric_data.replace(-np.inf, np.nan, inplace=True)\n",
        "print(\"number of infinite values:\", (np.isinf(X_numeric_data)).sum().sum())"
      ],
      "metadata": {
        "colab": {
          "base_uri": "https://localhost:8080/"
        },
        "id": "qRz_WdUVutWc",
        "outputId": "0ab2deef-5569-4770-d2d8-dbadc3760e7c"
      },
      "execution_count": 169,
      "outputs": [
        {
          "output_type": "stream",
          "name": "stdout",
          "text": [
            "number of infinite values: 0\n"
          ]
        },
        {
          "output_type": "stream",
          "name": "stderr",
          "text": [
            "/usr/local/lib/python3.7/dist-packages/pandas/core/frame.py:5244: SettingWithCopyWarning: \n",
            "A value is trying to be set on a copy of a slice from a DataFrame\n",
            "\n",
            "See the caveats in the documentation: https://pandas.pydata.org/pandas-docs/stable/user_guide/indexing.html#returning-a-view-versus-a-copy\n",
            "  method=method,\n"
          ]
        }
      ]
    },
    {
      "cell_type": "code",
      "source": [
        "print(\"the numerical data contains (rows, columns) = \", X_numeric_data.shape)\n",
        "print(\"there are {} missing values in the numerical data\".format(X_numeric_data.isnull().sum().sum()))"
      ],
      "metadata": {
        "colab": {
          "base_uri": "https://localhost:8080/"
        },
        "id": "hBYQpTJrBZK4",
        "outputId": "96e87cb6-3738-4965-c395-bcbf767eb727"
      },
      "execution_count": 170,
      "outputs": [
        {
          "output_type": "stream",
          "name": "stdout",
          "text": [
            "the numerical data contains (rows, columns) =  (1506, 6)\n",
            "there are 341 missing values in the numerical data\n"
          ]
        }
      ]
    },
    {
      "cell_type": "code",
      "source": [
        "#the missing data is in water use\n",
        "X_numeric_data.info()"
      ],
      "metadata": {
        "colab": {
          "base_uri": "https://localhost:8080/"
        },
        "id": "F7DHLRgsZVax",
        "outputId": "fb15accb-1000-4792-b0c2-c9d22c8fd521"
      },
      "execution_count": 171,
      "outputs": [
        {
          "output_type": "stream",
          "name": "stdout",
          "text": [
            "<class 'pandas.core.frame.DataFrame'>\n",
            "Int64Index: 1506 entries, 0 to 2180\n",
            "Data columns (total 6 columns):\n",
            " #   Column                     Non-Null Count  Dtype  \n",
            "---  ------                     --------------  -----  \n",
            " 0   year_built                 1503 non-null   float64\n",
            " 1   tax_record_floor_area      1506 non-null   float64\n",
            " 2   reported_gross_floor_area  1506 non-null   float64\n",
            " 3   water_use                  1292 non-null   float64\n",
            " 4   latitude                   1444 non-null   float64\n",
            " 5   longitude                  1444 non-null   float64\n",
            "dtypes: float64(6)\n",
            "memory usage: 82.4 KB\n"
          ]
        }
      ]
    },
    {
      "cell_type": "markdown",
      "source": [
        "So I am mostly missing data for water use, but also quite a few for lat/long."
      ],
      "metadata": {
        "id": "zfmQ8bNJjUwS"
      }
    },
    {
      "cell_type": "markdown",
      "source": [
        "\n",
        "you can use `KNNImputer` on the numerical variables, but KNNImputer would fail on categorical variables so you are left with NaNs on categorical variables, which you then need to drop before you run the Random Forest\n",
        "\n",
        "\n",
        "You can impute separately the numerical and categorical variables, the numerical ones with KNNImputer and the categorical ones with SimpleImputer"
      ],
      "metadata": {
        "id": "QbpwzPij5A8z"
      }
    },
    {
      "cell_type": "markdown",
      "metadata": {
        "id": "dfQnS9eVZ7A4"
      },
      "source": [
        "## TASK 2.2 use Nearest Neighbor Imputer to impute missing values in numerical features\n",
        "\n",
        "here we are deviating from the paper. NN imputation is simpler and more common, I think it may be more useful to you in general"
      ]
    },
    {
      "cell_type": "code",
      "metadata": {
        "id": "gNLiSt1fOCz4",
        "colab": {
          "base_uri": "https://localhost:8080/"
        },
        "outputId": "9d5c1a45-1335-4a55-bdd4-53c1fca97598"
      },
      "source": [
        "imputer = KNNImputer()\n",
        "Xn = imputer.fit_transform(X_numeric_data)\n",
        "Xn"
      ],
      "execution_count": 172,
      "outputs": [
        {
          "output_type": "execute_result",
          "data": {
            "text/plain": [
              "array([[1959.        ,    4.80090258,    4.81291336,    3.84282758,\n",
              "          38.96359693,  -77.033848  ],\n",
              "       [1997.        ,    5.40063641,    5.41152375,    3.92890769,\n",
              "          38.89784861,  -77.02987163],\n",
              "       [1964.        ,    5.51923716,    5.34872921,    3.94196338,\n",
              "          38.90405585,  -77.03797318],\n",
              "       ...,\n",
              "       [1960.        ,    6.03952317,    5.00838723,    4.29946589,\n",
              "          38.924529  ,  -77.020981  ],\n",
              "       [1952.        ,    5.21046299,    4.99500303,    2.96241669,\n",
              "          38.921564  ,  -77.021498  ],\n",
              "       [1994.        ,    5.2799269 ,    5.35218252,    4.11694628,\n",
              "          38.920882  ,  -77.017807  ]])"
            ]
          },
          "metadata": {},
          "execution_count": 172
        }
      ]
    },
    {
      "cell_type": "code",
      "source": [
        "numeric_whatswrong = pd.DataFrame(Xn)"
      ],
      "metadata": {
        "id": "n91KLbu4E-s8"
      },
      "execution_count": 173,
      "outputs": []
    },
    {
      "cell_type": "code",
      "source": [
        "numeric_whatswrong.info()"
      ],
      "metadata": {
        "colab": {
          "base_uri": "https://localhost:8080/"
        },
        "id": "kSrTPndUFL9l",
        "outputId": "2bcd2aac-4042-48e5-b4c8-b4ed4150562a"
      },
      "execution_count": 174,
      "outputs": [
        {
          "output_type": "stream",
          "name": "stdout",
          "text": [
            "<class 'pandas.core.frame.DataFrame'>\n",
            "RangeIndex: 1506 entries, 0 to 1505\n",
            "Data columns (total 6 columns):\n",
            " #   Column  Non-Null Count  Dtype  \n",
            "---  ------  --------------  -----  \n",
            " 0   0       1506 non-null   float64\n",
            " 1   1       1506 non-null   float64\n",
            " 2   2       1506 non-null   float64\n",
            " 3   3       1506 non-null   float64\n",
            " 4   4       1506 non-null   float64\n",
            " 5   5       1506 non-null   float64\n",
            "dtypes: float64(6)\n",
            "memory usage: 70.7 KB\n"
          ]
        }
      ]
    },
    {
      "cell_type": "code",
      "source": [
        "print(\"number of infinite values:\", (np.isinf(numeric_whatswrong)).sum().sum())"
      ],
      "metadata": {
        "colab": {
          "base_uri": "https://localhost:8080/"
        },
        "id": "FUqPeLXPFUjF",
        "outputId": "61b5ddfb-3244-4294-b177-d6e49870805d"
      },
      "execution_count": 175,
      "outputs": [
        {
          "output_type": "stream",
          "name": "stdout",
          "text": [
            "number of infinite values: 0\n"
          ]
        }
      ]
    },
    {
      "cell_type": "code",
      "source": [
        "numeric_whatswrong.describe()"
      ],
      "metadata": {
        "colab": {
          "base_uri": "https://localhost:8080/",
          "height": 300
        },
        "id": "mm2LGGipFwtl",
        "outputId": "01b08b10-f18b-402d-9ab9-ce5dbeba2157"
      },
      "execution_count": 176,
      "outputs": [
        {
          "output_type": "execute_result",
          "data": {
            "text/plain": [
              "                 0            1            2            3            4  \\\n",
              "count  1506.000000  1506.000000  1506.000000  1506.000000  1506.000000   \n",
              "mean   1940.352988     5.135574     5.105672     3.599606    38.908373   \n",
              "std     168.103973     0.389268     0.377645     0.616912     0.023891   \n",
              "min    1000.000000     3.962417     3.776846    -0.221849    38.813539   \n",
              "25%    1945.250000     4.853675     4.845120     3.344072    38.898746   \n",
              "50%    1970.500000     5.109813     5.079114     3.624375    38.904656   \n",
              "75%    1994.000000     5.411923     5.371032     3.885368    38.920870   \n",
              "max    2017.000000     6.601796     6.750885     7.285420    38.983573   \n",
              "\n",
              "                 5  \n",
              "count  1506.000000  \n",
              "mean    -77.026888  \n",
              "std       0.029374  \n",
              "min     -77.100527  \n",
              "25%     -77.043871  \n",
              "50%     -77.031404  \n",
              "75%     -77.012701  \n",
              "max     -76.919927  "
            ],
            "text/html": [
              "\n",
              "  <div id=\"df-aeb0cea8-9193-4e6b-b1a2-bea8a840410d\">\n",
              "    <div class=\"colab-df-container\">\n",
              "      <div>\n",
              "<style scoped>\n",
              "    .dataframe tbody tr th:only-of-type {\n",
              "        vertical-align: middle;\n",
              "    }\n",
              "\n",
              "    .dataframe tbody tr th {\n",
              "        vertical-align: top;\n",
              "    }\n",
              "\n",
              "    .dataframe thead th {\n",
              "        text-align: right;\n",
              "    }\n",
              "</style>\n",
              "<table border=\"1\" class=\"dataframe\">\n",
              "  <thead>\n",
              "    <tr style=\"text-align: right;\">\n",
              "      <th></th>\n",
              "      <th>0</th>\n",
              "      <th>1</th>\n",
              "      <th>2</th>\n",
              "      <th>3</th>\n",
              "      <th>4</th>\n",
              "      <th>5</th>\n",
              "    </tr>\n",
              "  </thead>\n",
              "  <tbody>\n",
              "    <tr>\n",
              "      <th>count</th>\n",
              "      <td>1506.000000</td>\n",
              "      <td>1506.000000</td>\n",
              "      <td>1506.000000</td>\n",
              "      <td>1506.000000</td>\n",
              "      <td>1506.000000</td>\n",
              "      <td>1506.000000</td>\n",
              "    </tr>\n",
              "    <tr>\n",
              "      <th>mean</th>\n",
              "      <td>1940.352988</td>\n",
              "      <td>5.135574</td>\n",
              "      <td>5.105672</td>\n",
              "      <td>3.599606</td>\n",
              "      <td>38.908373</td>\n",
              "      <td>-77.026888</td>\n",
              "    </tr>\n",
              "    <tr>\n",
              "      <th>std</th>\n",
              "      <td>168.103973</td>\n",
              "      <td>0.389268</td>\n",
              "      <td>0.377645</td>\n",
              "      <td>0.616912</td>\n",
              "      <td>0.023891</td>\n",
              "      <td>0.029374</td>\n",
              "    </tr>\n",
              "    <tr>\n",
              "      <th>min</th>\n",
              "      <td>1000.000000</td>\n",
              "      <td>3.962417</td>\n",
              "      <td>3.776846</td>\n",
              "      <td>-0.221849</td>\n",
              "      <td>38.813539</td>\n",
              "      <td>-77.100527</td>\n",
              "    </tr>\n",
              "    <tr>\n",
              "      <th>25%</th>\n",
              "      <td>1945.250000</td>\n",
              "      <td>4.853675</td>\n",
              "      <td>4.845120</td>\n",
              "      <td>3.344072</td>\n",
              "      <td>38.898746</td>\n",
              "      <td>-77.043871</td>\n",
              "    </tr>\n",
              "    <tr>\n",
              "      <th>50%</th>\n",
              "      <td>1970.500000</td>\n",
              "      <td>5.109813</td>\n",
              "      <td>5.079114</td>\n",
              "      <td>3.624375</td>\n",
              "      <td>38.904656</td>\n",
              "      <td>-77.031404</td>\n",
              "    </tr>\n",
              "    <tr>\n",
              "      <th>75%</th>\n",
              "      <td>1994.000000</td>\n",
              "      <td>5.411923</td>\n",
              "      <td>5.371032</td>\n",
              "      <td>3.885368</td>\n",
              "      <td>38.920870</td>\n",
              "      <td>-77.012701</td>\n",
              "    </tr>\n",
              "    <tr>\n",
              "      <th>max</th>\n",
              "      <td>2017.000000</td>\n",
              "      <td>6.601796</td>\n",
              "      <td>6.750885</td>\n",
              "      <td>7.285420</td>\n",
              "      <td>38.983573</td>\n",
              "      <td>-76.919927</td>\n",
              "    </tr>\n",
              "  </tbody>\n",
              "</table>\n",
              "</div>\n",
              "      <button class=\"colab-df-convert\" onclick=\"convertToInteractive('df-aeb0cea8-9193-4e6b-b1a2-bea8a840410d')\"\n",
              "              title=\"Convert this dataframe to an interactive table.\"\n",
              "              style=\"display:none;\">\n",
              "        \n",
              "  <svg xmlns=\"http://www.w3.org/2000/svg\" height=\"24px\"viewBox=\"0 0 24 24\"\n",
              "       width=\"24px\">\n",
              "    <path d=\"M0 0h24v24H0V0z\" fill=\"none\"/>\n",
              "    <path d=\"M18.56 5.44l.94 2.06.94-2.06 2.06-.94-2.06-.94-.94-2.06-.94 2.06-2.06.94zm-11 1L8.5 8.5l.94-2.06 2.06-.94-2.06-.94L8.5 2.5l-.94 2.06-2.06.94zm10 10l.94 2.06.94-2.06 2.06-.94-2.06-.94-.94-2.06-.94 2.06-2.06.94z\"/><path d=\"M17.41 7.96l-1.37-1.37c-.4-.4-.92-.59-1.43-.59-.52 0-1.04.2-1.43.59L10.3 9.45l-7.72 7.72c-.78.78-.78 2.05 0 2.83L4 21.41c.39.39.9.59 1.41.59.51 0 1.02-.2 1.41-.59l7.78-7.78 2.81-2.81c.8-.78.8-2.07 0-2.86zM5.41 20L4 18.59l7.72-7.72 1.47 1.35L5.41 20z\"/>\n",
              "  </svg>\n",
              "      </button>\n",
              "      \n",
              "  <style>\n",
              "    .colab-df-container {\n",
              "      display:flex;\n",
              "      flex-wrap:wrap;\n",
              "      gap: 12px;\n",
              "    }\n",
              "\n",
              "    .colab-df-convert {\n",
              "      background-color: #E8F0FE;\n",
              "      border: none;\n",
              "      border-radius: 50%;\n",
              "      cursor: pointer;\n",
              "      display: none;\n",
              "      fill: #1967D2;\n",
              "      height: 32px;\n",
              "      padding: 0 0 0 0;\n",
              "      width: 32px;\n",
              "    }\n",
              "\n",
              "    .colab-df-convert:hover {\n",
              "      background-color: #E2EBFA;\n",
              "      box-shadow: 0px 1px 2px rgba(60, 64, 67, 0.3), 0px 1px 3px 1px rgba(60, 64, 67, 0.15);\n",
              "      fill: #174EA6;\n",
              "    }\n",
              "\n",
              "    [theme=dark] .colab-df-convert {\n",
              "      background-color: #3B4455;\n",
              "      fill: #D2E3FC;\n",
              "    }\n",
              "\n",
              "    [theme=dark] .colab-df-convert:hover {\n",
              "      background-color: #434B5C;\n",
              "      box-shadow: 0px 1px 3px 1px rgba(0, 0, 0, 0.15);\n",
              "      filter: drop-shadow(0px 1px 2px rgba(0, 0, 0, 0.3));\n",
              "      fill: #FFFFFF;\n",
              "    }\n",
              "  </style>\n",
              "\n",
              "      <script>\n",
              "        const buttonEl =\n",
              "          document.querySelector('#df-aeb0cea8-9193-4e6b-b1a2-bea8a840410d button.colab-df-convert');\n",
              "        buttonEl.style.display =\n",
              "          google.colab.kernel.accessAllowed ? 'block' : 'none';\n",
              "\n",
              "        async function convertToInteractive(key) {\n",
              "          const element = document.querySelector('#df-aeb0cea8-9193-4e6b-b1a2-bea8a840410d');\n",
              "          const dataTable =\n",
              "            await google.colab.kernel.invokeFunction('convertToInteractive',\n",
              "                                                     [key], {});\n",
              "          if (!dataTable) return;\n",
              "\n",
              "          const docLinkHtml = 'Like what you see? Visit the ' +\n",
              "            '<a target=\"_blank\" href=https://colab.research.google.com/notebooks/data_table.ipynb>data table notebook</a>'\n",
              "            + ' to learn more about interactive tables.';\n",
              "          element.innerHTML = '';\n",
              "          dataTable['output_type'] = 'display_data';\n",
              "          await google.colab.output.renderOutput(dataTable, element);\n",
              "          const docLink = document.createElement('div');\n",
              "          docLink.innerHTML = docLinkHtml;\n",
              "          element.appendChild(docLink);\n",
              "        }\n",
              "      </script>\n",
              "    </div>\n",
              "  </div>\n",
              "  "
            ]
          },
          "metadata": {},
          "execution_count": 176
        }
      ]
    },
    {
      "cell_type": "markdown",
      "metadata": {
        "id": "mW5GNpU0aFIO"
      },
      "source": [
        "## TASK 2.3 Impute missing categorial variables\n",
        "\n",
        "Ugh sooo many are missing now"
      ]
    },
    {
      "cell_type": "code",
      "source": [
        "print(\"there are {} missing  values in the categorical data\".format(X_categorical_data.isna().sum().sum()))"
      ],
      "metadata": {
        "colab": {
          "base_uri": "https://localhost:8080/"
        },
        "id": "7uwJfqrVZxhs",
        "outputId": "8b3c117b-42c4-487b-cb39-a56bd1cf353c"
      },
      "execution_count": 177,
      "outputs": [
        {
          "output_type": "stream",
          "name": "stdout",
          "text": [
            "there are 444 missing  values in the categorical data\n"
          ]
        }
      ]
    },
    {
      "cell_type": "code",
      "source": [
        "X_categorical_data.info()"
      ],
      "metadata": {
        "colab": {
          "base_uri": "https://localhost:8080/"
        },
        "id": "WsILihWAZzCc",
        "outputId": "1fa3fedc-3c54-45fd-feb3-61ba2a19447b"
      },
      "execution_count": 178,
      "outputs": [
        {
          "output_type": "stream",
          "name": "stdout",
          "text": [
            "<class 'pandas.core.frame.DataFrame'>\n",
            "Int64Index: 1506 entries, 0 to 2180\n",
            "Data columns (total 7 columns):\n",
            " #   Column                Non-Null Count  Dtype \n",
            "---  ------                --------------  ----- \n",
            " 0   report_status         1506 non-null   object\n",
            " 1   owner_of_record       1506 non-null   object\n",
            " 2   ward                  1171 non-null   object\n",
            " 3   postal_code           1506 non-null   object\n",
            " 4   primary_ptype_self    1506 non-null   object\n",
            " 5   primary_ptype_epa     1506 non-null   object\n",
            " 6   metered_areas_energy  1397 non-null   object\n",
            "dtypes: object(7)\n",
            "memory usage: 94.1+ KB\n"
          ]
        }
      ]
    },
    {
      "cell_type": "markdown",
      "source": [
        "I'm going to fill the missing metered_areas_energy with \"None\" because there are just enough missing that I'd be worried about imputing them without making the data worse."
      ],
      "metadata": {
        "id": "YG5BpSPT4_oj"
      }
    },
    {
      "cell_type": "code",
      "source": [
        "# filling metered areas energy with None\n",
        "X_categorical_data[\"metered_areas_energy\"].fillna(\"None\", inplace=True)"
      ],
      "metadata": {
        "colab": {
          "base_uri": "https://localhost:8080/"
        },
        "id": "bb44jpDdloHV",
        "outputId": "af762a70-a5b3-4244-918d-996c7123d602"
      },
      "execution_count": 179,
      "outputs": [
        {
          "output_type": "stream",
          "name": "stderr",
          "text": [
            "/usr/local/lib/python3.7/dist-packages/pandas/core/generic.py:6392: SettingWithCopyWarning: \n",
            "A value is trying to be set on a copy of a slice from a DataFrame\n",
            "\n",
            "See the caveats in the documentation: https://pandas.pydata.org/pandas-docs/stable/user_guide/indexing.html#returning-a-view-versus-a-copy\n",
            "  return self._update_inplace(result)\n"
          ]
        }
      ]
    },
    {
      "cell_type": "code",
      "source": [
        "X_categorical_data.info()"
      ],
      "metadata": {
        "colab": {
          "base_uri": "https://localhost:8080/"
        },
        "id": "7Lt8uyfpl2Us",
        "outputId": "6fad9503-5b41-4759-c3d5-aeeeb80d9284"
      },
      "execution_count": 180,
      "outputs": [
        {
          "output_type": "stream",
          "name": "stdout",
          "text": [
            "<class 'pandas.core.frame.DataFrame'>\n",
            "Int64Index: 1506 entries, 0 to 2180\n",
            "Data columns (total 7 columns):\n",
            " #   Column                Non-Null Count  Dtype \n",
            "---  ------                --------------  ----- \n",
            " 0   report_status         1506 non-null   object\n",
            " 1   owner_of_record       1506 non-null   object\n",
            " 2   ward                  1171 non-null   object\n",
            " 3   postal_code           1506 non-null   object\n",
            " 4   primary_ptype_self    1506 non-null   object\n",
            " 5   primary_ptype_epa     1506 non-null   object\n",
            " 6   metered_areas_energy  1506 non-null   object\n",
            "dtypes: object(7)\n",
            "memory usage: 94.1+ KB\n"
          ]
        }
      ]
    },
    {
      "cell_type": "code",
      "source": [
        "Xc_nostringz = X_categorical_data[[\"ward\", \"postal_code\"]]"
      ],
      "metadata": {
        "id": "IA89NpZ5paPs"
      },
      "execution_count": 181,
      "outputs": []
    },
    {
      "cell_type": "code",
      "source": [
        "Xc_nostringz[\"ward\"] = pd.to_numeric(Xc_nostringz[\"ward\"], errors = \"coerce\")\n",
        "Xc_nostringz[\"postal_code\"] = pd.to_numeric(Xc_nostringz[\"postal_code\"], errors = \"coerce\")"
      ],
      "metadata": {
        "colab": {
          "base_uri": "https://localhost:8080/"
        },
        "id": "SIeynDpKqnjx",
        "outputId": "febe9e9d-497d-499a-921a-80f6ccd33e01"
      },
      "execution_count": 182,
      "outputs": [
        {
          "output_type": "stream",
          "name": "stderr",
          "text": [
            "/usr/local/lib/python3.7/dist-packages/ipykernel_launcher.py:1: SettingWithCopyWarning: \n",
            "A value is trying to be set on a copy of a slice from a DataFrame.\n",
            "Try using .loc[row_indexer,col_indexer] = value instead\n",
            "\n",
            "See the caveats in the documentation: https://pandas.pydata.org/pandas-docs/stable/user_guide/indexing.html#returning-a-view-versus-a-copy\n",
            "  \"\"\"Entry point for launching an IPython kernel.\n",
            "/usr/local/lib/python3.7/dist-packages/ipykernel_launcher.py:2: SettingWithCopyWarning: \n",
            "A value is trying to be set on a copy of a slice from a DataFrame.\n",
            "Try using .loc[row_indexer,col_indexer] = value instead\n",
            "\n",
            "See the caveats in the documentation: https://pandas.pydata.org/pandas-docs/stable/user_guide/indexing.html#returning-a-view-versus-a-copy\n",
            "  \n"
          ]
        }
      ]
    },
    {
      "cell_type": "code",
      "source": [
        "imputer = KNNImputer(add_indicator=True, n_neighbors=3)\n",
        "Xc_nostringz = imputer.fit_transform(Xc_nostringz)\n",
        "Xc_nostringz"
      ],
      "metadata": {
        "colab": {
          "base_uri": "https://localhost:8080/"
        },
        "id": "Seajb2hQmaOU",
        "outputId": "7286304f-f83b-48f0-da1d-19ff6577a7a8"
      },
      "execution_count": 183,
      "outputs": [
        {
          "output_type": "execute_result",
          "data": {
            "text/plain": [
              "array([[4.0000e+00, 2.0011e+04, 0.0000e+00, 0.0000e+00],\n",
              "       [2.0000e+00, 2.0005e+04, 0.0000e+00, 0.0000e+00],\n",
              "       [2.0000e+00, 2.0036e+04, 0.0000e+00, 0.0000e+00],\n",
              "       ...,\n",
              "       [1.0000e+00, 2.0059e+04, 0.0000e+00, 0.0000e+00],\n",
              "       [1.0000e+00, 2.0059e+04, 0.0000e+00, 0.0000e+00],\n",
              "       [1.0000e+00, 2.0059e+04, 0.0000e+00, 0.0000e+00]])"
            ]
          },
          "metadata": {},
          "execution_count": 183
        }
      ]
    },
    {
      "cell_type": "code",
      "source": [
        "Xc_nostringz = pd.DataFrame(Xc_nostringz)\n",
        "Xc_nostringz.rename({0: \"ward\", 1: 'postal_code'}, axis=1, inplace=True)\n",
        "Xc_nostringz.drop(columns=[2], inplace=True)"
      ],
      "metadata": {
        "id": "0Y7qHsnGxkHM"
      },
      "execution_count": 184,
      "outputs": []
    },
    {
      "cell_type": "code",
      "source": [
        "Xc_nostringz.drop(columns=[3], inplace=True)"
      ],
      "metadata": {
        "id": "gCyJluI9z6ax"
      },
      "execution_count": 185,
      "outputs": []
    },
    {
      "cell_type": "code",
      "source": [
        "Xc_nostringz"
      ],
      "metadata": {
        "colab": {
          "base_uri": "https://localhost:8080/",
          "height": 423
        },
        "id": "b7ramoMS5Z-o",
        "outputId": "e7e66bcd-9f77-47ab-96d6-7ec39a7a8dab"
      },
      "execution_count": 186,
      "outputs": [
        {
          "output_type": "execute_result",
          "data": {
            "text/plain": [
              "      ward  postal_code\n",
              "0      4.0      20011.0\n",
              "1      2.0      20005.0\n",
              "2      2.0      20036.0\n",
              "3      2.0      22202.0\n",
              "4      2.0      20037.0\n",
              "...    ...          ...\n",
              "1501   5.0      20017.0\n",
              "1502   1.0      20059.0\n",
              "1503   1.0      20059.0\n",
              "1504   1.0      20059.0\n",
              "1505   1.0      20059.0\n",
              "\n",
              "[1506 rows x 2 columns]"
            ],
            "text/html": [
              "\n",
              "  <div id=\"df-8d04a568-6af4-4565-bda8-af227e10e92b\">\n",
              "    <div class=\"colab-df-container\">\n",
              "      <div>\n",
              "<style scoped>\n",
              "    .dataframe tbody tr th:only-of-type {\n",
              "        vertical-align: middle;\n",
              "    }\n",
              "\n",
              "    .dataframe tbody tr th {\n",
              "        vertical-align: top;\n",
              "    }\n",
              "\n",
              "    .dataframe thead th {\n",
              "        text-align: right;\n",
              "    }\n",
              "</style>\n",
              "<table border=\"1\" class=\"dataframe\">\n",
              "  <thead>\n",
              "    <tr style=\"text-align: right;\">\n",
              "      <th></th>\n",
              "      <th>ward</th>\n",
              "      <th>postal_code</th>\n",
              "    </tr>\n",
              "  </thead>\n",
              "  <tbody>\n",
              "    <tr>\n",
              "      <th>0</th>\n",
              "      <td>4.0</td>\n",
              "      <td>20011.0</td>\n",
              "    </tr>\n",
              "    <tr>\n",
              "      <th>1</th>\n",
              "      <td>2.0</td>\n",
              "      <td>20005.0</td>\n",
              "    </tr>\n",
              "    <tr>\n",
              "      <th>2</th>\n",
              "      <td>2.0</td>\n",
              "      <td>20036.0</td>\n",
              "    </tr>\n",
              "    <tr>\n",
              "      <th>3</th>\n",
              "      <td>2.0</td>\n",
              "      <td>22202.0</td>\n",
              "    </tr>\n",
              "    <tr>\n",
              "      <th>4</th>\n",
              "      <td>2.0</td>\n",
              "      <td>20037.0</td>\n",
              "    </tr>\n",
              "    <tr>\n",
              "      <th>...</th>\n",
              "      <td>...</td>\n",
              "      <td>...</td>\n",
              "    </tr>\n",
              "    <tr>\n",
              "      <th>1501</th>\n",
              "      <td>5.0</td>\n",
              "      <td>20017.0</td>\n",
              "    </tr>\n",
              "    <tr>\n",
              "      <th>1502</th>\n",
              "      <td>1.0</td>\n",
              "      <td>20059.0</td>\n",
              "    </tr>\n",
              "    <tr>\n",
              "      <th>1503</th>\n",
              "      <td>1.0</td>\n",
              "      <td>20059.0</td>\n",
              "    </tr>\n",
              "    <tr>\n",
              "      <th>1504</th>\n",
              "      <td>1.0</td>\n",
              "      <td>20059.0</td>\n",
              "    </tr>\n",
              "    <tr>\n",
              "      <th>1505</th>\n",
              "      <td>1.0</td>\n",
              "      <td>20059.0</td>\n",
              "    </tr>\n",
              "  </tbody>\n",
              "</table>\n",
              "<p>1506 rows × 2 columns</p>\n",
              "</div>\n",
              "      <button class=\"colab-df-convert\" onclick=\"convertToInteractive('df-8d04a568-6af4-4565-bda8-af227e10e92b')\"\n",
              "              title=\"Convert this dataframe to an interactive table.\"\n",
              "              style=\"display:none;\">\n",
              "        \n",
              "  <svg xmlns=\"http://www.w3.org/2000/svg\" height=\"24px\"viewBox=\"0 0 24 24\"\n",
              "       width=\"24px\">\n",
              "    <path d=\"M0 0h24v24H0V0z\" fill=\"none\"/>\n",
              "    <path d=\"M18.56 5.44l.94 2.06.94-2.06 2.06-.94-2.06-.94-.94-2.06-.94 2.06-2.06.94zm-11 1L8.5 8.5l.94-2.06 2.06-.94-2.06-.94L8.5 2.5l-.94 2.06-2.06.94zm10 10l.94 2.06.94-2.06 2.06-.94-2.06-.94-.94-2.06-.94 2.06-2.06.94z\"/><path d=\"M17.41 7.96l-1.37-1.37c-.4-.4-.92-.59-1.43-.59-.52 0-1.04.2-1.43.59L10.3 9.45l-7.72 7.72c-.78.78-.78 2.05 0 2.83L4 21.41c.39.39.9.59 1.41.59.51 0 1.02-.2 1.41-.59l7.78-7.78 2.81-2.81c.8-.78.8-2.07 0-2.86zM5.41 20L4 18.59l7.72-7.72 1.47 1.35L5.41 20z\"/>\n",
              "  </svg>\n",
              "      </button>\n",
              "      \n",
              "  <style>\n",
              "    .colab-df-container {\n",
              "      display:flex;\n",
              "      flex-wrap:wrap;\n",
              "      gap: 12px;\n",
              "    }\n",
              "\n",
              "    .colab-df-convert {\n",
              "      background-color: #E8F0FE;\n",
              "      border: none;\n",
              "      border-radius: 50%;\n",
              "      cursor: pointer;\n",
              "      display: none;\n",
              "      fill: #1967D2;\n",
              "      height: 32px;\n",
              "      padding: 0 0 0 0;\n",
              "      width: 32px;\n",
              "    }\n",
              "\n",
              "    .colab-df-convert:hover {\n",
              "      background-color: #E2EBFA;\n",
              "      box-shadow: 0px 1px 2px rgba(60, 64, 67, 0.3), 0px 1px 3px 1px rgba(60, 64, 67, 0.15);\n",
              "      fill: #174EA6;\n",
              "    }\n",
              "\n",
              "    [theme=dark] .colab-df-convert {\n",
              "      background-color: #3B4455;\n",
              "      fill: #D2E3FC;\n",
              "    }\n",
              "\n",
              "    [theme=dark] .colab-df-convert:hover {\n",
              "      background-color: #434B5C;\n",
              "      box-shadow: 0px 1px 3px 1px rgba(0, 0, 0, 0.15);\n",
              "      filter: drop-shadow(0px 1px 2px rgba(0, 0, 0, 0.3));\n",
              "      fill: #FFFFFF;\n",
              "    }\n",
              "  </style>\n",
              "\n",
              "      <script>\n",
              "        const buttonEl =\n",
              "          document.querySelector('#df-8d04a568-6af4-4565-bda8-af227e10e92b button.colab-df-convert');\n",
              "        buttonEl.style.display =\n",
              "          google.colab.kernel.accessAllowed ? 'block' : 'none';\n",
              "\n",
              "        async function convertToInteractive(key) {\n",
              "          const element = document.querySelector('#df-8d04a568-6af4-4565-bda8-af227e10e92b');\n",
              "          const dataTable =\n",
              "            await google.colab.kernel.invokeFunction('convertToInteractive',\n",
              "                                                     [key], {});\n",
              "          if (!dataTable) return;\n",
              "\n",
              "          const docLinkHtml = 'Like what you see? Visit the ' +\n",
              "            '<a target=\"_blank\" href=https://colab.research.google.com/notebooks/data_table.ipynb>data table notebook</a>'\n",
              "            + ' to learn more about interactive tables.';\n",
              "          element.innerHTML = '';\n",
              "          dataTable['output_type'] = 'display_data';\n",
              "          await google.colab.output.renderOutput(dataTable, element);\n",
              "          const docLink = document.createElement('div');\n",
              "          docLink.innerHTML = docLinkHtml;\n",
              "          element.appendChild(docLink);\n",
              "        }\n",
              "      </script>\n",
              "    </div>\n",
              "  </div>\n",
              "  "
            ]
          },
          "metadata": {},
          "execution_count": 186
        }
      ]
    },
    {
      "cell_type": "code",
      "source": [
        "Xc_nostringz = Xc_nostringz.astype(\"int\")"
      ],
      "metadata": {
        "id": "9UifwD7g5Ac2"
      },
      "execution_count": 187,
      "outputs": []
    },
    {
      "cell_type": "code",
      "source": [
        "Xc_nostringz[\"ward\"]"
      ],
      "metadata": {
        "colab": {
          "base_uri": "https://localhost:8080/"
        },
        "id": "YgO-QV_W5ekh",
        "outputId": "42a15e28-512b-4d49-91e5-d4dae7b19c5b"
      },
      "execution_count": 188,
      "outputs": [
        {
          "output_type": "execute_result",
          "data": {
            "text/plain": [
              "0       4\n",
              "1       2\n",
              "2       2\n",
              "3       2\n",
              "4       2\n",
              "       ..\n",
              "1501    5\n",
              "1502    1\n",
              "1503    1\n",
              "1504    1\n",
              "1505    1\n",
              "Name: ward, Length: 1506, dtype: int64"
            ]
          },
          "metadata": {},
          "execution_count": 188
        }
      ]
    },
    {
      "cell_type": "markdown",
      "source": [
        "Looking at this again, I see that there are many more postal codes than wards. But this might be good, since I have fewer possibilities in the missing values than the data I'm using to fill them in."
      ],
      "metadata": {
        "id": "Jqv8uLeY9dN1"
      }
    },
    {
      "cell_type": "code",
      "source": [
        "Xc_nostringz.nunique()"
      ],
      "metadata": {
        "colab": {
          "base_uri": "https://localhost:8080/"
        },
        "id": "9gdzsSTr9n5o",
        "outputId": "a0977aba-298c-4aeb-9fd0-a11fef3d1856"
      },
      "execution_count": 189,
      "outputs": [
        {
          "output_type": "execute_result",
          "data": {
            "text/plain": [
              "ward            8\n",
              "postal_code    44\n",
              "dtype: int64"
            ]
          },
          "metadata": {},
          "execution_count": 189
        }
      ]
    },
    {
      "cell_type": "code",
      "source": [
        "Xc_nostringz.head()"
      ],
      "metadata": {
        "colab": {
          "base_uri": "https://localhost:8080/",
          "height": 206
        },
        "id": "QW9DDEV03mqm",
        "outputId": "d8b9a84f-2af5-4caa-d99d-b2507f8802e3"
      },
      "execution_count": 190,
      "outputs": [
        {
          "output_type": "execute_result",
          "data": {
            "text/plain": [
              "   ward  postal_code\n",
              "0     4        20011\n",
              "1     2        20005\n",
              "2     2        20036\n",
              "3     2        22202\n",
              "4     2        20037"
            ],
            "text/html": [
              "\n",
              "  <div id=\"df-c3019dd8-8ef1-4072-ae86-f1987d44eb4b\">\n",
              "    <div class=\"colab-df-container\">\n",
              "      <div>\n",
              "<style scoped>\n",
              "    .dataframe tbody tr th:only-of-type {\n",
              "        vertical-align: middle;\n",
              "    }\n",
              "\n",
              "    .dataframe tbody tr th {\n",
              "        vertical-align: top;\n",
              "    }\n",
              "\n",
              "    .dataframe thead th {\n",
              "        text-align: right;\n",
              "    }\n",
              "</style>\n",
              "<table border=\"1\" class=\"dataframe\">\n",
              "  <thead>\n",
              "    <tr style=\"text-align: right;\">\n",
              "      <th></th>\n",
              "      <th>ward</th>\n",
              "      <th>postal_code</th>\n",
              "    </tr>\n",
              "  </thead>\n",
              "  <tbody>\n",
              "    <tr>\n",
              "      <th>0</th>\n",
              "      <td>4</td>\n",
              "      <td>20011</td>\n",
              "    </tr>\n",
              "    <tr>\n",
              "      <th>1</th>\n",
              "      <td>2</td>\n",
              "      <td>20005</td>\n",
              "    </tr>\n",
              "    <tr>\n",
              "      <th>2</th>\n",
              "      <td>2</td>\n",
              "      <td>20036</td>\n",
              "    </tr>\n",
              "    <tr>\n",
              "      <th>3</th>\n",
              "      <td>2</td>\n",
              "      <td>22202</td>\n",
              "    </tr>\n",
              "    <tr>\n",
              "      <th>4</th>\n",
              "      <td>2</td>\n",
              "      <td>20037</td>\n",
              "    </tr>\n",
              "  </tbody>\n",
              "</table>\n",
              "</div>\n",
              "      <button class=\"colab-df-convert\" onclick=\"convertToInteractive('df-c3019dd8-8ef1-4072-ae86-f1987d44eb4b')\"\n",
              "              title=\"Convert this dataframe to an interactive table.\"\n",
              "              style=\"display:none;\">\n",
              "        \n",
              "  <svg xmlns=\"http://www.w3.org/2000/svg\" height=\"24px\"viewBox=\"0 0 24 24\"\n",
              "       width=\"24px\">\n",
              "    <path d=\"M0 0h24v24H0V0z\" fill=\"none\"/>\n",
              "    <path d=\"M18.56 5.44l.94 2.06.94-2.06 2.06-.94-2.06-.94-.94-2.06-.94 2.06-2.06.94zm-11 1L8.5 8.5l.94-2.06 2.06-.94-2.06-.94L8.5 2.5l-.94 2.06-2.06.94zm10 10l.94 2.06.94-2.06 2.06-.94-2.06-.94-.94-2.06-.94 2.06-2.06.94z\"/><path d=\"M17.41 7.96l-1.37-1.37c-.4-.4-.92-.59-1.43-.59-.52 0-1.04.2-1.43.59L10.3 9.45l-7.72 7.72c-.78.78-.78 2.05 0 2.83L4 21.41c.39.39.9.59 1.41.59.51 0 1.02-.2 1.41-.59l7.78-7.78 2.81-2.81c.8-.78.8-2.07 0-2.86zM5.41 20L4 18.59l7.72-7.72 1.47 1.35L5.41 20z\"/>\n",
              "  </svg>\n",
              "      </button>\n",
              "      \n",
              "  <style>\n",
              "    .colab-df-container {\n",
              "      display:flex;\n",
              "      flex-wrap:wrap;\n",
              "      gap: 12px;\n",
              "    }\n",
              "\n",
              "    .colab-df-convert {\n",
              "      background-color: #E8F0FE;\n",
              "      border: none;\n",
              "      border-radius: 50%;\n",
              "      cursor: pointer;\n",
              "      display: none;\n",
              "      fill: #1967D2;\n",
              "      height: 32px;\n",
              "      padding: 0 0 0 0;\n",
              "      width: 32px;\n",
              "    }\n",
              "\n",
              "    .colab-df-convert:hover {\n",
              "      background-color: #E2EBFA;\n",
              "      box-shadow: 0px 1px 2px rgba(60, 64, 67, 0.3), 0px 1px 3px 1px rgba(60, 64, 67, 0.15);\n",
              "      fill: #174EA6;\n",
              "    }\n",
              "\n",
              "    [theme=dark] .colab-df-convert {\n",
              "      background-color: #3B4455;\n",
              "      fill: #D2E3FC;\n",
              "    }\n",
              "\n",
              "    [theme=dark] .colab-df-convert:hover {\n",
              "      background-color: #434B5C;\n",
              "      box-shadow: 0px 1px 3px 1px rgba(0, 0, 0, 0.15);\n",
              "      filter: drop-shadow(0px 1px 2px rgba(0, 0, 0, 0.3));\n",
              "      fill: #FFFFFF;\n",
              "    }\n",
              "  </style>\n",
              "\n",
              "      <script>\n",
              "        const buttonEl =\n",
              "          document.querySelector('#df-c3019dd8-8ef1-4072-ae86-f1987d44eb4b button.colab-df-convert');\n",
              "        buttonEl.style.display =\n",
              "          google.colab.kernel.accessAllowed ? 'block' : 'none';\n",
              "\n",
              "        async function convertToInteractive(key) {\n",
              "          const element = document.querySelector('#df-c3019dd8-8ef1-4072-ae86-f1987d44eb4b');\n",
              "          const dataTable =\n",
              "            await google.colab.kernel.invokeFunction('convertToInteractive',\n",
              "                                                     [key], {});\n",
              "          if (!dataTable) return;\n",
              "\n",
              "          const docLinkHtml = 'Like what you see? Visit the ' +\n",
              "            '<a target=\"_blank\" href=https://colab.research.google.com/notebooks/data_table.ipynb>data table notebook</a>'\n",
              "            + ' to learn more about interactive tables.';\n",
              "          element.innerHTML = '';\n",
              "          dataTable['output_type'] = 'display_data';\n",
              "          await google.colab.output.renderOutput(dataTable, element);\n",
              "          const docLink = document.createElement('div');\n",
              "          docLink.innerHTML = docLinkHtml;\n",
              "          element.appendChild(docLink);\n",
              "        }\n",
              "      </script>\n",
              "    </div>\n",
              "  </div>\n",
              "  "
            ]
          },
          "metadata": {},
          "execution_count": 190
        }
      ]
    },
    {
      "cell_type": "code",
      "source": [
        "Xc_nostringz[[\"ward\"]] = Xc_nostringz[[\"ward\"]].astype(object)\n",
        "Xc_nostringz[[\"postal_code\"]] = Xc_nostringz[[\"postal_code\"]].astype(object)"
      ],
      "metadata": {
        "id": "8aXk4T5v17Y3"
      },
      "execution_count": 191,
      "outputs": []
    },
    {
      "cell_type": "code",
      "source": [
        "X_cat = X_categorical_data.drop([\"ward\"], axis=1)"
      ],
      "metadata": {
        "id": "vYk1PGxd7rm8"
      },
      "execution_count": 192,
      "outputs": []
    },
    {
      "cell_type": "code",
      "source": [
        "X_cat.reset_index()"
      ],
      "metadata": {
        "colab": {
          "base_uri": "https://localhost:8080/",
          "height": 815
        },
        "id": "JQieF5Z98s9w",
        "outputId": "940e1bf8-06ae-4b60-c6f0-2a28d8ebcbc1"
      },
      "execution_count": 193,
      "outputs": [
        {
          "output_type": "execute_result",
          "data": {
            "text/plain": [
              "      index              report_status  \\\n",
              "0         0              In Compliance   \n",
              "1         1              In Compliance   \n",
              "2         2              In Compliance   \n",
              "3         3              In Compliance   \n",
              "4         4              In Compliance   \n",
              "...     ...                        ...   \n",
              "1501   2164              In Compliance   \n",
              "1502   2167  Data under review by DOEE   \n",
              "1503   2171  Data under review by DOEE   \n",
              "1504   2179  Data under review by DOEE   \n",
              "1505   2180  Data under review by DOEE   \n",
              "\n",
              "                                        owner_of_record postal_code  \\\n",
              "0     AUBINOE ROCKVIEW LIMITED PARTNERSHP; VICTORY I...       20011   \n",
              "1                     UNION INVESTMENT REAL ESTATE GMBH       20005   \n",
              "2             CESC 1101 17TH STREET LIMITED PARTNERSHIP       20036   \n",
              "3           1776 K STREET ASSOCIATES & RIDDELL PARTNERS       22202   \n",
              "4                                CESC 2101 L STREET LLC       20037   \n",
              "...                                                 ...         ...   \n",
              "1501                 Monroe Street Market - Cornerstone       20017   \n",
              "1502                      HOWARD UNIVERSITY (LAND ONLY)       20059   \n",
              "1503                      HOWARD UNIVERSITY (LAND ONLY)       20059   \n",
              "1504                      HOWARD UNIVERSITY (LAND ONLY)       20059   \n",
              "1505                          THE HOWARD UNIVERSITY INC       20059   \n",
              "\n",
              "            primary_ptype_self         primary_ptype_epa metered_areas_energy  \n",
              "0          Multifamily Housing       Multifamily Housing       Whole Building  \n",
              "1                       Office                    Office       Whole Building  \n",
              "2                       Office                    Office       Whole Building  \n",
              "3                       Office                    Office       Whole Building  \n",
              "4                       Office                    Office       Whole Building  \n",
              "...                        ...                       ...                  ...  \n",
              "1501       Multifamily Housing       Multifamily Housing       Whole Building  \n",
              "1502        College/University                     Other       Whole Building  \n",
              "1503        College/University        College/University       Whole Building  \n",
              "1504        College/University        College/University       Whole Building  \n",
              "1505  Residence Hall/Dormitory  Residence Hall/Dormitory       Whole Building  \n",
              "\n",
              "[1506 rows x 7 columns]"
            ],
            "text/html": [
              "\n",
              "  <div id=\"df-4379feeb-ea5e-43ad-b2fb-8205b784b45d\">\n",
              "    <div class=\"colab-df-container\">\n",
              "      <div>\n",
              "<style scoped>\n",
              "    .dataframe tbody tr th:only-of-type {\n",
              "        vertical-align: middle;\n",
              "    }\n",
              "\n",
              "    .dataframe tbody tr th {\n",
              "        vertical-align: top;\n",
              "    }\n",
              "\n",
              "    .dataframe thead th {\n",
              "        text-align: right;\n",
              "    }\n",
              "</style>\n",
              "<table border=\"1\" class=\"dataframe\">\n",
              "  <thead>\n",
              "    <tr style=\"text-align: right;\">\n",
              "      <th></th>\n",
              "      <th>index</th>\n",
              "      <th>report_status</th>\n",
              "      <th>owner_of_record</th>\n",
              "      <th>postal_code</th>\n",
              "      <th>primary_ptype_self</th>\n",
              "      <th>primary_ptype_epa</th>\n",
              "      <th>metered_areas_energy</th>\n",
              "    </tr>\n",
              "  </thead>\n",
              "  <tbody>\n",
              "    <tr>\n",
              "      <th>0</th>\n",
              "      <td>0</td>\n",
              "      <td>In Compliance</td>\n",
              "      <td>AUBINOE ROCKVIEW LIMITED PARTNERSHP; VICTORY I...</td>\n",
              "      <td>20011</td>\n",
              "      <td>Multifamily Housing</td>\n",
              "      <td>Multifamily Housing</td>\n",
              "      <td>Whole Building</td>\n",
              "    </tr>\n",
              "    <tr>\n",
              "      <th>1</th>\n",
              "      <td>1</td>\n",
              "      <td>In Compliance</td>\n",
              "      <td>UNION INVESTMENT REAL ESTATE GMBH</td>\n",
              "      <td>20005</td>\n",
              "      <td>Office</td>\n",
              "      <td>Office</td>\n",
              "      <td>Whole Building</td>\n",
              "    </tr>\n",
              "    <tr>\n",
              "      <th>2</th>\n",
              "      <td>2</td>\n",
              "      <td>In Compliance</td>\n",
              "      <td>CESC 1101 17TH STREET LIMITED PARTNERSHIP</td>\n",
              "      <td>20036</td>\n",
              "      <td>Office</td>\n",
              "      <td>Office</td>\n",
              "      <td>Whole Building</td>\n",
              "    </tr>\n",
              "    <tr>\n",
              "      <th>3</th>\n",
              "      <td>3</td>\n",
              "      <td>In Compliance</td>\n",
              "      <td>1776 K STREET ASSOCIATES &amp; RIDDELL PARTNERS</td>\n",
              "      <td>22202</td>\n",
              "      <td>Office</td>\n",
              "      <td>Office</td>\n",
              "      <td>Whole Building</td>\n",
              "    </tr>\n",
              "    <tr>\n",
              "      <th>4</th>\n",
              "      <td>4</td>\n",
              "      <td>In Compliance</td>\n",
              "      <td>CESC 2101 L STREET LLC</td>\n",
              "      <td>20037</td>\n",
              "      <td>Office</td>\n",
              "      <td>Office</td>\n",
              "      <td>Whole Building</td>\n",
              "    </tr>\n",
              "    <tr>\n",
              "      <th>...</th>\n",
              "      <td>...</td>\n",
              "      <td>...</td>\n",
              "      <td>...</td>\n",
              "      <td>...</td>\n",
              "      <td>...</td>\n",
              "      <td>...</td>\n",
              "      <td>...</td>\n",
              "    </tr>\n",
              "    <tr>\n",
              "      <th>1501</th>\n",
              "      <td>2164</td>\n",
              "      <td>In Compliance</td>\n",
              "      <td>Monroe Street Market - Cornerstone</td>\n",
              "      <td>20017</td>\n",
              "      <td>Multifamily Housing</td>\n",
              "      <td>Multifamily Housing</td>\n",
              "      <td>Whole Building</td>\n",
              "    </tr>\n",
              "    <tr>\n",
              "      <th>1502</th>\n",
              "      <td>2167</td>\n",
              "      <td>Data under review by DOEE</td>\n",
              "      <td>HOWARD UNIVERSITY (LAND ONLY)</td>\n",
              "      <td>20059</td>\n",
              "      <td>College/University</td>\n",
              "      <td>Other</td>\n",
              "      <td>Whole Building</td>\n",
              "    </tr>\n",
              "    <tr>\n",
              "      <th>1503</th>\n",
              "      <td>2171</td>\n",
              "      <td>Data under review by DOEE</td>\n",
              "      <td>HOWARD UNIVERSITY (LAND ONLY)</td>\n",
              "      <td>20059</td>\n",
              "      <td>College/University</td>\n",
              "      <td>College/University</td>\n",
              "      <td>Whole Building</td>\n",
              "    </tr>\n",
              "    <tr>\n",
              "      <th>1504</th>\n",
              "      <td>2179</td>\n",
              "      <td>Data under review by DOEE</td>\n",
              "      <td>HOWARD UNIVERSITY (LAND ONLY)</td>\n",
              "      <td>20059</td>\n",
              "      <td>College/University</td>\n",
              "      <td>College/University</td>\n",
              "      <td>Whole Building</td>\n",
              "    </tr>\n",
              "    <tr>\n",
              "      <th>1505</th>\n",
              "      <td>2180</td>\n",
              "      <td>Data under review by DOEE</td>\n",
              "      <td>THE HOWARD UNIVERSITY INC</td>\n",
              "      <td>20059</td>\n",
              "      <td>Residence Hall/Dormitory</td>\n",
              "      <td>Residence Hall/Dormitory</td>\n",
              "      <td>Whole Building</td>\n",
              "    </tr>\n",
              "  </tbody>\n",
              "</table>\n",
              "<p>1506 rows × 7 columns</p>\n",
              "</div>\n",
              "      <button class=\"colab-df-convert\" onclick=\"convertToInteractive('df-4379feeb-ea5e-43ad-b2fb-8205b784b45d')\"\n",
              "              title=\"Convert this dataframe to an interactive table.\"\n",
              "              style=\"display:none;\">\n",
              "        \n",
              "  <svg xmlns=\"http://www.w3.org/2000/svg\" height=\"24px\"viewBox=\"0 0 24 24\"\n",
              "       width=\"24px\">\n",
              "    <path d=\"M0 0h24v24H0V0z\" fill=\"none\"/>\n",
              "    <path d=\"M18.56 5.44l.94 2.06.94-2.06 2.06-.94-2.06-.94-.94-2.06-.94 2.06-2.06.94zm-11 1L8.5 8.5l.94-2.06 2.06-.94-2.06-.94L8.5 2.5l-.94 2.06-2.06.94zm10 10l.94 2.06.94-2.06 2.06-.94-2.06-.94-.94-2.06-.94 2.06-2.06.94z\"/><path d=\"M17.41 7.96l-1.37-1.37c-.4-.4-.92-.59-1.43-.59-.52 0-1.04.2-1.43.59L10.3 9.45l-7.72 7.72c-.78.78-.78 2.05 0 2.83L4 21.41c.39.39.9.59 1.41.59.51 0 1.02-.2 1.41-.59l7.78-7.78 2.81-2.81c.8-.78.8-2.07 0-2.86zM5.41 20L4 18.59l7.72-7.72 1.47 1.35L5.41 20z\"/>\n",
              "  </svg>\n",
              "      </button>\n",
              "      \n",
              "  <style>\n",
              "    .colab-df-container {\n",
              "      display:flex;\n",
              "      flex-wrap:wrap;\n",
              "      gap: 12px;\n",
              "    }\n",
              "\n",
              "    .colab-df-convert {\n",
              "      background-color: #E8F0FE;\n",
              "      border: none;\n",
              "      border-radius: 50%;\n",
              "      cursor: pointer;\n",
              "      display: none;\n",
              "      fill: #1967D2;\n",
              "      height: 32px;\n",
              "      padding: 0 0 0 0;\n",
              "      width: 32px;\n",
              "    }\n",
              "\n",
              "    .colab-df-convert:hover {\n",
              "      background-color: #E2EBFA;\n",
              "      box-shadow: 0px 1px 2px rgba(60, 64, 67, 0.3), 0px 1px 3px 1px rgba(60, 64, 67, 0.15);\n",
              "      fill: #174EA6;\n",
              "    }\n",
              "\n",
              "    [theme=dark] .colab-df-convert {\n",
              "      background-color: #3B4455;\n",
              "      fill: #D2E3FC;\n",
              "    }\n",
              "\n",
              "    [theme=dark] .colab-df-convert:hover {\n",
              "      background-color: #434B5C;\n",
              "      box-shadow: 0px 1px 3px 1px rgba(0, 0, 0, 0.15);\n",
              "      filter: drop-shadow(0px 1px 2px rgba(0, 0, 0, 0.3));\n",
              "      fill: #FFFFFF;\n",
              "    }\n",
              "  </style>\n",
              "\n",
              "      <script>\n",
              "        const buttonEl =\n",
              "          document.querySelector('#df-4379feeb-ea5e-43ad-b2fb-8205b784b45d button.colab-df-convert');\n",
              "        buttonEl.style.display =\n",
              "          google.colab.kernel.accessAllowed ? 'block' : 'none';\n",
              "\n",
              "        async function convertToInteractive(key) {\n",
              "          const element = document.querySelector('#df-4379feeb-ea5e-43ad-b2fb-8205b784b45d');\n",
              "          const dataTable =\n",
              "            await google.colab.kernel.invokeFunction('convertToInteractive',\n",
              "                                                     [key], {});\n",
              "          if (!dataTable) return;\n",
              "\n",
              "          const docLinkHtml = 'Like what you see? Visit the ' +\n",
              "            '<a target=\"_blank\" href=https://colab.research.google.com/notebooks/data_table.ipynb>data table notebook</a>'\n",
              "            + ' to learn more about interactive tables.';\n",
              "          element.innerHTML = '';\n",
              "          dataTable['output_type'] = 'display_data';\n",
              "          await google.colab.output.renderOutput(dataTable, element);\n",
              "          const docLink = document.createElement('div');\n",
              "          docLink.innerHTML = docLinkHtml;\n",
              "          element.appendChild(docLink);\n",
              "        }\n",
              "      </script>\n",
              "    </div>\n",
              "  </div>\n",
              "  "
            ]
          },
          "metadata": {},
          "execution_count": 193
        }
      ]
    },
    {
      "cell_type": "code",
      "source": [
        "X_cat.head()"
      ],
      "metadata": {
        "colab": {
          "base_uri": "https://localhost:8080/",
          "height": 319
        },
        "id": "c9NH3JVT-wUC",
        "outputId": "46cc6496-0438-4027-e89a-f66177b45ff6"
      },
      "execution_count": 194,
      "outputs": [
        {
          "output_type": "execute_result",
          "data": {
            "text/plain": [
              "   report_status                                    owner_of_record  \\\n",
              "0  In Compliance  AUBINOE ROCKVIEW LIMITED PARTNERSHP; VICTORY I...   \n",
              "1  In Compliance                  UNION INVESTMENT REAL ESTATE GMBH   \n",
              "2  In Compliance          CESC 1101 17TH STREET LIMITED PARTNERSHIP   \n",
              "3  In Compliance        1776 K STREET ASSOCIATES & RIDDELL PARTNERS   \n",
              "4  In Compliance                             CESC 2101 L STREET LLC   \n",
              "\n",
              "  postal_code   primary_ptype_self    primary_ptype_epa metered_areas_energy  \n",
              "0       20011  Multifamily Housing  Multifamily Housing       Whole Building  \n",
              "1       20005               Office               Office       Whole Building  \n",
              "2       20036               Office               Office       Whole Building  \n",
              "3       22202               Office               Office       Whole Building  \n",
              "4       20037               Office               Office       Whole Building  "
            ],
            "text/html": [
              "\n",
              "  <div id=\"df-1453eae8-7536-4e44-b409-d997ce918c91\">\n",
              "    <div class=\"colab-df-container\">\n",
              "      <div>\n",
              "<style scoped>\n",
              "    .dataframe tbody tr th:only-of-type {\n",
              "        vertical-align: middle;\n",
              "    }\n",
              "\n",
              "    .dataframe tbody tr th {\n",
              "        vertical-align: top;\n",
              "    }\n",
              "\n",
              "    .dataframe thead th {\n",
              "        text-align: right;\n",
              "    }\n",
              "</style>\n",
              "<table border=\"1\" class=\"dataframe\">\n",
              "  <thead>\n",
              "    <tr style=\"text-align: right;\">\n",
              "      <th></th>\n",
              "      <th>report_status</th>\n",
              "      <th>owner_of_record</th>\n",
              "      <th>postal_code</th>\n",
              "      <th>primary_ptype_self</th>\n",
              "      <th>primary_ptype_epa</th>\n",
              "      <th>metered_areas_energy</th>\n",
              "    </tr>\n",
              "  </thead>\n",
              "  <tbody>\n",
              "    <tr>\n",
              "      <th>0</th>\n",
              "      <td>In Compliance</td>\n",
              "      <td>AUBINOE ROCKVIEW LIMITED PARTNERSHP; VICTORY I...</td>\n",
              "      <td>20011</td>\n",
              "      <td>Multifamily Housing</td>\n",
              "      <td>Multifamily Housing</td>\n",
              "      <td>Whole Building</td>\n",
              "    </tr>\n",
              "    <tr>\n",
              "      <th>1</th>\n",
              "      <td>In Compliance</td>\n",
              "      <td>UNION INVESTMENT REAL ESTATE GMBH</td>\n",
              "      <td>20005</td>\n",
              "      <td>Office</td>\n",
              "      <td>Office</td>\n",
              "      <td>Whole Building</td>\n",
              "    </tr>\n",
              "    <tr>\n",
              "      <th>2</th>\n",
              "      <td>In Compliance</td>\n",
              "      <td>CESC 1101 17TH STREET LIMITED PARTNERSHIP</td>\n",
              "      <td>20036</td>\n",
              "      <td>Office</td>\n",
              "      <td>Office</td>\n",
              "      <td>Whole Building</td>\n",
              "    </tr>\n",
              "    <tr>\n",
              "      <th>3</th>\n",
              "      <td>In Compliance</td>\n",
              "      <td>1776 K STREET ASSOCIATES &amp; RIDDELL PARTNERS</td>\n",
              "      <td>22202</td>\n",
              "      <td>Office</td>\n",
              "      <td>Office</td>\n",
              "      <td>Whole Building</td>\n",
              "    </tr>\n",
              "    <tr>\n",
              "      <th>4</th>\n",
              "      <td>In Compliance</td>\n",
              "      <td>CESC 2101 L STREET LLC</td>\n",
              "      <td>20037</td>\n",
              "      <td>Office</td>\n",
              "      <td>Office</td>\n",
              "      <td>Whole Building</td>\n",
              "    </tr>\n",
              "  </tbody>\n",
              "</table>\n",
              "</div>\n",
              "      <button class=\"colab-df-convert\" onclick=\"convertToInteractive('df-1453eae8-7536-4e44-b409-d997ce918c91')\"\n",
              "              title=\"Convert this dataframe to an interactive table.\"\n",
              "              style=\"display:none;\">\n",
              "        \n",
              "  <svg xmlns=\"http://www.w3.org/2000/svg\" height=\"24px\"viewBox=\"0 0 24 24\"\n",
              "       width=\"24px\">\n",
              "    <path d=\"M0 0h24v24H0V0z\" fill=\"none\"/>\n",
              "    <path d=\"M18.56 5.44l.94 2.06.94-2.06 2.06-.94-2.06-.94-.94-2.06-.94 2.06-2.06.94zm-11 1L8.5 8.5l.94-2.06 2.06-.94-2.06-.94L8.5 2.5l-.94 2.06-2.06.94zm10 10l.94 2.06.94-2.06 2.06-.94-2.06-.94-.94-2.06-.94 2.06-2.06.94z\"/><path d=\"M17.41 7.96l-1.37-1.37c-.4-.4-.92-.59-1.43-.59-.52 0-1.04.2-1.43.59L10.3 9.45l-7.72 7.72c-.78.78-.78 2.05 0 2.83L4 21.41c.39.39.9.59 1.41.59.51 0 1.02-.2 1.41-.59l7.78-7.78 2.81-2.81c.8-.78.8-2.07 0-2.86zM5.41 20L4 18.59l7.72-7.72 1.47 1.35L5.41 20z\"/>\n",
              "  </svg>\n",
              "      </button>\n",
              "      \n",
              "  <style>\n",
              "    .colab-df-container {\n",
              "      display:flex;\n",
              "      flex-wrap:wrap;\n",
              "      gap: 12px;\n",
              "    }\n",
              "\n",
              "    .colab-df-convert {\n",
              "      background-color: #E8F0FE;\n",
              "      border: none;\n",
              "      border-radius: 50%;\n",
              "      cursor: pointer;\n",
              "      display: none;\n",
              "      fill: #1967D2;\n",
              "      height: 32px;\n",
              "      padding: 0 0 0 0;\n",
              "      width: 32px;\n",
              "    }\n",
              "\n",
              "    .colab-df-convert:hover {\n",
              "      background-color: #E2EBFA;\n",
              "      box-shadow: 0px 1px 2px rgba(60, 64, 67, 0.3), 0px 1px 3px 1px rgba(60, 64, 67, 0.15);\n",
              "      fill: #174EA6;\n",
              "    }\n",
              "\n",
              "    [theme=dark] .colab-df-convert {\n",
              "      background-color: #3B4455;\n",
              "      fill: #D2E3FC;\n",
              "    }\n",
              "\n",
              "    [theme=dark] .colab-df-convert:hover {\n",
              "      background-color: #434B5C;\n",
              "      box-shadow: 0px 1px 3px 1px rgba(0, 0, 0, 0.15);\n",
              "      filter: drop-shadow(0px 1px 2px rgba(0, 0, 0, 0.3));\n",
              "      fill: #FFFFFF;\n",
              "    }\n",
              "  </style>\n",
              "\n",
              "      <script>\n",
              "        const buttonEl =\n",
              "          document.querySelector('#df-1453eae8-7536-4e44-b409-d997ce918c91 button.colab-df-convert');\n",
              "        buttonEl.style.display =\n",
              "          google.colab.kernel.accessAllowed ? 'block' : 'none';\n",
              "\n",
              "        async function convertToInteractive(key) {\n",
              "          const element = document.querySelector('#df-1453eae8-7536-4e44-b409-d997ce918c91');\n",
              "          const dataTable =\n",
              "            await google.colab.kernel.invokeFunction('convertToInteractive',\n",
              "                                                     [key], {});\n",
              "          if (!dataTable) return;\n",
              "\n",
              "          const docLinkHtml = 'Like what you see? Visit the ' +\n",
              "            '<a target=\"_blank\" href=https://colab.research.google.com/notebooks/data_table.ipynb>data table notebook</a>'\n",
              "            + ' to learn more about interactive tables.';\n",
              "          element.innerHTML = '';\n",
              "          dataTable['output_type'] = 'display_data';\n",
              "          await google.colab.output.renderOutput(dataTable, element);\n",
              "          const docLink = document.createElement('div');\n",
              "          docLink.innerHTML = docLinkHtml;\n",
              "          element.appendChild(docLink);\n",
              "        }\n",
              "      </script>\n",
              "    </div>\n",
              "  </div>\n",
              "  "
            ]
          },
          "metadata": {},
          "execution_count": 194
        }
      ]
    },
    {
      "cell_type": "code",
      "source": [
        "Xc = X_cat.join(Xc_nostringz, rsuffix=\"right\")"
      ],
      "metadata": {
        "id": "rNjpSvxk0Hdx"
      },
      "execution_count": 195,
      "outputs": []
    },
    {
      "cell_type": "code",
      "source": [
        "Xc2 = X_cat.merge(Xc_nostringz, right_index=True, left_index=True)"
      ],
      "metadata": {
        "id": "my8QDRF5gxxB"
      },
      "execution_count": 196,
      "outputs": []
    },
    {
      "cell_type": "markdown",
      "source": [
        "#Where Coryn was Stuck\n",
        "\n",
        "Why did it only impute ~60 of my missing wards? Did the other ones not have enough info? Where did all those zip codes go?"
      ],
      "metadata": {
        "id": "i20-MfSIA-p7"
      }
    },
    {
      "cell_type": "markdown",
      "source": [
        "# How Fed Fixed It\n",
        "Tho we still don't know why it was either giving me 1507 rows with Nas for some of the wards and one column of zipcodes (though fewer Na wards than the original!) or giving me full rows but fewer than 1507 for everything."
      ],
      "metadata": {
        "id": "j_s65LXj5hV7"
      }
    },
    {
      "cell_type": "code",
      "source": [
        "Xc_nostringz.index = list(range(Xc_nostringz.shape[0]))\n",
        "X_cat.index = list(range(Xc_nostringz.shape[0]))"
      ],
      "metadata": {
        "id": "0SEqUBm2kO4y"
      },
      "execution_count": 197,
      "outputs": []
    },
    {
      "cell_type": "code",
      "source": [
        "X_cat = X_cat.join(Xc_nostringz, rsuffix=\"right\")"
      ],
      "metadata": {
        "id": "Q4kI3H9S-naI"
      },
      "execution_count": 198,
      "outputs": []
    },
    {
      "cell_type": "code",
      "source": [
        "X_cat.info()"
      ],
      "metadata": {
        "colab": {
          "base_uri": "https://localhost:8080/"
        },
        "id": "gyuMzeop-ptv",
        "outputId": "65590755-624e-43aa-b43d-b097950ab68a"
      },
      "execution_count": 199,
      "outputs": [
        {
          "output_type": "stream",
          "name": "stdout",
          "text": [
            "<class 'pandas.core.frame.DataFrame'>\n",
            "Int64Index: 1506 entries, 0 to 1505\n",
            "Data columns (total 8 columns):\n",
            " #   Column                Non-Null Count  Dtype \n",
            "---  ------                --------------  ----- \n",
            " 0   report_status         1506 non-null   object\n",
            " 1   owner_of_record       1506 non-null   object\n",
            " 2   postal_code           1506 non-null   object\n",
            " 3   primary_ptype_self    1506 non-null   object\n",
            " 4   primary_ptype_epa     1506 non-null   object\n",
            " 5   metered_areas_energy  1506 non-null   object\n",
            " 6   ward                  1506 non-null   object\n",
            " 7   postal_coderight      1506 non-null   object\n",
            "dtypes: object(8)\n",
            "memory usage: 138.2+ KB\n"
          ]
        }
      ]
    },
    {
      "cell_type": "markdown",
      "source": [
        "# TASK 3 One Hot Encode the Categorical Variables\n",
        "\n",
        "Hint: Once you have done the fit and the transformation, which gives you the transformed data according to the new encoding, what you get is normally a sparse matrix. In principle there is an argument `sparse` to `OneHotEncoder` which should prevent this and give you a dense matrix, which is much easier to handle (consider asking me or looking up what is a sparse matrix!). That attribute did not work for me so once I applied the new encoding I converted the result to a dense matrix as \n",
        "`Xc = Xc.todense()`\n",
        "\n",
        "Finally, you will need to use a specific method to get the new names of the variables. Its a method of your model (which I called ohe below) and you can find it in this page here https://scikit-learn.org/stable/modules/generated/sklearn.preprocessing.OneHotEncoder.html"
      ],
      "metadata": {
        "id": "7ryRb65ux_rX"
      }
    },
    {
      "cell_type": "code",
      "source": [
        "X_cat.describe()"
      ],
      "metadata": {
        "colab": {
          "base_uri": "https://localhost:8080/",
          "height": 308
        },
        "id": "22ujokcD-G8G",
        "outputId": "170f4265-5599-4ea8-a436-1ab8982b0552"
      },
      "execution_count": 200,
      "outputs": [
        {
          "output_type": "execute_result",
          "data": {
            "text/plain": [
              "        report_status                                    owner_of_record  \\\n",
              "count            1506                                               1506   \n",
              "unique              2                                               1088   \n",
              "top     In Compliance  GOVERNMENT OF THE DISTRICT OF COLUMBIA DEPARTM...   \n",
              "freq             1436                                                198   \n",
              "\n",
              "       postal_code primary_ptype_self primary_ptype_epa metered_areas_energy  \\\n",
              "count         1506               1506              1506                 1506   \n",
              "unique          52                 46                46                    4   \n",
              "top          20005             Office            Office       Whole Building   \n",
              "freq           142                504               496                 1372   \n",
              "\n",
              "        ward  postal_coderight  \n",
              "count   1506              1506  \n",
              "unique     8                44  \n",
              "top        2             20005  \n",
              "freq     629               142  "
            ],
            "text/html": [
              "\n",
              "  <div id=\"df-aa6ddab0-b7b4-43ad-aeee-ffe73bc75f2a\">\n",
              "    <div class=\"colab-df-container\">\n",
              "      <div>\n",
              "<style scoped>\n",
              "    .dataframe tbody tr th:only-of-type {\n",
              "        vertical-align: middle;\n",
              "    }\n",
              "\n",
              "    .dataframe tbody tr th {\n",
              "        vertical-align: top;\n",
              "    }\n",
              "\n",
              "    .dataframe thead th {\n",
              "        text-align: right;\n",
              "    }\n",
              "</style>\n",
              "<table border=\"1\" class=\"dataframe\">\n",
              "  <thead>\n",
              "    <tr style=\"text-align: right;\">\n",
              "      <th></th>\n",
              "      <th>report_status</th>\n",
              "      <th>owner_of_record</th>\n",
              "      <th>postal_code</th>\n",
              "      <th>primary_ptype_self</th>\n",
              "      <th>primary_ptype_epa</th>\n",
              "      <th>metered_areas_energy</th>\n",
              "      <th>ward</th>\n",
              "      <th>postal_coderight</th>\n",
              "    </tr>\n",
              "  </thead>\n",
              "  <tbody>\n",
              "    <tr>\n",
              "      <th>count</th>\n",
              "      <td>1506</td>\n",
              "      <td>1506</td>\n",
              "      <td>1506</td>\n",
              "      <td>1506</td>\n",
              "      <td>1506</td>\n",
              "      <td>1506</td>\n",
              "      <td>1506</td>\n",
              "      <td>1506</td>\n",
              "    </tr>\n",
              "    <tr>\n",
              "      <th>unique</th>\n",
              "      <td>2</td>\n",
              "      <td>1088</td>\n",
              "      <td>52</td>\n",
              "      <td>46</td>\n",
              "      <td>46</td>\n",
              "      <td>4</td>\n",
              "      <td>8</td>\n",
              "      <td>44</td>\n",
              "    </tr>\n",
              "    <tr>\n",
              "      <th>top</th>\n",
              "      <td>In Compliance</td>\n",
              "      <td>GOVERNMENT OF THE DISTRICT OF COLUMBIA DEPARTM...</td>\n",
              "      <td>20005</td>\n",
              "      <td>Office</td>\n",
              "      <td>Office</td>\n",
              "      <td>Whole Building</td>\n",
              "      <td>2</td>\n",
              "      <td>20005</td>\n",
              "    </tr>\n",
              "    <tr>\n",
              "      <th>freq</th>\n",
              "      <td>1436</td>\n",
              "      <td>198</td>\n",
              "      <td>142</td>\n",
              "      <td>504</td>\n",
              "      <td>496</td>\n",
              "      <td>1372</td>\n",
              "      <td>629</td>\n",
              "      <td>142</td>\n",
              "    </tr>\n",
              "  </tbody>\n",
              "</table>\n",
              "</div>\n",
              "      <button class=\"colab-df-convert\" onclick=\"convertToInteractive('df-aa6ddab0-b7b4-43ad-aeee-ffe73bc75f2a')\"\n",
              "              title=\"Convert this dataframe to an interactive table.\"\n",
              "              style=\"display:none;\">\n",
              "        \n",
              "  <svg xmlns=\"http://www.w3.org/2000/svg\" height=\"24px\"viewBox=\"0 0 24 24\"\n",
              "       width=\"24px\">\n",
              "    <path d=\"M0 0h24v24H0V0z\" fill=\"none\"/>\n",
              "    <path d=\"M18.56 5.44l.94 2.06.94-2.06 2.06-.94-2.06-.94-.94-2.06-.94 2.06-2.06.94zm-11 1L8.5 8.5l.94-2.06 2.06-.94-2.06-.94L8.5 2.5l-.94 2.06-2.06.94zm10 10l.94 2.06.94-2.06 2.06-.94-2.06-.94-.94-2.06-.94 2.06-2.06.94z\"/><path d=\"M17.41 7.96l-1.37-1.37c-.4-.4-.92-.59-1.43-.59-.52 0-1.04.2-1.43.59L10.3 9.45l-7.72 7.72c-.78.78-.78 2.05 0 2.83L4 21.41c.39.39.9.59 1.41.59.51 0 1.02-.2 1.41-.59l7.78-7.78 2.81-2.81c.8-.78.8-2.07 0-2.86zM5.41 20L4 18.59l7.72-7.72 1.47 1.35L5.41 20z\"/>\n",
              "  </svg>\n",
              "      </button>\n",
              "      \n",
              "  <style>\n",
              "    .colab-df-container {\n",
              "      display:flex;\n",
              "      flex-wrap:wrap;\n",
              "      gap: 12px;\n",
              "    }\n",
              "\n",
              "    .colab-df-convert {\n",
              "      background-color: #E8F0FE;\n",
              "      border: none;\n",
              "      border-radius: 50%;\n",
              "      cursor: pointer;\n",
              "      display: none;\n",
              "      fill: #1967D2;\n",
              "      height: 32px;\n",
              "      padding: 0 0 0 0;\n",
              "      width: 32px;\n",
              "    }\n",
              "\n",
              "    .colab-df-convert:hover {\n",
              "      background-color: #E2EBFA;\n",
              "      box-shadow: 0px 1px 2px rgba(60, 64, 67, 0.3), 0px 1px 3px 1px rgba(60, 64, 67, 0.15);\n",
              "      fill: #174EA6;\n",
              "    }\n",
              "\n",
              "    [theme=dark] .colab-df-convert {\n",
              "      background-color: #3B4455;\n",
              "      fill: #D2E3FC;\n",
              "    }\n",
              "\n",
              "    [theme=dark] .colab-df-convert:hover {\n",
              "      background-color: #434B5C;\n",
              "      box-shadow: 0px 1px 3px 1px rgba(0, 0, 0, 0.15);\n",
              "      filter: drop-shadow(0px 1px 2px rgba(0, 0, 0, 0.3));\n",
              "      fill: #FFFFFF;\n",
              "    }\n",
              "  </style>\n",
              "\n",
              "      <script>\n",
              "        const buttonEl =\n",
              "          document.querySelector('#df-aa6ddab0-b7b4-43ad-aeee-ffe73bc75f2a button.colab-df-convert');\n",
              "        buttonEl.style.display =\n",
              "          google.colab.kernel.accessAllowed ? 'block' : 'none';\n",
              "\n",
              "        async function convertToInteractive(key) {\n",
              "          const element = document.querySelector('#df-aa6ddab0-b7b4-43ad-aeee-ffe73bc75f2a');\n",
              "          const dataTable =\n",
              "            await google.colab.kernel.invokeFunction('convertToInteractive',\n",
              "                                                     [key], {});\n",
              "          if (!dataTable) return;\n",
              "\n",
              "          const docLinkHtml = 'Like what you see? Visit the ' +\n",
              "            '<a target=\"_blank\" href=https://colab.research.google.com/notebooks/data_table.ipynb>data table notebook</a>'\n",
              "            + ' to learn more about interactive tables.';\n",
              "          element.innerHTML = '';\n",
              "          dataTable['output_type'] = 'display_data';\n",
              "          await google.colab.output.renderOutput(dataTable, element);\n",
              "          const docLink = document.createElement('div');\n",
              "          docLink.innerHTML = docLinkHtml;\n",
              "          element.appendChild(docLink);\n",
              "        }\n",
              "      </script>\n",
              "    </div>\n",
              "  </div>\n",
              "  "
            ]
          },
          "metadata": {},
          "execution_count": 200
        }
      ]
    },
    {
      "cell_type": "markdown",
      "source": [
        "Ooops where I went wrong AGAIN was one hot encoding the original data, not the fixed data!"
      ],
      "metadata": {
        "id": "Hx32k6bs-MX1"
      }
    },
    {
      "cell_type": "code",
      "metadata": {
        "id": "BJoES_oBQBIl",
        "colab": {
          "base_uri": "https://localhost:8080/"
        },
        "outputId": "ee00c567-376e-4350-87c6-8bbdd2d2f744"
      },
      "source": [
        "# One Hot Encoding\n",
        "ohe = OneHotEncoder(sparse=False).fit(X_cat)\n",
        "Xc = ohe.transform(X_cat)\n",
        "Xc"
      ],
      "execution_count": 201,
      "outputs": [
        {
          "output_type": "execute_result",
          "data": {
            "text/plain": [
              "array([[0., 1., 0., ..., 0., 0., 0.],\n",
              "       [0., 1., 0., ..., 0., 0., 0.],\n",
              "       [0., 1., 0., ..., 0., 0., 0.],\n",
              "       ...,\n",
              "       [1., 0., 0., ..., 0., 0., 0.],\n",
              "       [1., 0., 0., ..., 0., 0., 0.],\n",
              "       [1., 0., 0., ..., 0., 0., 0.]])"
            ]
          },
          "metadata": {},
          "execution_count": 201
        }
      ]
    },
    {
      "cell_type": "code",
      "source": [
        "#get the names of the features after the encoding is done\n",
        "feature_name_cat = ohe.get_feature_names_out()\n",
        "feature_name_cat"
      ],
      "metadata": {
        "id": "IuLhVV3SBlPb",
        "colab": {
          "base_uri": "https://localhost:8080/"
        },
        "outputId": "9dc46187-88d6-4756-c61a-192c19341d4c"
      },
      "execution_count": 202,
      "outputs": [
        {
          "output_type": "execute_result",
          "data": {
            "text/plain": [
              "array(['report_status_Data under review by DOEE',\n",
              "       'report_status_In Compliance',\n",
              "       'owner_of_record_\"11TH & G ST INVESTORS', ...,\n",
              "       'postal_coderight_200171566', 'postal_coderight_200242459',\n",
              "       'postal_coderight_200362103'], dtype=object)"
            ]
          },
          "metadata": {},
          "execution_count": 202
        }
      ]
    },
    {
      "cell_type": "code",
      "source": [
        "Xc.shape"
      ],
      "metadata": {
        "colab": {
          "base_uri": "https://localhost:8080/"
        },
        "id": "AnepOM3taW3l",
        "outputId": "5cc6200a-9fc4-4b08-a015-c88e78d137f6"
      },
      "execution_count": 203,
      "outputs": [
        {
          "output_type": "execute_result",
          "data": {
            "text/plain": [
              "(1506, 1290)"
            ]
          },
          "metadata": {},
          "execution_count": 203
        }
      ]
    },
    {
      "cell_type": "markdown",
      "metadata": {
        "id": "3Wd7WBC6fSSI"
      },
      "source": [
        "# Task 4 recombine your numerical and categorical imput features and split your data into training and testing"
      ]
    },
    {
      "cell_type": "code",
      "metadata": {
        "id": "eq9FKlTgOsvX",
        "outputId": "0334731a-0e59-41ad-dddc-5f1a8b5f80aa",
        "colab": {
          "base_uri": "https://localhost:8080/"
        }
      },
      "source": [
        "Xn.shape"
      ],
      "execution_count": 204,
      "outputs": [
        {
          "output_type": "execute_result",
          "data": {
            "text/plain": [
              "(1506, 6)"
            ]
          },
          "metadata": {},
          "execution_count": 204
        }
      ]
    },
    {
      "cell_type": "code",
      "metadata": {
        "id": "ob2Nd1_pTeAx",
        "outputId": "979b50a8-8a68-4dda-f527-25fe34fc08a6",
        "colab": {
          "base_uri": "https://localhost:8080/"
        }
      },
      "source": [
        "Xc.shape"
      ],
      "execution_count": 205,
      "outputs": [
        {
          "output_type": "execute_result",
          "data": {
            "text/plain": [
              "(1506, 1290)"
            ]
          },
          "metadata": {},
          "execution_count": 205
        }
      ]
    },
    {
      "cell_type": "code",
      "metadata": {
        "id": "0taJGPcRTfLN",
        "outputId": "a739cda5-3adb-4283-95a6-761c5ffc13ee",
        "colab": {
          "base_uri": "https://localhost:8080/"
        }
      },
      "source": [
        "X = np.hstack([Xn, Xc])\n",
        "X.shape"
      ],
      "execution_count": 206,
      "outputs": [
        {
          "output_type": "execute_result",
          "data": {
            "text/plain": [
              "(1506, 1296)"
            ]
          },
          "metadata": {},
          "execution_count": 206
        }
      ]
    },
    {
      "cell_type": "code",
      "source": [
        "print(\"The dataset has {} features (!!!)\".format(X.shape[1]))"
      ],
      "metadata": {
        "colab": {
          "base_uri": "https://localhost:8080/"
        },
        "id": "Q-1tDyqg2HCC",
        "outputId": "2ae30076-d2bb-412a-b917-d475daf40849"
      },
      "execution_count": 207,
      "outputs": [
        {
          "output_type": "stream",
          "name": "stdout",
          "text": [
            "The dataset has 1296 features (!!!)\n"
          ]
        }
      ]
    },
    {
      "cell_type": "code",
      "source": [
        "#testing Xn for error sources\n",
        "Xn_train, Xn_test, y_train, y_test = train_test_split(Xn, y, train_size=0.70, random_state=72)\n",
        "Xn_train.shape, Xn_test.shape, y_train.shape, y_test.shape"
      ],
      "metadata": {
        "colab": {
          "base_uri": "https://localhost:8080/"
        },
        "id": "NIZ7g0ZYB9mK",
        "outputId": "ae8b8c66-de2a-406e-df9b-c3f4b48ef254"
      },
      "execution_count": 208,
      "outputs": [
        {
          "output_type": "execute_result",
          "data": {
            "text/plain": [
              "((1054, 6), (452, 6), (1054,), (452,))"
            ]
          },
          "metadata": {},
          "execution_count": 208
        }
      ]
    },
    {
      "cell_type": "code",
      "source": [
        "#testing Xc for error sources\n",
        "Xc_train, Xc_test, y_train, y_test = train_test_split(Xc, y, train_size=0.70, random_state=72)\n",
        "Xc_train.shape, Xc_test.shape, y_train.shape, y_test.shape"
      ],
      "metadata": {
        "colab": {
          "base_uri": "https://localhost:8080/"
        },
        "id": "Soq4G_XSGMLT",
        "outputId": "027020ab-4480-4436-c5a7-c4ff0ecfcffd"
      },
      "execution_count": 209,
      "outputs": [
        {
          "output_type": "execute_result",
          "data": {
            "text/plain": [
              "((1054, 1290), (452, 1290), (1054,), (452,))"
            ]
          },
          "metadata": {},
          "execution_count": 209
        }
      ]
    },
    {
      "cell_type": "code",
      "source": [
        "#I tried a few different max depths here.\n",
        "rf = RandomForestRegressor(max_depth=4)\n",
        "rf.fit(Xc_train, y_train)"
      ],
      "metadata": {
        "colab": {
          "base_uri": "https://localhost:8080/",
          "height": 350
        },
        "id": "JmBg6QhuGVE9",
        "outputId": "d6a4a900-d195-4d90-d5b7-e9d2d1ac85cd"
      },
      "execution_count": 210,
      "outputs": [
        {
          "output_type": "error",
          "ename": "ValueError",
          "evalue": "ignored",
          "traceback": [
            "\u001b[0;31m---------------------------------------------------------------------------\u001b[0m",
            "\u001b[0;31mValueError\u001b[0m                                Traceback (most recent call last)",
            "\u001b[0;32m<ipython-input-210-bc9b357ad141>\u001b[0m in \u001b[0;36m<module>\u001b[0;34m\u001b[0m\n\u001b[1;32m      1\u001b[0m \u001b[0;31m#I tried a few different max depths here.\u001b[0m\u001b[0;34m\u001b[0m\u001b[0;34m\u001b[0m\u001b[0;34m\u001b[0m\u001b[0m\n\u001b[1;32m      2\u001b[0m \u001b[0mrf\u001b[0m \u001b[0;34m=\u001b[0m \u001b[0mRandomForestRegressor\u001b[0m\u001b[0;34m(\u001b[0m\u001b[0mmax_depth\u001b[0m\u001b[0;34m=\u001b[0m\u001b[0;36m4\u001b[0m\u001b[0;34m)\u001b[0m\u001b[0;34m\u001b[0m\u001b[0;34m\u001b[0m\u001b[0m\n\u001b[0;32m----> 3\u001b[0;31m \u001b[0mrf\u001b[0m\u001b[0;34m.\u001b[0m\u001b[0mfit\u001b[0m\u001b[0;34m(\u001b[0m\u001b[0mXc_train\u001b[0m\u001b[0;34m,\u001b[0m \u001b[0my_train\u001b[0m\u001b[0;34m)\u001b[0m\u001b[0;34m\u001b[0m\u001b[0;34m\u001b[0m\u001b[0m\n\u001b[0m",
            "\u001b[0;32m/usr/local/lib/python3.7/dist-packages/sklearn/ensemble/_forest.py\u001b[0m in \u001b[0;36mfit\u001b[0;34m(self, X, y, sample_weight)\u001b[0m\n\u001b[1;32m    326\u001b[0m             \u001b[0;32mraise\u001b[0m \u001b[0mValueError\u001b[0m\u001b[0;34m(\u001b[0m\u001b[0;34m\"sparse multilabel-indicator for y is not supported.\"\u001b[0m\u001b[0;34m)\u001b[0m\u001b[0;34m\u001b[0m\u001b[0;34m\u001b[0m\u001b[0m\n\u001b[1;32m    327\u001b[0m         X, y = self._validate_data(\n\u001b[0;32m--> 328\u001b[0;31m             \u001b[0mX\u001b[0m\u001b[0;34m,\u001b[0m \u001b[0my\u001b[0m\u001b[0;34m,\u001b[0m \u001b[0mmulti_output\u001b[0m\u001b[0;34m=\u001b[0m\u001b[0;32mTrue\u001b[0m\u001b[0;34m,\u001b[0m \u001b[0maccept_sparse\u001b[0m\u001b[0;34m=\u001b[0m\u001b[0;34m\"csc\"\u001b[0m\u001b[0;34m,\u001b[0m \u001b[0mdtype\u001b[0m\u001b[0;34m=\u001b[0m\u001b[0mDTYPE\u001b[0m\u001b[0;34m\u001b[0m\u001b[0;34m\u001b[0m\u001b[0m\n\u001b[0m\u001b[1;32m    329\u001b[0m         )\n\u001b[1;32m    330\u001b[0m         \u001b[0;32mif\u001b[0m \u001b[0msample_weight\u001b[0m \u001b[0;32mis\u001b[0m \u001b[0;32mnot\u001b[0m \u001b[0;32mNone\u001b[0m\u001b[0;34m:\u001b[0m\u001b[0;34m\u001b[0m\u001b[0;34m\u001b[0m\u001b[0m\n",
            "\u001b[0;32m/usr/local/lib/python3.7/dist-packages/sklearn/base.py\u001b[0m in \u001b[0;36m_validate_data\u001b[0;34m(self, X, y, reset, validate_separately, **check_params)\u001b[0m\n\u001b[1;32m    579\u001b[0m                 \u001b[0my\u001b[0m \u001b[0;34m=\u001b[0m \u001b[0mcheck_array\u001b[0m\u001b[0;34m(\u001b[0m\u001b[0my\u001b[0m\u001b[0;34m,\u001b[0m \u001b[0;34m**\u001b[0m\u001b[0mcheck_y_params\u001b[0m\u001b[0;34m)\u001b[0m\u001b[0;34m\u001b[0m\u001b[0;34m\u001b[0m\u001b[0m\n\u001b[1;32m    580\u001b[0m             \u001b[0;32melse\u001b[0m\u001b[0;34m:\u001b[0m\u001b[0;34m\u001b[0m\u001b[0;34m\u001b[0m\u001b[0m\n\u001b[0;32m--> 581\u001b[0;31m                 \u001b[0mX\u001b[0m\u001b[0;34m,\u001b[0m \u001b[0my\u001b[0m \u001b[0;34m=\u001b[0m \u001b[0mcheck_X_y\u001b[0m\u001b[0;34m(\u001b[0m\u001b[0mX\u001b[0m\u001b[0;34m,\u001b[0m \u001b[0my\u001b[0m\u001b[0;34m,\u001b[0m \u001b[0;34m**\u001b[0m\u001b[0mcheck_params\u001b[0m\u001b[0;34m)\u001b[0m\u001b[0;34m\u001b[0m\u001b[0;34m\u001b[0m\u001b[0m\n\u001b[0m\u001b[1;32m    582\u001b[0m             \u001b[0mout\u001b[0m \u001b[0;34m=\u001b[0m \u001b[0mX\u001b[0m\u001b[0;34m,\u001b[0m \u001b[0my\u001b[0m\u001b[0;34m\u001b[0m\u001b[0;34m\u001b[0m\u001b[0m\n\u001b[1;32m    583\u001b[0m \u001b[0;34m\u001b[0m\u001b[0m\n",
            "\u001b[0;32m/usr/local/lib/python3.7/dist-packages/sklearn/utils/validation.py\u001b[0m in \u001b[0;36mcheck_X_y\u001b[0;34m(X, y, accept_sparse, accept_large_sparse, dtype, order, copy, force_all_finite, ensure_2d, allow_nd, multi_output, ensure_min_samples, ensure_min_features, y_numeric, estimator)\u001b[0m\n\u001b[1;32m    977\u001b[0m     )\n\u001b[1;32m    978\u001b[0m \u001b[0;34m\u001b[0m\u001b[0m\n\u001b[0;32m--> 979\u001b[0;31m     \u001b[0my\u001b[0m \u001b[0;34m=\u001b[0m \u001b[0m_check_y\u001b[0m\u001b[0;34m(\u001b[0m\u001b[0my\u001b[0m\u001b[0;34m,\u001b[0m \u001b[0mmulti_output\u001b[0m\u001b[0;34m=\u001b[0m\u001b[0mmulti_output\u001b[0m\u001b[0;34m,\u001b[0m \u001b[0my_numeric\u001b[0m\u001b[0;34m=\u001b[0m\u001b[0my_numeric\u001b[0m\u001b[0;34m)\u001b[0m\u001b[0;34m\u001b[0m\u001b[0;34m\u001b[0m\u001b[0m\n\u001b[0m\u001b[1;32m    980\u001b[0m \u001b[0;34m\u001b[0m\u001b[0m\n\u001b[1;32m    981\u001b[0m     \u001b[0mcheck_consistent_length\u001b[0m\u001b[0;34m(\u001b[0m\u001b[0mX\u001b[0m\u001b[0;34m,\u001b[0m \u001b[0my\u001b[0m\u001b[0;34m)\u001b[0m\u001b[0;34m\u001b[0m\u001b[0;34m\u001b[0m\u001b[0m\n",
            "\u001b[0;32m/usr/local/lib/python3.7/dist-packages/sklearn/utils/validation.py\u001b[0m in \u001b[0;36m_check_y\u001b[0;34m(y, multi_output, y_numeric)\u001b[0m\n\u001b[1;32m    988\u001b[0m     \u001b[0;32mif\u001b[0m \u001b[0mmulti_output\u001b[0m\u001b[0;34m:\u001b[0m\u001b[0;34m\u001b[0m\u001b[0;34m\u001b[0m\u001b[0m\n\u001b[1;32m    989\u001b[0m         y = check_array(\n\u001b[0;32m--> 990\u001b[0;31m             \u001b[0my\u001b[0m\u001b[0;34m,\u001b[0m \u001b[0maccept_sparse\u001b[0m\u001b[0;34m=\u001b[0m\u001b[0;34m\"csr\"\u001b[0m\u001b[0;34m,\u001b[0m \u001b[0mforce_all_finite\u001b[0m\u001b[0;34m=\u001b[0m\u001b[0;32mTrue\u001b[0m\u001b[0;34m,\u001b[0m \u001b[0mensure_2d\u001b[0m\u001b[0;34m=\u001b[0m\u001b[0;32mFalse\u001b[0m\u001b[0;34m,\u001b[0m \u001b[0mdtype\u001b[0m\u001b[0;34m=\u001b[0m\u001b[0;32mNone\u001b[0m\u001b[0;34m\u001b[0m\u001b[0;34m\u001b[0m\u001b[0m\n\u001b[0m\u001b[1;32m    991\u001b[0m         )\n\u001b[1;32m    992\u001b[0m     \u001b[0;32melse\u001b[0m\u001b[0;34m:\u001b[0m\u001b[0;34m\u001b[0m\u001b[0;34m\u001b[0m\u001b[0m\n",
            "\u001b[0;32m/usr/local/lib/python3.7/dist-packages/sklearn/utils/validation.py\u001b[0m in \u001b[0;36mcheck_array\u001b[0;34m(array, accept_sparse, accept_large_sparse, dtype, order, copy, force_all_finite, ensure_2d, allow_nd, ensure_min_samples, ensure_min_features, estimator)\u001b[0m\n\u001b[1;32m    798\u001b[0m \u001b[0;34m\u001b[0m\u001b[0m\n\u001b[1;32m    799\u001b[0m         \u001b[0;32mif\u001b[0m \u001b[0mforce_all_finite\u001b[0m\u001b[0;34m:\u001b[0m\u001b[0;34m\u001b[0m\u001b[0;34m\u001b[0m\u001b[0m\n\u001b[0;32m--> 800\u001b[0;31m             \u001b[0m_assert_all_finite\u001b[0m\u001b[0;34m(\u001b[0m\u001b[0marray\u001b[0m\u001b[0;34m,\u001b[0m \u001b[0mallow_nan\u001b[0m\u001b[0;34m=\u001b[0m\u001b[0mforce_all_finite\u001b[0m \u001b[0;34m==\u001b[0m \u001b[0;34m\"allow-nan\"\u001b[0m\u001b[0;34m)\u001b[0m\u001b[0;34m\u001b[0m\u001b[0;34m\u001b[0m\u001b[0m\n\u001b[0m\u001b[1;32m    801\u001b[0m \u001b[0;34m\u001b[0m\u001b[0m\n\u001b[1;32m    802\u001b[0m     \u001b[0;32mif\u001b[0m \u001b[0mensure_min_samples\u001b[0m \u001b[0;34m>\u001b[0m \u001b[0;36m0\u001b[0m\u001b[0;34m:\u001b[0m\u001b[0;34m\u001b[0m\u001b[0;34m\u001b[0m\u001b[0m\n",
            "\u001b[0;32m/usr/local/lib/python3.7/dist-packages/sklearn/utils/validation.py\u001b[0m in \u001b[0;36m_assert_all_finite\u001b[0;34m(X, allow_nan, msg_dtype)\u001b[0m\n\u001b[1;32m    114\u001b[0m             raise ValueError(\n\u001b[1;32m    115\u001b[0m                 msg_err.format(\n\u001b[0;32m--> 116\u001b[0;31m                     \u001b[0mtype_err\u001b[0m\u001b[0;34m,\u001b[0m \u001b[0mmsg_dtype\u001b[0m \u001b[0;32mif\u001b[0m \u001b[0mmsg_dtype\u001b[0m \u001b[0;32mis\u001b[0m \u001b[0;32mnot\u001b[0m \u001b[0;32mNone\u001b[0m \u001b[0;32melse\u001b[0m \u001b[0mX\u001b[0m\u001b[0;34m.\u001b[0m\u001b[0mdtype\u001b[0m\u001b[0;34m\u001b[0m\u001b[0;34m\u001b[0m\u001b[0m\n\u001b[0m\u001b[1;32m    117\u001b[0m                 )\n\u001b[1;32m    118\u001b[0m             )\n",
            "\u001b[0;31mValueError\u001b[0m: Input contains NaN, infinity or a value too large for dtype('float64')."
          ]
        }
      ]
    },
    {
      "cell_type": "code",
      "metadata": {
        "id": "WCUUattUUfqR",
        "colab": {
          "base_uri": "https://localhost:8080/"
        },
        "outputId": "a0fb6a72-0a70-4307-8dc1-2a44d303e5cc"
      },
      "source": [
        "# make a train and test dataset\n",
        "X_train, X_test, y_train, y_test = train_test_split(X, y, train_size=0.70, random_state=72)\n",
        "X_train.shape, X_test.shape, y_train.shape, y_test.shape"
      ],
      "execution_count": 211,
      "outputs": [
        {
          "output_type": "execute_result",
          "data": {
            "text/plain": [
              "((1054, 1296), (452, 1296), (1054,), (452,))"
            ]
          },
          "metadata": {},
          "execution_count": 211
        }
      ]
    },
    {
      "cell_type": "markdown",
      "source": [
        "Tbh I didn't mess with the train and random state settings this time because I need to move on with my life."
      ],
      "metadata": {
        "id": "mDY-bfoncC30"
      }
    },
    {
      "cell_type": "markdown",
      "metadata": {
        "id": "ao-6jRG0fdNT"
      },
      "source": [
        "# TASK 5 run a random forest REGRESSION model\n",
        "\n",
        "report the score on the training and test data and identify the most important features"
      ]
    },
    {
      "cell_type": "code",
      "metadata": {
        "id": "kEiFt_htTjNF",
        "outputId": "4e5d0c25-5e79-43aa-cde0-9d81263f8f24",
        "colab": {
          "base_uri": "https://localhost:8080/",
          "height": 368
        }
      },
      "source": [
        "#I tried a few different max depths here.\n",
        "rf = RandomForestRegressor(max_depth=4)\n",
        "rf.fit(X_train, y_train)\n",
        "print(\"accuracy on training data {:.2}\".format(rf.score(X_train, y_train)))"
      ],
      "execution_count": 212,
      "outputs": [
        {
          "output_type": "error",
          "ename": "ValueError",
          "evalue": "ignored",
          "traceback": [
            "\u001b[0;31m---------------------------------------------------------------------------\u001b[0m",
            "\u001b[0;31mValueError\u001b[0m                                Traceback (most recent call last)",
            "\u001b[0;32m<ipython-input-212-1913cfbdf328>\u001b[0m in \u001b[0;36m<module>\u001b[0;34m\u001b[0m\n\u001b[1;32m      1\u001b[0m \u001b[0;31m#I tried a few different max depths here.\u001b[0m\u001b[0;34m\u001b[0m\u001b[0;34m\u001b[0m\u001b[0;34m\u001b[0m\u001b[0m\n\u001b[1;32m      2\u001b[0m \u001b[0mrf\u001b[0m \u001b[0;34m=\u001b[0m \u001b[0mRandomForestRegressor\u001b[0m\u001b[0;34m(\u001b[0m\u001b[0mmax_depth\u001b[0m\u001b[0;34m=\u001b[0m\u001b[0;36m4\u001b[0m\u001b[0;34m)\u001b[0m\u001b[0;34m\u001b[0m\u001b[0;34m\u001b[0m\u001b[0m\n\u001b[0;32m----> 3\u001b[0;31m \u001b[0mrf\u001b[0m\u001b[0;34m.\u001b[0m\u001b[0mfit\u001b[0m\u001b[0;34m(\u001b[0m\u001b[0mX_train\u001b[0m\u001b[0;34m,\u001b[0m \u001b[0my_train\u001b[0m\u001b[0;34m)\u001b[0m\u001b[0;34m\u001b[0m\u001b[0;34m\u001b[0m\u001b[0m\n\u001b[0m\u001b[1;32m      4\u001b[0m \u001b[0mprint\u001b[0m\u001b[0;34m(\u001b[0m\u001b[0;34m\"accuracy on training data {:.2}\"\u001b[0m\u001b[0;34m.\u001b[0m\u001b[0mformat\u001b[0m\u001b[0;34m(\u001b[0m\u001b[0mrf\u001b[0m\u001b[0;34m.\u001b[0m\u001b[0mscore\u001b[0m\u001b[0;34m(\u001b[0m\u001b[0mX_train\u001b[0m\u001b[0;34m,\u001b[0m \u001b[0my_train\u001b[0m\u001b[0;34m)\u001b[0m\u001b[0;34m)\u001b[0m\u001b[0;34m)\u001b[0m\u001b[0;34m\u001b[0m\u001b[0;34m\u001b[0m\u001b[0m\n",
            "\u001b[0;32m/usr/local/lib/python3.7/dist-packages/sklearn/ensemble/_forest.py\u001b[0m in \u001b[0;36mfit\u001b[0;34m(self, X, y, sample_weight)\u001b[0m\n\u001b[1;32m    326\u001b[0m             \u001b[0;32mraise\u001b[0m \u001b[0mValueError\u001b[0m\u001b[0;34m(\u001b[0m\u001b[0;34m\"sparse multilabel-indicator for y is not supported.\"\u001b[0m\u001b[0;34m)\u001b[0m\u001b[0;34m\u001b[0m\u001b[0;34m\u001b[0m\u001b[0m\n\u001b[1;32m    327\u001b[0m         X, y = self._validate_data(\n\u001b[0;32m--> 328\u001b[0;31m             \u001b[0mX\u001b[0m\u001b[0;34m,\u001b[0m \u001b[0my\u001b[0m\u001b[0;34m,\u001b[0m \u001b[0mmulti_output\u001b[0m\u001b[0;34m=\u001b[0m\u001b[0;32mTrue\u001b[0m\u001b[0;34m,\u001b[0m \u001b[0maccept_sparse\u001b[0m\u001b[0;34m=\u001b[0m\u001b[0;34m\"csc\"\u001b[0m\u001b[0;34m,\u001b[0m \u001b[0mdtype\u001b[0m\u001b[0;34m=\u001b[0m\u001b[0mDTYPE\u001b[0m\u001b[0;34m\u001b[0m\u001b[0;34m\u001b[0m\u001b[0m\n\u001b[0m\u001b[1;32m    329\u001b[0m         )\n\u001b[1;32m    330\u001b[0m         \u001b[0;32mif\u001b[0m \u001b[0msample_weight\u001b[0m \u001b[0;32mis\u001b[0m \u001b[0;32mnot\u001b[0m \u001b[0;32mNone\u001b[0m\u001b[0;34m:\u001b[0m\u001b[0;34m\u001b[0m\u001b[0;34m\u001b[0m\u001b[0m\n",
            "\u001b[0;32m/usr/local/lib/python3.7/dist-packages/sklearn/base.py\u001b[0m in \u001b[0;36m_validate_data\u001b[0;34m(self, X, y, reset, validate_separately, **check_params)\u001b[0m\n\u001b[1;32m    579\u001b[0m                 \u001b[0my\u001b[0m \u001b[0;34m=\u001b[0m \u001b[0mcheck_array\u001b[0m\u001b[0;34m(\u001b[0m\u001b[0my\u001b[0m\u001b[0;34m,\u001b[0m \u001b[0;34m**\u001b[0m\u001b[0mcheck_y_params\u001b[0m\u001b[0;34m)\u001b[0m\u001b[0;34m\u001b[0m\u001b[0;34m\u001b[0m\u001b[0m\n\u001b[1;32m    580\u001b[0m             \u001b[0;32melse\u001b[0m\u001b[0;34m:\u001b[0m\u001b[0;34m\u001b[0m\u001b[0;34m\u001b[0m\u001b[0m\n\u001b[0;32m--> 581\u001b[0;31m                 \u001b[0mX\u001b[0m\u001b[0;34m,\u001b[0m \u001b[0my\u001b[0m \u001b[0;34m=\u001b[0m \u001b[0mcheck_X_y\u001b[0m\u001b[0;34m(\u001b[0m\u001b[0mX\u001b[0m\u001b[0;34m,\u001b[0m \u001b[0my\u001b[0m\u001b[0;34m,\u001b[0m \u001b[0;34m**\u001b[0m\u001b[0mcheck_params\u001b[0m\u001b[0;34m)\u001b[0m\u001b[0;34m\u001b[0m\u001b[0;34m\u001b[0m\u001b[0m\n\u001b[0m\u001b[1;32m    582\u001b[0m             \u001b[0mout\u001b[0m \u001b[0;34m=\u001b[0m \u001b[0mX\u001b[0m\u001b[0;34m,\u001b[0m \u001b[0my\u001b[0m\u001b[0;34m\u001b[0m\u001b[0;34m\u001b[0m\u001b[0m\n\u001b[1;32m    583\u001b[0m \u001b[0;34m\u001b[0m\u001b[0m\n",
            "\u001b[0;32m/usr/local/lib/python3.7/dist-packages/sklearn/utils/validation.py\u001b[0m in \u001b[0;36mcheck_X_y\u001b[0;34m(X, y, accept_sparse, accept_large_sparse, dtype, order, copy, force_all_finite, ensure_2d, allow_nd, multi_output, ensure_min_samples, ensure_min_features, y_numeric, estimator)\u001b[0m\n\u001b[1;32m    977\u001b[0m     )\n\u001b[1;32m    978\u001b[0m \u001b[0;34m\u001b[0m\u001b[0m\n\u001b[0;32m--> 979\u001b[0;31m     \u001b[0my\u001b[0m \u001b[0;34m=\u001b[0m \u001b[0m_check_y\u001b[0m\u001b[0;34m(\u001b[0m\u001b[0my\u001b[0m\u001b[0;34m,\u001b[0m \u001b[0mmulti_output\u001b[0m\u001b[0;34m=\u001b[0m\u001b[0mmulti_output\u001b[0m\u001b[0;34m,\u001b[0m \u001b[0my_numeric\u001b[0m\u001b[0;34m=\u001b[0m\u001b[0my_numeric\u001b[0m\u001b[0;34m)\u001b[0m\u001b[0;34m\u001b[0m\u001b[0;34m\u001b[0m\u001b[0m\n\u001b[0m\u001b[1;32m    980\u001b[0m \u001b[0;34m\u001b[0m\u001b[0m\n\u001b[1;32m    981\u001b[0m     \u001b[0mcheck_consistent_length\u001b[0m\u001b[0;34m(\u001b[0m\u001b[0mX\u001b[0m\u001b[0;34m,\u001b[0m \u001b[0my\u001b[0m\u001b[0;34m)\u001b[0m\u001b[0;34m\u001b[0m\u001b[0;34m\u001b[0m\u001b[0m\n",
            "\u001b[0;32m/usr/local/lib/python3.7/dist-packages/sklearn/utils/validation.py\u001b[0m in \u001b[0;36m_check_y\u001b[0;34m(y, multi_output, y_numeric)\u001b[0m\n\u001b[1;32m    988\u001b[0m     \u001b[0;32mif\u001b[0m \u001b[0mmulti_output\u001b[0m\u001b[0;34m:\u001b[0m\u001b[0;34m\u001b[0m\u001b[0;34m\u001b[0m\u001b[0m\n\u001b[1;32m    989\u001b[0m         y = check_array(\n\u001b[0;32m--> 990\u001b[0;31m             \u001b[0my\u001b[0m\u001b[0;34m,\u001b[0m \u001b[0maccept_sparse\u001b[0m\u001b[0;34m=\u001b[0m\u001b[0;34m\"csr\"\u001b[0m\u001b[0;34m,\u001b[0m \u001b[0mforce_all_finite\u001b[0m\u001b[0;34m=\u001b[0m\u001b[0;32mTrue\u001b[0m\u001b[0;34m,\u001b[0m \u001b[0mensure_2d\u001b[0m\u001b[0;34m=\u001b[0m\u001b[0;32mFalse\u001b[0m\u001b[0;34m,\u001b[0m \u001b[0mdtype\u001b[0m\u001b[0;34m=\u001b[0m\u001b[0;32mNone\u001b[0m\u001b[0;34m\u001b[0m\u001b[0;34m\u001b[0m\u001b[0m\n\u001b[0m\u001b[1;32m    991\u001b[0m         )\n\u001b[1;32m    992\u001b[0m     \u001b[0;32melse\u001b[0m\u001b[0;34m:\u001b[0m\u001b[0;34m\u001b[0m\u001b[0;34m\u001b[0m\u001b[0m\n",
            "\u001b[0;32m/usr/local/lib/python3.7/dist-packages/sklearn/utils/validation.py\u001b[0m in \u001b[0;36mcheck_array\u001b[0;34m(array, accept_sparse, accept_large_sparse, dtype, order, copy, force_all_finite, ensure_2d, allow_nd, ensure_min_samples, ensure_min_features, estimator)\u001b[0m\n\u001b[1;32m    798\u001b[0m \u001b[0;34m\u001b[0m\u001b[0m\n\u001b[1;32m    799\u001b[0m         \u001b[0;32mif\u001b[0m \u001b[0mforce_all_finite\u001b[0m\u001b[0;34m:\u001b[0m\u001b[0;34m\u001b[0m\u001b[0;34m\u001b[0m\u001b[0m\n\u001b[0;32m--> 800\u001b[0;31m             \u001b[0m_assert_all_finite\u001b[0m\u001b[0;34m(\u001b[0m\u001b[0marray\u001b[0m\u001b[0;34m,\u001b[0m \u001b[0mallow_nan\u001b[0m\u001b[0;34m=\u001b[0m\u001b[0mforce_all_finite\u001b[0m \u001b[0;34m==\u001b[0m \u001b[0;34m\"allow-nan\"\u001b[0m\u001b[0;34m)\u001b[0m\u001b[0;34m\u001b[0m\u001b[0;34m\u001b[0m\u001b[0m\n\u001b[0m\u001b[1;32m    801\u001b[0m \u001b[0;34m\u001b[0m\u001b[0m\n\u001b[1;32m    802\u001b[0m     \u001b[0;32mif\u001b[0m \u001b[0mensure_min_samples\u001b[0m \u001b[0;34m>\u001b[0m \u001b[0;36m0\u001b[0m\u001b[0;34m:\u001b[0m\u001b[0;34m\u001b[0m\u001b[0;34m\u001b[0m\u001b[0m\n",
            "\u001b[0;32m/usr/local/lib/python3.7/dist-packages/sklearn/utils/validation.py\u001b[0m in \u001b[0;36m_assert_all_finite\u001b[0;34m(X, allow_nan, msg_dtype)\u001b[0m\n\u001b[1;32m    114\u001b[0m             raise ValueError(\n\u001b[1;32m    115\u001b[0m                 msg_err.format(\n\u001b[0;32m--> 116\u001b[0;31m                     \u001b[0mtype_err\u001b[0m\u001b[0;34m,\u001b[0m \u001b[0mmsg_dtype\u001b[0m \u001b[0;32mif\u001b[0m \u001b[0mmsg_dtype\u001b[0m \u001b[0;32mis\u001b[0m \u001b[0;32mnot\u001b[0m \u001b[0;32mNone\u001b[0m \u001b[0;32melse\u001b[0m \u001b[0mX\u001b[0m\u001b[0;34m.\u001b[0m\u001b[0mdtype\u001b[0m\u001b[0;34m\u001b[0m\u001b[0;34m\u001b[0m\u001b[0m\n\u001b[0m\u001b[1;32m    117\u001b[0m                 )\n\u001b[1;32m    118\u001b[0m             )\n",
            "\u001b[0;31mValueError\u001b[0m: Input contains NaN, infinity or a value too large for dtype('float64')."
          ]
        }
      ]
    },
    {
      "cell_type": "markdown",
      "source": [
        "# Model Results and Analysis"
      ],
      "metadata": {
        "id": "q1eoOhpcgldX"
      }
    },
    {
      "cell_type": "code",
      "metadata": {
        "id": "ymTuhJURT8hC"
      },
      "source": [
        "print (\"the model test accuracy is {:.2}\".format(rf.score(X_test, y_test)))"
      ],
      "execution_count": null,
      "outputs": []
    },
    {
      "cell_type": "markdown",
      "source": [
        "Oooh this one has a much worse test vs training performance than my Chicago one!"
      ],
      "metadata": {
        "id": "wAhnxbcLcTq4"
      }
    },
    {
      "cell_type": "code",
      "metadata": {
        "id": "jX2RquwBUT0a"
      },
      "source": [
        "#this is how you see the importance of the features\n",
        "rf.feature_importances_[:10]"
      ],
      "execution_count": null,
      "outputs": []
    },
    {
      "cell_type": "code",
      "source": [
        "# One thing I tried\n",
        "#feature_names = list(X_train.columns.values)"
      ],
      "metadata": {
        "id": "svSq08IAhRUq"
      },
      "execution_count": null,
      "outputs": []
    },
    {
      "cell_type": "code",
      "source": [
        "# making updated array of feature/column names (numeric then categorical)\n",
        "columns = np.concatenate([X_numeric_data.columns, feature_name_cat])\n",
        "#columns"
      ],
      "metadata": {
        "id": "L2jT9ZgYfQwQ"
      },
      "execution_count": null,
      "outputs": []
    },
    {
      "cell_type": "code",
      "source": [
        "#creating an index of rankings of feature importances\n",
        "sorted_idx = np.argsort(rf.feature_importances_)"
      ],
      "metadata": {
        "id": "GI7G-Oc3fTa-"
      },
      "execution_count": null,
      "outputs": []
    },
    {
      "cell_type": "code",
      "source": [
        "sorted_column_names = columns[sorted_idx]"
      ],
      "metadata": {
        "id": "i6T2yhfUfX4h"
      },
      "execution_count": null,
      "outputs": []
    },
    {
      "cell_type": "code",
      "source": [
        "len(columns)"
      ],
      "metadata": {
        "id": "E1Qh9sR_gZfr"
      },
      "execution_count": null,
      "outputs": []
    },
    {
      "cell_type": "code",
      "metadata": {
        "id": "jO9F9bMRUYgU"
      },
      "source": [
        "# plot the top ~50 features\n",
        "y_ticks = np.arange(0, len(columns))\n",
        "fig, ax = plt.subplots(figsize=(10,20))\n",
        "ax.barh(y_ticks, rf.feature_importances_[sorted_idx])\n",
        "ax.set_yticklabels(sorted_column_names)\n",
        "ax.set_yticks(y_ticks)\n",
        "ax.set_title(\"Random Forest Feature Importances (MDI)\")\n",
        "fig.tight_layout()\n",
        "ax.set_ylim(112, len(columns))\n",
        "plt.show()"
      ],
      "execution_count": null,
      "outputs": []
    },
    {
      "cell_type": "markdown",
      "source": [
        "## Conclusion\n",
        "\n",
        "Like in Chicago and the authors' findings, building area is important! It looks like my findings are pretty similar to the authors'. I'm not actually sure what tax recorded area is...is it a variation on the same data or taxable area? Unlike Chicago, this one has water use, and I think the metered water variable is the one the authors said can serve as a proxy for conditioned/frequently used by people areas. Unlike Chicago, churches and grocery stores don't show up as important here--were they outweighed by other variables? Museums do--DC does have a lot of big museums, so maybe they appear enough in the data to stand out.\n",
        "\n",
        "I looked up zip codes 20059 and 20024. 20059 is pretty small but has some of Howard University and a stadium. 20024 has a lot of greenspace, but it's next to Capitol Hill and the Mall and incorporates the Smithsonian. Based on the museums variable, I wonder if the large amount of museums make it stand out? Are museums really that much bigger energy hogs than huge office buildings?"
      ],
      "metadata": {
        "id": "yix2Hukmgqku"
      }
    },
    {
      "cell_type": "markdown",
      "metadata": {
        "id": "XZxr_mNXV5QB"
      },
      "source": [
        "# useful links and methods and functions I used: \n",
        "\n",
        "```df.dropna()``` to remove observation with missing variables\n",
        "\n",
        "```df.drop(columns, axis=1)``` to remove features (columns)\n",
        "\n",
        "\n",
        "```np.log10()``` and ```np.isinf()``` to convert to log space and find infinite values  \n",
        "\n",
        "`np.hstack([X1, X2])` to concatenate two arrays\n"
      ]
    },
    {
      "cell_type": "markdown",
      "metadata": {
        "id": "glzZInBSoLjW"
      },
      "source": [
        "one hot encoder https://scikit-learn.org/stable/modules/generated/sklearn.preprocessing.OneHotEncoder.html and https://stackabuse.com/one-hot-encoding-in-python-with-pandas-and-scikit-learn/\n"
      ]
    },
    {
      "cell_type": "markdown",
      "metadata": {
        "id": "c9_0ZFaGqRj1"
      },
      "source": [
        "KNN imputer https://scikit-learn.org/stable/modules/generated/sklearn.impute.KNNImputer.html , https://www.analyticsvidhya.com/blog/2020/07/knnimputer-a-robust-way-to-impute-missing-values-using-scikit-learn/, and \n",
        "https://machinelearningmastery.com/knn-imputation-for-missing-values-in-machine-learning/  "
      ]
    },
    {
      "cell_type": "code",
      "metadata": {
        "id": "bKLcYpBcqggC"
      },
      "source": [],
      "execution_count": null,
      "outputs": []
    }
  ]
}