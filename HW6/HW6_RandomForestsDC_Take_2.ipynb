{
  "nbformat": 4,
  "nbformat_minor": 0,
  "metadata": {
    "colab": {
      "provenance": [],
      "collapsed_sections": [
        "q1eoOhpcgldX",
        "yix2Hukmgqku",
        "XZxr_mNXV5QB"
      ],
      "include_colab_link": true
    },
    "kernelspec": {
      "name": "python3",
      "display_name": "Python 3"
    }
  },
  "cells": [
    {
      "cell_type": "markdown",
      "metadata": {
        "id": "view-in-github",
        "colab_type": "text"
      },
      "source": [
        "<a href=\"https://colab.research.google.com/github/CoWoGeo/PUS2022_CWolk/blob/main/HW6/HW6_RandomForestsDC_Take_2.ipynb\" target=\"_parent\"><img src=\"https://colab.research.google.com/assets/colab-badge.svg\" alt=\"Open In Colab\"/></a>"
      ]
    },
    {
      "cell_type": "markdown",
      "source": [
        "# Analyzing Washington, DC Building Data"
      ],
      "metadata": {
        "id": "Zhuk1CxlfELX"
      }
    },
    {
      "cell_type": "markdown",
      "metadata": {
        "id": "KW9Oy459fxHz"
      },
      "source": [
        "Following the paper \"Examining the feasibility of using open data to benchmark building energy usage in cities: A data science and policy perspective\" [Roth et al 2019](https://www.researchgate.net/publication/337074109_Examining_the_feasibility_of_using_open_data_to_benchmark_building_energy_usage_in_cities_A_data_science_and_policy_perspective), choose 2 cities in the dataset available through the paper's github repository https://github.com/Urban-Informatics-Lab/Open-Data-Benchmarking\n",
        "\n",
        "This paper is an excellent example of reproducible research. \n",
        "\n",
        "I also created an example of using random forest classifier and regressors here https://github.com/fedhere/PUS2022_FBianco/blob/master/classdemo/COVID19LOS_featureExtractionRFexample.ipynb and there are links at the bottom of this notebook to useful functions and examples on the internet of applications of methods you will need to use.\n",
        "\n",
        "1. Read the introduction to the paper and describe here (briefly) the goals of their analysis (and the analysis that you are about to reproduce). Max 200 words.\n",
        "2. Choose 2 cities (any 2 cities except Seattle cause I am running some of the Seattle analysis below for guidance)\n",
        "3. For each of the 2 cities reproduce their analysis by \n",
        "\n",
        "  3.1 gathering the original data from their repository (see below for Seattle example)\n",
        "\n",
        "  3.2 clean the data according to their data preparation scheme, including one-hot-encoding categorical variables, except to impute missing data using KNearestNeighors instead of Gibbs sampling (see below)\n",
        "\n",
        "  3.3 run a Random Forest (RF) Regressor to predict the total energy consumption.\n",
        "\n",
        "  3.4 evaluate the RF model performance by printing the R2 score (the default score in SKLearn RF) for training and test set (discuss)\n",
        "\n",
        "  3.5 plot the features sorted by their importance and identify the most important features. are they consistent between the 2 cities? are they consistent with the paper's result?\n",
        "4 compare the result for the 2 cities (discuss)\n",
        "\n",
        "5. Extra credit: \n",
        "\n",
        "  5.1 modify the target variable to a binary variable choosing the median of the variable values as the the energy threshold and predict whether the value is higher or lower than the threshold\n",
        "  5.2 Run a Random Forest Classifier to predict if an observation is in the upper 50% percentile or lower 50% percentile (above or below the median threshold)\n",
        "  5.3 Measure the performance of the model on training and test data\n",
        "  5.4 Measure the feature importance and assess if the important feature have changed (discuss)"
      ]
    },
    {
      "cell_type": "code",
      "metadata": {
        "id": "EVupHHIYHuUK"
      },
      "source": [
        "import pandas as pd\n",
        "import numpy as np"
      ],
      "execution_count": 2,
      "outputs": []
    },
    {
      "cell_type": "code",
      "source": [
        "import pylab as plt"
      ],
      "metadata": {
        "id": "EKnXov4ud40f"
      },
      "execution_count": 3,
      "outputs": []
    },
    {
      "cell_type": "code",
      "source": [
        "import seaborn as sns"
      ],
      "metadata": {
        "id": "up1qUfMmd_s4"
      },
      "execution_count": 4,
      "outputs": []
    },
    {
      "cell_type": "code",
      "source": [
        "# for imputing data\n",
        "from sklearn.impute import KNNImputer"
      ],
      "metadata": {
        "id": "WJUy2G5ne3it"
      },
      "execution_count": 5,
      "outputs": []
    },
    {
      "cell_type": "code",
      "source": [
        "# for one-hot encoding\n",
        "from sklearn.preprocessing import OneHotEncoder\n",
        "# for train-test split\n",
        "from sklearn.model_selection import train_test_split\n",
        "# for random forests\n",
        "from sklearn.ensemble import RandomForestRegressor"
      ],
      "metadata": {
        "id": "BqoYZg-deidN"
      },
      "execution_count": 6,
      "outputs": []
    },
    {
      "cell_type": "markdown",
      "metadata": {
        "id": "5Wia-RaAXtJC"
      },
      "source": [
        "# Reading in DC Data"
      ]
    },
    {
      "cell_type": "code",
      "metadata": {
        "id": "hmVzVH0dHwP1"
      },
      "source": [
        "dc = pd.read_csv(\"https://github.com/Urban-Informatics-Lab/Open-Data-Benchmarking/raw/master/DC/2016%20Energy%20and%20Water%20Performance%20Benchmarking%20Results%20as%20of%2009-07-2017.csv\")"
      ],
      "execution_count": 7,
      "outputs": []
    },
    {
      "cell_type": "markdown",
      "metadata": {
        "id": "2U-1HZY2Xodw"
      },
      "source": [
        "# inspect the dataframe"
      ]
    },
    {
      "cell_type": "code",
      "source": [
        "print(\"there are (rows, columns) = \", (dc.shape), \"in the dataframe\")"
      ],
      "metadata": {
        "colab": {
          "base_uri": "https://localhost:8080/"
        },
        "id": "DRht35FE95Ar",
        "outputId": "4752aecf-bf40-46fa-e3b4-c6f9437b257f"
      },
      "execution_count": 8,
      "outputs": [
        {
          "output_type": "stream",
          "name": "stdout",
          "text": [
            "there are (rows, columns) =  (2181, 36) in the dataframe\n"
          ]
        }
      ]
    },
    {
      "cell_type": "code",
      "metadata": {
        "id": "aqrv8eULHxte",
        "outputId": "1a4faf06-5da8-496a-ab33-adeedeeeccdd",
        "colab": {
          "base_uri": "https://localhost:8080/",
          "height": 364
        }
      },
      "source": [
        "dc.describe()"
      ],
      "execution_count": 9,
      "outputs": [
        {
          "output_type": "execute_result",
          "data": {
            "text/plain": [
              "             pm_pid         ward   year_built  tax_record_floor_area  \\\n",
              "count  1.574000e+03  1844.000000  2153.000000           2.181000e+03   \n",
              "mean   3.477316e+06     3.387202  1933.421273           2.009089e+05   \n",
              "std    1.151670e+06     1.996951   223.684123           2.447139e+05   \n",
              "min    2.214000e+03     1.000000     0.000000           9.171000e+03   \n",
              "25%    3.300369e+06     2.000000  1942.000000           7.044300e+04   \n",
              "50%    3.617946e+06     2.000000  1969.000000           1.213110e+05   \n",
              "75%    4.066820e+06     5.000000  1997.000000           2.488440e+05   \n",
              "max    5.939893e+06     8.000000  2017.000000           3.997572e+06   \n",
              "\n",
              "       reported_gross_floor_area  energy_star_score  total_ghg_emissions  \\\n",
              "count               1.521000e+03        1209.000000          1519.000000   \n",
              "mean                1.876181e+05          61.207610          1397.998947   \n",
              "std                 2.431177e+05          27.486072          2790.536339   \n",
              "min                 5.982000e+03           1.000000             0.000000   \n",
              "25%                 6.960000e+04          42.000000           390.300000   \n",
              "50%                 1.194700e+05          69.000000           755.400000   \n",
              "75%                 2.332170e+05          84.000000          1565.150000   \n",
              "max                 5.634890e+06         100.000000         64992.500000   \n",
              "\n",
              "       total_ghg_emissions_intensity     water_use  electricity_use  \\\n",
              "count                    1519.000000  1.311000e+03     1.482000e+03   \n",
              "mean                        7.221922  5.582172e+04     3.041003e+06   \n",
              "std                         6.886701  6.498499e+05     6.584801e+06   \n",
              "min                         0.000000  0.000000e+00     0.000000e+00   \n",
              "25%                         4.800000  2.114100e+03     7.495754e+05   \n",
              "50%                         6.300000  4.160100e+03     1.656484e+06   \n",
              "75%                         7.900000  7.286700e+03     3.491451e+06   \n",
              "max                       134.400000  1.929391e+07     1.661020e+08   \n",
              "\n",
              "       natural_gas_use      fuel_use  district_water_use     latitude  \\\n",
              "count     1.087000e+03  6.600000e+01        1.700000e+01  1954.000000   \n",
              "mean      6.745484e+04  1.133411e+06       -1.261140e+07    38.908558   \n",
              "std       2.975285e+05  2.171472e+06        9.224563e+07     0.025003   \n",
              "min       0.000000e+00  2.097600e+03       -3.685268e+08    38.813539   \n",
              "25%       1.115681e+04  2.461230e+04        7.908049e+05    38.898739   \n",
              "50%       2.791756e+04  1.952242e+05        5.512830e+06    38.905369   \n",
              "75%       5.286096e+04  1.371327e+06        1.457592e+07    38.922848   \n",
              "max       7.269109e+06  1.275372e+07        3.101497e+07    38.984554   \n",
              "\n",
              "         longitude  \n",
              "count  1954.000000  \n",
              "mean    -77.025736  \n",
              "std       0.031201  \n",
              "min     -77.107478  \n",
              "25%     -77.044005  \n",
              "50%     -77.031106  \n",
              "75%     -77.009371  \n",
              "max     -76.914972  "
            ],
            "text/html": [
              "\n",
              "  <div id=\"df-3da801e4-2797-491f-820e-fc96df780b4b\">\n",
              "    <div class=\"colab-df-container\">\n",
              "      <div>\n",
              "<style scoped>\n",
              "    .dataframe tbody tr th:only-of-type {\n",
              "        vertical-align: middle;\n",
              "    }\n",
              "\n",
              "    .dataframe tbody tr th {\n",
              "        vertical-align: top;\n",
              "    }\n",
              "\n",
              "    .dataframe thead th {\n",
              "        text-align: right;\n",
              "    }\n",
              "</style>\n",
              "<table border=\"1\" class=\"dataframe\">\n",
              "  <thead>\n",
              "    <tr style=\"text-align: right;\">\n",
              "      <th></th>\n",
              "      <th>pm_pid</th>\n",
              "      <th>ward</th>\n",
              "      <th>year_built</th>\n",
              "      <th>tax_record_floor_area</th>\n",
              "      <th>reported_gross_floor_area</th>\n",
              "      <th>energy_star_score</th>\n",
              "      <th>total_ghg_emissions</th>\n",
              "      <th>total_ghg_emissions_intensity</th>\n",
              "      <th>water_use</th>\n",
              "      <th>electricity_use</th>\n",
              "      <th>natural_gas_use</th>\n",
              "      <th>fuel_use</th>\n",
              "      <th>district_water_use</th>\n",
              "      <th>latitude</th>\n",
              "      <th>longitude</th>\n",
              "    </tr>\n",
              "  </thead>\n",
              "  <tbody>\n",
              "    <tr>\n",
              "      <th>count</th>\n",
              "      <td>1.574000e+03</td>\n",
              "      <td>1844.000000</td>\n",
              "      <td>2153.000000</td>\n",
              "      <td>2.181000e+03</td>\n",
              "      <td>1.521000e+03</td>\n",
              "      <td>1209.000000</td>\n",
              "      <td>1519.000000</td>\n",
              "      <td>1519.000000</td>\n",
              "      <td>1.311000e+03</td>\n",
              "      <td>1.482000e+03</td>\n",
              "      <td>1.087000e+03</td>\n",
              "      <td>6.600000e+01</td>\n",
              "      <td>1.700000e+01</td>\n",
              "      <td>1954.000000</td>\n",
              "      <td>1954.000000</td>\n",
              "    </tr>\n",
              "    <tr>\n",
              "      <th>mean</th>\n",
              "      <td>3.477316e+06</td>\n",
              "      <td>3.387202</td>\n",
              "      <td>1933.421273</td>\n",
              "      <td>2.009089e+05</td>\n",
              "      <td>1.876181e+05</td>\n",
              "      <td>61.207610</td>\n",
              "      <td>1397.998947</td>\n",
              "      <td>7.221922</td>\n",
              "      <td>5.582172e+04</td>\n",
              "      <td>3.041003e+06</td>\n",
              "      <td>6.745484e+04</td>\n",
              "      <td>1.133411e+06</td>\n",
              "      <td>-1.261140e+07</td>\n",
              "      <td>38.908558</td>\n",
              "      <td>-77.025736</td>\n",
              "    </tr>\n",
              "    <tr>\n",
              "      <th>std</th>\n",
              "      <td>1.151670e+06</td>\n",
              "      <td>1.996951</td>\n",
              "      <td>223.684123</td>\n",
              "      <td>2.447139e+05</td>\n",
              "      <td>2.431177e+05</td>\n",
              "      <td>27.486072</td>\n",
              "      <td>2790.536339</td>\n",
              "      <td>6.886701</td>\n",
              "      <td>6.498499e+05</td>\n",
              "      <td>6.584801e+06</td>\n",
              "      <td>2.975285e+05</td>\n",
              "      <td>2.171472e+06</td>\n",
              "      <td>9.224563e+07</td>\n",
              "      <td>0.025003</td>\n",
              "      <td>0.031201</td>\n",
              "    </tr>\n",
              "    <tr>\n",
              "      <th>min</th>\n",
              "      <td>2.214000e+03</td>\n",
              "      <td>1.000000</td>\n",
              "      <td>0.000000</td>\n",
              "      <td>9.171000e+03</td>\n",
              "      <td>5.982000e+03</td>\n",
              "      <td>1.000000</td>\n",
              "      <td>0.000000</td>\n",
              "      <td>0.000000</td>\n",
              "      <td>0.000000e+00</td>\n",
              "      <td>0.000000e+00</td>\n",
              "      <td>0.000000e+00</td>\n",
              "      <td>2.097600e+03</td>\n",
              "      <td>-3.685268e+08</td>\n",
              "      <td>38.813539</td>\n",
              "      <td>-77.107478</td>\n",
              "    </tr>\n",
              "    <tr>\n",
              "      <th>25%</th>\n",
              "      <td>3.300369e+06</td>\n",
              "      <td>2.000000</td>\n",
              "      <td>1942.000000</td>\n",
              "      <td>7.044300e+04</td>\n",
              "      <td>6.960000e+04</td>\n",
              "      <td>42.000000</td>\n",
              "      <td>390.300000</td>\n",
              "      <td>4.800000</td>\n",
              "      <td>2.114100e+03</td>\n",
              "      <td>7.495754e+05</td>\n",
              "      <td>1.115681e+04</td>\n",
              "      <td>2.461230e+04</td>\n",
              "      <td>7.908049e+05</td>\n",
              "      <td>38.898739</td>\n",
              "      <td>-77.044005</td>\n",
              "    </tr>\n",
              "    <tr>\n",
              "      <th>50%</th>\n",
              "      <td>3.617946e+06</td>\n",
              "      <td>2.000000</td>\n",
              "      <td>1969.000000</td>\n",
              "      <td>1.213110e+05</td>\n",
              "      <td>1.194700e+05</td>\n",
              "      <td>69.000000</td>\n",
              "      <td>755.400000</td>\n",
              "      <td>6.300000</td>\n",
              "      <td>4.160100e+03</td>\n",
              "      <td>1.656484e+06</td>\n",
              "      <td>2.791756e+04</td>\n",
              "      <td>1.952242e+05</td>\n",
              "      <td>5.512830e+06</td>\n",
              "      <td>38.905369</td>\n",
              "      <td>-77.031106</td>\n",
              "    </tr>\n",
              "    <tr>\n",
              "      <th>75%</th>\n",
              "      <td>4.066820e+06</td>\n",
              "      <td>5.000000</td>\n",
              "      <td>1997.000000</td>\n",
              "      <td>2.488440e+05</td>\n",
              "      <td>2.332170e+05</td>\n",
              "      <td>84.000000</td>\n",
              "      <td>1565.150000</td>\n",
              "      <td>7.900000</td>\n",
              "      <td>7.286700e+03</td>\n",
              "      <td>3.491451e+06</td>\n",
              "      <td>5.286096e+04</td>\n",
              "      <td>1.371327e+06</td>\n",
              "      <td>1.457592e+07</td>\n",
              "      <td>38.922848</td>\n",
              "      <td>-77.009371</td>\n",
              "    </tr>\n",
              "    <tr>\n",
              "      <th>max</th>\n",
              "      <td>5.939893e+06</td>\n",
              "      <td>8.000000</td>\n",
              "      <td>2017.000000</td>\n",
              "      <td>3.997572e+06</td>\n",
              "      <td>5.634890e+06</td>\n",
              "      <td>100.000000</td>\n",
              "      <td>64992.500000</td>\n",
              "      <td>134.400000</td>\n",
              "      <td>1.929391e+07</td>\n",
              "      <td>1.661020e+08</td>\n",
              "      <td>7.269109e+06</td>\n",
              "      <td>1.275372e+07</td>\n",
              "      <td>3.101497e+07</td>\n",
              "      <td>38.984554</td>\n",
              "      <td>-76.914972</td>\n",
              "    </tr>\n",
              "  </tbody>\n",
              "</table>\n",
              "</div>\n",
              "      <button class=\"colab-df-convert\" onclick=\"convertToInteractive('df-3da801e4-2797-491f-820e-fc96df780b4b')\"\n",
              "              title=\"Convert this dataframe to an interactive table.\"\n",
              "              style=\"display:none;\">\n",
              "        \n",
              "  <svg xmlns=\"http://www.w3.org/2000/svg\" height=\"24px\"viewBox=\"0 0 24 24\"\n",
              "       width=\"24px\">\n",
              "    <path d=\"M0 0h24v24H0V0z\" fill=\"none\"/>\n",
              "    <path d=\"M18.56 5.44l.94 2.06.94-2.06 2.06-.94-2.06-.94-.94-2.06-.94 2.06-2.06.94zm-11 1L8.5 8.5l.94-2.06 2.06-.94-2.06-.94L8.5 2.5l-.94 2.06-2.06.94zm10 10l.94 2.06.94-2.06 2.06-.94-2.06-.94-.94-2.06-.94 2.06-2.06.94z\"/><path d=\"M17.41 7.96l-1.37-1.37c-.4-.4-.92-.59-1.43-.59-.52 0-1.04.2-1.43.59L10.3 9.45l-7.72 7.72c-.78.78-.78 2.05 0 2.83L4 21.41c.39.39.9.59 1.41.59.51 0 1.02-.2 1.41-.59l7.78-7.78 2.81-2.81c.8-.78.8-2.07 0-2.86zM5.41 20L4 18.59l7.72-7.72 1.47 1.35L5.41 20z\"/>\n",
              "  </svg>\n",
              "      </button>\n",
              "      \n",
              "  <style>\n",
              "    .colab-df-container {\n",
              "      display:flex;\n",
              "      flex-wrap:wrap;\n",
              "      gap: 12px;\n",
              "    }\n",
              "\n",
              "    .colab-df-convert {\n",
              "      background-color: #E8F0FE;\n",
              "      border: none;\n",
              "      border-radius: 50%;\n",
              "      cursor: pointer;\n",
              "      display: none;\n",
              "      fill: #1967D2;\n",
              "      height: 32px;\n",
              "      padding: 0 0 0 0;\n",
              "      width: 32px;\n",
              "    }\n",
              "\n",
              "    .colab-df-convert:hover {\n",
              "      background-color: #E2EBFA;\n",
              "      box-shadow: 0px 1px 2px rgba(60, 64, 67, 0.3), 0px 1px 3px 1px rgba(60, 64, 67, 0.15);\n",
              "      fill: #174EA6;\n",
              "    }\n",
              "\n",
              "    [theme=dark] .colab-df-convert {\n",
              "      background-color: #3B4455;\n",
              "      fill: #D2E3FC;\n",
              "    }\n",
              "\n",
              "    [theme=dark] .colab-df-convert:hover {\n",
              "      background-color: #434B5C;\n",
              "      box-shadow: 0px 1px 3px 1px rgba(0, 0, 0, 0.15);\n",
              "      filter: drop-shadow(0px 1px 2px rgba(0, 0, 0, 0.3));\n",
              "      fill: #FFFFFF;\n",
              "    }\n",
              "  </style>\n",
              "\n",
              "      <script>\n",
              "        const buttonEl =\n",
              "          document.querySelector('#df-3da801e4-2797-491f-820e-fc96df780b4b button.colab-df-convert');\n",
              "        buttonEl.style.display =\n",
              "          google.colab.kernel.accessAllowed ? 'block' : 'none';\n",
              "\n",
              "        async function convertToInteractive(key) {\n",
              "          const element = document.querySelector('#df-3da801e4-2797-491f-820e-fc96df780b4b');\n",
              "          const dataTable =\n",
              "            await google.colab.kernel.invokeFunction('convertToInteractive',\n",
              "                                                     [key], {});\n",
              "          if (!dataTable) return;\n",
              "\n",
              "          const docLinkHtml = 'Like what you see? Visit the ' +\n",
              "            '<a target=\"_blank\" href=https://colab.research.google.com/notebooks/data_table.ipynb>data table notebook</a>'\n",
              "            + ' to learn more about interactive tables.';\n",
              "          element.innerHTML = '';\n",
              "          dataTable['output_type'] = 'display_data';\n",
              "          await google.colab.output.renderOutput(dataTable, element);\n",
              "          const docLink = document.createElement('div');\n",
              "          docLink.innerHTML = docLinkHtml;\n",
              "          element.appendChild(docLink);\n",
              "        }\n",
              "      </script>\n",
              "    </div>\n",
              "  </div>\n",
              "  "
            ]
          },
          "metadata": {},
          "execution_count": 9
        }
      ]
    },
    {
      "cell_type": "markdown",
      "metadata": {
        "id": "t2N6DSrXXx5z"
      },
      "source": [
        "# TASK 1 Clean the data \n",
        "*follow closely the second paragraph of Section 4 DATA. Name each step you do accordingly to the description in the paragraf*\n",
        "\n",
        "Summary of that paragraph:\n",
        "\n",
        "* Removed irrelevant building-identifying features such as address\n",
        "*    Removed features w/ missing values for >40% of buildings in dataset because otherwise those will be imputed and bias the results.\n",
        "*    Eliminated buildings w/ missing site EUI to avoid imputing values for dependent variable\n",
        "*    Imputed data for remaining missing variables by generating multiple imputations by Gibbs sampling using classification and regression trees (I think this is a later step in the homework.)\n",
        "*    Authors note that the data is extremely heterogeneous within and between datasets in terms of building counts and building sizes. This is partly due to local mandates, inclusion of government buildings, and smaller buildings opting in in some places. They note that \"some models are better able to handle less data than others.\""
      ]
    },
    {
      "cell_type": "code",
      "metadata": {
        "id": "k15rP8aaNXO7",
        "outputId": "c27c19dc-7e04-4b1a-a345-16721dc5bff3",
        "colab": {
          "base_uri": "https://localhost:8080/"
        }
      },
      "source": [
        "# summarize the number of rows with missing values for each column\n",
        "for c in dc.columns:\n",
        "  \n",
        "  # count number of rows with missing values\n",
        "  n_miss = dc[c].isnull().sum()\n",
        "  perc = n_miss / dc.shape[0] * 100\n",
        "  print('%s (%s):  Missing: %d (%.1f%%)' % (c, dc[c].dtype, \n",
        "                                                  n_miss, perc))\n"
      ],
      "execution_count": 10,
      "outputs": [
        {
          "output_type": "stream",
          "name": "stdout",
          "text": [
            "pid (object):  Missing: 0 (0.0%)\n",
            "dc_real_pid (object):  Missing: 0 (0.0%)\n",
            "pm_pid (float64):  Missing: 607 (27.8%)\n",
            "property_name (object):  Missing: 660 (30.3%)\n",
            "pm_parent_pid (object):  Missing: 660 (30.3%)\n",
            "parent_property_name (object):  Missing: 660 (30.3%)\n",
            "year_ending (object):  Missing: 0 (0.0%)\n",
            "report_status (object):  Missing: 0 (0.0%)\n",
            "address_of_record (object):  Missing: 0 (0.0%)\n",
            "owner_of_record (object):  Missing: 0 (0.0%)\n",
            "ward (float64):  Missing: 337 (15.5%)\n",
            "reported_address (object):  Missing: 660 (30.3%)\n",
            "city (object):  Missing: 0 (0.0%)\n",
            "state (object):  Missing: 0 (0.0%)\n",
            "postal_code (object):  Missing: 607 (27.8%)\n",
            "year_built (float64):  Missing: 28 (1.3%)\n",
            "primary_ptype_self (object):  Missing: 660 (30.3%)\n",
            "primary_ptype_epa (object):  Missing: 660 (30.3%)\n",
            "tax_record_floor_area (float64):  Missing: 0 (0.0%)\n",
            "reported_gross_floor_area (float64):  Missing: 660 (30.3%)\n",
            "energy_star_score (float64):  Missing: 972 (44.6%)\n",
            "site_eui (object):  Missing: 674 (30.9%)\n",
            "weather_norm_site_eui (object):  Missing: 736 (33.7%)\n",
            "source_eui (object):  Missing: 674 (30.9%)\n",
            "weather_norm_source_eui (object):  Missing: 736 (33.7%)\n",
            "total_ghg_emissions (float64):  Missing: 662 (30.4%)\n",
            "total_ghg_emissions_intensity (float64):  Missing: 662 (30.4%)\n",
            "water_use (float64):  Missing: 870 (39.9%)\n",
            "electricity_use (float64):  Missing: 699 (32.0%)\n",
            "natural_gas_use (float64):  Missing: 1094 (50.2%)\n",
            "fuel_use (float64):  Missing: 2115 (97.0%)\n",
            "district_water_use (float64):  Missing: 2164 (99.2%)\n",
            "metered_areas_energy (object):  Missing: 724 (33.2%)\n",
            "metered_areas_water (object):  Missing: 1014 (46.5%)\n",
            "latitude (float64):  Missing: 227 (10.4%)\n",
            "longitude (float64):  Missing: 227 (10.4%)\n"
          ]
        }
      ]
    },
    {
      "cell_type": "markdown",
      "source": [
        "this data is so much worse than the final one fml"
      ],
      "metadata": {
        "id": "g6fMibTfRyWq"
      }
    },
    {
      "cell_type": "code",
      "source": [
        "# dropping columns w/ over 40% missing\n",
        "for c in dc.columns:\n",
        "  \n",
        "  # count number of rows with missing values\n",
        "  n_miss = dc[c].isnull().sum()\n",
        "  perc = n_miss / dc.shape[0] * 100\n",
        "  if perc > 40:\n",
        "    dc.drop(c, axis=1, inplace=True)\n",
        "\n",
        "print(\"there are (rows, columns) = \", (dc.shape), \"in the dataframe\")"
      ],
      "metadata": {
        "colab": {
          "base_uri": "https://localhost:8080/"
        },
        "id": "D3_9mgnAVoQc",
        "outputId": "1b3f4253-37e1-45be-fa8a-7dc62bb755d4"
      },
      "execution_count": 11,
      "outputs": [
        {
          "output_type": "stream",
          "name": "stdout",
          "text": [
            "there are (rows, columns) =  (2181, 31) in the dataframe\n"
          ]
        }
      ]
    },
    {
      "cell_type": "code",
      "source": [
        "dc.info()"
      ],
      "metadata": {
        "colab": {
          "base_uri": "https://localhost:8080/"
        },
        "id": "caufMZGfS4bs",
        "outputId": "1ad8a7a5-678b-44f9-f912-e99a06af06ea"
      },
      "execution_count": 12,
      "outputs": [
        {
          "output_type": "stream",
          "name": "stdout",
          "text": [
            "<class 'pandas.core.frame.DataFrame'>\n",
            "RangeIndex: 2181 entries, 0 to 2180\n",
            "Data columns (total 31 columns):\n",
            " #   Column                         Non-Null Count  Dtype  \n",
            "---  ------                         --------------  -----  \n",
            " 0   pid                            2181 non-null   object \n",
            " 1   dc_real_pid                    2181 non-null   object \n",
            " 2   pm_pid                         1574 non-null   float64\n",
            " 3   property_name                  1521 non-null   object \n",
            " 4   pm_parent_pid                  1521 non-null   object \n",
            " 5   parent_property_name           1521 non-null   object \n",
            " 6   year_ending                    2181 non-null   object \n",
            " 7   report_status                  2181 non-null   object \n",
            " 8   address_of_record              2181 non-null   object \n",
            " 9   owner_of_record                2181 non-null   object \n",
            " 10  ward                           1844 non-null   float64\n",
            " 11  reported_address               1521 non-null   object \n",
            " 12  city                           2181 non-null   object \n",
            " 13  state                          2181 non-null   object \n",
            " 14  postal_code                    1574 non-null   object \n",
            " 15  year_built                     2153 non-null   float64\n",
            " 16  primary_ptype_self             1521 non-null   object \n",
            " 17  primary_ptype_epa              1521 non-null   object \n",
            " 18  tax_record_floor_area          2181 non-null   float64\n",
            " 19  reported_gross_floor_area      1521 non-null   float64\n",
            " 20  site_eui                       1507 non-null   object \n",
            " 21  weather_norm_site_eui          1445 non-null   object \n",
            " 22  source_eui                     1507 non-null   object \n",
            " 23  weather_norm_source_eui        1445 non-null   object \n",
            " 24  total_ghg_emissions            1519 non-null   float64\n",
            " 25  total_ghg_emissions_intensity  1519 non-null   float64\n",
            " 26  water_use                      1311 non-null   float64\n",
            " 27  electricity_use                1482 non-null   float64\n",
            " 28  metered_areas_energy           1457 non-null   object \n",
            " 29  latitude                       1954 non-null   float64\n",
            " 30  longitude                      1954 non-null   float64\n",
            "dtypes: float64(11), object(20)\n",
            "memory usage: 528.3+ KB\n"
          ]
        }
      ]
    },
    {
      "cell_type": "code",
      "source": [
        "# Dropping columns w/ building identifying data\n",
        "dc = dc.drop([\"pid\", \"dc_real_pid\", \"pm_pid\", \"property_name\",\n",
        "              \"pm_parent_pid\", \"parent_property_name\", \"address_of_record\",\n",
        "              \"reported_address\"], axis=1)"
      ],
      "metadata": {
        "id": "YlUq3rSZWFUN"
      },
      "execution_count": 13,
      "outputs": []
    },
    {
      "cell_type": "markdown",
      "source": [
        "Though the authors' [Data Glossary for DC](https://github.com/Urban-Informatics-Lab/Open-Data-Benchmarking/blob/master/DC/Data%20Glossary%20for%20Energy%20and%20Water%20Performance%20Benchmarking%20Data%20Results_2.pdf) says: \"any properties with a [PM] parent property ID should be analyzed with other properties with the same Parent Property ID.\" Not sure how that factors in here, but I'm not writing a paper on this soooo 🤷"
      ],
      "metadata": {
        "id": "TASEvc7X2FJz"
      }
    },
    {
      "cell_type": "code",
      "source": [
        "dc.info()"
      ],
      "metadata": {
        "colab": {
          "base_uri": "https://localhost:8080/"
        },
        "id": "zkXTRm8aWljj",
        "outputId": "b5e625c6-d690-428f-cb0b-703d4d1fd7c8"
      },
      "execution_count": 14,
      "outputs": [
        {
          "output_type": "stream",
          "name": "stdout",
          "text": [
            "<class 'pandas.core.frame.DataFrame'>\n",
            "RangeIndex: 2181 entries, 0 to 2180\n",
            "Data columns (total 23 columns):\n",
            " #   Column                         Non-Null Count  Dtype  \n",
            "---  ------                         --------------  -----  \n",
            " 0   year_ending                    2181 non-null   object \n",
            " 1   report_status                  2181 non-null   object \n",
            " 2   owner_of_record                2181 non-null   object \n",
            " 3   ward                           1844 non-null   float64\n",
            " 4   city                           2181 non-null   object \n",
            " 5   state                          2181 non-null   object \n",
            " 6   postal_code                    1574 non-null   object \n",
            " 7   year_built                     2153 non-null   float64\n",
            " 8   primary_ptype_self             1521 non-null   object \n",
            " 9   primary_ptype_epa              1521 non-null   object \n",
            " 10  tax_record_floor_area          2181 non-null   float64\n",
            " 11  reported_gross_floor_area      1521 non-null   float64\n",
            " 12  site_eui                       1507 non-null   object \n",
            " 13  weather_norm_site_eui          1445 non-null   object \n",
            " 14  source_eui                     1507 non-null   object \n",
            " 15  weather_norm_source_eui        1445 non-null   object \n",
            " 16  total_ghg_emissions            1519 non-null   float64\n",
            " 17  total_ghg_emissions_intensity  1519 non-null   float64\n",
            " 18  water_use                      1311 non-null   float64\n",
            " 19  electricity_use                1482 non-null   float64\n",
            " 20  metered_areas_energy           1457 non-null   object \n",
            " 21  latitude                       1954 non-null   float64\n",
            " 22  longitude                      1954 non-null   float64\n",
            "dtypes: float64(10), object(13)\n",
            "memory usage: 392.0+ KB\n"
          ]
        }
      ]
    },
    {
      "cell_type": "code",
      "source": [
        "# dropping city, state bc we know those are DC\n",
        "dc = dc.drop([\"city\", \"state\"], axis=1)"
      ],
      "metadata": {
        "id": "Pi8rDF-rWqV6"
      },
      "execution_count": 15,
      "outputs": []
    },
    {
      "cell_type": "code",
      "source": [
        "dc[\"year_ending\"].nunique()\n",
        "print(\"there are (unique years) = \", dc[\"year_ending\"].nunique())"
      ],
      "metadata": {
        "colab": {
          "base_uri": "https://localhost:8080/"
        },
        "id": "LhtjExYhW81J",
        "outputId": "837a9264-be78-44ef-bfb2-71312e645c3e"
      },
      "execution_count": 16,
      "outputs": [
        {
          "output_type": "stream",
          "name": "stdout",
          "text": [
            "there are (unique years) =  1\n"
          ]
        }
      ]
    },
    {
      "cell_type": "code",
      "source": [
        "# dropping year ending because it's all the same\n",
        "dc = dc.drop([\"year_ending\"], axis=1)"
      ],
      "metadata": {
        "id": "jvQT5proXERT"
      },
      "execution_count": 17,
      "outputs": []
    },
    {
      "cell_type": "code",
      "source": [
        "# what is report status?\n",
        "dc[\"report_status\"]"
      ],
      "metadata": {
        "colab": {
          "base_uri": "https://localhost:8080/"
        },
        "id": "YG36Lj85XLfR",
        "outputId": "4e9a6d28-0d15-4cc1-b2fa-aa611b509bd6"
      },
      "execution_count": 18,
      "outputs": [
        {
          "output_type": "execute_result",
          "data": {
            "text/plain": [
              "0                   In Compliance\n",
              "1                   In Compliance\n",
              "2                   In Compliance\n",
              "3                   In Compliance\n",
              "4                   In Compliance\n",
              "                  ...            \n",
              "2176    Data under review by DOEE\n",
              "2177    Data under review by DOEE\n",
              "2178    Data under review by DOEE\n",
              "2179    Data under review by DOEE\n",
              "2180    Data under review by DOEE\n",
              "Name: report_status, Length: 2181, dtype: object"
            ]
          },
          "metadata": {},
          "execution_count": 18
        }
      ]
    },
    {
      "cell_type": "code",
      "source": [
        "# dropping site EUI Nas because that's what the authors did\n",
        "dc.dropna(subset=['site_eui'], inplace=True)"
      ],
      "metadata": {
        "id": "BM3TUxXfXbLL"
      },
      "execution_count": 19,
      "outputs": []
    },
    {
      "cell_type": "markdown",
      "metadata": {
        "id": "XVD2IKLsZI2x"
      },
      "source": [
        "# TASK 2: transform input feature as needed\n",
        "for example replace features with log features. Guide yourself with the text, the final dataset names, and also the code here https://github.com/Urban-Informatics-Lab/Open-Data-Benchmarking/blob/master/Lasso_RandomForest.Rmd"
      ]
    },
    {
      "cell_type": "markdown",
      "source": [
        "In the describe function below, I'm mostly looking at min, max, and standard deviation to get a sense of how big the ranges are and if there are columns that should have a log function or have very little variance."
      ],
      "metadata": {
        "id": "DqMOAZyuT18T"
      }
    },
    {
      "cell_type": "code",
      "metadata": {
        "id": "SWyHLyhCLYIm",
        "colab": {
          "base_uri": "https://localhost:8080/",
          "height": 364
        },
        "outputId": "a0b5b909-777a-4827-b196-b398024a8580"
      },
      "source": [
        "dc.describe() #what should you look at in the result below?"
      ],
      "execution_count": 20,
      "outputs": [
        {
          "output_type": "execute_result",
          "data": {
            "text/plain": [
              "              ward   year_built  tax_record_floor_area  \\\n",
              "count  1172.000000  1504.000000           1.507000e+03   \n",
              "mean      3.098976  1940.269282           2.059051e+05   \n",
              "std       1.821805   168.202955           2.482438e+05   \n",
              "min       1.000000  1000.000000           9.171000e+03   \n",
              "25%       2.000000  1945.000000           7.142050e+04   \n",
              "50%       2.000000  1970.000000           1.287720e+05   \n",
              "75%       5.000000  1994.000000           2.580610e+05   \n",
              "max       8.000000  2017.000000           3.997572e+06   \n",
              "\n",
              "       reported_gross_floor_area  total_ghg_emissions  \\\n",
              "count               1.507000e+03          1505.000000   \n",
              "mean                1.885880e+05          1411.003588   \n",
              "std                 2.440136e+05          2800.217403   \n",
              "min                 5.982000e+03             0.000000   \n",
              "25%                 7.000000e+04           395.900000   \n",
              "50%                 1.199629e+05           773.100000   \n",
              "75%                 2.349610e+05          1584.100000   \n",
              "max                 5.634890e+06         64992.500000   \n",
              "\n",
              "       total_ghg_emissions_intensity     water_use  electricity_use  \\\n",
              "count                    1505.000000  1.297000e+03     1.482000e+03   \n",
              "mean                        7.289103  5.638641e+04     3.041003e+06   \n",
              "std                         6.883176  6.533274e+05     6.584801e+06   \n",
              "min                         0.000000  0.000000e+00     0.000000e+00   \n",
              "25%                         4.800000  2.166200e+03     7.495754e+05   \n",
              "50%                         6.300000  4.182800e+03     1.656484e+06   \n",
              "75%                         8.000000  7.314600e+03     3.491451e+06   \n",
              "max                       134.400000  1.929391e+07     1.661020e+08   \n",
              "\n",
              "          latitude    longitude  \n",
              "count  1445.000000  1445.000000  \n",
              "mean     38.908336   -77.026826  \n",
              "std       0.024264     0.029891  \n",
              "min      38.813539   -77.100527  \n",
              "25%      38.898739   -77.044189  \n",
              "50%      38.904631   -77.031575  \n",
              "75%      38.921322   -77.011535  \n",
              "max      38.983573   -76.919927  "
            ],
            "text/html": [
              "\n",
              "  <div id=\"df-877c8236-a509-4dee-863d-f2171e436b28\">\n",
              "    <div class=\"colab-df-container\">\n",
              "      <div>\n",
              "<style scoped>\n",
              "    .dataframe tbody tr th:only-of-type {\n",
              "        vertical-align: middle;\n",
              "    }\n",
              "\n",
              "    .dataframe tbody tr th {\n",
              "        vertical-align: top;\n",
              "    }\n",
              "\n",
              "    .dataframe thead th {\n",
              "        text-align: right;\n",
              "    }\n",
              "</style>\n",
              "<table border=\"1\" class=\"dataframe\">\n",
              "  <thead>\n",
              "    <tr style=\"text-align: right;\">\n",
              "      <th></th>\n",
              "      <th>ward</th>\n",
              "      <th>year_built</th>\n",
              "      <th>tax_record_floor_area</th>\n",
              "      <th>reported_gross_floor_area</th>\n",
              "      <th>total_ghg_emissions</th>\n",
              "      <th>total_ghg_emissions_intensity</th>\n",
              "      <th>water_use</th>\n",
              "      <th>electricity_use</th>\n",
              "      <th>latitude</th>\n",
              "      <th>longitude</th>\n",
              "    </tr>\n",
              "  </thead>\n",
              "  <tbody>\n",
              "    <tr>\n",
              "      <th>count</th>\n",
              "      <td>1172.000000</td>\n",
              "      <td>1504.000000</td>\n",
              "      <td>1.507000e+03</td>\n",
              "      <td>1.507000e+03</td>\n",
              "      <td>1505.000000</td>\n",
              "      <td>1505.000000</td>\n",
              "      <td>1.297000e+03</td>\n",
              "      <td>1.482000e+03</td>\n",
              "      <td>1445.000000</td>\n",
              "      <td>1445.000000</td>\n",
              "    </tr>\n",
              "    <tr>\n",
              "      <th>mean</th>\n",
              "      <td>3.098976</td>\n",
              "      <td>1940.269282</td>\n",
              "      <td>2.059051e+05</td>\n",
              "      <td>1.885880e+05</td>\n",
              "      <td>1411.003588</td>\n",
              "      <td>7.289103</td>\n",
              "      <td>5.638641e+04</td>\n",
              "      <td>3.041003e+06</td>\n",
              "      <td>38.908336</td>\n",
              "      <td>-77.026826</td>\n",
              "    </tr>\n",
              "    <tr>\n",
              "      <th>std</th>\n",
              "      <td>1.821805</td>\n",
              "      <td>168.202955</td>\n",
              "      <td>2.482438e+05</td>\n",
              "      <td>2.440136e+05</td>\n",
              "      <td>2800.217403</td>\n",
              "      <td>6.883176</td>\n",
              "      <td>6.533274e+05</td>\n",
              "      <td>6.584801e+06</td>\n",
              "      <td>0.024264</td>\n",
              "      <td>0.029891</td>\n",
              "    </tr>\n",
              "    <tr>\n",
              "      <th>min</th>\n",
              "      <td>1.000000</td>\n",
              "      <td>1000.000000</td>\n",
              "      <td>9.171000e+03</td>\n",
              "      <td>5.982000e+03</td>\n",
              "      <td>0.000000</td>\n",
              "      <td>0.000000</td>\n",
              "      <td>0.000000e+00</td>\n",
              "      <td>0.000000e+00</td>\n",
              "      <td>38.813539</td>\n",
              "      <td>-77.100527</td>\n",
              "    </tr>\n",
              "    <tr>\n",
              "      <th>25%</th>\n",
              "      <td>2.000000</td>\n",
              "      <td>1945.000000</td>\n",
              "      <td>7.142050e+04</td>\n",
              "      <td>7.000000e+04</td>\n",
              "      <td>395.900000</td>\n",
              "      <td>4.800000</td>\n",
              "      <td>2.166200e+03</td>\n",
              "      <td>7.495754e+05</td>\n",
              "      <td>38.898739</td>\n",
              "      <td>-77.044189</td>\n",
              "    </tr>\n",
              "    <tr>\n",
              "      <th>50%</th>\n",
              "      <td>2.000000</td>\n",
              "      <td>1970.000000</td>\n",
              "      <td>1.287720e+05</td>\n",
              "      <td>1.199629e+05</td>\n",
              "      <td>773.100000</td>\n",
              "      <td>6.300000</td>\n",
              "      <td>4.182800e+03</td>\n",
              "      <td>1.656484e+06</td>\n",
              "      <td>38.904631</td>\n",
              "      <td>-77.031575</td>\n",
              "    </tr>\n",
              "    <tr>\n",
              "      <th>75%</th>\n",
              "      <td>5.000000</td>\n",
              "      <td>1994.000000</td>\n",
              "      <td>2.580610e+05</td>\n",
              "      <td>2.349610e+05</td>\n",
              "      <td>1584.100000</td>\n",
              "      <td>8.000000</td>\n",
              "      <td>7.314600e+03</td>\n",
              "      <td>3.491451e+06</td>\n",
              "      <td>38.921322</td>\n",
              "      <td>-77.011535</td>\n",
              "    </tr>\n",
              "    <tr>\n",
              "      <th>max</th>\n",
              "      <td>8.000000</td>\n",
              "      <td>2017.000000</td>\n",
              "      <td>3.997572e+06</td>\n",
              "      <td>5.634890e+06</td>\n",
              "      <td>64992.500000</td>\n",
              "      <td>134.400000</td>\n",
              "      <td>1.929391e+07</td>\n",
              "      <td>1.661020e+08</td>\n",
              "      <td>38.983573</td>\n",
              "      <td>-76.919927</td>\n",
              "    </tr>\n",
              "  </tbody>\n",
              "</table>\n",
              "</div>\n",
              "      <button class=\"colab-df-convert\" onclick=\"convertToInteractive('df-877c8236-a509-4dee-863d-f2171e436b28')\"\n",
              "              title=\"Convert this dataframe to an interactive table.\"\n",
              "              style=\"display:none;\">\n",
              "        \n",
              "  <svg xmlns=\"http://www.w3.org/2000/svg\" height=\"24px\"viewBox=\"0 0 24 24\"\n",
              "       width=\"24px\">\n",
              "    <path d=\"M0 0h24v24H0V0z\" fill=\"none\"/>\n",
              "    <path d=\"M18.56 5.44l.94 2.06.94-2.06 2.06-.94-2.06-.94-.94-2.06-.94 2.06-2.06.94zm-11 1L8.5 8.5l.94-2.06 2.06-.94-2.06-.94L8.5 2.5l-.94 2.06-2.06.94zm10 10l.94 2.06.94-2.06 2.06-.94-2.06-.94-.94-2.06-.94 2.06-2.06.94z\"/><path d=\"M17.41 7.96l-1.37-1.37c-.4-.4-.92-.59-1.43-.59-.52 0-1.04.2-1.43.59L10.3 9.45l-7.72 7.72c-.78.78-.78 2.05 0 2.83L4 21.41c.39.39.9.59 1.41.59.51 0 1.02-.2 1.41-.59l7.78-7.78 2.81-2.81c.8-.78.8-2.07 0-2.86zM5.41 20L4 18.59l7.72-7.72 1.47 1.35L5.41 20z\"/>\n",
              "  </svg>\n",
              "      </button>\n",
              "      \n",
              "  <style>\n",
              "    .colab-df-container {\n",
              "      display:flex;\n",
              "      flex-wrap:wrap;\n",
              "      gap: 12px;\n",
              "    }\n",
              "\n",
              "    .colab-df-convert {\n",
              "      background-color: #E8F0FE;\n",
              "      border: none;\n",
              "      border-radius: 50%;\n",
              "      cursor: pointer;\n",
              "      display: none;\n",
              "      fill: #1967D2;\n",
              "      height: 32px;\n",
              "      padding: 0 0 0 0;\n",
              "      width: 32px;\n",
              "    }\n",
              "\n",
              "    .colab-df-convert:hover {\n",
              "      background-color: #E2EBFA;\n",
              "      box-shadow: 0px 1px 2px rgba(60, 64, 67, 0.3), 0px 1px 3px 1px rgba(60, 64, 67, 0.15);\n",
              "      fill: #174EA6;\n",
              "    }\n",
              "\n",
              "    [theme=dark] .colab-df-convert {\n",
              "      background-color: #3B4455;\n",
              "      fill: #D2E3FC;\n",
              "    }\n",
              "\n",
              "    [theme=dark] .colab-df-convert:hover {\n",
              "      background-color: #434B5C;\n",
              "      box-shadow: 0px 1px 3px 1px rgba(0, 0, 0, 0.15);\n",
              "      filter: drop-shadow(0px 1px 2px rgba(0, 0, 0, 0.3));\n",
              "      fill: #FFFFFF;\n",
              "    }\n",
              "  </style>\n",
              "\n",
              "      <script>\n",
              "        const buttonEl =\n",
              "          document.querySelector('#df-877c8236-a509-4dee-863d-f2171e436b28 button.colab-df-convert');\n",
              "        buttonEl.style.display =\n",
              "          google.colab.kernel.accessAllowed ? 'block' : 'none';\n",
              "\n",
              "        async function convertToInteractive(key) {\n",
              "          const element = document.querySelector('#df-877c8236-a509-4dee-863d-f2171e436b28');\n",
              "          const dataTable =\n",
              "            await google.colab.kernel.invokeFunction('convertToInteractive',\n",
              "                                                     [key], {});\n",
              "          if (!dataTable) return;\n",
              "\n",
              "          const docLinkHtml = 'Like what you see? Visit the ' +\n",
              "            '<a target=\"_blank\" href=https://colab.research.google.com/notebooks/data_table.ipynb>data table notebook</a>'\n",
              "            + ' to learn more about interactive tables.';\n",
              "          element.innerHTML = '';\n",
              "          dataTable['output_type'] = 'display_data';\n",
              "          await google.colab.output.renderOutput(dataTable, element);\n",
              "          const docLink = document.createElement('div');\n",
              "          docLink.innerHTML = docLinkHtml;\n",
              "          element.appendChild(docLink);\n",
              "        }\n",
              "      </script>\n",
              "    </div>\n",
              "  </div>\n",
              "  "
            ]
          },
          "metadata": {},
          "execution_count": 20
        }
      ]
    },
    {
      "cell_type": "code",
      "source": [
        "dc.info() #why is this helpful to print?"
      ],
      "metadata": {
        "id": "qFWWCuN755gc",
        "colab": {
          "base_uri": "https://localhost:8080/"
        },
        "outputId": "8ab785b8-96a6-4da5-d522-102cd0a5c867"
      },
      "execution_count": 21,
      "outputs": [
        {
          "output_type": "stream",
          "name": "stdout",
          "text": [
            "<class 'pandas.core.frame.DataFrame'>\n",
            "Int64Index: 1507 entries, 0 to 2180\n",
            "Data columns (total 20 columns):\n",
            " #   Column                         Non-Null Count  Dtype  \n",
            "---  ------                         --------------  -----  \n",
            " 0   report_status                  1507 non-null   object \n",
            " 1   owner_of_record                1507 non-null   object \n",
            " 2   ward                           1172 non-null   float64\n",
            " 3   postal_code                    1507 non-null   object \n",
            " 4   year_built                     1504 non-null   float64\n",
            " 5   primary_ptype_self             1507 non-null   object \n",
            " 6   primary_ptype_epa              1507 non-null   object \n",
            " 7   tax_record_floor_area          1507 non-null   float64\n",
            " 8   reported_gross_floor_area      1507 non-null   float64\n",
            " 9   site_eui                       1507 non-null   object \n",
            " 10  weather_norm_site_eui          1445 non-null   object \n",
            " 11  source_eui                     1507 non-null   object \n",
            " 12  weather_norm_source_eui        1445 non-null   object \n",
            " 13  total_ghg_emissions            1505 non-null   float64\n",
            " 14  total_ghg_emissions_intensity  1505 non-null   float64\n",
            " 15  water_use                      1297 non-null   float64\n",
            " 16  electricity_use                1482 non-null   float64\n",
            " 17  metered_areas_energy           1398 non-null   object \n",
            " 18  latitude                       1445 non-null   float64\n",
            " 19  longitude                      1445 non-null   float64\n",
            "dtypes: float64(10), object(10)\n",
            "memory usage: 247.2+ KB\n"
          ]
        }
      ]
    },
    {
      "cell_type": "code",
      "source": [
        "dc[\"reported_gross_floor_area\"].describe()"
      ],
      "metadata": {
        "colab": {
          "base_uri": "https://localhost:8080/"
        },
        "id": "RcI8KcrQOPJT",
        "outputId": "cf0df169-51c4-46ac-ad65-9f459b5f414c"
      },
      "execution_count": 22,
      "outputs": [
        {
          "output_type": "execute_result",
          "data": {
            "text/plain": [
              "count    1.507000e+03\n",
              "mean     1.885880e+05\n",
              "std      2.440136e+05\n",
              "min      5.982000e+03\n",
              "25%      7.000000e+04\n",
              "50%      1.199629e+05\n",
              "75%      2.349610e+05\n",
              "max      5.634890e+06\n",
              "Name: reported_gross_floor_area, dtype: float64"
            ]
          },
          "metadata": {},
          "execution_count": 22
        }
      ]
    },
    {
      "cell_type": "code",
      "source": [
        "dc[\"site_eui\"].describe()"
      ],
      "metadata": {
        "colab": {
          "base_uri": "https://localhost:8080/"
        },
        "id": "WyiPei5CYges",
        "outputId": "5e24fcbf-b93c-4a0a-e93e-14b2ad23c1d8"
      },
      "execution_count": 23,
      "outputs": [
        {
          "output_type": "execute_result",
          "data": {
            "text/plain": [
              "count     1507\n",
              "unique     813\n",
              "top       56.5\n",
              "freq         8\n",
              "Name: site_eui, dtype: object"
            ]
          },
          "metadata": {},
          "execution_count": 23
        }
      ]
    },
    {
      "cell_type": "code",
      "source": [
        "dc[\"source_eui\"]"
      ],
      "metadata": {
        "colab": {
          "base_uri": "https://localhost:8080/"
        },
        "id": "AZ40EjEVYjv8",
        "outputId": "b1f36934-7d9b-4b0b-d46b-1e505aec4686"
      },
      "execution_count": 24,
      "outputs": [
        {
          "output_type": "execute_result",
          "data": {
            "text/plain": [
              "0               175.9\n",
              "1               229.8\n",
              "2               215.6\n",
              "3               147.7\n",
              "4               206.3\n",
              "            ...      \n",
              "2167             13.8\n",
              "2171                0\n",
              "2178    Not Available\n",
              "2179              0.1\n",
              "2180             16.4\n",
              "Name: source_eui, Length: 1507, dtype: object"
            ]
          },
          "metadata": {},
          "execution_count": 24
        }
      ]
    },
    {
      "cell_type": "markdown",
      "source": [
        "Since some of the missing and 0 values for EUI are in the bottom, I pulled the tail of the data. It shows that at least some of these are university properties \"(land only)\" with missing or zero data in several columns. I think it's fine to drop them."
      ],
      "metadata": {
        "id": "XlvN8Fc04RAR"
      }
    },
    {
      "cell_type": "code",
      "source": [
        "dc.tail(5)"
      ],
      "metadata": {
        "colab": {
          "base_uri": "https://localhost:8080/",
          "height": 473
        },
        "id": "iiRrbO8R3jGn",
        "outputId": "263b0d73-38d5-4e46-ed0c-f664cc6fc205"
      },
      "execution_count": 31,
      "outputs": [
        {
          "output_type": "execute_result",
          "data": {
            "text/plain": [
              "                  report_status                owner_of_record  ward  \\\n",
              "2167  Data under review by DOEE  HOWARD UNIVERSITY (LAND ONLY)   1.0   \n",
              "2171  Data under review by DOEE  HOWARD UNIVERSITY (LAND ONLY)   1.0   \n",
              "2178  Data under review by DOEE  HOWARD UNIVERSITY (LAND ONLY)   1.0   \n",
              "2179  Data under review by DOEE  HOWARD UNIVERSITY (LAND ONLY)   1.0   \n",
              "2180  Data under review by DOEE      THE HOWARD UNIVERSITY INC   1.0   \n",
              "\n",
              "     postal_code  year_built        primary_ptype_self  \\\n",
              "2167       20059      1979.0        College/University   \n",
              "2171       20059      1960.0        College/University   \n",
              "2178       20059      1956.0        College/University   \n",
              "2179       20059      1952.0        College/University   \n",
              "2180       20059      1994.0  Residence Hall/Dormitory   \n",
              "\n",
              "             primary_ptype_epa  tax_record_floor_area  \\\n",
              "2167                     Other              1095275.0   \n",
              "2171        College/University              1095275.0   \n",
              "2178        College/University               162354.0   \n",
              "2179        College/University               162354.0   \n",
              "2180  Residence Hall/Dormitory               190514.0   \n",
              "\n",
              "      reported_gross_floor_area  site_eui  ...     source_eui  \\\n",
              "2167                   145000.0      13.1  ...           13.8   \n",
              "2171                   101950.0       0.0  ...              0   \n",
              "2178                    63367.0       NaN  ...  Not Available   \n",
              "2179                    98856.0       0.1  ...            0.1   \n",
              "2180                   225000.0      15.6  ...           16.4   \n",
              "\n",
              "     weather_norm_source_eui total_ghg_emissions  \\\n",
              "2167                    13.8               101.0   \n",
              "2171                       0                 0.0   \n",
              "2178           Not Available                 0.0   \n",
              "2179                     0.1                 0.7   \n",
              "2180                    16.4               186.9   \n",
              "\n",
              "      total_ghg_emissions_intensity  water_use  electricity_use  \\\n",
              "2167                            0.7    14218.5              NaN   \n",
              "2171                            0.0    19928.1              NaN   \n",
              "2178                            0.0     1743.0              NaN   \n",
              "2179                            0.0      917.1              NaN   \n",
              "2180                            0.8    13090.2              NaN   \n",
              "\n",
              "      metered_areas_energy   latitude  longitude  BuildingEnergyUse  \n",
              "2167        Whole Building  38.924094 -77.019154           6.278639  \n",
              "2171        Whole Building  38.924529 -77.020981               -inf  \n",
              "2178        Whole Building  38.922096 -77.021542                NaN  \n",
              "2179        Whole Building  38.921564 -77.021498           3.995003  \n",
              "2180        Whole Building  38.920882 -77.017807           6.545307  \n",
              "\n",
              "[5 rows x 21 columns]"
            ],
            "text/html": [
              "\n",
              "  <div id=\"df-c969e836-f933-426d-8f1f-a8df0f30d1f2\">\n",
              "    <div class=\"colab-df-container\">\n",
              "      <div>\n",
              "<style scoped>\n",
              "    .dataframe tbody tr th:only-of-type {\n",
              "        vertical-align: middle;\n",
              "    }\n",
              "\n",
              "    .dataframe tbody tr th {\n",
              "        vertical-align: top;\n",
              "    }\n",
              "\n",
              "    .dataframe thead th {\n",
              "        text-align: right;\n",
              "    }\n",
              "</style>\n",
              "<table border=\"1\" class=\"dataframe\">\n",
              "  <thead>\n",
              "    <tr style=\"text-align: right;\">\n",
              "      <th></th>\n",
              "      <th>report_status</th>\n",
              "      <th>owner_of_record</th>\n",
              "      <th>ward</th>\n",
              "      <th>postal_code</th>\n",
              "      <th>year_built</th>\n",
              "      <th>primary_ptype_self</th>\n",
              "      <th>primary_ptype_epa</th>\n",
              "      <th>tax_record_floor_area</th>\n",
              "      <th>reported_gross_floor_area</th>\n",
              "      <th>site_eui</th>\n",
              "      <th>...</th>\n",
              "      <th>source_eui</th>\n",
              "      <th>weather_norm_source_eui</th>\n",
              "      <th>total_ghg_emissions</th>\n",
              "      <th>total_ghg_emissions_intensity</th>\n",
              "      <th>water_use</th>\n",
              "      <th>electricity_use</th>\n",
              "      <th>metered_areas_energy</th>\n",
              "      <th>latitude</th>\n",
              "      <th>longitude</th>\n",
              "      <th>BuildingEnergyUse</th>\n",
              "    </tr>\n",
              "  </thead>\n",
              "  <tbody>\n",
              "    <tr>\n",
              "      <th>2167</th>\n",
              "      <td>Data under review by DOEE</td>\n",
              "      <td>HOWARD UNIVERSITY (LAND ONLY)</td>\n",
              "      <td>1.0</td>\n",
              "      <td>20059</td>\n",
              "      <td>1979.0</td>\n",
              "      <td>College/University</td>\n",
              "      <td>Other</td>\n",
              "      <td>1095275.0</td>\n",
              "      <td>145000.0</td>\n",
              "      <td>13.1</td>\n",
              "      <td>...</td>\n",
              "      <td>13.8</td>\n",
              "      <td>13.8</td>\n",
              "      <td>101.0</td>\n",
              "      <td>0.7</td>\n",
              "      <td>14218.5</td>\n",
              "      <td>NaN</td>\n",
              "      <td>Whole Building</td>\n",
              "      <td>38.924094</td>\n",
              "      <td>-77.019154</td>\n",
              "      <td>6.278639</td>\n",
              "    </tr>\n",
              "    <tr>\n",
              "      <th>2171</th>\n",
              "      <td>Data under review by DOEE</td>\n",
              "      <td>HOWARD UNIVERSITY (LAND ONLY)</td>\n",
              "      <td>1.0</td>\n",
              "      <td>20059</td>\n",
              "      <td>1960.0</td>\n",
              "      <td>College/University</td>\n",
              "      <td>College/University</td>\n",
              "      <td>1095275.0</td>\n",
              "      <td>101950.0</td>\n",
              "      <td>0.0</td>\n",
              "      <td>...</td>\n",
              "      <td>0</td>\n",
              "      <td>0</td>\n",
              "      <td>0.0</td>\n",
              "      <td>0.0</td>\n",
              "      <td>19928.1</td>\n",
              "      <td>NaN</td>\n",
              "      <td>Whole Building</td>\n",
              "      <td>38.924529</td>\n",
              "      <td>-77.020981</td>\n",
              "      <td>-inf</td>\n",
              "    </tr>\n",
              "    <tr>\n",
              "      <th>2178</th>\n",
              "      <td>Data under review by DOEE</td>\n",
              "      <td>HOWARD UNIVERSITY (LAND ONLY)</td>\n",
              "      <td>1.0</td>\n",
              "      <td>20059</td>\n",
              "      <td>1956.0</td>\n",
              "      <td>College/University</td>\n",
              "      <td>College/University</td>\n",
              "      <td>162354.0</td>\n",
              "      <td>63367.0</td>\n",
              "      <td>NaN</td>\n",
              "      <td>...</td>\n",
              "      <td>Not Available</td>\n",
              "      <td>Not Available</td>\n",
              "      <td>0.0</td>\n",
              "      <td>0.0</td>\n",
              "      <td>1743.0</td>\n",
              "      <td>NaN</td>\n",
              "      <td>Whole Building</td>\n",
              "      <td>38.922096</td>\n",
              "      <td>-77.021542</td>\n",
              "      <td>NaN</td>\n",
              "    </tr>\n",
              "    <tr>\n",
              "      <th>2179</th>\n",
              "      <td>Data under review by DOEE</td>\n",
              "      <td>HOWARD UNIVERSITY (LAND ONLY)</td>\n",
              "      <td>1.0</td>\n",
              "      <td>20059</td>\n",
              "      <td>1952.0</td>\n",
              "      <td>College/University</td>\n",
              "      <td>College/University</td>\n",
              "      <td>162354.0</td>\n",
              "      <td>98856.0</td>\n",
              "      <td>0.1</td>\n",
              "      <td>...</td>\n",
              "      <td>0.1</td>\n",
              "      <td>0.1</td>\n",
              "      <td>0.7</td>\n",
              "      <td>0.0</td>\n",
              "      <td>917.1</td>\n",
              "      <td>NaN</td>\n",
              "      <td>Whole Building</td>\n",
              "      <td>38.921564</td>\n",
              "      <td>-77.021498</td>\n",
              "      <td>3.995003</td>\n",
              "    </tr>\n",
              "    <tr>\n",
              "      <th>2180</th>\n",
              "      <td>Data under review by DOEE</td>\n",
              "      <td>THE HOWARD UNIVERSITY INC</td>\n",
              "      <td>1.0</td>\n",
              "      <td>20059</td>\n",
              "      <td>1994.0</td>\n",
              "      <td>Residence Hall/Dormitory</td>\n",
              "      <td>Residence Hall/Dormitory</td>\n",
              "      <td>190514.0</td>\n",
              "      <td>225000.0</td>\n",
              "      <td>15.6</td>\n",
              "      <td>...</td>\n",
              "      <td>16.4</td>\n",
              "      <td>16.4</td>\n",
              "      <td>186.9</td>\n",
              "      <td>0.8</td>\n",
              "      <td>13090.2</td>\n",
              "      <td>NaN</td>\n",
              "      <td>Whole Building</td>\n",
              "      <td>38.920882</td>\n",
              "      <td>-77.017807</td>\n",
              "      <td>6.545307</td>\n",
              "    </tr>\n",
              "  </tbody>\n",
              "</table>\n",
              "<p>5 rows × 21 columns</p>\n",
              "</div>\n",
              "      <button class=\"colab-df-convert\" onclick=\"convertToInteractive('df-c969e836-f933-426d-8f1f-a8df0f30d1f2')\"\n",
              "              title=\"Convert this dataframe to an interactive table.\"\n",
              "              style=\"display:none;\">\n",
              "        \n",
              "  <svg xmlns=\"http://www.w3.org/2000/svg\" height=\"24px\"viewBox=\"0 0 24 24\"\n",
              "       width=\"24px\">\n",
              "    <path d=\"M0 0h24v24H0V0z\" fill=\"none\"/>\n",
              "    <path d=\"M18.56 5.44l.94 2.06.94-2.06 2.06-.94-2.06-.94-.94-2.06-.94 2.06-2.06.94zm-11 1L8.5 8.5l.94-2.06 2.06-.94-2.06-.94L8.5 2.5l-.94 2.06-2.06.94zm10 10l.94 2.06.94-2.06 2.06-.94-2.06-.94-.94-2.06-.94 2.06-2.06.94z\"/><path d=\"M17.41 7.96l-1.37-1.37c-.4-.4-.92-.59-1.43-.59-.52 0-1.04.2-1.43.59L10.3 9.45l-7.72 7.72c-.78.78-.78 2.05 0 2.83L4 21.41c.39.39.9.59 1.41.59.51 0 1.02-.2 1.41-.59l7.78-7.78 2.81-2.81c.8-.78.8-2.07 0-2.86zM5.41 20L4 18.59l7.72-7.72 1.47 1.35L5.41 20z\"/>\n",
              "  </svg>\n",
              "      </button>\n",
              "      \n",
              "  <style>\n",
              "    .colab-df-container {\n",
              "      display:flex;\n",
              "      flex-wrap:wrap;\n",
              "      gap: 12px;\n",
              "    }\n",
              "\n",
              "    .colab-df-convert {\n",
              "      background-color: #E8F0FE;\n",
              "      border: none;\n",
              "      border-radius: 50%;\n",
              "      cursor: pointer;\n",
              "      display: none;\n",
              "      fill: #1967D2;\n",
              "      height: 32px;\n",
              "      padding: 0 0 0 0;\n",
              "      width: 32px;\n",
              "    }\n",
              "\n",
              "    .colab-df-convert:hover {\n",
              "      background-color: #E2EBFA;\n",
              "      box-shadow: 0px 1px 2px rgba(60, 64, 67, 0.3), 0px 1px 3px 1px rgba(60, 64, 67, 0.15);\n",
              "      fill: #174EA6;\n",
              "    }\n",
              "\n",
              "    [theme=dark] .colab-df-convert {\n",
              "      background-color: #3B4455;\n",
              "      fill: #D2E3FC;\n",
              "    }\n",
              "\n",
              "    [theme=dark] .colab-df-convert:hover {\n",
              "      background-color: #434B5C;\n",
              "      box-shadow: 0px 1px 3px 1px rgba(0, 0, 0, 0.15);\n",
              "      filter: drop-shadow(0px 1px 2px rgba(0, 0, 0, 0.3));\n",
              "      fill: #FFFFFF;\n",
              "    }\n",
              "  </style>\n",
              "\n",
              "      <script>\n",
              "        const buttonEl =\n",
              "          document.querySelector('#df-c969e836-f933-426d-8f1f-a8df0f30d1f2 button.colab-df-convert');\n",
              "        buttonEl.style.display =\n",
              "          google.colab.kernel.accessAllowed ? 'block' : 'none';\n",
              "\n",
              "        async function convertToInteractive(key) {\n",
              "          const element = document.querySelector('#df-c969e836-f933-426d-8f1f-a8df0f30d1f2');\n",
              "          const dataTable =\n",
              "            await google.colab.kernel.invokeFunction('convertToInteractive',\n",
              "                                                     [key], {});\n",
              "          if (!dataTable) return;\n",
              "\n",
              "          const docLinkHtml = 'Like what you see? Visit the ' +\n",
              "            '<a target=\"_blank\" href=https://colab.research.google.com/notebooks/data_table.ipynb>data table notebook</a>'\n",
              "            + ' to learn more about interactive tables.';\n",
              "          element.innerHTML = '';\n",
              "          dataTable['output_type'] = 'display_data';\n",
              "          await google.colab.output.renderOutput(dataTable, element);\n",
              "          const docLink = document.createElement('div');\n",
              "          docLink.innerHTML = docLinkHtml;\n",
              "          element.appendChild(docLink);\n",
              "        }\n",
              "      </script>\n",
              "    </div>\n",
              "  </div>\n",
              "  "
            ]
          },
          "metadata": {},
          "execution_count": 31
        }
      ]
    },
    {
      "cell_type": "code",
      "source": [
        "#removing all 0 values from site eui\n",
        "dc = dc[(dc[\"site_eui\"] > 0)]  "
      ],
      "metadata": {
        "id": "bqmKCmX-4ixG"
      },
      "execution_count": 35,
      "outputs": []
    },
    {
      "cell_type": "code",
      "source": [
        "dc[\"site_eui\"].describe()"
      ],
      "metadata": {
        "colab": {
          "base_uri": "https://localhost:8080/"
        },
        "id": "zLEBLTYg5JZZ",
        "outputId": "0de0b7ff-619f-4e6f-ae00-fc18f8b2783f"
      },
      "execution_count": 34,
      "outputs": [
        {
          "output_type": "execute_result",
          "data": {
            "text/plain": [
              "count    1499.000000\n",
              "mean       80.006471\n",
              "std       145.094758\n",
              "min         0.100000\n",
              "25%        51.700000\n",
              "50%        66.400000\n",
              "75%        84.200000\n",
              "max      5059.200000\n",
              "Name: site_eui, dtype: float64"
            ]
          },
          "metadata": {},
          "execution_count": 34
        }
      ]
    },
    {
      "cell_type": "code",
      "source": [
        "#realized I need to make site eui a float.\n",
        "dc[\"site_eui\"] = pd.to_numeric(dc[\"site_eui\"], errors='coerce')"
      ],
      "metadata": {
        "id": "mOPQOhP2Z4sW"
      },
      "execution_count": 25,
      "outputs": []
    },
    {
      "cell_type": "code",
      "source": [
        "#adding column for building energy use\n",
        "dc[\"BuildingEnergyUse\"] = dc[\"reported_gross_floor_area\"]*dc[\"site_eui\"]"
      ],
      "metadata": {
        "id": "5J0QaAowX_i5"
      },
      "execution_count": 36,
      "outputs": []
    },
    {
      "cell_type": "code",
      "source": [
        "dc[\"BuildingEnergyUse\"].describe()"
      ],
      "metadata": {
        "colab": {
          "base_uri": "https://localhost:8080/"
        },
        "id": "H-QvjvmYOX8d",
        "outputId": "bd0783c6-9188-42b3-cdcd-c1c6b74288f3"
      },
      "execution_count": 37,
      "outputs": [
        {
          "output_type": "execute_result",
          "data": {
            "text/plain": [
              "count    1.499000e+03\n",
              "mean     1.518428e+07\n",
              "std      3.881919e+07\n",
              "min      3.191900e+03\n",
              "25%      4.516307e+06\n",
              "50%      8.357310e+06\n",
              "75%      1.597419e+07\n",
              "max      7.832497e+08\n",
              "Name: BuildingEnergyUse, dtype: float64"
            ]
          },
          "metadata": {},
          "execution_count": 37
        }
      ]
    },
    {
      "cell_type": "code",
      "source": [
        "#making building energy use log\n",
        "dc[\"BuildingEnergyUse\"] = np.log10(dc[\"BuildingEnergyUse\"])"
      ],
      "metadata": {
        "id": "5r6QPv-PaoZI"
      },
      "execution_count": 38,
      "outputs": []
    },
    {
      "cell_type": "code",
      "source": [
        "dc[\"BuildingEnergyUse\"].describe()"
      ],
      "metadata": {
        "colab": {
          "base_uri": "https://localhost:8080/"
        },
        "id": "mpfJor39G7Z1",
        "outputId": "e5421bb7-0933-49c9-d402-550b885cec44"
      },
      "execution_count": 39,
      "outputs": [
        {
          "output_type": "execute_result",
          "data": {
            "text/plain": [
              "count    1499.000000\n",
              "mean        6.907680\n",
              "std         0.487948\n",
              "min         3.504049\n",
              "25%         6.654783\n",
              "50%         6.922067\n",
              "75%         7.203419\n",
              "max         8.893900\n",
              "Name: BuildingEnergyUse, dtype: float64"
            ]
          },
          "metadata": {},
          "execution_count": 39
        }
      ]
    },
    {
      "cell_type": "code",
      "source": [
        "#don't need this anymore but leaving it anyway\n",
        "np.isinf(dc[\"BuildingEnergyUse\"])"
      ],
      "metadata": {
        "colab": {
          "base_uri": "https://localhost:8080/"
        },
        "id": "D4tdFqMXJAu9",
        "outputId": "14f47915-e74e-4d4f-c646-21b7113afd6c"
      },
      "execution_count": 41,
      "outputs": [
        {
          "output_type": "execute_result",
          "data": {
            "text/plain": [
              "0       False\n",
              "1       False\n",
              "2       False\n",
              "3       False\n",
              "4       False\n",
              "        ...  \n",
              "2163    False\n",
              "2164    False\n",
              "2167    False\n",
              "2179    False\n",
              "2180    False\n",
              "Name: BuildingEnergyUse, Length: 1499, dtype: bool"
            ]
          },
          "metadata": {},
          "execution_count": 41
        }
      ]
    },
    {
      "cell_type": "markdown",
      "source": [
        "## Throw away data where the **target** variable is missing\n",
        "\n",
        "I will remove each row where I do not have the target variable. To do that I use `df.dropna()` and the subset argument of `df.dropna()` set to the name of the variable. The `how` should be set to \"any\" cause you want to drop the row where any values in the subset is NaN (this is a subset of one column, so it is obvious, but imagine if you were passing more than one column to the call `dropna()`"
      ],
      "metadata": {
        "id": "LjzW2m2I-dvq"
      }
    },
    {
      "cell_type": "code",
      "source": [
        "# one is the loneliest number\n",
        "dc[\"BuildingEnergyUse\"].isna().sum()"
      ],
      "metadata": {
        "id": "aDMtT0kq_rUx",
        "colab": {
          "base_uri": "https://localhost:8080/"
        },
        "outputId": "c4e45dab-955e-433e-ca35-533f68b7a17b"
      },
      "execution_count": 42,
      "outputs": [
        {
          "output_type": "execute_result",
          "data": {
            "text/plain": [
              "0"
            ]
          },
          "metadata": {},
          "execution_count": 42
        }
      ]
    },
    {
      "cell_type": "code",
      "source": [
        "original_len = dc.shape[0]\n",
        "dc.dropna(subset=[\"BuildingEnergyUse\"], how=\"any\", inplace=True)\n",
        "\n",
        "print(\"I lost {:.2f}% of the data\".format((1 - (dc.shape[0] / original_len)) * 100))"
      ],
      "metadata": {
        "colab": {
          "base_uri": "https://localhost:8080/"
        },
        "id": "MQC0OsUq-i0Q",
        "outputId": "bef8600a-2f1a-4d2e-f2f2-659d923ff50d"
      },
      "execution_count": 45,
      "outputs": [
        {
          "output_type": "stream",
          "name": "stdout",
          "text": [
            "I lost 0.00% of the data\n"
          ]
        }
      ]
    },
    {
      "cell_type": "code",
      "source": [
        "dc.info()"
      ],
      "metadata": {
        "colab": {
          "base_uri": "https://localhost:8080/"
        },
        "id": "hFLKC2gO7A1U",
        "outputId": "5ad025ab-ded9-43c7-bd0d-0f8b08dcc8d5"
      },
      "execution_count": 44,
      "outputs": [
        {
          "output_type": "stream",
          "name": "stdout",
          "text": [
            "<class 'pandas.core.frame.DataFrame'>\n",
            "Int64Index: 1499 entries, 0 to 2180\n",
            "Data columns (total 21 columns):\n",
            " #   Column                         Non-Null Count  Dtype  \n",
            "---  ------                         --------------  -----  \n",
            " 0   report_status                  1499 non-null   object \n",
            " 1   owner_of_record                1499 non-null   object \n",
            " 2   ward                           1165 non-null   float64\n",
            " 3   postal_code                    1499 non-null   object \n",
            " 4   year_built                     1496 non-null   float64\n",
            " 5   primary_ptype_self             1499 non-null   object \n",
            " 6   primary_ptype_epa              1499 non-null   object \n",
            " 7   tax_record_floor_area          1499 non-null   float64\n",
            " 8   reported_gross_floor_area      1499 non-null   float64\n",
            " 9   site_eui                       1499 non-null   float64\n",
            " 10  weather_norm_site_eui          1437 non-null   object \n",
            " 11  source_eui                     1499 non-null   object \n",
            " 12  weather_norm_source_eui        1437 non-null   object \n",
            " 13  total_ghg_emissions            1497 non-null   float64\n",
            " 14  total_ghg_emissions_intensity  1497 non-null   float64\n",
            " 15  water_use                      1290 non-null   float64\n",
            " 16  electricity_use                1478 non-null   float64\n",
            " 17  metered_areas_energy           1390 non-null   object \n",
            " 18  latitude                       1437 non-null   float64\n",
            " 19  longitude                      1437 non-null   float64\n",
            " 20  BuildingEnergyUse              1499 non-null   float64\n",
            "dtypes: float64(12), object(9)\n",
            "memory usage: 257.6+ KB\n"
          ]
        }
      ]
    },
    {
      "cell_type": "code",
      "metadata": {
        "id": "7uQG7QcFPJUA"
      },
      "source": [
        "# isolate the target variable first (endogenous)\n",
        "y = dc[\"BuildingEnergyUse\"].values"
      ],
      "execution_count": 46,
      "outputs": []
    },
    {
      "cell_type": "code",
      "source": [
        "# and the input variables (exogenous)\n",
        "X = dc.drop(\"BuildingEnergyUse\", axis=1)"
      ],
      "metadata": {
        "id": "1_ZO1NtR-19k"
      },
      "execution_count": 47,
      "outputs": []
    },
    {
      "cell_type": "markdown",
      "metadata": {
        "id": "iNbDz-98ZvkM"
      },
      "source": [
        "### separate categorical and numerical values"
      ]
    },
    {
      "cell_type": "markdown",
      "source": [
        "When I ran the separator, ward showed up in numeric because it is a number, so I converted it to object. All the EUIs were objects and ended up in categorical, so I converted them to numeric."
      ],
      "metadata": {
        "id": "AyfZZ57-b0QA"
      }
    },
    {
      "cell_type": "code",
      "source": [
        "X[\"weather_norm_site_eui\"] = pd.to_numeric(X[\"weather_norm_site_eui\"], errors='coerce')"
      ],
      "metadata": {
        "id": "9kwgnvqYb8qb"
      },
      "execution_count": 53,
      "outputs": []
    },
    {
      "cell_type": "code",
      "source": [
        "X[\"source_eui\"] = pd.to_numeric(X[\"source_eui\"], errors = \"coerce\")\n",
        "X[\"weather_norm_source_eui\"] = pd.to_numeric(X[\"weather_norm_source_eui\"], errors = \"coerce\")"
      ],
      "metadata": {
        "id": "RO0LQuzFbznC"
      },
      "execution_count": 54,
      "outputs": []
    },
    {
      "cell_type": "code",
      "source": [
        "X[[\"ward\"]] = X[[\"ward\"]].astype(object)"
      ],
      "metadata": {
        "id": "SctC84PtWApu"
      },
      "execution_count": 55,
      "outputs": []
    },
    {
      "cell_type": "code",
      "source": [
        "# I am giving you the solution but please take note of how one does this!\n",
        "X_numeric_data = X.select_dtypes(include=[np.number])\n",
        "X_categorical_data = X.select_dtypes(exclude=[np.number])"
      ],
      "metadata": {
        "id": "-XpDBDTI-gE_"
      },
      "execution_count": 56,
      "outputs": []
    },
    {
      "cell_type": "code",
      "source": [
        "print(\"there are (rows, columns) = \", (X_numeric_data.shape), \"in the dataframe\")"
      ],
      "metadata": {
        "id": "fTjcQ4Id_IWB",
        "colab": {
          "base_uri": "https://localhost:8080/"
        },
        "outputId": "15ad702a-0c4e-4e02-f5b0-e53a099a4f8c"
      },
      "execution_count": 62,
      "outputs": [
        {
          "output_type": "stream",
          "name": "stdout",
          "text": [
            "there are (rows, columns) =  (1499, 13) in the dataframe\n"
          ]
        }
      ]
    },
    {
      "cell_type": "code",
      "source": [
        "X_numeric_data.head() ## is there anything suspicious? anything thas is in fact **not** a numerical variable? that will depend on how you did in TASK 1"
      ],
      "metadata": {
        "id": "_3qPUKno_aXS",
        "colab": {
          "base_uri": "https://localhost:8080/",
          "height": 270
        },
        "outputId": "33aa7117-76a0-432c-e093-212bcc8501c3"
      },
      "execution_count": 58,
      "outputs": [
        {
          "output_type": "execute_result",
          "data": {
            "text/plain": [
              "   year_built  tax_record_floor_area  reported_gross_floor_area  site_eui  \\\n",
              "0      1959.0                63227.0                    65000.0     101.3   \n",
              "1      1997.0               251557.0                   257943.0      73.2   \n",
              "2      1964.0               330550.0                   223218.0      87.8   \n",
              "3      1969.0               256839.0                   213067.0      47.0   \n",
              "4      1975.0               370000.0                   381518.0      65.7   \n",
              "\n",
              "   weather_norm_site_eui  source_eui  weather_norm_source_eui  \\\n",
              "0                  102.7       175.9                    174.9   \n",
              "1                   73.2       229.8                    229.8   \n",
              "2                   89.0       215.6                    215.0   \n",
              "3                   46.4       147.7                    145.8   \n",
              "4                   65.7       206.3                    206.3   \n",
              "\n",
              "   total_ghg_emissions  total_ghg_emissions_intensity  water_use  \\\n",
              "0                482.9                            7.4     6963.5   \n",
              "1               2164.4                            8.4     8490.0   \n",
              "2               1852.2                            8.3     8749.1   \n",
              "3               1249.2                            5.9     5393.8   \n",
              "4               2874.1                            7.5    10422.6   \n",
              "\n",
              "   electricity_use   latitude  longitude  \n",
              "0         633043.8  38.963597 -77.033848  \n",
              "1        5531486.0  38.897849 -77.029872  \n",
              "2        3863003.0  38.904056 -77.037973  \n",
              "3        2936445.0  38.902189 -77.041238  \n",
              "4        7345290.0  38.904376 -77.046882  "
            ],
            "text/html": [
              "\n",
              "  <div id=\"df-617dac34-0f77-49ff-a342-ef7b7b71e61c\">\n",
              "    <div class=\"colab-df-container\">\n",
              "      <div>\n",
              "<style scoped>\n",
              "    .dataframe tbody tr th:only-of-type {\n",
              "        vertical-align: middle;\n",
              "    }\n",
              "\n",
              "    .dataframe tbody tr th {\n",
              "        vertical-align: top;\n",
              "    }\n",
              "\n",
              "    .dataframe thead th {\n",
              "        text-align: right;\n",
              "    }\n",
              "</style>\n",
              "<table border=\"1\" class=\"dataframe\">\n",
              "  <thead>\n",
              "    <tr style=\"text-align: right;\">\n",
              "      <th></th>\n",
              "      <th>year_built</th>\n",
              "      <th>tax_record_floor_area</th>\n",
              "      <th>reported_gross_floor_area</th>\n",
              "      <th>site_eui</th>\n",
              "      <th>weather_norm_site_eui</th>\n",
              "      <th>source_eui</th>\n",
              "      <th>weather_norm_source_eui</th>\n",
              "      <th>total_ghg_emissions</th>\n",
              "      <th>total_ghg_emissions_intensity</th>\n",
              "      <th>water_use</th>\n",
              "      <th>electricity_use</th>\n",
              "      <th>latitude</th>\n",
              "      <th>longitude</th>\n",
              "    </tr>\n",
              "  </thead>\n",
              "  <tbody>\n",
              "    <tr>\n",
              "      <th>0</th>\n",
              "      <td>1959.0</td>\n",
              "      <td>63227.0</td>\n",
              "      <td>65000.0</td>\n",
              "      <td>101.3</td>\n",
              "      <td>102.7</td>\n",
              "      <td>175.9</td>\n",
              "      <td>174.9</td>\n",
              "      <td>482.9</td>\n",
              "      <td>7.4</td>\n",
              "      <td>6963.5</td>\n",
              "      <td>633043.8</td>\n",
              "      <td>38.963597</td>\n",
              "      <td>-77.033848</td>\n",
              "    </tr>\n",
              "    <tr>\n",
              "      <th>1</th>\n",
              "      <td>1997.0</td>\n",
              "      <td>251557.0</td>\n",
              "      <td>257943.0</td>\n",
              "      <td>73.2</td>\n",
              "      <td>73.2</td>\n",
              "      <td>229.8</td>\n",
              "      <td>229.8</td>\n",
              "      <td>2164.4</td>\n",
              "      <td>8.4</td>\n",
              "      <td>8490.0</td>\n",
              "      <td>5531486.0</td>\n",
              "      <td>38.897849</td>\n",
              "      <td>-77.029872</td>\n",
              "    </tr>\n",
              "    <tr>\n",
              "      <th>2</th>\n",
              "      <td>1964.0</td>\n",
              "      <td>330550.0</td>\n",
              "      <td>223218.0</td>\n",
              "      <td>87.8</td>\n",
              "      <td>89.0</td>\n",
              "      <td>215.6</td>\n",
              "      <td>215.0</td>\n",
              "      <td>1852.2</td>\n",
              "      <td>8.3</td>\n",
              "      <td>8749.1</td>\n",
              "      <td>3863003.0</td>\n",
              "      <td>38.904056</td>\n",
              "      <td>-77.037973</td>\n",
              "    </tr>\n",
              "    <tr>\n",
              "      <th>3</th>\n",
              "      <td>1969.0</td>\n",
              "      <td>256839.0</td>\n",
              "      <td>213067.0</td>\n",
              "      <td>47.0</td>\n",
              "      <td>46.4</td>\n",
              "      <td>147.7</td>\n",
              "      <td>145.8</td>\n",
              "      <td>1249.2</td>\n",
              "      <td>5.9</td>\n",
              "      <td>5393.8</td>\n",
              "      <td>2936445.0</td>\n",
              "      <td>38.902189</td>\n",
              "      <td>-77.041238</td>\n",
              "    </tr>\n",
              "    <tr>\n",
              "      <th>4</th>\n",
              "      <td>1975.0</td>\n",
              "      <td>370000.0</td>\n",
              "      <td>381518.0</td>\n",
              "      <td>65.7</td>\n",
              "      <td>65.7</td>\n",
              "      <td>206.3</td>\n",
              "      <td>206.3</td>\n",
              "      <td>2874.1</td>\n",
              "      <td>7.5</td>\n",
              "      <td>10422.6</td>\n",
              "      <td>7345290.0</td>\n",
              "      <td>38.904376</td>\n",
              "      <td>-77.046882</td>\n",
              "    </tr>\n",
              "  </tbody>\n",
              "</table>\n",
              "</div>\n",
              "      <button class=\"colab-df-convert\" onclick=\"convertToInteractive('df-617dac34-0f77-49ff-a342-ef7b7b71e61c')\"\n",
              "              title=\"Convert this dataframe to an interactive table.\"\n",
              "              style=\"display:none;\">\n",
              "        \n",
              "  <svg xmlns=\"http://www.w3.org/2000/svg\" height=\"24px\"viewBox=\"0 0 24 24\"\n",
              "       width=\"24px\">\n",
              "    <path d=\"M0 0h24v24H0V0z\" fill=\"none\"/>\n",
              "    <path d=\"M18.56 5.44l.94 2.06.94-2.06 2.06-.94-2.06-.94-.94-2.06-.94 2.06-2.06.94zm-11 1L8.5 8.5l.94-2.06 2.06-.94-2.06-.94L8.5 2.5l-.94 2.06-2.06.94zm10 10l.94 2.06.94-2.06 2.06-.94-2.06-.94-.94-2.06-.94 2.06-2.06.94z\"/><path d=\"M17.41 7.96l-1.37-1.37c-.4-.4-.92-.59-1.43-.59-.52 0-1.04.2-1.43.59L10.3 9.45l-7.72 7.72c-.78.78-.78 2.05 0 2.83L4 21.41c.39.39.9.59 1.41.59.51 0 1.02-.2 1.41-.59l7.78-7.78 2.81-2.81c.8-.78.8-2.07 0-2.86zM5.41 20L4 18.59l7.72-7.72 1.47 1.35L5.41 20z\"/>\n",
              "  </svg>\n",
              "      </button>\n",
              "      \n",
              "  <style>\n",
              "    .colab-df-container {\n",
              "      display:flex;\n",
              "      flex-wrap:wrap;\n",
              "      gap: 12px;\n",
              "    }\n",
              "\n",
              "    .colab-df-convert {\n",
              "      background-color: #E8F0FE;\n",
              "      border: none;\n",
              "      border-radius: 50%;\n",
              "      cursor: pointer;\n",
              "      display: none;\n",
              "      fill: #1967D2;\n",
              "      height: 32px;\n",
              "      padding: 0 0 0 0;\n",
              "      width: 32px;\n",
              "    }\n",
              "\n",
              "    .colab-df-convert:hover {\n",
              "      background-color: #E2EBFA;\n",
              "      box-shadow: 0px 1px 2px rgba(60, 64, 67, 0.3), 0px 1px 3px 1px rgba(60, 64, 67, 0.15);\n",
              "      fill: #174EA6;\n",
              "    }\n",
              "\n",
              "    [theme=dark] .colab-df-convert {\n",
              "      background-color: #3B4455;\n",
              "      fill: #D2E3FC;\n",
              "    }\n",
              "\n",
              "    [theme=dark] .colab-df-convert:hover {\n",
              "      background-color: #434B5C;\n",
              "      box-shadow: 0px 1px 3px 1px rgba(0, 0, 0, 0.15);\n",
              "      filter: drop-shadow(0px 1px 2px rgba(0, 0, 0, 0.3));\n",
              "      fill: #FFFFFF;\n",
              "    }\n",
              "  </style>\n",
              "\n",
              "      <script>\n",
              "        const buttonEl =\n",
              "          document.querySelector('#df-617dac34-0f77-49ff-a342-ef7b7b71e61c button.colab-df-convert');\n",
              "        buttonEl.style.display =\n",
              "          google.colab.kernel.accessAllowed ? 'block' : 'none';\n",
              "\n",
              "        async function convertToInteractive(key) {\n",
              "          const element = document.querySelector('#df-617dac34-0f77-49ff-a342-ef7b7b71e61c');\n",
              "          const dataTable =\n",
              "            await google.colab.kernel.invokeFunction('convertToInteractive',\n",
              "                                                     [key], {});\n",
              "          if (!dataTable) return;\n",
              "\n",
              "          const docLinkHtml = 'Like what you see? Visit the ' +\n",
              "            '<a target=\"_blank\" href=https://colab.research.google.com/notebooks/data_table.ipynb>data table notebook</a>'\n",
              "            + ' to learn more about interactive tables.';\n",
              "          element.innerHTML = '';\n",
              "          dataTable['output_type'] = 'display_data';\n",
              "          await google.colab.output.renderOutput(dataTable, element);\n",
              "          const docLink = document.createElement('div');\n",
              "          docLink.innerHTML = docLinkHtml;\n",
              "          element.appendChild(docLink);\n",
              "        }\n",
              "      </script>\n",
              "    </div>\n",
              "  </div>\n",
              "  "
            ]
          },
          "metadata": {},
          "execution_count": 58
        }
      ]
    },
    {
      "cell_type": "code",
      "source": [
        "X_categorical_data.head(3)"
      ],
      "metadata": {
        "colab": {
          "base_uri": "https://localhost:8080/",
          "height": 256
        },
        "id": "kbaEQDnObm_J",
        "outputId": "6df7f9f8-3f1b-4a78-b09c-7dd3a404de31"
      },
      "execution_count": 59,
      "outputs": [
        {
          "output_type": "execute_result",
          "data": {
            "text/plain": [
              "   report_status                                    owner_of_record ward  \\\n",
              "0  In Compliance  AUBINOE ROCKVIEW LIMITED PARTNERSHP; VICTORY I...  4.0   \n",
              "1  In Compliance                  UNION INVESTMENT REAL ESTATE GMBH  2.0   \n",
              "2  In Compliance          CESC 1101 17TH STREET LIMITED PARTNERSHIP  2.0   \n",
              "\n",
              "  postal_code   primary_ptype_self    primary_ptype_epa metered_areas_energy  \n",
              "0       20011  Multifamily Housing  Multifamily Housing       Whole Building  \n",
              "1       20005               Office               Office       Whole Building  \n",
              "2       20036               Office               Office       Whole Building  "
            ],
            "text/html": [
              "\n",
              "  <div id=\"df-cd414c62-71a1-40d7-ae40-82a3519af3b2\">\n",
              "    <div class=\"colab-df-container\">\n",
              "      <div>\n",
              "<style scoped>\n",
              "    .dataframe tbody tr th:only-of-type {\n",
              "        vertical-align: middle;\n",
              "    }\n",
              "\n",
              "    .dataframe tbody tr th {\n",
              "        vertical-align: top;\n",
              "    }\n",
              "\n",
              "    .dataframe thead th {\n",
              "        text-align: right;\n",
              "    }\n",
              "</style>\n",
              "<table border=\"1\" class=\"dataframe\">\n",
              "  <thead>\n",
              "    <tr style=\"text-align: right;\">\n",
              "      <th></th>\n",
              "      <th>report_status</th>\n",
              "      <th>owner_of_record</th>\n",
              "      <th>ward</th>\n",
              "      <th>postal_code</th>\n",
              "      <th>primary_ptype_self</th>\n",
              "      <th>primary_ptype_epa</th>\n",
              "      <th>metered_areas_energy</th>\n",
              "    </tr>\n",
              "  </thead>\n",
              "  <tbody>\n",
              "    <tr>\n",
              "      <th>0</th>\n",
              "      <td>In Compliance</td>\n",
              "      <td>AUBINOE ROCKVIEW LIMITED PARTNERSHP; VICTORY I...</td>\n",
              "      <td>4.0</td>\n",
              "      <td>20011</td>\n",
              "      <td>Multifamily Housing</td>\n",
              "      <td>Multifamily Housing</td>\n",
              "      <td>Whole Building</td>\n",
              "    </tr>\n",
              "    <tr>\n",
              "      <th>1</th>\n",
              "      <td>In Compliance</td>\n",
              "      <td>UNION INVESTMENT REAL ESTATE GMBH</td>\n",
              "      <td>2.0</td>\n",
              "      <td>20005</td>\n",
              "      <td>Office</td>\n",
              "      <td>Office</td>\n",
              "      <td>Whole Building</td>\n",
              "    </tr>\n",
              "    <tr>\n",
              "      <th>2</th>\n",
              "      <td>In Compliance</td>\n",
              "      <td>CESC 1101 17TH STREET LIMITED PARTNERSHIP</td>\n",
              "      <td>2.0</td>\n",
              "      <td>20036</td>\n",
              "      <td>Office</td>\n",
              "      <td>Office</td>\n",
              "      <td>Whole Building</td>\n",
              "    </tr>\n",
              "  </tbody>\n",
              "</table>\n",
              "</div>\n",
              "      <button class=\"colab-df-convert\" onclick=\"convertToInteractive('df-cd414c62-71a1-40d7-ae40-82a3519af3b2')\"\n",
              "              title=\"Convert this dataframe to an interactive table.\"\n",
              "              style=\"display:none;\">\n",
              "        \n",
              "  <svg xmlns=\"http://www.w3.org/2000/svg\" height=\"24px\"viewBox=\"0 0 24 24\"\n",
              "       width=\"24px\">\n",
              "    <path d=\"M0 0h24v24H0V0z\" fill=\"none\"/>\n",
              "    <path d=\"M18.56 5.44l.94 2.06.94-2.06 2.06-.94-2.06-.94-.94-2.06-.94 2.06-2.06.94zm-11 1L8.5 8.5l.94-2.06 2.06-.94-2.06-.94L8.5 2.5l-.94 2.06-2.06.94zm10 10l.94 2.06.94-2.06 2.06-.94-2.06-.94-.94-2.06-.94 2.06-2.06.94z\"/><path d=\"M17.41 7.96l-1.37-1.37c-.4-.4-.92-.59-1.43-.59-.52 0-1.04.2-1.43.59L10.3 9.45l-7.72 7.72c-.78.78-.78 2.05 0 2.83L4 21.41c.39.39.9.59 1.41.59.51 0 1.02-.2 1.41-.59l7.78-7.78 2.81-2.81c.8-.78.8-2.07 0-2.86zM5.41 20L4 18.59l7.72-7.72 1.47 1.35L5.41 20z\"/>\n",
              "  </svg>\n",
              "      </button>\n",
              "      \n",
              "  <style>\n",
              "    .colab-df-container {\n",
              "      display:flex;\n",
              "      flex-wrap:wrap;\n",
              "      gap: 12px;\n",
              "    }\n",
              "\n",
              "    .colab-df-convert {\n",
              "      background-color: #E8F0FE;\n",
              "      border: none;\n",
              "      border-radius: 50%;\n",
              "      cursor: pointer;\n",
              "      display: none;\n",
              "      fill: #1967D2;\n",
              "      height: 32px;\n",
              "      padding: 0 0 0 0;\n",
              "      width: 32px;\n",
              "    }\n",
              "\n",
              "    .colab-df-convert:hover {\n",
              "      background-color: #E2EBFA;\n",
              "      box-shadow: 0px 1px 2px rgba(60, 64, 67, 0.3), 0px 1px 3px 1px rgba(60, 64, 67, 0.15);\n",
              "      fill: #174EA6;\n",
              "    }\n",
              "\n",
              "    [theme=dark] .colab-df-convert {\n",
              "      background-color: #3B4455;\n",
              "      fill: #D2E3FC;\n",
              "    }\n",
              "\n",
              "    [theme=dark] .colab-df-convert:hover {\n",
              "      background-color: #434B5C;\n",
              "      box-shadow: 0px 1px 3px 1px rgba(0, 0, 0, 0.15);\n",
              "      filter: drop-shadow(0px 1px 2px rgba(0, 0, 0, 0.3));\n",
              "      fill: #FFFFFF;\n",
              "    }\n",
              "  </style>\n",
              "\n",
              "      <script>\n",
              "        const buttonEl =\n",
              "          document.querySelector('#df-cd414c62-71a1-40d7-ae40-82a3519af3b2 button.colab-df-convert');\n",
              "        buttonEl.style.display =\n",
              "          google.colab.kernel.accessAllowed ? 'block' : 'none';\n",
              "\n",
              "        async function convertToInteractive(key) {\n",
              "          const element = document.querySelector('#df-cd414c62-71a1-40d7-ae40-82a3519af3b2');\n",
              "          const dataTable =\n",
              "            await google.colab.kernel.invokeFunction('convertToInteractive',\n",
              "                                                     [key], {});\n",
              "          if (!dataTable) return;\n",
              "\n",
              "          const docLinkHtml = 'Like what you see? Visit the ' +\n",
              "            '<a target=\"_blank\" href=https://colab.research.google.com/notebooks/data_table.ipynb>data table notebook</a>'\n",
              "            + ' to learn more about interactive tables.';\n",
              "          element.innerHTML = '';\n",
              "          dataTable['output_type'] = 'display_data';\n",
              "          await google.colab.output.renderOutput(dataTable, element);\n",
              "          const docLink = document.createElement('div');\n",
              "          docLink.innerHTML = docLinkHtml;\n",
              "          element.appendChild(docLink);\n",
              "        }\n",
              "      </script>\n",
              "    </div>\n",
              "  </div>\n",
              "  "
            ]
          },
          "metadata": {},
          "execution_count": 59
        }
      ]
    },
    {
      "cell_type": "code",
      "source": [
        "print(\"there are (rows, columns) = \", (X_categorical_data.shape), \"in the dataframe\")"
      ],
      "metadata": {
        "id": "4T_3UDYv_Nft",
        "colab": {
          "base_uri": "https://localhost:8080/"
        },
        "outputId": "c8b8d63d-165f-496d-e732-27dd3294f01a"
      },
      "execution_count": 63,
      "outputs": [
        {
          "output_type": "stream",
          "name": "stdout",
          "text": [
            "there are (rows, columns) =  (1499, 7) in the dataframe\n"
          ]
        }
      ]
    },
    {
      "cell_type": "markdown",
      "source": [
        "## TASK 2.1: make a scatter plot to assess covariance of numerical variables"
      ],
      "metadata": {
        "id": "l5MLHK6N8Ywm"
      }
    },
    {
      "cell_type": "markdown",
      "source": [
        "### IMPORTANT!! \n",
        "\n",
        "there are going to be some **very** collinear variable - zoom in and chek them out - what are they? You will need to remove variables that are _identical_, because you obviously do not want to imput the data twice in the model - it will not improve the model and it will impact the feature importance analysis.\n",
        "\n",
        "What else looks like it should be removed? \n",
        "\n",
        "**Reason about it and explain your choices in the caption of the figure**\n",
        "\n"
      ],
      "metadata": {
        "id": "ZtXoL_JgF04s"
      }
    },
    {
      "cell_type": "code",
      "source": [
        "# THIS TAKES A LOOOONG TIME! ~10 MINUTES ON COLAB FOR ME\n",
        "# I deleted output by putting it in #, is that what you meant?\n",
        "#sns.pairplot(X_numeric_data)"
      ],
      "metadata": {
        "id": "zsWGebVX80OQ"
      },
      "execution_count": null,
      "outputs": []
    },
    {
      "cell_type": "markdown",
      "source": [
        "I didn't look at the plots as much this time around because a lot of the columns were the same as the ones I'd decided to delete for Chicago/first pass at DC. I did keep lat/long just to make it spicy this time.\n",
        "\n",
        "It's interesting: this version of the DC data must have had the natural gas values added or fixed because I dropped it for having 50% missing above, but the other version of this data set still had it here. This set also doesn't have energy star score or total site energy kbtu."
      ],
      "metadata": {
        "id": "elt8FIJTeRv6"
      }
    },
    {
      "cell_type": "code",
      "source": [
        "# checking if maybe I should have used this data? but it wouldn't import so too bad\n",
        "#moredcdata = pd.read_csv(\"https://github.com/Urban-Informatics-Lab/Open-Data-Benchmarking/blob/master/DC/dc_energy_geocoded.csv\")"
      ],
      "metadata": {
        "id": "NEar1iWDhJfg"
      },
      "execution_count": null,
      "outputs": []
    },
    {
      "cell_type": "markdown",
      "source": [
        "Dr. Bianco and I talked about what to drop! I deleted ALL the EUI ones (including \"weather-normalized\") electricity use, gas use, and GHG measures because they are basically all redundant or intra-dependent measures of energy use. "
      ],
      "metadata": {
        "id": "YcrYKxCQjvzK"
      }
    },
    {
      "cell_type": "code",
      "source": [
        "# which rows should you drop?\n",
        "X_numeric_data.drop([\"electricity_use\", \"site_eui\", \"weather_norm_site_eui\", \n",
        "                     \"source_eui\", \"weather_norm_source_eui\", \n",
        "                     \"total_ghg_emissions_intensity\", \"total_ghg_emissions\"], \n",
        "                    axis=1, inplace=True)"
      ],
      "metadata": {
        "colab": {
          "base_uri": "https://localhost:8080/"
        },
        "id": "zH6H4PV1GeqB",
        "outputId": "0f9600e4-21d0-4809-bfa8-1153e9e6acae"
      },
      "execution_count": 64,
      "outputs": [
        {
          "output_type": "stream",
          "name": "stderr",
          "text": [
            "/usr/local/lib/python3.7/dist-packages/pandas/core/frame.py:4913: SettingWithCopyWarning: \n",
            "A value is trying to be set on a copy of a slice from a DataFrame\n",
            "\n",
            "See the caveats in the documentation: https://pandas.pydata.org/pandas-docs/stable/user_guide/indexing.html#returning-a-view-versus-a-copy\n",
            "  errors=errors,\n"
          ]
        }
      ]
    },
    {
      "cell_type": "code",
      "source": [
        "X_numeric_data.describe()"
      ],
      "metadata": {
        "id": "oCLGV84IICwN",
        "colab": {
          "base_uri": "https://localhost:8080/",
          "height": 300
        },
        "outputId": "5596a3f2-d650-4198-e4ff-b13320e01854"
      },
      "execution_count": 65,
      "outputs": [
        {
          "output_type": "execute_result",
          "data": {
            "text/plain": [
              "        year_built  tax_record_floor_area  reported_gross_floor_area  \\\n",
              "count  1496.000000           1.499000e+03               1.499000e+03   \n",
              "mean   1940.156417           2.056808e+05               1.892880e+05   \n",
              "std     168.613546           2.477628e+05               2.444708e+05   \n",
              "min    1000.000000           9.171000e+03               5.982000e+03   \n",
              "25%    1945.750000           7.129800e+04               7.044300e+04   \n",
              "50%    1970.000000           1.287670e+05               1.205730e+05   \n",
              "75%    1994.000000           2.583795e+05               2.351780e+05   \n",
              "max    2017.000000           3.997572e+06               5.634890e+06   \n",
              "\n",
              "          water_use     latitude    longitude  \n",
              "count  1.290000e+03  1437.000000  1437.000000  \n",
              "mean   5.667402e+04    38.908232   -77.026888  \n",
              "std    6.550870e+05     0.024286     0.029941  \n",
              "min    0.000000e+00    38.813539   -77.100527  \n",
              "25%    2.181475e+03    38.898725   -77.044240  \n",
              "50%    4.193100e+03    38.904564   -77.031591  \n",
              "75%    7.332225e+03    38.920967   -77.011669  \n",
              "max    1.929391e+07    38.983573   -76.919927  "
            ],
            "text/html": [
              "\n",
              "  <div id=\"df-929accb9-c210-4962-b773-d3372043b570\">\n",
              "    <div class=\"colab-df-container\">\n",
              "      <div>\n",
              "<style scoped>\n",
              "    .dataframe tbody tr th:only-of-type {\n",
              "        vertical-align: middle;\n",
              "    }\n",
              "\n",
              "    .dataframe tbody tr th {\n",
              "        vertical-align: top;\n",
              "    }\n",
              "\n",
              "    .dataframe thead th {\n",
              "        text-align: right;\n",
              "    }\n",
              "</style>\n",
              "<table border=\"1\" class=\"dataframe\">\n",
              "  <thead>\n",
              "    <tr style=\"text-align: right;\">\n",
              "      <th></th>\n",
              "      <th>year_built</th>\n",
              "      <th>tax_record_floor_area</th>\n",
              "      <th>reported_gross_floor_area</th>\n",
              "      <th>water_use</th>\n",
              "      <th>latitude</th>\n",
              "      <th>longitude</th>\n",
              "    </tr>\n",
              "  </thead>\n",
              "  <tbody>\n",
              "    <tr>\n",
              "      <th>count</th>\n",
              "      <td>1496.000000</td>\n",
              "      <td>1.499000e+03</td>\n",
              "      <td>1.499000e+03</td>\n",
              "      <td>1.290000e+03</td>\n",
              "      <td>1437.000000</td>\n",
              "      <td>1437.000000</td>\n",
              "    </tr>\n",
              "    <tr>\n",
              "      <th>mean</th>\n",
              "      <td>1940.156417</td>\n",
              "      <td>2.056808e+05</td>\n",
              "      <td>1.892880e+05</td>\n",
              "      <td>5.667402e+04</td>\n",
              "      <td>38.908232</td>\n",
              "      <td>-77.026888</td>\n",
              "    </tr>\n",
              "    <tr>\n",
              "      <th>std</th>\n",
              "      <td>168.613546</td>\n",
              "      <td>2.477628e+05</td>\n",
              "      <td>2.444708e+05</td>\n",
              "      <td>6.550870e+05</td>\n",
              "      <td>0.024286</td>\n",
              "      <td>0.029941</td>\n",
              "    </tr>\n",
              "    <tr>\n",
              "      <th>min</th>\n",
              "      <td>1000.000000</td>\n",
              "      <td>9.171000e+03</td>\n",
              "      <td>5.982000e+03</td>\n",
              "      <td>0.000000e+00</td>\n",
              "      <td>38.813539</td>\n",
              "      <td>-77.100527</td>\n",
              "    </tr>\n",
              "    <tr>\n",
              "      <th>25%</th>\n",
              "      <td>1945.750000</td>\n",
              "      <td>7.129800e+04</td>\n",
              "      <td>7.044300e+04</td>\n",
              "      <td>2.181475e+03</td>\n",
              "      <td>38.898725</td>\n",
              "      <td>-77.044240</td>\n",
              "    </tr>\n",
              "    <tr>\n",
              "      <th>50%</th>\n",
              "      <td>1970.000000</td>\n",
              "      <td>1.287670e+05</td>\n",
              "      <td>1.205730e+05</td>\n",
              "      <td>4.193100e+03</td>\n",
              "      <td>38.904564</td>\n",
              "      <td>-77.031591</td>\n",
              "    </tr>\n",
              "    <tr>\n",
              "      <th>75%</th>\n",
              "      <td>1994.000000</td>\n",
              "      <td>2.583795e+05</td>\n",
              "      <td>2.351780e+05</td>\n",
              "      <td>7.332225e+03</td>\n",
              "      <td>38.920967</td>\n",
              "      <td>-77.011669</td>\n",
              "    </tr>\n",
              "    <tr>\n",
              "      <th>max</th>\n",
              "      <td>2017.000000</td>\n",
              "      <td>3.997572e+06</td>\n",
              "      <td>5.634890e+06</td>\n",
              "      <td>1.929391e+07</td>\n",
              "      <td>38.983573</td>\n",
              "      <td>-76.919927</td>\n",
              "    </tr>\n",
              "  </tbody>\n",
              "</table>\n",
              "</div>\n",
              "      <button class=\"colab-df-convert\" onclick=\"convertToInteractive('df-929accb9-c210-4962-b773-d3372043b570')\"\n",
              "              title=\"Convert this dataframe to an interactive table.\"\n",
              "              style=\"display:none;\">\n",
              "        \n",
              "  <svg xmlns=\"http://www.w3.org/2000/svg\" height=\"24px\"viewBox=\"0 0 24 24\"\n",
              "       width=\"24px\">\n",
              "    <path d=\"M0 0h24v24H0V0z\" fill=\"none\"/>\n",
              "    <path d=\"M18.56 5.44l.94 2.06.94-2.06 2.06-.94-2.06-.94-.94-2.06-.94 2.06-2.06.94zm-11 1L8.5 8.5l.94-2.06 2.06-.94-2.06-.94L8.5 2.5l-.94 2.06-2.06.94zm10 10l.94 2.06.94-2.06 2.06-.94-2.06-.94-.94-2.06-.94 2.06-2.06.94z\"/><path d=\"M17.41 7.96l-1.37-1.37c-.4-.4-.92-.59-1.43-.59-.52 0-1.04.2-1.43.59L10.3 9.45l-7.72 7.72c-.78.78-.78 2.05 0 2.83L4 21.41c.39.39.9.59 1.41.59.51 0 1.02-.2 1.41-.59l7.78-7.78 2.81-2.81c.8-.78.8-2.07 0-2.86zM5.41 20L4 18.59l7.72-7.72 1.47 1.35L5.41 20z\"/>\n",
              "  </svg>\n",
              "      </button>\n",
              "      \n",
              "  <style>\n",
              "    .colab-df-container {\n",
              "      display:flex;\n",
              "      flex-wrap:wrap;\n",
              "      gap: 12px;\n",
              "    }\n",
              "\n",
              "    .colab-df-convert {\n",
              "      background-color: #E8F0FE;\n",
              "      border: none;\n",
              "      border-radius: 50%;\n",
              "      cursor: pointer;\n",
              "      display: none;\n",
              "      fill: #1967D2;\n",
              "      height: 32px;\n",
              "      padding: 0 0 0 0;\n",
              "      width: 32px;\n",
              "    }\n",
              "\n",
              "    .colab-df-convert:hover {\n",
              "      background-color: #E2EBFA;\n",
              "      box-shadow: 0px 1px 2px rgba(60, 64, 67, 0.3), 0px 1px 3px 1px rgba(60, 64, 67, 0.15);\n",
              "      fill: #174EA6;\n",
              "    }\n",
              "\n",
              "    [theme=dark] .colab-df-convert {\n",
              "      background-color: #3B4455;\n",
              "      fill: #D2E3FC;\n",
              "    }\n",
              "\n",
              "    [theme=dark] .colab-df-convert:hover {\n",
              "      background-color: #434B5C;\n",
              "      box-shadow: 0px 1px 3px 1px rgba(0, 0, 0, 0.15);\n",
              "      filter: drop-shadow(0px 1px 2px rgba(0, 0, 0, 0.3));\n",
              "      fill: #FFFFFF;\n",
              "    }\n",
              "  </style>\n",
              "\n",
              "      <script>\n",
              "        const buttonEl =\n",
              "          document.querySelector('#df-929accb9-c210-4962-b773-d3372043b570 button.colab-df-convert');\n",
              "        buttonEl.style.display =\n",
              "          google.colab.kernel.accessAllowed ? 'block' : 'none';\n",
              "\n",
              "        async function convertToInteractive(key) {\n",
              "          const element = document.querySelector('#df-929accb9-c210-4962-b773-d3372043b570');\n",
              "          const dataTable =\n",
              "            await google.colab.kernel.invokeFunction('convertToInteractive',\n",
              "                                                     [key], {});\n",
              "          if (!dataTable) return;\n",
              "\n",
              "          const docLinkHtml = 'Like what you see? Visit the ' +\n",
              "            '<a target=\"_blank\" href=https://colab.research.google.com/notebooks/data_table.ipynb>data table notebook</a>'\n",
              "            + ' to learn more about interactive tables.';\n",
              "          element.innerHTML = '';\n",
              "          dataTable['output_type'] = 'display_data';\n",
              "          await google.colab.output.renderOutput(dataTable, element);\n",
              "          const docLink = document.createElement('div');\n",
              "          docLink.innerHTML = docLinkHtml;\n",
              "          element.appendChild(docLink);\n",
              "        }\n",
              "      </script>\n",
              "    </div>\n",
              "  </div>\n",
              "  "
            ]
          },
          "metadata": {},
          "execution_count": 65
        }
      ]
    },
    {
      "cell_type": "code",
      "source": [
        "# this does not have to be identical to my output as you may have dropped different variables\n",
        "print(\"there are (rows, columns) = \", X_numeric_data.shape, \"in the numerical variables\")"
      ],
      "metadata": {
        "colab": {
          "base_uri": "https://localhost:8080/"
        },
        "id": "cbChlcXUG2rI",
        "outputId": "3af55330-6136-42e1-b520-efd2ac8d4028"
      },
      "execution_count": 67,
      "outputs": [
        {
          "output_type": "stream",
          "name": "stdout",
          "text": [
            "there are (rows, columns) =  (1499, 6) in the numerical variables\n"
          ]
        }
      ]
    },
    {
      "cell_type": "markdown",
      "source": [
        "As they do in the original research https://github.com/Urban-Informatics-Lab/Open-Data-Benchmarking/blob/master/Lasso_RandomForest.Rmd we should transform some variables into their log values \n",
        "\n",
        "their original code (which is in R not in python!) is\n",
        "```\n",
        "x_seattle$log_total_area=log(x_seattle$gross_floor_area_total_SF)\n",
        "x_seattle$log_parking_area=log(x_seattle$gross_floor_area_parking_SF)\n",
        "x_seattle$log_bldg_area=log(x_seattle$gross_floor_area_building_SF)\n",
        "x_seattle$log_area_1=log(x_seattle$gross_floor_area_property_type_first_SF)\n",
        "\n",
        "```\n",
        "the names are a bit different\n"
      ],
      "metadata": {
        "id": "hVYsiqOK8SJp"
      }
    },
    {
      "cell_type": "code",
      "source": [
        "# note: recheck missing values \n",
        "# this is important: after I apply the log function to some variables cause log(0) = -infinity\n",
        "print(\"there are {} missing or infinity values in the numerical data\".format(X_numeric_data.isnull().sum().sum()))"
      ],
      "metadata": {
        "colab": {
          "base_uri": "https://localhost:8080/"
        },
        "id": "_1Zul4fDAiip",
        "outputId": "d68f1f35-9738-4a52-ea9d-82e560590148"
      },
      "execution_count": 68,
      "outputs": [
        {
          "output_type": "stream",
          "name": "stdout",
          "text": [
            "there are 336 missing or infinity values in the numerical data\n"
          ]
        }
      ]
    },
    {
      "cell_type": "code",
      "source": [
        "# translated to python\n",
        "X_numeric_data[\"tax_record_floor_area\"] = np.log10(X_numeric_data[\"tax_record_floor_area\"])"
      ],
      "metadata": {
        "colab": {
          "base_uri": "https://localhost:8080/"
        },
        "id": "qsJgjM5EHKhS",
        "outputId": "60fd4801-cb09-4781-b049-dad1e36e28c5"
      },
      "execution_count": 66,
      "outputs": [
        {
          "output_type": "stream",
          "name": "stderr",
          "text": [
            "/usr/local/lib/python3.7/dist-packages/ipykernel_launcher.py:1: SettingWithCopyWarning: \n",
            "A value is trying to be set on a copy of a slice from a DataFrame.\n",
            "Try using .loc[row_indexer,col_indexer] = value instead\n",
            "\n",
            "See the caveats in the documentation: https://pandas.pydata.org/pandas-docs/stable/user_guide/indexing.html#returning-a-view-versus-a-copy\n",
            "  \"\"\"Entry point for launching an IPython kernel.\n"
          ]
        }
      ]
    },
    {
      "cell_type": "code",
      "source": [
        "X_numeric_data[\"reported_gross_floor_area\"] = np.log10(X_numeric_data[\"reported_gross_floor_area\"])\n",
        "X_numeric_data[\"water_use\"] = np.log10(X_numeric_data[\"water_use\"])"
      ],
      "metadata": {
        "colab": {
          "base_uri": "https://localhost:8080/"
        },
        "id": "BOEAriU3YV7Z",
        "outputId": "f68637d2-0a19-405f-c874-0e1ccdc6e0c1"
      },
      "execution_count": 69,
      "outputs": [
        {
          "output_type": "stream",
          "name": "stderr",
          "text": [
            "/usr/local/lib/python3.7/dist-packages/ipykernel_launcher.py:1: SettingWithCopyWarning: \n",
            "A value is trying to be set on a copy of a slice from a DataFrame.\n",
            "Try using .loc[row_indexer,col_indexer] = value instead\n",
            "\n",
            "See the caveats in the documentation: https://pandas.pydata.org/pandas-docs/stable/user_guide/indexing.html#returning-a-view-versus-a-copy\n",
            "  \"\"\"Entry point for launching an IPython kernel.\n",
            "/usr/local/lib/python3.7/dist-packages/pandas/core/arraylike.py:364: RuntimeWarning: divide by zero encountered in log10\n",
            "  result = getattr(ufunc, method)(*inputs, **kwargs)\n",
            "/usr/local/lib/python3.7/dist-packages/ipykernel_launcher.py:2: SettingWithCopyWarning: \n",
            "A value is trying to be set on a copy of a slice from a DataFrame.\n",
            "Try using .loc[row_indexer,col_indexer] = value instead\n",
            "\n",
            "See the caveats in the documentation: https://pandas.pydata.org/pandas-docs/stable/user_guide/indexing.html#returning-a-view-versus-a-copy\n",
            "  \n"
          ]
        }
      ]
    },
    {
      "cell_type": "code",
      "source": [
        "print(\"number of infinite values:\", (np.isinf(X_numeric_data)).sum().sum())"
      ],
      "metadata": {
        "id": "RkNEiGU5vzxz",
        "colab": {
          "base_uri": "https://localhost:8080/"
        },
        "outputId": "73a27d34-35e4-48d1-e2b9-62c19b0a3802"
      },
      "execution_count": 70,
      "outputs": [
        {
          "output_type": "stream",
          "name": "stdout",
          "text": [
            "number of infinite values: 2\n"
          ]
        }
      ]
    },
    {
      "cell_type": "markdown",
      "metadata": {
        "id": "Da-93SxbMFCX"
      },
      "source": [
        "check what happened to missing values: they may have grown! because  log(0) = -infinity - fix infinities replacing them with NaN \n",
        "\n",
        "(in in https://github.com/Urban-Informatics-Lab/Open-Data-Benchmarking/blob/master/Lasso_RandomForest.Rmd they had replaced them with 0 but I object to that)"
      ]
    },
    {
      "cell_type": "code",
      "source": [
        "# this has to return 0 now\n",
        "X_numeric_data.replace(-np.inf, np.nan, inplace=True)\n",
        "print(\"number of infinite values:\", (np.isinf(X_numeric_data)).sum().sum())"
      ],
      "metadata": {
        "colab": {
          "base_uri": "https://localhost:8080/"
        },
        "id": "qRz_WdUVutWc",
        "outputId": "82011901-f21f-4455-b762-07620e9218f9"
      },
      "execution_count": 71,
      "outputs": [
        {
          "output_type": "stream",
          "name": "stdout",
          "text": [
            "number of infinite values: 0\n"
          ]
        },
        {
          "output_type": "stream",
          "name": "stderr",
          "text": [
            "/usr/local/lib/python3.7/dist-packages/pandas/core/frame.py:5244: SettingWithCopyWarning: \n",
            "A value is trying to be set on a copy of a slice from a DataFrame\n",
            "\n",
            "See the caveats in the documentation: https://pandas.pydata.org/pandas-docs/stable/user_guide/indexing.html#returning-a-view-versus-a-copy\n",
            "  method=method,\n"
          ]
        }
      ]
    },
    {
      "cell_type": "code",
      "source": [
        "print(\"the numerical data contains (rows, columns) = \", X_numeric_data.shape)\n",
        "print(\"there are {} missing values in the numerical data\".format(X_numeric_data.isnull().sum().sum()))"
      ],
      "metadata": {
        "colab": {
          "base_uri": "https://localhost:8080/"
        },
        "id": "hBYQpTJrBZK4",
        "outputId": "6b3cdc59-f21e-4452-b675-a9fbb5c82f73"
      },
      "execution_count": 72,
      "outputs": [
        {
          "output_type": "stream",
          "name": "stdout",
          "text": [
            "the numerical data contains (rows, columns) =  (1499, 6)\n",
            "there are 338 missing values in the numerical data\n"
          ]
        }
      ]
    },
    {
      "cell_type": "code",
      "source": [
        "#the missing data is in water use, lat, and long\n",
        "X_numeric_data.info()"
      ],
      "metadata": {
        "colab": {
          "base_uri": "https://localhost:8080/"
        },
        "id": "F7DHLRgsZVax",
        "outputId": "ae70e45e-ffe5-40e0-df6f-f9798a886b62"
      },
      "execution_count": 73,
      "outputs": [
        {
          "output_type": "stream",
          "name": "stdout",
          "text": [
            "<class 'pandas.core.frame.DataFrame'>\n",
            "Int64Index: 1499 entries, 0 to 2180\n",
            "Data columns (total 6 columns):\n",
            " #   Column                     Non-Null Count  Dtype  \n",
            "---  ------                     --------------  -----  \n",
            " 0   year_built                 1496 non-null   float64\n",
            " 1   tax_record_floor_area      1499 non-null   float64\n",
            " 2   reported_gross_floor_area  1499 non-null   float64\n",
            " 3   water_use                  1288 non-null   float64\n",
            " 4   latitude                   1437 non-null   float64\n",
            " 5   longitude                  1437 non-null   float64\n",
            "dtypes: float64(6)\n",
            "memory usage: 82.0 KB\n"
          ]
        }
      ]
    },
    {
      "cell_type": "markdown",
      "source": [
        "\n",
        "you can use `KNNImputer` on the numerical variables, but KNNImputer would fail on categorical variables so you are left with NaNs on categorical variables, which you then need to drop before you run the Random Forest\n",
        "\n",
        "\n",
        "You can impute separately the numerical and categorical variables, the numerical ones with KNNImputer and the categorical ones with SimpleImputer"
      ],
      "metadata": {
        "id": "QbpwzPij5A8z"
      }
    },
    {
      "cell_type": "markdown",
      "metadata": {
        "id": "dfQnS9eVZ7A4"
      },
      "source": [
        "## TASK 2.2 use Nearest Neighbor Imputer to impute missing values in numerical features\n",
        "\n",
        "here we are deviating from the paper. NN imputation is simpler and more common, I think it may be more useful to you in general"
      ]
    },
    {
      "cell_type": "code",
      "metadata": {
        "id": "gNLiSt1fOCz4",
        "colab": {
          "base_uri": "https://localhost:8080/"
        },
        "outputId": "165eca9f-b366-4fb1-e08b-345456b07380"
      },
      "source": [
        "imputer = KNNImputer()\n",
        "Xn = imputer.fit_transform(X_numeric_data)\n",
        "Xn"
      ],
      "execution_count": 74,
      "outputs": [
        {
          "output_type": "execute_result",
          "data": {
            "text/plain": [
              "array([[1959.        ,    4.80090258,    4.81291336,    3.84282758,\n",
              "          38.96359693,  -77.033848  ],\n",
              "       [1997.        ,    5.40063641,    5.41152375,    3.92890769,\n",
              "          38.89784861,  -77.02987163],\n",
              "       [1964.        ,    5.51923716,    5.34872921,    3.94196338,\n",
              "          38.90405585,  -77.03797318],\n",
              "       ...,\n",
              "       [1979.        ,    6.03952317,    5.161368  ,    4.15285378,\n",
              "          38.924094  ,  -77.019154  ],\n",
              "       [1952.        ,    5.21046299,    4.99500303,    2.96241669,\n",
              "          38.921564  ,  -77.021498  ],\n",
              "       [1994.        ,    5.2799269 ,    5.35218252,    4.11694628,\n",
              "          38.920882  ,  -77.017807  ]])"
            ]
          },
          "metadata": {},
          "execution_count": 74
        }
      ]
    },
    {
      "cell_type": "code",
      "source": [
        "#this was from me troubleshooting infinities\n",
        "numeric_whatswrong = pd.DataFrame(Xn)"
      ],
      "metadata": {
        "id": "n91KLbu4E-s8"
      },
      "execution_count": 75,
      "outputs": []
    },
    {
      "cell_type": "code",
      "source": [
        "#this was from me troubleshooting infinities\n",
        "numeric_whatswrong.info()"
      ],
      "metadata": {
        "colab": {
          "base_uri": "https://localhost:8080/"
        },
        "id": "kSrTPndUFL9l",
        "outputId": "68ffd4c3-fd9f-4603-f3bc-270986119137"
      },
      "execution_count": 76,
      "outputs": [
        {
          "output_type": "stream",
          "name": "stdout",
          "text": [
            "<class 'pandas.core.frame.DataFrame'>\n",
            "RangeIndex: 1499 entries, 0 to 1498\n",
            "Data columns (total 6 columns):\n",
            " #   Column  Non-Null Count  Dtype  \n",
            "---  ------  --------------  -----  \n",
            " 0   0       1499 non-null   float64\n",
            " 1   1       1499 non-null   float64\n",
            " 2   2       1499 non-null   float64\n",
            " 3   3       1499 non-null   float64\n",
            " 4   4       1499 non-null   float64\n",
            " 5   5       1499 non-null   float64\n",
            "dtypes: float64(6)\n",
            "memory usage: 70.4 KB\n"
          ]
        }
      ]
    },
    {
      "cell_type": "code",
      "source": [
        "print(\"number of infinite values:\", (np.isinf(numeric_whatswrong)).sum().sum())"
      ],
      "metadata": {
        "colab": {
          "base_uri": "https://localhost:8080/"
        },
        "id": "FUqPeLXPFUjF",
        "outputId": "5a692013-ba47-4dbb-c6d5-13183ed48768"
      },
      "execution_count": 77,
      "outputs": [
        {
          "output_type": "stream",
          "name": "stdout",
          "text": [
            "number of infinite values: 0\n"
          ]
        }
      ]
    },
    {
      "cell_type": "code",
      "source": [
        "#yay it works now\n",
        "numeric_whatswrong.describe()"
      ],
      "metadata": {
        "colab": {
          "base_uri": "https://localhost:8080/",
          "height": 300
        },
        "id": "mm2LGGipFwtl",
        "outputId": "b3eacdf9-c081-4365-c53b-9edd79343c63"
      },
      "execution_count": 78,
      "outputs": [
        {
          "output_type": "execute_result",
          "data": {
            "text/plain": [
              "                 0            1            2            3            4  \\\n",
              "count  1499.000000  1499.000000  1499.000000  1499.000000  1499.000000   \n",
              "mean   1940.251234     5.135362     5.107462     3.603135    38.908283   \n",
              "std     168.458022     0.389200     0.377456     0.611672     0.023906   \n",
              "min    1000.000000     3.962417     3.776846    -0.221849    38.813539   \n",
              "25%    1946.000000     4.853077     4.847838     3.347211    38.898743   \n",
              "50%    1971.000000     5.109805     5.081250     3.625611    38.904615   \n",
              "75%    1994.000000     5.412258     5.371397     3.885996    38.920854   \n",
              "max    2017.000000     6.601796     6.750885     7.285420    38.983573   \n",
              "\n",
              "                 5  \n",
              "count  1499.000000  \n",
              "mean    -77.026945  \n",
              "std       0.029410  \n",
              "min     -77.100527  \n",
              "25%     -77.043898  \n",
              "50%     -77.031487  \n",
              "75%     -77.012761  \n",
              "max     -76.919927  "
            ],
            "text/html": [
              "\n",
              "  <div id=\"df-796a7081-5b04-4928-8a17-3c40623dc6e0\">\n",
              "    <div class=\"colab-df-container\">\n",
              "      <div>\n",
              "<style scoped>\n",
              "    .dataframe tbody tr th:only-of-type {\n",
              "        vertical-align: middle;\n",
              "    }\n",
              "\n",
              "    .dataframe tbody tr th {\n",
              "        vertical-align: top;\n",
              "    }\n",
              "\n",
              "    .dataframe thead th {\n",
              "        text-align: right;\n",
              "    }\n",
              "</style>\n",
              "<table border=\"1\" class=\"dataframe\">\n",
              "  <thead>\n",
              "    <tr style=\"text-align: right;\">\n",
              "      <th></th>\n",
              "      <th>0</th>\n",
              "      <th>1</th>\n",
              "      <th>2</th>\n",
              "      <th>3</th>\n",
              "      <th>4</th>\n",
              "      <th>5</th>\n",
              "    </tr>\n",
              "  </thead>\n",
              "  <tbody>\n",
              "    <tr>\n",
              "      <th>count</th>\n",
              "      <td>1499.000000</td>\n",
              "      <td>1499.000000</td>\n",
              "      <td>1499.000000</td>\n",
              "      <td>1499.000000</td>\n",
              "      <td>1499.000000</td>\n",
              "      <td>1499.000000</td>\n",
              "    </tr>\n",
              "    <tr>\n",
              "      <th>mean</th>\n",
              "      <td>1940.251234</td>\n",
              "      <td>5.135362</td>\n",
              "      <td>5.107462</td>\n",
              "      <td>3.603135</td>\n",
              "      <td>38.908283</td>\n",
              "      <td>-77.026945</td>\n",
              "    </tr>\n",
              "    <tr>\n",
              "      <th>std</th>\n",
              "      <td>168.458022</td>\n",
              "      <td>0.389200</td>\n",
              "      <td>0.377456</td>\n",
              "      <td>0.611672</td>\n",
              "      <td>0.023906</td>\n",
              "      <td>0.029410</td>\n",
              "    </tr>\n",
              "    <tr>\n",
              "      <th>min</th>\n",
              "      <td>1000.000000</td>\n",
              "      <td>3.962417</td>\n",
              "      <td>3.776846</td>\n",
              "      <td>-0.221849</td>\n",
              "      <td>38.813539</td>\n",
              "      <td>-77.100527</td>\n",
              "    </tr>\n",
              "    <tr>\n",
              "      <th>25%</th>\n",
              "      <td>1946.000000</td>\n",
              "      <td>4.853077</td>\n",
              "      <td>4.847838</td>\n",
              "      <td>3.347211</td>\n",
              "      <td>38.898743</td>\n",
              "      <td>-77.043898</td>\n",
              "    </tr>\n",
              "    <tr>\n",
              "      <th>50%</th>\n",
              "      <td>1971.000000</td>\n",
              "      <td>5.109805</td>\n",
              "      <td>5.081250</td>\n",
              "      <td>3.625611</td>\n",
              "      <td>38.904615</td>\n",
              "      <td>-77.031487</td>\n",
              "    </tr>\n",
              "    <tr>\n",
              "      <th>75%</th>\n",
              "      <td>1994.000000</td>\n",
              "      <td>5.412258</td>\n",
              "      <td>5.371397</td>\n",
              "      <td>3.885996</td>\n",
              "      <td>38.920854</td>\n",
              "      <td>-77.012761</td>\n",
              "    </tr>\n",
              "    <tr>\n",
              "      <th>max</th>\n",
              "      <td>2017.000000</td>\n",
              "      <td>6.601796</td>\n",
              "      <td>6.750885</td>\n",
              "      <td>7.285420</td>\n",
              "      <td>38.983573</td>\n",
              "      <td>-76.919927</td>\n",
              "    </tr>\n",
              "  </tbody>\n",
              "</table>\n",
              "</div>\n",
              "      <button class=\"colab-df-convert\" onclick=\"convertToInteractive('df-796a7081-5b04-4928-8a17-3c40623dc6e0')\"\n",
              "              title=\"Convert this dataframe to an interactive table.\"\n",
              "              style=\"display:none;\">\n",
              "        \n",
              "  <svg xmlns=\"http://www.w3.org/2000/svg\" height=\"24px\"viewBox=\"0 0 24 24\"\n",
              "       width=\"24px\">\n",
              "    <path d=\"M0 0h24v24H0V0z\" fill=\"none\"/>\n",
              "    <path d=\"M18.56 5.44l.94 2.06.94-2.06 2.06-.94-2.06-.94-.94-2.06-.94 2.06-2.06.94zm-11 1L8.5 8.5l.94-2.06 2.06-.94-2.06-.94L8.5 2.5l-.94 2.06-2.06.94zm10 10l.94 2.06.94-2.06 2.06-.94-2.06-.94-.94-2.06-.94 2.06-2.06.94z\"/><path d=\"M17.41 7.96l-1.37-1.37c-.4-.4-.92-.59-1.43-.59-.52 0-1.04.2-1.43.59L10.3 9.45l-7.72 7.72c-.78.78-.78 2.05 0 2.83L4 21.41c.39.39.9.59 1.41.59.51 0 1.02-.2 1.41-.59l7.78-7.78 2.81-2.81c.8-.78.8-2.07 0-2.86zM5.41 20L4 18.59l7.72-7.72 1.47 1.35L5.41 20z\"/>\n",
              "  </svg>\n",
              "      </button>\n",
              "      \n",
              "  <style>\n",
              "    .colab-df-container {\n",
              "      display:flex;\n",
              "      flex-wrap:wrap;\n",
              "      gap: 12px;\n",
              "    }\n",
              "\n",
              "    .colab-df-convert {\n",
              "      background-color: #E8F0FE;\n",
              "      border: none;\n",
              "      border-radius: 50%;\n",
              "      cursor: pointer;\n",
              "      display: none;\n",
              "      fill: #1967D2;\n",
              "      height: 32px;\n",
              "      padding: 0 0 0 0;\n",
              "      width: 32px;\n",
              "    }\n",
              "\n",
              "    .colab-df-convert:hover {\n",
              "      background-color: #E2EBFA;\n",
              "      box-shadow: 0px 1px 2px rgba(60, 64, 67, 0.3), 0px 1px 3px 1px rgba(60, 64, 67, 0.15);\n",
              "      fill: #174EA6;\n",
              "    }\n",
              "\n",
              "    [theme=dark] .colab-df-convert {\n",
              "      background-color: #3B4455;\n",
              "      fill: #D2E3FC;\n",
              "    }\n",
              "\n",
              "    [theme=dark] .colab-df-convert:hover {\n",
              "      background-color: #434B5C;\n",
              "      box-shadow: 0px 1px 3px 1px rgba(0, 0, 0, 0.15);\n",
              "      filter: drop-shadow(0px 1px 2px rgba(0, 0, 0, 0.3));\n",
              "      fill: #FFFFFF;\n",
              "    }\n",
              "  </style>\n",
              "\n",
              "      <script>\n",
              "        const buttonEl =\n",
              "          document.querySelector('#df-796a7081-5b04-4928-8a17-3c40623dc6e0 button.colab-df-convert');\n",
              "        buttonEl.style.display =\n",
              "          google.colab.kernel.accessAllowed ? 'block' : 'none';\n",
              "\n",
              "        async function convertToInteractive(key) {\n",
              "          const element = document.querySelector('#df-796a7081-5b04-4928-8a17-3c40623dc6e0');\n",
              "          const dataTable =\n",
              "            await google.colab.kernel.invokeFunction('convertToInteractive',\n",
              "                                                     [key], {});\n",
              "          if (!dataTable) return;\n",
              "\n",
              "          const docLinkHtml = 'Like what you see? Visit the ' +\n",
              "            '<a target=\"_blank\" href=https://colab.research.google.com/notebooks/data_table.ipynb>data table notebook</a>'\n",
              "            + ' to learn more about interactive tables.';\n",
              "          element.innerHTML = '';\n",
              "          dataTable['output_type'] = 'display_data';\n",
              "          await google.colab.output.renderOutput(dataTable, element);\n",
              "          const docLink = document.createElement('div');\n",
              "          docLink.innerHTML = docLinkHtml;\n",
              "          element.appendChild(docLink);\n",
              "        }\n",
              "      </script>\n",
              "    </div>\n",
              "  </div>\n",
              "  "
            ]
          },
          "metadata": {},
          "execution_count": 78
        }
      ]
    },
    {
      "cell_type": "markdown",
      "metadata": {
        "id": "mW5GNpU0aFIO"
      },
      "source": [
        "## TASK 2.3 Impute missing categorial variables\n",
        "\n",
        "Ugh sooo many are missing now"
      ]
    },
    {
      "cell_type": "code",
      "source": [
        "print(\"there are {} missing  values in the categorical data\".format(X_categorical_data.isna().sum().sum()))"
      ],
      "metadata": {
        "colab": {
          "base_uri": "https://localhost:8080/"
        },
        "id": "7uwJfqrVZxhs",
        "outputId": "f120161c-1e36-4c3b-b1f5-480cf7611d6b"
      },
      "execution_count": 79,
      "outputs": [
        {
          "output_type": "stream",
          "name": "stdout",
          "text": [
            "there are 443 missing  values in the categorical data\n"
          ]
        }
      ]
    },
    {
      "cell_type": "code",
      "source": [
        "X_categorical_data.info()"
      ],
      "metadata": {
        "colab": {
          "base_uri": "https://localhost:8080/"
        },
        "id": "WsILihWAZzCc",
        "outputId": "d8d105d5-c06d-4802-d2a8-08d221050299"
      },
      "execution_count": 80,
      "outputs": [
        {
          "output_type": "stream",
          "name": "stdout",
          "text": [
            "<class 'pandas.core.frame.DataFrame'>\n",
            "Int64Index: 1499 entries, 0 to 2180\n",
            "Data columns (total 7 columns):\n",
            " #   Column                Non-Null Count  Dtype \n",
            "---  ------                --------------  ----- \n",
            " 0   report_status         1499 non-null   object\n",
            " 1   owner_of_record       1499 non-null   object\n",
            " 2   ward                  1165 non-null   object\n",
            " 3   postal_code           1499 non-null   object\n",
            " 4   primary_ptype_self    1499 non-null   object\n",
            " 5   primary_ptype_epa     1499 non-null   object\n",
            " 6   metered_areas_energy  1390 non-null   object\n",
            "dtypes: object(7)\n",
            "memory usage: 93.7+ KB\n"
          ]
        }
      ]
    },
    {
      "cell_type": "markdown",
      "source": [
        "I'm going to fill the missing metered_areas_energy with \"None\" because there are just enough missing that I'd be worried about imputing them without making the data worse."
      ],
      "metadata": {
        "id": "YG5BpSPT4_oj"
      }
    },
    {
      "cell_type": "code",
      "source": [
        "# filling metered areas energy with None\n",
        "X_categorical_data[\"metered_areas_energy\"].fillna(\"None\", inplace=True)"
      ],
      "metadata": {
        "colab": {
          "base_uri": "https://localhost:8080/"
        },
        "id": "bb44jpDdloHV",
        "outputId": "c608b272-b327-42d1-f493-26108a60ad48"
      },
      "execution_count": 81,
      "outputs": [
        {
          "output_type": "stream",
          "name": "stderr",
          "text": [
            "/usr/local/lib/python3.7/dist-packages/pandas/core/generic.py:6392: SettingWithCopyWarning: \n",
            "A value is trying to be set on a copy of a slice from a DataFrame\n",
            "\n",
            "See the caveats in the documentation: https://pandas.pydata.org/pandas-docs/stable/user_guide/indexing.html#returning-a-view-versus-a-copy\n",
            "  return self._update_inplace(result)\n"
          ]
        }
      ]
    },
    {
      "cell_type": "code",
      "source": [
        "X_categorical_data.info()"
      ],
      "metadata": {
        "colab": {
          "base_uri": "https://localhost:8080/"
        },
        "id": "7Lt8uyfpl2Us",
        "outputId": "314972df-9206-4ac6-d7cc-f10b2f611c9c"
      },
      "execution_count": 82,
      "outputs": [
        {
          "output_type": "stream",
          "name": "stdout",
          "text": [
            "<class 'pandas.core.frame.DataFrame'>\n",
            "Int64Index: 1499 entries, 0 to 2180\n",
            "Data columns (total 7 columns):\n",
            " #   Column                Non-Null Count  Dtype \n",
            "---  ------                --------------  ----- \n",
            " 0   report_status         1499 non-null   object\n",
            " 1   owner_of_record       1499 non-null   object\n",
            " 2   ward                  1165 non-null   object\n",
            " 3   postal_code           1499 non-null   object\n",
            " 4   primary_ptype_self    1499 non-null   object\n",
            " 5   primary_ptype_epa     1499 non-null   object\n",
            " 6   metered_areas_energy  1499 non-null   object\n",
            "dtypes: object(7)\n",
            "memory usage: 93.7+ KB\n"
          ]
        }
      ]
    },
    {
      "cell_type": "code",
      "source": [
        "Xc_nostringz = X_categorical_data[[\"ward\", \"postal_code\"]]"
      ],
      "metadata": {
        "id": "IA89NpZ5paPs"
      },
      "execution_count": 83,
      "outputs": []
    },
    {
      "cell_type": "code",
      "source": [
        "Xc_nostringz[\"ward\"] = pd.to_numeric(Xc_nostringz[\"ward\"], errors = \"coerce\")\n",
        "Xc_nostringz[\"postal_code\"] = pd.to_numeric(Xc_nostringz[\"postal_code\"], errors = \"coerce\")"
      ],
      "metadata": {
        "colab": {
          "base_uri": "https://localhost:8080/"
        },
        "id": "SIeynDpKqnjx",
        "outputId": "71bc5dab-ac50-4b4b-b293-2db4946e4706"
      },
      "execution_count": 84,
      "outputs": [
        {
          "output_type": "stream",
          "name": "stderr",
          "text": [
            "/usr/local/lib/python3.7/dist-packages/ipykernel_launcher.py:1: SettingWithCopyWarning: \n",
            "A value is trying to be set on a copy of a slice from a DataFrame.\n",
            "Try using .loc[row_indexer,col_indexer] = value instead\n",
            "\n",
            "See the caveats in the documentation: https://pandas.pydata.org/pandas-docs/stable/user_guide/indexing.html#returning-a-view-versus-a-copy\n",
            "  \"\"\"Entry point for launching an IPython kernel.\n",
            "/usr/local/lib/python3.7/dist-packages/ipykernel_launcher.py:2: SettingWithCopyWarning: \n",
            "A value is trying to be set on a copy of a slice from a DataFrame.\n",
            "Try using .loc[row_indexer,col_indexer] = value instead\n",
            "\n",
            "See the caveats in the documentation: https://pandas.pydata.org/pandas-docs/stable/user_guide/indexing.html#returning-a-view-versus-a-copy\n",
            "  \n"
          ]
        }
      ]
    },
    {
      "cell_type": "code",
      "source": [
        "imputer = KNNImputer(add_indicator=True, n_neighbors=3)\n",
        "Xc_nostringz = imputer.fit_transform(Xc_nostringz)\n",
        "Xc_nostringz"
      ],
      "metadata": {
        "colab": {
          "base_uri": "https://localhost:8080/"
        },
        "id": "Seajb2hQmaOU",
        "outputId": "b0a5b5c4-1c95-4c1a-db07-770c5766d84d"
      },
      "execution_count": 85,
      "outputs": [
        {
          "output_type": "execute_result",
          "data": {
            "text/plain": [
              "array([[4.0000e+00, 2.0011e+04, 0.0000e+00, 0.0000e+00],\n",
              "       [2.0000e+00, 2.0005e+04, 0.0000e+00, 0.0000e+00],\n",
              "       [2.0000e+00, 2.0036e+04, 0.0000e+00, 0.0000e+00],\n",
              "       ...,\n",
              "       [1.0000e+00, 2.0059e+04, 0.0000e+00, 0.0000e+00],\n",
              "       [1.0000e+00, 2.0059e+04, 0.0000e+00, 0.0000e+00],\n",
              "       [1.0000e+00, 2.0059e+04, 0.0000e+00, 0.0000e+00]])"
            ]
          },
          "metadata": {},
          "execution_count": 85
        }
      ]
    },
    {
      "cell_type": "code",
      "source": [
        "Xc_nostringz = pd.DataFrame(Xc_nostringz)\n",
        "Xc_nostringz.rename({0: \"ward\", 1: 'postal_code'}, axis=1, inplace=True)\n",
        "Xc_nostringz.drop(columns=[2], inplace=True)"
      ],
      "metadata": {
        "id": "0Y7qHsnGxkHM"
      },
      "execution_count": 86,
      "outputs": []
    },
    {
      "cell_type": "code",
      "source": [
        "Xc_nostringz.drop(columns=[3], inplace=True)"
      ],
      "metadata": {
        "id": "gCyJluI9z6ax"
      },
      "execution_count": 87,
      "outputs": []
    },
    {
      "cell_type": "code",
      "source": [
        "Xc_nostringz"
      ],
      "metadata": {
        "colab": {
          "base_uri": "https://localhost:8080/",
          "height": 423
        },
        "id": "b7ramoMS5Z-o",
        "outputId": "2db83ba1-08a3-46ee-9f3c-c2e039fa59f7"
      },
      "execution_count": 88,
      "outputs": [
        {
          "output_type": "execute_result",
          "data": {
            "text/plain": [
              "      ward  postal_code\n",
              "0      4.0      20011.0\n",
              "1      2.0      20005.0\n",
              "2      2.0      20036.0\n",
              "3      2.0      22202.0\n",
              "4      2.0      20037.0\n",
              "...    ...          ...\n",
              "1494   5.0      20017.0\n",
              "1495   5.0      20017.0\n",
              "1496   1.0      20059.0\n",
              "1497   1.0      20059.0\n",
              "1498   1.0      20059.0\n",
              "\n",
              "[1499 rows x 2 columns]"
            ],
            "text/html": [
              "\n",
              "  <div id=\"df-947bfe6c-4501-4837-b562-fc8e75face08\">\n",
              "    <div class=\"colab-df-container\">\n",
              "      <div>\n",
              "<style scoped>\n",
              "    .dataframe tbody tr th:only-of-type {\n",
              "        vertical-align: middle;\n",
              "    }\n",
              "\n",
              "    .dataframe tbody tr th {\n",
              "        vertical-align: top;\n",
              "    }\n",
              "\n",
              "    .dataframe thead th {\n",
              "        text-align: right;\n",
              "    }\n",
              "</style>\n",
              "<table border=\"1\" class=\"dataframe\">\n",
              "  <thead>\n",
              "    <tr style=\"text-align: right;\">\n",
              "      <th></th>\n",
              "      <th>ward</th>\n",
              "      <th>postal_code</th>\n",
              "    </tr>\n",
              "  </thead>\n",
              "  <tbody>\n",
              "    <tr>\n",
              "      <th>0</th>\n",
              "      <td>4.0</td>\n",
              "      <td>20011.0</td>\n",
              "    </tr>\n",
              "    <tr>\n",
              "      <th>1</th>\n",
              "      <td>2.0</td>\n",
              "      <td>20005.0</td>\n",
              "    </tr>\n",
              "    <tr>\n",
              "      <th>2</th>\n",
              "      <td>2.0</td>\n",
              "      <td>20036.0</td>\n",
              "    </tr>\n",
              "    <tr>\n",
              "      <th>3</th>\n",
              "      <td>2.0</td>\n",
              "      <td>22202.0</td>\n",
              "    </tr>\n",
              "    <tr>\n",
              "      <th>4</th>\n",
              "      <td>2.0</td>\n",
              "      <td>20037.0</td>\n",
              "    </tr>\n",
              "    <tr>\n",
              "      <th>...</th>\n",
              "      <td>...</td>\n",
              "      <td>...</td>\n",
              "    </tr>\n",
              "    <tr>\n",
              "      <th>1494</th>\n",
              "      <td>5.0</td>\n",
              "      <td>20017.0</td>\n",
              "    </tr>\n",
              "    <tr>\n",
              "      <th>1495</th>\n",
              "      <td>5.0</td>\n",
              "      <td>20017.0</td>\n",
              "    </tr>\n",
              "    <tr>\n",
              "      <th>1496</th>\n",
              "      <td>1.0</td>\n",
              "      <td>20059.0</td>\n",
              "    </tr>\n",
              "    <tr>\n",
              "      <th>1497</th>\n",
              "      <td>1.0</td>\n",
              "      <td>20059.0</td>\n",
              "    </tr>\n",
              "    <tr>\n",
              "      <th>1498</th>\n",
              "      <td>1.0</td>\n",
              "      <td>20059.0</td>\n",
              "    </tr>\n",
              "  </tbody>\n",
              "</table>\n",
              "<p>1499 rows × 2 columns</p>\n",
              "</div>\n",
              "      <button class=\"colab-df-convert\" onclick=\"convertToInteractive('df-947bfe6c-4501-4837-b562-fc8e75face08')\"\n",
              "              title=\"Convert this dataframe to an interactive table.\"\n",
              "              style=\"display:none;\">\n",
              "        \n",
              "  <svg xmlns=\"http://www.w3.org/2000/svg\" height=\"24px\"viewBox=\"0 0 24 24\"\n",
              "       width=\"24px\">\n",
              "    <path d=\"M0 0h24v24H0V0z\" fill=\"none\"/>\n",
              "    <path d=\"M18.56 5.44l.94 2.06.94-2.06 2.06-.94-2.06-.94-.94-2.06-.94 2.06-2.06.94zm-11 1L8.5 8.5l.94-2.06 2.06-.94-2.06-.94L8.5 2.5l-.94 2.06-2.06.94zm10 10l.94 2.06.94-2.06 2.06-.94-2.06-.94-.94-2.06-.94 2.06-2.06.94z\"/><path d=\"M17.41 7.96l-1.37-1.37c-.4-.4-.92-.59-1.43-.59-.52 0-1.04.2-1.43.59L10.3 9.45l-7.72 7.72c-.78.78-.78 2.05 0 2.83L4 21.41c.39.39.9.59 1.41.59.51 0 1.02-.2 1.41-.59l7.78-7.78 2.81-2.81c.8-.78.8-2.07 0-2.86zM5.41 20L4 18.59l7.72-7.72 1.47 1.35L5.41 20z\"/>\n",
              "  </svg>\n",
              "      </button>\n",
              "      \n",
              "  <style>\n",
              "    .colab-df-container {\n",
              "      display:flex;\n",
              "      flex-wrap:wrap;\n",
              "      gap: 12px;\n",
              "    }\n",
              "\n",
              "    .colab-df-convert {\n",
              "      background-color: #E8F0FE;\n",
              "      border: none;\n",
              "      border-radius: 50%;\n",
              "      cursor: pointer;\n",
              "      display: none;\n",
              "      fill: #1967D2;\n",
              "      height: 32px;\n",
              "      padding: 0 0 0 0;\n",
              "      width: 32px;\n",
              "    }\n",
              "\n",
              "    .colab-df-convert:hover {\n",
              "      background-color: #E2EBFA;\n",
              "      box-shadow: 0px 1px 2px rgba(60, 64, 67, 0.3), 0px 1px 3px 1px rgba(60, 64, 67, 0.15);\n",
              "      fill: #174EA6;\n",
              "    }\n",
              "\n",
              "    [theme=dark] .colab-df-convert {\n",
              "      background-color: #3B4455;\n",
              "      fill: #D2E3FC;\n",
              "    }\n",
              "\n",
              "    [theme=dark] .colab-df-convert:hover {\n",
              "      background-color: #434B5C;\n",
              "      box-shadow: 0px 1px 3px 1px rgba(0, 0, 0, 0.15);\n",
              "      filter: drop-shadow(0px 1px 2px rgba(0, 0, 0, 0.3));\n",
              "      fill: #FFFFFF;\n",
              "    }\n",
              "  </style>\n",
              "\n",
              "      <script>\n",
              "        const buttonEl =\n",
              "          document.querySelector('#df-947bfe6c-4501-4837-b562-fc8e75face08 button.colab-df-convert');\n",
              "        buttonEl.style.display =\n",
              "          google.colab.kernel.accessAllowed ? 'block' : 'none';\n",
              "\n",
              "        async function convertToInteractive(key) {\n",
              "          const element = document.querySelector('#df-947bfe6c-4501-4837-b562-fc8e75face08');\n",
              "          const dataTable =\n",
              "            await google.colab.kernel.invokeFunction('convertToInteractive',\n",
              "                                                     [key], {});\n",
              "          if (!dataTable) return;\n",
              "\n",
              "          const docLinkHtml = 'Like what you see? Visit the ' +\n",
              "            '<a target=\"_blank\" href=https://colab.research.google.com/notebooks/data_table.ipynb>data table notebook</a>'\n",
              "            + ' to learn more about interactive tables.';\n",
              "          element.innerHTML = '';\n",
              "          dataTable['output_type'] = 'display_data';\n",
              "          await google.colab.output.renderOutput(dataTable, element);\n",
              "          const docLink = document.createElement('div');\n",
              "          docLink.innerHTML = docLinkHtml;\n",
              "          element.appendChild(docLink);\n",
              "        }\n",
              "      </script>\n",
              "    </div>\n",
              "  </div>\n",
              "  "
            ]
          },
          "metadata": {},
          "execution_count": 88
        }
      ]
    },
    {
      "cell_type": "code",
      "source": [
        "Xc_nostringz = Xc_nostringz.astype(\"int\")"
      ],
      "metadata": {
        "id": "9UifwD7g5Ac2"
      },
      "execution_count": 89,
      "outputs": []
    },
    {
      "cell_type": "code",
      "source": [
        "Xc_nostringz[\"ward\"]"
      ],
      "metadata": {
        "colab": {
          "base_uri": "https://localhost:8080/"
        },
        "id": "YgO-QV_W5ekh",
        "outputId": "43c5d1cf-d115-4a3f-df39-a81e888cc39c"
      },
      "execution_count": 90,
      "outputs": [
        {
          "output_type": "execute_result",
          "data": {
            "text/plain": [
              "0       4\n",
              "1       2\n",
              "2       2\n",
              "3       2\n",
              "4       2\n",
              "       ..\n",
              "1494    5\n",
              "1495    5\n",
              "1496    1\n",
              "1497    1\n",
              "1498    1\n",
              "Name: ward, Length: 1499, dtype: int64"
            ]
          },
          "metadata": {},
          "execution_count": 90
        }
      ]
    },
    {
      "cell_type": "markdown",
      "source": [
        "Looking at this again, I see that there are many more postal codes than wards. But this might be good, since I have fewer possibilities in the missing values than the data I'm using to fill them in."
      ],
      "metadata": {
        "id": "Jqv8uLeY9dN1"
      }
    },
    {
      "cell_type": "code",
      "source": [
        "Xc_nostringz.nunique()"
      ],
      "metadata": {
        "colab": {
          "base_uri": "https://localhost:8080/"
        },
        "id": "9gdzsSTr9n5o",
        "outputId": "f8adaa35-5244-40ec-e830-d56c7effc43f"
      },
      "execution_count": 91,
      "outputs": [
        {
          "output_type": "execute_result",
          "data": {
            "text/plain": [
              "ward            8\n",
              "postal_code    44\n",
              "dtype: int64"
            ]
          },
          "metadata": {},
          "execution_count": 91
        }
      ]
    },
    {
      "cell_type": "code",
      "source": [
        "Xc_nostringz.head()"
      ],
      "metadata": {
        "colab": {
          "base_uri": "https://localhost:8080/",
          "height": 206
        },
        "id": "QW9DDEV03mqm",
        "outputId": "84665b9e-63c9-4ab8-b883-3422f43468ba"
      },
      "execution_count": 92,
      "outputs": [
        {
          "output_type": "execute_result",
          "data": {
            "text/plain": [
              "   ward  postal_code\n",
              "0     4        20011\n",
              "1     2        20005\n",
              "2     2        20036\n",
              "3     2        22202\n",
              "4     2        20037"
            ],
            "text/html": [
              "\n",
              "  <div id=\"df-90a3827c-e90a-4ab9-ad72-902e160f5562\">\n",
              "    <div class=\"colab-df-container\">\n",
              "      <div>\n",
              "<style scoped>\n",
              "    .dataframe tbody tr th:only-of-type {\n",
              "        vertical-align: middle;\n",
              "    }\n",
              "\n",
              "    .dataframe tbody tr th {\n",
              "        vertical-align: top;\n",
              "    }\n",
              "\n",
              "    .dataframe thead th {\n",
              "        text-align: right;\n",
              "    }\n",
              "</style>\n",
              "<table border=\"1\" class=\"dataframe\">\n",
              "  <thead>\n",
              "    <tr style=\"text-align: right;\">\n",
              "      <th></th>\n",
              "      <th>ward</th>\n",
              "      <th>postal_code</th>\n",
              "    </tr>\n",
              "  </thead>\n",
              "  <tbody>\n",
              "    <tr>\n",
              "      <th>0</th>\n",
              "      <td>4</td>\n",
              "      <td>20011</td>\n",
              "    </tr>\n",
              "    <tr>\n",
              "      <th>1</th>\n",
              "      <td>2</td>\n",
              "      <td>20005</td>\n",
              "    </tr>\n",
              "    <tr>\n",
              "      <th>2</th>\n",
              "      <td>2</td>\n",
              "      <td>20036</td>\n",
              "    </tr>\n",
              "    <tr>\n",
              "      <th>3</th>\n",
              "      <td>2</td>\n",
              "      <td>22202</td>\n",
              "    </tr>\n",
              "    <tr>\n",
              "      <th>4</th>\n",
              "      <td>2</td>\n",
              "      <td>20037</td>\n",
              "    </tr>\n",
              "  </tbody>\n",
              "</table>\n",
              "</div>\n",
              "      <button class=\"colab-df-convert\" onclick=\"convertToInteractive('df-90a3827c-e90a-4ab9-ad72-902e160f5562')\"\n",
              "              title=\"Convert this dataframe to an interactive table.\"\n",
              "              style=\"display:none;\">\n",
              "        \n",
              "  <svg xmlns=\"http://www.w3.org/2000/svg\" height=\"24px\"viewBox=\"0 0 24 24\"\n",
              "       width=\"24px\">\n",
              "    <path d=\"M0 0h24v24H0V0z\" fill=\"none\"/>\n",
              "    <path d=\"M18.56 5.44l.94 2.06.94-2.06 2.06-.94-2.06-.94-.94-2.06-.94 2.06-2.06.94zm-11 1L8.5 8.5l.94-2.06 2.06-.94-2.06-.94L8.5 2.5l-.94 2.06-2.06.94zm10 10l.94 2.06.94-2.06 2.06-.94-2.06-.94-.94-2.06-.94 2.06-2.06.94z\"/><path d=\"M17.41 7.96l-1.37-1.37c-.4-.4-.92-.59-1.43-.59-.52 0-1.04.2-1.43.59L10.3 9.45l-7.72 7.72c-.78.78-.78 2.05 0 2.83L4 21.41c.39.39.9.59 1.41.59.51 0 1.02-.2 1.41-.59l7.78-7.78 2.81-2.81c.8-.78.8-2.07 0-2.86zM5.41 20L4 18.59l7.72-7.72 1.47 1.35L5.41 20z\"/>\n",
              "  </svg>\n",
              "      </button>\n",
              "      \n",
              "  <style>\n",
              "    .colab-df-container {\n",
              "      display:flex;\n",
              "      flex-wrap:wrap;\n",
              "      gap: 12px;\n",
              "    }\n",
              "\n",
              "    .colab-df-convert {\n",
              "      background-color: #E8F0FE;\n",
              "      border: none;\n",
              "      border-radius: 50%;\n",
              "      cursor: pointer;\n",
              "      display: none;\n",
              "      fill: #1967D2;\n",
              "      height: 32px;\n",
              "      padding: 0 0 0 0;\n",
              "      width: 32px;\n",
              "    }\n",
              "\n",
              "    .colab-df-convert:hover {\n",
              "      background-color: #E2EBFA;\n",
              "      box-shadow: 0px 1px 2px rgba(60, 64, 67, 0.3), 0px 1px 3px 1px rgba(60, 64, 67, 0.15);\n",
              "      fill: #174EA6;\n",
              "    }\n",
              "\n",
              "    [theme=dark] .colab-df-convert {\n",
              "      background-color: #3B4455;\n",
              "      fill: #D2E3FC;\n",
              "    }\n",
              "\n",
              "    [theme=dark] .colab-df-convert:hover {\n",
              "      background-color: #434B5C;\n",
              "      box-shadow: 0px 1px 3px 1px rgba(0, 0, 0, 0.15);\n",
              "      filter: drop-shadow(0px 1px 2px rgba(0, 0, 0, 0.3));\n",
              "      fill: #FFFFFF;\n",
              "    }\n",
              "  </style>\n",
              "\n",
              "      <script>\n",
              "        const buttonEl =\n",
              "          document.querySelector('#df-90a3827c-e90a-4ab9-ad72-902e160f5562 button.colab-df-convert');\n",
              "        buttonEl.style.display =\n",
              "          google.colab.kernel.accessAllowed ? 'block' : 'none';\n",
              "\n",
              "        async function convertToInteractive(key) {\n",
              "          const element = document.querySelector('#df-90a3827c-e90a-4ab9-ad72-902e160f5562');\n",
              "          const dataTable =\n",
              "            await google.colab.kernel.invokeFunction('convertToInteractive',\n",
              "                                                     [key], {});\n",
              "          if (!dataTable) return;\n",
              "\n",
              "          const docLinkHtml = 'Like what you see? Visit the ' +\n",
              "            '<a target=\"_blank\" href=https://colab.research.google.com/notebooks/data_table.ipynb>data table notebook</a>'\n",
              "            + ' to learn more about interactive tables.';\n",
              "          element.innerHTML = '';\n",
              "          dataTable['output_type'] = 'display_data';\n",
              "          await google.colab.output.renderOutput(dataTable, element);\n",
              "          const docLink = document.createElement('div');\n",
              "          docLink.innerHTML = docLinkHtml;\n",
              "          element.appendChild(docLink);\n",
              "        }\n",
              "      </script>\n",
              "    </div>\n",
              "  </div>\n",
              "  "
            ]
          },
          "metadata": {},
          "execution_count": 92
        }
      ]
    },
    {
      "cell_type": "code",
      "source": [
        "Xc_nostringz[[\"ward\"]] = Xc_nostringz[[\"ward\"]].astype(object)\n",
        "Xc_nostringz[[\"postal_code\"]] = Xc_nostringz[[\"postal_code\"]].astype(object)"
      ],
      "metadata": {
        "id": "8aXk4T5v17Y3"
      },
      "execution_count": 93,
      "outputs": []
    },
    {
      "cell_type": "code",
      "source": [
        "X_cat = X_categorical_data.drop([\"ward\"], axis=1)"
      ],
      "metadata": {
        "id": "vYk1PGxd7rm8"
      },
      "execution_count": 94,
      "outputs": []
    },
    {
      "cell_type": "code",
      "source": [
        "X_cat.reset_index()"
      ],
      "metadata": {
        "colab": {
          "base_uri": "https://localhost:8080/",
          "height": 815
        },
        "id": "JQieF5Z98s9w",
        "outputId": "dce641dc-c240-4734-b43d-f4d107e0006c"
      },
      "execution_count": 95,
      "outputs": [
        {
          "output_type": "execute_result",
          "data": {
            "text/plain": [
              "      index              report_status  \\\n",
              "0         0              In Compliance   \n",
              "1         1              In Compliance   \n",
              "2         2              In Compliance   \n",
              "3         3              In Compliance   \n",
              "4         4              In Compliance   \n",
              "...     ...                        ...   \n",
              "1494   2163              In Compliance   \n",
              "1495   2164              In Compliance   \n",
              "1496   2167  Data under review by DOEE   \n",
              "1497   2179  Data under review by DOEE   \n",
              "1498   2180  Data under review by DOEE   \n",
              "\n",
              "                                        owner_of_record postal_code  \\\n",
              "0     AUBINOE ROCKVIEW LIMITED PARTNERSHP; VICTORY I...       20011   \n",
              "1                     UNION INVESTMENT REAL ESTATE GMBH       20005   \n",
              "2             CESC 1101 17TH STREET LIMITED PARTNERSHIP       20036   \n",
              "3           1776 K STREET ASSOCIATES & RIDDELL PARTNERS       22202   \n",
              "4                                CESC 2101 L STREET LLC       20037   \n",
              "...                                                 ...         ...   \n",
              "1494             Monroe Street Market - Brookland Works       20017   \n",
              "1495                 Monroe Street Market - Cornerstone       20017   \n",
              "1496                      HOWARD UNIVERSITY (LAND ONLY)       20059   \n",
              "1497                      HOWARD UNIVERSITY (LAND ONLY)       20059   \n",
              "1498                          THE HOWARD UNIVERSITY INC       20059   \n",
              "\n",
              "            primary_ptype_self         primary_ptype_epa metered_areas_energy  \n",
              "0          Multifamily Housing       Multifamily Housing       Whole Building  \n",
              "1                       Office                    Office       Whole Building  \n",
              "2                       Office                    Office       Whole Building  \n",
              "3                       Office                    Office       Whole Building  \n",
              "4                       Office                    Office       Whole Building  \n",
              "...                        ...                       ...                  ...  \n",
              "1494       Multifamily Housing       Multifamily Housing       Whole Building  \n",
              "1495       Multifamily Housing       Multifamily Housing       Whole Building  \n",
              "1496        College/University                     Other       Whole Building  \n",
              "1497        College/University        College/University       Whole Building  \n",
              "1498  Residence Hall/Dormitory  Residence Hall/Dormitory       Whole Building  \n",
              "\n",
              "[1499 rows x 7 columns]"
            ],
            "text/html": [
              "\n",
              "  <div id=\"df-0fef5029-3bc2-408d-a34d-95139630ddbf\">\n",
              "    <div class=\"colab-df-container\">\n",
              "      <div>\n",
              "<style scoped>\n",
              "    .dataframe tbody tr th:only-of-type {\n",
              "        vertical-align: middle;\n",
              "    }\n",
              "\n",
              "    .dataframe tbody tr th {\n",
              "        vertical-align: top;\n",
              "    }\n",
              "\n",
              "    .dataframe thead th {\n",
              "        text-align: right;\n",
              "    }\n",
              "</style>\n",
              "<table border=\"1\" class=\"dataframe\">\n",
              "  <thead>\n",
              "    <tr style=\"text-align: right;\">\n",
              "      <th></th>\n",
              "      <th>index</th>\n",
              "      <th>report_status</th>\n",
              "      <th>owner_of_record</th>\n",
              "      <th>postal_code</th>\n",
              "      <th>primary_ptype_self</th>\n",
              "      <th>primary_ptype_epa</th>\n",
              "      <th>metered_areas_energy</th>\n",
              "    </tr>\n",
              "  </thead>\n",
              "  <tbody>\n",
              "    <tr>\n",
              "      <th>0</th>\n",
              "      <td>0</td>\n",
              "      <td>In Compliance</td>\n",
              "      <td>AUBINOE ROCKVIEW LIMITED PARTNERSHP; VICTORY I...</td>\n",
              "      <td>20011</td>\n",
              "      <td>Multifamily Housing</td>\n",
              "      <td>Multifamily Housing</td>\n",
              "      <td>Whole Building</td>\n",
              "    </tr>\n",
              "    <tr>\n",
              "      <th>1</th>\n",
              "      <td>1</td>\n",
              "      <td>In Compliance</td>\n",
              "      <td>UNION INVESTMENT REAL ESTATE GMBH</td>\n",
              "      <td>20005</td>\n",
              "      <td>Office</td>\n",
              "      <td>Office</td>\n",
              "      <td>Whole Building</td>\n",
              "    </tr>\n",
              "    <tr>\n",
              "      <th>2</th>\n",
              "      <td>2</td>\n",
              "      <td>In Compliance</td>\n",
              "      <td>CESC 1101 17TH STREET LIMITED PARTNERSHIP</td>\n",
              "      <td>20036</td>\n",
              "      <td>Office</td>\n",
              "      <td>Office</td>\n",
              "      <td>Whole Building</td>\n",
              "    </tr>\n",
              "    <tr>\n",
              "      <th>3</th>\n",
              "      <td>3</td>\n",
              "      <td>In Compliance</td>\n",
              "      <td>1776 K STREET ASSOCIATES &amp; RIDDELL PARTNERS</td>\n",
              "      <td>22202</td>\n",
              "      <td>Office</td>\n",
              "      <td>Office</td>\n",
              "      <td>Whole Building</td>\n",
              "    </tr>\n",
              "    <tr>\n",
              "      <th>4</th>\n",
              "      <td>4</td>\n",
              "      <td>In Compliance</td>\n",
              "      <td>CESC 2101 L STREET LLC</td>\n",
              "      <td>20037</td>\n",
              "      <td>Office</td>\n",
              "      <td>Office</td>\n",
              "      <td>Whole Building</td>\n",
              "    </tr>\n",
              "    <tr>\n",
              "      <th>...</th>\n",
              "      <td>...</td>\n",
              "      <td>...</td>\n",
              "      <td>...</td>\n",
              "      <td>...</td>\n",
              "      <td>...</td>\n",
              "      <td>...</td>\n",
              "      <td>...</td>\n",
              "    </tr>\n",
              "    <tr>\n",
              "      <th>1494</th>\n",
              "      <td>2163</td>\n",
              "      <td>In Compliance</td>\n",
              "      <td>Monroe Street Market - Brookland Works</td>\n",
              "      <td>20017</td>\n",
              "      <td>Multifamily Housing</td>\n",
              "      <td>Multifamily Housing</td>\n",
              "      <td>Whole Building</td>\n",
              "    </tr>\n",
              "    <tr>\n",
              "      <th>1495</th>\n",
              "      <td>2164</td>\n",
              "      <td>In Compliance</td>\n",
              "      <td>Monroe Street Market - Cornerstone</td>\n",
              "      <td>20017</td>\n",
              "      <td>Multifamily Housing</td>\n",
              "      <td>Multifamily Housing</td>\n",
              "      <td>Whole Building</td>\n",
              "    </tr>\n",
              "    <tr>\n",
              "      <th>1496</th>\n",
              "      <td>2167</td>\n",
              "      <td>Data under review by DOEE</td>\n",
              "      <td>HOWARD UNIVERSITY (LAND ONLY)</td>\n",
              "      <td>20059</td>\n",
              "      <td>College/University</td>\n",
              "      <td>Other</td>\n",
              "      <td>Whole Building</td>\n",
              "    </tr>\n",
              "    <tr>\n",
              "      <th>1497</th>\n",
              "      <td>2179</td>\n",
              "      <td>Data under review by DOEE</td>\n",
              "      <td>HOWARD UNIVERSITY (LAND ONLY)</td>\n",
              "      <td>20059</td>\n",
              "      <td>College/University</td>\n",
              "      <td>College/University</td>\n",
              "      <td>Whole Building</td>\n",
              "    </tr>\n",
              "    <tr>\n",
              "      <th>1498</th>\n",
              "      <td>2180</td>\n",
              "      <td>Data under review by DOEE</td>\n",
              "      <td>THE HOWARD UNIVERSITY INC</td>\n",
              "      <td>20059</td>\n",
              "      <td>Residence Hall/Dormitory</td>\n",
              "      <td>Residence Hall/Dormitory</td>\n",
              "      <td>Whole Building</td>\n",
              "    </tr>\n",
              "  </tbody>\n",
              "</table>\n",
              "<p>1499 rows × 7 columns</p>\n",
              "</div>\n",
              "      <button class=\"colab-df-convert\" onclick=\"convertToInteractive('df-0fef5029-3bc2-408d-a34d-95139630ddbf')\"\n",
              "              title=\"Convert this dataframe to an interactive table.\"\n",
              "              style=\"display:none;\">\n",
              "        \n",
              "  <svg xmlns=\"http://www.w3.org/2000/svg\" height=\"24px\"viewBox=\"0 0 24 24\"\n",
              "       width=\"24px\">\n",
              "    <path d=\"M0 0h24v24H0V0z\" fill=\"none\"/>\n",
              "    <path d=\"M18.56 5.44l.94 2.06.94-2.06 2.06-.94-2.06-.94-.94-2.06-.94 2.06-2.06.94zm-11 1L8.5 8.5l.94-2.06 2.06-.94-2.06-.94L8.5 2.5l-.94 2.06-2.06.94zm10 10l.94 2.06.94-2.06 2.06-.94-2.06-.94-.94-2.06-.94 2.06-2.06.94z\"/><path d=\"M17.41 7.96l-1.37-1.37c-.4-.4-.92-.59-1.43-.59-.52 0-1.04.2-1.43.59L10.3 9.45l-7.72 7.72c-.78.78-.78 2.05 0 2.83L4 21.41c.39.39.9.59 1.41.59.51 0 1.02-.2 1.41-.59l7.78-7.78 2.81-2.81c.8-.78.8-2.07 0-2.86zM5.41 20L4 18.59l7.72-7.72 1.47 1.35L5.41 20z\"/>\n",
              "  </svg>\n",
              "      </button>\n",
              "      \n",
              "  <style>\n",
              "    .colab-df-container {\n",
              "      display:flex;\n",
              "      flex-wrap:wrap;\n",
              "      gap: 12px;\n",
              "    }\n",
              "\n",
              "    .colab-df-convert {\n",
              "      background-color: #E8F0FE;\n",
              "      border: none;\n",
              "      border-radius: 50%;\n",
              "      cursor: pointer;\n",
              "      display: none;\n",
              "      fill: #1967D2;\n",
              "      height: 32px;\n",
              "      padding: 0 0 0 0;\n",
              "      width: 32px;\n",
              "    }\n",
              "\n",
              "    .colab-df-convert:hover {\n",
              "      background-color: #E2EBFA;\n",
              "      box-shadow: 0px 1px 2px rgba(60, 64, 67, 0.3), 0px 1px 3px 1px rgba(60, 64, 67, 0.15);\n",
              "      fill: #174EA6;\n",
              "    }\n",
              "\n",
              "    [theme=dark] .colab-df-convert {\n",
              "      background-color: #3B4455;\n",
              "      fill: #D2E3FC;\n",
              "    }\n",
              "\n",
              "    [theme=dark] .colab-df-convert:hover {\n",
              "      background-color: #434B5C;\n",
              "      box-shadow: 0px 1px 3px 1px rgba(0, 0, 0, 0.15);\n",
              "      filter: drop-shadow(0px 1px 2px rgba(0, 0, 0, 0.3));\n",
              "      fill: #FFFFFF;\n",
              "    }\n",
              "  </style>\n",
              "\n",
              "      <script>\n",
              "        const buttonEl =\n",
              "          document.querySelector('#df-0fef5029-3bc2-408d-a34d-95139630ddbf button.colab-df-convert');\n",
              "        buttonEl.style.display =\n",
              "          google.colab.kernel.accessAllowed ? 'block' : 'none';\n",
              "\n",
              "        async function convertToInteractive(key) {\n",
              "          const element = document.querySelector('#df-0fef5029-3bc2-408d-a34d-95139630ddbf');\n",
              "          const dataTable =\n",
              "            await google.colab.kernel.invokeFunction('convertToInteractive',\n",
              "                                                     [key], {});\n",
              "          if (!dataTable) return;\n",
              "\n",
              "          const docLinkHtml = 'Like what you see? Visit the ' +\n",
              "            '<a target=\"_blank\" href=https://colab.research.google.com/notebooks/data_table.ipynb>data table notebook</a>'\n",
              "            + ' to learn more about interactive tables.';\n",
              "          element.innerHTML = '';\n",
              "          dataTable['output_type'] = 'display_data';\n",
              "          await google.colab.output.renderOutput(dataTable, element);\n",
              "          const docLink = document.createElement('div');\n",
              "          docLink.innerHTML = docLinkHtml;\n",
              "          element.appendChild(docLink);\n",
              "        }\n",
              "      </script>\n",
              "    </div>\n",
              "  </div>\n",
              "  "
            ]
          },
          "metadata": {},
          "execution_count": 95
        }
      ]
    },
    {
      "cell_type": "code",
      "source": [
        "X_cat.head()"
      ],
      "metadata": {
        "colab": {
          "base_uri": "https://localhost:8080/",
          "height": 319
        },
        "id": "c9NH3JVT-wUC",
        "outputId": "9a85bda6-4fb3-4c28-8a1f-be8e301c9093"
      },
      "execution_count": 96,
      "outputs": [
        {
          "output_type": "execute_result",
          "data": {
            "text/plain": [
              "   report_status                                    owner_of_record  \\\n",
              "0  In Compliance  AUBINOE ROCKVIEW LIMITED PARTNERSHP; VICTORY I...   \n",
              "1  In Compliance                  UNION INVESTMENT REAL ESTATE GMBH   \n",
              "2  In Compliance          CESC 1101 17TH STREET LIMITED PARTNERSHIP   \n",
              "3  In Compliance        1776 K STREET ASSOCIATES & RIDDELL PARTNERS   \n",
              "4  In Compliance                             CESC 2101 L STREET LLC   \n",
              "\n",
              "  postal_code   primary_ptype_self    primary_ptype_epa metered_areas_energy  \n",
              "0       20011  Multifamily Housing  Multifamily Housing       Whole Building  \n",
              "1       20005               Office               Office       Whole Building  \n",
              "2       20036               Office               Office       Whole Building  \n",
              "3       22202               Office               Office       Whole Building  \n",
              "4       20037               Office               Office       Whole Building  "
            ],
            "text/html": [
              "\n",
              "  <div id=\"df-bae64dd7-a7fe-4369-a233-926b231d6d7e\">\n",
              "    <div class=\"colab-df-container\">\n",
              "      <div>\n",
              "<style scoped>\n",
              "    .dataframe tbody tr th:only-of-type {\n",
              "        vertical-align: middle;\n",
              "    }\n",
              "\n",
              "    .dataframe tbody tr th {\n",
              "        vertical-align: top;\n",
              "    }\n",
              "\n",
              "    .dataframe thead th {\n",
              "        text-align: right;\n",
              "    }\n",
              "</style>\n",
              "<table border=\"1\" class=\"dataframe\">\n",
              "  <thead>\n",
              "    <tr style=\"text-align: right;\">\n",
              "      <th></th>\n",
              "      <th>report_status</th>\n",
              "      <th>owner_of_record</th>\n",
              "      <th>postal_code</th>\n",
              "      <th>primary_ptype_self</th>\n",
              "      <th>primary_ptype_epa</th>\n",
              "      <th>metered_areas_energy</th>\n",
              "    </tr>\n",
              "  </thead>\n",
              "  <tbody>\n",
              "    <tr>\n",
              "      <th>0</th>\n",
              "      <td>In Compliance</td>\n",
              "      <td>AUBINOE ROCKVIEW LIMITED PARTNERSHP; VICTORY I...</td>\n",
              "      <td>20011</td>\n",
              "      <td>Multifamily Housing</td>\n",
              "      <td>Multifamily Housing</td>\n",
              "      <td>Whole Building</td>\n",
              "    </tr>\n",
              "    <tr>\n",
              "      <th>1</th>\n",
              "      <td>In Compliance</td>\n",
              "      <td>UNION INVESTMENT REAL ESTATE GMBH</td>\n",
              "      <td>20005</td>\n",
              "      <td>Office</td>\n",
              "      <td>Office</td>\n",
              "      <td>Whole Building</td>\n",
              "    </tr>\n",
              "    <tr>\n",
              "      <th>2</th>\n",
              "      <td>In Compliance</td>\n",
              "      <td>CESC 1101 17TH STREET LIMITED PARTNERSHIP</td>\n",
              "      <td>20036</td>\n",
              "      <td>Office</td>\n",
              "      <td>Office</td>\n",
              "      <td>Whole Building</td>\n",
              "    </tr>\n",
              "    <tr>\n",
              "      <th>3</th>\n",
              "      <td>In Compliance</td>\n",
              "      <td>1776 K STREET ASSOCIATES &amp; RIDDELL PARTNERS</td>\n",
              "      <td>22202</td>\n",
              "      <td>Office</td>\n",
              "      <td>Office</td>\n",
              "      <td>Whole Building</td>\n",
              "    </tr>\n",
              "    <tr>\n",
              "      <th>4</th>\n",
              "      <td>In Compliance</td>\n",
              "      <td>CESC 2101 L STREET LLC</td>\n",
              "      <td>20037</td>\n",
              "      <td>Office</td>\n",
              "      <td>Office</td>\n",
              "      <td>Whole Building</td>\n",
              "    </tr>\n",
              "  </tbody>\n",
              "</table>\n",
              "</div>\n",
              "      <button class=\"colab-df-convert\" onclick=\"convertToInteractive('df-bae64dd7-a7fe-4369-a233-926b231d6d7e')\"\n",
              "              title=\"Convert this dataframe to an interactive table.\"\n",
              "              style=\"display:none;\">\n",
              "        \n",
              "  <svg xmlns=\"http://www.w3.org/2000/svg\" height=\"24px\"viewBox=\"0 0 24 24\"\n",
              "       width=\"24px\">\n",
              "    <path d=\"M0 0h24v24H0V0z\" fill=\"none\"/>\n",
              "    <path d=\"M18.56 5.44l.94 2.06.94-2.06 2.06-.94-2.06-.94-.94-2.06-.94 2.06-2.06.94zm-11 1L8.5 8.5l.94-2.06 2.06-.94-2.06-.94L8.5 2.5l-.94 2.06-2.06.94zm10 10l.94 2.06.94-2.06 2.06-.94-2.06-.94-.94-2.06-.94 2.06-2.06.94z\"/><path d=\"M17.41 7.96l-1.37-1.37c-.4-.4-.92-.59-1.43-.59-.52 0-1.04.2-1.43.59L10.3 9.45l-7.72 7.72c-.78.78-.78 2.05 0 2.83L4 21.41c.39.39.9.59 1.41.59.51 0 1.02-.2 1.41-.59l7.78-7.78 2.81-2.81c.8-.78.8-2.07 0-2.86zM5.41 20L4 18.59l7.72-7.72 1.47 1.35L5.41 20z\"/>\n",
              "  </svg>\n",
              "      </button>\n",
              "      \n",
              "  <style>\n",
              "    .colab-df-container {\n",
              "      display:flex;\n",
              "      flex-wrap:wrap;\n",
              "      gap: 12px;\n",
              "    }\n",
              "\n",
              "    .colab-df-convert {\n",
              "      background-color: #E8F0FE;\n",
              "      border: none;\n",
              "      border-radius: 50%;\n",
              "      cursor: pointer;\n",
              "      display: none;\n",
              "      fill: #1967D2;\n",
              "      height: 32px;\n",
              "      padding: 0 0 0 0;\n",
              "      width: 32px;\n",
              "    }\n",
              "\n",
              "    .colab-df-convert:hover {\n",
              "      background-color: #E2EBFA;\n",
              "      box-shadow: 0px 1px 2px rgba(60, 64, 67, 0.3), 0px 1px 3px 1px rgba(60, 64, 67, 0.15);\n",
              "      fill: #174EA6;\n",
              "    }\n",
              "\n",
              "    [theme=dark] .colab-df-convert {\n",
              "      background-color: #3B4455;\n",
              "      fill: #D2E3FC;\n",
              "    }\n",
              "\n",
              "    [theme=dark] .colab-df-convert:hover {\n",
              "      background-color: #434B5C;\n",
              "      box-shadow: 0px 1px 3px 1px rgba(0, 0, 0, 0.15);\n",
              "      filter: drop-shadow(0px 1px 2px rgba(0, 0, 0, 0.3));\n",
              "      fill: #FFFFFF;\n",
              "    }\n",
              "  </style>\n",
              "\n",
              "      <script>\n",
              "        const buttonEl =\n",
              "          document.querySelector('#df-bae64dd7-a7fe-4369-a233-926b231d6d7e button.colab-df-convert');\n",
              "        buttonEl.style.display =\n",
              "          google.colab.kernel.accessAllowed ? 'block' : 'none';\n",
              "\n",
              "        async function convertToInteractive(key) {\n",
              "          const element = document.querySelector('#df-bae64dd7-a7fe-4369-a233-926b231d6d7e');\n",
              "          const dataTable =\n",
              "            await google.colab.kernel.invokeFunction('convertToInteractive',\n",
              "                                                     [key], {});\n",
              "          if (!dataTable) return;\n",
              "\n",
              "          const docLinkHtml = 'Like what you see? Visit the ' +\n",
              "            '<a target=\"_blank\" href=https://colab.research.google.com/notebooks/data_table.ipynb>data table notebook</a>'\n",
              "            + ' to learn more about interactive tables.';\n",
              "          element.innerHTML = '';\n",
              "          dataTable['output_type'] = 'display_data';\n",
              "          await google.colab.output.renderOutput(dataTable, element);\n",
              "          const docLink = document.createElement('div');\n",
              "          docLink.innerHTML = docLinkHtml;\n",
              "          element.appendChild(docLink);\n",
              "        }\n",
              "      </script>\n",
              "    </div>\n",
              "  </div>\n",
              "  "
            ]
          },
          "metadata": {},
          "execution_count": 96
        }
      ]
    },
    {
      "cell_type": "code",
      "source": [
        "Xc = X_cat.join(Xc_nostringz, rsuffix=\"right\")"
      ],
      "metadata": {
        "id": "rNjpSvxk0Hdx"
      },
      "execution_count": 97,
      "outputs": []
    },
    {
      "cell_type": "code",
      "source": [
        "#another way to do this, gave slightly different results originally\n",
        "Xc2 = X_cat.merge(Xc_nostringz, right_index=True, left_index=True)"
      ],
      "metadata": {
        "id": "my8QDRF5gxxB"
      },
      "execution_count": 98,
      "outputs": []
    },
    {
      "cell_type": "markdown",
      "source": [
        "#Where Coryn was Stuck\n",
        "\n",
        "Why did it only impute ~60 of my missing wards? Did the other ones not have enough info? Where did all those zip codes go?"
      ],
      "metadata": {
        "id": "i20-MfSIA-p7"
      }
    },
    {
      "cell_type": "markdown",
      "source": [
        "# How Fed Fixed It\n",
        "Tho we still don't know why it was either giving me 1507 rows with Nas for some of the wards and one column of zipcodes (though fewer Na wards than the original!) or giving me full rows but fewer than 1507 for everything."
      ],
      "metadata": {
        "id": "j_s65LXj5hV7"
      }
    },
    {
      "cell_type": "code",
      "source": [
        "Xc_nostringz.index = list(range(Xc_nostringz.shape[0]))\n",
        "X_cat.index = list(range(Xc_nostringz.shape[0]))"
      ],
      "metadata": {
        "id": "0SEqUBm2kO4y"
      },
      "execution_count": 99,
      "outputs": []
    },
    {
      "cell_type": "code",
      "source": [
        "X_cat = X_cat.join(Xc_nostringz, rsuffix=\"right\")"
      ],
      "metadata": {
        "id": "Q4kI3H9S-naI"
      },
      "execution_count": 100,
      "outputs": []
    },
    {
      "cell_type": "code",
      "source": [
        "X_cat.info()"
      ],
      "metadata": {
        "colab": {
          "base_uri": "https://localhost:8080/"
        },
        "id": "gyuMzeop-ptv",
        "outputId": "fc0d7a0a-472b-45ad-e8b0-6f04732583af"
      },
      "execution_count": 101,
      "outputs": [
        {
          "output_type": "stream",
          "name": "stdout",
          "text": [
            "<class 'pandas.core.frame.DataFrame'>\n",
            "Int64Index: 1499 entries, 0 to 1498\n",
            "Data columns (total 8 columns):\n",
            " #   Column                Non-Null Count  Dtype \n",
            "---  ------                --------------  ----- \n",
            " 0   report_status         1499 non-null   object\n",
            " 1   owner_of_record       1499 non-null   object\n",
            " 2   postal_code           1499 non-null   object\n",
            " 3   primary_ptype_self    1499 non-null   object\n",
            " 4   primary_ptype_epa     1499 non-null   object\n",
            " 5   metered_areas_energy  1499 non-null   object\n",
            " 6   ward                  1499 non-null   object\n",
            " 7   postal_coderight      1499 non-null   object\n",
            "dtypes: object(8)\n",
            "memory usage: 137.7+ KB\n"
          ]
        }
      ]
    },
    {
      "cell_type": "markdown",
      "source": [
        "# TASK 3 One Hot Encode the Categorical Variables\n",
        "\n",
        "Hint: Once you have done the fit and the transformation, which gives you the transformed data according to the new encoding, what you get is normally a sparse matrix. In principle there is an argument `sparse` to `OneHotEncoder` which should prevent this and give you a dense matrix, which is much easier to handle (consider asking me or looking up what is a sparse matrix!). That attribute did not work for me so once I applied the new encoding I converted the result to a dense matrix as \n",
        "`Xc = Xc.todense()`\n",
        "\n",
        "Finally, you will need to use a specific method to get the new names of the variables. Its a method of your model (which I called ohe below) and you can find it in this page here https://scikit-learn.org/stable/modules/generated/sklearn.preprocessing.OneHotEncoder.html"
      ],
      "metadata": {
        "id": "7ryRb65ux_rX"
      }
    },
    {
      "cell_type": "code",
      "source": [
        "X_cat.describe()"
      ],
      "metadata": {
        "colab": {
          "base_uri": "https://localhost:8080/",
          "height": 308
        },
        "id": "22ujokcD-G8G",
        "outputId": "470a1623-e8ca-4569-b8e8-0a6dc5aafb79"
      },
      "execution_count": 102,
      "outputs": [
        {
          "output_type": "execute_result",
          "data": {
            "text/plain": [
              "        report_status                                    owner_of_record  \\\n",
              "count            1499                                               1499   \n",
              "unique              2                                               1087   \n",
              "top     In Compliance  GOVERNMENT OF THE DISTRICT OF COLUMBIA DEPARTM...   \n",
              "freq             1432                                                197   \n",
              "\n",
              "       postal_code primary_ptype_self primary_ptype_epa metered_areas_energy  \\\n",
              "count         1499               1499              1499                 1499   \n",
              "unique          52                 46                46                    4   \n",
              "top          20005             Office            Office       Whole Building   \n",
              "freq           142                502               494                 1368   \n",
              "\n",
              "        ward  postal_coderight  \n",
              "count   1499              1499  \n",
              "unique     8                44  \n",
              "top        2             20005  \n",
              "freq     629               142  "
            ],
            "text/html": [
              "\n",
              "  <div id=\"df-19d9c69b-1130-45aa-a690-9ad22154fb23\">\n",
              "    <div class=\"colab-df-container\">\n",
              "      <div>\n",
              "<style scoped>\n",
              "    .dataframe tbody tr th:only-of-type {\n",
              "        vertical-align: middle;\n",
              "    }\n",
              "\n",
              "    .dataframe tbody tr th {\n",
              "        vertical-align: top;\n",
              "    }\n",
              "\n",
              "    .dataframe thead th {\n",
              "        text-align: right;\n",
              "    }\n",
              "</style>\n",
              "<table border=\"1\" class=\"dataframe\">\n",
              "  <thead>\n",
              "    <tr style=\"text-align: right;\">\n",
              "      <th></th>\n",
              "      <th>report_status</th>\n",
              "      <th>owner_of_record</th>\n",
              "      <th>postal_code</th>\n",
              "      <th>primary_ptype_self</th>\n",
              "      <th>primary_ptype_epa</th>\n",
              "      <th>metered_areas_energy</th>\n",
              "      <th>ward</th>\n",
              "      <th>postal_coderight</th>\n",
              "    </tr>\n",
              "  </thead>\n",
              "  <tbody>\n",
              "    <tr>\n",
              "      <th>count</th>\n",
              "      <td>1499</td>\n",
              "      <td>1499</td>\n",
              "      <td>1499</td>\n",
              "      <td>1499</td>\n",
              "      <td>1499</td>\n",
              "      <td>1499</td>\n",
              "      <td>1499</td>\n",
              "      <td>1499</td>\n",
              "    </tr>\n",
              "    <tr>\n",
              "      <th>unique</th>\n",
              "      <td>2</td>\n",
              "      <td>1087</td>\n",
              "      <td>52</td>\n",
              "      <td>46</td>\n",
              "      <td>46</td>\n",
              "      <td>4</td>\n",
              "      <td>8</td>\n",
              "      <td>44</td>\n",
              "    </tr>\n",
              "    <tr>\n",
              "      <th>top</th>\n",
              "      <td>In Compliance</td>\n",
              "      <td>GOVERNMENT OF THE DISTRICT OF COLUMBIA DEPARTM...</td>\n",
              "      <td>20005</td>\n",
              "      <td>Office</td>\n",
              "      <td>Office</td>\n",
              "      <td>Whole Building</td>\n",
              "      <td>2</td>\n",
              "      <td>20005</td>\n",
              "    </tr>\n",
              "    <tr>\n",
              "      <th>freq</th>\n",
              "      <td>1432</td>\n",
              "      <td>197</td>\n",
              "      <td>142</td>\n",
              "      <td>502</td>\n",
              "      <td>494</td>\n",
              "      <td>1368</td>\n",
              "      <td>629</td>\n",
              "      <td>142</td>\n",
              "    </tr>\n",
              "  </tbody>\n",
              "</table>\n",
              "</div>\n",
              "      <button class=\"colab-df-convert\" onclick=\"convertToInteractive('df-19d9c69b-1130-45aa-a690-9ad22154fb23')\"\n",
              "              title=\"Convert this dataframe to an interactive table.\"\n",
              "              style=\"display:none;\">\n",
              "        \n",
              "  <svg xmlns=\"http://www.w3.org/2000/svg\" height=\"24px\"viewBox=\"0 0 24 24\"\n",
              "       width=\"24px\">\n",
              "    <path d=\"M0 0h24v24H0V0z\" fill=\"none\"/>\n",
              "    <path d=\"M18.56 5.44l.94 2.06.94-2.06 2.06-.94-2.06-.94-.94-2.06-.94 2.06-2.06.94zm-11 1L8.5 8.5l.94-2.06 2.06-.94-2.06-.94L8.5 2.5l-.94 2.06-2.06.94zm10 10l.94 2.06.94-2.06 2.06-.94-2.06-.94-.94-2.06-.94 2.06-2.06.94z\"/><path d=\"M17.41 7.96l-1.37-1.37c-.4-.4-.92-.59-1.43-.59-.52 0-1.04.2-1.43.59L10.3 9.45l-7.72 7.72c-.78.78-.78 2.05 0 2.83L4 21.41c.39.39.9.59 1.41.59.51 0 1.02-.2 1.41-.59l7.78-7.78 2.81-2.81c.8-.78.8-2.07 0-2.86zM5.41 20L4 18.59l7.72-7.72 1.47 1.35L5.41 20z\"/>\n",
              "  </svg>\n",
              "      </button>\n",
              "      \n",
              "  <style>\n",
              "    .colab-df-container {\n",
              "      display:flex;\n",
              "      flex-wrap:wrap;\n",
              "      gap: 12px;\n",
              "    }\n",
              "\n",
              "    .colab-df-convert {\n",
              "      background-color: #E8F0FE;\n",
              "      border: none;\n",
              "      border-radius: 50%;\n",
              "      cursor: pointer;\n",
              "      display: none;\n",
              "      fill: #1967D2;\n",
              "      height: 32px;\n",
              "      padding: 0 0 0 0;\n",
              "      width: 32px;\n",
              "    }\n",
              "\n",
              "    .colab-df-convert:hover {\n",
              "      background-color: #E2EBFA;\n",
              "      box-shadow: 0px 1px 2px rgba(60, 64, 67, 0.3), 0px 1px 3px 1px rgba(60, 64, 67, 0.15);\n",
              "      fill: #174EA6;\n",
              "    }\n",
              "\n",
              "    [theme=dark] .colab-df-convert {\n",
              "      background-color: #3B4455;\n",
              "      fill: #D2E3FC;\n",
              "    }\n",
              "\n",
              "    [theme=dark] .colab-df-convert:hover {\n",
              "      background-color: #434B5C;\n",
              "      box-shadow: 0px 1px 3px 1px rgba(0, 0, 0, 0.15);\n",
              "      filter: drop-shadow(0px 1px 2px rgba(0, 0, 0, 0.3));\n",
              "      fill: #FFFFFF;\n",
              "    }\n",
              "  </style>\n",
              "\n",
              "      <script>\n",
              "        const buttonEl =\n",
              "          document.querySelector('#df-19d9c69b-1130-45aa-a690-9ad22154fb23 button.colab-df-convert');\n",
              "        buttonEl.style.display =\n",
              "          google.colab.kernel.accessAllowed ? 'block' : 'none';\n",
              "\n",
              "        async function convertToInteractive(key) {\n",
              "          const element = document.querySelector('#df-19d9c69b-1130-45aa-a690-9ad22154fb23');\n",
              "          const dataTable =\n",
              "            await google.colab.kernel.invokeFunction('convertToInteractive',\n",
              "                                                     [key], {});\n",
              "          if (!dataTable) return;\n",
              "\n",
              "          const docLinkHtml = 'Like what you see? Visit the ' +\n",
              "            '<a target=\"_blank\" href=https://colab.research.google.com/notebooks/data_table.ipynb>data table notebook</a>'\n",
              "            + ' to learn more about interactive tables.';\n",
              "          element.innerHTML = '';\n",
              "          dataTable['output_type'] = 'display_data';\n",
              "          await google.colab.output.renderOutput(dataTable, element);\n",
              "          const docLink = document.createElement('div');\n",
              "          docLink.innerHTML = docLinkHtml;\n",
              "          element.appendChild(docLink);\n",
              "        }\n",
              "      </script>\n",
              "    </div>\n",
              "  </div>\n",
              "  "
            ]
          },
          "metadata": {},
          "execution_count": 102
        }
      ]
    },
    {
      "cell_type": "markdown",
      "source": [
        "Ooops where I went wrong AGAIN was one hot encoding the original data, not the fixed data!"
      ],
      "metadata": {
        "id": "Hx32k6bs-MX1"
      }
    },
    {
      "cell_type": "code",
      "metadata": {
        "id": "BJoES_oBQBIl",
        "colab": {
          "base_uri": "https://localhost:8080/"
        },
        "outputId": "132c2029-9956-47b0-cb73-34b6a54a1c94"
      },
      "source": [
        "# One Hot Encoding\n",
        "ohe = OneHotEncoder(sparse=False).fit(X_cat)\n",
        "Xc = ohe.transform(X_cat)\n",
        "Xc"
      ],
      "execution_count": 103,
      "outputs": [
        {
          "output_type": "execute_result",
          "data": {
            "text/plain": [
              "array([[0., 1., 0., ..., 0., 0., 0.],\n",
              "       [0., 1., 0., ..., 0., 0., 0.],\n",
              "       [0., 1., 0., ..., 0., 0., 0.],\n",
              "       ...,\n",
              "       [1., 0., 0., ..., 0., 0., 0.],\n",
              "       [1., 0., 0., ..., 0., 0., 0.],\n",
              "       [1., 0., 0., ..., 0., 0., 0.]])"
            ]
          },
          "metadata": {},
          "execution_count": 103
        }
      ]
    },
    {
      "cell_type": "code",
      "source": [
        "#get the names of the features after the encoding is done\n",
        "feature_name_cat = ohe.get_feature_names_out()\n",
        "feature_name_cat"
      ],
      "metadata": {
        "id": "IuLhVV3SBlPb",
        "colab": {
          "base_uri": "https://localhost:8080/"
        },
        "outputId": "684f3ca9-0784-45e5-c729-c16603634e10"
      },
      "execution_count": 104,
      "outputs": [
        {
          "output_type": "execute_result",
          "data": {
            "text/plain": [
              "array(['report_status_Data under review by DOEE',\n",
              "       'report_status_In Compliance',\n",
              "       'owner_of_record_\"11TH & G ST INVESTORS', ...,\n",
              "       'postal_coderight_200171566', 'postal_coderight_200242459',\n",
              "       'postal_coderight_200362103'], dtype=object)"
            ]
          },
          "metadata": {},
          "execution_count": 104
        }
      ]
    },
    {
      "cell_type": "code",
      "source": [
        "Xc.shape"
      ],
      "metadata": {
        "colab": {
          "base_uri": "https://localhost:8080/"
        },
        "id": "AnepOM3taW3l",
        "outputId": "7ddb6915-de02-4bad-f682-ae4227581ee1"
      },
      "execution_count": 105,
      "outputs": [
        {
          "output_type": "execute_result",
          "data": {
            "text/plain": [
              "(1499, 1289)"
            ]
          },
          "metadata": {},
          "execution_count": 105
        }
      ]
    },
    {
      "cell_type": "markdown",
      "metadata": {
        "id": "3Wd7WBC6fSSI"
      },
      "source": [
        "# Task 4 recombine your numerical and categorical imput features and split your data into training and testing"
      ]
    },
    {
      "cell_type": "code",
      "metadata": {
        "id": "eq9FKlTgOsvX",
        "outputId": "9ef0e71d-3db3-4cbd-efbb-047c3215eec3",
        "colab": {
          "base_uri": "https://localhost:8080/"
        }
      },
      "source": [
        "Xn.shape"
      ],
      "execution_count": 106,
      "outputs": [
        {
          "output_type": "execute_result",
          "data": {
            "text/plain": [
              "(1499, 6)"
            ]
          },
          "metadata": {},
          "execution_count": 106
        }
      ]
    },
    {
      "cell_type": "code",
      "metadata": {
        "id": "ob2Nd1_pTeAx",
        "outputId": "ded11f69-c77c-4596-8406-ce357726f5b1",
        "colab": {
          "base_uri": "https://localhost:8080/"
        }
      },
      "source": [
        "Xc.shape"
      ],
      "execution_count": 107,
      "outputs": [
        {
          "output_type": "execute_result",
          "data": {
            "text/plain": [
              "(1499, 1289)"
            ]
          },
          "metadata": {},
          "execution_count": 107
        }
      ]
    },
    {
      "cell_type": "code",
      "metadata": {
        "id": "0taJGPcRTfLN",
        "outputId": "ac5a3c43-a8dd-4f71-9b3c-9108a5eaeca1",
        "colab": {
          "base_uri": "https://localhost:8080/"
        }
      },
      "source": [
        "X = np.hstack([Xn, Xc])\n",
        "X.shape"
      ],
      "execution_count": 108,
      "outputs": [
        {
          "output_type": "execute_result",
          "data": {
            "text/plain": [
              "(1499, 1295)"
            ]
          },
          "metadata": {},
          "execution_count": 108
        }
      ]
    },
    {
      "cell_type": "code",
      "source": [
        "print(\"The dataset has {} features (!!!)\".format(X.shape[1]))"
      ],
      "metadata": {
        "colab": {
          "base_uri": "https://localhost:8080/"
        },
        "id": "Q-1tDyqg2HCC",
        "outputId": "32df738b-a5f7-436d-e10a-bc73fbf32a72"
      },
      "execution_count": 109,
      "outputs": [
        {
          "output_type": "stream",
          "name": "stdout",
          "text": [
            "The dataset has 1295 features (!!!)\n"
          ]
        }
      ]
    },
    {
      "cell_type": "code",
      "metadata": {
        "id": "WCUUattUUfqR",
        "colab": {
          "base_uri": "https://localhost:8080/"
        },
        "outputId": "7d9b5f5f-6c6e-4168-af7f-5c0c68c410ca"
      },
      "source": [
        "# make a train and test dataset\n",
        "X_train, X_test, y_train, y_test = train_test_split(X, y, train_size=0.75, random_state=72)\n",
        "X_train.shape, X_test.shape, y_train.shape, y_test.shape"
      ],
      "execution_count": 115,
      "outputs": [
        {
          "output_type": "execute_result",
          "data": {
            "text/plain": [
              "((1124, 1295), (375, 1295), (1124,), (375,))"
            ]
          },
          "metadata": {},
          "execution_count": 115
        }
      ]
    },
    {
      "cell_type": "markdown",
      "source": [
        "Tbh I didn't mess with the train and random state settings this time because I need to move on with my life."
      ],
      "metadata": {
        "id": "mDY-bfoncC30"
      }
    },
    {
      "cell_type": "markdown",
      "metadata": {
        "id": "ao-6jRG0fdNT"
      },
      "source": [
        "# TASK 5 run a random forest REGRESSION model\n",
        "\n",
        "report the score on the training and test data and identify the most important features"
      ]
    },
    {
      "cell_type": "code",
      "metadata": {
        "id": "kEiFt_htTjNF",
        "outputId": "d42387a6-cb69-4101-a02a-0e311ac8ab8f",
        "colab": {
          "base_uri": "https://localhost:8080/"
        }
      },
      "source": [
        "#I tried a few different max depths here.\n",
        "rf = RandomForestRegressor(max_depth=4)\n",
        "rf.fit(X_train, y_train)\n",
        "print(\"accuracy on training data {:.2}\".format(rf.score(X_train, y_train)))"
      ],
      "execution_count": 116,
      "outputs": [
        {
          "output_type": "stream",
          "name": "stdout",
          "text": [
            "accuracy on training data 0.73\n"
          ]
        }
      ]
    },
    {
      "cell_type": "markdown",
      "source": [
        "# Model Results and Analysis"
      ],
      "metadata": {
        "id": "q1eoOhpcgldX"
      }
    },
    {
      "cell_type": "code",
      "metadata": {
        "id": "ymTuhJURT8hC",
        "colab": {
          "base_uri": "https://localhost:8080/"
        },
        "outputId": "67fdacda-fd35-434a-fe5e-4e66237fe1a8"
      },
      "source": [
        "print (\"the model test accuracy is {:.2}\".format(rf.score(X_test, y_test)))"
      ],
      "execution_count": 117,
      "outputs": [
        {
          "output_type": "stream",
          "name": "stdout",
          "text": [
            "the model test accuracy is 0.62\n"
          ]
        }
      ]
    },
    {
      "cell_type": "markdown",
      "source": [
        "Oooh this one has a much worse test and training and test vs training performance than my Chicago one!"
      ],
      "metadata": {
        "id": "wAhnxbcLcTq4"
      }
    },
    {
      "cell_type": "code",
      "metadata": {
        "id": "jX2RquwBUT0a",
        "colab": {
          "base_uri": "https://localhost:8080/"
        },
        "outputId": "ecb2d594-0bba-495a-ea6a-f102733e49a8"
      },
      "source": [
        "#this is how you see the importance of the features\n",
        "rf.feature_importances_[:10]"
      ],
      "execution_count": 118,
      "outputs": [
        {
          "output_type": "execute_result",
          "data": {
            "text/plain": [
              "array([3.74532648e-03, 4.00535057e-02, 7.39741813e-01, 1.83920898e-02,\n",
              "       4.65920475e-03, 5.51248911e-03, 5.04546632e-04, 5.46372188e-04,\n",
              "       0.00000000e+00, 0.00000000e+00])"
            ]
          },
          "metadata": {},
          "execution_count": 118
        }
      ]
    },
    {
      "cell_type": "code",
      "source": [
        "# One thing I tried\n",
        "#feature_names = list(X_train.columns.values)"
      ],
      "metadata": {
        "id": "svSq08IAhRUq"
      },
      "execution_count": 119,
      "outputs": []
    },
    {
      "cell_type": "code",
      "source": [
        "# making updated array of feature/column names (numeric then categorical)\n",
        "columns = np.concatenate([X_numeric_data.columns, feature_name_cat])\n",
        "#columns"
      ],
      "metadata": {
        "id": "L2jT9ZgYfQwQ"
      },
      "execution_count": 120,
      "outputs": []
    },
    {
      "cell_type": "code",
      "source": [
        "#creating an index of rankings of feature importances\n",
        "sorted_idx = np.argsort(rf.feature_importances_)"
      ],
      "metadata": {
        "id": "GI7G-Oc3fTa-"
      },
      "execution_count": 121,
      "outputs": []
    },
    {
      "cell_type": "code",
      "source": [
        "sorted_column_names = columns[sorted_idx]"
      ],
      "metadata": {
        "id": "i6T2yhfUfX4h"
      },
      "execution_count": 122,
      "outputs": []
    },
    {
      "cell_type": "code",
      "source": [
        "print(\"there are so many columns in this version!: {}\".format(len(columns)))"
      ],
      "metadata": {
        "colab": {
          "base_uri": "https://localhost:8080/"
        },
        "id": "E1Qh9sR_gZfr",
        "outputId": "3ca1707f-2b3b-4c4c-eed7-392eea5330f1"
      },
      "execution_count": 127,
      "outputs": [
        {
          "output_type": "stream",
          "name": "stdout",
          "text": [
            "there are so many columns in this version!: 1295\n"
          ]
        }
      ]
    },
    {
      "cell_type": "code",
      "metadata": {
        "id": "jO9F9bMRUYgU",
        "outputId": "6c40c115-a3fc-478e-8716-dce11b12998b",
        "colab": {
          "base_uri": "https://localhost:8080/",
          "height": 1000
        }
      },
      "source": [
        "# plot the top ~50 features\n",
        "y_ticks = np.arange(0, len(columns))\n",
        "fig, ax = plt.subplots(figsize=(10,20))\n",
        "ax.barh(y_ticks, rf.feature_importances_[sorted_idx])\n",
        "ax.set_yticklabels(sorted_column_names)\n",
        "ax.set_yticks(y_ticks)\n",
        "ax.set_title(\"Random Forest Feature Importances (MDI)\")\n",
        "fig.tight_layout()\n",
        "ax.set_ylim(1255, len(columns))\n",
        "plt.show()"
      ],
      "execution_count": 129,
      "outputs": [
        {
          "output_type": "display_data",
          "data": {
            "text/plain": [
              "<Figure size 720x1440 with 1 Axes>"
            ],
            "image/png": "[encoded data removed]"
          },
          "metadata": {
            "needs_background": "light"
          }
        }
      ]
    },
    {
      "cell_type": "markdown",
      "source": [
        "## Conclusion\n",
        "\n",
        "Like in Chicago and the authors' findings, building area is important! I realized I forgot to drop the additional zip code column but I will die if I spend more time on this homework. 20064 is high up here and I don't think it was on my other DC model. 20059 is somewhat high, though, too. That might be a sampling bias? Universities are above museums here, but you can see water use trying to appear from the mess of data."
      ],
      "metadata": {
        "id": "yix2Hukmgqku"
      }
    },
    {
      "cell_type": "markdown",
      "metadata": {
        "id": "XZxr_mNXV5QB"
      },
      "source": [
        "# useful links and methods and functions I used: \n",
        "\n",
        "```df.dropna()``` to remove observation with missing variables\n",
        "\n",
        "```df.drop(columns, axis=1)``` to remove features (columns)\n",
        "\n",
        "\n",
        "```np.log10()``` and ```np.isinf()``` to convert to log space and find infinite values  \n",
        "\n",
        "`np.hstack([X1, X2])` to concatenate two arrays\n"
      ]
    },
    {
      "cell_type": "markdown",
      "metadata": {
        "id": "glzZInBSoLjW"
      },
      "source": [
        "one hot encoder https://scikit-learn.org/stable/modules/generated/sklearn.preprocessing.OneHotEncoder.html and https://stackabuse.com/one-hot-encoding-in-python-with-pandas-and-scikit-learn/\n"
      ]
    },
    {
      "cell_type": "markdown",
      "metadata": {
        "id": "c9_0ZFaGqRj1"
      },
      "source": [
        "KNN imputer https://scikit-learn.org/stable/modules/generated/sklearn.impute.KNNImputer.html , https://www.analyticsvidhya.com/blog/2020/07/knnimputer-a-robust-way-to-impute-missing-values-using-scikit-learn/, and \n",
        "https://machinelearningmastery.com/knn-imputation-for-missing-values-in-machine-learning/  "
      ]
    },
    {
      "cell_type": "code",
      "metadata": {
        "id": "bKLcYpBcqggC"
      },
      "source": [],
      "execution_count": null,
      "outputs": []
    }
  ]
}