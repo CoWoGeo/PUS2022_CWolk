{
  "nbformat": 4,
  "nbformat_minor": 0,
  "metadata": {
    "colab": {
      "provenance": [],
      "collapsed_sections": [],
      "include_colab_link": true
    },
    "kernelspec": {
      "name": "python3",
      "display_name": "Python 3"
    }
  },
  "cells": [
    {
      "cell_type": "markdown",
      "metadata": {
        "id": "view-in-github",
        "colab_type": "text"
      },
      "source": [
        "<a href=\"https://colab.research.google.com/github/CoWoGeo/PUS2022_CWolk/blob/main/HW/HW5/timeSeriesClustering.ipynb\" target=\"_parent\"><img src=\"https://colab.research.google.com/assets/colab-badge.svg\" alt=\"Open In Colab\"/></a>"
      ]
    },
    {
      "cell_type": "markdown",
      "metadata": {
        "id": "YO2n25U9uel0"
      },
      "source": [
        "# Clustering analysis on population trends\n",
        "\n",
        "Italicized text is Fed's original text.\n",
        "\n",
        "*You are clustering the \"shape\" of time series to find trends, specifically, population growth trends. Do any countries stand out in the population growth trends in the past 60 years? are there groups of countries that have similar trends (and why?)*"
      ]
    },
    {
      "cell_type": "code",
      "metadata": {
        "id": "-E7s1FM5PkHC"
      },
      "source": [
        "# imports:\n",
        "import pandas as pd\n",
        "import pylab as pl\n",
        "import numpy as np\n",
        "\n",
        "from sklearn import preprocessing\n",
        "from sklearn import cluster\n",
        "\n",
        "pl.rcParams['font.size'] = 18"
      ],
      "execution_count": 208,
      "outputs": []
    },
    {
      "cell_type": "code",
      "source": [
        "pip install xlrd==1.2.0"
      ],
      "metadata": {
        "colab": {
          "base_uri": "https://localhost:8080/"
        },
        "id": "KO6BT6pwoPHt",
        "outputId": "f8a331cf-350f-4735-be64-3222de0555ff"
      },
      "execution_count": 209,
      "outputs": [
        {
          "output_type": "stream",
          "name": "stdout",
          "text": [
            "Looking in indexes: https://pypi.org/simple, https://us-python.pkg.dev/colab-wheels/public/simple/\n",
            "Requirement already satisfied: xlrd==1.2.0 in /usr/local/lib/python3.7/dist-packages (1.2.0)\n"
          ]
        }
      ]
    },
    {
      "cell_type": "markdown",
      "metadata": {
        "id": "zXfKxHTWuZdV"
      },
      "source": [
        "# Data processing"
      ]
    },
    {
      "cell_type": "markdown",
      "source": [
        "## Get the data\n",
        "\n",
        "*You are going to have to skip some rows (`skiprows=`) and ideally only use relevant columns (the country name and each year column from 1960, you can use `usecold=` or you can read everything in then throw away the columns you do not need).*\n",
        "\n",
        "I didn't use the skiprows command...is that okay?\n",
        "\n",
        "*Finally, set the country name as the index for this dataframe. you can do that with `set_index()` passing the relevant column name as the argument (dont forget that you want to do it inplace! `inplace=True`)*"
      ],
      "metadata": {
        "id": "y5GuYb0FXJhR"
      }
    },
    {
      "cell_type": "markdown",
      "source": [
        "*do this to read an excel file with python\n",
        "then restart the notebook*\n",
        "Why does it need to be restarted?"
      ],
      "metadata": {
        "id": "SviG1WzR1hup"
      }
    },
    {
      "cell_type": "code",
      "metadata": {
        "id": "awl0MD-LrytL",
        "outputId": "95902400-fb1b-4867-d858-bc01cf78fd7a",
        "colab": {
          "base_uri": "https://localhost:8080/"
        }
      },
      "source": [
        "#mounting Google Drive\n",
        "from google.colab import drive\n",
        "drive.mount('/content/drive')"
      ],
      "execution_count": 210,
      "outputs": [
        {
          "output_type": "stream",
          "name": "stdout",
          "text": [
            "Drive already mounted at /content/drive; to attempt to forcibly remount, call drive.mount(\"/content/drive\", force_remount=True).\n"
          ]
        }
      ]
    },
    {
      "cell_type": "code",
      "source": [
        "cd /content/drive/Shareddrives/PUS2022"
      ],
      "metadata": {
        "colab": {
          "base_uri": "https://localhost:8080/"
        },
        "id": "j3_dlZ5_XBjP",
        "outputId": "abab7148-067f-41b8-806f-55c9ae39eab7"
      },
      "execution_count": 211,
      "outputs": [
        {
          "output_type": "stream",
          "name": "stdout",
          "text": [
            "/content/drive/Shareddrives/PUS2022\n"
          ]
        }
      ]
    },
    {
      "cell_type": "code",
      "source": [
        "#listing data in that folder\n",
        "ls data"
      ],
      "metadata": {
        "id": "2C34uyzDrwU-",
        "outputId": "2004875c-8bf4-44c8-8815-930ab72552f5",
        "colab": {
          "base_uri": "https://localhost:8080/"
        }
      },
      "execution_count": 212,
      "outputs": [
        {
          "output_type": "stream",
          "name": "stdout",
          "text": [
            "\u001b[0m\u001b[01;34m'2010 Census Tracts'\u001b[0m/\n",
            " array_cholera_data.npy\n",
            " array_pump_data.npy\n",
            " \u001b[01;34mcitibike\u001b[0m/\n",
            " \u001b[01;34mLongitude_Graticules_and_World_Countries_Boundaries-shp\u001b[0m/\n",
            " \u001b[01;34mnatural_earth_vector\u001b[0m/\n",
            " NYC_Women_s_Resource_Network_Database.csv\n",
            " seeds_dataset.gdoc\n",
            " seeds_dataset.txt\n",
            "'SP.POP.TOTL?downloadformat=excel'\n"
          ]
        }
      ]
    },
    {
      "cell_type": "code",
      "metadata": {
        "id": "C1dJHSnWRM5f",
        "outputId": "94c3052b-c832-4a46-bc18-a514dd5ac63d",
        "colab": {
          "base_uri": "https://localhost:8080/",
          "height": 456
        }
      },
      "source": [
        "#reading in the data. I went back in and set the header in this command.\n",
        "pop_df = pd.read_excel(\"data/SP.POP.TOTL?downloadformat=excel\", header=3)\n",
        "                       \n",
        "pop_df.head()"
      ],
      "execution_count": 213,
      "outputs": [
        {
          "output_type": "execute_result",
          "data": {
            "text/plain": [
              "                  Country Name Country Code     Indicator Name Indicator Code  \\\n",
              "0                        Aruba          ABW  Population, total    SP.POP.TOTL   \n",
              "1  Africa Eastern and Southern          AFE  Population, total    SP.POP.TOTL   \n",
              "2                  Afghanistan          AFG  Population, total    SP.POP.TOTL   \n",
              "3   Africa Western and Central          AFW  Population, total    SP.POP.TOTL   \n",
              "4                       Angola          AGO  Population, total    SP.POP.TOTL   \n",
              "\n",
              "          1960         1961         1962         1963         1964  \\\n",
              "0      54208.0      55434.0      56234.0      56699.0      57029.0   \n",
              "1  130836765.0  134159786.0  137614644.0  141202036.0  144920186.0   \n",
              "2    8996967.0    9169406.0    9351442.0    9543200.0    9744772.0   \n",
              "3   96396419.0   98407221.0  100506960.0  102691339.0  104953470.0   \n",
              "4    5454938.0    5531451.0    5608499.0    5679409.0    5734995.0   \n",
              "\n",
              "          1965  ...         2011         2012         2013         2014  \\\n",
              "0      57357.0  ...     102050.0     102565.0     103165.0     103776.0   \n",
              "1  148769974.0  ...  532760424.0  547482863.0  562601578.0  578075373.0   \n",
              "2    9956318.0  ...   30117411.0   31161378.0   32269592.0   33370804.0   \n",
              "3  107289875.0  ...  360285439.0  370243017.0  380437896.0  390882979.0   \n",
              "4    5770573.0  ...   24220660.0   25107925.0   26015786.0   26941773.0   \n",
              "\n",
              "          2015         2016         2017         2018         2019  \\\n",
              "0     104339.0     104865.0     105361.0     105846.0     106310.0   \n",
              "1  593871847.0  609978946.0  626392880.0  643090131.0  660046272.0   \n",
              "2   34413603.0   35383028.0   36296111.0   37171922.0   38041757.0   \n",
              "3  401586651.0  412551299.0  423769930.0  435229381.0  446911598.0   \n",
              "4   27884380.0   28842482.0   29816769.0   30809787.0   31825299.0   \n",
              "\n",
              "          2020  \n",
              "0     106766.0  \n",
              "1  677243299.0  \n",
              "2   38928341.0  \n",
              "3  458803476.0  \n",
              "4   32866268.0  \n",
              "\n",
              "[5 rows x 65 columns]"
            ],
            "text/html": [
              "\n",
              "  <div id=\"df-805a0328-007c-4ba3-937c-b264bd5cf1a7\">\n",
              "    <div class=\"colab-df-container\">\n",
              "      <div>\n",
              "<style scoped>\n",
              "    .dataframe tbody tr th:only-of-type {\n",
              "        vertical-align: middle;\n",
              "    }\n",
              "\n",
              "    .dataframe tbody tr th {\n",
              "        vertical-align: top;\n",
              "    }\n",
              "\n",
              "    .dataframe thead th {\n",
              "        text-align: right;\n",
              "    }\n",
              "</style>\n",
              "<table border=\"1\" class=\"dataframe\">\n",
              "  <thead>\n",
              "    <tr style=\"text-align: right;\">\n",
              "      <th></th>\n",
              "      <th>Country Name</th>\n",
              "      <th>Country Code</th>\n",
              "      <th>Indicator Name</th>\n",
              "      <th>Indicator Code</th>\n",
              "      <th>1960</th>\n",
              "      <th>1961</th>\n",
              "      <th>1962</th>\n",
              "      <th>1963</th>\n",
              "      <th>1964</th>\n",
              "      <th>1965</th>\n",
              "      <th>...</th>\n",
              "      <th>2011</th>\n",
              "      <th>2012</th>\n",
              "      <th>2013</th>\n",
              "      <th>2014</th>\n",
              "      <th>2015</th>\n",
              "      <th>2016</th>\n",
              "      <th>2017</th>\n",
              "      <th>2018</th>\n",
              "      <th>2019</th>\n",
              "      <th>2020</th>\n",
              "    </tr>\n",
              "  </thead>\n",
              "  <tbody>\n",
              "    <tr>\n",
              "      <th>0</th>\n",
              "      <td>Aruba</td>\n",
              "      <td>ABW</td>\n",
              "      <td>Population, total</td>\n",
              "      <td>SP.POP.TOTL</td>\n",
              "      <td>54208.0</td>\n",
              "      <td>55434.0</td>\n",
              "      <td>56234.0</td>\n",
              "      <td>56699.0</td>\n",
              "      <td>57029.0</td>\n",
              "      <td>57357.0</td>\n",
              "      <td>...</td>\n",
              "      <td>102050.0</td>\n",
              "      <td>102565.0</td>\n",
              "      <td>103165.0</td>\n",
              "      <td>103776.0</td>\n",
              "      <td>104339.0</td>\n",
              "      <td>104865.0</td>\n",
              "      <td>105361.0</td>\n",
              "      <td>105846.0</td>\n",
              "      <td>106310.0</td>\n",
              "      <td>106766.0</td>\n",
              "    </tr>\n",
              "    <tr>\n",
              "      <th>1</th>\n",
              "      <td>Africa Eastern and Southern</td>\n",
              "      <td>AFE</td>\n",
              "      <td>Population, total</td>\n",
              "      <td>SP.POP.TOTL</td>\n",
              "      <td>130836765.0</td>\n",
              "      <td>134159786.0</td>\n",
              "      <td>137614644.0</td>\n",
              "      <td>141202036.0</td>\n",
              "      <td>144920186.0</td>\n",
              "      <td>148769974.0</td>\n",
              "      <td>...</td>\n",
              "      <td>532760424.0</td>\n",
              "      <td>547482863.0</td>\n",
              "      <td>562601578.0</td>\n",
              "      <td>578075373.0</td>\n",
              "      <td>593871847.0</td>\n",
              "      <td>609978946.0</td>\n",
              "      <td>626392880.0</td>\n",
              "      <td>643090131.0</td>\n",
              "      <td>660046272.0</td>\n",
              "      <td>677243299.0</td>\n",
              "    </tr>\n",
              "    <tr>\n",
              "      <th>2</th>\n",
              "      <td>Afghanistan</td>\n",
              "      <td>AFG</td>\n",
              "      <td>Population, total</td>\n",
              "      <td>SP.POP.TOTL</td>\n",
              "      <td>8996967.0</td>\n",
              "      <td>9169406.0</td>\n",
              "      <td>9351442.0</td>\n",
              "      <td>9543200.0</td>\n",
              "      <td>9744772.0</td>\n",
              "      <td>9956318.0</td>\n",
              "      <td>...</td>\n",
              "      <td>30117411.0</td>\n",
              "      <td>31161378.0</td>\n",
              "      <td>32269592.0</td>\n",
              "      <td>33370804.0</td>\n",
              "      <td>34413603.0</td>\n",
              "      <td>35383028.0</td>\n",
              "      <td>36296111.0</td>\n",
              "      <td>37171922.0</td>\n",
              "      <td>38041757.0</td>\n",
              "      <td>38928341.0</td>\n",
              "    </tr>\n",
              "    <tr>\n",
              "      <th>3</th>\n",
              "      <td>Africa Western and Central</td>\n",
              "      <td>AFW</td>\n",
              "      <td>Population, total</td>\n",
              "      <td>SP.POP.TOTL</td>\n",
              "      <td>96396419.0</td>\n",
              "      <td>98407221.0</td>\n",
              "      <td>100506960.0</td>\n",
              "      <td>102691339.0</td>\n",
              "      <td>104953470.0</td>\n",
              "      <td>107289875.0</td>\n",
              "      <td>...</td>\n",
              "      <td>360285439.0</td>\n",
              "      <td>370243017.0</td>\n",
              "      <td>380437896.0</td>\n",
              "      <td>390882979.0</td>\n",
              "      <td>401586651.0</td>\n",
              "      <td>412551299.0</td>\n",
              "      <td>423769930.0</td>\n",
              "      <td>435229381.0</td>\n",
              "      <td>446911598.0</td>\n",
              "      <td>458803476.0</td>\n",
              "    </tr>\n",
              "    <tr>\n",
              "      <th>4</th>\n",
              "      <td>Angola</td>\n",
              "      <td>AGO</td>\n",
              "      <td>Population, total</td>\n",
              "      <td>SP.POP.TOTL</td>\n",
              "      <td>5454938.0</td>\n",
              "      <td>5531451.0</td>\n",
              "      <td>5608499.0</td>\n",
              "      <td>5679409.0</td>\n",
              "      <td>5734995.0</td>\n",
              "      <td>5770573.0</td>\n",
              "      <td>...</td>\n",
              "      <td>24220660.0</td>\n",
              "      <td>25107925.0</td>\n",
              "      <td>26015786.0</td>\n",
              "      <td>26941773.0</td>\n",
              "      <td>27884380.0</td>\n",
              "      <td>28842482.0</td>\n",
              "      <td>29816769.0</td>\n",
              "      <td>30809787.0</td>\n",
              "      <td>31825299.0</td>\n",
              "      <td>32866268.0</td>\n",
              "    </tr>\n",
              "  </tbody>\n",
              "</table>\n",
              "<p>5 rows × 65 columns</p>\n",
              "</div>\n",
              "      <button class=\"colab-df-convert\" onclick=\"convertToInteractive('df-805a0328-007c-4ba3-937c-b264bd5cf1a7')\"\n",
              "              title=\"Convert this dataframe to an interactive table.\"\n",
              "              style=\"display:none;\">\n",
              "        \n",
              "  <svg xmlns=\"http://www.w3.org/2000/svg\" height=\"24px\"viewBox=\"0 0 24 24\"\n",
              "       width=\"24px\">\n",
              "    <path d=\"M0 0h24v24H0V0z\" fill=\"none\"/>\n",
              "    <path d=\"M18.56 5.44l.94 2.06.94-2.06 2.06-.94-2.06-.94-.94-2.06-.94 2.06-2.06.94zm-11 1L8.5 8.5l.94-2.06 2.06-.94-2.06-.94L8.5 2.5l-.94 2.06-2.06.94zm10 10l.94 2.06.94-2.06 2.06-.94-2.06-.94-.94-2.06-.94 2.06-2.06.94z\"/><path d=\"M17.41 7.96l-1.37-1.37c-.4-.4-.92-.59-1.43-.59-.52 0-1.04.2-1.43.59L10.3 9.45l-7.72 7.72c-.78.78-.78 2.05 0 2.83L4 21.41c.39.39.9.59 1.41.59.51 0 1.02-.2 1.41-.59l7.78-7.78 2.81-2.81c.8-.78.8-2.07 0-2.86zM5.41 20L4 18.59l7.72-7.72 1.47 1.35L5.41 20z\"/>\n",
              "  </svg>\n",
              "      </button>\n",
              "      \n",
              "  <style>\n",
              "    .colab-df-container {\n",
              "      display:flex;\n",
              "      flex-wrap:wrap;\n",
              "      gap: 12px;\n",
              "    }\n",
              "\n",
              "    .colab-df-convert {\n",
              "      background-color: #E8F0FE;\n",
              "      border: none;\n",
              "      border-radius: 50%;\n",
              "      cursor: pointer;\n",
              "      display: none;\n",
              "      fill: #1967D2;\n",
              "      height: 32px;\n",
              "      padding: 0 0 0 0;\n",
              "      width: 32px;\n",
              "    }\n",
              "\n",
              "    .colab-df-convert:hover {\n",
              "      background-color: #E2EBFA;\n",
              "      box-shadow: 0px 1px 2px rgba(60, 64, 67, 0.3), 0px 1px 3px 1px rgba(60, 64, 67, 0.15);\n",
              "      fill: #174EA6;\n",
              "    }\n",
              "\n",
              "    [theme=dark] .colab-df-convert {\n",
              "      background-color: #3B4455;\n",
              "      fill: #D2E3FC;\n",
              "    }\n",
              "\n",
              "    [theme=dark] .colab-df-convert:hover {\n",
              "      background-color: #434B5C;\n",
              "      box-shadow: 0px 1px 3px 1px rgba(0, 0, 0, 0.15);\n",
              "      filter: drop-shadow(0px 1px 2px rgba(0, 0, 0, 0.3));\n",
              "      fill: #FFFFFF;\n",
              "    }\n",
              "  </style>\n",
              "\n",
              "      <script>\n",
              "        const buttonEl =\n",
              "          document.querySelector('#df-805a0328-007c-4ba3-937c-b264bd5cf1a7 button.colab-df-convert');\n",
              "        buttonEl.style.display =\n",
              "          google.colab.kernel.accessAllowed ? 'block' : 'none';\n",
              "\n",
              "        async function convertToInteractive(key) {\n",
              "          const element = document.querySelector('#df-805a0328-007c-4ba3-937c-b264bd5cf1a7');\n",
              "          const dataTable =\n",
              "            await google.colab.kernel.invokeFunction('convertToInteractive',\n",
              "                                                     [key], {});\n",
              "          if (!dataTable) return;\n",
              "\n",
              "          const docLinkHtml = 'Like what you see? Visit the ' +\n",
              "            '<a target=\"_blank\" href=https://colab.research.google.com/notebooks/data_table.ipynb>data table notebook</a>'\n",
              "            + ' to learn more about interactive tables.';\n",
              "          element.innerHTML = '';\n",
              "          dataTable['output_type'] = 'display_data';\n",
              "          await google.colab.output.renderOutput(dataTable, element);\n",
              "          const docLink = document.createElement('div');\n",
              "          docLink.innerHTML = docLinkHtml;\n",
              "          element.appendChild(docLink);\n",
              "        }\n",
              "      </script>\n",
              "    </div>\n",
              "  </div>\n",
              "  "
            ]
          },
          "metadata": {},
          "execution_count": 213
        }
      ]
    },
    {
      "cell_type": "markdown",
      "source": [
        "##Data Cleaning \n"
      ],
      "metadata": {
        "id": "iMoakoRRr8A5"
      }
    },
    {
      "cell_type": "code",
      "source": [
        "pop_df.drop(columns=[\"Country Code\", \"Indicator Name\", \"Indicator Code\"], inplace=True)"
      ],
      "metadata": {
        "id": "GA0Rch08_WR7"
      },
      "execution_count": 214,
      "outputs": []
    },
    {
      "cell_type": "code",
      "source": [
        "pop_df.index"
      ],
      "metadata": {
        "colab": {
          "base_uri": "https://localhost:8080/"
        },
        "id": "_ImIPP2aAQPg",
        "outputId": "c0285f37-30b6-4eb6-dd77-a0707f61ff00"
      },
      "execution_count": 215,
      "outputs": [
        {
          "output_type": "execute_result",
          "data": {
            "text/plain": [
              "RangeIndex(start=0, stop=266, step=1)"
            ]
          },
          "metadata": {},
          "execution_count": 215
        }
      ]
    },
    {
      "cell_type": "code",
      "source": [
        "pop_df.head()"
      ],
      "metadata": {
        "colab": {
          "base_uri": "https://localhost:8080/",
          "height": 404
        },
        "id": "n0XLbkJgAFXJ",
        "outputId": "84847f61-ef54-48c3-e79b-42c01a5b7b32"
      },
      "execution_count": 216,
      "outputs": [
        {
          "output_type": "execute_result",
          "data": {
            "text/plain": [
              "                  Country Name         1960         1961         1962  \\\n",
              "0                        Aruba      54208.0      55434.0      56234.0   \n",
              "1  Africa Eastern and Southern  130836765.0  134159786.0  137614644.0   \n",
              "2                  Afghanistan    8996967.0    9169406.0    9351442.0   \n",
              "3   Africa Western and Central   96396419.0   98407221.0  100506960.0   \n",
              "4                       Angola    5454938.0    5531451.0    5608499.0   \n",
              "\n",
              "          1963         1964         1965         1966         1967  \\\n",
              "0      56699.0      57029.0      57357.0      57702.0      58044.0   \n",
              "1  141202036.0  144920186.0  148769974.0  152752671.0  156876454.0   \n",
              "2    9543200.0    9744772.0    9956318.0   10174840.0   10399936.0   \n",
              "3  102691339.0  104953470.0  107289875.0  109701811.0  112195950.0   \n",
              "4    5679409.0    5734995.0    5770573.0    5781305.0    5774440.0   \n",
              "\n",
              "          1968  ...         2011         2012         2013         2014  \\\n",
              "0      58377.0  ...     102050.0     102565.0     103165.0     103776.0   \n",
              "1  161156430.0  ...  532760424.0  547482863.0  562601578.0  578075373.0   \n",
              "2   10637064.0  ...   30117411.0   31161378.0   32269592.0   33370804.0   \n",
              "3  114781116.0  ...  360285439.0  370243017.0  380437896.0  390882979.0   \n",
              "4    5771973.0  ...   24220660.0   25107925.0   26015786.0   26941773.0   \n",
              "\n",
              "          2015         2016         2017         2018         2019  \\\n",
              "0     104339.0     104865.0     105361.0     105846.0     106310.0   \n",
              "1  593871847.0  609978946.0  626392880.0  643090131.0  660046272.0   \n",
              "2   34413603.0   35383028.0   36296111.0   37171922.0   38041757.0   \n",
              "3  401586651.0  412551299.0  423769930.0  435229381.0  446911598.0   \n",
              "4   27884380.0   28842482.0   29816769.0   30809787.0   31825299.0   \n",
              "\n",
              "          2020  \n",
              "0     106766.0  \n",
              "1  677243299.0  \n",
              "2   38928341.0  \n",
              "3  458803476.0  \n",
              "4   32866268.0  \n",
              "\n",
              "[5 rows x 62 columns]"
            ],
            "text/html": [
              "\n",
              "  <div id=\"df-97ef0618-064c-4f2c-8bc1-5a70aabbe870\">\n",
              "    <div class=\"colab-df-container\">\n",
              "      <div>\n",
              "<style scoped>\n",
              "    .dataframe tbody tr th:only-of-type {\n",
              "        vertical-align: middle;\n",
              "    }\n",
              "\n",
              "    .dataframe tbody tr th {\n",
              "        vertical-align: top;\n",
              "    }\n",
              "\n",
              "    .dataframe thead th {\n",
              "        text-align: right;\n",
              "    }\n",
              "</style>\n",
              "<table border=\"1\" class=\"dataframe\">\n",
              "  <thead>\n",
              "    <tr style=\"text-align: right;\">\n",
              "      <th></th>\n",
              "      <th>Country Name</th>\n",
              "      <th>1960</th>\n",
              "      <th>1961</th>\n",
              "      <th>1962</th>\n",
              "      <th>1963</th>\n",
              "      <th>1964</th>\n",
              "      <th>1965</th>\n",
              "      <th>1966</th>\n",
              "      <th>1967</th>\n",
              "      <th>1968</th>\n",
              "      <th>...</th>\n",
              "      <th>2011</th>\n",
              "      <th>2012</th>\n",
              "      <th>2013</th>\n",
              "      <th>2014</th>\n",
              "      <th>2015</th>\n",
              "      <th>2016</th>\n",
              "      <th>2017</th>\n",
              "      <th>2018</th>\n",
              "      <th>2019</th>\n",
              "      <th>2020</th>\n",
              "    </tr>\n",
              "  </thead>\n",
              "  <tbody>\n",
              "    <tr>\n",
              "      <th>0</th>\n",
              "      <td>Aruba</td>\n",
              "      <td>54208.0</td>\n",
              "      <td>55434.0</td>\n",
              "      <td>56234.0</td>\n",
              "      <td>56699.0</td>\n",
              "      <td>57029.0</td>\n",
              "      <td>57357.0</td>\n",
              "      <td>57702.0</td>\n",
              "      <td>58044.0</td>\n",
              "      <td>58377.0</td>\n",
              "      <td>...</td>\n",
              "      <td>102050.0</td>\n",
              "      <td>102565.0</td>\n",
              "      <td>103165.0</td>\n",
              "      <td>103776.0</td>\n",
              "      <td>104339.0</td>\n",
              "      <td>104865.0</td>\n",
              "      <td>105361.0</td>\n",
              "      <td>105846.0</td>\n",
              "      <td>106310.0</td>\n",
              "      <td>106766.0</td>\n",
              "    </tr>\n",
              "    <tr>\n",
              "      <th>1</th>\n",
              "      <td>Africa Eastern and Southern</td>\n",
              "      <td>130836765.0</td>\n",
              "      <td>134159786.0</td>\n",
              "      <td>137614644.0</td>\n",
              "      <td>141202036.0</td>\n",
              "      <td>144920186.0</td>\n",
              "      <td>148769974.0</td>\n",
              "      <td>152752671.0</td>\n",
              "      <td>156876454.0</td>\n",
              "      <td>161156430.0</td>\n",
              "      <td>...</td>\n",
              "      <td>532760424.0</td>\n",
              "      <td>547482863.0</td>\n",
              "      <td>562601578.0</td>\n",
              "      <td>578075373.0</td>\n",
              "      <td>593871847.0</td>\n",
              "      <td>609978946.0</td>\n",
              "      <td>626392880.0</td>\n",
              "      <td>643090131.0</td>\n",
              "      <td>660046272.0</td>\n",
              "      <td>677243299.0</td>\n",
              "    </tr>\n",
              "    <tr>\n",
              "      <th>2</th>\n",
              "      <td>Afghanistan</td>\n",
              "      <td>8996967.0</td>\n",
              "      <td>9169406.0</td>\n",
              "      <td>9351442.0</td>\n",
              "      <td>9543200.0</td>\n",
              "      <td>9744772.0</td>\n",
              "      <td>9956318.0</td>\n",
              "      <td>10174840.0</td>\n",
              "      <td>10399936.0</td>\n",
              "      <td>10637064.0</td>\n",
              "      <td>...</td>\n",
              "      <td>30117411.0</td>\n",
              "      <td>31161378.0</td>\n",
              "      <td>32269592.0</td>\n",
              "      <td>33370804.0</td>\n",
              "      <td>34413603.0</td>\n",
              "      <td>35383028.0</td>\n",
              "      <td>36296111.0</td>\n",
              "      <td>37171922.0</td>\n",
              "      <td>38041757.0</td>\n",
              "      <td>38928341.0</td>\n",
              "    </tr>\n",
              "    <tr>\n",
              "      <th>3</th>\n",
              "      <td>Africa Western and Central</td>\n",
              "      <td>96396419.0</td>\n",
              "      <td>98407221.0</td>\n",
              "      <td>100506960.0</td>\n",
              "      <td>102691339.0</td>\n",
              "      <td>104953470.0</td>\n",
              "      <td>107289875.0</td>\n",
              "      <td>109701811.0</td>\n",
              "      <td>112195950.0</td>\n",
              "      <td>114781116.0</td>\n",
              "      <td>...</td>\n",
              "      <td>360285439.0</td>\n",
              "      <td>370243017.0</td>\n",
              "      <td>380437896.0</td>\n",
              "      <td>390882979.0</td>\n",
              "      <td>401586651.0</td>\n",
              "      <td>412551299.0</td>\n",
              "      <td>423769930.0</td>\n",
              "      <td>435229381.0</td>\n",
              "      <td>446911598.0</td>\n",
              "      <td>458803476.0</td>\n",
              "    </tr>\n",
              "    <tr>\n",
              "      <th>4</th>\n",
              "      <td>Angola</td>\n",
              "      <td>5454938.0</td>\n",
              "      <td>5531451.0</td>\n",
              "      <td>5608499.0</td>\n",
              "      <td>5679409.0</td>\n",
              "      <td>5734995.0</td>\n",
              "      <td>5770573.0</td>\n",
              "      <td>5781305.0</td>\n",
              "      <td>5774440.0</td>\n",
              "      <td>5771973.0</td>\n",
              "      <td>...</td>\n",
              "      <td>24220660.0</td>\n",
              "      <td>25107925.0</td>\n",
              "      <td>26015786.0</td>\n",
              "      <td>26941773.0</td>\n",
              "      <td>27884380.0</td>\n",
              "      <td>28842482.0</td>\n",
              "      <td>29816769.0</td>\n",
              "      <td>30809787.0</td>\n",
              "      <td>31825299.0</td>\n",
              "      <td>32866268.0</td>\n",
              "    </tr>\n",
              "  </tbody>\n",
              "</table>\n",
              "<p>5 rows × 62 columns</p>\n",
              "</div>\n",
              "      <button class=\"colab-df-convert\" onclick=\"convertToInteractive('df-97ef0618-064c-4f2c-8bc1-5a70aabbe870')\"\n",
              "              title=\"Convert this dataframe to an interactive table.\"\n",
              "              style=\"display:none;\">\n",
              "        \n",
              "  <svg xmlns=\"http://www.w3.org/2000/svg\" height=\"24px\"viewBox=\"0 0 24 24\"\n",
              "       width=\"24px\">\n",
              "    <path d=\"M0 0h24v24H0V0z\" fill=\"none\"/>\n",
              "    <path d=\"M18.56 5.44l.94 2.06.94-2.06 2.06-.94-2.06-.94-.94-2.06-.94 2.06-2.06.94zm-11 1L8.5 8.5l.94-2.06 2.06-.94-2.06-.94L8.5 2.5l-.94 2.06-2.06.94zm10 10l.94 2.06.94-2.06 2.06-.94-2.06-.94-.94-2.06-.94 2.06-2.06.94z\"/><path d=\"M17.41 7.96l-1.37-1.37c-.4-.4-.92-.59-1.43-.59-.52 0-1.04.2-1.43.59L10.3 9.45l-7.72 7.72c-.78.78-.78 2.05 0 2.83L4 21.41c.39.39.9.59 1.41.59.51 0 1.02-.2 1.41-.59l7.78-7.78 2.81-2.81c.8-.78.8-2.07 0-2.86zM5.41 20L4 18.59l7.72-7.72 1.47 1.35L5.41 20z\"/>\n",
              "  </svg>\n",
              "      </button>\n",
              "      \n",
              "  <style>\n",
              "    .colab-df-container {\n",
              "      display:flex;\n",
              "      flex-wrap:wrap;\n",
              "      gap: 12px;\n",
              "    }\n",
              "\n",
              "    .colab-df-convert {\n",
              "      background-color: #E8F0FE;\n",
              "      border: none;\n",
              "      border-radius: 50%;\n",
              "      cursor: pointer;\n",
              "      display: none;\n",
              "      fill: #1967D2;\n",
              "      height: 32px;\n",
              "      padding: 0 0 0 0;\n",
              "      width: 32px;\n",
              "    }\n",
              "\n",
              "    .colab-df-convert:hover {\n",
              "      background-color: #E2EBFA;\n",
              "      box-shadow: 0px 1px 2px rgba(60, 64, 67, 0.3), 0px 1px 3px 1px rgba(60, 64, 67, 0.15);\n",
              "      fill: #174EA6;\n",
              "    }\n",
              "\n",
              "    [theme=dark] .colab-df-convert {\n",
              "      background-color: #3B4455;\n",
              "      fill: #D2E3FC;\n",
              "    }\n",
              "\n",
              "    [theme=dark] .colab-df-convert:hover {\n",
              "      background-color: #434B5C;\n",
              "      box-shadow: 0px 1px 3px 1px rgba(0, 0, 0, 0.15);\n",
              "      filter: drop-shadow(0px 1px 2px rgba(0, 0, 0, 0.3));\n",
              "      fill: #FFFFFF;\n",
              "    }\n",
              "  </style>\n",
              "\n",
              "      <script>\n",
              "        const buttonEl =\n",
              "          document.querySelector('#df-97ef0618-064c-4f2c-8bc1-5a70aabbe870 button.colab-df-convert');\n",
              "        buttonEl.style.display =\n",
              "          google.colab.kernel.accessAllowed ? 'block' : 'none';\n",
              "\n",
              "        async function convertToInteractive(key) {\n",
              "          const element = document.querySelector('#df-97ef0618-064c-4f2c-8bc1-5a70aabbe870');\n",
              "          const dataTable =\n",
              "            await google.colab.kernel.invokeFunction('convertToInteractive',\n",
              "                                                     [key], {});\n",
              "          if (!dataTable) return;\n",
              "\n",
              "          const docLinkHtml = 'Like what you see? Visit the ' +\n",
              "            '<a target=\"_blank\" href=https://colab.research.google.com/notebooks/data_table.ipynb>data table notebook</a>'\n",
              "            + ' to learn more about interactive tables.';\n",
              "          element.innerHTML = '';\n",
              "          dataTable['output_type'] = 'display_data';\n",
              "          await google.colab.output.renderOutput(dataTable, element);\n",
              "          const docLink = document.createElement('div');\n",
              "          docLink.innerHTML = docLinkHtml;\n",
              "          element.appendChild(docLink);\n",
              "        }\n",
              "      </script>\n",
              "    </div>\n",
              "  </div>\n",
              "  "
            ]
          },
          "metadata": {},
          "execution_count": 216
        }
      ]
    },
    {
      "cell_type": "markdown",
      "source": [
        "*You are going to have to skip some rows (skiprows=) and ideally only use relevant columns (the country name and each year column from 1960, you can use usecold= or you can read everything in then throw away the columns you do not need).*"
      ],
      "metadata": {
        "id": "HP1PWDrptUzg"
      }
    },
    {
      "cell_type": "code",
      "source": [
        "#dropping NaN\n",
        "pop_df_clean = pop_df.dropna(axis=\"columns\", how =\"all\")\n",
        "pop_df_clean = pop_df_clean.dropna(axis=\"rows\", how=\"any\")\n",
        "pop_df_clean.head()"
      ],
      "metadata": {
        "colab": {
          "base_uri": "https://localhost:8080/",
          "height": 404
        },
        "id": "upUWUYVC4BSz",
        "outputId": "e48c5a36-c3f5-4ec0-ef0f-0809d5b1daab"
      },
      "execution_count": 217,
      "outputs": [
        {
          "output_type": "execute_result",
          "data": {
            "text/plain": [
              "                  Country Name         1960         1961         1962  \\\n",
              "0                        Aruba      54208.0      55434.0      56234.0   \n",
              "1  Africa Eastern and Southern  130836765.0  134159786.0  137614644.0   \n",
              "2                  Afghanistan    8996967.0    9169406.0    9351442.0   \n",
              "3   Africa Western and Central   96396419.0   98407221.0  100506960.0   \n",
              "4                       Angola    5454938.0    5531451.0    5608499.0   \n",
              "\n",
              "          1963         1964         1965         1966         1967  \\\n",
              "0      56699.0      57029.0      57357.0      57702.0      58044.0   \n",
              "1  141202036.0  144920186.0  148769974.0  152752671.0  156876454.0   \n",
              "2    9543200.0    9744772.0    9956318.0   10174840.0   10399936.0   \n",
              "3  102691339.0  104953470.0  107289875.0  109701811.0  112195950.0   \n",
              "4    5679409.0    5734995.0    5770573.0    5781305.0    5774440.0   \n",
              "\n",
              "          1968  ...         2011         2012         2013         2014  \\\n",
              "0      58377.0  ...     102050.0     102565.0     103165.0     103776.0   \n",
              "1  161156430.0  ...  532760424.0  547482863.0  562601578.0  578075373.0   \n",
              "2   10637064.0  ...   30117411.0   31161378.0   32269592.0   33370804.0   \n",
              "3  114781116.0  ...  360285439.0  370243017.0  380437896.0  390882979.0   \n",
              "4    5771973.0  ...   24220660.0   25107925.0   26015786.0   26941773.0   \n",
              "\n",
              "          2015         2016         2017         2018         2019  \\\n",
              "0     104339.0     104865.0     105361.0     105846.0     106310.0   \n",
              "1  593871847.0  609978946.0  626392880.0  643090131.0  660046272.0   \n",
              "2   34413603.0   35383028.0   36296111.0   37171922.0   38041757.0   \n",
              "3  401586651.0  412551299.0  423769930.0  435229381.0  446911598.0   \n",
              "4   27884380.0   28842482.0   29816769.0   30809787.0   31825299.0   \n",
              "\n",
              "          2020  \n",
              "0     106766.0  \n",
              "1  677243299.0  \n",
              "2   38928341.0  \n",
              "3  458803476.0  \n",
              "4   32866268.0  \n",
              "\n",
              "[5 rows x 62 columns]"
            ],
            "text/html": [
              "\n",
              "  <div id=\"df-34c0b48b-ef0e-407d-8d00-f9881e93cb52\">\n",
              "    <div class=\"colab-df-container\">\n",
              "      <div>\n",
              "<style scoped>\n",
              "    .dataframe tbody tr th:only-of-type {\n",
              "        vertical-align: middle;\n",
              "    }\n",
              "\n",
              "    .dataframe tbody tr th {\n",
              "        vertical-align: top;\n",
              "    }\n",
              "\n",
              "    .dataframe thead th {\n",
              "        text-align: right;\n",
              "    }\n",
              "</style>\n",
              "<table border=\"1\" class=\"dataframe\">\n",
              "  <thead>\n",
              "    <tr style=\"text-align: right;\">\n",
              "      <th></th>\n",
              "      <th>Country Name</th>\n",
              "      <th>1960</th>\n",
              "      <th>1961</th>\n",
              "      <th>1962</th>\n",
              "      <th>1963</th>\n",
              "      <th>1964</th>\n",
              "      <th>1965</th>\n",
              "      <th>1966</th>\n",
              "      <th>1967</th>\n",
              "      <th>1968</th>\n",
              "      <th>...</th>\n",
              "      <th>2011</th>\n",
              "      <th>2012</th>\n",
              "      <th>2013</th>\n",
              "      <th>2014</th>\n",
              "      <th>2015</th>\n",
              "      <th>2016</th>\n",
              "      <th>2017</th>\n",
              "      <th>2018</th>\n",
              "      <th>2019</th>\n",
              "      <th>2020</th>\n",
              "    </tr>\n",
              "  </thead>\n",
              "  <tbody>\n",
              "    <tr>\n",
              "      <th>0</th>\n",
              "      <td>Aruba</td>\n",
              "      <td>54208.0</td>\n",
              "      <td>55434.0</td>\n",
              "      <td>56234.0</td>\n",
              "      <td>56699.0</td>\n",
              "      <td>57029.0</td>\n",
              "      <td>57357.0</td>\n",
              "      <td>57702.0</td>\n",
              "      <td>58044.0</td>\n",
              "      <td>58377.0</td>\n",
              "      <td>...</td>\n",
              "      <td>102050.0</td>\n",
              "      <td>102565.0</td>\n",
              "      <td>103165.0</td>\n",
              "      <td>103776.0</td>\n",
              "      <td>104339.0</td>\n",
              "      <td>104865.0</td>\n",
              "      <td>105361.0</td>\n",
              "      <td>105846.0</td>\n",
              "      <td>106310.0</td>\n",
              "      <td>106766.0</td>\n",
              "    </tr>\n",
              "    <tr>\n",
              "      <th>1</th>\n",
              "      <td>Africa Eastern and Southern</td>\n",
              "      <td>130836765.0</td>\n",
              "      <td>134159786.0</td>\n",
              "      <td>137614644.0</td>\n",
              "      <td>141202036.0</td>\n",
              "      <td>144920186.0</td>\n",
              "      <td>148769974.0</td>\n",
              "      <td>152752671.0</td>\n",
              "      <td>156876454.0</td>\n",
              "      <td>161156430.0</td>\n",
              "      <td>...</td>\n",
              "      <td>532760424.0</td>\n",
              "      <td>547482863.0</td>\n",
              "      <td>562601578.0</td>\n",
              "      <td>578075373.0</td>\n",
              "      <td>593871847.0</td>\n",
              "      <td>609978946.0</td>\n",
              "      <td>626392880.0</td>\n",
              "      <td>643090131.0</td>\n",
              "      <td>660046272.0</td>\n",
              "      <td>677243299.0</td>\n",
              "    </tr>\n",
              "    <tr>\n",
              "      <th>2</th>\n",
              "      <td>Afghanistan</td>\n",
              "      <td>8996967.0</td>\n",
              "      <td>9169406.0</td>\n",
              "      <td>9351442.0</td>\n",
              "      <td>9543200.0</td>\n",
              "      <td>9744772.0</td>\n",
              "      <td>9956318.0</td>\n",
              "      <td>10174840.0</td>\n",
              "      <td>10399936.0</td>\n",
              "      <td>10637064.0</td>\n",
              "      <td>...</td>\n",
              "      <td>30117411.0</td>\n",
              "      <td>31161378.0</td>\n",
              "      <td>32269592.0</td>\n",
              "      <td>33370804.0</td>\n",
              "      <td>34413603.0</td>\n",
              "      <td>35383028.0</td>\n",
              "      <td>36296111.0</td>\n",
              "      <td>37171922.0</td>\n",
              "      <td>38041757.0</td>\n",
              "      <td>38928341.0</td>\n",
              "    </tr>\n",
              "    <tr>\n",
              "      <th>3</th>\n",
              "      <td>Africa Western and Central</td>\n",
              "      <td>96396419.0</td>\n",
              "      <td>98407221.0</td>\n",
              "      <td>100506960.0</td>\n",
              "      <td>102691339.0</td>\n",
              "      <td>104953470.0</td>\n",
              "      <td>107289875.0</td>\n",
              "      <td>109701811.0</td>\n",
              "      <td>112195950.0</td>\n",
              "      <td>114781116.0</td>\n",
              "      <td>...</td>\n",
              "      <td>360285439.0</td>\n",
              "      <td>370243017.0</td>\n",
              "      <td>380437896.0</td>\n",
              "      <td>390882979.0</td>\n",
              "      <td>401586651.0</td>\n",
              "      <td>412551299.0</td>\n",
              "      <td>423769930.0</td>\n",
              "      <td>435229381.0</td>\n",
              "      <td>446911598.0</td>\n",
              "      <td>458803476.0</td>\n",
              "    </tr>\n",
              "    <tr>\n",
              "      <th>4</th>\n",
              "      <td>Angola</td>\n",
              "      <td>5454938.0</td>\n",
              "      <td>5531451.0</td>\n",
              "      <td>5608499.0</td>\n",
              "      <td>5679409.0</td>\n",
              "      <td>5734995.0</td>\n",
              "      <td>5770573.0</td>\n",
              "      <td>5781305.0</td>\n",
              "      <td>5774440.0</td>\n",
              "      <td>5771973.0</td>\n",
              "      <td>...</td>\n",
              "      <td>24220660.0</td>\n",
              "      <td>25107925.0</td>\n",
              "      <td>26015786.0</td>\n",
              "      <td>26941773.0</td>\n",
              "      <td>27884380.0</td>\n",
              "      <td>28842482.0</td>\n",
              "      <td>29816769.0</td>\n",
              "      <td>30809787.0</td>\n",
              "      <td>31825299.0</td>\n",
              "      <td>32866268.0</td>\n",
              "    </tr>\n",
              "  </tbody>\n",
              "</table>\n",
              "<p>5 rows × 62 columns</p>\n",
              "</div>\n",
              "      <button class=\"colab-df-convert\" onclick=\"convertToInteractive('df-34c0b48b-ef0e-407d-8d00-f9881e93cb52')\"\n",
              "              title=\"Convert this dataframe to an interactive table.\"\n",
              "              style=\"display:none;\">\n",
              "        \n",
              "  <svg xmlns=\"http://www.w3.org/2000/svg\" height=\"24px\"viewBox=\"0 0 24 24\"\n",
              "       width=\"24px\">\n",
              "    <path d=\"M0 0h24v24H0V0z\" fill=\"none\"/>\n",
              "    <path d=\"M18.56 5.44l.94 2.06.94-2.06 2.06-.94-2.06-.94-.94-2.06-.94 2.06-2.06.94zm-11 1L8.5 8.5l.94-2.06 2.06-.94-2.06-.94L8.5 2.5l-.94 2.06-2.06.94zm10 10l.94 2.06.94-2.06 2.06-.94-2.06-.94-.94-2.06-.94 2.06-2.06.94z\"/><path d=\"M17.41 7.96l-1.37-1.37c-.4-.4-.92-.59-1.43-.59-.52 0-1.04.2-1.43.59L10.3 9.45l-7.72 7.72c-.78.78-.78 2.05 0 2.83L4 21.41c.39.39.9.59 1.41.59.51 0 1.02-.2 1.41-.59l7.78-7.78 2.81-2.81c.8-.78.8-2.07 0-2.86zM5.41 20L4 18.59l7.72-7.72 1.47 1.35L5.41 20z\"/>\n",
              "  </svg>\n",
              "      </button>\n",
              "      \n",
              "  <style>\n",
              "    .colab-df-container {\n",
              "      display:flex;\n",
              "      flex-wrap:wrap;\n",
              "      gap: 12px;\n",
              "    }\n",
              "\n",
              "    .colab-df-convert {\n",
              "      background-color: #E8F0FE;\n",
              "      border: none;\n",
              "      border-radius: 50%;\n",
              "      cursor: pointer;\n",
              "      display: none;\n",
              "      fill: #1967D2;\n",
              "      height: 32px;\n",
              "      padding: 0 0 0 0;\n",
              "      width: 32px;\n",
              "    }\n",
              "\n",
              "    .colab-df-convert:hover {\n",
              "      background-color: #E2EBFA;\n",
              "      box-shadow: 0px 1px 2px rgba(60, 64, 67, 0.3), 0px 1px 3px 1px rgba(60, 64, 67, 0.15);\n",
              "      fill: #174EA6;\n",
              "    }\n",
              "\n",
              "    [theme=dark] .colab-df-convert {\n",
              "      background-color: #3B4455;\n",
              "      fill: #D2E3FC;\n",
              "    }\n",
              "\n",
              "    [theme=dark] .colab-df-convert:hover {\n",
              "      background-color: #434B5C;\n",
              "      box-shadow: 0px 1px 3px 1px rgba(0, 0, 0, 0.15);\n",
              "      filter: drop-shadow(0px 1px 2px rgba(0, 0, 0, 0.3));\n",
              "      fill: #FFFFFF;\n",
              "    }\n",
              "  </style>\n",
              "\n",
              "      <script>\n",
              "        const buttonEl =\n",
              "          document.querySelector('#df-34c0b48b-ef0e-407d-8d00-f9881e93cb52 button.colab-df-convert');\n",
              "        buttonEl.style.display =\n",
              "          google.colab.kernel.accessAllowed ? 'block' : 'none';\n",
              "\n",
              "        async function convertToInteractive(key) {\n",
              "          const element = document.querySelector('#df-34c0b48b-ef0e-407d-8d00-f9881e93cb52');\n",
              "          const dataTable =\n",
              "            await google.colab.kernel.invokeFunction('convertToInteractive',\n",
              "                                                     [key], {});\n",
              "          if (!dataTable) return;\n",
              "\n",
              "          const docLinkHtml = 'Like what you see? Visit the ' +\n",
              "            '<a target=\"_blank\" href=https://colab.research.google.com/notebooks/data_table.ipynb>data table notebook</a>'\n",
              "            + ' to learn more about interactive tables.';\n",
              "          element.innerHTML = '';\n",
              "          dataTable['output_type'] = 'display_data';\n",
              "          await google.colab.output.renderOutput(dataTable, element);\n",
              "          const docLink = document.createElement('div');\n",
              "          docLink.innerHTML = docLinkHtml;\n",
              "          element.appendChild(docLink);\n",
              "        }\n",
              "      </script>\n",
              "    </div>\n",
              "  </div>\n",
              "  "
            ]
          },
          "metadata": {},
          "execution_count": 217
        }
      ]
    },
    {
      "cell_type": "code",
      "source": [
        "# changing the index to country\n",
        "pop_df_clean.set_index(\"Country Name\", inplace=True)"
      ],
      "metadata": {
        "id": "FX08GiMOtg_2"
      },
      "execution_count": 218,
      "outputs": []
    },
    {
      "cell_type": "code",
      "source": [
        "pop_df_clean.shape"
      ],
      "metadata": {
        "colab": {
          "base_uri": "https://localhost:8080/"
        },
        "id": "wjDYV_LEAnXt",
        "outputId": "83e6e76f-5b0a-4868-a481-0172fd1b5fb4"
      },
      "execution_count": 219,
      "outputs": [
        {
          "output_type": "execute_result",
          "data": {
            "text/plain": [
              "(262, 61)"
            ]
          },
          "metadata": {},
          "execution_count": 219
        }
      ]
    },
    {
      "cell_type": "code",
      "source": [
        "pop_df_clean.tail()"
      ],
      "metadata": {
        "colab": {
          "base_uri": "https://localhost:8080/",
          "height": 383
        },
        "id": "l-eoVw5kq7Bu",
        "outputId": "e7971e0a-122b-4e3b-852d-5796cea6e804"
      },
      "execution_count": 220,
      "outputs": [
        {
          "output_type": "execute_result",
          "data": {
            "text/plain": [
              "                    1960        1961        1962        1963        1964  \\\n",
              "Country Name                                                               \n",
              "Kosovo          947000.0    966000.0    994000.0   1022000.0   1050000.0   \n",
              "Yemen, Rep.    5315351.0   5393034.0   5473671.0   5556767.0   5641598.0   \n",
              "South Africa  17099836.0  17524533.0  17965733.0  18423157.0  18896303.0   \n",
              "Zambia         3070780.0   3164330.0   3260645.0   3360099.0   3463211.0   \n",
              "Zimbabwe       3776679.0   3905038.0   4039209.0   4178726.0   4322854.0   \n",
              "\n",
              "                    1965        1966        1967        1968        1969  ...  \\\n",
              "Country Name                                                              ...   \n",
              "Kosovo         1078000.0   1106000.0   1135000.0   1163000.0   1191000.0  ...   \n",
              "Yemen, Rep.    5727745.0   5816241.0   5907873.0   6001858.0   6097042.0  ...   \n",
              "South Africa  19384838.0  19888259.0  20406863.0  20942147.0  21496075.0  ...   \n",
              "Zambia         3570466.0   3681953.0   3797877.0   3918872.0   4045740.0  ...   \n",
              "Zimbabwe       4471178.0   4623340.0   4779825.0   4941901.0   5111326.0  ...   \n",
              "\n",
              "                    2011        2012        2013        2014        2015  \\\n",
              "Country Name                                                               \n",
              "Kosovo         1791000.0   1807106.0   1818117.0   1812771.0   1788196.0   \n",
              "Yemen, Rep.   23807586.0  24473176.0  25147112.0  25823488.0  26497881.0   \n",
              "South Africa  52003759.0  52832659.0  53687125.0  54544184.0  55386369.0   \n",
              "Zambia        14023199.0  14465148.0  14926551.0  15399793.0  15879370.0   \n",
              "Zimbabwe      12894323.0  13115149.0  13350378.0  13586710.0  13814642.0   \n",
              "\n",
              "                    2016        2017        2018        2019        2020  \n",
              "Country Name                                                              \n",
              "Kosovo         1777557.0   1791003.0   1797085.0   1788878.0   1775378.0  \n",
              "Yemen, Rep.   27168210.0  27834811.0  28498683.0  29161922.0  29825968.0  \n",
              "South Africa  56207649.0  57009751.0  57792520.0  58558267.0  59308690.0  \n",
              "Zambia        16363449.0  16853608.0  17351714.0  17861034.0  18383956.0  \n",
              "Zimbabwe      14030338.0  14236599.0  14438812.0  14645473.0  14862927.0  \n",
              "\n",
              "[5 rows x 61 columns]"
            ],
            "text/html": [
              "\n",
              "  <div id=\"df-529bae59-dafe-43cf-a328-6b6bd9ad72a0\">\n",
              "    <div class=\"colab-df-container\">\n",
              "      <div>\n",
              "<style scoped>\n",
              "    .dataframe tbody tr th:only-of-type {\n",
              "        vertical-align: middle;\n",
              "    }\n",
              "\n",
              "    .dataframe tbody tr th {\n",
              "        vertical-align: top;\n",
              "    }\n",
              "\n",
              "    .dataframe thead th {\n",
              "        text-align: right;\n",
              "    }\n",
              "</style>\n",
              "<table border=\"1\" class=\"dataframe\">\n",
              "  <thead>\n",
              "    <tr style=\"text-align: right;\">\n",
              "      <th></th>\n",
              "      <th>1960</th>\n",
              "      <th>1961</th>\n",
              "      <th>1962</th>\n",
              "      <th>1963</th>\n",
              "      <th>1964</th>\n",
              "      <th>1965</th>\n",
              "      <th>1966</th>\n",
              "      <th>1967</th>\n",
              "      <th>1968</th>\n",
              "      <th>1969</th>\n",
              "      <th>...</th>\n",
              "      <th>2011</th>\n",
              "      <th>2012</th>\n",
              "      <th>2013</th>\n",
              "      <th>2014</th>\n",
              "      <th>2015</th>\n",
              "      <th>2016</th>\n",
              "      <th>2017</th>\n",
              "      <th>2018</th>\n",
              "      <th>2019</th>\n",
              "      <th>2020</th>\n",
              "    </tr>\n",
              "    <tr>\n",
              "      <th>Country Name</th>\n",
              "      <th></th>\n",
              "      <th></th>\n",
              "      <th></th>\n",
              "      <th></th>\n",
              "      <th></th>\n",
              "      <th></th>\n",
              "      <th></th>\n",
              "      <th></th>\n",
              "      <th></th>\n",
              "      <th></th>\n",
              "      <th></th>\n",
              "      <th></th>\n",
              "      <th></th>\n",
              "      <th></th>\n",
              "      <th></th>\n",
              "      <th></th>\n",
              "      <th></th>\n",
              "      <th></th>\n",
              "      <th></th>\n",
              "      <th></th>\n",
              "      <th></th>\n",
              "    </tr>\n",
              "  </thead>\n",
              "  <tbody>\n",
              "    <tr>\n",
              "      <th>Kosovo</th>\n",
              "      <td>947000.0</td>\n",
              "      <td>966000.0</td>\n",
              "      <td>994000.0</td>\n",
              "      <td>1022000.0</td>\n",
              "      <td>1050000.0</td>\n",
              "      <td>1078000.0</td>\n",
              "      <td>1106000.0</td>\n",
              "      <td>1135000.0</td>\n",
              "      <td>1163000.0</td>\n",
              "      <td>1191000.0</td>\n",
              "      <td>...</td>\n",
              "      <td>1791000.0</td>\n",
              "      <td>1807106.0</td>\n",
              "      <td>1818117.0</td>\n",
              "      <td>1812771.0</td>\n",
              "      <td>1788196.0</td>\n",
              "      <td>1777557.0</td>\n",
              "      <td>1791003.0</td>\n",
              "      <td>1797085.0</td>\n",
              "      <td>1788878.0</td>\n",
              "      <td>1775378.0</td>\n",
              "    </tr>\n",
              "    <tr>\n",
              "      <th>Yemen, Rep.</th>\n",
              "      <td>5315351.0</td>\n",
              "      <td>5393034.0</td>\n",
              "      <td>5473671.0</td>\n",
              "      <td>5556767.0</td>\n",
              "      <td>5641598.0</td>\n",
              "      <td>5727745.0</td>\n",
              "      <td>5816241.0</td>\n",
              "      <td>5907873.0</td>\n",
              "      <td>6001858.0</td>\n",
              "      <td>6097042.0</td>\n",
              "      <td>...</td>\n",
              "      <td>23807586.0</td>\n",
              "      <td>24473176.0</td>\n",
              "      <td>25147112.0</td>\n",
              "      <td>25823488.0</td>\n",
              "      <td>26497881.0</td>\n",
              "      <td>27168210.0</td>\n",
              "      <td>27834811.0</td>\n",
              "      <td>28498683.0</td>\n",
              "      <td>29161922.0</td>\n",
              "      <td>29825968.0</td>\n",
              "    </tr>\n",
              "    <tr>\n",
              "      <th>South Africa</th>\n",
              "      <td>17099836.0</td>\n",
              "      <td>17524533.0</td>\n",
              "      <td>17965733.0</td>\n",
              "      <td>18423157.0</td>\n",
              "      <td>18896303.0</td>\n",
              "      <td>19384838.0</td>\n",
              "      <td>19888259.0</td>\n",
              "      <td>20406863.0</td>\n",
              "      <td>20942147.0</td>\n",
              "      <td>21496075.0</td>\n",
              "      <td>...</td>\n",
              "      <td>52003759.0</td>\n",
              "      <td>52832659.0</td>\n",
              "      <td>53687125.0</td>\n",
              "      <td>54544184.0</td>\n",
              "      <td>55386369.0</td>\n",
              "      <td>56207649.0</td>\n",
              "      <td>57009751.0</td>\n",
              "      <td>57792520.0</td>\n",
              "      <td>58558267.0</td>\n",
              "      <td>59308690.0</td>\n",
              "    </tr>\n",
              "    <tr>\n",
              "      <th>Zambia</th>\n",
              "      <td>3070780.0</td>\n",
              "      <td>3164330.0</td>\n",
              "      <td>3260645.0</td>\n",
              "      <td>3360099.0</td>\n",
              "      <td>3463211.0</td>\n",
              "      <td>3570466.0</td>\n",
              "      <td>3681953.0</td>\n",
              "      <td>3797877.0</td>\n",
              "      <td>3918872.0</td>\n",
              "      <td>4045740.0</td>\n",
              "      <td>...</td>\n",
              "      <td>14023199.0</td>\n",
              "      <td>14465148.0</td>\n",
              "      <td>14926551.0</td>\n",
              "      <td>15399793.0</td>\n",
              "      <td>15879370.0</td>\n",
              "      <td>16363449.0</td>\n",
              "      <td>16853608.0</td>\n",
              "      <td>17351714.0</td>\n",
              "      <td>17861034.0</td>\n",
              "      <td>18383956.0</td>\n",
              "    </tr>\n",
              "    <tr>\n",
              "      <th>Zimbabwe</th>\n",
              "      <td>3776679.0</td>\n",
              "      <td>3905038.0</td>\n",
              "      <td>4039209.0</td>\n",
              "      <td>4178726.0</td>\n",
              "      <td>4322854.0</td>\n",
              "      <td>4471178.0</td>\n",
              "      <td>4623340.0</td>\n",
              "      <td>4779825.0</td>\n",
              "      <td>4941901.0</td>\n",
              "      <td>5111326.0</td>\n",
              "      <td>...</td>\n",
              "      <td>12894323.0</td>\n",
              "      <td>13115149.0</td>\n",
              "      <td>13350378.0</td>\n",
              "      <td>13586710.0</td>\n",
              "      <td>13814642.0</td>\n",
              "      <td>14030338.0</td>\n",
              "      <td>14236599.0</td>\n",
              "      <td>14438812.0</td>\n",
              "      <td>14645473.0</td>\n",
              "      <td>14862927.0</td>\n",
              "    </tr>\n",
              "  </tbody>\n",
              "</table>\n",
              "<p>5 rows × 61 columns</p>\n",
              "</div>\n",
              "      <button class=\"colab-df-convert\" onclick=\"convertToInteractive('df-529bae59-dafe-43cf-a328-6b6bd9ad72a0')\"\n",
              "              title=\"Convert this dataframe to an interactive table.\"\n",
              "              style=\"display:none;\">\n",
              "        \n",
              "  <svg xmlns=\"http://www.w3.org/2000/svg\" height=\"24px\"viewBox=\"0 0 24 24\"\n",
              "       width=\"24px\">\n",
              "    <path d=\"M0 0h24v24H0V0z\" fill=\"none\"/>\n",
              "    <path d=\"M18.56 5.44l.94 2.06.94-2.06 2.06-.94-2.06-.94-.94-2.06-.94 2.06-2.06.94zm-11 1L8.5 8.5l.94-2.06 2.06-.94-2.06-.94L8.5 2.5l-.94 2.06-2.06.94zm10 10l.94 2.06.94-2.06 2.06-.94-2.06-.94-.94-2.06-.94 2.06-2.06.94z\"/><path d=\"M17.41 7.96l-1.37-1.37c-.4-.4-.92-.59-1.43-.59-.52 0-1.04.2-1.43.59L10.3 9.45l-7.72 7.72c-.78.78-.78 2.05 0 2.83L4 21.41c.39.39.9.59 1.41.59.51 0 1.02-.2 1.41-.59l7.78-7.78 2.81-2.81c.8-.78.8-2.07 0-2.86zM5.41 20L4 18.59l7.72-7.72 1.47 1.35L5.41 20z\"/>\n",
              "  </svg>\n",
              "      </button>\n",
              "      \n",
              "  <style>\n",
              "    .colab-df-container {\n",
              "      display:flex;\n",
              "      flex-wrap:wrap;\n",
              "      gap: 12px;\n",
              "    }\n",
              "\n",
              "    .colab-df-convert {\n",
              "      background-color: #E8F0FE;\n",
              "      border: none;\n",
              "      border-radius: 50%;\n",
              "      cursor: pointer;\n",
              "      display: none;\n",
              "      fill: #1967D2;\n",
              "      height: 32px;\n",
              "      padding: 0 0 0 0;\n",
              "      width: 32px;\n",
              "    }\n",
              "\n",
              "    .colab-df-convert:hover {\n",
              "      background-color: #E2EBFA;\n",
              "      box-shadow: 0px 1px 2px rgba(60, 64, 67, 0.3), 0px 1px 3px 1px rgba(60, 64, 67, 0.15);\n",
              "      fill: #174EA6;\n",
              "    }\n",
              "\n",
              "    [theme=dark] .colab-df-convert {\n",
              "      background-color: #3B4455;\n",
              "      fill: #D2E3FC;\n",
              "    }\n",
              "\n",
              "    [theme=dark] .colab-df-convert:hover {\n",
              "      background-color: #434B5C;\n",
              "      box-shadow: 0px 1px 3px 1px rgba(0, 0, 0, 0.15);\n",
              "      filter: drop-shadow(0px 1px 2px rgba(0, 0, 0, 0.3));\n",
              "      fill: #FFFFFF;\n",
              "    }\n",
              "  </style>\n",
              "\n",
              "      <script>\n",
              "        const buttonEl =\n",
              "          document.querySelector('#df-529bae59-dafe-43cf-a328-6b6bd9ad72a0 button.colab-df-convert');\n",
              "        buttonEl.style.display =\n",
              "          google.colab.kernel.accessAllowed ? 'block' : 'none';\n",
              "\n",
              "        async function convertToInteractive(key) {\n",
              "          const element = document.querySelector('#df-529bae59-dafe-43cf-a328-6b6bd9ad72a0');\n",
              "          const dataTable =\n",
              "            await google.colab.kernel.invokeFunction('convertToInteractive',\n",
              "                                                     [key], {});\n",
              "          if (!dataTable) return;\n",
              "\n",
              "          const docLinkHtml = 'Like what you see? Visit the ' +\n",
              "            '<a target=\"_blank\" href=https://colab.research.google.com/notebooks/data_table.ipynb>data table notebook</a>'\n",
              "            + ' to learn more about interactive tables.';\n",
              "          element.innerHTML = '';\n",
              "          dataTable['output_type'] = 'display_data';\n",
              "          await google.colab.output.renderOutput(dataTable, element);\n",
              "          const docLink = document.createElement('div');\n",
              "          docLink.innerHTML = docLinkHtml;\n",
              "          element.appendChild(docLink);\n",
              "        }\n",
              "      </script>\n",
              "    </div>\n",
              "  </div>\n",
              "  "
            ]
          },
          "metadata": {},
          "execution_count": 220
        }
      ]
    },
    {
      "cell_type": "markdown",
      "source": [
        "## Scaling (standardizing)"
      ],
      "metadata": {
        "id": "ECklmt0UsHz7"
      }
    },
    {
      "cell_type": "markdown",
      "source": [
        "*Standardize the data: you are working with time series so you want each datapoint (=each country) to be mean 0 and standard deviaion 1 along the rows (that is axis 1)\n",
        "\n",
        "You can use the `preprocessing.scale` function. Make sure you check! you want eavery country mean to be 0 and every country standard deviation to be 1.*"
      ],
      "metadata": {
        "id": "XpCqMFKtWnTQ"
      }
    },
    {
      "cell_type": "code",
      "source": [
        "# current standard deviations\n",
        "pop_df_clean.std(axis=1)"
      ],
      "metadata": {
        "colab": {
          "base_uri": "https://localhost:8080/"
        },
        "id": "BP4r97DRbXyZ",
        "outputId": "67688cbc-ba6a-4503-ee86-4c76a10defad"
      },
      "execution_count": 221,
      "outputs": [
        {
          "output_type": "execute_result",
          "data": {
            "text/plain": [
              "Country Name\n",
              "Aruba                          1.949524e+04\n",
              "Africa Eastern and Southern    1.601030e+08\n",
              "Afghanistan                    9.027728e+06\n",
              "Africa Western and Central     1.062335e+08\n",
              "Angola                         8.121128e+06\n",
              "                                   ...     \n",
              "Kosovo                         3.068811e+05\n",
              "Yemen, Rep.                    7.742207e+06\n",
              "South Africa                   1.297606e+07\n",
              "Zambia                         4.396429e+06\n",
              "Zimbabwe                       3.404663e+06\n",
              "Length: 262, dtype: float64"
            ]
          },
          "metadata": {},
          "execution_count": 221
        }
      ]
    },
    {
      "cell_type": "code",
      "source": [
        "# current means\n",
        "pop_df_clean.mean(axis=1)"
      ],
      "metadata": {
        "colab": {
          "base_uri": "https://localhost:8080/"
        },
        "id": "b6rny4KodP-g",
        "outputId": "39bb24a1-2c4b-441c-c24b-23a12280f5b9"
      },
      "execution_count": 222,
      "outputs": [
        {
          "output_type": "execute_result",
          "data": {
            "text/plain": [
              "Country Name\n",
              "Aruba                          7.676846e+04\n",
              "Africa Eastern and Southern    3.363310e+08\n",
              "Afghanistan                    1.869939e+07\n",
              "Africa Western and Central     2.287737e+08\n",
              "Angola                         1.413545e+07\n",
              "                                   ...     \n",
              "Kosovo                         1.595687e+06\n",
              "Yemen, Rep.                    1.400506e+07\n",
              "South Africa                   3.699079e+07\n",
              "Zambia                         8.775118e+06\n",
              "Zimbabwe                       9.491677e+06\n",
              "Length: 262, dtype: float64"
            ]
          },
          "metadata": {},
          "execution_count": 222
        }
      ]
    },
    {
      "cell_type": "code",
      "source": [
        "# doing the preprocessing!\n",
        "pop_standard = preprocessing.scale(pop_df_clean, axis=1)"
      ],
      "metadata": {
        "colab": {
          "base_uri": "https://localhost:8080/"
        },
        "id": "MHjV6Ujkdqpl",
        "outputId": "4aa524e9-7b5b-49c5-e6da-72972fecc4f7"
      },
      "execution_count": 224,
      "outputs": [
        {
          "output_type": "stream",
          "name": "stderr",
          "text": [
            "/usr/local/lib/python3.7/dist-packages/sklearn/preprocessing/_data.py:236: UserWarning: Numerical issues were encountered when centering the data and might not be solved. Dataset may contain too large values. You may need to prescale your features.\n",
            "  \"Numerical issues were encountered \"\n"
          ]
        }
      ]
    },
    {
      "cell_type": "code",
      "source": [
        "# this step was to help Liz troubleshoot\n",
        "pop_standard"
      ],
      "metadata": {
        "colab": {
          "base_uri": "https://localhost:8080/"
        },
        "id": "CDVI-4S1JuOi",
        "outputId": "b8806e45-9b75-4bc4-f239-40af07cde7b0"
      },
      "execution_count": 262,
      "outputs": [
        {
          "output_type": "execute_result",
          "data": {
            "text/plain": [
              "array([[-1.16683255, -1.10342353, -1.06204733, ...,  1.50389765,\n",
              "         1.52789585,  1.55148028],\n",
              "       [-1.29416451, -1.27323674, -1.25147869, ...,  1.93191198,\n",
              "         2.03869861,  2.14700229],\n",
              "       [-1.08365543, -1.06439588, -1.04406444, ...,  2.06318006,\n",
              "         2.16033116,  2.25935293],\n",
              "       ...,\n",
              "       [-1.54561724, -1.51261636, -1.47833313, ...,  1.61638842,\n",
              "         1.67589043,  1.73420169],\n",
              "       [-1.30826109, -1.28680587, -1.26471651, ...,  1.9669992 ,\n",
              "         2.08380917,  2.2037387 ],\n",
              "       [-1.69251013, -1.65449631, -1.61476125, ...,  1.46510587,\n",
              "         1.52630902,  1.59070854]])"
            ]
          },
          "metadata": {},
          "execution_count": 262
        }
      ]
    },
    {
      "cell_type": "markdown",
      "source": [
        "How would you do this the long way like in class?"
      ],
      "metadata": {
        "id": "z3AN1m-OgFQ4"
      }
    },
    {
      "cell_type": "code",
      "source": [
        "# new mean is basically 0\n",
        "pop_standard.mean()"
      ],
      "metadata": {
        "colab": {
          "base_uri": "https://localhost:8080/"
        },
        "id": "crlhnUTcgE_8",
        "outputId": "a390222e-386c-48ef-f995-f1183ec9ea51"
      },
      "execution_count": 197,
      "outputs": [
        {
          "output_type": "execute_result",
          "data": {
            "text/plain": [
              "-1.1381487946100966e-16"
            ]
          },
          "metadata": {},
          "execution_count": 197
        }
      ]
    },
    {
      "cell_type": "code",
      "source": [
        "# new standard deviation is 1\n",
        "pop_standard.std()"
      ],
      "metadata": {
        "colab": {
          "base_uri": "https://localhost:8080/"
        },
        "id": "nhiqbJ3YgMqr",
        "outputId": "a804d0cb-78a1-4f73-e471-ef6aa7853036"
      },
      "execution_count": 195,
      "outputs": [
        {
          "output_type": "execute_result",
          "data": {
            "text/plain": [
              "1.0"
            ]
          },
          "metadata": {},
          "execution_count": 195
        }
      ]
    },
    {
      "cell_type": "markdown",
      "source": [
        "## Visualize the data\n",
        "\n",
        "make a plot of the time series before scaling, and after scaling. What do you see in the scaled version that was lost before? Dont forget to write a caption!"
      ],
      "metadata": {
        "id": "NFW26fU2W-Es"
      }
    },
    {
      "cell_type": "code",
      "source": [
        "# looking at the data\n",
        "fig, ax = pl.subplots(1,2, figsize=(12,6))\n",
        "pop_df_clean.T.plot(legend=False, ax=ax[0])\n",
        "ax[1].plot(pop_standard.T, color=\"k\", alpha=0.2)\n",
        "\n",
        "ax[0].set_xlabel(\"year\")\n",
        "ax[0].set_ylabel(\"population\")\n",
        "ax[0].set_xticks\n",
        "ax[1].set_xlabel(\"year\")\n",
        "ax[1].set_ylabel(\"standardized population\")\n",
        "ax[1].set_xticks(range(0,70,10))\n",
        "ax[1].set_xticklabels([\"%d\"%i for i in range(1960, 2030, 10)], fontsize=14);"
      ],
      "metadata": {
        "colab": {
          "base_uri": "https://localhost:8080/",
          "height": 421
        },
        "id": "n1MFmsMdo1K_",
        "outputId": "c29e27bb-3206-4851-cf2a-02c813b42b40"
      },
      "execution_count": 273,
      "outputs": [
        {
          "output_type": "display_data",
          "data": {
            "text/plain": [
              "<Figure size 864x432 with 2 Axes>"
            ],
            "image/png": "[encoded data removed]"
          },
          "metadata": {
            "needs_background": "light"
          }
        }
      ]
    },
    {
      "cell_type": "markdown",
      "source": [
        "Fig. 1:..."
      ],
      "metadata": {
        "id": "XPOj1sJUo7_o"
      }
    },
    {
      "cell_type": "markdown",
      "source": [
        "# Make a cluster model with KMeans\n",
        "Use kmeans (`sklearn.cluster.KMeans`) to cluster the data. Make 9 models for number of clusters = 2, 3, 4, 5, 6, 7, 8, 9, 10. \n",
        "\n",
        "For each model, fit the data and calculate the \"inertia\" which is "
      ],
      "metadata": {
        "id": "7TFviquAx1TF"
      }
    },
    {
      "cell_type": "code",
      "source": [
        "#2-cluster Model\n",
        "model = cluster.KMeans(n_clusters = 2)\n",
        "model.fit(pop_standard)\n",
        "model.inertia_"
      ],
      "metadata": {
        "colab": {
          "base_uri": "https://localhost:8080/"
        },
        "id": "XnZkprj39wYb",
        "outputId": "69bdb983-528d-406b-c40d-c42d18d2de8f"
      },
      "execution_count": 233,
      "outputs": [
        {
          "output_type": "execute_result",
          "data": {
            "text/plain": [
              "1249.5287124898719"
            ]
          },
          "metadata": {},
          "execution_count": 233
        }
      ]
    },
    {
      "cell_type": "code",
      "source": [
        "#3-cluster Model\n",
        "model = cluster.KMeans(n_clusters = 3)\n",
        "model.fit(pop_standard)\n",
        "model.inertia_"
      ],
      "metadata": {
        "colab": {
          "base_uri": "https://localhost:8080/"
        },
        "id": "BKBJiIsV_qcm",
        "outputId": "d5054fb5-b0c1-4445-fe87-8b30e75c2573"
      },
      "execution_count": 234,
      "outputs": [
        {
          "output_type": "execute_result",
          "data": {
            "text/plain": [
              "846.602551696185"
            ]
          },
          "metadata": {},
          "execution_count": 234
        }
      ]
    },
    {
      "cell_type": "code",
      "source": [
        "#4-cluster Model\n",
        "model = cluster.KMeans(n_clusters = 4)\n",
        "model.fit(pop_standard)\n",
        "model.inertia_"
      ],
      "metadata": {
        "colab": {
          "base_uri": "https://localhost:8080/"
        },
        "id": "aCR6bTlR_vBO",
        "outputId": "0ee77b72-0a31-43e0-8f02-6524b51c1915"
      },
      "execution_count": 235,
      "outputs": [
        {
          "output_type": "execute_result",
          "data": {
            "text/plain": [
              "642.5573192964408"
            ]
          },
          "metadata": {},
          "execution_count": 235
        }
      ]
    },
    {
      "cell_type": "code",
      "source": [
        "#5-cluster Model\n",
        "model = cluster.KMeans(n_clusters = 5)\n",
        "model.fit(pop_standard)\n",
        "model.inertia_"
      ],
      "metadata": {
        "colab": {
          "base_uri": "https://localhost:8080/"
        },
        "id": "rdjPrmkL_zve",
        "outputId": "d6f698ed-ceda-4c40-e39e-c05a6c306fd3"
      },
      "execution_count": 238,
      "outputs": [
        {
          "output_type": "execute_result",
          "data": {
            "text/plain": [
              "561.2284111940547"
            ]
          },
          "metadata": {},
          "execution_count": 238
        }
      ]
    },
    {
      "cell_type": "code",
      "source": [
        "#6-cluster Model\n",
        "model = cluster.KMeans(n_clusters = 6)\n",
        "model.fit(pop_standard)\n",
        "model.inertia_"
      ],
      "metadata": {
        "colab": {
          "base_uri": "https://localhost:8080/"
        },
        "id": "HJBB9V9L_sbe",
        "outputId": "ee293938-c404-4eed-c710-5d8065976206"
      },
      "execution_count": 239,
      "outputs": [
        {
          "output_type": "execute_result",
          "data": {
            "text/plain": [
              "487.6079044788718"
            ]
          },
          "metadata": {},
          "execution_count": 239
        }
      ]
    },
    {
      "cell_type": "code",
      "source": [
        "#7-cluster model\n",
        "model = cluster.KMeans(n_clusters = 7)\n",
        "model.fit(pop_standard)\n",
        "model.inertia_"
      ],
      "metadata": {
        "colab": {
          "base_uri": "https://localhost:8080/"
        },
        "id": "smCBGNksAKua",
        "outputId": "e16b2e06-8109-4c0c-e295-5784f74bea7c"
      },
      "execution_count": 240,
      "outputs": [
        {
          "output_type": "execute_result",
          "data": {
            "text/plain": [
              "423.9379610827915"
            ]
          },
          "metadata": {},
          "execution_count": 240
        }
      ]
    },
    {
      "cell_type": "code",
      "source": [
        "#8-cluster model\n",
        "model = cluster.KMeans(n_clusters = 7)\n",
        "model.fit(pop_standard)\n",
        "model.inertia_"
      ],
      "metadata": {
        "colab": {
          "base_uri": "https://localhost:8080/"
        },
        "id": "-3XGz21xCJLE",
        "outputId": "b03ef906-fbb7-4eac-d7c2-7af4ba8cd120"
      },
      "execution_count": 241,
      "outputs": [
        {
          "output_type": "execute_result",
          "data": {
            "text/plain": [
              "421.72005823352316"
            ]
          },
          "metadata": {},
          "execution_count": 241
        }
      ]
    },
    {
      "cell_type": "code",
      "source": [
        "#9-cluster model\n",
        "model = cluster.KMeans(n_clusters = 9)\n",
        "model.fit(pop_standard)\n",
        "model.inertia_"
      ],
      "metadata": {
        "colab": {
          "base_uri": "https://localhost:8080/"
        },
        "id": "R7NPh83-CLIg",
        "outputId": "34fc412d-5086-4ca7-8bca-d7ae4af1331e"
      },
      "execution_count": 242,
      "outputs": [
        {
          "output_type": "execute_result",
          "data": {
            "text/plain": [
              "341.3170606660867"
            ]
          },
          "metadata": {},
          "execution_count": 242
        }
      ]
    },
    {
      "cell_type": "code",
      "source": [
        "#10-cluster model\n",
        "model = cluster.KMeans(n_clusters = 10)\n",
        "model.fit(pop_standard)\n",
        "model.inertia_"
      ],
      "metadata": {
        "colab": {
          "base_uri": "https://localhost:8080/"
        },
        "id": "pLvQKz0bCOWs",
        "outputId": "324639bf-51cf-4792-9763-81325030c473"
      },
      "execution_count": 243,
      "outputs": [
        {
          "output_type": "execute_result",
          "data": {
            "text/plain": [
              "319.7137156595737"
            ]
          },
          "metadata": {},
          "execution_count": 243
        }
      ]
    },
    {
      "cell_type": "markdown",
      "source": [
        "# Using an elbow plot to figure out ideal cluster _n_ "
      ],
      "metadata": {
        "id": "nheWixL-E-hY"
      }
    },
    {
      "cell_type": "markdown",
      "source": [
        "Using the \"inertia\" (intracluster variance essentially) to make an elbow plot to choose cluster n.\n",
        "I used this website to figure out the code and mostly(?) understand what I was doing: https://stackabuse.com/k-means-clustering-with-scikit-learn/"
      ],
      "metadata": {
        "id": "TaoNNlCOCo4Z"
      }
    },
    {
      "cell_type": "code",
      "source": [
        "#broke this down into a list first based on an online example. I also changed\n",
        "#the range to 2-11 to match the clusters above.\n",
        "inertia = []\n",
        "for i in range(2, 11): \n",
        "  kmeans = cluster.KMeans(n_clusters = i)\n",
        "  kmeans.fit(pop_standard)\n",
        "  inertia.append(kmeans.inertia_)\n",
        "inertia"
      ],
      "metadata": {
        "colab": {
          "base_uri": "https://localhost:8080/"
        },
        "id": "A_Ib03xCBhD6",
        "outputId": "42fe756a-f033-44c0-bda0-2da67565896b"
      },
      "execution_count": 279,
      "outputs": [
        {
          "output_type": "execute_result",
          "data": {
            "text/plain": [
              "[1249.5287124898719,\n",
              " 846.602551696185,\n",
              " 642.5573192964408,\n",
              " 561.2284111940547,\n",
              " 487.0693567314296,\n",
              " 421.329495685873,\n",
              " 373.6960589446374,\n",
              " 345.60321614800176,\n",
              " 320.7744200201663]"
            ]
          },
          "metadata": {},
          "execution_count": 279
        }
      ]
    },
    {
      "cell_type": "markdown",
      "source": [
        "# Figure 2: \"Elbow plot\" of k-means clustering of our time series.\n",
        "\n"
      ],
      "metadata": {
        "id": "ZCs_FcX5NMNp"
      }
    },
    {
      "cell_type": "code",
      "source": [
        "inertia = []\n",
        "for i in range(1, 10): \n",
        "  kmeans = cluster.KMeans(n_clusters = i)\n",
        "  kmeans.fit(pop_standard)\n",
        "  inertia.append(kmeans.inertia_)\n",
        "pl.plot(range(1, 10), inertia)\n",
        "pl.xlabel(\"Number of Clusters\")\n",
        "pl.ylabel(\"Inertia/Variance\");"
      ],
      "metadata": {
        "colab": {
          "base_uri": "https://localhost:8080/",
          "height": 295
        },
        "id": "9mAreRtgIPRV",
        "outputId": "4d49bad2-3441-42cd-b03d-059961e1ee7e"
      },
      "execution_count": 284,
      "outputs": [
        {
          "output_type": "display_data",
          "data": {
            "text/plain": [
              "<Figure size 432x288 with 1 Axes>"
            ],
            "image/png": "[encoded data removed]"
          },
          "metadata": {
            "needs_background": "light"
          }
        }
      ]
    },
    {
      "cell_type": "markdown",
      "source": [
        "I realized my plot didn't look like Fed's with the given range. But changing the range to 1,10 made it the same as hers.\n",
        "Y axis: sum of squared distances to the closet centroid (\"inertia\" in scikit, \"variance\" in Fedkit).\n",
        "The preferred number of clusters is where the inertia/variance dramatically drops. There isn't an obvious point between 3 and 5. I would use 3 to be *~different*~ from Fed, but that is too small, and 5 seems too similar to 4. So 4 it is!"
      ],
      "metadata": {
        "id": "4youroBMN5wG"
      }
    },
    {
      "cell_type": "markdown",
      "source": [
        "## Plotting data for my 4-cluster model"
      ],
      "metadata": {
        "id": "ZCCHUf9DZev9"
      }
    },
    {
      "cell_type": "code",
      "source": [
        "# time for a k-means cluster!!\n",
        "c = cluster.KMeans(n_clusters = 4)\n",
        "c.fit(pop_standard)\n",
        "label_ = c.fit_predict(pop_standard)"
      ],
      "metadata": {
        "id": "55La_9sSdsbY"
      },
      "execution_count": 303,
      "outputs": []
    },
    {
      "cell_type": "code",
      "source": [
        "label_"
      ],
      "metadata": {
        "colab": {
          "base_uri": "https://localhost:8080/"
        },
        "id": "HjxknaSCgtJI",
        "outputId": "8b65e0a1-ba61-478c-bb5e-9064dcb35f6a"
      },
      "execution_count": 304,
      "outputs": [
        {
          "output_type": "execute_result",
          "data": {
            "text/plain": [
              "array([0, 0, 0, 0, 0, 1, 2, 0, 0, 2, 1, 2, 0, 0, 0, 2, 0, 0, 0, 0, 2, 3,\n",
              "       0, 2, 3, 1, 0, 2, 0, 2, 2, 2, 2, 2, 2, 2, 1, 0, 2, 2, 2, 0, 0, 0,\n",
              "       0, 2, 0, 0, 2, 2, 1, 1, 0, 0, 1, 2, 2, 1, 0, 2, 2, 2, 2, 2, 2, 2,\n",
              "       2, 0, 2, 2, 3, 0, 2, 0, 2, 2, 2, 1, 2, 0, 0, 3, 0, 2, 0, 0, 0, 0,\n",
              "       2, 0, 1, 0, 2, 1, 2, 2, 0, 0, 3, 0, 3, 2, 2, 0, 0, 2, 0, 2, 2, 0,\n",
              "       2, 0, 0, 0, 2, 2, 0, 1, 1, 0, 2, 0, 0, 0, 2, 2, 0, 0, 0, 2, 2, 2,\n",
              "       0, 0, 2, 2, 2, 2, 2, 2, 3, 0, 3, 0, 2, 2, 0, 1, 0, 0, 0, 2, 2, 2,\n",
              "       1, 0, 0, 2, 2, 1, 2, 2, 0, 0, 2, 0, 0, 2, 0, 2, 0, 0, 2, 2, 0, 2,\n",
              "       2, 0, 2, 0, 0, 0, 0, 2, 2, 2, 0, 1, 0, 1, 2, 2, 2, 2, 2, 2, 0, 3,\n",
              "       1, 0, 2, 0, 0, 0, 0, 0, 0, 2, 2, 0, 1, 0, 0, 0, 0, 0, 0, 1, 1, 0,\n",
              "       2, 2, 2, 2, 0, 0, 2, 2, 0, 2, 0, 2, 2, 0, 2, 1, 2, 0, 2, 2, 2, 2,\n",
              "       0, 0, 3, 2, 2, 2, 2, 1, 2, 0, 1, 2, 0, 2, 2, 1, 0, 2, 0, 2],\n",
              "      dtype=int32)"
            ]
          },
          "metadata": {},
          "execution_count": 304
        }
      ]
    },
    {
      "cell_type": "markdown",
      "source": [
        "## Figure 3: Plot of each cluster in a 4-cluster model"
      ],
      "metadata": {
        "id": "w4x3plYYtIk-"
      }
    },
    {
      "cell_type": "markdown",
      "source": [
        "This is where I absolutely could not figure out how to get the plots to work. I understand the concept and maybe if my brain were fresher, I could figure out the code, but I only made a little progress. Every example I could find was with scatterplots, though some of them helped get a little closer. I couldn't build from here."
      ],
      "metadata": {
        "id": "ssrrpmQevMyd"
      }
    },
    {
      "cell_type": "code",
      "source": [
        "fig,ax = pl.subplots(2,2, figsize=(12,14))\n",
        "\n",
        "\n",
        "ax[0,0].set_title(\"Cluster 1\")\n",
        "ax[0,0].set_xticks(range(0,70,10))\n",
        "ax[0,0].set_xticklabels([\"%d\"%i for i in range(1960, 2030, 10)]);\n",
        "ax[0,0].plot(pop_standard[label_ == 0].T, \"k\", alpha=0.2);\n",
        "ax[0,0].plot(c[0][0], color=\"hotpink\")"
      ],
      "metadata": {
        "colab": {
          "base_uri": "https://localhost:8080/",
          "height": 1000
        },
        "id": "pvDVZHHfVsaf",
        "outputId": "d30b1c17-7e37-4e9f-bf26-07d96a3abf3e"
      },
      "execution_count": 314,
      "outputs": [
        {
          "output_type": "error",
          "ename": "TypeError",
          "evalue": "ignored",
          "traceback": [
            "\u001b[0;31m---------------------------------------------------------------------------\u001b[0m",
            "\u001b[0;31mTypeError\u001b[0m                                 Traceback (most recent call last)",
            "\u001b[0;32m<ipython-input-314-b2aa29c3b1e9>\u001b[0m in \u001b[0;36m<module>\u001b[0;34m\u001b[0m\n\u001b[1;32m      6\u001b[0m \u001b[0max\u001b[0m\u001b[0;34m[\u001b[0m\u001b[0;36m0\u001b[0m\u001b[0;34m,\u001b[0m\u001b[0;36m0\u001b[0m\u001b[0;34m]\u001b[0m\u001b[0;34m.\u001b[0m\u001b[0mset_xticklabels\u001b[0m\u001b[0;34m(\u001b[0m\u001b[0;34m[\u001b[0m\u001b[0;34m\"%d\"\u001b[0m\u001b[0;34m%\u001b[0m\u001b[0mi\u001b[0m \u001b[0;32mfor\u001b[0m \u001b[0mi\u001b[0m \u001b[0;32min\u001b[0m \u001b[0mrange\u001b[0m\u001b[0;34m(\u001b[0m\u001b[0;36m1960\u001b[0m\u001b[0;34m,\u001b[0m \u001b[0;36m2030\u001b[0m\u001b[0;34m,\u001b[0m \u001b[0;36m10\u001b[0m\u001b[0;34m)\u001b[0m\u001b[0;34m]\u001b[0m\u001b[0;34m)\u001b[0m\u001b[0;34m;\u001b[0m\u001b[0;34m\u001b[0m\u001b[0;34m\u001b[0m\u001b[0m\n\u001b[1;32m      7\u001b[0m \u001b[0max\u001b[0m\u001b[0;34m[\u001b[0m\u001b[0;36m0\u001b[0m\u001b[0;34m,\u001b[0m\u001b[0;36m0\u001b[0m\u001b[0;34m]\u001b[0m\u001b[0;34m.\u001b[0m\u001b[0mplot\u001b[0m\u001b[0;34m(\u001b[0m\u001b[0mpop_standard\u001b[0m\u001b[0;34m[\u001b[0m\u001b[0mlabel_\u001b[0m \u001b[0;34m==\u001b[0m \u001b[0;36m0\u001b[0m\u001b[0;34m]\u001b[0m\u001b[0;34m.\u001b[0m\u001b[0mT\u001b[0m\u001b[0;34m,\u001b[0m \u001b[0;34m\"k\"\u001b[0m\u001b[0;34m,\u001b[0m \u001b[0malpha\u001b[0m\u001b[0;34m=\u001b[0m\u001b[0;36m0.2\u001b[0m\u001b[0;34m)\u001b[0m\u001b[0;34m;\u001b[0m\u001b[0;34m\u001b[0m\u001b[0;34m\u001b[0m\u001b[0m\n\u001b[0;32m----> 8\u001b[0;31m \u001b[0max\u001b[0m\u001b[0;34m[\u001b[0m\u001b[0;36m0\u001b[0m\u001b[0;34m,\u001b[0m\u001b[0;36m0\u001b[0m\u001b[0;34m]\u001b[0m\u001b[0;34m.\u001b[0m\u001b[0mplot\u001b[0m\u001b[0;34m(\u001b[0m\u001b[0mc\u001b[0m\u001b[0;34m[\u001b[0m\u001b[0;36m0\u001b[0m\u001b[0;34m]\u001b[0m\u001b[0;34m[\u001b[0m\u001b[0;36m0\u001b[0m\u001b[0;34m]\u001b[0m\u001b[0;34m,\u001b[0m \u001b[0mcolor\u001b[0m\u001b[0;34m=\u001b[0m\u001b[0;34m\"hotpink\"\u001b[0m\u001b[0;34m)\u001b[0m\u001b[0;34m\u001b[0m\u001b[0;34m\u001b[0m\u001b[0m\n\u001b[0m",
            "\u001b[0;31mTypeError\u001b[0m: 'KMeans' object is not subscriptable"
          ]
        },
        {
          "output_type": "display_data",
          "data": {
            "text/plain": [
              "<Figure size 864x1008 with 4 Axes>"
            ],
            "image/png": "[encoded data removed]"
          },
          "metadata": {
            "needs_background": "light"
          }
        }
      ]
    },
    {
      "cell_type": "markdown",
      "source": [
        "The below is all Fed's language:\n",
        "\n",
        "*Figure 3: Results of using k-means clustering on the standardized data seen in Figure 1. The mean line for each cluster is visible in pink.\n",
        "\n",
        "Cluster 1 is a a fairly linear upward trend with some outliers and cluster 4 a more curved upward trend. Cluster 2 and cluster 4 have fewer time series; 2 rises steadily before a big drop in the 1990s whereas the countries in 3 kind of hit a plateau around the 1990s.*"
      ],
      "metadata": {
        "id": "pl2IuoBBy9fC"
      }
    },
    {
      "cell_type": "markdown",
      "source": [
        "# How many objects are in each cluster?"
      ],
      "metadata": {
        "id": "E13ZD71j0MiZ"
      }
    },
    {
      "cell_type": "code",
      "metadata": {
        "id": "Kai3mbs6jjT4"
      },
      "source": [
        "for i in range(...):\n",
        "  print (\"total items in cluster {:d}: {:d}\".format(\n",
        "      i+1, np.sum(c[1] == i)))"
      ],
      "execution_count": null,
      "outputs": []
    },
    {
      "cell_type": "markdown",
      "source": [
        "# Identifying the countries in the smallest clusters\n",
        "\n",
        "plot the two smallest clusters with labels for the countries"
      ],
      "metadata": {
        "id": "DBzUB8cv7ssE"
      }
    },
    {
      "cell_type": "markdown",
      "source": [
        "## Figure 4: Countries in the Two Smallest Clusters"
      ],
      "metadata": {
        "id": "xFYvk2Qy7xri"
      }
    },
    {
      "cell_type": "code",
      "source": [
        "fig,ax = pl.subplots(1,2, figsize=(18,10))\n",
        "\n",
        "ax[0].set_title(\"Cluster ...\")\n",
        "ax[0].set_xticks(range(0,70,10))\n",
        "ax[0].set_xticklabels([\"%d\"%i for i in range(1960, 2030, 10)]);\n",
        "ax[0].plot(pop_standard[c[1] == 0 ].T);\n",
        "ax[0].legend(labels=pop_df_clean.loc[c[1] == 1].index)\n",
        "\n",
        "ax[1].set_title(\"Cluster ....\")\n",
        "ax[1].set_xticks(range(0,70,10))\n",
        "ax[1].set_xticklabels([\"%d\"%i for i in range(1960, 2030, 10)]);\n",
        "ax[1].plot(pop_standard[c[1] == 1 ].T);\n",
        "# placing legend method via https://www.delftstack.com/howto/matplotlib/how-to-place-legend-outside-of-the-plot-in-matplotlib/\n",
        "ax[1].legend(labels=pop_df_clean.loc[c[1] == 2].index, bbox_to_anchor=(1.0, 1.0), loc='upper left')\n"
      ],
      "metadata": {
        "colab": {
          "base_uri": "https://localhost:8080/",
          "height": 716
        },
        "id": "xvEEgaBnkJ3R",
        "outputId": "ed62ba4f-e0b2-47a5-fc5d-b5621259ebf1"
      },
      "execution_count": 315,
      "outputs": [
        {
          "output_type": "error",
          "ename": "TypeError",
          "evalue": "ignored",
          "traceback": [
            "\u001b[0;31m---------------------------------------------------------------------------\u001b[0m",
            "\u001b[0;31mTypeError\u001b[0m                                 Traceback (most recent call last)",
            "\u001b[0;32m<ipython-input-315-0dbdc6e12b73>\u001b[0m in \u001b[0;36m<module>\u001b[0;34m\u001b[0m\n\u001b[1;32m      4\u001b[0m \u001b[0max\u001b[0m\u001b[0;34m[\u001b[0m\u001b[0;36m0\u001b[0m\u001b[0;34m]\u001b[0m\u001b[0;34m.\u001b[0m\u001b[0mset_xticks\u001b[0m\u001b[0;34m(\u001b[0m\u001b[0mrange\u001b[0m\u001b[0;34m(\u001b[0m\u001b[0;36m0\u001b[0m\u001b[0;34m,\u001b[0m\u001b[0;36m70\u001b[0m\u001b[0;34m,\u001b[0m\u001b[0;36m10\u001b[0m\u001b[0;34m)\u001b[0m\u001b[0;34m)\u001b[0m\u001b[0;34m\u001b[0m\u001b[0;34m\u001b[0m\u001b[0m\n\u001b[1;32m      5\u001b[0m \u001b[0max\u001b[0m\u001b[0;34m[\u001b[0m\u001b[0;36m0\u001b[0m\u001b[0;34m]\u001b[0m\u001b[0;34m.\u001b[0m\u001b[0mset_xticklabels\u001b[0m\u001b[0;34m(\u001b[0m\u001b[0;34m[\u001b[0m\u001b[0;34m\"%d\"\u001b[0m\u001b[0;34m%\u001b[0m\u001b[0mi\u001b[0m \u001b[0;32mfor\u001b[0m \u001b[0mi\u001b[0m \u001b[0;32min\u001b[0m \u001b[0mrange\u001b[0m\u001b[0;34m(\u001b[0m\u001b[0;36m1960\u001b[0m\u001b[0;34m,\u001b[0m \u001b[0;36m2030\u001b[0m\u001b[0;34m,\u001b[0m \u001b[0;36m10\u001b[0m\u001b[0;34m)\u001b[0m\u001b[0;34m]\u001b[0m\u001b[0;34m)\u001b[0m\u001b[0;34m;\u001b[0m\u001b[0;34m\u001b[0m\u001b[0;34m\u001b[0m\u001b[0m\n\u001b[0;32m----> 6\u001b[0;31m \u001b[0max\u001b[0m\u001b[0;34m[\u001b[0m\u001b[0;36m0\u001b[0m\u001b[0;34m]\u001b[0m\u001b[0;34m.\u001b[0m\u001b[0mplot\u001b[0m\u001b[0;34m(\u001b[0m\u001b[0mpop_standard\u001b[0m\u001b[0;34m[\u001b[0m\u001b[0mc\u001b[0m\u001b[0;34m[\u001b[0m\u001b[0;36m1\u001b[0m\u001b[0;34m]\u001b[0m \u001b[0;34m==\u001b[0m \u001b[0;36m0\u001b[0m \u001b[0;34m]\u001b[0m\u001b[0;34m.\u001b[0m\u001b[0mT\u001b[0m\u001b[0;34m)\u001b[0m\u001b[0;34m;\u001b[0m\u001b[0;34m\u001b[0m\u001b[0;34m\u001b[0m\u001b[0m\n\u001b[0m\u001b[1;32m      7\u001b[0m \u001b[0max\u001b[0m\u001b[0;34m[\u001b[0m\u001b[0;36m0\u001b[0m\u001b[0;34m]\u001b[0m\u001b[0;34m.\u001b[0m\u001b[0mlegend\u001b[0m\u001b[0;34m(\u001b[0m\u001b[0mlabels\u001b[0m\u001b[0;34m=\u001b[0m\u001b[0mpop_df_clean\u001b[0m\u001b[0;34m.\u001b[0m\u001b[0mloc\u001b[0m\u001b[0;34m[\u001b[0m\u001b[0mc\u001b[0m\u001b[0;34m[\u001b[0m\u001b[0;36m1\u001b[0m\u001b[0;34m]\u001b[0m \u001b[0;34m==\u001b[0m \u001b[0;36m1\u001b[0m\u001b[0;34m]\u001b[0m\u001b[0;34m.\u001b[0m\u001b[0mindex\u001b[0m\u001b[0;34m)\u001b[0m\u001b[0;34m\u001b[0m\u001b[0;34m\u001b[0m\u001b[0m\n\u001b[1;32m      8\u001b[0m \u001b[0;34m\u001b[0m\u001b[0m\n",
            "\u001b[0;31mTypeError\u001b[0m: 'KMeans' object is not subscriptable"
          ]
        },
        {
          "output_type": "display_data",
          "data": {
            "text/plain": [
              "<Figure size 1296x720 with 2 Axes>"
            ],
            "image/png": "[encoded data removed]"
          },
          "metadata": {
            "needs_background": "light"
          }
        }
      ]
    },
    {
      "cell_type": "markdown",
      "source": [
        "*Can you do some library research to figure out why those countries may cluster together?*\n",
        "\n",
        "I can once I get the plots to work..."
      ],
      "metadata": {
        "id": "GXTSmlGqtqQh"
      }
    },
    {
      "cell_type": "markdown",
      "source": [
        "# Extra Credit: do it with anothe cluster method, agglomerative clustering or DBScan "
      ],
      "metadata": {
        "id": "0YeAavuc0pi0"
      }
    },
    {
      "cell_type": "code",
      "source": [],
      "metadata": {
        "id": "SFREMqQS0wT4"
      },
      "execution_count": null,
      "outputs": []
    }
  ]
}